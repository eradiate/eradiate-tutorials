{
 "cells": [
  {
   "cell_type": "raw",
   "id": "2e391f99-a4df-45e5-a0b7-b8d45763e1a2",
   "metadata": {
    "raw_mimetype": "text/restructuredtext",
    "tags": []
   },
   "source": [
    "Building abstract canopies\n",
    "==========================\n",
    "\n",
    ".. admonition:: Overview\n",
    "\n",
    "   This tutorial provides an overview of the different ways of specifying abstract canopies, based on floating disks, arranged into different geometric shapes, such as cube, cone and ellipsoid (sphere). Canopies based on triangulated meshes are not covered in this tutorial.\n",
    "\n",
    ".. admonition:: Prerequisites\n",
    "\n",
    "   * Basic knowledge of the Eradiate workflow (see :doc:`../getting_started/eradiate_quickstart`).\n",
    "   * Basic knowledge of Eradiate's 3D features (see :doc:`../getting_started/3d_basics`).\n",
    "\n",
    ".. admonition:: What you will learn\n",
    "\n",
    "   * How to specify canopies and their constituents.\n",
    "\n",
    "----"
   ]
  },
  {
   "cell_type": "markdown",
   "id": "954f5d70-a3b0-43a9-90be-38030cea276d",
   "metadata": {
    "tags": []
   },
   "source": [
    "## Imports\n",
    "\n",
    "As for all tutorials the first step is to import all necessary classes and create aliases for convenience:"
   ]
  },
  {
   "cell_type": "code",
   "execution_count": null,
   "id": "8e8c911a-fecb-4dbb-999f-2ff50489c32f",
   "metadata": {},
   "outputs": [],
   "source": [
    "%load_ext eradiate\n",
    "\n",
    "import numpy as np\n",
    "import matplotlib.pyplot as plt\n",
    "import eradiate\n",
    "eradiate.set_mode(\"mono\")\n",
    "\n",
    "import eradiate.scenes as ertsc\n",
    "from eradiate import unit_registry as ureg"
   ]
  },
  {
   "cell_type": "markdown",
   "id": "2e3725b2-6c6e-4c9e-adf0-cdc2758e39a8",
   "metadata": {},
   "source": [
    "Since we will be performing simulations on scenes without an atmosphere, we select the monochromatic (line-by-line) mode. Next, we set up convenience functions for plotting BRF results and visualising camera renders."
   ]
  },
  {
   "cell_type": "code",
   "execution_count": null,
   "id": "8316e746-bd10-4d98-b1ec-493d77679316",
   "metadata": {},
   "outputs": [],
   "source": [
    "def show_camera(\n",
    "    exp,\n",
    "    measure_id,\n",
    "    robust=True,\n",
    "    add_colorbar=False,\n",
    "    vmin=None,\n",
    "    vmax=None,\n",
    "):\n",
    "    \"\"\"\n",
    "    Display the output of a monochromatic camera measure.\n",
    "    \"\"\"\n",
    "    _, ax = plt.subplots(1,1)\n",
    "    exp.results[measure_id][\"radiance\"].squeeze(drop=True).plot.imshow(\n",
    "        ax=ax,\n",
    "        origin=\"upper\",\n",
    "        cmap=\"Greys_r\",\n",
    "        vmin=vmin,\n",
    "        vmax=vmax,\n",
    "        robust=robust,\n",
    "        add_colorbar=add_colorbar,\n",
    "    )\n",
    "    ax.set_aspect(1)\n",
    "    plt.show()\n",
    "    plt.close()\n",
    "\n",
    "def show_brf(exp, measure_id):\n",
    "    \"\"\"\n",
    "    Display the BRF output of a distant radiance measure.\n",
    "    \"\"\"\n",
    "    _, ax = plt.subplots(1,1)\n",
    "    with plt.style.context({\"lines.linestyle\": \":\", \"lines.marker\": \".\"}):\n",
    "        exp.results[measure_id][\"brf\"].squeeze(drop=True).plot(ax=ax, x=\"vza\")\n",
    "    plt.show()\n",
    "    plt.close()"
   ]
  },
  {
   "cell_type": "raw",
   "id": "0d00fb2a-bb85-4fad-a055-1d414db2734e",
   "metadata": {
    "raw_mimetype": "text/restructuredtext",
    "tags": []
   },
   "source": [
    "Abstract leaf cloud\n",
    "-------------------\n",
    "\n",
    "We start with the scene created in the :doc:`../getting_started/3d_basics` tutorial: a Lambertian surface topped with a an abstract leaf cloud consisting of disks. "
   ]
  },
  {
   "cell_type": "code",
   "execution_count": null,
   "id": "5f29b0b7-43be-48e3-aab7-f3a2b89576f5",
   "metadata": {},
   "outputs": [],
   "source": [
    "lambertian_surface=ertsc.surface.BasicSurface(\n",
    "    shape=ertsc.shapes.RectangleShape(edges=10.0 * ureg.m),\n",
    "    bsdf=ertsc.bsdfs.LambertianBSDF(reflectance=0.5),\n",
    ")\n",
    "\n",
    "homogeneous_canopy = ertsc.biosphere.DiscreteCanopy.homogeneous(\n",
    "    l_vertical=1.0 * ureg.m,\n",
    "    l_horizontal=10.0 * ureg.m,\n",
    "    lai=2.0,\n",
    "    leaf_radius=10 * ureg.cm,\n",
    ")"
   ]
  },
  {
   "cell_type": "markdown",
   "id": "216d4592-eace-45d1-b709-20c3bf514e06",
   "metadata": {},
   "source": [
    "Next, we create a perspective camera to visualise the scene:"
   ]
  },
  {
   "cell_type": "code",
   "execution_count": null,
   "id": "569361b4-4086-4e1d-93a1-59e9c57a169f",
   "metadata": {},
   "outputs": [],
   "source": [
    "camera_oblique = ertsc.measure.PerspectiveCameraMeasure(\n",
    "    id=\"camera_oblique\",\n",
    "    origin=[15, 15, 15] * ureg.m,\n",
    "    target=[0, 0, 0] * ureg.m,\n",
    "    up=[0, 0, 1],\n",
    "    film_resolution=(320, 240),\n",
    "    spp=512,\n",
    ")"
   ]
  },
  {
   "cell_type": "raw",
   "id": "abbd4681-fd54-4349-b7f0-f9fe9dce2f28",
   "metadata": {
    "raw_mimetype": "text/restructuredtext",
    "tags": []
   },
   "source": [
    "Now we create an experiment object. We use the :class:`.CanopyExperiment`, designed to simulate radiative transfer in scenes with 3D canopies without an atmosphere. We leave the illumination unset: it defaults to a directional emitter with at the zenith."
   ]
  },
  {
   "cell_type": "code",
   "execution_count": null,
   "id": "2c7723f0-8480-4b0e-8b0b-843056d0fb02",
   "metadata": {},
   "outputs": [],
   "source": [
    "exp = eradiate.experiments.CanopyExperiment(\n",
    "    surface=ertsc.bsdfs.LambertianBSDF(reflectance=0.5),\n",
    "    canopy=homogeneous_canopy,\n",
    "    measures=camera_oblique,\n",
    ")"
   ]
  },
  {
   "cell_type": "markdown",
   "id": "65dac872-44df-4681-9dd1-d2d6944fc42f",
   "metadata": {},
   "source": [
    "We run the simulation and use the convenience function defined above to visualise the result."
   ]
  },
  {
   "cell_type": "code",
   "execution_count": null,
   "id": "8456017d-6e0a-4b43-81f4-6b27e9aff4dc",
   "metadata": {},
   "outputs": [],
   "source": [
    "eradiate.run(exp)\n",
    "show_camera(exp, \"camera_oblique\")"
   ]
  },
  {
   "cell_type": "raw",
   "id": "92767eb0-9cba-4561-9777-01fc3622ee36",
   "metadata": {
    "raw_mimetype": "text/restructuredtext",
    "tags": []
   },
   "source": [
    "More options\n",
    "------------\n",
    "\n",
    "Eradiate supports more complex geometries for abstract (leaf cloud-based) canopies. This requires a manual initialisation of the :class:`.DiscreteCanopy` object.\n",
    "\n",
    "A :class:`.DiscreteCanopy` instance holds a list of :class:`.InstancedCanopyElement` objects. Each :class:`.InstancedCanopyElement` object contains an explicit canopy element such (*e.g.* a :class:`.LeafCloud` object) and holds list of positions, at which instances (*i.e.* clones) of the canopy element will be created. Cloning several times the same object with this mechanism is cheap.\n",
    "\n",
    "Here,we define a single instance position that positions a spherical leaf cloud above of the surface:"
   ]
  },
  {
   "cell_type": "code",
   "execution_count": null,
   "id": "d5cdfb73-54fc-409a-a412-63f68ac85ba1",
   "metadata": {},
   "outputs": [],
   "source": [
    "spherical_leaf_cloud = ertsc.biosphere.LeafCloud.sphere(\n",
    "    radius = 5.0 * ureg.m,\n",
    "    n_leaves = 10000,\n",
    "    leaf_radius = 10.0 * ureg.cm,\n",
    "    leaf_reflectance=0.5,\n",
    "    leaf_transmittance=0.5,\n",
    ")\n",
    "\n",
    "canopy_sphere = ertsc.biosphere.DiscreteCanopy(\n",
    "    instanced_canopy_elements=ertsc.biosphere.InstancedCanopyElement(\n",
    "        id=\"sphere\",\n",
    "        canopy_element=spherical_leaf_cloud, \n",
    "        instance_positions=[(0, 0, 5.0)] * ureg.m\n",
    "    ),\n",
    "    size=[10.0, 10.0, 10.0] * ureg.m,\n",
    ")"
   ]
  },
  {
   "cell_type": "markdown",
   "id": "31a14a9c-8582-441a-abed-c80f86939e49",
   "metadata": {},
   "source": [
    "Since this canopy has a larger vertical extent, we update our camera parameters so that the canopy fits well within its field of view:"
   ]
  },
  {
   "cell_type": "code",
   "execution_count": null,
   "id": "223fc47b-da6d-4bbe-9742-75a721966b77",
   "metadata": {},
   "outputs": [],
   "source": [
    "camera_oblique = ertsc.measure.PerspectiveCameraMeasure(\n",
    "    id=\"camera_oblique\",\n",
    "    origin=[15, 15, 15] * ureg.m,\n",
    "    target=[0, 0, 3.0] * ureg.m,\n",
    "    up=[0, 0, 1],\n",
    "    film_resolution=(320, 240),\n",
    "    spp=512,\n",
    ")"
   ]
  },
  {
   "cell_type": "markdown",
   "id": "d9d6f3fa-9d92-42dd-9eca-8ff16cb3b0c5",
   "metadata": {},
   "source": [
    "Again, we create an experiment, run it and visualise the results."
   ]
  },
  {
   "cell_type": "code",
   "execution_count": null,
   "id": "7361c160-0a2f-45dd-bc84-3fa11f4fa786",
   "metadata": {},
   "outputs": [],
   "source": [
    "exp = eradiate.experiments.RamiExperiment(\n",
    "    surface=ertsc.bsdfs.LambertianBSDF(reflectance=0.8),\n",
    "    canopy=canopy_sphere,\n",
    "    measures=camera_oblique,\n",
    ")\n",
    "eradiate.run(exp)\n",
    "show_camera(exp, \"camera_oblique\")"
   ]
  },
  {
   "cell_type": "raw",
   "id": "582955b8-e2b6-4056-ad5f-c3ef53addcd0",
   "metadata": {
    "raw_mimetype": "text/restructuredtext",
    "tags": []
   },
   "source": [
    "More kinds of leaf cloud generators are available (see the list in the :class:`.LeafCloud` API reference)."
   ]
  },
  {
   "cell_type": "raw",
   "id": "49a198dc-b66c-46f8-9bfc-cb447462e1bd",
   "metadata": {
    "raw_mimetype": "text/restructuredtext",
    "tags": []
   },
   "source": [
    "Abstract leaf cloud from definition files\n",
    "-----------------------------------------\n",
    "\n",
    ".. warning::\n",
    "\n",
    "   This section will create files on your machine, be sure to change file paths according to your local data structure or move files that might be overwritten!\n",
    "\n",
    "It may be convenient to load leaf positions from a data file, *e.g.* if the canopy specification was created by a third party. For this reason, Eradiate's abstract canopies can be specified from ASCII files. This is done using the :meth:`.DiscreteCanopy.leaf_cloud_from_files` constructor.\n",
    "\n",
    "The input of this method consists of two files:\n",
    "\n",
    "1. The first file specifies the parameters of the leaves (size, orientiation, position) inside the leaf cloud.\n",
    "2. The second file specifies the locations at which leaf cloud instances are positioned (instance positions).\n",
    "\n",
    "The ASCII definition file for the leaf cloud has to be formatted as follows:\n",
    "\n",
    "* one leaf per line;\n",
    "* each line holds seven floating point values:\n",
    "  \n",
    "  * leaf radius (in metres);\n",
    "  * x, y and z coordinates of the leaf centre position (in metres);\n",
    "  * x, y and z coordinates of the leaf normal vector.\n",
    "\n",
    "Let's create a file with 5000 leaves at the root of the current working directory."
   ]
  },
  {
   "cell_type": "code",
   "execution_count": null,
   "id": "b06f4e96-fd69-4163-aadb-4f2009a95034",
   "metadata": {},
   "outputs": [],
   "source": [
    "fname_cloud = \"./tutorial_canopy_definition.txt\"\n",
    "\n",
    "with open(fname_cloud, \"w\") as outfile:\n",
    "    for i in range(5000):\n",
    "        rands = np.random.random(6)\n",
    "        px = (rands[0] - 0.5) * 2 * 2\n",
    "        py = (rands[1] - 0.5) * 2 * 2\n",
    "        pz = (rands[2] - 0.5) * 2 * 2\n",
    "        \n",
    "        nx = (rands[3] - 0.5) * 2\n",
    "        ny = (rands[4] - 0.5) * 2\n",
    "        nz = (rands[5] - 0.5) * 2\n",
    "        \n",
    "        outfile.write(f\"0.05 {px} {py} {pz} {nx} {ny} {nz}\\n\")"
   ]
  },
  {
   "cell_type": "markdown",
   "id": "c759bc28-78e9-41f0-b5a0-107b10ff95f3",
   "metadata": {},
   "source": [
    "The ASCII file for the instance positions simply holds three floating point values per line, which specify the x, y and z coordinates for the instances. Two copies of the leaf cloud positioned diagonally with respect to each other."
   ]
  },
  {
   "cell_type": "code",
   "execution_count": null,
   "id": "5fbc8629-ddeb-413a-9021-a8071f61b7af",
   "metadata": {},
   "outputs": [],
   "source": [
    "fname_instances = \"./tutorial_canopy_instances.txt\"\n",
    "\n",
    "with open(fname_instances, \"w\") as outfile:\n",
    "    outfile.write(\"-2.0 2.0 2.0\\n\")\n",
    "    outfile.write(\"2.0 -2.0 2.0\\n\")"
   ]
  },
  {
   "cell_type": "markdown",
   "id": "ea0ab85c-c585-4641-bb82-d26f4fbc96de",
   "metadata": {},
   "source": [
    "Next, we create a canopy object that uses these definition files:"
   ]
  },
  {
   "cell_type": "code",
   "execution_count": null,
   "id": "9f407139-64c9-4e8a-8b68-3db21de2771c",
   "metadata": {},
   "outputs": [],
   "source": [
    "canopy_files = ertsc.biosphere.DiscreteCanopy.leaf_cloud_from_files(\n",
    "    id=\"leaf_cloud\",\n",
    "    leaf_cloud_dicts = [\n",
    "        {\n",
    "            \"instance_filename\": fname_instances,\n",
    "            \"leaf_cloud_filename\": fname_cloud,\n",
    "            \"leaf_reflectance\": 0.5,\n",
    "            \"leaf_transmittance\": 0.5,\n",
    "            \"sub_id\": \"cube\"\n",
    "        }\n",
    "    ],\n",
    "    size=(8, 8, 4)*ureg.m\n",
    ")"
   ]
  },
  {
   "cell_type": "markdown",
   "id": "9544b33a-a366-4459-934d-255934c9bdfa",
   "metadata": {},
   "source": [
    "We update the camera and run an experiment to display our canopy:"
   ]
  },
  {
   "cell_type": "code",
   "execution_count": null,
   "id": "e202c3a5-1c43-4e3e-8f04-80aacb4b18b8",
   "metadata": {},
   "outputs": [],
   "source": [
    "camera_oblique = ertsc.measure.PerspectiveCameraMeasure(\n",
    "    id=\"camera_oblique\",\n",
    "    origin=[10, 10, 10] * ureg.m,\n",
    "    target=[0, 0, 0.0] * ureg.m,\n",
    "    up=[0, 0, 1],\n",
    "    film_resolution=(640, 480),\n",
    "    spp=128,\n",
    ")\n",
    "\n",
    "exp = eradiate.experiments.RamiExperiment(\n",
    "    surface=ertsc.bsdfs.LambertianBSDF(reflectance=0.8),\n",
    "    canopy=canopy_files,\n",
    "    measures=camera_oblique,\n",
    ")\n",
    "eradiate.run(exp)\n",
    "\n",
    "show_camera(exp, \"camera_oblique\")"
   ]
  },
  {
   "cell_type": "raw",
   "id": "36744a85-c02e-42e8-81dc-44ce625c8f4b",
   "metadata": {
    "raw_mimetype": "text/restructuredtext",
    "tags": []
   },
   "source": [
    "----\n",
    "\n",
    "Final words\n",
    "-----------\n",
    "\n",
    "This tutorial covered the creation of abstract canopies, but Eradiate also supports the specification of canopies using OBJ mesh files. This allows for a more realistic representation of real-world canopies. This will be covered in a dedicated tutorial; until then, interested users are referred to the documentation of the :class:`.MeshTree` class.\n",
    "\n",
    "Further reading\n",
    "---------------\n",
    "\n",
    "* :class:`.CanopyExperiment`\n",
    "* :class:`.DiscreteCanopy`\n",
    "* :class:`.InstancedCanopyElement`\n",
    "* :class:`.LeafCloud`"
   ]
  }
 ],
 "metadata": {
  "kernelspec": {
   "display_name": "Python 3 (ipykernel)",
   "language": "python",
   "name": "python3"
  },
  "language_info": {
   "codemirror_mode": {
    "name": "ipython",
    "version": 3
   },
   "file_extension": ".py",
   "mimetype": "text/x-python",
   "name": "python",
   "nbconvert_exporter": "python",
   "pygments_lexer": "ipython3",
   "version": "3.8.13"
  }
 },
 "nbformat": 4,
 "nbformat_minor": 5
}
