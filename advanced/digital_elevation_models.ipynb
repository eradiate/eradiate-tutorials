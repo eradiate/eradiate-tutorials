{
 "cells": [
  {
   "cell_type": "raw",
   "metadata": {
    "raw_mimetype": "text/restructuredtext",
    "tags": [],
    "vscode": {
     "languageId": "raw"
    }
   },
   "source": [
    "Digital elevation model (DEM) workflows\n",
    "=================================\n",
    "\n",
    ".. admonition:: Overview\n",
    "\n",
    "   In this tutorial we demonstrate how to incorporate DEM data into Eradiate simulations.\n",
    "\n",
    ".. admonition:: Prerequisites\n",
    "\n",
    "   * Basic knowledge of the Eradiate workflow (see :doc:`../getting_started/eradiate_quickstart`).\n",
    "   * Eradiate expert interface\n",
    "\n",
    ".. admonition:: What you will learn\n",
    "\n",
    "   * How to format DEM input data for Eradiate\n",
    "   * How to instantiate a DEMSurface\n",
    "   * How to compute the BRF of a DEM based surface with and without atmosphere\n",
    "   * How to compute a bottom-of-atmosphere (BOA) RGB image of a sunset on top of the DEM surface.\n",
    "\n",
    "----"
   ]
  },
  {
   "cell_type": "markdown",
   "metadata": {},
   "source": [
    "## Section 1\n",
    "\n",
    "*Write your content here, add code cells and Markdown as you need.*"
   ]
  },
  {
   "cell_type": "markdown",
   "metadata": {},
   "source": [
    "## Section 2\n",
    "\n",
    "*Write your content here, add code cells and Markdown as you need.*"
   ]
  },
  {
   "cell_type": "raw",
   "metadata": {
    "raw_mimetype": "text/restructuredtext",
    "tags": []
   },
   "source": [
    "----\n",
    "\n",
    "Final words\n",
    "-----------\n",
    "\n",
    "*A conclusion to the tutorial.*\n",
    "\n",
    "Further reading\n",
    "---------------\n",
    "\n",
    "*Additional references to go deeper (may also be links to the documentation or other tutorials).*"
   ]
  }
 ],
 "metadata": {
  "kernelspec": {
   "display_name": "Python 3 (ipykernel)",
   "language": "python",
   "name": "python3"
  },
  "language_info": {
   "codemirror_mode": {
    "name": "ipython",
    "version": 3
   },
   "file_extension": ".py",
   "mimetype": "text/x-python",
   "name": "python",
   "nbconvert_exporter": "python",
   "pygments_lexer": "ipython3",
   "version": "3.8.17"
  }
 },
 "nbformat": 4,
 "nbformat_minor": 4
}
