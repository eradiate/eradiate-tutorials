{
 "cells": [
  {
   "cell_type": "raw",
   "metadata": {
    "raw_mimetype": "text/restructuredtext",
    "tags": [],
    "vscode": {
     "languageId": "raw"
    }
   },
   "source": [
    "Digital elevation model (DEM) workflows\n",
    "=================================\n",
    "\n",
    ".. admonition:: Overview\n",
    "\n",
    "   In this tutorial we demonstrate how to incorporate DEM data into Eradiate simulations.\n",
    "\n",
    ".. admonition:: Prerequisites\n",
    "\n",
    "   * Basic knowledge of the Eradiate workflow (see :doc:`../getting_started/eradiate_quickstart`).\n",
    "   * Eradiate expert interface\n",
    "\n",
    ".. admonition:: What you will learn\n",
    "\n",
    "   * How to what format Eradiate expects for DEM data\n",
    "   * How to instantiate a DEMSurface\n",
    "   * How to compute the BRF of a DEM based surface with and without atmosphere\n",
    "   * How to compute a bottom-of-atmosphere (BOA) RGB image of a sunset on top of the DEM surface.\n",
    "\n",
    "----"
   ]
  },
  {
   "cell_type": "markdown",
   "metadata": {},
   "source": [
    "## Input data format\n",
    "\n",
    "Eradiate represents DEM data as triangulated meshes. The easiest and preferred way to provide DEM data to Eradiate is therefore a prepared triangulated mesh in PLY-format.\n",
    "\n",
    "Eradiate does not parse metadata associated with the PLY-format and therefore will not perform any unit conversions on the data. Vertex position data will be interpreted as kernel-units and the meaning of the x and y dimensions will depend on the scene geometry.\n",
    "\n",
    "For example the default case, the plane parallel geometry and default kernel units, mean that positions will be interpreted as meters and the X, Y, and Z dimensions will map to EAST, NORTH, and UP (ENU).\n",
    "\n",
    "The rest of this tutorial will assume that DEM data in ply format is available. In this tutorial we will use a 20 km by 20 km section near the Libya4 CEOS site. (Note for reviewer: Is this the right name?) If this file is not present on your machine, it can be downloaded from (add a link) and must be placed in the (add) subfolder."
   ]
  },
  {
   "cell_type": "markdown",
   "metadata": {},
   "source": [
    "## Imports\n",
    "\n",
    "First we import all the necessary components for this tutorial"
   ]
  },
  {
   "cell_type": "code",
   "execution_count": 2,
   "metadata": {},
   "outputs": [],
   "source": [
    "import eradiate\n",
    "\n",
    "eradiate.set_mode(\"mono\")\n",
    "\n",
    "from eradiate.units import unit_registry as ureg\n",
    "\n",
    "import matplotlib.pyplot as plt\n",
    "import numpy as np"
   ]
  },
  {
   "cell_type": "markdown",
   "metadata": {},
   "source": [
    "## Declaring scene elements\n",
    "\n",
    "Now we declare the scene elements that are independent of the DEM. That is, illumination, sensor and atmosphere.\n",
    "In this first part of the tutorial we will compute the BRF of the scene first without and then with an atmosphere. We will limit the observation to the principal plane.\n",
    "We will attach a Lamberitian BSDF to all surfaces in this tutorial, to visualize the effect of the 3D terrain on the BRF."
   ]
  },
  {
   "cell_type": "code",
   "execution_count": 60,
   "metadata": {},
   "outputs": [],
   "source": [
    "illumination = eradiate.scenes.illumination.DirectionalIllumination(zenith=45, azimuth=0)\n",
    "\n",
    "sensor = eradiate.scenes.measure.MultiDistantMeasure.hplane(\n",
    "    azimuth=0,\n",
    "    zeniths=np.arange(-60, 61, 2),\n",
    "    srf={\"type\": \"multi_delta\", \"wavelengths\": [550.0] * ureg.nm},\n",
    "    target=eradiate.scenes.measure.TargetRectangle(\n",
    "        xmin=-10*ureg.km,\n",
    "        xmax=10*ureg.km,\n",
    "        ymin=-10*ureg.km,\n",
    "        ymax=10*ureg.km,\n",
    "        z=130*ureg.m\n",
    "    ),\n",
    ")\n",
    "\n",
    "camera_oblique = eradiate.scenes.measure.PerspectiveCameraMeasure(\n",
    "    origin=[300, 300, 300]*ureg.km,\n",
    "    target=[0, 0, 0]*ureg.km,\n",
    "    up=[0, 0, 1],\n",
    "    film_resolution=[128, 128],\n",
    "    srf={\"type\": \"multi_delta\", \"wavelengths\": [550.0] * ureg.nm},\n",
    "    fov=170,\n",
    ")\n",
    "\n",
    "atmosphere = eradiate.scenes.atmosphere.HeterogeneousAtmosphere(\n",
    "    molecular_atmosphere=eradiate.scenes.atmosphere.MolecularAtmosphere(),\n",
    "    particle_layers=[\n",
    "        eradiate.scenes.atmosphere.ParticleLayer(\n",
    "            bottom=0*ureg.m,\n",
    "            top=2*ureg.km,  # add the other parameters\n",
    "        )\n",
    "    ]\n",
    ")\n",
    "\n",
    "flat_surface = eradiate.scenes.bsdfs.LambertianBSDF(reflectance=0.5)"
   ]
  },
  {
   "cell_type": "markdown",
   "metadata": {},
   "source": [
    "Now we visualize the basic scene we have created"
   ]
  },
  {
   "cell_type": "code",
   "execution_count": 64,
   "metadata": {},
   "outputs": [
    {
     "data": {
      "text/plain": [
       "<matplotlib.image.AxesImage at 0x7fbbda476400>"
      ]
     },
     "execution_count": 64,
     "metadata": {},
     "output_type": "execute_result"
    },
    {
     "data": {
      "image/png": "[encoded data removed]",
      "text/plain": [
       "<Figure size 640x480 with 1 Axes>"
      ]
     },
     "metadata": {},
     "output_type": "display_data"
    }
   ],
   "source": [
    "exp = eradiate.experiments.AtmosphereExperiment(\n",
    "    illumination=illumination,\n",
    "    measures=camera_oblique,\n",
    "    surface=flat_surface,\n",
    "    atmosphere=None\n",
    ")\n",
    "\n",
    "result = eradiate.run(exp, spp=16)\n",
    "plt.imshow(result.radiance.squeeze(), cmap=\"gray\")"
   ]
  },
  {
   "cell_type": "markdown",
   "metadata": {},
   "source": [
    "A flat surface with Lamberitan reflectance and no atmosphere. Not very interesting, but as expected. Now we add the DEM mesh. We achive this by using Eradiate's expert interface."
   ]
  },
  {
   "cell_type": "code",
   "execution_count": 62,
   "metadata": {},
   "outputs": [
    {
     "data": {
      "text/plain": [
       "<matplotlib.image.AxesImage at 0x7fbbda5042e0>"
      ]
     },
     "execution_count": 62,
     "metadata": {},
     "output_type": "execute_result"
    },
    {
     "data": {
      "image/png": "[encoded data removed]",
      "text/plain": [
       "<Figure size 640x480 with 1 Axes>"
      ]
     },
     "metadata": {},
     "output_type": "display_data"
    }
   ],
   "source": []
  },
  {
   "cell_type": "raw",
   "metadata": {
    "raw_mimetype": "text/restructuredtext",
    "tags": []
   },
   "source": [
    "----\n",
    "\n",
    "Final words\n",
    "-----------\n",
    "\n",
    "*A conclusion to the tutorial.*\n",
    "\n",
    "Further reading\n",
    "---------------\n",
    "\n",
    "*Additional references to go deeper (may also be links to the documentation or other tutorials).*"
   ]
  }
 ],
 "metadata": {
  "kernelspec": {
   "display_name": "Python 3 (ipykernel)",
   "language": "python",
   "name": "python3"
  },
  "language_info": {
   "codemirror_mode": {
    "name": "ipython",
    "version": 3
   },
   "file_extension": ".py",
   "mimetype": "text/x-python",
   "name": "python",
   "nbconvert_exporter": "python",
   "pygments_lexer": "ipython3",
   "version": "3.9.19"
  }
 },
 "nbformat": 4,
 "nbformat_minor": 4
}
