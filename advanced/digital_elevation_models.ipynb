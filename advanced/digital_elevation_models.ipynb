{
 "cells": [
  {
   "cell_type": "markdown",
   "metadata": {
    "raw_mimetype": "text/restructuredtext",
    "tags": [],
    "vscode": {
     "languageId": "raw"
    }
   },
   "source": [
    "Digital elevation model (DEM) workflows\n",
    "=================================\n",
    "\n",
    ".. admonition:: Overview\n",
    "\n",
    "   In this tutorial we demonstrate how to incorporate DEM data into Eradiate simulations.\n",
    "\n",
    ".. admonition:: Prerequisites\n",
    "\n",
    "   * Basic knowledge of the Eradiate workflow (see :doc:`../getting_started/eradiate_quickstart`).\n",
    "   * Eradiate expert interface\n",
    "\n",
    ".. admonition:: What you will learn\n",
    "\n",
    "   * What format Eradiate expects for DEM data\n",
    "   * How to instantiate a DEMSurface\n",
    "   * How to compute the BRF of a DEM based surface with and without atmosphere\n",
    "   * How to compute a bottom-of-atmosphere (BOA) RGB image on top of the DEM surface.\n",
    "\n",
    "----"
   ]
  },
  {
   "cell_type": "markdown",
   "metadata": {},
   "source": [
    "## Input data format\n",
    "\n",
    "Eradiate represents DEM data as triangulated meshes. The easiest and preferred way to provide DEM data to Eradiate is therefore a prepared triangulated mesh in PLY-format.\n",
    "\n",
    "Eradiate does not parse metadata associated with the PLY-format and therefore will not perform any unit conversions on the data. Vertex position data will be interpreted as kernel-units and the meaning of the x and y dimensions will depend on the scene geometry.\n",
    "\n",
    "For example the default case, the plane parallel geometry and default kernel units, mean that positions will be interpreted as meters and the X, Y, and Z dimensions will map to EAST, NORTH, and UP (ENU).\n",
    "\n",
    "The rest of this tutorial will assume that DEM data in ply format is available. In this tutorial we will use a 20 km by 20 km section near the Libya4 CEOS site. (Note for reviewer: Is this the right name?) If this file is not present on your machine, it can be downloaded from (add a link) and must be placed in the (add) subfolder."
   ]
  },
  {
   "cell_type": "markdown",
   "metadata": {},
   "source": [
    "## Imports\n",
    "\n",
    "First we import all the necessary components for this tutorial"
   ]
  },
  {
   "cell_type": "code",
   "execution_count": null,
   "metadata": {},
   "outputs": [],
   "source": [
    "import eradiate\n",
    "\n",
    "eradiate.set_mode(\"mono\")\n",
    "\n",
    "from eradiate.units import unit_registry as ureg\n",
    "\n",
    "import matplotlib.pyplot as plt\n",
    "import numpy as np"
   ]
  },
  {
   "cell_type": "markdown",
   "metadata": {},
   "source": [
    "## Declaring scene elements\n",
    "\n",
    "Now we declare the scene elements that are independent of the DEM. That is, illumination, sensor and atmosphere.\n",
    "In this first part of the tutorial we will compute the BRF of the scene first without and then with an atmosphere. We will limit the observation to the principal plane.\n",
    "We will attach a Lamberitian BSDF to all surfaces in this tutorial, to visualize the effect of the 3D terrain on the BRF."
   ]
  },
  {
   "cell_type": "code",
   "execution_count": null,
   "metadata": {},
   "outputs": [],
   "source": [
    "illumination = eradiate.scenes.illumination.DirectionalIllumination(zenith=60, azimuth=0)\n",
    "\n",
    "camera_iso = eradiate.scenes.measure.PerspectiveCameraMeasure(\n",
    "    origin=[300, 300, 300]*ureg.km,\n",
    "    target=[0, 0, 0]*ureg.km,\n",
    "    up=[0, 0, 1],\n",
    "    film_resolution=[128, 128],\n",
    "    srf={\"type\": \"delta\", \"wavelengths\": [550.0] * ureg.nm},\n",
    "    fov=150,\n",
    ")\n",
    "\n",
    "flat_surface = eradiate.scenes.bsdfs.LambertianBSDF(reflectance={\n",
    "    \"type\": \"interpolated\",\n",
    "    \"wavelengths\": [440, 500, 660],\n",
    "    \"values\": [0.3, 0.5, 0.7]\n",
    "})"
   ]
  },
  {
   "cell_type": "markdown",
   "metadata": {},
   "source": [
    "Now we visualize the basic scene we have created"
   ]
  },
  {
   "cell_type": "code",
   "execution_count": null,
   "metadata": {},
   "outputs": [],
   "source": [
    "exp = eradiate.experiments.AtmosphereExperiment(\n",
    "    illumination=illumination,\n",
    "    measures=camera_iso,\n",
    "    surface=flat_surface,\n",
    "    atmosphere=None\n",
    ")\n",
    "\n",
    "result = eradiate.run(exp, spp=16)\n",
    "plt.imshow(result.radiance.squeeze(), cmap=\"gray\")"
   ]
  },
  {
   "cell_type": "markdown",
   "metadata": {},
   "source": [
    "A flat surface with Lamberitan reflectance and no atmosphere. Not very interesting, but as expected. \n",
    "\n",
    "### Adding the DEM\n",
    "Now we add the DEM mesh. We achive this by using Eradiate's expert interface.\n",
    "\n",
    "To make the code easier to read, we define a separate scene parameter function, that will return the material's reflectance, based on the simulated wavelength. The function supports three wavelengths, which will be used later in this tutorial, to create an RGB image."
   ]
  },
  {
   "cell_type": "code",
   "execution_count": null,
   "metadata": {},
   "outputs": [],
   "source": [
    "from eradiate import KernelContext\n",
    "from eradiate.kernel import UpdateParameter, scene_parameter"
   ]
  },
  {
   "cell_type": "code",
   "execution_count": null,
   "metadata": {},
   "outputs": [],
   "source": [
    "@scene_parameter(flags=UpdateParameter.Flags.SPECTRAL)\n",
    "def lambertian_sand(ctx: KernelContext):\n",
    "    if ctx.si.w == 440.0 * ureg.nm:\n",
    "        return 0.3\n",
    "    elif ctx.si.w == 550.0 * ureg.nm:\n",
    "        return 0.5\n",
    "    elif ctx.si.w == 660.0 * ureg.nm:\n",
    "        return 0.7\n",
    "    else:\n",
    "        raise RuntimeError(f\"Unsupported context: {ctx}\")\n",
    "        return np.expand_dims(np.ones_like(lc_map)*0.5, -1)"
   ]
  },
  {
   "cell_type": "code",
   "execution_count": null,
   "metadata": {},
   "outputs": [],
   "source": [
    "dem_dict={\n",
    "    \"diffuse_material\": {\n",
    "        \"type\": \"diffuse\", \n",
    "        \"id\": \"dem_mat\",\n",
    "        \"reflectance\": {\n",
    "            \"type\": \"uniform\",\n",
    "            \"value\": 0.0\n",
    "        }\n",
    "    },\n",
    "    \"mesh\": {\n",
    "        \"type\": \"ply\", \n",
    "        \"id\": \"surface_dem_mesh\", \n",
    "        \"bsdf\": {\"type\": \"ref\", \"id\": \"dem_mat\"},\n",
    "        \"filename\": \"/home/schunkes/src/eradiate-data/tutorials/dem_workflow/libya4_20km.ply\"  # make this a path relative to the notebook\n",
    "    },\n",
    "}\n",
    "dem_pmap={\n",
    "    \"dem_mat.reflectance.value\": lambertian_sand\n",
    "}"
   ]
  },
  {
   "cell_type": "markdown",
   "metadata": {},
   "source": [
    "Additionally, we define a new perspective camera, that looks at the scene from the zenith. This way, the shadows cast by the 3D surface will be easily visible."
   ]
  },
  {
   "cell_type": "code",
   "execution_count": null,
   "metadata": {},
   "outputs": [],
   "source": [
    "camera_top = eradiate.scenes.measure.PerspectiveCameraMeasure(\n",
    "    origin=[0, 0, 30]*ureg.km,\n",
    "    target=[0, 0, 0]*ureg.km,\n",
    "    up=[0, 1, 0],\n",
    "    film_resolution=[256, 256],\n",
    "    srf={\"type\": \"delta\", \"wavelengths\": [550.0] * ureg.nm},\n",
    "    fov=50,\n",
    ")"
   ]
  },
  {
   "cell_type": "markdown",
   "metadata": {},
   "source": [
    "Now we add the scene dictionary and the parameter map to the experiment and render again at 550nm."
   ]
  },
  {
   "cell_type": "code",
   "execution_count": null,
   "metadata": {},
   "outputs": [],
   "source": [
    "exp = eradiate.experiments.AtmosphereExperiment(\n",
    "    illumination=illumination,\n",
    "    measures=camera_top,\n",
    "    surface=flat_surface,\n",
    "    atmosphere=None,\n",
    "    kdict=dem_dict,\n",
    "    kpmap=dem_pmap\n",
    ")\n",
    "\n",
    "result = eradiate.run(exp, spp=16)\n",
    "plt.axis(\"off\")\n",
    "plt.imshow(result.radiance.squeeze(), cmap=\"gray\")\n",
    "plt.show()"
   ]
  },
  {
   "cell_type": "markdown",
   "metadata": {},
   "source": [
    "We can clearly see the dunes of the Libya4 site. \n",
    "\n",
    "### Computing the BRF\n",
    "\n",
    "Now we compute the BRF of this patch, first without then with an atmosphere present. Will will focus on the principal plane. First we define a suitable measure and add it to the experiment, instead of the perspective camera."
   ]
  },
  {
   "cell_type": "code",
   "execution_count": null,
   "metadata": {},
   "outputs": [],
   "source": [
    "brf_sensor = eradiate.scenes.measure.MultiDistantMeasure.hplane(\n",
    "    azimuth=0,\n",
    "    zeniths=np.arange(-80, 81, 2),\n",
    "    srf={\"type\": \"delta\", \"wavelengths\": [550.0] * ureg.nm},\n",
    "    target=eradiate.scenes.measure.TargetRectangle(\n",
    "        xmin=-10*ureg.km,\n",
    "        xmax=10*ureg.km,\n",
    "        ymin=-10*ureg.km,\n",
    "        ymax=10*ureg.km,\n",
    "        z=130*ureg.m\n",
    "    ),\n",
    ")"
   ]
  },
  {
   "cell_type": "code",
   "execution_count": null,
   "metadata": {},
   "outputs": [],
   "source": [
    "exp = eradiate.experiments.AtmosphereExperiment(\n",
    "    illumination=illumination,\n",
    "    measures=brf_sensor,\n",
    "    surface=flat_surface,\n",
    "    atmosphere=None,\n",
    "    kdict=dem_dict,\n",
    "    kpmap=dem_pmap\n",
    ")\n",
    "\n",
    "result = eradiate.run(exp, spp=4**8)\n",
    "plt.plot(result.vza.squeeze(), result.brf.squeeze(), label=\"DEM Surface\")\n",
    "plt.hlines(xmin=-80, xmax=80, y=0.5, ls=\"--\", color=\"gray\", label=\"Lambertian reference\")\n",
    "plt.ylim(0.47, 0.53)\n",
    "plt.xlabel(\"VZA [deg]\")\n",
    "plt.ylabel(\"BRF [-]\")\n",
    "plt.legend()\n",
    "plt.show()"
   ]
  },
  {
   "cell_type": "markdown",
   "metadata": {},
   "source": [
    "The reflectance of the DEM surface has clear directional features. In the backward scattering direction, reflectance is increased, while in the forward scattering direction, it is decreased. As a comparison, the dashed line denotes the expected reflectance of the Lambertian surface without 3D terrain.\n",
    "\n",
    "### With an atmosphere\n",
    "\n",
    "Now, to complete the scene, we add an atmosphere. We define an atmosphere with two components, the base molecular atmosphere and a simple aerosol layer, that extends from 0 m to 2 km elevation."
   ]
  },
  {
   "cell_type": "code",
   "execution_count": null,
   "metadata": {},
   "outputs": [],
   "source": [
    "atmosphere = eradiate.scenes.atmosphere.HeterogeneousAtmosphere(\n",
    "    molecular_atmosphere=eradiate.scenes.atmosphere.MolecularAtmosphere()\n",
    ")"
   ]
  },
  {
   "cell_type": "code",
   "execution_count": null,
   "metadata": {},
   "outputs": [],
   "source": [
    "exp_dem = eradiate.experiments.AtmosphereExperiment(\n",
    "    illumination=illumination,\n",
    "    measures=sensor,\n",
    "    surface=flat_surface,\n",
    "    atmosphere=atmosphere,\n",
    "    kdict=dem_dict,\n",
    "    kpmap=dem_pmap\n",
    ")\n",
    "\n",
    "result_dem = eradiate.run(exp_dem, spp=4**10)\n",
    "plt.plot(result_dem.vza.squeeze(), result_dem.brf.squeeze(), label=\"DEM Surface\")\n",
    "plt.xlabel(\"VZA [deg]\")\n",
    "plt.ylabel(\"BRF [-]\")\n",
    "plt.legend()\n",
    "plt.show()"
   ]
  },
  {
   "cell_type": "markdown",
   "metadata": {},
   "source": [
    "The effect of the atmosphere is much larger than that of the DEM surface and we can not as easily compare this simulation to another case. Therefore, we run another simulation, where no DEM is present and compare those two results. We need to adjust the flat surface for this simulation. The mean elevation of the Libya4 site is circa 130m, so we need to define a new surface object with its elevation adjusted accordingly."
   ]
  },
  {
   "cell_type": "code",
   "execution_count": null,
   "metadata": {},
   "outputs": [],
   "source": [
    "flat_surface_elevated = eradiate.scenes.surface.BasicSurface(\n",
    "    shape=eradiate.scenes.shapes.RectangleShape(\n",
    "        center=[0, 0, 130]*ureg.m  # specify ground elevation using Geometry\n",
    "    ),\n",
    "    bsdf=eradiate.scenes.bsdfs.LambertianBSDF(reflectance={\n",
    "        \"type\": \"interpolated\",\n",
    "        \"wavelengths\": [440, 500, 660],\n",
    "        \"values\": [0.3, 0.5, 0.7]\n",
    "    })\n",
    ")"
   ]
  },
  {
   "cell_type": "code",
   "execution_count": null,
   "metadata": {},
   "outputs": [],
   "source": [
    "exp_flat = eradiate.experiments.AtmosphereExperiment(\n",
    "    illumination=illumination,\n",
    "    measures=sensor,\n",
    "    surface=flat_surface_elevated,\n",
    "    atmosphere=atmosphere,\n",
    "    kdict={},\n",
    "    kpmap={}\n",
    ")\n",
    "\n",
    "result_flat = eradiate.run(exp_flat, spp=4**10)\n",
    "\n",
    "fig, ax = plt.subplots(1, 2, figsize=(6,3), layout=\"constrained\")\n",
    "ax[0].plot(result_dem.vza.squeeze(), result_dem.brf.squeeze(), label=\"DEM Surface\")\n",
    "ax[0].plot(result_flat.vza.squeeze(), result_flat.brf.squeeze(), label=\"Flat Surface\", ls=\"--\")\n",
    "ax[0].set_xlabel(\"VZA [deg]\")\n",
    "ax[0].set_ylabel(\"BRF [-]\")\n",
    "ax[0].legend()\n",
    "\n",
    "ax[1].plot(result_dem.vza.squeeze(), result_dem.brf.squeeze()-result_flat.brf.squeeze())\n",
    "ax[1].set_xlabel(\"VZA [deg]\")\n",
    "ax[1].set_ylabel(\"Absolute difference [-]\")\n",
    "plt.show()"
   ]
  },
  {
   "cell_type": "markdown",
   "metadata": {},
   "source": [
    "To compare these two results, we plot the absolute difference between them. Both the increased reflectance in the backward scattering and the reduced reflectance in the forward scattering directions are visible in the difference between the two results.\n",
    "\n",
    "### BOA RGB\n",
    "\n",
    "To round this tutorial off, we will compute an RGB image, with the camera at the bottom of the atmosphere, looking across the dunes. To do this, we first define a new perspective camera with the desired position and orientation."
   ]
  },
  {
   "cell_type": "code",
   "execution_count": null,
   "metadata": {},
   "outputs": [],
   "source": [
    "from eradiate.xarray.interp import dataarray_to_rgb"
   ]
  },
  {
   "cell_type": "code",
   "execution_count": null,
   "metadata": {},
   "outputs": [],
   "source": [
    "camera_oblique = eradiate.scenes.measure.PerspectiveCameraMeasure(\n",
    "    origin=[-10, -10, 0.5]*ureg.km,\n",
    "    target=[0, 0, 0]*ureg.km,\n",
    "    up=[0, 0, 1],\n",
    "    film_resolution=[320, 240],\n",
    "    srf={\"type\": \"multi_delta\", \"wavelengths\": [440.0, 550.0, 660.0] * ureg.nm},\n",
    "    fov=70,\n",
    ")"
   ]
  },
  {
   "cell_type": "markdown",
   "metadata": {},
   "source": [
    "Now we create an Eradiate experiment again, run the simulation and use a helper function to create an RGB image."
   ]
  },
  {
   "cell_type": "code",
   "execution_count": null,
   "metadata": {},
   "outputs": [],
   "source": [
    "exp = eradiate.experiments.AtmosphereExperiment(\n",
    "    illumination=illumination,\n",
    "    measures=camera_oblique,\n",
    "    surface=flat_surface,\n",
    "    atmosphere=atmosphere,\n",
    "    kdict=dem_dict,\n",
    "    kpmap=dem_pmap\n",
    ")\n",
    "\n",
    "result = eradiate.run(exp, spp=512)\n",
    "\n",
    "img = dataarray_to_rgb(\n",
    "    result.radiance, \n",
    "    channels=[(\"w\", 660), (\"w\", 550), (\"w\", 440)]\n",
    ")\n",
    "plt.axis(\"off\")\n",
    "plt.imshow(img)\n",
    "plt.show()"
   ]
  },
  {
   "cell_type": "markdown",
   "metadata": {
    "raw_mimetype": "text/restructuredtext",
    "tags": [],
    "vscode": {
     "languageId": "raw"
    }
   },
   "source": [
    "----\n",
    "\n",
    "Final words\n",
    "-----------\n",
    "\n",
    "In this tutorial, we have learned, how to assemble a scene with a 3D surface using DEM data. We have computed the BRF of this scene with and without an atmosphere and compared the results to those of a flat surface.\n",
    "Finally, we have created an RGB image at the bottom of atmosphere, illustrating atmospheric scattering and the 3D structure of the DEM surface.\n",
    "\n",
    "Further reading\n",
    "---------------\n",
    "\n",
    "The documentation of :mod:`eradiate.scenes.surface` contains a function, that can convert elevation data to triangulated meshes, suitable for usage in Eradiate."
   ]
  },
  {
   "cell_type": "code",
   "execution_count": null,
   "metadata": {},
   "outputs": [],
   "source": []
  }
 ],
 "metadata": {
  "kernelspec": {
   "display_name": "Python 3 (ipykernel)",
   "language": "python",
   "name": "python3"
  },
  "language_info": {
   "codemirror_mode": {
    "name": "ipython",
    "version": 3
   },
   "file_extension": ".py",
   "mimetype": "text/x-python",
   "name": "python",
   "nbconvert_exporter": "python",
   "pygments_lexer": "ipython3",
   "version": "3.9.19"
  }
 },
 "nbformat": 4,
 "nbformat_minor": 4
}
