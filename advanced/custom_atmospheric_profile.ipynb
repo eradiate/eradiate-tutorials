{
 "cells": [
  {
   "cell_type": "markdown",
   "metadata": {
    "raw_mimetype": "text/restructuredtext",
    "tags": []
   },
   "source": [
    "Custom atmospheric profiles\n",
    "===========================\n",
    "\n",
    ".. admonition:: Overview\n",
    "\n",
    "   This tutorials intoduces Eradiate's capabilities to handle customized atmospheric profiles beyond classical rescaling.\n",
    "\n",
    ".. admonition:: Prerequisites\n",
    "\n",
    "   The reader should familiarize themselves with the user guide about Eradiate terminology and the `one-dimensional experiment features`. Additionally users should be familiar with the `molecular atmosphere basics` tutorial.\n",
    "\n",
    ".. admonition:: What you will learn\n",
    "\n",
    "   This tutorial will teach you how to format a custom atmospheric profile for Eradiate and how to use it in a `MolecularAtmosphere`.\n",
    "\n",
    ".. admonition:: Additional requirements\n",
    "\n",
    "   An example atmosphere profile is available at `<PATH>` in the `eradiate-data` repository\n",
    "\n",
    "----"
   ]
  },
  {
   "cell_type": "markdown",
   "metadata": {},
   "source": [
    "## Standard profiles and rescaling\n",
    "\n",
    "First, let us refresh the basics of standard atmosphere profiles and classic rescaling in Eradiate.\n",
    "\n",
    "Eradiate uses the `joseki` package for handling atmosphere profiles.\n",
    "\n",
    "We import a few necessary packages and create two molecular atmospheres. One with a basic profile and one with a rescaled molecule."
   ]
  },
  {
   "cell_type": "code",
   "execution_count": null,
   "metadata": {},
   "outputs": [],
   "source": [
    "%load_ext eradiate\n",
    "import eradiate\n",
    "import joseki\n",
    "import numpy as np\n",
    "import matplotlib.pyplot as plt"
   ]
  },
  {
   "cell_type": "code",
   "execution_count": null,
   "metadata": {},
   "outputs": [],
   "source": [
    "from eradiate.scenes.atmosphere import MolecularAtmosphere\n",
    "from eradiate import unit_registry as ureg"
   ]
  },
  {
   "cell_type": "code",
   "execution_count": null,
   "metadata": {},
   "outputs": [],
   "source": [
    "eradiate.set_mode(\"ckd\")"
   ]
  },
  {
   "cell_type": "code",
   "execution_count": null,
   "metadata": {},
   "outputs": [],
   "source": [
    "us_standard = MolecularAtmosphere(\n",
    "    thermoprops={\n",
    "        \"identifier\": \"afgl_1986-us_standard\",\n",
    "        \"z\": np.linspace(0.0, 120.0, 121) * ureg.km,\n",
    "    },\n",
    ")"
   ]
  },
  {
   "cell_type": "markdown",
   "metadata": {},
   "source": [
    "If you recall the `molecular atmosphere basics` tutorial, you will recognize this workflow. We have now created a molecular atmosphere, using the AFGL 1986 US-Standard atmosphere profile.\n",
    "\n",
    "Next, let us create another atmosphere with a rescaled amount of carbon dioxide."
   ]
  },
  {
   "cell_type": "code",
   "execution_count": null,
   "metadata": {},
   "outputs": [],
   "source": [
    "# First, create the original standard profile:\n",
    "thermoprops = joseki.make(\n",
    "    identifier=\"afgl_1986-us_standard\",\n",
    "    z=np.linspace(0.0, 120.0, 121) * ureg.km,\n",
    ")\n",
    "\n",
    "# Then, rescale it:\n",
    "rescaled = thermoprops.joseki.rescale(\n",
    "    factors={\n",
    "        \"O3\": 1.25,\n",
    "    }\n",
    ")\n",
    "\n",
    "# Finally instanciate the MolecularAtmosphere class with the rescaled\n",
    "# thermophysical profile\n",
    "molecular_rescaled = MolecularAtmosphere(\n",
    "    thermoprops=rescaled\n",
    ")"
   ]
  },
  {
   "cell_type": "markdown",
   "metadata": {},
   "source": [
    "Now we can plot the vertical profile of ozone and compare both atmospheres."
   ]
  },
  {
   "cell_type": "code",
   "execution_count": null,
   "metadata": {},
   "outputs": [],
   "source": [
    "us_standard._thermoprops.x_O3.plot(y=\"z\", label=\"US-Standard\")\n",
    "molecular_rescaled._thermoprops.x_O3.plot(y=\"z\", label=\"Rescaled to 125%\")\n",
    "plt.legend()"
   ]
  },
  {
   "cell_type": "markdown",
   "metadata": {},
   "source": [
    "## Custom profiles\n",
    "\n",
    "The fundamental limitation of classic rescaling is that it only controls the total integrated concentration of an atmospheric constituent. The detailed vertical distribution can not be changed. Eradiate adresses this problem by allowing users to add fully custom distributions of constituent gasses in the `MolecularAtmosphere` object.\n",
    "\n",
    "Essentially, the requirements for a custom atmosphere profile are the same as for the `thermoprops` object, we defined above:"
   ]
  },
  {
   "cell_type": "code",
   "execution_count": null,
   "metadata": {},
   "outputs": [],
   "source": [
    "thermoprops"
   ]
  },
  {
   "cell_type": "markdown",
   "metadata": {},
   "source": [
    "- Thermophysical properties must have only one dimension, named \"z\", which describes the vertical grid. This vertical grid must have regular spacing. In the example, level range from 0 to 120 kilometers and are 1 kilometer apart\n",
    "- The data variables p, t, and n, which represent the atmospheric pressure, temperature and air number density, must be present to define the vertical profile of the atmosphere.\n",
    "- The molar fractions of all gases which are available in Eradiate's absorption data (data variables whose names start with `x_`) should be present, but in its default configuration, Eradiate will not raise an Error if a molecule is missing.\n",
    "\n",
    "**The absorption by molecules which are not present in the thermophysical properties dataset will not be taken into account in the simulations!**"
   ]
  },
  {
   "cell_type": "raw",
   "metadata": {
    "raw_mimetype": "text/restructuredtext",
    "tags": []
   },
   "source": [
    "----\n",
    "\n",
    "Final words\n",
    "-----------\n",
    "\n",
    "*A conclusion to the tutorial.*\n",
    "\n",
    "Further reading\n",
    "---------------\n",
    "\n",
    "*Additional references to go deeper (may also be links to the documentation or other tutorials).*"
   ]
  }
 ],
 "metadata": {
  "kernelspec": {
   "display_name": "Python 3 (ipykernel)",
   "language": "python",
   "name": "python3"
  },
  "language_info": {
   "codemirror_mode": {
    "name": "ipython",
    "version": 3
   },
   "file_extension": ".py",
   "mimetype": "text/x-python",
   "name": "python",
   "nbconvert_exporter": "python",
   "pygments_lexer": "ipython3",
   "version": "3.9.19"
  }
 },
 "nbformat": 4,
 "nbformat_minor": 4
}
