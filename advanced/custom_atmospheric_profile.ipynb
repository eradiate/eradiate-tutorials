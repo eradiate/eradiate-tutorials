{
 "cells": [
  {
   "cell_type": "markdown",
   "metadata": {
    "raw_mimetype": "text/restructuredtext",
    "tags": []
   },
   "source": [
    "Custom atmospheric profiles\n",
    "===========================\n",
    "\n",
    ".. admonition:: Overview\n",
    "\n",
    "   This tutorials intoduces Eradiate's capabilities to handle customized atmospheric profiles beyond classical rescaling.\n",
    "\n",
    ".. admonition:: Prerequisites\n",
    "\n",
    "   The reader should familiarize themselves with the user guide about Eradiate terminology and the `one-dimensional experiment features`. Additionally users should be familiar with the `molecular atmosphere basics` tutorial.\n",
    "\n",
    ".. admonition:: What you will learn\n",
    "\n",
    "   This tutorial will teach you how to format a custom atmospheric profile for Eradiate and how to use it in a `MolecularAtmosphere`.\n",
    "\n",
    ".. admonition:: Additional requirements\n",
    "\n",
    "   An example atmosphere profile is available at `<PATH>` in the `eradiate-data` repository\n",
    "\n",
    "----"
   ]
  },
  {
   "cell_type": "markdown",
   "metadata": {},
   "source": [
    "## Standard profiles and rescaling\n",
    "\n",
    "First, let us refresh the basics of standard atmosphere profiles and classic rescaling in Eradiate.\n",
    "\n",
    "Eradiate uses the `joseki` package for handling atmosphere profiles.\n",
    "\n",
    "We import a few necessary packages and create two molecular atmospheres. One with a basic profile and one with a rescaled molecule."
   ]
  },
  {
   "cell_type": "code",
   "execution_count": null,
   "metadata": {},
   "outputs": [],
   "source": [
    "%load_ext eradiate\n",
    "import eradiate\n",
    "import joseki\n",
    "import numpy as np\n",
    "import matplotlib.pyplot as plt\n",
    "import xarray as xr"
   ]
  },
  {
   "cell_type": "code",
   "execution_count": null,
   "metadata": {},
   "outputs": [],
   "source": [
    "from eradiate.scenes.atmosphere import MolecularAtmosphere\n",
    "from eradiate import unit_registry as ureg"
   ]
  },
  {
   "cell_type": "code",
   "execution_count": null,
   "metadata": {},
   "outputs": [],
   "source": [
    "eradiate.set_mode(\"ckd\")"
   ]
  },
  {
   "cell_type": "code",
   "execution_count": null,
   "metadata": {},
   "outputs": [],
   "source": [
    "us_standard = MolecularAtmosphere(\n",
    "    thermoprops={\n",
    "        \"identifier\": \"afgl_1986-us_standard\",\n",
    "        \"z\": np.linspace(0.0, 120.0, 121) * ureg.km,\n",
    "    },\n",
    ")"
   ]
  },
  {
   "cell_type": "markdown",
   "metadata": {},
   "source": [
    "If you recall the `molecular atmosphere basics` tutorial, you will recognize this workflow. We have now created a molecular atmosphere, using the AFGL 1986 US-Standard atmosphere profile.\n",
    "\n",
    "Next, let us create another atmosphere with a rescaled amount of carbon dioxide."
   ]
  },
  {
   "cell_type": "code",
   "execution_count": null,
   "metadata": {},
   "outputs": [],
   "source": [
    "# First, create the original standard profile:\n",
    "thermoprops = joseki.make(\n",
    "    identifier=\"afgl_1986-us_standard\",\n",
    "    z=np.linspace(0.0, 120.0, 121) * ureg.km,\n",
    ")\n",
    "\n",
    "# Then, rescale it:\n",
    "rescaled = thermoprops.joseki.rescale(\n",
    "    factors={\n",
    "        \"O3\": 1.25,\n",
    "    }\n",
    ")\n",
    "\n",
    "# Finally instanciate the MolecularAtmosphere class with the rescaled\n",
    "# thermophysical profile\n",
    "molecular_rescaled = MolecularAtmosphere(\n",
    "    thermoprops=rescaled\n",
    ")"
   ]
  },
  {
   "cell_type": "markdown",
   "metadata": {},
   "source": [
    "Now we can plot the vertical profile of ozone and compare both atmospheres."
   ]
  },
  {
   "cell_type": "code",
   "execution_count": null,
   "metadata": {},
   "outputs": [],
   "source": [
    "us_standard._thermoprops.x_O3.plot(y=\"z\", label=\"US-Standard\")\n",
    "molecular_rescaled._thermoprops.x_O3.plot(y=\"z\", label=\"Rescaled to 125%\")\n",
    "plt.legend()"
   ]
  },
  {
   "cell_type": "markdown",
   "metadata": {},
   "source": [
    "## Custom profiles\n",
    "\n",
    "The fundamental limitation of classic rescaling is that it only controls the total integrated concentration of an atmospheric constituent. The detailed vertical distribution can not be changed. Eradiate adresses this problem by allowing users to add fully custom distributions of constituent gasses in the `MolecularAtmosphere` object.\n",
    "\n",
    "Essentially, the requirements for a custom atmosphere profile are the same as for the `thermoprops` object, we defined above:"
   ]
  },
  {
   "cell_type": "code",
   "execution_count": null,
   "metadata": {},
   "outputs": [],
   "source": [
    "thermoprops"
   ]
  },
  {
   "cell_type": "markdown",
   "metadata": {},
   "source": [
    "- Thermophysical properties must have only one dimension, named \"z\", which describes the vertical grid. This vertical grid must have regular spacing. In the example, level range from 0 to 120 kilometers and are 1 kilometer apart\n",
    "- The data variables p, t, and n, which represent the atmospheric pressure, temperature and air number density, must be present to define the vertical profile of the atmosphere.\n",
    "- The molar fractions of all gases which are available in Eradiate's absorption data (data variables whose names start with `x_`) should be present, but in its default configuration, Eradiate will not raise an Error if a molecule is missing.\n",
    "\n",
    "**The absorption by molecules which are not present in the thermophysical properties dataset will not be taken into account in the simulations!**\n",
    "\n",
    "Now, let us load a custom profile. "
   ]
  },
  {
   "cell_type": "code",
   "execution_count": null,
   "metadata": {},
   "outputs": [],
   "source": [
    "thermoprops_custom = xr.load_dataset(\"/home/schunkes/src/eradiate-data/tutorials/custom_atmosphere/custom_profile.nc\")"
   ]
  },
  {
   "cell_type": "code",
   "execution_count": null,
   "metadata": {},
   "outputs": [],
   "source": [
    "thermoprops_custom"
   ]
  },
  {
   "cell_type": "markdown",
   "metadata": {},
   "source": [
    "You will notice, this profile does not follow the requirements listed above. If you would try to use this profile to create a molecular atmosphere for Eradiate, you would find that it fails. The profile we just loaded contains three extra dimensions: `time`, `lon`, and `lat`. We remove them by squeezing the profile."
   ]
  },
  {
   "cell_type": "code",
   "execution_count": null,
   "metadata": {},
   "outputs": [],
   "source": [
    "thermoprops_custom = thermoprops_custom.squeeze()\n",
    "thermoprops_custom"
   ]
  },
  {
   "cell_type": "markdown",
   "metadata": {},
   "source": [
    "To create an Eradiate atmosphere with this custom profile, we use the same approach as for the classic rescaling."
   ]
  },
  {
   "cell_type": "code",
   "execution_count": null,
   "metadata": {
    "scrolled": true
   },
   "outputs": [],
   "source": [
    "molecular_custom = MolecularAtmosphere(\n",
    "    thermoprops=thermoprops_custom\n",
    ")"
   ]
  },
  {
   "cell_type": "markdown",
   "metadata": {},
   "source": [
    "This profile is a modification of the AFGL-1986 US-Standard profile. Notably it contains a vertical profile for ozone, based on data from the EAC4 dataset.\n",
    "\n",
    "Adding this new profile to the previous plot reveals the difference."
   ]
  },
  {
   "cell_type": "code",
   "execution_count": null,
   "metadata": {},
   "outputs": [],
   "source": [
    "us_standard._thermoprops.x_O3.plot(y=\"z\", label=\"US-Standard\")\n",
    "molecular_rescaled._thermoprops.x_O3.plot(y=\"z\", label=\"Rescaled to 125%\")\n",
    "molecular_custom._thermoprops.x_O3.plot(y=\"z\", label=\"Custom profile\")\n",
    "plt.legend()\n",
    "plt.title(\"\")\n",
    "plt.show()"
   ]
  },
  {
   "cell_type": "markdown",
   "metadata": {},
   "source": [
    "As you can see, the peak of the distribution is positioned lower in the atmosphere, compared to the standard profile. Note the discontinuity around 55km. The ozone data in EAC4 only covers altitudes up to circa 55km. Above that, we stitched this data to the original data of the US-Standard atmosphere. At 55km elevation, atmospheric pressure and in turn number density and absorption are so low, that this discontinuity has negligible effect."
   ]
  },
  {
   "cell_type": "markdown",
   "metadata": {},
   "source": [
    "## Running a simulation\n",
    "\n",
    "Finally, to gauge the effect of the custom atmospheric profile, let us set up a simulation of a spectral band that is affected by absorption by ozone. We choose Band 6 of the OLCI instrument on the Sentinel 3A satellite."
   ]
  },
  {
   "cell_type": "code",
   "execution_count": null,
   "metadata": {},
   "outputs": [],
   "source": [
    "def get_exp(atmosphere):\n",
    "    surface = eradiate.scenes.bsdfs.LambertianBSDF(reflectance=0.3)\n",
    "    illumination = eradiate.scenes.illumination.DirectionalIllumination(zenith=45, azimuth=0)\n",
    "    measure = eradiate.scenes.measure.MultiDistantMeasure.hplane(\n",
    "        zeniths=np.arange(-60, 61, 2),\n",
    "        azimuth=0,\n",
    "        srf=\"sentinel_3a-olci-6\",\n",
    "    )\n",
    "\n",
    "    exp = eradiate.experiments.AtmosphereExperiment(\n",
    "        surface=surface,\n",
    "        illumination=illumination,\n",
    "        measures=measure,\n",
    "        atmosphere=atmosphere\n",
    "    )\n",
    "    return exp"
   ]
  },
  {
   "cell_type": "code",
   "execution_count": null,
   "metadata": {},
   "outputs": [],
   "source": [
    "results = {}\n",
    "for name, atmo in {\"USST\": us_standard,\"custom\": molecular_custom}.items():\n",
    "    exp = get_exp(atmo)\n",
    "    results[name] = eradiate.run(exp, spp=1000)"
   ]
  },
  {
   "cell_type": "code",
   "execution_count": null,
   "metadata": {},
   "outputs": [],
   "source": [
    "fig, ax = plt.subplots(1,1)\n",
    "for name, result in results.items():\n",
    "    result.brf_srf.plot(ax=ax, label=name, x=\"vza\")\n",
    "plt.legend(title=\"Atmosphere type\")"
   ]
  },
  {
   "cell_type": "markdown",
   "metadata": {},
   "source": [
    "We see, that the custom atmosphere profile shows significantly different absorption than the US-Standard atmosphere."
   ]
  },
  {
   "cell_type": "markdown",
   "metadata": {
    "raw_mimetype": "text/restructuredtext",
    "tags": []
   },
   "source": [
    "----\n",
    "\n",
    "Final words\n",
    "-----------\n",
    "\n",
    "You have learned about the difference between standard atmosphere profiles, classic rescaling and customized thermophysical properties profiles. You have learned how to format a dataset to use it in an Eradiate Molecular atmosphere.\n",
    "Finally you have learned how to use a custom profile in an Eradiate simulation.\n",
    "\n",
    "Further reading\n",
    "---------------\n",
    "\n",
    "*TBD*"
   ]
  }
 ],
 "metadata": {
  "kernelspec": {
   "display_name": "Python 3 (ipykernel)",
   "language": "python",
   "name": "python3"
  },
  "language_info": {
   "codemirror_mode": {
    "name": "ipython",
    "version": 3
   },
   "file_extension": ".py",
   "mimetype": "text/x-python",
   "name": "python",
   "nbconvert_exporter": "python",
   "pygments_lexer": "ipython3",
   "version": "3.9.19"
  }
 },
 "nbformat": 4,
 "nbformat_minor": 4
}
