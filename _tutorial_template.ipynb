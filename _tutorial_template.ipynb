{
 "cells": [
  {
   "cell_type": "raw",
   "metadata": {
    "raw_mimetype": "text/restructuredtext",
    "tags": []
   },
   "source": [
    "Tutorial name\n",
    "=============\n",
    "\n",
    ".. admonition:: Overview\n",
    "\n",
    "   *A brief description of the tutorial introducing some context. Possibly a nice figure related with the tutorial's topic.*\n",
    "\n",
    ".. admonition:: Prerequisites\n",
    "\n",
    "   *What the reader is expected to know.*\n",
    "\n",
    ".. admonition:: What you will learn\n",
    "\n",
    "   *What the reader will know after completing the tutorial.*\n",
    "\n",
    ".. admonition:: Additional requirements\n",
    "\n",
    "   *If relevant, extra data and packages required to complete the tutorial.*\n",
    "\n",
    "----"
   ]
  },
  {
   "cell_type": "markdown",
   "metadata": {},
   "source": [
    "## Section 1\n",
    "\n",
    "*Write your content here, add code cells and Markdown as you need.*"
   ]
  },
  {
   "cell_type": "markdown",
   "metadata": {},
   "source": [
    "## Section 2\n",
    "\n",
    "*Write your content here, add code cells and Markdown as you need.*"
   ]
  },
  {
   "cell_type": "raw",
   "metadata": {
    "raw_mimetype": "text/restructuredtext",
    "tags": []
   },
   "source": [
    "----\n",
    "\n",
    "Final words\n",
    "-----------\n",
    "\n",
    "*A conclusion to the tutorial.*\n",
    "\n",
    "Further reading\n",
    "---------------\n",
    "\n",
    "*Additional references to go deeper (may also be links to the documentation or other tutorials).*"
   ]
  }
 ],
 "metadata": {
  "kernelspec": {
   "display_name": "Python 3 (ipykernel)",
   "language": "python",
   "name": "python3"
  },
  "language_info": {
   "codemirror_mode": {
    "name": "ipython",
    "version": 3
   },
   "file_extension": ".py",
   "mimetype": "text/x-python",
   "name": "python",
   "nbconvert_exporter": "python",
   "pygments_lexer": "ipython3",
   "version": "3.8.17"
  }
 },
 "nbformat": 4,
 "nbformat_minor": 4
}
