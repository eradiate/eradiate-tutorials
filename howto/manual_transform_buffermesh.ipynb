{
 "cells": [
  {
   "cell_type": "code",
   "execution_count": 1,
   "id": "415ce48e-bae5-4db6-98f5-04368f045c63",
   "metadata": {},
   "outputs": [
    {
     "data": {
      "text/markdown": [
       "*Last updated: 2024-01-11 10:40 (eradiate v0.25.1.dev1+gae91f29d.d20240108)*"
      ],
      "text/plain": [
       "<IPython.core.display.Markdown object>"
      ]
     },
     "metadata": {},
     "output_type": "display_data"
    }
   ],
   "source": [
    "%reload_ext eradiate.notebook.tutorials"
   ]
  },
  {
   "cell_type": "raw",
   "id": "21b46d8b-b24b-4b60-8796-ad8036032017",
   "metadata": {
    "editable": true,
    "raw_mimetype": "text/restructuredtext",
    "slideshow": {
     "slide_type": ""
    },
    "tags": []
   },
   "source": [
    "Manually transforming vertices for a buffermesh\n",
    "===============================================\n",
    "\n",
    ".. admonition:: Overview\n",
    "\n",
    "   This tutorial demonstrates how to manually apply a to_world transform to a list of vertices, when constructing a Buffermesh class.\n",
    "\n",
    ".. admonition:: What you will learn\n",
    "\n",
    "   * How to manually apply a mitsuba transform to a list of vertices and create a buffermesh object.\n",
    "\n",
    "----"
   ]
  },
  {
   "cell_type": "markdown",
   "id": "498fde73-86ad-49a2-a2fc-08b8f2516852",
   "metadata": {},
   "source": [
    "First we load Eradiate and set the mono mode. After that we import mitsuba directly."
   ]
  },
  {
   "cell_type": "code",
   "execution_count": 2,
   "id": "d534169a-f749-406e-b562-132238724749",
   "metadata": {},
   "outputs": [],
   "source": [
    "%load_ext eradiate\n",
    "import eradiate\n",
    "from eradiate import unit_registry as ureg\n",
    "eradiate.set_mode(\"mono\")\n",
    "\n",
    "import mitsuba as mi"
   ]
  },
  {
   "cell_type": "markdown",
   "id": "c422722b-23e7-48f4-9f35-f76c233c24a3",
   "metadata": {},
   "source": [
    "Next we import a few helper libraries"
   ]
  },
  {
   "cell_type": "code",
   "execution_count": 3,
   "id": "f18429d1-1441-4ece-b3e2-ad0f1611fe7f",
   "metadata": {},
   "outputs": [],
   "source": [
    "import numpy as np\n",
    "import matplotlib.pyplot as plt"
   ]
  },
  {
   "cell_type": "markdown",
   "id": "852e19d5-9b25-48ee-8cdc-0ec069d37e62",
   "metadata": {},
   "source": [
    "Next we create a simple mesh based object, here we use a rectangle."
   ]
  },
  {
   "cell_type": "code",
   "execution_count": 4,
   "id": "10c1d842-baac-495a-8e4c-d3b287a88bf6",
   "metadata": {},
   "outputs": [],
   "source": [
    "vertices = np.array([[-1, -1, 0], [1, -1, 0], [-1, 1, 0], [1, 1, 0]])\n",
    "faces = [[0, 1, 2], [1, 3, 2]]"
   ]
  },
  {
   "cell_type": "code",
   "execution_count": 5,
   "id": "347c5bbb-6746-4e32-9af7-3529b55f4539",
   "metadata": {},
   "outputs": [],
   "source": [
    "mesh = eradiate.scenes.shapes.BufferMeshShape(\n",
    "    vertices=vertices,\n",
    "    faces=faces,\n",
    "    bsdf=eradiate.scenes.bsdfs.LambertianBSDF(reflectance=0.5)\n",
    ")"
   ]
  },
  {
   "cell_type": "markdown",
   "id": "38e7df95-fbe8-48b0-a267-20ce3be9cce1",
   "metadata": {},
   "source": [
    "Next we set up a simple scene to visualise the mesh object."
   ]
  },
  {
   "cell_type": "code",
   "execution_count": 6,
   "id": "1cdfabe3-7676-415c-b24d-ba32ba2a4b16",
   "metadata": {},
   "outputs": [],
   "source": [
    "def create_experiment(mesh):\n",
    "    illu = eradiate.scenes.illumination.DirectionalIllumination(zenith=45)\n",
    "    sensor = eradiate.scenes.measure.PerspectiveCameraMeasure(\n",
    "        origin=(10, 10, 10), \n",
    "        target=(0, 0, 0), \n",
    "        up=(0, 0, 1), \n",
    "        fov=20, \n",
    "        film_resolution=(256, 256),\n",
    "        spp=16\n",
    "    )\n",
    "\n",
    "    exp = eradiate.experiments.AtmosphereExperiment(\n",
    "        atmosphere=None,\n",
    "        surface=None,\n",
    "        illumination=illu,\n",
    "        measures=sensor,\n",
    "        extra_objects = {\n",
    "            \"rectangle\": mesh\n",
    "        }\n",
    "    )\n",
    "\n",
    "    return exp"
   ]
  },
  {
   "cell_type": "code",
   "execution_count": 7,
   "id": "756bf39a-f939-403e-8a6f-89f80140dd08",
   "metadata": {},
   "outputs": [],
   "source": [
    "exp = create_experiment(mesh)"
   ]
  },
  {
   "cell_type": "markdown",
   "id": "254305c1-63a2-4ceb-970b-902f5604bb76",
   "metadata": {},
   "source": [
    "Now we run the simulation and visualise the result."
   ]
  },
  {
   "cell_type": "code",
   "execution_count": 8,
   "id": "c4e7d6f2-33a3-4d47-82b1-fb2f048c09dc",
   "metadata": {},
   "outputs": [
    {
     "data": {
      "application/vnd.jupyter.widget-view+json": {
       "model_id": "4f60c81ec7da4e288760519492ca6e0f",
       "version_major": 2,
       "version_minor": 0
      },
      "text/plain": [
       "Mitsuba:   0%|          | 00:00, ETA=?"
      ]
     },
     "metadata": {},
     "output_type": "display_data"
    },
    {
     "data": {
      "text/html": [
       "<pre style=\"white-space:pre;overflow-x:auto;line-height:normal;font-family:Menlo,'DejaVu Sans Mono',consolas,'Courier New',monospace\"></pre>\n"
      ],
      "text/plain": []
     },
     "metadata": {},
     "output_type": "display_data"
    },
    {
     "data": {
      "text/plain": [
       "\u001b[1m<\u001b[0m\u001b[1;95mmatplotlib.image.AxesImage\u001b[0m\u001b[39m object at \u001b[0m\u001b[1;36m0x7f1aa0719310\u001b[0m\u001b[1m>\u001b[0m"
      ]
     },
     "execution_count": 8,
     "metadata": {},
     "output_type": "execute_result"
    },
    {
     "data": {
      "text/html": [
       "<pre style=\"white-space:pre;overflow-x:auto;line-height:normal;font-family:Menlo,'DejaVu Sans Mono',consolas,'Courier New',monospace\"></pre>\n"
      ],
      "text/plain": []
     },
     "metadata": {},
     "output_type": "display_data"
    },
    {
     "data": {
      "image/png": "[encoded data removed]",
      "text/plain": [
       "\u001b[1m<\u001b[0m\u001b[1;95mFigure\u001b[0m\u001b[39m size 64\u001b[0m\u001b[1;36m0x480\u001b[0m\u001b[39m with \u001b[0m\u001b[1;36m1\u001b[0m\u001b[39m Axes\u001b[0m\u001b[1m>\u001b[0m"
      ]
     },
     "metadata": {},
     "output_type": "display_data"
    }
   ],
   "source": [
    "result = eradiate.run(exp)\n",
    "plt.imshow(result.radiance.squeeze())"
   ]
  },
  {
   "cell_type": "markdown",
   "id": "a0d39590-ab5e-4bf0-9ca1-7725d41a655a",
   "metadata": {},
   "source": [
    "We see the rectangle. Next we create a scaling transform, that will elongate the rectangle along one direction."
   ]
  },
  {
   "cell_type": "code",
   "execution_count": 9,
   "id": "75230f09-1ba4-4064-807b-961bf570dc53",
   "metadata": {},
   "outputs": [],
   "source": [
    "trafo = mi.Transform4f.scale((1, 3, 1))"
   ]
  },
  {
   "cell_type": "code",
   "execution_count": 10,
   "id": "c7956a39-6d51-4130-8f4e-98172e8ca27a",
   "metadata": {},
   "outputs": [],
   "source": [
    "vertices_transformed = eradiate.warp.transform_affine(trafo, vertices)"
   ]
  },
  {
   "cell_type": "markdown",
   "id": "c8ff2a65-a6c4-4426-8c15-a4b0bba2dcae",
   "metadata": {},
   "source": [
    "We create a new buffermesh object, a new experiment, and run the simulation."
   ]
  },
  {
   "cell_type": "code",
   "execution_count": 11,
   "id": "045b8106-6f19-4bc4-ae8b-c0e05d9a3049",
   "metadata": {},
   "outputs": [
    {
     "data": {
      "application/vnd.jupyter.widget-view+json": {
       "model_id": "a2d593569ad64670afdb2340b6a41c3c",
       "version_major": 2,
       "version_minor": 0
      },
      "text/plain": [
       "Mitsuba:   0%|          | 00:00, ETA=?"
      ]
     },
     "metadata": {},
     "output_type": "display_data"
    },
    {
     "data": {
      "text/html": [
       "<pre style=\"white-space:pre;overflow-x:auto;line-height:normal;font-family:Menlo,'DejaVu Sans Mono',consolas,'Courier New',monospace\"></pre>\n"
      ],
      "text/plain": []
     },
     "metadata": {},
     "output_type": "display_data"
    },
    {
     "data": {
      "text/plain": [
       "\u001b[1m<\u001b[0m\u001b[1;95mmatplotlib.image.AxesImage\u001b[0m\u001b[39m object at \u001b[0m\u001b[1;36m0x7f1aa0587700\u001b[0m\u001b[1m>\u001b[0m"
      ]
     },
     "execution_count": 11,
     "metadata": {},
     "output_type": "execute_result"
    },
    {
     "data": {
      "text/html": [
       "<pre style=\"white-space:pre;overflow-x:auto;line-height:normal;font-family:Menlo,'DejaVu Sans Mono',consolas,'Courier New',monospace\"></pre>\n"
      ],
      "text/plain": []
     },
     "metadata": {},
     "output_type": "display_data"
    },
    {
     "data": {
      "image/png": "[encoded data removed]",
      "text/plain": [
       "\u001b[1m<\u001b[0m\u001b[1;95mFigure\u001b[0m\u001b[39m size 64\u001b[0m\u001b[1;36m0x480\u001b[0m\u001b[39m with \u001b[0m\u001b[1;36m1\u001b[0m\u001b[39m Axes\u001b[0m\u001b[1m>\u001b[0m"
      ]
     },
     "metadata": {},
     "output_type": "display_data"
    }
   ],
   "source": [
    "mesh_transformed = eradiate.scenes.shapes.BufferMeshShape(\n",
    "    vertices=vertices_transformed,\n",
    "    faces=faces,\n",
    "    bsdf=eradiate.scenes.bsdfs.LambertianBSDF(reflectance=0.5)\n",
    ")\n",
    "\n",
    "exp_transformed = create_experiment(mesh_transformed)\n",
    "\n",
    "result_transformed = eradiate.run(exp_transformed)\n",
    "\n",
    "plt.imshow(result_transformed.radiance.squeeze())"
   ]
  },
  {
   "cell_type": "markdown",
   "id": "b6f62829-173b-479e-8807-51b2c1783361",
   "metadata": {},
   "source": [
    "The rectangle is now elongated along one axis. The procedure works the same for all types of affine transformations that are available in the mitsuba Transform4f class."
   ]
  },
  {
   "cell_type": "raw",
   "id": "bef61303-451e-4a97-b771-71f08b03b401",
   "metadata": {
    "editable": true,
    "raw_mimetype": "text/restructuredtext",
    "slideshow": {
     "slide_type": ""
    },
    "tags": []
   },
   "source": [
    "----\n",
    "\n",
    "Further reading\n",
    "---------------\n",
    "\n",
    "The mitsuba documentation explains the different transformations which are available and how to chain them in order to get the expected results."
   ]
  }
 ],
 "metadata": {
  "kernelspec": {
   "display_name": "Python 3 (ipykernel)",
   "language": "python",
   "name": "python3"
  },
  "language_info": {
   "codemirror_mode": {
    "name": "ipython",
    "version": 3
   },
   "file_extension": ".py",
   "mimetype": "text/x-python",
   "name": "python",
   "nbconvert_exporter": "python",
   "pygments_lexer": "ipython3",
   "version": "3.8.18"
  }
 },
 "nbformat": 4,
 "nbformat_minor": 5
}
