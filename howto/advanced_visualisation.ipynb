{
 "cells": [
  {
   "cell_type": "raw",
   "id": "7aa0416a-e6e4-444d-a963-e4f600f1e7ef",
   "metadata": {
    "raw_mimetype": "text/restructuredtext",
    "tags": []
   },
   "source": [
    "Advanced visualisation\n",
    "======================\n",
    "\n",
    ".. admonition:: Overview\n",
    "\n",
    "   In this tutorial, we introduce visualisation techniques for the data used and produced\n",
    "   by Eradiate.\n",
    "\n",
    ".. admonition:: Prerequisites\n",
    "\n",
    "   * Basic understanding of Eradiate's angular conventions \n",
    "     (see :ref:`sec-user_guide-conventions` for details).\n",
    "   * Basic knowledge of xarray's data structures \n",
    "     (see `the xarray documentation <https://docs.xarray.dev>`_ for an introduction).\n",
    "\n",
    ".. admonition:: What you will learn\n",
    "\n",
    "   How to visualise conveniently the hemispherical data used produced by Eradiate.\n",
    "\n",
    "----"
   ]
  },
  {
   "cell_type": "markdown",
   "id": "bb331599-bbee-4345-8637-fa04e9b17743",
   "metadata": {},
   "source": [
    "Let's start by running a quick sample simulation. We use a hemispherical distant measure, which samples uniformly the hemisphere and stores radiance samples in a *film* data structure which maps the [0, 1]² space to the hemisphere. This coverage method is more efficient than uniform gridding of the (zenith, azimuth) space, but the output data can be tricky to manipulate and visualise."
   ]
  },
  {
   "cell_type": "code",
   "execution_count": null,
   "id": "7d66ba2c-9f08-41e7-ae39-6640f1e0f45a",
   "metadata": {},
   "outputs": [],
   "source": [
    "%load_ext eradiate\n",
    "import eradiate as ert\n",
    "ert.set_mode(\"mono\")\n",
    "\n",
    "def run_exp(\n",
    "    film_resolution=(32, 32),\n",
    "    illumination_convention=\"east_right\",\n",
    "    measure_convention=\"east_right\",\n",
    "):\n",
    "    exp = ert.experiments.OneDimExperiment(\n",
    "        surface={\"type\": \"rpv\"},\n",
    "        illumination={\n",
    "            \"type\": \"directional\",\n",
    "            \"zenith\": 30,\n",
    "            \"azimuth\": 90,\n",
    "            \"azimuth_convention\": illumination_convention,\n",
    "        },\n",
    "        measures={\n",
    "            \"type\": \"hdistant\",\n",
    "            \"spp\": 100000,\n",
    "            \"film_resolution\": film_resolution,\n",
    "            \"azimuth_convention\": measure_convention,\n",
    "        },\n",
    "    )\n",
    "    return ert.run(exp).squeeze(drop=True)  # Squeeze and drop scalar dimensions\n",
    "\n",
    "result = run_exp()"
   ]
  },
  {
   "cell_type": "markdown",
   "id": "6896a91c-f670-44b4-aa2c-b031899a0068",
   "metadata": {},
   "source": [
    "## Inspecting and preparing the dataset\n",
    "\n",
    "The dataset itself has a comprehensive represention, which we can use to check what the data looks like. In the output of the following cell, pay attention to the *Dimensions* entry, then take a look at the dimensions associated with the `vza`, `vaa` and `radiance` variables."
   ]
  },
  {
   "cell_type": "code",
   "execution_count": null,
   "id": "337d21ee-2dbc-4d49-a91e-f1d122b50fcd",
   "metadata": {},
   "outputs": [],
   "source": [
    "result"
   ]
  },
  {
   "cell_type": "raw",
   "id": "712309b6-16a2-490c-97d5-75df693a118a",
   "metadata": {
    "raw_mimetype": "text/restructuredtext",
    "tags": []
   },
   "source": [
    "The ordering of the various dimensions is critical because it reflects how the data is laid out internally. Dimension ordering may be different from a variable to another; it is not automatically a problem, and xarray usually accomodates this well; it may however be a problem when flattening data buffers because variables with different dimension ordering will have different (and incompatible) data layouts. We can remedy that by forcing dimension ordering using :meth:`Dataset.transpose() <xarray.Dataset.transpose>` and force all variables to have the same dimension ordering. We arbitrarily decide to use a column-major dimension order (film width is the innermost dimension)."
   ]
  },
  {
   "cell_type": "code",
   "execution_count": null,
   "id": "8dce900d-3320-4632-b07f-7575cca92a19",
   "metadata": {},
   "outputs": [],
   "source": [
    "result = result.transpose(\"y_index\", \"x_index\")\n",
    "result"
   ]
  },
  {
   "cell_type": "markdown",
   "id": "ced346e5-c02a-4267-9278-d6c65e87656b",
   "metadata": {},
   "source": [
    "## Visualising the film data\n",
    "\n",
    "Now that our data layout is nice and uniform, we can take a look at is the film data itself. The plotting facilities offered by xarray are very convenient to get a quick overview:"
   ]
  },
  {
   "cell_type": "code",
   "execution_count": null,
   "id": "d277d237-a830-48c3-996c-c96482a948d2",
   "metadata": {},
   "outputs": [],
   "source": [
    "result.radiance.squeeze().plot.imshow()"
   ]
  },
  {
   "cell_type": "markdown",
   "id": "a55980dd-53bc-43a9-9e6d-af9d0361adb4",
   "metadata": {},
   "source": [
    "This is not a great plot, but it is already useful for a quick check. We can see that the hotspot we would expect from the RPV surface we used is correctly position (zenith 30°, azimuth 90° in the East right convention). The dimension ordering we have chosen is arbitrary, but not entirely random: it guarantees that xarray will map the film width to the *x* axis. A major issue with this plot is that it does not have an equal aspect ratio for the *x* and *y* axes: pixels are not squares.\n",
    "\n",
    "Let's build a cleaner plot. We will also add the viewing angles to see how they are mapped to the film."
   ]
  },
  {
   "cell_type": "code",
   "execution_count": null,
   "id": "85db115b-4bb1-485b-b934-cd5636fa900d",
   "metadata": {},
   "outputs": [],
   "source": [
    "import matplotlib.pyplot as plt\n",
    "from mpl_toolkits.axes_grid1 import make_axes_locatable\n",
    "\n",
    "def plot_film(ds):\n",
    "    fig, axs = plt.subplots(1, 3, figsize=(4*3, 4))\n",
    "\n",
    "    for (var, title, cmap), ax in zip(\n",
    "        [\n",
    "            [\"radiance\", \"Radiance\", \"viridis\"], \n",
    "            [\"vza\", \"Zenith\", \"cividis\"], \n",
    "            [\"vaa\", \"Azimuth\", \"cividis\"],\n",
    "        ],\n",
    "        axs,\n",
    "    ):\n",
    "        divider = make_axes_locatable(ax)\n",
    "        cax = divider.append_axes(\"right\", size=\"5%\", pad=0.1)\n",
    "        im = ax.imshow(\n",
    "            ds[var].values,\n",
    "            aspect=\"equal\",  # Important to get square pixels\n",
    "            origin=\"lower\",  # Position the origin as on the xarray plot\n",
    "            cmap=cmap,\n",
    "        )\n",
    "        fig.colorbar(im, cax=cax)\n",
    "        ax.set_title(title)\n",
    "\n",
    "    plt.tight_layout()\n",
    "    plt.show()\n",
    "    plt.close()\n",
    "    \n",
    "plot_film(result)"
   ]
  },
  {
   "cell_type": "markdown",
   "id": "1dd43dc0-e7f8-4d41-9413-cd6a5688b437",
   "metadata": {},
   "source": [
    "We enforced an equal aspect ratio for the *x* and *y* axes, and we can see that the viewing azimuth angles are mapped to film coordinates following with the East right convention."
   ]
  },
  {
   "cell_type": "markdown",
   "id": "f25d9803-a3dc-4042-8508-14719eada79e",
   "metadata": {},
   "source": [
    "## Gridded polar plots\n",
    "\n",
    "Film coordinates are not the canonical representation for hemispherical data in Earth observation. Instead, scientists usually prefer polar representations. We can make polar plots with our film data with a little bit of effort."
   ]
  },
  {
   "cell_type": "raw",
   "id": "e38afe83-9e66-4487-b43c-831b8aab2764",
   "metadata": {
    "raw_mimetype": "text/restructuredtext",
    "tags": []
   },
   "source": [
    "The first approach consists in gridding the data in the (zenith, azimuth) space. Eradiate includes the :func:`.film_to_angular` function to automate this task. It is also accessible through the xarray accessor. In order to use this feature, we first have to make sure that the index coordinates for the film data are the film coordinates, and not pixel indices. Wethen use the accessor to grid the data on a 5°-spaced angular grid."
   ]
  },
  {
   "cell_type": "code",
   "execution_count": null,
   "id": "1f70af34-0fd0-467b-8593-39bf2b6c0da9",
   "metadata": {},
   "outputs": [],
   "source": [
    "import numpy as np\n",
    "import eradiate.xarray\n",
    "\n",
    "da = result.radiance.swap_dims(y_index=\"y\", x_index=\"x\")\n",
    "da = da.ert.to_angular(\n",
    "    theta=np.deg2rad(np.arange(0, 91, 5)),\n",
    "    phi=np.deg2rad(np.arange(0, 360, 5)),\n",
    ")\n",
    "da"
   ]
  },
  {
   "cell_type": "raw",
   "id": "91b7d7df-5fdb-42ad-8fb2-9861f27f30df",
   "metadata": {
    "raw_mimetype": "text/restructuredtext",
    "tags": []
   },
   "source": [
    "We can now proceed with plotting using the :func:`~matplotlib.pyplot.pcolormesh` function."
   ]
  },
  {
   "cell_type": "code",
   "execution_count": null,
   "id": "fabc46c7-ff55-45a6-b38a-74ee9f876740",
   "metadata": {},
   "outputs": [],
   "source": [
    "import numpy as np\n",
    "\n",
    "def plot_polargrid(da):\n",
    "    da = da.transpose(\"theta\", \"phi\")  # Ensure appropriate data layout\n",
    "    phi = da.phi.values  # Radian\n",
    "    theta = np.rad2deg(da.theta.values)  # Degree\n",
    "    values = da.values\n",
    "\n",
    "    fig, ax = plt.subplots(1, 1, subplot_kw={\"projection\": \"polar\"})\n",
    "\n",
    "    ax.grid(False)  # Hide the grid\n",
    "    plt.pcolormesh(phi, theta, values, shading=\"nearest\")\n",
    "    plt.colorbar()\n",
    "    ax.set_yticklabels([])  # No radial tick labels\n",
    "\n",
    "    plt.show()\n",
    "    plt.close()\n",
    "\n",
    "plot_polargrid(da)"
   ]
  },
  {
   "cell_type": "markdown",
   "id": "8a802263-730a-44c8-a4b7-85bacab6a3a0",
   "metadata": {},
   "source": [
    "This method is costly because the gridding step interpolates the film data. However, it uses Matplotlib's polar plotting features, which make it easy to customise the final plot. We can, for instance, change the azimuth convention very easily."
   ]
  },
  {
   "cell_type": "code",
   "execution_count": null,
   "id": "54487a60-81bf-441c-a7c9-cbe87540114e",
   "metadata": {},
   "outputs": [],
   "source": [
    "def plot_polargrid_north_left(da):\n",
    "    da = da.transpose(\"theta\", \"phi\")  # Ensure appropriate data layout\n",
    "    phi = da.phi.values  # Radian\n",
    "    theta = np.rad2deg(da.theta.values)  # Degree\n",
    "    values = da.values\n",
    "\n",
    "    fig, ax = plt.subplots(1, 1, subplot_kw={\"projection\": \"polar\"})\n",
    "\n",
    "    ax.grid(False)  # Hide the grid\n",
    "    plt.pcolormesh(phi, theta, values, shading=\"nearest\")\n",
    "    plt.colorbar()\n",
    "    ax.set_yticklabels([])  # No radial tick labels\n",
    "    ax.set_theta_direction(-1)\n",
    "    ax.set_theta_offset(np.pi / 2.0)\n",
    "\n",
    "    plt.show()\n",
    "    plt.close()\n",
    "\n",
    "plot_polargrid_north_left(da)"
   ]
  },
  {
   "cell_type": "raw",
   "id": "04f8d6a9-86c2-4fcb-a5ee-31d22df8c6f5",
   "metadata": {
    "raw_mimetype": "text/restructuredtext",
    "tags": []
   },
   "source": [
    "Polar film plots\n",
    "----------------\n",
    "\n",
    "We do not necessarily had to grid the data to make a polar plot. Another approach is to use the :func:`~matplotlib.pyplot.tricontourf` function to make a contour plot with ungridded data. The following code optionally superimposes contour lines and azimuth values for checks."
   ]
  },
  {
   "cell_type": "code",
   "execution_count": null,
   "id": "5ef9fa99-04cc-4a7e-886e-c7362ac16b23",
   "metadata": {},
   "outputs": [],
   "source": [
    "import matplotlib.pyplot as plt\n",
    "import matplotlib.tri as tri\n",
    "\n",
    "\n",
    "def plot_polarfilm(ds, levels=16, show_contour=True, show_azimuth=False):\n",
    "    radiances = ds.radiance.values.ravel()\n",
    "    zeniths = ds.vza.values.ravel()  # Degree\n",
    "    azimuths = np.deg2rad(ds.vaa.values).ravel()  # Radian\n",
    "\n",
    "    # Create triangulation\n",
    "    x = zeniths * np.cos(azimuths)\n",
    "    y = zeniths * np.sin(azimuths)\n",
    "    triangles = tri.Triangulation(x, y)\n",
    "    \n",
    "    # Make plot\n",
    "    fig = plt.figure(0, figsize=(4, 4))\n",
    "    rect = [0, 0, 1, 1]\n",
    "    \n",
    "    ## Main plot in Cartesian coordinates\n",
    "    ax_cartesian = fig.add_axes(rect, aspect=\"equal\")\n",
    "    ax_cartesian.axis(\"off\")  # Hide axis\n",
    "    ctr = ax_cartesian.tricontourf(triangles, radiances, levels=levels, cmap=\"viridis\")\n",
    "    \n",
    "    if show_contour:\n",
    "        ax_cartesian.tricontour(triangles, radiances, levels=16, linewidths=0.5, colors=\"k\")\n",
    "    \n",
    "    if show_azimuth:\n",
    "        ax_cartesian.scatter(x, y, c=azimuths, cmap=\"plasma\", s=3)\n",
    "\n",
    "    ax_cartesian.set_xlim([-90, 90])  ## Match limits with the full zenith range\n",
    "    ax_cartesian.set_ylim([-90, 90])\n",
    "    \n",
    "    ## Polar axes\n",
    "    ax_polar = fig.add_axes(rect, polar=True, facecolor=\"none\")\n",
    "    ax_polar.set_rlim([0, 90]) # Cover the full zenith value range\n",
    "    ax_polar.grid(False)  # Hide the polar grid\n",
    "    ax_polar.set_yticklabels([])  # No radial tick labels\n",
    "    \n",
    "    # Add the color bar (important: both axes must be adjusted)\n",
    "    fig.colorbar(ctr, ax=[ax_cartesian, ax_polar])\n",
    "\n",
    "    plt.show()\n",
    "    plt.close()\n",
    "    \n",
    "plot_polarfilm(result)"
   ]
  },
  {
   "cell_type": "markdown",
   "id": "1430b859-d3cf-4443-ac81-9a69c6da545e",
   "metadata": {},
   "source": [
    "We can refine the levels to get a smoother colour map:"
   ]
  },
  {
   "cell_type": "code",
   "execution_count": null,
   "id": "13c54c1e-cf53-4ea6-aa8a-ddc1dad66276",
   "metadata": {},
   "outputs": [],
   "source": [
    "plot_polarfilm(result, levels=128, show_contour=False)"
   ]
  },
  {
   "cell_type": "markdown",
   "id": "4e29f445-ea09-4234-a81c-e12ba5b09c0a",
   "metadata": {},
   "source": [
    "And we can also add the stored azimuth values:"
   ]
  },
  {
   "cell_type": "code",
   "execution_count": null,
   "id": "107c7a51-5d01-4a55-bf62-7a76e5f56da2",
   "metadata": {},
   "outputs": [],
   "source": [
    "plot_polarfilm(result, levels=128, show_contour=False, show_azimuth=True)"
   ]
  },
  {
   "cell_type": "markdown",
   "id": "c6a70eb2-b9a4-4b8a-9fae-cf2f2cc8e498",
   "metadata": {},
   "source": [
    "Modifying the previous code to use the North left azimuth convention is similar to what we did for the gridded plot—with the important addition that angles must be transformed manually for the Cartesian part of the plot. The polar axes indeed display no data."
   ]
  },
  {
   "cell_type": "code",
   "execution_count": null,
   "id": "8ff3f830-5eae-4d92-98fa-8a8daa5c22ea",
   "metadata": {},
   "outputs": [],
   "source": [
    "def plot_polarfilm_north_left(ds, levels=16, show_contour=True, show_azimuth=False):\n",
    "    radiances = ds.radiance.values.ravel()\n",
    "    zeniths = ds.vza.values.ravel()  # Degree\n",
    "    azimuths = ert.frame.transform_azimuth(\n",
    "        np.deg2rad(ds.vaa.values).ravel(), to_convention=\"north_left\"\n",
    "    )  # Radian\n",
    "\n",
    "    # Create triangulation\n",
    "    x = zeniths * np.cos(azimuths)\n",
    "    y = zeniths * np.sin(azimuths)\n",
    "    triangles = tri.Triangulation(x, y)\n",
    "    \n",
    "    # Make plot\n",
    "    fig = plt.figure(0, figsize=(4, 4))\n",
    "    rect = [0, 0, 1, 1]\n",
    "    \n",
    "    ## Main plot in Cartesian coordinates\n",
    "    ax_cartesian = fig.add_axes(rect, aspect=\"equal\")\n",
    "    ax_cartesian.axis(\"off\")  # Hide axis\n",
    "    ctr = ax_cartesian.tricontourf(triangles, radiances, levels=levels, cmap=\"viridis\")\n",
    "    \n",
    "    if show_contour:\n",
    "        ax_cartesian.tricontour(triangles, radiances, levels=16, linewidths=0.5, colors=\"k\")\n",
    "    \n",
    "    ax_cartesian.set_xlim([-90, 90])  ## Match limits with the full zenith range\n",
    "    ax_cartesian.set_ylim([-90, 90])\n",
    "    \n",
    "    ## Polar axes\n",
    "    ax_polar = fig.add_axes(rect, polar=True, facecolor=\"none\")\n",
    "    ax_polar.set_rlim([0, 90]) # Cover the full zenith value range\n",
    "    ax_polar.grid(False)  # Hide the polar grid\n",
    "    ax_polar.set_yticklabels([])  # No radial tick labels\n",
    "    ax_polar.set_theta_direction(-1)\n",
    "    ax_polar.set_theta_offset(np.pi / 2.0)\n",
    "    \n",
    "    # Add the color bar (important: both axes must be adjusted)\n",
    "    fig.colorbar(ctr, ax=[ax_cartesian, ax_polar])\n",
    "\n",
    "    plt.show()\n",
    "    plt.close()\n",
    "    \n",
    "plot_polarfilm_north_left(result)"
   ]
  },
  {
   "cell_type": "raw",
   "id": "ca99a4b8-61c0-4cf3-8537-41316060562a",
   "metadata": {
    "raw_mimetype": "text/restructuredtext",
    "tags": []
   },
   "source": [
    "----\n",
    "\n",
    "Final words\n",
    "-----------\n",
    "\n",
    "Plotting data is an important part of the scientific workflow and doing so in polar coordinates is a challenge. This tutorial provided you with some guidance, but you will very likely encounter situations where you will have to go beyond. Good luck!"
   ]
  }
 ],
 "metadata": {
  "kernelspec": {
   "display_name": "Python 3 (ipykernel)",
   "language": "python",
   "name": "python3"
  },
  "language_info": {
   "codemirror_mode": {
    "name": "ipython",
    "version": 3
   },
   "file_extension": ".py",
   "mimetype": "text/x-python",
   "name": "python",
   "nbconvert_exporter": "python",
   "pygments_lexer": "ipython3",
   "version": "3.8.13"
  }
 },
 "nbformat": 4,
 "nbformat_minor": 5
}
