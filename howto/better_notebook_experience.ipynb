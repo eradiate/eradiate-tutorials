{
 "cells": [
  {
   "cell_type": "code",
   "execution_count": 1,
   "id": "a7fc04f9-71a7-4f27-934a-3b6bac5a1644",
   "metadata": {
    "execution": {
     "iopub.execute_input": "2023-12-18T10:06:50.602984Z",
     "iopub.status.busy": "2023-12-18T10:06:50.602674Z",
     "iopub.status.idle": "2023-12-18T10:06:52.139200Z",
     "shell.execute_reply": "2023-12-18T10:06:52.138771Z"
    }
   },
   "outputs": [
    {
     "data": {
      "text/markdown": [
       "*Last updated: 2023-12-18 11:06 (eradiate v0.24.5.dev35+g131452cf.d20231215)*"
      ],
      "text/plain": [
       "<IPython.core.display.Markdown object>"
      ]
     },
     "metadata": {},
     "output_type": "display_data"
    }
   ],
   "source": [
    "%reload_ext eradiate.notebook.tutorials"
   ]
  },
  {
   "cell_type": "raw",
   "id": "971f68db-825d-4902-b58a-8f041e0d125e",
   "metadata": {
    "raw_mimetype": "text/restructuredtext",
    "tags": []
   },
   "source": [
    "A better notebook experience\n",
    "============================\n",
    "\n",
    ".. admonition:: Overview\n",
    "\n",
    "   This tutorial demonstrates features which make the experience of using Eradiate in a Jupyter notebook more enjoyable.\n",
    "\n",
    ".. admonition:: What you will learn\n",
    "\n",
    "   * How to load the Eradiate IPython extension.\n",
    "   * How it improves the notebook experience.\n",
    "\n",
    "----"
   ]
  },
  {
   "cell_type": "markdown",
   "id": "d44bc6da-959d-4baa-b240-5b9385776d12",
   "metadata": {},
   "source": [
    "First, we load Eradiate and select the CKD mode."
   ]
  },
  {
   "cell_type": "code",
   "execution_count": 2,
   "id": "24c9832c-1bf4-4682-ae06-3283557a63e8",
   "metadata": {
    "execution": {
     "iopub.execute_input": "2023-12-18T10:06:52.141094Z",
     "iopub.status.busy": "2023-12-18T10:06:52.140780Z",
     "iopub.status.idle": "2023-12-18T10:06:52.143097Z",
     "shell.execute_reply": "2023-12-18T10:06:52.142743Z"
    }
   },
   "outputs": [],
   "source": [
    "import eradiate\n",
    "from eradiate import unit_registry as ureg\n",
    "eradiate.set_mode(\"ckd\")"
   ]
  },
  {
   "cell_type": "markdown",
   "id": "43b897fe-77e6-460e-bf79-7cea70f4c18e",
   "metadata": {},
   "source": [
    "Let's define a very simulation with a single spectral bin, then visualise it:"
   ]
  },
  {
   "cell_type": "code",
   "execution_count": 3,
   "id": "f7d1f204-3b28-4d0c-8a06-ade964a797c1",
   "metadata": {
    "execution": {
     "iopub.execute_input": "2023-12-18T10:06:52.144579Z",
     "iopub.status.busy": "2023-12-18T10:06:52.144366Z",
     "iopub.status.idle": "2023-12-18T10:06:52.287323Z",
     "shell.execute_reply": "2023-12-18T10:06:52.286934Z"
    }
   },
   "outputs": [
    {
     "data": {
      "text/plain": [
       "AtmosphereExperiment(measures=[MultiDistantMeasure(id='measure', mi_results={}, srf=MultiDeltaSpectrum(id=None, quantity=DIMENSIONLESS, wavelengths=[550.0] nm), sampler='independent', rfilter='box', spp=1000, target=TargetPoint(xyz=[0.0 0.0 0.0] m), ray_offset=None, direction_layout=HemispherePlaneLayout(azimuth_convention=<AzimuthConvention.EAST_RIGHT: (0.0, 1)>, zeniths=[-30   0  30] deg, azimuth=0 deg))], default_spectral_set=BinSet(bins=[Bin(wmin=280.0 nm, wmax=290.0 nm, quad=Quad(type=QuadType.GAUSS_LEGENDRE, n=1)), Bin(wmin=290.0 nm, wmax=300.0 nm, quad=Quad(type=QuadType.GAUSS_LEGENDRE, n=1)), Bin(wmin=300.0 nm, wmax=310.0 nm, quad=Quad(type=QuadType.GAUSS_LEGENDRE, n=1)), Bin(wmin=310.0 nm, wmax=320.0 nm, quad=Quad(type=QuadType.GAUSS_LEGENDRE, n=1)), Bin(wmin=320.0 nm, wmax=330.0 nm, quad=Quad(type=QuadType.GAUSS_LEGENDRE, n=1)), Bin(wmin=330.0 nm, wmax=340.0 nm, quad=Quad(type=QuadType.GAUSS_LEGENDRE, n=1)), Bin(wmin=340.0 nm, wmax=350.0 nm, quad=Quad(type=QuadType.GAUSS_LEGENDRE, n=1)), Bin(wmin=350.0 nm, wmax=360.0 nm, quad=Quad(type=QuadType.GAUSS_LEGENDRE, n=1)), Bin(wmin=360.0 nm, wmax=370.0 nm, quad=Quad(type=QuadType.GAUSS_LEGENDRE, n=1)), Bin(wmin=370.0 nm, wmax=380.0 nm, quad=Quad(type=QuadType.GAUSS_LEGENDRE, n=1)), Bin(wmin=380.0 nm, wmax=390.0 nm, quad=Quad(type=QuadType.GAUSS_LEGENDRE, n=1)), Bin(wmin=390.0 nm, wmax=400.0 nm, quad=Quad(type=QuadType.GAUSS_LEGENDRE, n=1)), Bin(wmin=400.0 nm, wmax=410.0 nm, quad=Quad(type=QuadType.GAUSS_LEGENDRE, n=1)), Bin(wmin=410.0 nm, wmax=420.0 nm, quad=Quad(type=QuadType.GAUSS_LEGENDRE, n=1)), Bin(wmin=420.0 nm, wmax=430.0 nm, quad=Quad(type=QuadType.GAUSS_LEGENDRE, n=1)), Bin(wmin=430.0 nm, wmax=440.0 nm, quad=Quad(type=QuadType.GAUSS_LEGENDRE, n=1)), Bin(wmin=440.0 nm, wmax=450.0 nm, quad=Quad(type=QuadType.GAUSS_LEGENDRE, n=1)), Bin(wmin=450.0 nm, wmax=460.0 nm, quad=Quad(type=QuadType.GAUSS_LEGENDRE, n=1)), Bin(wmin=460.0 nm, wmax=470.0 nm, quad=Quad(type=QuadType.GAUSS_LEGENDRE, n=1)), Bin(wmin=470.0 nm, wmax=480.0 nm, quad=Quad(type=QuadType.GAUSS_LEGENDRE, n=1)), Bin(wmin=480.0 nm, wmax=490.0 nm, quad=Quad(type=QuadType.GAUSS_LEGENDRE, n=1)), Bin(wmin=490.0 nm, wmax=500.0 nm, quad=Quad(type=QuadType.GAUSS_LEGENDRE, n=1)), Bin(wmin=500.0 nm, wmax=510.0 nm, quad=Quad(type=QuadType.GAUSS_LEGENDRE, n=1)), Bin(wmin=510.0 nm, wmax=520.0 nm, quad=Quad(type=QuadType.GAUSS_LEGENDRE, n=1)), Bin(wmin=520.0 nm, wmax=530.0 nm, quad=Quad(type=QuadType.GAUSS_LEGENDRE, n=1)), Bin(wmin=530.0 nm, wmax=540.0 nm, quad=Quad(type=QuadType.GAUSS_LEGENDRE, n=1)), Bin(wmin=540.0 nm, wmax=550.0 nm, quad=Quad(type=QuadType.GAUSS_LEGENDRE, n=1)), Bin(wmin=550.0 nm, wmax=560.0 nm, quad=Quad(type=QuadType.GAUSS_LEGENDRE, n=1)), Bin(wmin=560.0 nm, wmax=570.0 nm, quad=Quad(type=QuadType.GAUSS_LEGENDRE, n=1)), Bin(wmin=570.0 nm, wmax=580.0 nm, quad=Quad(type=QuadType.GAUSS_LEGENDRE, n=1)), Bin(wmin=580.0 nm, wmax=590.0 nm, quad=Quad(type=QuadType.GAUSS_LEGENDRE, n=1)), Bin(wmin=590.0 nm, wmax=600.0 nm, quad=Quad(type=QuadType.GAUSS_LEGENDRE, n=1)), Bin(wmin=600.0 nm, wmax=610.0 nm, quad=Quad(type=QuadType.GAUSS_LEGENDRE, n=1)), Bin(wmin=610.0 nm, wmax=620.0 nm, quad=Quad(type=QuadType.GAUSS_LEGENDRE, n=1)), Bin(wmin=620.0 nm, wmax=630.0 nm, quad=Quad(type=QuadType.GAUSS_LEGENDRE, n=1)), Bin(wmin=630.0 nm, wmax=640.0 nm, quad=Quad(type=QuadType.GAUSS_LEGENDRE, n=1)), Bin(wmin=640.0 nm, wmax=650.0 nm, quad=Quad(type=QuadType.GAUSS_LEGENDRE, n=1)), Bin(wmin=650.0 nm, wmax=660.0 nm, quad=Quad(type=QuadType.GAUSS_LEGENDRE, n=1)), Bin(wmin=660.0 nm, wmax=670.0 nm, quad=Quad(type=QuadType.GAUSS_LEGENDRE, n=1)), Bin(wmin=670.0 nm, wmax=680.0 nm, quad=Quad(type=QuadType.GAUSS_LEGENDRE, n=1)), Bin(wmin=680.0 nm, wmax=690.0 nm, quad=Quad(type=QuadType.GAUSS_LEGENDRE, n=1)), Bin(wmin=690.0 nm, wmax=700.0 nm, quad=Quad(type=QuadType.GAUSS_LEGENDRE, n=1)), Bin(wmin=700.0 nm, wmax=710.0 nm, quad=Quad(type=QuadType.GAUSS_LEGENDRE, n=1)), Bin(wmin=710.0 nm, wmax=720.0 nm, quad=Quad(type=QuadType.GAUSS_LEGENDRE, n=1)), Bin(wmin=720.0 nm, wmax=730.0 nm, quad=Quad(type=QuadType.GAUSS_LEGENDRE, n=1)), Bin(wmin=730.0 nm, wmax=740.0 nm, quad=Quad(type=QuadType.GAUSS_LEGENDRE, n=1)), Bin(wmin=740.0 nm, wmax=750.0 nm, quad=Quad(type=QuadType.GAUSS_LEGENDRE, n=1)), Bin(wmin=750.0 nm, wmax=760.0 nm, quad=Quad(type=QuadType.GAUSS_LEGENDRE, n=1)), Bin(wmin=760.0 nm, wmax=770.0 nm, quad=Quad(type=QuadType.GAUSS_LEGENDRE, n=1)), Bin(wmin=770.0 nm, wmax=780.0 nm, quad=Quad(type=QuadType.GAUSS_LEGENDRE, n=1)), Bin(wmin=780.0 nm, wmax=790.0 nm, quad=Quad(type=QuadType.GAUSS_LEGENDRE, n=1)), Bin(wmin=790.0 nm, wmax=800.0 nm, quad=Quad(type=QuadType.GAUSS_LEGENDRE, n=1)), Bin(wmin=800.0 nm, wmax=810.0 nm, quad=Quad(type=QuadType.GAUSS_LEGENDRE, n=1)), Bin(wmin=810.0 nm, wmax=820.0 nm, quad=Quad(type=QuadType.GAUSS_LEGENDRE, n=1)), Bin(wmin=820.0 nm, wmax=830.0 nm, quad=Quad(type=QuadType.GAUSS_LEGENDRE, n=1)), Bin(wmin=830.0 nm, wmax=840.0 nm, quad=Quad(type=QuadType.GAUSS_LEGENDRE, n=1)), Bin(wmin=840.0 nm, wmax=850.0 nm, quad=Quad(type=QuadType.GAUSS_LEGENDRE, n=1)), Bin(wmin=850.0 nm, wmax=860.0 nm, quad=Quad(type=QuadType.GAUSS_LEGENDRE, n=1)), Bin(wmin=860.0 nm, wmax=870.0 nm, quad=Quad(type=QuadType.GAUSS_LEGENDRE, n=1)), Bin(wmin=870.0 nm, wmax=880.0 nm, quad=Quad(type=QuadType.GAUSS_LEGENDRE, n=1)), Bin(wmin=880.0 nm, wmax=890.0 nm, quad=Quad(type=QuadType.GAUSS_LEGENDRE, n=1)), Bin(wmin=890.0 nm, wmax=900.0 nm, quad=Quad(type=QuadType.GAUSS_LEGENDRE, n=1)), Bin(wmin=900.0 nm, wmax=910.0 nm, quad=Quad(type=QuadType.GAUSS_LEGENDRE, n=1)), Bin(wmin=910.0 nm, wmax=920.0 nm, quad=Quad(type=QuadType.GAUSS_LEGENDRE, n=1)), Bin(wmin=920.0 nm, wmax=930.0 nm, quad=Quad(type=QuadType.GAUSS_LEGENDRE, n=1)), Bin(wmin=930.0 nm, wmax=940.0 nm, quad=Quad(type=QuadType.GAUSS_LEGENDRE, n=1)), Bin(wmin=940.0 nm, wmax=950.0 nm, quad=Quad(type=QuadType.GAUSS_LEGENDRE, n=1)), Bin(wmin=950.0 nm, wmax=960.0 nm, quad=Quad(type=QuadType.GAUSS_LEGENDRE, n=1)), Bin(wmin=960.0 nm, wmax=970.0 nm, quad=Quad(type=QuadType.GAUSS_LEGENDRE, n=1)), Bin(wmin=970.0 nm, wmax=980.0 nm, quad=Quad(type=QuadType.GAUSS_LEGENDRE, n=1)), Bin(wmin=980.0 nm, wmax=990.0 nm, quad=Quad(type=QuadType.GAUSS_LEGENDRE, n=1)), Bin(wmin=990.0 nm, wmax=1000.0 nm, quad=Quad(type=QuadType.GAUSS_LEGENDRE, n=1)), Bin(wmin=1000.0 nm, wmax=1010.0 nm, quad=Quad(type=QuadType.GAUSS_LEGENDRE, n=1)), Bin(wmin=1010.0 nm, wmax=1020.0 nm, quad=Quad(type=QuadType.GAUSS_LEGENDRE, n=1)), Bin(wmin=1020.0 nm, wmax=1030.0 nm, quad=Quad(type=QuadType.GAUSS_LEGENDRE, n=1)), Bin(wmin=1030.0 nm, wmax=1040.0 nm, quad=Quad(type=QuadType.GAUSS_LEGENDRE, n=1)), Bin(wmin=1040.0 nm, wmax=1050.0 nm, quad=Quad(type=QuadType.GAUSS_LEGENDRE, n=1)), Bin(wmin=1050.0 nm, wmax=1060.0 nm, quad=Quad(type=QuadType.GAUSS_LEGENDRE, n=1)), Bin(wmin=1060.0 nm, wmax=1070.0 nm, quad=Quad(type=QuadType.GAUSS_LEGENDRE, n=1)), Bin(wmin=1070.0 nm, wmax=1080.0 nm, quad=Quad(type=QuadType.GAUSS_LEGENDRE, n=1)), Bin(wmin=1080.0 nm, wmax=1090.0 nm, quad=Quad(type=QuadType.GAUSS_LEGENDRE, n=1)), Bin(wmin=1090.0 nm, wmax=1100.0 nm, quad=Quad(type=QuadType.GAUSS_LEGENDRE, n=1)), Bin(wmin=1100.0 nm, wmax=1110.0 nm, quad=Quad(type=QuadType.GAUSS_LEGENDRE, n=1)), Bin(wmin=1110.0 nm, wmax=1120.0 nm, quad=Quad(type=QuadType.GAUSS_LEGENDRE, n=1)), Bin(wmin=1120.0 nm, wmax=1130.0 nm, quad=Quad(type=QuadType.GAUSS_LEGENDRE, n=1)), Bin(wmin=1130.0 nm, wmax=1140.0 nm, quad=Quad(type=QuadType.GAUSS_LEGENDRE, n=1)), Bin(wmin=1140.0 nm, wmax=1150.0 nm, quad=Quad(type=QuadType.GAUSS_LEGENDRE, n=1)), Bin(wmin=1150.0 nm, wmax=1160.0 nm, quad=Quad(type=QuadType.GAUSS_LEGENDRE, n=1)), Bin(wmin=1160.0 nm, wmax=1170.0 nm, quad=Quad(type=QuadType.GAUSS_LEGENDRE, n=1)), Bin(wmin=1170.0 nm, wmax=1180.0 nm, quad=Quad(type=QuadType.GAUSS_LEGENDRE, n=1)), Bin(wmin=1180.0 nm, wmax=1190.0 nm, quad=Quad(type=QuadType.GAUSS_LEGENDRE, n=1)), Bin(wmin=1190.0 nm, wmax=1200.0 nm, quad=Quad(type=QuadType.GAUSS_LEGENDRE, n=1)), Bin(wmin=1200.0 nm, wmax=1210.0 nm, quad=Quad(type=QuadType.GAUSS_LEGENDRE, n=1)), Bin(wmin=1210.0 nm, wmax=1220.0 nm, quad=Quad(type=QuadType.GAUSS_LEGENDRE, n=1)), Bin(wmin=1220.0 nm, wmax=1230.0 nm, quad=Quad(type=QuadType.GAUSS_LEGENDRE, n=1)), Bin(wmin=1230.0 nm, wmax=1240.0 nm, quad=Quad(type=QuadType.GAUSS_LEGENDRE, n=1)), Bin(wmin=1240.0 nm, wmax=1250.0 nm, quad=Quad(type=QuadType.GAUSS_LEGENDRE, n=1)), Bin(wmin=1250.0 nm, wmax=1260.0 nm, quad=Quad(type=QuadType.GAUSS_LEGENDRE, n=1)), Bin(wmin=1260.0 nm, wmax=1270.0 nm, quad=Quad(type=QuadType.GAUSS_LEGENDRE, n=1)), Bin(wmin=1270.0 nm, wmax=1280.0 nm, quad=Quad(type=QuadType.GAUSS_LEGENDRE, n=1)), Bin(wmin=1280.0 nm, wmax=1290.0 nm, quad=Quad(type=QuadType.GAUSS_LEGENDRE, n=1)), Bin(wmin=1290.0 nm, wmax=1300.0 nm, quad=Quad(type=QuadType.GAUSS_LEGENDRE, n=1)), Bin(wmin=1300.0 nm, wmax=1310.0 nm, quad=Quad(type=QuadType.GAUSS_LEGENDRE, n=1)), Bin(wmin=1310.0 nm, wmax=1320.0 nm, quad=Quad(type=QuadType.GAUSS_LEGENDRE, n=1)), Bin(wmin=1320.0 nm, wmax=1330.0 nm, quad=Quad(type=QuadType.GAUSS_LEGENDRE, n=1)), Bin(wmin=1330.0 nm, wmax=1340.0 nm, quad=Quad(type=QuadType.GAUSS_LEGENDRE, n=1)), Bin(wmin=1340.0 nm, wmax=1350.0 nm, quad=Quad(type=QuadType.GAUSS_LEGENDRE, n=1)), Bin(wmin=1350.0 nm, wmax=1360.0 nm, quad=Quad(type=QuadType.GAUSS_LEGENDRE, n=1)), Bin(wmin=1360.0 nm, wmax=1370.0 nm, quad=Quad(type=QuadType.GAUSS_LEGENDRE, n=1)), Bin(wmin=1370.0 nm, wmax=1380.0 nm, quad=Quad(type=QuadType.GAUSS_LEGENDRE, n=1)), Bin(wmin=1380.0 nm, wmax=1390.0 nm, quad=Quad(type=QuadType.GAUSS_LEGENDRE, n=1)), Bin(wmin=1390.0 nm, wmax=1400.0 nm, quad=Quad(type=QuadType.GAUSS_LEGENDRE, n=1)), Bin(wmin=1400.0 nm, wmax=1410.0 nm, quad=Quad(type=QuadType.GAUSS_LEGENDRE, n=1)), Bin(wmin=1410.0 nm, wmax=1420.0 nm, quad=Quad(type=QuadType.GAUSS_LEGENDRE, n=1)), Bin(wmin=1420.0 nm, wmax=1430.0 nm, quad=Quad(type=QuadType.GAUSS_LEGENDRE, n=1)), Bin(wmin=1430.0 nm, wmax=1440.0 nm, quad=Quad(type=QuadType.GAUSS_LEGENDRE, n=1)), Bin(wmin=1440.0 nm, wmax=1450.0 nm, quad=Quad(type=QuadType.GAUSS_LEGENDRE, n=1)), Bin(wmin=1450.0 nm, wmax=1460.0 nm, quad=Quad(type=QuadType.GAUSS_LEGENDRE, n=1)), Bin(wmin=1460.0 nm, wmax=1470.0 nm, quad=Quad(type=QuadType.GAUSS_LEGENDRE, n=1)), Bin(wmin=1470.0 nm, wmax=1480.0 nm, quad=Quad(type=QuadType.GAUSS_LEGENDRE, n=1)), Bin(wmin=1480.0 nm, wmax=1490.0 nm, quad=Quad(type=QuadType.GAUSS_LEGENDRE, n=1)), Bin(wmin=1490.0 nm, wmax=1500.0 nm, quad=Quad(type=QuadType.GAUSS_LEGENDRE, n=1)), Bin(wmin=1500.0 nm, wmax=1510.0 nm, quad=Quad(type=QuadType.GAUSS_LEGENDRE, n=1)), Bin(wmin=1510.0 nm, wmax=1520.0 nm, quad=Quad(type=QuadType.GAUSS_LEGENDRE, n=1)), Bin(wmin=1520.0 nm, wmax=1530.0 nm, quad=Quad(type=QuadType.GAUSS_LEGENDRE, n=1)), Bin(wmin=1530.0 nm, wmax=1540.0 nm, quad=Quad(type=QuadType.GAUSS_LEGENDRE, n=1)), Bin(wmin=1540.0 nm, wmax=1550.0 nm, quad=Quad(type=QuadType.GAUSS_LEGENDRE, n=1)), Bin(wmin=1550.0 nm, wmax=1560.0 nm, quad=Quad(type=QuadType.GAUSS_LEGENDRE, n=1)), Bin(wmin=1560.0 nm, wmax=1570.0 nm, quad=Quad(type=QuadType.GAUSS_LEGENDRE, n=1)), Bin(wmin=1570.0 nm, wmax=1580.0 nm, quad=Quad(type=QuadType.GAUSS_LEGENDRE, n=1)), Bin(wmin=1580.0 nm, wmax=1590.0 nm, quad=Quad(type=QuadType.GAUSS_LEGENDRE, n=1)), Bin(wmin=1590.0 nm, wmax=1600.0 nm, quad=Quad(type=QuadType.GAUSS_LEGENDRE, n=1)), Bin(wmin=1600.0 nm, wmax=1610.0 nm, quad=Quad(type=QuadType.GAUSS_LEGENDRE, n=1)), Bin(wmin=1610.0 nm, wmax=1620.0 nm, quad=Quad(type=QuadType.GAUSS_LEGENDRE, n=1)), Bin(wmin=1620.0 nm, wmax=1630.0 nm, quad=Quad(type=QuadType.GAUSS_LEGENDRE, n=1)), Bin(wmin=1630.0 nm, wmax=1640.0 nm, quad=Quad(type=QuadType.GAUSS_LEGENDRE, n=1)), Bin(wmin=1640.0 nm, wmax=1650.0 nm, quad=Quad(type=QuadType.GAUSS_LEGENDRE, n=1)), Bin(wmin=1650.0 nm, wmax=1660.0 nm, quad=Quad(type=QuadType.GAUSS_LEGENDRE, n=1)), Bin(wmin=1660.0 nm, wmax=1670.0 nm, quad=Quad(type=QuadType.GAUSS_LEGENDRE, n=1)), Bin(wmin=1670.0 nm, wmax=1680.0 nm, quad=Quad(type=QuadType.GAUSS_LEGENDRE, n=1)), Bin(wmin=1680.0 nm, wmax=1690.0 nm, quad=Quad(type=QuadType.GAUSS_LEGENDRE, n=1)), Bin(wmin=1690.0 nm, wmax=1700.0 nm, quad=Quad(type=QuadType.GAUSS_LEGENDRE, n=1)), Bin(wmin=1700.0 nm, wmax=1710.0 nm, quad=Quad(type=QuadType.GAUSS_LEGENDRE, n=1)), Bin(wmin=1710.0 nm, wmax=1720.0 nm, quad=Quad(type=QuadType.GAUSS_LEGENDRE, n=1)), Bin(wmin=1720.0 nm, wmax=1730.0 nm, quad=Quad(type=QuadType.GAUSS_LEGENDRE, n=1)), Bin(wmin=1730.0 nm, wmax=1740.0 nm, quad=Quad(type=QuadType.GAUSS_LEGENDRE, n=1)), Bin(wmin=1740.0 nm, wmax=1750.0 nm, quad=Quad(type=QuadType.GAUSS_LEGENDRE, n=1)), Bin(wmin=1750.0 nm, wmax=1760.0 nm, quad=Quad(type=QuadType.GAUSS_LEGENDRE, n=1)), Bin(wmin=1760.0 nm, wmax=1770.0 nm, quad=Quad(type=QuadType.GAUSS_LEGENDRE, n=1)), Bin(wmin=1770.0 nm, wmax=1780.0 nm, quad=Quad(type=QuadType.GAUSS_LEGENDRE, n=1)), Bin(wmin=1780.0 nm, wmax=1790.0 nm, quad=Quad(type=QuadType.GAUSS_LEGENDRE, n=1)), Bin(wmin=1790.0 nm, wmax=1800.0 nm, quad=Quad(type=QuadType.GAUSS_LEGENDRE, n=1)), Bin(wmin=1800.0 nm, wmax=1810.0 nm, quad=Quad(type=QuadType.GAUSS_LEGENDRE, n=1)), Bin(wmin=1810.0 nm, wmax=1820.0 nm, quad=Quad(type=QuadType.GAUSS_LEGENDRE, n=1)), Bin(wmin=1820.0 nm, wmax=1830.0 nm, quad=Quad(type=QuadType.GAUSS_LEGENDRE, n=1)), Bin(wmin=1830.0 nm, wmax=1840.0 nm, quad=Quad(type=QuadType.GAUSS_LEGENDRE, n=1)), Bin(wmin=1840.0 nm, wmax=1850.0 nm, quad=Quad(type=QuadType.GAUSS_LEGENDRE, n=1)), Bin(wmin=1850.0 nm, wmax=1860.0 nm, quad=Quad(type=QuadType.GAUSS_LEGENDRE, n=1)), Bin(wmin=1860.0 nm, wmax=1870.0 nm, quad=Quad(type=QuadType.GAUSS_LEGENDRE, n=1)), Bin(wmin=1870.0 nm, wmax=1880.0 nm, quad=Quad(type=QuadType.GAUSS_LEGENDRE, n=1)), Bin(wmin=1880.0 nm, wmax=1890.0 nm, quad=Quad(type=QuadType.GAUSS_LEGENDRE, n=1)), Bin(wmin=1890.0 nm, wmax=1900.0 nm, quad=Quad(type=QuadType.GAUSS_LEGENDRE, n=1)), Bin(wmin=1900.0 nm, wmax=1910.0 nm, quad=Quad(type=QuadType.GAUSS_LEGENDRE, n=1)), Bin(wmin=1910.0 nm, wmax=1920.0 nm, quad=Quad(type=QuadType.GAUSS_LEGENDRE, n=1)), Bin(wmin=1920.0 nm, wmax=1930.0 nm, quad=Quad(type=QuadType.GAUSS_LEGENDRE, n=1)), Bin(wmin=1930.0 nm, wmax=1940.0 nm, quad=Quad(type=QuadType.GAUSS_LEGENDRE, n=1)), Bin(wmin=1940.0 nm, wmax=1950.0 nm, quad=Quad(type=QuadType.GAUSS_LEGENDRE, n=1)), Bin(wmin=1950.0 nm, wmax=1960.0 nm, quad=Quad(type=QuadType.GAUSS_LEGENDRE, n=1)), Bin(wmin=1960.0 nm, wmax=1970.0 nm, quad=Quad(type=QuadType.GAUSS_LEGENDRE, n=1)), Bin(wmin=1970.0 nm, wmax=1980.0 nm, quad=Quad(type=QuadType.GAUSS_LEGENDRE, n=1)), Bin(wmin=1980.0 nm, wmax=1990.0 nm, quad=Quad(type=QuadType.GAUSS_LEGENDRE, n=1)), Bin(wmin=1990.0 nm, wmax=2000.0 nm, quad=Quad(type=QuadType.GAUSS_LEGENDRE, n=1)), Bin(wmin=2000.0 nm, wmax=2010.0 nm, quad=Quad(type=QuadType.GAUSS_LEGENDRE, n=1)), Bin(wmin=2010.0 nm, wmax=2020.0 nm, quad=Quad(type=QuadType.GAUSS_LEGENDRE, n=1)), Bin(wmin=2020.0 nm, wmax=2030.0 nm, quad=Quad(type=QuadType.GAUSS_LEGENDRE, n=1)), Bin(wmin=2030.0 nm, wmax=2040.0 nm, quad=Quad(type=QuadType.GAUSS_LEGENDRE, n=1)), Bin(wmin=2040.0 nm, wmax=2050.0 nm, quad=Quad(type=QuadType.GAUSS_LEGENDRE, n=1)), Bin(wmin=2050.0 nm, wmax=2060.0 nm, quad=Quad(type=QuadType.GAUSS_LEGENDRE, n=1)), Bin(wmin=2060.0 nm, wmax=2070.0 nm, quad=Quad(type=QuadType.GAUSS_LEGENDRE, n=1)), Bin(wmin=2070.0 nm, wmax=2080.0 nm, quad=Quad(type=QuadType.GAUSS_LEGENDRE, n=1)), Bin(wmin=2080.0 nm, wmax=2090.0 nm, quad=Quad(type=QuadType.GAUSS_LEGENDRE, n=1)), Bin(wmin=2090.0 nm, wmax=2100.0 nm, quad=Quad(type=QuadType.GAUSS_LEGENDRE, n=1)), Bin(wmin=2100.0 nm, wmax=2110.0 nm, quad=Quad(type=QuadType.GAUSS_LEGENDRE, n=1)), Bin(wmin=2110.0 nm, wmax=2120.0 nm, quad=Quad(type=QuadType.GAUSS_LEGENDRE, n=1)), Bin(wmin=2120.0 nm, wmax=2130.0 nm, quad=Quad(type=QuadType.GAUSS_LEGENDRE, n=1)), Bin(wmin=2130.0 nm, wmax=2140.0 nm, quad=Quad(type=QuadType.GAUSS_LEGENDRE, n=1)), Bin(wmin=2140.0 nm, wmax=2150.0 nm, quad=Quad(type=QuadType.GAUSS_LEGENDRE, n=1)), Bin(wmin=2150.0 nm, wmax=2160.0 nm, quad=Quad(type=QuadType.GAUSS_LEGENDRE, n=1)), Bin(wmin=2160.0 nm, wmax=2170.0 nm, quad=Quad(type=QuadType.GAUSS_LEGENDRE, n=1)), Bin(wmin=2170.0 nm, wmax=2180.0 nm, quad=Quad(type=QuadType.GAUSS_LEGENDRE, n=1)), Bin(wmin=2180.0 nm, wmax=2190.0 nm, quad=Quad(type=QuadType.GAUSS_LEGENDRE, n=1)), Bin(wmin=2190.0 nm, wmax=2200.0 nm, quad=Quad(type=QuadType.GAUSS_LEGENDRE, n=1)), Bin(wmin=2200.0 nm, wmax=2210.0 nm, quad=Quad(type=QuadType.GAUSS_LEGENDRE, n=1)), Bin(wmin=2210.0 nm, wmax=2220.0 nm, quad=Quad(type=QuadType.GAUSS_LEGENDRE, n=1)), Bin(wmin=2220.0 nm, wmax=2230.0 nm, quad=Quad(type=QuadType.GAUSS_LEGENDRE, n=1)), Bin(wmin=2230.0 nm, wmax=2240.0 nm, quad=Quad(type=QuadType.GAUSS_LEGENDRE, n=1)), Bin(wmin=2240.0 nm, wmax=2250.0 nm, quad=Quad(type=QuadType.GAUSS_LEGENDRE, n=1)), Bin(wmin=2250.0 nm, wmax=2260.0 nm, quad=Quad(type=QuadType.GAUSS_LEGENDRE, n=1)), Bin(wmin=2260.0 nm, wmax=2270.0 nm, quad=Quad(type=QuadType.GAUSS_LEGENDRE, n=1)), Bin(wmin=2270.0 nm, wmax=2280.0 nm, quad=Quad(type=QuadType.GAUSS_LEGENDRE, n=1)), Bin(wmin=2280.0 nm, wmax=2290.0 nm, quad=Quad(type=QuadType.GAUSS_LEGENDRE, n=1)), Bin(wmin=2290.0 nm, wmax=2300.0 nm, quad=Quad(type=QuadType.GAUSS_LEGENDRE, n=1)), Bin(wmin=2300.0 nm, wmax=2310.0 nm, quad=Quad(type=QuadType.GAUSS_LEGENDRE, n=1)), Bin(wmin=2310.0 nm, wmax=2320.0 nm, quad=Quad(type=QuadType.GAUSS_LEGENDRE, n=1)), Bin(wmin=2320.0 nm, wmax=2330.0 nm, quad=Quad(type=QuadType.GAUSS_LEGENDRE, n=1)), Bin(wmin=2330.0 nm, wmax=2340.0 nm, quad=Quad(type=QuadType.GAUSS_LEGENDRE, n=1)), Bin(wmin=2340.0 nm, wmax=2350.0 nm, quad=Quad(type=QuadType.GAUSS_LEGENDRE, n=1)), Bin(wmin=2350.0 nm, wmax=2360.0 nm, quad=Quad(type=QuadType.GAUSS_LEGENDRE, n=1)), Bin(wmin=2360.0 nm, wmax=2370.0 nm, quad=Quad(type=QuadType.GAUSS_LEGENDRE, n=1)), Bin(wmin=2370.0 nm, wmax=2380.0 nm, quad=Quad(type=QuadType.GAUSS_LEGENDRE, n=1)), Bin(wmin=2380.0 nm, wmax=2390.0 nm, quad=Quad(type=QuadType.GAUSS_LEGENDRE, n=1)), Bin(wmin=2390.0 nm, wmax=2400.0 nm, quad=Quad(type=QuadType.GAUSS_LEGENDRE, n=1))]), _spectral_set={0: BinSet(bins=[Bin(wmin=540.0 nm, wmax=550.0 nm, quad=Quad(type=QuadType.GAUSS_LEGENDRE, n=1))])}, quad_spec=QuadSpecFixed(n=1, quad_type=<QuadType.GAUSS_LEGENDRE: 'gauss_legendre'>), extra_objects={}, illumination=DirectionalIllumination(id='illumination', zenith=0.0 deg, azimuth=0.0 deg, azimuth_convention=<AzimuthConvention.EAST_RIGHT: (0.0, 1)>, irradiance=SolarIrradianceSpectrum(id=None, dataset=<xarray.Dataset | source='/home/leroyv/Documents/src/rayference/rtm/eradiate/resources/data/spectra/solar_irradiance/coddington_2021-1_nm.nc'>, scale=1.0, datetime=None)), geometry=PlaneParallelGeometry(toa_altitude=120.0 km, ground_altitude=0.0 km, zgrid=ZGrid(levels=[0.0 100.0 200.0 ... 119800.0 119900.0 120000.0] m, _layers=[50.0 150.0 250.0 ... 119750.0 119850.0 119950.0] m, _layer_height=100.0 m, _total_height=120000.0 m), width=1000000.0 km), atmosphere=HomogeneousAtmosphere(id='atmosphere', geometry=PlaneParallelGeometry(toa_altitude=120.0 km, ground_altitude=0.0 km, zgrid=ZGrid(levels=[0.0 100.0 200.0 ... 119800.0 119900.0 120000.0] m, _layers=[50.0 150.0 250.0 ... 119750.0 119850.0 119950.0] m, _layer_height=100.0 m, _total_height=120000.0 m), width=1000000.0 km), sigma_s=AirScatteringCoefficientSpectrum(id=None), sigma_a=UniformSpectrum(id=None, quantity=COLLISION_COEFFICIENT, value=0.0 1/m), _phase=RayleighPhaseFunction(id='phase_atmosphere')), surface=BasicSurface(id='surface', shape=None, bsdf=LambertianBSDF(id='surface_bsdf', reflectance=UniformSpectrum(id=None, quantity=REFLECTANCE, value=0.5))), _integrator=VolPathIntegrator(id='integrator', timeout=None, max_depth=None, rr_depth=None, hide_emitters=None))"
      ]
     },
     "execution_count": 3,
     "metadata": {},
     "output_type": "execute_result"
    }
   ],
   "source": [
    "# Basic behaviour: looks bad\n",
    "exp = eradiate.experiments.AtmosphereExperiment(\n",
    "    measures={\n",
    "        \"type\": \"mdistant\",\n",
    "        \"construct\": \"hplane\",\n",
    "        \"zeniths\": [-30, 0, 30],\n",
    "        \"azimuth\": 0,\n",
    "        \"srf\": {\n",
    "            \"type\": \"multi_delta\",\n",
    "            \"wavelengths\": 550.0 * ureg.nm,\n",
    "        },\n",
    "    }\n",
    ")\n",
    "exp"
   ]
  },
  {
   "cell_type": "markdown",
   "id": "f414b3a1-89b4-4c14-946b-5a127bca1f7e",
   "metadata": {},
   "source": [
    "Arguably, this ouput is impractical and makes the process of inspecting the contents of the `OneDimExperiment` instance quite challenging. Anyway, let's run the corresponding simulation:"
   ]
  },
  {
   "cell_type": "code",
   "execution_count": 4,
   "id": "6360a8d9-b8df-4617-b388-bccab9158e13",
   "metadata": {
    "execution": {
     "iopub.execute_input": "2023-12-18T10:06:52.289237Z",
     "iopub.status.busy": "2023-12-18T10:06:52.289013Z",
     "iopub.status.idle": "2023-12-18T10:06:52.368251Z",
     "shell.execute_reply": "2023-12-18T10:06:52.367830Z"
    }
   },
   "outputs": [],
   "source": [
    "eradiate.run(exp);"
   ]
  },
  {
   "cell_type": "raw",
   "id": "a4ed4de0-2413-40ee-9d18-54fcbe0a1fe7",
   "metadata": {
    "raw_mimetype": "text/restructuredtext",
    "tags": []
   },
   "source": [
    "The produced output is uncontrolled and mixes progress information coming from Eradiate (the \"Spectral loop\" progress bar), but also from the Mitsuba radiometric kernel (the \"Rendering\" progress bar). A notable consequence is that changing the progress level using :attr:`config.progress <eradiate._config.EradiateConfig.progress>` to suppress Mitsuba's progress will not have the expected effect."
   ]
  },
  {
   "cell_type": "markdown",
   "id": "7486147a-c4ee-4f0f-9341-002ffeaab9f7",
   "metadata": {},
   "source": [
    "This can be improved by loading Eradiate's IPython extension as follows:"
   ]
  },
  {
   "cell_type": "code",
   "execution_count": 5,
   "id": "79dac2db-9792-4a3d-b9e7-e6943461a5ba",
   "metadata": {
    "execution": {
     "iopub.execute_input": "2023-12-18T10:06:52.370134Z",
     "iopub.status.busy": "2023-12-18T10:06:52.370009Z",
     "iopub.status.idle": "2023-12-18T10:06:52.375578Z",
     "shell.execute_reply": "2023-12-18T10:06:52.375166Z"
    }
   },
   "outputs": [],
   "source": [
    "%load_ext eradiate"
   ]
  },
  {
   "cell_type": "markdown",
   "id": "8286f1f4-1e8a-4dbe-b7d4-ff2dc55e1ba4",
   "metadata": {},
   "source": [
    "This automatically loads [Rich](https://rich.readthedocs.io/)'s \"pretty\" and \"traceback\" extensions, and it redirects Mitsuba's logs and progress to, respectively, the standard Python [logging](https://docs.python.org/3/library/logging.html) framework and the [tqdm](https://tqdm.github.io/) library.\n",
    "\n",
    "A first noticeable effect is that all objects created using the [attrs](https://www.attrs.org) framework are pretty-printed and are consequently much more readable:"
   ]
  },
  {
   "cell_type": "code",
   "execution_count": 6,
   "id": "478b060a-5dbd-493d-90f4-efa3ab5c7c9d",
   "metadata": {
    "execution": {
     "iopub.execute_input": "2023-12-18T10:06:52.377263Z",
     "iopub.status.busy": "2023-12-18T10:06:52.377101Z",
     "iopub.status.idle": "2023-12-18T10:06:52.525608Z",
     "shell.execute_reply": "2023-12-18T10:06:52.525204Z"
    }
   },
   "outputs": [
    {
     "data": {
      "text/html": [
       "<pre style=\"white-space:pre;overflow-x:auto;line-height:normal;font-family:Menlo,'DejaVu Sans Mono',consolas,'Courier New',monospace\"></pre>\n"
      ],
      "text/plain": []
     },
     "metadata": {},
     "output_type": "display_data"
    },
    {
     "data": {
      "text/plain": [
       "\n",
       "\u001b[1;35mAtmosphereExperiment\u001b[0m\u001b[1m(\u001b[0m\n",
       "    \u001b[33mmeasures\u001b[0m=\u001b[1m[\u001b[0m\n",
       "        \u001b[1;35mMultiDistantMeasure\u001b[0m\u001b[1m(\u001b[0m\n",
       "            \u001b[33mid\u001b[0m=\u001b[32m'measure'\u001b[0m,\n",
       "            \u001b[33mmi_results\u001b[0m=\u001b[1m{\u001b[0m\u001b[1m}\u001b[0m,\n",
       "            \u001b[33msrf\u001b[0m=\u001b[1;35mMultiDeltaSpectrum\u001b[0m\u001b[1m(\u001b[0m\u001b[33mid\u001b[0m=\u001b[3;35mNone\u001b[0m, \u001b[33mquantity\u001b[0m=\u001b[35mDIMENSIONLESS\u001b[0m, \u001b[33mwavelengths\u001b[0m=\u001b[1m[\u001b[0m\u001b[1;36m550.0\u001b[0m\u001b[1m]\u001b[0m nm\u001b[1m)\u001b[0m,\n",
       "            \u001b[33msampler\u001b[0m=\u001b[32m'independent'\u001b[0m,\n",
       "            \u001b[33mrfilter\u001b[0m=\u001b[32m'box'\u001b[0m,\n",
       "            \u001b[33mspp\u001b[0m=\u001b[1;36m1000\u001b[0m,\n",
       "            \u001b[33mtarget\u001b[0m=\u001b[1;35mTargetPoint\u001b[0m\u001b[1m(\u001b[0m\u001b[33mxyz\u001b[0m=\u001b[1m[\u001b[0m\u001b[1;36m0.0\u001b[0m \u001b[1;36m0.0\u001b[0m \u001b[1;36m0.0\u001b[0m\u001b[1m]\u001b[0m m\u001b[1m)\u001b[0m,\n",
       "            \u001b[33mray_offset\u001b[0m=\u001b[3;35mNone\u001b[0m,\n",
       "            \u001b[33mdirection_layout\u001b[0m=\u001b[1;35mDirectionLayout\u001b[0m\u001b[1m(\u001b[0m\n",
       "                \u001b[33mazimuth_convention\u001b[0m=\u001b[1m<\u001b[0m\u001b[1;95mAzimuthConvention.EAST_RIGHT:\u001b[0m\u001b[39m \u001b[0m\u001b[1;39m(\u001b[0m\u001b[1;36m0.0\u001b[0m\u001b[39m, \u001b[0m\u001b[1;36m1\u001b[0m\u001b[1;39m)\u001b[0m\u001b[39m>,\u001b[0m\n",
       "\u001b[39m                \u001b[0m\u001b[33m_directions\u001b[0m\u001b[39m=\u001b[0m\u001b[1;35marray\u001b[0m\u001b[1;39m(\u001b[0m\u001b[1;39m[\u001b[0m\u001b[1;39m[\u001b[0m\u001b[1;36m0\u001b[0m\u001b[39m, \u001b[0m\u001b[1;36m0\u001b[0m\u001b[39m, \u001b[0m\u001b[1;36m1\u001b[0m\u001b[1;39m]\u001b[0m\u001b[1;39m]\u001b[0m\u001b[1;39m)\u001b[0m\n",
       "\u001b[39m            \u001b[0m\u001b[1;39m)\u001b[0m\n",
       "\u001b[39m        \u001b[0m\u001b[1;39m)\u001b[0m\n",
       "\u001b[39m    \u001b[0m\u001b[1;39m]\u001b[0m\u001b[39m,\u001b[0m\n",
       "\u001b[39m    \u001b[0m\u001b[33mdefault_spectral_set\u001b[0m\u001b[39m=\u001b[0m\u001b[1;35mBinSet\u001b[0m\u001b[1;39m(\u001b[0m\n",
       "\u001b[39m        \u001b[0m\u001b[33mbins\u001b[0m\u001b[39m=\u001b[0m\u001b[1;39m[\u001b[0m\n",
       "\u001b[39m            \u001b[0m\u001b[1;35mBin\u001b[0m\u001b[1;39m(\u001b[0m\u001b[33mwmin\u001b[0m\u001b[39m=\u001b[0m\u001b[1;36m280\u001b[0m\u001b[1;36m.0\u001b[0m\u001b[39m nm, \u001b[0m\u001b[33mwmax\u001b[0m\u001b[39m=\u001b[0m\u001b[1;36m290\u001b[0m\u001b[1;36m.0\u001b[0m\u001b[39m nm, \u001b[0m\u001b[33mquad\u001b[0m\u001b[39m=\u001b[0m\u001b[1;35mQuad\u001b[0m\u001b[1;39m(\u001b[0m\u001b[33mtype\u001b[0m\u001b[39m=\u001b[0m\u001b[35mQuadType\u001b[0m\u001b[39m.GAUSS_LEGENDRE, \u001b[0m\u001b[33mn\u001b[0m\u001b[39m=\u001b[0m\u001b[1;36m1\u001b[0m\u001b[1;39m)\u001b[0m\u001b[1;39m)\u001b[0m\u001b[39m,\u001b[0m\n",
       "\u001b[39m            \u001b[0m\u001b[1;35mBin\u001b[0m\u001b[1;39m(\u001b[0m\u001b[33mwmin\u001b[0m\u001b[39m=\u001b[0m\u001b[1;36m290\u001b[0m\u001b[1;36m.0\u001b[0m\u001b[39m nm, \u001b[0m\u001b[33mwmax\u001b[0m\u001b[39m=\u001b[0m\u001b[1;36m300\u001b[0m\u001b[1;36m.0\u001b[0m\u001b[39m nm, \u001b[0m\u001b[33mquad\u001b[0m\u001b[39m=\u001b[0m\u001b[1;35mQuad\u001b[0m\u001b[1;39m(\u001b[0m\u001b[33mtype\u001b[0m\u001b[39m=\u001b[0m\u001b[35mQuadType\u001b[0m\u001b[39m.GAUSS_LEGENDRE, \u001b[0m\u001b[33mn\u001b[0m\u001b[39m=\u001b[0m\u001b[1;36m1\u001b[0m\u001b[1;39m)\u001b[0m\u001b[1;39m)\u001b[0m\u001b[39m,\u001b[0m\n",
       "\u001b[39m            \u001b[0m\u001b[1;35mBin\u001b[0m\u001b[1;39m(\u001b[0m\u001b[33mwmin\u001b[0m\u001b[39m=\u001b[0m\u001b[1;36m300\u001b[0m\u001b[1;36m.0\u001b[0m\u001b[39m nm, \u001b[0m\u001b[33mwmax\u001b[0m\u001b[39m=\u001b[0m\u001b[1;36m310\u001b[0m\u001b[1;36m.0\u001b[0m\u001b[39m nm, \u001b[0m\u001b[33mquad\u001b[0m\u001b[39m=\u001b[0m\u001b[1;35mQuad\u001b[0m\u001b[1;39m(\u001b[0m\u001b[33mtype\u001b[0m\u001b[39m=\u001b[0m\u001b[35mQuadType\u001b[0m\u001b[39m.GAUSS_LEGENDRE, \u001b[0m\u001b[33mn\u001b[0m\u001b[39m=\u001b[0m\u001b[1;36m1\u001b[0m\u001b[1;39m)\u001b[0m\u001b[1;39m)\u001b[0m\u001b[39m,\u001b[0m\n",
       "\u001b[39m            \u001b[0m\u001b[1;35mBin\u001b[0m\u001b[1;39m(\u001b[0m\u001b[33mwmin\u001b[0m\u001b[39m=\u001b[0m\u001b[1;36m310\u001b[0m\u001b[1;36m.0\u001b[0m\u001b[39m nm, \u001b[0m\u001b[33mwmax\u001b[0m\u001b[39m=\u001b[0m\u001b[1;36m320\u001b[0m\u001b[1;36m.0\u001b[0m\u001b[39m nm, \u001b[0m\u001b[33mquad\u001b[0m\u001b[39m=\u001b[0m\u001b[1;35mQuad\u001b[0m\u001b[1;39m(\u001b[0m\u001b[33mtype\u001b[0m\u001b[39m=\u001b[0m\u001b[35mQuadType\u001b[0m\u001b[39m.GAUSS_LEGENDRE, \u001b[0m\u001b[33mn\u001b[0m\u001b[39m=\u001b[0m\u001b[1;36m1\u001b[0m\u001b[1;39m)\u001b[0m\u001b[1;39m)\u001b[0m\u001b[39m,\u001b[0m\n",
       "\u001b[39m            \u001b[0m\u001b[1;35mBin\u001b[0m\u001b[1;39m(\u001b[0m\u001b[33mwmin\u001b[0m\u001b[39m=\u001b[0m\u001b[1;36m320\u001b[0m\u001b[1;36m.0\u001b[0m\u001b[39m nm, \u001b[0m\u001b[33mwmax\u001b[0m\u001b[39m=\u001b[0m\u001b[1;36m330\u001b[0m\u001b[1;36m.0\u001b[0m\u001b[39m nm, \u001b[0m\u001b[33mquad\u001b[0m\u001b[39m=\u001b[0m\u001b[1;35mQuad\u001b[0m\u001b[1;39m(\u001b[0m\u001b[33mtype\u001b[0m\u001b[39m=\u001b[0m\u001b[35mQuadType\u001b[0m\u001b[39m.GAUSS_LEGENDRE, \u001b[0m\u001b[33mn\u001b[0m\u001b[39m=\u001b[0m\u001b[1;36m1\u001b[0m\u001b[1;39m)\u001b[0m\u001b[1;39m)\u001b[0m\u001b[39m,\u001b[0m\n",
       "\u001b[39m            \u001b[0m\u001b[1;35mBin\u001b[0m\u001b[1;39m(\u001b[0m\u001b[33mwmin\u001b[0m\u001b[39m=\u001b[0m\u001b[1;36m330\u001b[0m\u001b[1;36m.0\u001b[0m\u001b[39m nm, \u001b[0m\u001b[33mwmax\u001b[0m\u001b[39m=\u001b[0m\u001b[1;36m340\u001b[0m\u001b[1;36m.0\u001b[0m\u001b[39m nm, \u001b[0m\u001b[33mquad\u001b[0m\u001b[39m=\u001b[0m\u001b[1;35mQuad\u001b[0m\u001b[1;39m(\u001b[0m\u001b[33mtype\u001b[0m\u001b[39m=\u001b[0m\u001b[35mQuadType\u001b[0m\u001b[39m.GAUSS_LEGENDRE, \u001b[0m\u001b[33mn\u001b[0m\u001b[39m=\u001b[0m\u001b[1;36m1\u001b[0m\u001b[1;39m)\u001b[0m\u001b[1;39m)\u001b[0m\u001b[39m,\u001b[0m\n",
       "\u001b[39m            \u001b[0m\u001b[1;35mBin\u001b[0m\u001b[1;39m(\u001b[0m\u001b[33mwmin\u001b[0m\u001b[39m=\u001b[0m\u001b[1;36m340\u001b[0m\u001b[1;36m.0\u001b[0m\u001b[39m nm, \u001b[0m\u001b[33mwmax\u001b[0m\u001b[39m=\u001b[0m\u001b[1;36m350\u001b[0m\u001b[1;36m.0\u001b[0m\u001b[39m nm, \u001b[0m\u001b[33mquad\u001b[0m\u001b[39m=\u001b[0m\u001b[1;35mQuad\u001b[0m\u001b[1;39m(\u001b[0m\u001b[33mtype\u001b[0m\u001b[39m=\u001b[0m\u001b[35mQuadType\u001b[0m\u001b[39m.GAUSS_LEGENDRE, \u001b[0m\u001b[33mn\u001b[0m\u001b[39m=\u001b[0m\u001b[1;36m1\u001b[0m\u001b[1;39m)\u001b[0m\u001b[1;39m)\u001b[0m\u001b[39m,\u001b[0m\n",
       "\u001b[39m            \u001b[0m\u001b[1;35mBin\u001b[0m\u001b[1;39m(\u001b[0m\u001b[33mwmin\u001b[0m\u001b[39m=\u001b[0m\u001b[1;36m350\u001b[0m\u001b[1;36m.0\u001b[0m\u001b[39m nm, \u001b[0m\u001b[33mwmax\u001b[0m\u001b[39m=\u001b[0m\u001b[1;36m360\u001b[0m\u001b[1;36m.0\u001b[0m\u001b[39m nm, \u001b[0m\u001b[33mquad\u001b[0m\u001b[39m=\u001b[0m\u001b[1;35mQuad\u001b[0m\u001b[1;39m(\u001b[0m\u001b[33mtype\u001b[0m\u001b[39m=\u001b[0m\u001b[35mQuadType\u001b[0m\u001b[39m.GAUSS_LEGENDRE, \u001b[0m\u001b[33mn\u001b[0m\u001b[39m=\u001b[0m\u001b[1;36m1\u001b[0m\u001b[1;39m)\u001b[0m\u001b[1;39m)\u001b[0m\u001b[39m,\u001b[0m\n",
       "\u001b[39m            \u001b[0m\u001b[1;35mBin\u001b[0m\u001b[1;39m(\u001b[0m\u001b[33mwmin\u001b[0m\u001b[39m=\u001b[0m\u001b[1;36m360\u001b[0m\u001b[1;36m.0\u001b[0m\u001b[39m nm, \u001b[0m\u001b[33mwmax\u001b[0m\u001b[39m=\u001b[0m\u001b[1;36m370\u001b[0m\u001b[1;36m.0\u001b[0m\u001b[39m nm, \u001b[0m\u001b[33mquad\u001b[0m\u001b[39m=\u001b[0m\u001b[1;35mQuad\u001b[0m\u001b[1;39m(\u001b[0m\u001b[33mtype\u001b[0m\u001b[39m=\u001b[0m\u001b[35mQuadType\u001b[0m\u001b[39m.GAUSS_LEGENDRE, \u001b[0m\u001b[33mn\u001b[0m\u001b[39m=\u001b[0m\u001b[1;36m1\u001b[0m\u001b[1;39m)\u001b[0m\u001b[1;39m)\u001b[0m\u001b[39m,\u001b[0m\n",
       "\u001b[39m            \u001b[0m\u001b[1;35mBin\u001b[0m\u001b[1;39m(\u001b[0m\u001b[33mwmin\u001b[0m\u001b[39m=\u001b[0m\u001b[1;36m370\u001b[0m\u001b[1;36m.0\u001b[0m\u001b[39m nm, \u001b[0m\u001b[33mwmax\u001b[0m\u001b[39m=\u001b[0m\u001b[1;36m380\u001b[0m\u001b[1;36m.0\u001b[0m\u001b[39m nm, \u001b[0m\u001b[33mquad\u001b[0m\u001b[39m=\u001b[0m\u001b[1;35mQuad\u001b[0m\u001b[1;39m(\u001b[0m\u001b[33mtype\u001b[0m\u001b[39m=\u001b[0m\u001b[35mQuadType\u001b[0m\u001b[39m.GAUSS_LEGENDRE, \u001b[0m\u001b[33mn\u001b[0m\u001b[39m=\u001b[0m\u001b[1;36m1\u001b[0m\u001b[1;39m)\u001b[0m\u001b[1;39m)\u001b[0m\u001b[39m,\u001b[0m\n",
       "\u001b[39m            \u001b[0m\u001b[1;35mBin\u001b[0m\u001b[1;39m(\u001b[0m\u001b[33mwmin\u001b[0m\u001b[39m=\u001b[0m\u001b[1;36m380\u001b[0m\u001b[1;36m.0\u001b[0m\u001b[39m nm, \u001b[0m\u001b[33mwmax\u001b[0m\u001b[39m=\u001b[0m\u001b[1;36m390\u001b[0m\u001b[1;36m.0\u001b[0m\u001b[39m nm, \u001b[0m\u001b[33mquad\u001b[0m\u001b[39m=\u001b[0m\u001b[1;35mQuad\u001b[0m\u001b[1;39m(\u001b[0m\u001b[33mtype\u001b[0m\u001b[39m=\u001b[0m\u001b[35mQuadType\u001b[0m\u001b[39m.GAUSS_LEGENDRE, \u001b[0m\u001b[33mn\u001b[0m\u001b[39m=\u001b[0m\u001b[1;36m1\u001b[0m\u001b[1;39m)\u001b[0m\u001b[1;39m)\u001b[0m\u001b[39m,\u001b[0m\n",
       "\u001b[39m            \u001b[0m\u001b[1;35mBin\u001b[0m\u001b[1;39m(\u001b[0m\u001b[33mwmin\u001b[0m\u001b[39m=\u001b[0m\u001b[1;36m390\u001b[0m\u001b[1;36m.0\u001b[0m\u001b[39m nm, \u001b[0m\u001b[33mwmax\u001b[0m\u001b[39m=\u001b[0m\u001b[1;36m400\u001b[0m\u001b[1;36m.0\u001b[0m\u001b[39m nm, \u001b[0m\u001b[33mquad\u001b[0m\u001b[39m=\u001b[0m\u001b[1;35mQuad\u001b[0m\u001b[1;39m(\u001b[0m\u001b[33mtype\u001b[0m\u001b[39m=\u001b[0m\u001b[35mQuadType\u001b[0m\u001b[39m.GAUSS_LEGENDRE, \u001b[0m\u001b[33mn\u001b[0m\u001b[39m=\u001b[0m\u001b[1;36m1\u001b[0m\u001b[1;39m)\u001b[0m\u001b[1;39m)\u001b[0m\u001b[39m,\u001b[0m\n",
       "\u001b[39m            \u001b[0m\u001b[1;35mBin\u001b[0m\u001b[1;39m(\u001b[0m\u001b[33mwmin\u001b[0m\u001b[39m=\u001b[0m\u001b[1;36m400\u001b[0m\u001b[1;36m.0\u001b[0m\u001b[39m nm, \u001b[0m\u001b[33mwmax\u001b[0m\u001b[39m=\u001b[0m\u001b[1;36m410\u001b[0m\u001b[1;36m.0\u001b[0m\u001b[39m nm, \u001b[0m\u001b[33mquad\u001b[0m\u001b[39m=\u001b[0m\u001b[1;35mQuad\u001b[0m\u001b[1;39m(\u001b[0m\u001b[33mtype\u001b[0m\u001b[39m=\u001b[0m\u001b[35mQuadType\u001b[0m\u001b[39m.GAUSS_LEGENDRE, \u001b[0m\u001b[33mn\u001b[0m\u001b[39m=\u001b[0m\u001b[1;36m1\u001b[0m\u001b[1;39m)\u001b[0m\u001b[1;39m)\u001b[0m\u001b[39m,\u001b[0m\n",
       "\u001b[39m            \u001b[0m\u001b[1;35mBin\u001b[0m\u001b[1;39m(\u001b[0m\u001b[33mwmin\u001b[0m\u001b[39m=\u001b[0m\u001b[1;36m410\u001b[0m\u001b[1;36m.0\u001b[0m\u001b[39m nm, \u001b[0m\u001b[33mwmax\u001b[0m\u001b[39m=\u001b[0m\u001b[1;36m420\u001b[0m\u001b[1;36m.0\u001b[0m\u001b[39m nm, \u001b[0m\u001b[33mquad\u001b[0m\u001b[39m=\u001b[0m\u001b[1;35mQuad\u001b[0m\u001b[1;39m(\u001b[0m\u001b[33mtype\u001b[0m\u001b[39m=\u001b[0m\u001b[35mQuadType\u001b[0m\u001b[39m.GAUSS_LEGENDRE, \u001b[0m\u001b[33mn\u001b[0m\u001b[39m=\u001b[0m\u001b[1;36m1\u001b[0m\u001b[1;39m)\u001b[0m\u001b[1;39m)\u001b[0m\u001b[39m,\u001b[0m\n",
       "\u001b[39m            \u001b[0m\u001b[1;35mBin\u001b[0m\u001b[1;39m(\u001b[0m\u001b[33mwmin\u001b[0m\u001b[39m=\u001b[0m\u001b[1;36m420\u001b[0m\u001b[1;36m.0\u001b[0m\u001b[39m nm, \u001b[0m\u001b[33mwmax\u001b[0m\u001b[39m=\u001b[0m\u001b[1;36m430\u001b[0m\u001b[1;36m.0\u001b[0m\u001b[39m nm, \u001b[0m\u001b[33mquad\u001b[0m\u001b[39m=\u001b[0m\u001b[1;35mQuad\u001b[0m\u001b[1;39m(\u001b[0m\u001b[33mtype\u001b[0m\u001b[39m=\u001b[0m\u001b[35mQuadType\u001b[0m\u001b[39m.GAUSS_LEGENDRE, \u001b[0m\u001b[33mn\u001b[0m\u001b[39m=\u001b[0m\u001b[1;36m1\u001b[0m\u001b[1;39m)\u001b[0m\u001b[1;39m)\u001b[0m\u001b[39m,\u001b[0m\n",
       "\u001b[39m            \u001b[0m\u001b[1;35mBin\u001b[0m\u001b[1;39m(\u001b[0m\u001b[33mwmin\u001b[0m\u001b[39m=\u001b[0m\u001b[1;36m430\u001b[0m\u001b[1;36m.0\u001b[0m\u001b[39m nm, \u001b[0m\u001b[33mwmax\u001b[0m\u001b[39m=\u001b[0m\u001b[1;36m440\u001b[0m\u001b[1;36m.0\u001b[0m\u001b[39m nm, \u001b[0m\u001b[33mquad\u001b[0m\u001b[39m=\u001b[0m\u001b[1;35mQuad\u001b[0m\u001b[1;39m(\u001b[0m\u001b[33mtype\u001b[0m\u001b[39m=\u001b[0m\u001b[35mQuadType\u001b[0m\u001b[39m.GAUSS_LEGENDRE, \u001b[0m\u001b[33mn\u001b[0m\u001b[39m=\u001b[0m\u001b[1;36m1\u001b[0m\u001b[1;39m)\u001b[0m\u001b[1;39m)\u001b[0m\u001b[39m,\u001b[0m\n",
       "\u001b[39m            \u001b[0m\u001b[1;35mBin\u001b[0m\u001b[1;39m(\u001b[0m\u001b[33mwmin\u001b[0m\u001b[39m=\u001b[0m\u001b[1;36m440\u001b[0m\u001b[1;36m.0\u001b[0m\u001b[39m nm, \u001b[0m\u001b[33mwmax\u001b[0m\u001b[39m=\u001b[0m\u001b[1;36m450\u001b[0m\u001b[1;36m.0\u001b[0m\u001b[39m nm, \u001b[0m\u001b[33mquad\u001b[0m\u001b[39m=\u001b[0m\u001b[1;35mQuad\u001b[0m\u001b[1;39m(\u001b[0m\u001b[33mtype\u001b[0m\u001b[39m=\u001b[0m\u001b[35mQuadType\u001b[0m\u001b[39m.GAUSS_LEGENDRE, \u001b[0m\u001b[33mn\u001b[0m\u001b[39m=\u001b[0m\u001b[1;36m1\u001b[0m\u001b[1;39m)\u001b[0m\u001b[1;39m)\u001b[0m\u001b[39m,\u001b[0m\n",
       "\u001b[39m            \u001b[0m\u001b[1;35mBin\u001b[0m\u001b[1;39m(\u001b[0m\u001b[33mwmin\u001b[0m\u001b[39m=\u001b[0m\u001b[1;36m450\u001b[0m\u001b[1;36m.0\u001b[0m\u001b[39m nm, \u001b[0m\u001b[33mwmax\u001b[0m\u001b[39m=\u001b[0m\u001b[1;36m460\u001b[0m\u001b[1;36m.0\u001b[0m\u001b[39m nm, \u001b[0m\u001b[33mquad\u001b[0m\u001b[39m=\u001b[0m\u001b[1;35mQuad\u001b[0m\u001b[1;39m(\u001b[0m\u001b[33mtype\u001b[0m\u001b[39m=\u001b[0m\u001b[35mQuadType\u001b[0m\u001b[39m.GAUSS_LEGENDRE, \u001b[0m\u001b[33mn\u001b[0m\u001b[39m=\u001b[0m\u001b[1;36m1\u001b[0m\u001b[1;39m)\u001b[0m\u001b[1;39m)\u001b[0m\u001b[39m,\u001b[0m\n",
       "\u001b[39m            \u001b[0m\u001b[1;35mBin\u001b[0m\u001b[1;39m(\u001b[0m\u001b[33mwmin\u001b[0m\u001b[39m=\u001b[0m\u001b[1;36m460\u001b[0m\u001b[1;36m.0\u001b[0m\u001b[39m nm, \u001b[0m\u001b[33mwmax\u001b[0m\u001b[39m=\u001b[0m\u001b[1;36m470\u001b[0m\u001b[1;36m.0\u001b[0m\u001b[39m nm, \u001b[0m\u001b[33mquad\u001b[0m\u001b[39m=\u001b[0m\u001b[1;35mQuad\u001b[0m\u001b[1;39m(\u001b[0m\u001b[33mtype\u001b[0m\u001b[39m=\u001b[0m\u001b[35mQuadType\u001b[0m\u001b[39m.GAUSS_LEGENDRE, \u001b[0m\u001b[33mn\u001b[0m\u001b[39m=\u001b[0m\u001b[1;36m1\u001b[0m\u001b[1;39m)\u001b[0m\u001b[1;39m)\u001b[0m\u001b[39m,\u001b[0m\n",
       "\u001b[39m            \u001b[0m\u001b[1;35mBin\u001b[0m\u001b[1;39m(\u001b[0m\u001b[33mwmin\u001b[0m\u001b[39m=\u001b[0m\u001b[1;36m470\u001b[0m\u001b[1;36m.0\u001b[0m\u001b[39m nm, \u001b[0m\u001b[33mwmax\u001b[0m\u001b[39m=\u001b[0m\u001b[1;36m480\u001b[0m\u001b[1;36m.0\u001b[0m\u001b[39m nm, \u001b[0m\u001b[33mquad\u001b[0m\u001b[39m=\u001b[0m\u001b[1;35mQuad\u001b[0m\u001b[1;39m(\u001b[0m\u001b[33mtype\u001b[0m\u001b[39m=\u001b[0m\u001b[35mQuadType\u001b[0m\u001b[39m.GAUSS_LEGENDRE, \u001b[0m\u001b[33mn\u001b[0m\u001b[39m=\u001b[0m\u001b[1;36m1\u001b[0m\u001b[1;39m)\u001b[0m\u001b[1;39m)\u001b[0m\u001b[39m,\u001b[0m\n",
       "\u001b[39m            \u001b[0m\u001b[1;35mBin\u001b[0m\u001b[1;39m(\u001b[0m\u001b[33mwmin\u001b[0m\u001b[39m=\u001b[0m\u001b[1;36m480\u001b[0m\u001b[1;36m.0\u001b[0m\u001b[39m nm, \u001b[0m\u001b[33mwmax\u001b[0m\u001b[39m=\u001b[0m\u001b[1;36m490\u001b[0m\u001b[1;36m.0\u001b[0m\u001b[39m nm, \u001b[0m\u001b[33mquad\u001b[0m\u001b[39m=\u001b[0m\u001b[1;35mQuad\u001b[0m\u001b[1;39m(\u001b[0m\u001b[33mtype\u001b[0m\u001b[39m=\u001b[0m\u001b[35mQuadType\u001b[0m\u001b[39m.GAUSS_LEGENDRE, \u001b[0m\u001b[33mn\u001b[0m\u001b[39m=\u001b[0m\u001b[1;36m1\u001b[0m\u001b[1;39m)\u001b[0m\u001b[1;39m)\u001b[0m\u001b[39m,\u001b[0m\n",
       "\u001b[39m            \u001b[0m\u001b[1;35mBin\u001b[0m\u001b[1;39m(\u001b[0m\u001b[33mwmin\u001b[0m\u001b[39m=\u001b[0m\u001b[1;36m490\u001b[0m\u001b[1;36m.0\u001b[0m\u001b[39m nm, \u001b[0m\u001b[33mwmax\u001b[0m\u001b[39m=\u001b[0m\u001b[1;36m500\u001b[0m\u001b[1;36m.0\u001b[0m\u001b[39m nm, \u001b[0m\u001b[33mquad\u001b[0m\u001b[39m=\u001b[0m\u001b[1;35mQuad\u001b[0m\u001b[1;39m(\u001b[0m\u001b[33mtype\u001b[0m\u001b[39m=\u001b[0m\u001b[35mQuadType\u001b[0m\u001b[39m.GAUSS_LEGENDRE, \u001b[0m\u001b[33mn\u001b[0m\u001b[39m=\u001b[0m\u001b[1;36m1\u001b[0m\u001b[1;39m)\u001b[0m\u001b[1;39m)\u001b[0m\u001b[39m,\u001b[0m\n",
       "\u001b[39m            \u001b[0m\u001b[1;35mBin\u001b[0m\u001b[1;39m(\u001b[0m\u001b[33mwmin\u001b[0m\u001b[39m=\u001b[0m\u001b[1;36m500\u001b[0m\u001b[1;36m.0\u001b[0m\u001b[39m nm, \u001b[0m\u001b[33mwmax\u001b[0m\u001b[39m=\u001b[0m\u001b[1;36m510\u001b[0m\u001b[1;36m.0\u001b[0m\u001b[39m nm, \u001b[0m\u001b[33mquad\u001b[0m\u001b[39m=\u001b[0m\u001b[1;35mQuad\u001b[0m\u001b[1;39m(\u001b[0m\u001b[33mtype\u001b[0m\u001b[39m=\u001b[0m\u001b[35mQuadType\u001b[0m\u001b[39m.GAUSS_LEGENDRE, \u001b[0m\u001b[33mn\u001b[0m\u001b[39m=\u001b[0m\u001b[1;36m1\u001b[0m\u001b[1;39m)\u001b[0m\u001b[1;39m)\u001b[0m\u001b[39m,\u001b[0m\n",
       "\u001b[39m            \u001b[0m\u001b[1;35mBin\u001b[0m\u001b[1;39m(\u001b[0m\u001b[33mwmin\u001b[0m\u001b[39m=\u001b[0m\u001b[1;36m510\u001b[0m\u001b[1;36m.0\u001b[0m\u001b[39m nm, \u001b[0m\u001b[33mwmax\u001b[0m\u001b[39m=\u001b[0m\u001b[1;36m520\u001b[0m\u001b[1;36m.0\u001b[0m\u001b[39m nm, \u001b[0m\u001b[33mquad\u001b[0m\u001b[39m=\u001b[0m\u001b[1;35mQuad\u001b[0m\u001b[1;39m(\u001b[0m\u001b[33mtype\u001b[0m\u001b[39m=\u001b[0m\u001b[35mQuadType\u001b[0m\u001b[39m.GAUSS_LEGENDRE, \u001b[0m\u001b[33mn\u001b[0m\u001b[39m=\u001b[0m\u001b[1;36m1\u001b[0m\u001b[1;39m)\u001b[0m\u001b[1;39m)\u001b[0m\u001b[39m,\u001b[0m\n",
       "\u001b[39m            \u001b[0m\u001b[1;35mBin\u001b[0m\u001b[1;39m(\u001b[0m\u001b[33mwmin\u001b[0m\u001b[39m=\u001b[0m\u001b[1;36m520\u001b[0m\u001b[1;36m.0\u001b[0m\u001b[39m nm, \u001b[0m\u001b[33mwmax\u001b[0m\u001b[39m=\u001b[0m\u001b[1;36m530\u001b[0m\u001b[1;36m.0\u001b[0m\u001b[39m nm, \u001b[0m\u001b[33mquad\u001b[0m\u001b[39m=\u001b[0m\u001b[1;35mQuad\u001b[0m\u001b[1;39m(\u001b[0m\u001b[33mtype\u001b[0m\u001b[39m=\u001b[0m\u001b[35mQuadType\u001b[0m\u001b[39m.GAUSS_LEGENDRE, \u001b[0m\u001b[33mn\u001b[0m\u001b[39m=\u001b[0m\u001b[1;36m1\u001b[0m\u001b[1;39m)\u001b[0m\u001b[1;39m)\u001b[0m\u001b[39m,\u001b[0m\n",
       "\u001b[39m            \u001b[0m\u001b[1;35mBin\u001b[0m\u001b[1;39m(\u001b[0m\u001b[33mwmin\u001b[0m\u001b[39m=\u001b[0m\u001b[1;36m530\u001b[0m\u001b[1;36m.0\u001b[0m\u001b[39m nm, \u001b[0m\u001b[33mwmax\u001b[0m\u001b[39m=\u001b[0m\u001b[1;36m540\u001b[0m\u001b[1;36m.0\u001b[0m\u001b[39m nm, \u001b[0m\u001b[33mquad\u001b[0m\u001b[39m=\u001b[0m\u001b[1;35mQuad\u001b[0m\u001b[1;39m(\u001b[0m\u001b[33mtype\u001b[0m\u001b[39m=\u001b[0m\u001b[35mQuadType\u001b[0m\u001b[39m.GAUSS_LEGENDRE, \u001b[0m\u001b[33mn\u001b[0m\u001b[39m=\u001b[0m\u001b[1;36m1\u001b[0m\u001b[1;39m)\u001b[0m\u001b[1;39m)\u001b[0m\u001b[39m,\u001b[0m\n",
       "\u001b[39m            \u001b[0m\u001b[1;35mBin\u001b[0m\u001b[1;39m(\u001b[0m\u001b[33mwmin\u001b[0m\u001b[39m=\u001b[0m\u001b[1;36m540\u001b[0m\u001b[1;36m.0\u001b[0m\u001b[39m nm, \u001b[0m\u001b[33mwmax\u001b[0m\u001b[39m=\u001b[0m\u001b[1;36m550\u001b[0m\u001b[1;36m.0\u001b[0m\u001b[39m nm, \u001b[0m\u001b[33mquad\u001b[0m\u001b[39m=\u001b[0m\u001b[1;35mQuad\u001b[0m\u001b[1;39m(\u001b[0m\u001b[33mtype\u001b[0m\u001b[39m=\u001b[0m\u001b[35mQuadType\u001b[0m\u001b[39m.GAUSS_LEGENDRE, \u001b[0m\u001b[33mn\u001b[0m\u001b[39m=\u001b[0m\u001b[1;36m1\u001b[0m\u001b[1;39m)\u001b[0m\u001b[1;39m)\u001b[0m\u001b[39m,\u001b[0m\n",
       "\u001b[39m            \u001b[0m\u001b[1;35mBin\u001b[0m\u001b[1;39m(\u001b[0m\u001b[33mwmin\u001b[0m\u001b[39m=\u001b[0m\u001b[1;36m550\u001b[0m\u001b[1;36m.0\u001b[0m\u001b[39m nm, \u001b[0m\u001b[33mwmax\u001b[0m\u001b[39m=\u001b[0m\u001b[1;36m560\u001b[0m\u001b[1;36m.0\u001b[0m\u001b[39m nm, \u001b[0m\u001b[33mquad\u001b[0m\u001b[39m=\u001b[0m\u001b[1;35mQuad\u001b[0m\u001b[1;39m(\u001b[0m\u001b[33mtype\u001b[0m\u001b[39m=\u001b[0m\u001b[35mQuadType\u001b[0m\u001b[39m.GAUSS_LEGENDRE, \u001b[0m\u001b[33mn\u001b[0m\u001b[39m=\u001b[0m\u001b[1;36m1\u001b[0m\u001b[1;39m)\u001b[0m\u001b[1;39m)\u001b[0m\u001b[39m,\u001b[0m\n",
       "\u001b[39m            \u001b[0m\u001b[1;35mBin\u001b[0m\u001b[1;39m(\u001b[0m\u001b[33mwmin\u001b[0m\u001b[39m=\u001b[0m\u001b[1;36m560\u001b[0m\u001b[1;36m.0\u001b[0m\u001b[39m nm, \u001b[0m\u001b[33mwmax\u001b[0m\u001b[39m=\u001b[0m\u001b[1;36m570\u001b[0m\u001b[1;36m.0\u001b[0m\u001b[39m nm, \u001b[0m\u001b[33mquad\u001b[0m\u001b[39m=\u001b[0m\u001b[1;35mQuad\u001b[0m\u001b[1;39m(\u001b[0m\u001b[33mtype\u001b[0m\u001b[39m=\u001b[0m\u001b[35mQuadType\u001b[0m\u001b[39m.GAUSS_LEGENDRE, \u001b[0m\u001b[33mn\u001b[0m\u001b[39m=\u001b[0m\u001b[1;36m1\u001b[0m\u001b[1;39m)\u001b[0m\u001b[1;39m)\u001b[0m\u001b[39m,\u001b[0m\n",
       "\u001b[39m            \u001b[0m\u001b[1;35mBin\u001b[0m\u001b[1;39m(\u001b[0m\u001b[33mwmin\u001b[0m\u001b[39m=\u001b[0m\u001b[1;36m570\u001b[0m\u001b[1;36m.0\u001b[0m\u001b[39m nm, \u001b[0m\u001b[33mwmax\u001b[0m\u001b[39m=\u001b[0m\u001b[1;36m580\u001b[0m\u001b[1;36m.0\u001b[0m\u001b[39m nm, \u001b[0m\u001b[33mquad\u001b[0m\u001b[39m=\u001b[0m\u001b[1;35mQuad\u001b[0m\u001b[1;39m(\u001b[0m\u001b[33mtype\u001b[0m\u001b[39m=\u001b[0m\u001b[35mQuadType\u001b[0m\u001b[39m.GAUSS_LEGENDRE, \u001b[0m\u001b[33mn\u001b[0m\u001b[39m=\u001b[0m\u001b[1;36m1\u001b[0m\u001b[1;39m)\u001b[0m\u001b[1;39m)\u001b[0m\u001b[39m,\u001b[0m\n",
       "\u001b[39m            \u001b[0m\u001b[1;35mBin\u001b[0m\u001b[1;39m(\u001b[0m\u001b[33mwmin\u001b[0m\u001b[39m=\u001b[0m\u001b[1;36m580\u001b[0m\u001b[1;36m.0\u001b[0m\u001b[39m nm, \u001b[0m\u001b[33mwmax\u001b[0m\u001b[39m=\u001b[0m\u001b[1;36m590\u001b[0m\u001b[1;36m.0\u001b[0m\u001b[39m nm, \u001b[0m\u001b[33mquad\u001b[0m\u001b[39m=\u001b[0m\u001b[1;35mQuad\u001b[0m\u001b[1;39m(\u001b[0m\u001b[33mtype\u001b[0m\u001b[39m=\u001b[0m\u001b[35mQuadType\u001b[0m\u001b[39m.GAUSS_LEGENDRE, \u001b[0m\u001b[33mn\u001b[0m\u001b[39m=\u001b[0m\u001b[1;36m1\u001b[0m\u001b[1;39m)\u001b[0m\u001b[1;39m)\u001b[0m\u001b[39m,\u001b[0m\n",
       "\u001b[39m            \u001b[0m\u001b[1;35mBin\u001b[0m\u001b[1;39m(\u001b[0m\u001b[33mwmin\u001b[0m\u001b[39m=\u001b[0m\u001b[1;36m590\u001b[0m\u001b[1;36m.0\u001b[0m\u001b[39m nm, \u001b[0m\u001b[33mwmax\u001b[0m\u001b[39m=\u001b[0m\u001b[1;36m600\u001b[0m\u001b[1;36m.0\u001b[0m\u001b[39m nm, \u001b[0m\u001b[33mquad\u001b[0m\u001b[39m=\u001b[0m\u001b[1;35mQuad\u001b[0m\u001b[1;39m(\u001b[0m\u001b[33mtype\u001b[0m\u001b[39m=\u001b[0m\u001b[35mQuadType\u001b[0m\u001b[39m.GAUSS_LEGENDRE, \u001b[0m\u001b[33mn\u001b[0m\u001b[39m=\u001b[0m\u001b[1;36m1\u001b[0m\u001b[1;39m)\u001b[0m\u001b[1;39m)\u001b[0m\u001b[39m,\u001b[0m\n",
       "\u001b[39m            \u001b[0m\u001b[1;35mBin\u001b[0m\u001b[1;39m(\u001b[0m\u001b[33mwmin\u001b[0m\u001b[39m=\u001b[0m\u001b[1;36m600\u001b[0m\u001b[1;36m.0\u001b[0m\u001b[39m nm, \u001b[0m\u001b[33mwmax\u001b[0m\u001b[39m=\u001b[0m\u001b[1;36m610\u001b[0m\u001b[1;36m.0\u001b[0m\u001b[39m nm, \u001b[0m\u001b[33mquad\u001b[0m\u001b[39m=\u001b[0m\u001b[1;35mQuad\u001b[0m\u001b[1;39m(\u001b[0m\u001b[33mtype\u001b[0m\u001b[39m=\u001b[0m\u001b[35mQuadType\u001b[0m\u001b[39m.GAUSS_LEGENDRE, \u001b[0m\u001b[33mn\u001b[0m\u001b[39m=\u001b[0m\u001b[1;36m1\u001b[0m\u001b[1;39m)\u001b[0m\u001b[1;39m)\u001b[0m\u001b[39m,\u001b[0m\n",
       "\u001b[39m            \u001b[0m\u001b[1;35mBin\u001b[0m\u001b[1;39m(\u001b[0m\u001b[33mwmin\u001b[0m\u001b[39m=\u001b[0m\u001b[1;36m610\u001b[0m\u001b[1;36m.0\u001b[0m\u001b[39m nm, \u001b[0m\u001b[33mwmax\u001b[0m\u001b[39m=\u001b[0m\u001b[1;36m620\u001b[0m\u001b[1;36m.0\u001b[0m\u001b[39m nm, \u001b[0m\u001b[33mquad\u001b[0m\u001b[39m=\u001b[0m\u001b[1;35mQuad\u001b[0m\u001b[1;39m(\u001b[0m\u001b[33mtype\u001b[0m\u001b[39m=\u001b[0m\u001b[35mQuadType\u001b[0m\u001b[39m.GAUSS_LEGENDRE, \u001b[0m\u001b[33mn\u001b[0m\u001b[39m=\u001b[0m\u001b[1;36m1\u001b[0m\u001b[1;39m)\u001b[0m\u001b[1;39m)\u001b[0m\u001b[39m,\u001b[0m\n",
       "\u001b[39m            \u001b[0m\u001b[1;35mBin\u001b[0m\u001b[1;39m(\u001b[0m\u001b[33mwmin\u001b[0m\u001b[39m=\u001b[0m\u001b[1;36m620\u001b[0m\u001b[1;36m.0\u001b[0m\u001b[39m nm, \u001b[0m\u001b[33mwmax\u001b[0m\u001b[39m=\u001b[0m\u001b[1;36m630\u001b[0m\u001b[1;36m.0\u001b[0m\u001b[39m nm, \u001b[0m\u001b[33mquad\u001b[0m\u001b[39m=\u001b[0m\u001b[1;35mQuad\u001b[0m\u001b[1;39m(\u001b[0m\u001b[33mtype\u001b[0m\u001b[39m=\u001b[0m\u001b[35mQuadType\u001b[0m\u001b[39m.GAUSS_LEGENDRE, \u001b[0m\u001b[33mn\u001b[0m\u001b[39m=\u001b[0m\u001b[1;36m1\u001b[0m\u001b[1;39m)\u001b[0m\u001b[1;39m)\u001b[0m\u001b[39m,\u001b[0m\n",
       "\u001b[39m            \u001b[0m\u001b[1;35mBin\u001b[0m\u001b[1;39m(\u001b[0m\u001b[33mwmin\u001b[0m\u001b[39m=\u001b[0m\u001b[1;36m630\u001b[0m\u001b[1;36m.0\u001b[0m\u001b[39m nm, \u001b[0m\u001b[33mwmax\u001b[0m\u001b[39m=\u001b[0m\u001b[1;36m640\u001b[0m\u001b[1;36m.0\u001b[0m\u001b[39m nm, \u001b[0m\u001b[33mquad\u001b[0m\u001b[39m=\u001b[0m\u001b[1;35mQuad\u001b[0m\u001b[1;39m(\u001b[0m\u001b[33mtype\u001b[0m\u001b[39m=\u001b[0m\u001b[35mQuadType\u001b[0m\u001b[39m.GAUSS_LEGENDRE, \u001b[0m\u001b[33mn\u001b[0m\u001b[39m=\u001b[0m\u001b[1;36m1\u001b[0m\u001b[1;39m)\u001b[0m\u001b[1;39m)\u001b[0m\u001b[39m,\u001b[0m\n",
       "\u001b[39m            \u001b[0m\u001b[1;35mBin\u001b[0m\u001b[1;39m(\u001b[0m\u001b[33mwmin\u001b[0m\u001b[39m=\u001b[0m\u001b[1;36m640\u001b[0m\u001b[1;36m.0\u001b[0m\u001b[39m nm, \u001b[0m\u001b[33mwmax\u001b[0m\u001b[39m=\u001b[0m\u001b[1;36m650\u001b[0m\u001b[1;36m.0\u001b[0m\u001b[39m nm, \u001b[0m\u001b[33mquad\u001b[0m\u001b[39m=\u001b[0m\u001b[1;35mQuad\u001b[0m\u001b[1;39m(\u001b[0m\u001b[33mtype\u001b[0m\u001b[39m=\u001b[0m\u001b[35mQuadType\u001b[0m\u001b[39m.GAUSS_LEGENDRE, \u001b[0m\u001b[33mn\u001b[0m\u001b[39m=\u001b[0m\u001b[1;36m1\u001b[0m\u001b[1;39m)\u001b[0m\u001b[1;39m)\u001b[0m\u001b[39m,\u001b[0m\n",
       "\u001b[39m            \u001b[0m\u001b[1;35mBin\u001b[0m\u001b[1;39m(\u001b[0m\u001b[33mwmin\u001b[0m\u001b[39m=\u001b[0m\u001b[1;36m650\u001b[0m\u001b[1;36m.0\u001b[0m\u001b[39m nm, \u001b[0m\u001b[33mwmax\u001b[0m\u001b[39m=\u001b[0m\u001b[1;36m660\u001b[0m\u001b[1;36m.0\u001b[0m\u001b[39m nm, \u001b[0m\u001b[33mquad\u001b[0m\u001b[39m=\u001b[0m\u001b[1;35mQuad\u001b[0m\u001b[1;39m(\u001b[0m\u001b[33mtype\u001b[0m\u001b[39m=\u001b[0m\u001b[35mQuadType\u001b[0m\u001b[39m.GAUSS_LEGENDRE, \u001b[0m\u001b[33mn\u001b[0m\u001b[39m=\u001b[0m\u001b[1;36m1\u001b[0m\u001b[1;39m)\u001b[0m\u001b[1;39m)\u001b[0m\u001b[39m,\u001b[0m\n",
       "\u001b[39m            \u001b[0m\u001b[1;35mBin\u001b[0m\u001b[1;39m(\u001b[0m\u001b[33mwmin\u001b[0m\u001b[39m=\u001b[0m\u001b[1;36m660\u001b[0m\u001b[1;36m.0\u001b[0m\u001b[39m nm, \u001b[0m\u001b[33mwmax\u001b[0m\u001b[39m=\u001b[0m\u001b[1;36m670\u001b[0m\u001b[1;36m.0\u001b[0m\u001b[39m nm, \u001b[0m\u001b[33mquad\u001b[0m\u001b[39m=\u001b[0m\u001b[1;35mQuad\u001b[0m\u001b[1;39m(\u001b[0m\u001b[33mtype\u001b[0m\u001b[39m=\u001b[0m\u001b[35mQuadType\u001b[0m\u001b[39m.GAUSS_LEGENDRE, \u001b[0m\u001b[33mn\u001b[0m\u001b[39m=\u001b[0m\u001b[1;36m1\u001b[0m\u001b[1;39m)\u001b[0m\u001b[1;39m)\u001b[0m\u001b[39m,\u001b[0m\n",
       "\u001b[39m            \u001b[0m\u001b[1;35mBin\u001b[0m\u001b[1;39m(\u001b[0m\u001b[33mwmin\u001b[0m\u001b[39m=\u001b[0m\u001b[1;36m670\u001b[0m\u001b[1;36m.0\u001b[0m\u001b[39m nm, \u001b[0m\u001b[33mwmax\u001b[0m\u001b[39m=\u001b[0m\u001b[1;36m680\u001b[0m\u001b[1;36m.0\u001b[0m\u001b[39m nm, \u001b[0m\u001b[33mquad\u001b[0m\u001b[39m=\u001b[0m\u001b[1;35mQuad\u001b[0m\u001b[1;39m(\u001b[0m\u001b[33mtype\u001b[0m\u001b[39m=\u001b[0m\u001b[35mQuadType\u001b[0m\u001b[39m.GAUSS_LEGENDRE, \u001b[0m\u001b[33mn\u001b[0m\u001b[39m=\u001b[0m\u001b[1;36m1\u001b[0m\u001b[1;39m)\u001b[0m\u001b[1;39m)\u001b[0m\u001b[39m,\u001b[0m\n",
       "\u001b[39m            \u001b[0m\u001b[1;35mBin\u001b[0m\u001b[1;39m(\u001b[0m\u001b[33mwmin\u001b[0m\u001b[39m=\u001b[0m\u001b[1;36m680\u001b[0m\u001b[1;36m.0\u001b[0m\u001b[39m nm, \u001b[0m\u001b[33mwmax\u001b[0m\u001b[39m=\u001b[0m\u001b[1;36m690\u001b[0m\u001b[1;36m.0\u001b[0m\u001b[39m nm, \u001b[0m\u001b[33mquad\u001b[0m\u001b[39m=\u001b[0m\u001b[1;35mQuad\u001b[0m\u001b[1;39m(\u001b[0m\u001b[33mtype\u001b[0m\u001b[39m=\u001b[0m\u001b[35mQuadType\u001b[0m\u001b[39m.GAUSS_LEGENDRE, \u001b[0m\u001b[33mn\u001b[0m\u001b[39m=\u001b[0m\u001b[1;36m1\u001b[0m\u001b[1;39m)\u001b[0m\u001b[1;39m)\u001b[0m\u001b[39m,\u001b[0m\n",
       "\u001b[39m            \u001b[0m\u001b[1;35mBin\u001b[0m\u001b[1;39m(\u001b[0m\u001b[33mwmin\u001b[0m\u001b[39m=\u001b[0m\u001b[1;36m690\u001b[0m\u001b[1;36m.0\u001b[0m\u001b[39m nm, \u001b[0m\u001b[33mwmax\u001b[0m\u001b[39m=\u001b[0m\u001b[1;36m700\u001b[0m\u001b[1;36m.0\u001b[0m\u001b[39m nm, \u001b[0m\u001b[33mquad\u001b[0m\u001b[39m=\u001b[0m\u001b[1;35mQuad\u001b[0m\u001b[1;39m(\u001b[0m\u001b[33mtype\u001b[0m\u001b[39m=\u001b[0m\u001b[35mQuadType\u001b[0m\u001b[39m.GAUSS_LEGENDRE, \u001b[0m\u001b[33mn\u001b[0m\u001b[39m=\u001b[0m\u001b[1;36m1\u001b[0m\u001b[1;39m)\u001b[0m\u001b[1;39m)\u001b[0m\u001b[39m,\u001b[0m\n",
       "\u001b[39m            \u001b[0m\u001b[1;35mBin\u001b[0m\u001b[1;39m(\u001b[0m\u001b[33mwmin\u001b[0m\u001b[39m=\u001b[0m\u001b[1;36m700\u001b[0m\u001b[1;36m.0\u001b[0m\u001b[39m nm, \u001b[0m\u001b[33mwmax\u001b[0m\u001b[39m=\u001b[0m\u001b[1;36m710\u001b[0m\u001b[1;36m.0\u001b[0m\u001b[39m nm, \u001b[0m\u001b[33mquad\u001b[0m\u001b[39m=\u001b[0m\u001b[1;35mQuad\u001b[0m\u001b[1;39m(\u001b[0m\u001b[33mtype\u001b[0m\u001b[39m=\u001b[0m\u001b[35mQuadType\u001b[0m\u001b[39m.GAUSS_LEGENDRE, \u001b[0m\u001b[33mn\u001b[0m\u001b[39m=\u001b[0m\u001b[1;36m1\u001b[0m\u001b[1;39m)\u001b[0m\u001b[1;39m)\u001b[0m\u001b[39m,\u001b[0m\n",
       "\u001b[39m            \u001b[0m\u001b[1;35mBin\u001b[0m\u001b[1;39m(\u001b[0m\u001b[33mwmin\u001b[0m\u001b[39m=\u001b[0m\u001b[1;36m710\u001b[0m\u001b[1;36m.0\u001b[0m\u001b[39m nm, \u001b[0m\u001b[33mwmax\u001b[0m\u001b[39m=\u001b[0m\u001b[1;36m720\u001b[0m\u001b[1;36m.0\u001b[0m\u001b[39m nm, \u001b[0m\u001b[33mquad\u001b[0m\u001b[39m=\u001b[0m\u001b[1;35mQuad\u001b[0m\u001b[1;39m(\u001b[0m\u001b[33mtype\u001b[0m\u001b[39m=\u001b[0m\u001b[35mQuadType\u001b[0m\u001b[39m.GAUSS_LEGENDRE, \u001b[0m\u001b[33mn\u001b[0m\u001b[39m=\u001b[0m\u001b[1;36m1\u001b[0m\u001b[1;39m)\u001b[0m\u001b[1;39m)\u001b[0m\u001b[39m,\u001b[0m\n",
       "\u001b[39m            \u001b[0m\u001b[1;35mBin\u001b[0m\u001b[1;39m(\u001b[0m\u001b[33mwmin\u001b[0m\u001b[39m=\u001b[0m\u001b[1;36m720\u001b[0m\u001b[1;36m.0\u001b[0m\u001b[39m nm, \u001b[0m\u001b[33mwmax\u001b[0m\u001b[39m=\u001b[0m\u001b[1;36m730\u001b[0m\u001b[1;36m.0\u001b[0m\u001b[39m nm, \u001b[0m\u001b[33mquad\u001b[0m\u001b[39m=\u001b[0m\u001b[1;35mQuad\u001b[0m\u001b[1;39m(\u001b[0m\u001b[33mtype\u001b[0m\u001b[39m=\u001b[0m\u001b[35mQuadType\u001b[0m\u001b[39m.GAUSS_LEGENDRE, \u001b[0m\u001b[33mn\u001b[0m\u001b[39m=\u001b[0m\u001b[1;36m1\u001b[0m\u001b[1;39m)\u001b[0m\u001b[1;39m)\u001b[0m\u001b[39m,\u001b[0m\n",
       "\u001b[39m            \u001b[0m\u001b[1;35mBin\u001b[0m\u001b[1;39m(\u001b[0m\u001b[33mwmin\u001b[0m\u001b[39m=\u001b[0m\u001b[1;36m730\u001b[0m\u001b[1;36m.0\u001b[0m\u001b[39m nm, \u001b[0m\u001b[33mwmax\u001b[0m\u001b[39m=\u001b[0m\u001b[1;36m740\u001b[0m\u001b[1;36m.0\u001b[0m\u001b[39m nm, \u001b[0m\u001b[33mquad\u001b[0m\u001b[39m=\u001b[0m\u001b[1;35mQuad\u001b[0m\u001b[1;39m(\u001b[0m\u001b[33mtype\u001b[0m\u001b[39m=\u001b[0m\u001b[35mQuadType\u001b[0m\u001b[39m.GAUSS_LEGENDRE, \u001b[0m\u001b[33mn\u001b[0m\u001b[39m=\u001b[0m\u001b[1;36m1\u001b[0m\u001b[1;39m)\u001b[0m\u001b[1;39m)\u001b[0m\u001b[39m,\u001b[0m\n",
       "\u001b[39m            \u001b[0m\u001b[1;35mBin\u001b[0m\u001b[1;39m(\u001b[0m\u001b[33mwmin\u001b[0m\u001b[39m=\u001b[0m\u001b[1;36m740\u001b[0m\u001b[1;36m.0\u001b[0m\u001b[39m nm, \u001b[0m\u001b[33mwmax\u001b[0m\u001b[39m=\u001b[0m\u001b[1;36m750\u001b[0m\u001b[1;36m.0\u001b[0m\u001b[39m nm, \u001b[0m\u001b[33mquad\u001b[0m\u001b[39m=\u001b[0m\u001b[1;35mQuad\u001b[0m\u001b[1;39m(\u001b[0m\u001b[33mtype\u001b[0m\u001b[39m=\u001b[0m\u001b[35mQuadType\u001b[0m\u001b[39m.GAUSS_LEGENDRE, \u001b[0m\u001b[33mn\u001b[0m\u001b[39m=\u001b[0m\u001b[1;36m1\u001b[0m\u001b[1;39m)\u001b[0m\u001b[1;39m)\u001b[0m\u001b[39m,\u001b[0m\n",
       "\u001b[39m            \u001b[0m\u001b[1;35mBin\u001b[0m\u001b[1;39m(\u001b[0m\u001b[33mwmin\u001b[0m\u001b[39m=\u001b[0m\u001b[1;36m750\u001b[0m\u001b[1;36m.0\u001b[0m\u001b[39m nm, \u001b[0m\u001b[33mwmax\u001b[0m\u001b[39m=\u001b[0m\u001b[1;36m760\u001b[0m\u001b[1;36m.0\u001b[0m\u001b[39m nm, \u001b[0m\u001b[33mquad\u001b[0m\u001b[39m=\u001b[0m\u001b[1;35mQuad\u001b[0m\u001b[1;39m(\u001b[0m\u001b[33mtype\u001b[0m\u001b[39m=\u001b[0m\u001b[35mQuadType\u001b[0m\u001b[39m.GAUSS_LEGENDRE, \u001b[0m\u001b[33mn\u001b[0m\u001b[39m=\u001b[0m\u001b[1;36m1\u001b[0m\u001b[1;39m)\u001b[0m\u001b[1;39m)\u001b[0m\u001b[39m,\u001b[0m\n",
       "\u001b[39m            \u001b[0m\u001b[1;35mBin\u001b[0m\u001b[1;39m(\u001b[0m\u001b[33mwmin\u001b[0m\u001b[39m=\u001b[0m\u001b[1;36m760\u001b[0m\u001b[1;36m.0\u001b[0m\u001b[39m nm, \u001b[0m\u001b[33mwmax\u001b[0m\u001b[39m=\u001b[0m\u001b[1;36m770\u001b[0m\u001b[1;36m.0\u001b[0m\u001b[39m nm, \u001b[0m\u001b[33mquad\u001b[0m\u001b[39m=\u001b[0m\u001b[1;35mQuad\u001b[0m\u001b[1;39m(\u001b[0m\u001b[33mtype\u001b[0m\u001b[39m=\u001b[0m\u001b[35mQuadType\u001b[0m\u001b[39m.GAUSS_LEGENDRE, \u001b[0m\u001b[33mn\u001b[0m\u001b[39m=\u001b[0m\u001b[1;36m1\u001b[0m\u001b[1;39m)\u001b[0m\u001b[1;39m)\u001b[0m\u001b[39m,\u001b[0m\n",
       "\u001b[39m            \u001b[0m\u001b[1;35mBin\u001b[0m\u001b[1;39m(\u001b[0m\u001b[33mwmin\u001b[0m\u001b[39m=\u001b[0m\u001b[1;36m770\u001b[0m\u001b[1;36m.0\u001b[0m\u001b[39m nm, \u001b[0m\u001b[33mwmax\u001b[0m\u001b[39m=\u001b[0m\u001b[1;36m780\u001b[0m\u001b[1;36m.0\u001b[0m\u001b[39m nm, \u001b[0m\u001b[33mquad\u001b[0m\u001b[39m=\u001b[0m\u001b[1;35mQuad\u001b[0m\u001b[1;39m(\u001b[0m\u001b[33mtype\u001b[0m\u001b[39m=\u001b[0m\u001b[35mQuadType\u001b[0m\u001b[39m.GAUSS_LEGENDRE, \u001b[0m\u001b[33mn\u001b[0m\u001b[39m=\u001b[0m\u001b[1;36m1\u001b[0m\u001b[1;39m)\u001b[0m\u001b[1;39m)\u001b[0m\u001b[39m,\u001b[0m\n",
       "\u001b[39m            \u001b[0m\u001b[1;35mBin\u001b[0m\u001b[1;39m(\u001b[0m\u001b[33mwmin\u001b[0m\u001b[39m=\u001b[0m\u001b[1;36m780\u001b[0m\u001b[1;36m.0\u001b[0m\u001b[39m nm, \u001b[0m\u001b[33mwmax\u001b[0m\u001b[39m=\u001b[0m\u001b[1;36m790\u001b[0m\u001b[1;36m.0\u001b[0m\u001b[39m nm, \u001b[0m\u001b[33mquad\u001b[0m\u001b[39m=\u001b[0m\u001b[1;35mQuad\u001b[0m\u001b[1;39m(\u001b[0m\u001b[33mtype\u001b[0m\u001b[39m=\u001b[0m\u001b[35mQuadType\u001b[0m\u001b[39m.GAUSS_LEGENDRE, \u001b[0m\u001b[33mn\u001b[0m\u001b[39m=\u001b[0m\u001b[1;36m1\u001b[0m\u001b[1;39m)\u001b[0m\u001b[1;39m)\u001b[0m\u001b[39m,\u001b[0m\n",
       "\u001b[39m            \u001b[0m\u001b[1;35mBin\u001b[0m\u001b[1;39m(\u001b[0m\u001b[33mwmin\u001b[0m\u001b[39m=\u001b[0m\u001b[1;36m790\u001b[0m\u001b[1;36m.0\u001b[0m\u001b[39m nm, \u001b[0m\u001b[33mwmax\u001b[0m\u001b[39m=\u001b[0m\u001b[1;36m800\u001b[0m\u001b[1;36m.0\u001b[0m\u001b[39m nm, \u001b[0m\u001b[33mquad\u001b[0m\u001b[39m=\u001b[0m\u001b[1;35mQuad\u001b[0m\u001b[1;39m(\u001b[0m\u001b[33mtype\u001b[0m\u001b[39m=\u001b[0m\u001b[35mQuadType\u001b[0m\u001b[39m.GAUSS_LEGENDRE, \u001b[0m\u001b[33mn\u001b[0m\u001b[39m=\u001b[0m\u001b[1;36m1\u001b[0m\u001b[1;39m)\u001b[0m\u001b[1;39m)\u001b[0m\u001b[39m,\u001b[0m\n",
       "\u001b[39m            \u001b[0m\u001b[1;35mBin\u001b[0m\u001b[1;39m(\u001b[0m\u001b[33mwmin\u001b[0m\u001b[39m=\u001b[0m\u001b[1;36m800\u001b[0m\u001b[1;36m.0\u001b[0m\u001b[39m nm, \u001b[0m\u001b[33mwmax\u001b[0m\u001b[39m=\u001b[0m\u001b[1;36m810\u001b[0m\u001b[1;36m.0\u001b[0m\u001b[39m nm, \u001b[0m\u001b[33mquad\u001b[0m\u001b[39m=\u001b[0m\u001b[1;35mQuad\u001b[0m\u001b[1;39m(\u001b[0m\u001b[33mtype\u001b[0m\u001b[39m=\u001b[0m\u001b[35mQuadType\u001b[0m\u001b[39m.GAUSS_LEGENDRE, \u001b[0m\u001b[33mn\u001b[0m\u001b[39m=\u001b[0m\u001b[1;36m1\u001b[0m\u001b[1;39m)\u001b[0m\u001b[1;39m)\u001b[0m\u001b[39m,\u001b[0m\n",
       "\u001b[39m            \u001b[0m\u001b[1;35mBin\u001b[0m\u001b[1;39m(\u001b[0m\u001b[33mwmin\u001b[0m\u001b[39m=\u001b[0m\u001b[1;36m810\u001b[0m\u001b[1;36m.0\u001b[0m\u001b[39m nm, \u001b[0m\u001b[33mwmax\u001b[0m\u001b[39m=\u001b[0m\u001b[1;36m820\u001b[0m\u001b[1;36m.0\u001b[0m\u001b[39m nm, \u001b[0m\u001b[33mquad\u001b[0m\u001b[39m=\u001b[0m\u001b[1;35mQuad\u001b[0m\u001b[1;39m(\u001b[0m\u001b[33mtype\u001b[0m\u001b[39m=\u001b[0m\u001b[35mQuadType\u001b[0m\u001b[39m.GAUSS_LEGENDRE, \u001b[0m\u001b[33mn\u001b[0m\u001b[39m=\u001b[0m\u001b[1;36m1\u001b[0m\u001b[1;39m)\u001b[0m\u001b[1;39m)\u001b[0m\u001b[39m,\u001b[0m\n",
       "\u001b[39m            \u001b[0m\u001b[1;35mBin\u001b[0m\u001b[1;39m(\u001b[0m\u001b[33mwmin\u001b[0m\u001b[39m=\u001b[0m\u001b[1;36m820\u001b[0m\u001b[1;36m.0\u001b[0m\u001b[39m nm, \u001b[0m\u001b[33mwmax\u001b[0m\u001b[39m=\u001b[0m\u001b[1;36m830\u001b[0m\u001b[1;36m.0\u001b[0m\u001b[39m nm, \u001b[0m\u001b[33mquad\u001b[0m\u001b[39m=\u001b[0m\u001b[1;35mQuad\u001b[0m\u001b[1;39m(\u001b[0m\u001b[33mtype\u001b[0m\u001b[39m=\u001b[0m\u001b[35mQuadType\u001b[0m\u001b[39m.GAUSS_LEGENDRE, \u001b[0m\u001b[33mn\u001b[0m\u001b[39m=\u001b[0m\u001b[1;36m1\u001b[0m\u001b[1;39m)\u001b[0m\u001b[1;39m)\u001b[0m\u001b[39m,\u001b[0m\n",
       "\u001b[39m            \u001b[0m\u001b[1;35mBin\u001b[0m\u001b[1;39m(\u001b[0m\u001b[33mwmin\u001b[0m\u001b[39m=\u001b[0m\u001b[1;36m830\u001b[0m\u001b[1;36m.0\u001b[0m\u001b[39m nm, \u001b[0m\u001b[33mwmax\u001b[0m\u001b[39m=\u001b[0m\u001b[1;36m840\u001b[0m\u001b[1;36m.0\u001b[0m\u001b[39m nm, \u001b[0m\u001b[33mquad\u001b[0m\u001b[39m=\u001b[0m\u001b[1;35mQuad\u001b[0m\u001b[1;39m(\u001b[0m\u001b[33mtype\u001b[0m\u001b[39m=\u001b[0m\u001b[35mQuadType\u001b[0m\u001b[39m.GAUSS_LEGENDRE, \u001b[0m\u001b[33mn\u001b[0m\u001b[39m=\u001b[0m\u001b[1;36m1\u001b[0m\u001b[1;39m)\u001b[0m\u001b[1;39m)\u001b[0m\u001b[39m,\u001b[0m\n",
       "\u001b[39m            \u001b[0m\u001b[1;35mBin\u001b[0m\u001b[1;39m(\u001b[0m\u001b[33mwmin\u001b[0m\u001b[39m=\u001b[0m\u001b[1;36m840\u001b[0m\u001b[1;36m.0\u001b[0m\u001b[39m nm, \u001b[0m\u001b[33mwmax\u001b[0m\u001b[39m=\u001b[0m\u001b[1;36m850\u001b[0m\u001b[1;36m.0\u001b[0m\u001b[39m nm, \u001b[0m\u001b[33mquad\u001b[0m\u001b[39m=\u001b[0m\u001b[1;35mQuad\u001b[0m\u001b[1;39m(\u001b[0m\u001b[33mtype\u001b[0m\u001b[39m=\u001b[0m\u001b[35mQuadType\u001b[0m\u001b[39m.GAUSS_LEGENDRE, \u001b[0m\u001b[33mn\u001b[0m\u001b[39m=\u001b[0m\u001b[1;36m1\u001b[0m\u001b[1;39m)\u001b[0m\u001b[1;39m)\u001b[0m\u001b[39m,\u001b[0m\n",
       "\u001b[39m            \u001b[0m\u001b[1;35mBin\u001b[0m\u001b[1;39m(\u001b[0m\u001b[33mwmin\u001b[0m\u001b[39m=\u001b[0m\u001b[1;36m850\u001b[0m\u001b[1;36m.0\u001b[0m\u001b[39m nm, \u001b[0m\u001b[33mwmax\u001b[0m\u001b[39m=\u001b[0m\u001b[1;36m860\u001b[0m\u001b[1;36m.0\u001b[0m\u001b[39m nm, \u001b[0m\u001b[33mquad\u001b[0m\u001b[39m=\u001b[0m\u001b[1;35mQuad\u001b[0m\u001b[1;39m(\u001b[0m\u001b[33mtype\u001b[0m\u001b[39m=\u001b[0m\u001b[35mQuadType\u001b[0m\u001b[39m.GAUSS_LEGENDRE, \u001b[0m\u001b[33mn\u001b[0m\u001b[39m=\u001b[0m\u001b[1;36m1\u001b[0m\u001b[1;39m)\u001b[0m\u001b[1;39m)\u001b[0m\u001b[39m,\u001b[0m\n",
       "\u001b[39m            \u001b[0m\u001b[1;35mBin\u001b[0m\u001b[1;39m(\u001b[0m\u001b[33mwmin\u001b[0m\u001b[39m=\u001b[0m\u001b[1;36m860\u001b[0m\u001b[1;36m.0\u001b[0m\u001b[39m nm, \u001b[0m\u001b[33mwmax\u001b[0m\u001b[39m=\u001b[0m\u001b[1;36m870\u001b[0m\u001b[1;36m.0\u001b[0m\u001b[39m nm, \u001b[0m\u001b[33mquad\u001b[0m\u001b[39m=\u001b[0m\u001b[1;35mQuad\u001b[0m\u001b[1;39m(\u001b[0m\u001b[33mtype\u001b[0m\u001b[39m=\u001b[0m\u001b[35mQuadType\u001b[0m\u001b[39m.GAUSS_LEGENDRE, \u001b[0m\u001b[33mn\u001b[0m\u001b[39m=\u001b[0m\u001b[1;36m1\u001b[0m\u001b[1;39m)\u001b[0m\u001b[1;39m)\u001b[0m\u001b[39m,\u001b[0m\n",
       "\u001b[39m            \u001b[0m\u001b[1;35mBin\u001b[0m\u001b[1;39m(\u001b[0m\u001b[33mwmin\u001b[0m\u001b[39m=\u001b[0m\u001b[1;36m870\u001b[0m\u001b[1;36m.0\u001b[0m\u001b[39m nm, \u001b[0m\u001b[33mwmax\u001b[0m\u001b[39m=\u001b[0m\u001b[1;36m880\u001b[0m\u001b[1;36m.0\u001b[0m\u001b[39m nm, \u001b[0m\u001b[33mquad\u001b[0m\u001b[39m=\u001b[0m\u001b[1;35mQuad\u001b[0m\u001b[1;39m(\u001b[0m\u001b[33mtype\u001b[0m\u001b[39m=\u001b[0m\u001b[35mQuadType\u001b[0m\u001b[39m.GAUSS_LEGENDRE, \u001b[0m\u001b[33mn\u001b[0m\u001b[39m=\u001b[0m\u001b[1;36m1\u001b[0m\u001b[1;39m)\u001b[0m\u001b[1;39m)\u001b[0m\u001b[39m,\u001b[0m\n",
       "\u001b[39m            \u001b[0m\u001b[1;35mBin\u001b[0m\u001b[1;39m(\u001b[0m\u001b[33mwmin\u001b[0m\u001b[39m=\u001b[0m\u001b[1;36m880\u001b[0m\u001b[1;36m.0\u001b[0m\u001b[39m nm, \u001b[0m\u001b[33mwmax\u001b[0m\u001b[39m=\u001b[0m\u001b[1;36m890\u001b[0m\u001b[1;36m.0\u001b[0m\u001b[39m nm, \u001b[0m\u001b[33mquad\u001b[0m\u001b[39m=\u001b[0m\u001b[1;35mQuad\u001b[0m\u001b[1;39m(\u001b[0m\u001b[33mtype\u001b[0m\u001b[39m=\u001b[0m\u001b[35mQuadType\u001b[0m\u001b[39m.GAUSS_LEGENDRE, \u001b[0m\u001b[33mn\u001b[0m\u001b[39m=\u001b[0m\u001b[1;36m1\u001b[0m\u001b[1;39m)\u001b[0m\u001b[1;39m)\u001b[0m\u001b[39m,\u001b[0m\n",
       "\u001b[39m            \u001b[0m\u001b[1;35mBin\u001b[0m\u001b[1;39m(\u001b[0m\u001b[33mwmin\u001b[0m\u001b[39m=\u001b[0m\u001b[1;36m890\u001b[0m\u001b[1;36m.0\u001b[0m\u001b[39m nm, \u001b[0m\u001b[33mwmax\u001b[0m\u001b[39m=\u001b[0m\u001b[1;36m900\u001b[0m\u001b[1;36m.0\u001b[0m\u001b[39m nm, \u001b[0m\u001b[33mquad\u001b[0m\u001b[39m=\u001b[0m\u001b[1;35mQuad\u001b[0m\u001b[1;39m(\u001b[0m\u001b[33mtype\u001b[0m\u001b[39m=\u001b[0m\u001b[35mQuadType\u001b[0m\u001b[39m.GAUSS_LEGENDRE, \u001b[0m\u001b[33mn\u001b[0m\u001b[39m=\u001b[0m\u001b[1;36m1\u001b[0m\u001b[1;39m)\u001b[0m\u001b[1;39m)\u001b[0m\u001b[39m,\u001b[0m\n",
       "\u001b[39m            \u001b[0m\u001b[1;35mBin\u001b[0m\u001b[1;39m(\u001b[0m\u001b[33mwmin\u001b[0m\u001b[39m=\u001b[0m\u001b[1;36m900\u001b[0m\u001b[1;36m.0\u001b[0m\u001b[39m nm, \u001b[0m\u001b[33mwmax\u001b[0m\u001b[39m=\u001b[0m\u001b[1;36m910\u001b[0m\u001b[1;36m.0\u001b[0m\u001b[39m nm, \u001b[0m\u001b[33mquad\u001b[0m\u001b[39m=\u001b[0m\u001b[1;35mQuad\u001b[0m\u001b[1;39m(\u001b[0m\u001b[33mtype\u001b[0m\u001b[39m=\u001b[0m\u001b[35mQuadType\u001b[0m\u001b[39m.GAUSS_LEGENDRE, \u001b[0m\u001b[33mn\u001b[0m\u001b[39m=\u001b[0m\u001b[1;36m1\u001b[0m\u001b[1;39m)\u001b[0m\u001b[1;39m)\u001b[0m\u001b[39m,\u001b[0m\n",
       "\u001b[39m            \u001b[0m\u001b[1;35mBin\u001b[0m\u001b[1;39m(\u001b[0m\u001b[33mwmin\u001b[0m\u001b[39m=\u001b[0m\u001b[1;36m910\u001b[0m\u001b[1;36m.0\u001b[0m\u001b[39m nm, \u001b[0m\u001b[33mwmax\u001b[0m\u001b[39m=\u001b[0m\u001b[1;36m920\u001b[0m\u001b[1;36m.0\u001b[0m\u001b[39m nm, \u001b[0m\u001b[33mquad\u001b[0m\u001b[39m=\u001b[0m\u001b[1;35mQuad\u001b[0m\u001b[1;39m(\u001b[0m\u001b[33mtype\u001b[0m\u001b[39m=\u001b[0m\u001b[35mQuadType\u001b[0m\u001b[39m.GAUSS_LEGENDRE, \u001b[0m\u001b[33mn\u001b[0m\u001b[39m=\u001b[0m\u001b[1;36m1\u001b[0m\u001b[1;39m)\u001b[0m\u001b[1;39m)\u001b[0m\u001b[39m,\u001b[0m\n",
       "\u001b[39m            \u001b[0m\u001b[1;35mBin\u001b[0m\u001b[1;39m(\u001b[0m\u001b[33mwmin\u001b[0m\u001b[39m=\u001b[0m\u001b[1;36m920\u001b[0m\u001b[1;36m.0\u001b[0m\u001b[39m nm, \u001b[0m\u001b[33mwmax\u001b[0m\u001b[39m=\u001b[0m\u001b[1;36m930\u001b[0m\u001b[1;36m.0\u001b[0m\u001b[39m nm, \u001b[0m\u001b[33mquad\u001b[0m\u001b[39m=\u001b[0m\u001b[1;35mQuad\u001b[0m\u001b[1;39m(\u001b[0m\u001b[33mtype\u001b[0m\u001b[39m=\u001b[0m\u001b[35mQuadType\u001b[0m\u001b[39m.GAUSS_LEGENDRE, \u001b[0m\u001b[33mn\u001b[0m\u001b[39m=\u001b[0m\u001b[1;36m1\u001b[0m\u001b[1;39m)\u001b[0m\u001b[1;39m)\u001b[0m\u001b[39m,\u001b[0m\n",
       "\u001b[39m            \u001b[0m\u001b[1;35mBin\u001b[0m\u001b[1;39m(\u001b[0m\u001b[33mwmin\u001b[0m\u001b[39m=\u001b[0m\u001b[1;36m930\u001b[0m\u001b[1;36m.0\u001b[0m\u001b[39m nm, \u001b[0m\u001b[33mwmax\u001b[0m\u001b[39m=\u001b[0m\u001b[1;36m940\u001b[0m\u001b[1;36m.0\u001b[0m\u001b[39m nm, \u001b[0m\u001b[33mquad\u001b[0m\u001b[39m=\u001b[0m\u001b[1;35mQuad\u001b[0m\u001b[1;39m(\u001b[0m\u001b[33mtype\u001b[0m\u001b[39m=\u001b[0m\u001b[35mQuadType\u001b[0m\u001b[39m.GAUSS_LEGENDRE, \u001b[0m\u001b[33mn\u001b[0m\u001b[39m=\u001b[0m\u001b[1;36m1\u001b[0m\u001b[1;39m)\u001b[0m\u001b[1;39m)\u001b[0m\u001b[39m,\u001b[0m\n",
       "\u001b[39m            \u001b[0m\u001b[1;35mBin\u001b[0m\u001b[1;39m(\u001b[0m\u001b[33mwmin\u001b[0m\u001b[39m=\u001b[0m\u001b[1;36m940\u001b[0m\u001b[1;36m.0\u001b[0m\u001b[39m nm, \u001b[0m\u001b[33mwmax\u001b[0m\u001b[39m=\u001b[0m\u001b[1;36m950\u001b[0m\u001b[1;36m.0\u001b[0m\u001b[39m nm, \u001b[0m\u001b[33mquad\u001b[0m\u001b[39m=\u001b[0m\u001b[1;35mQuad\u001b[0m\u001b[1;39m(\u001b[0m\u001b[33mtype\u001b[0m\u001b[39m=\u001b[0m\u001b[35mQuadType\u001b[0m\u001b[39m.GAUSS_LEGENDRE, \u001b[0m\u001b[33mn\u001b[0m\u001b[39m=\u001b[0m\u001b[1;36m1\u001b[0m\u001b[1;39m)\u001b[0m\u001b[1;39m)\u001b[0m\u001b[39m,\u001b[0m\n",
       "\u001b[39m            \u001b[0m\u001b[1;35mBin\u001b[0m\u001b[1;39m(\u001b[0m\u001b[33mwmin\u001b[0m\u001b[39m=\u001b[0m\u001b[1;36m950\u001b[0m\u001b[1;36m.0\u001b[0m\u001b[39m nm, \u001b[0m\u001b[33mwmax\u001b[0m\u001b[39m=\u001b[0m\u001b[1;36m960\u001b[0m\u001b[1;36m.0\u001b[0m\u001b[39m nm, \u001b[0m\u001b[33mquad\u001b[0m\u001b[39m=\u001b[0m\u001b[1;35mQuad\u001b[0m\u001b[1;39m(\u001b[0m\u001b[33mtype\u001b[0m\u001b[39m=\u001b[0m\u001b[35mQuadType\u001b[0m\u001b[39m.GAUSS_LEGENDRE, \u001b[0m\u001b[33mn\u001b[0m\u001b[39m=\u001b[0m\u001b[1;36m1\u001b[0m\u001b[1;39m)\u001b[0m\u001b[1;39m)\u001b[0m\u001b[39m,\u001b[0m\n",
       "\u001b[39m            \u001b[0m\u001b[1;35mBin\u001b[0m\u001b[1;39m(\u001b[0m\u001b[33mwmin\u001b[0m\u001b[39m=\u001b[0m\u001b[1;36m960\u001b[0m\u001b[1;36m.0\u001b[0m\u001b[39m nm, \u001b[0m\u001b[33mwmax\u001b[0m\u001b[39m=\u001b[0m\u001b[1;36m970\u001b[0m\u001b[1;36m.0\u001b[0m\u001b[39m nm, \u001b[0m\u001b[33mquad\u001b[0m\u001b[39m=\u001b[0m\u001b[1;35mQuad\u001b[0m\u001b[1;39m(\u001b[0m\u001b[33mtype\u001b[0m\u001b[39m=\u001b[0m\u001b[35mQuadType\u001b[0m\u001b[39m.GAUSS_LEGENDRE, \u001b[0m\u001b[33mn\u001b[0m\u001b[39m=\u001b[0m\u001b[1;36m1\u001b[0m\u001b[1;39m)\u001b[0m\u001b[1;39m)\u001b[0m\u001b[39m,\u001b[0m\n",
       "\u001b[39m            \u001b[0m\u001b[1;35mBin\u001b[0m\u001b[1;39m(\u001b[0m\u001b[33mwmin\u001b[0m\u001b[39m=\u001b[0m\u001b[1;36m970\u001b[0m\u001b[1;36m.0\u001b[0m\u001b[39m nm, \u001b[0m\u001b[33mwmax\u001b[0m\u001b[39m=\u001b[0m\u001b[1;36m980\u001b[0m\u001b[1;36m.0\u001b[0m\u001b[39m nm, \u001b[0m\u001b[33mquad\u001b[0m\u001b[39m=\u001b[0m\u001b[1;35mQuad\u001b[0m\u001b[1;39m(\u001b[0m\u001b[33mtype\u001b[0m\u001b[39m=\u001b[0m\u001b[35mQuadType\u001b[0m\u001b[39m.GAUSS_LEGENDRE, \u001b[0m\u001b[33mn\u001b[0m\u001b[39m=\u001b[0m\u001b[1;36m1\u001b[0m\u001b[1;39m)\u001b[0m\u001b[1;39m)\u001b[0m\u001b[39m,\u001b[0m\n",
       "\u001b[39m            \u001b[0m\u001b[1;35mBin\u001b[0m\u001b[1;39m(\u001b[0m\u001b[33mwmin\u001b[0m\u001b[39m=\u001b[0m\u001b[1;36m980\u001b[0m\u001b[1;36m.0\u001b[0m\u001b[39m nm, \u001b[0m\u001b[33mwmax\u001b[0m\u001b[39m=\u001b[0m\u001b[1;36m990\u001b[0m\u001b[1;36m.0\u001b[0m\u001b[39m nm, \u001b[0m\u001b[33mquad\u001b[0m\u001b[39m=\u001b[0m\u001b[1;35mQuad\u001b[0m\u001b[1;39m(\u001b[0m\u001b[33mtype\u001b[0m\u001b[39m=\u001b[0m\u001b[35mQuadType\u001b[0m\u001b[39m.GAUSS_LEGENDRE, \u001b[0m\u001b[33mn\u001b[0m\u001b[39m=\u001b[0m\u001b[1;36m1\u001b[0m\u001b[1;39m)\u001b[0m\u001b[1;39m)\u001b[0m\u001b[39m,\u001b[0m\n",
       "\u001b[39m            \u001b[0m\u001b[1;35mBin\u001b[0m\u001b[1;39m(\u001b[0m\u001b[33mwmin\u001b[0m\u001b[39m=\u001b[0m\u001b[1;36m990\u001b[0m\u001b[1;36m.0\u001b[0m\u001b[39m nm, \u001b[0m\u001b[33mwmax\u001b[0m\u001b[39m=\u001b[0m\u001b[1;36m1000\u001b[0m\u001b[1;36m.0\u001b[0m\u001b[39m nm, \u001b[0m\u001b[33mquad\u001b[0m\u001b[39m=\u001b[0m\u001b[1;35mQuad\u001b[0m\u001b[1;39m(\u001b[0m\u001b[33mtype\u001b[0m\u001b[39m=\u001b[0m\u001b[35mQuadType\u001b[0m\u001b[39m.GAUSS_LEGENDRE, \u001b[0m\u001b[33mn\u001b[0m\u001b[39m=\u001b[0m\u001b[1;36m1\u001b[0m\u001b[1;39m)\u001b[0m\u001b[1;39m)\u001b[0m\u001b[39m,\u001b[0m\n",
       "\u001b[39m            \u001b[0m\u001b[1;35mBin\u001b[0m\u001b[1;39m(\u001b[0m\u001b[33mwmin\u001b[0m\u001b[39m=\u001b[0m\u001b[1;36m1000\u001b[0m\u001b[1;36m.0\u001b[0m\u001b[39m nm, \u001b[0m\u001b[33mwmax\u001b[0m\u001b[39m=\u001b[0m\u001b[1;36m1010\u001b[0m\u001b[1;36m.0\u001b[0m\u001b[39m nm, \u001b[0m\u001b[33mquad\u001b[0m\u001b[39m=\u001b[0m\u001b[1;35mQuad\u001b[0m\u001b[1;39m(\u001b[0m\u001b[33mtype\u001b[0m\u001b[39m=\u001b[0m\u001b[35mQuadType\u001b[0m\u001b[39m.GAUSS_LEGENDRE, \u001b[0m\u001b[33mn\u001b[0m\u001b[39m=\u001b[0m\u001b[1;36m1\u001b[0m\u001b[1;39m)\u001b[0m\u001b[1;39m)\u001b[0m\u001b[39m,\u001b[0m\n",
       "\u001b[39m            \u001b[0m\u001b[1;35mBin\u001b[0m\u001b[1;39m(\u001b[0m\u001b[33mwmin\u001b[0m\u001b[39m=\u001b[0m\u001b[1;36m1010\u001b[0m\u001b[1;36m.0\u001b[0m\u001b[39m nm, \u001b[0m\u001b[33mwmax\u001b[0m\u001b[39m=\u001b[0m\u001b[1;36m1020\u001b[0m\u001b[1;36m.0\u001b[0m\u001b[39m nm, \u001b[0m\u001b[33mquad\u001b[0m\u001b[39m=\u001b[0m\u001b[1;35mQuad\u001b[0m\u001b[1;39m(\u001b[0m\u001b[33mtype\u001b[0m\u001b[39m=\u001b[0m\u001b[35mQuadType\u001b[0m\u001b[39m.GAUSS_LEGENDRE, \u001b[0m\u001b[33mn\u001b[0m\u001b[39m=\u001b[0m\u001b[1;36m1\u001b[0m\u001b[1;39m)\u001b[0m\u001b[1;39m)\u001b[0m\u001b[39m,\u001b[0m\n",
       "\u001b[39m            \u001b[0m\u001b[1;35mBin\u001b[0m\u001b[1;39m(\u001b[0m\u001b[33mwmin\u001b[0m\u001b[39m=\u001b[0m\u001b[1;36m1020\u001b[0m\u001b[1;36m.0\u001b[0m\u001b[39m nm, \u001b[0m\u001b[33mwmax\u001b[0m\u001b[39m=\u001b[0m\u001b[1;36m1030\u001b[0m\u001b[1;36m.0\u001b[0m\u001b[39m nm, \u001b[0m\u001b[33mquad\u001b[0m\u001b[39m=\u001b[0m\u001b[1;35mQuad\u001b[0m\u001b[1;39m(\u001b[0m\u001b[33mtype\u001b[0m\u001b[39m=\u001b[0m\u001b[35mQuadType\u001b[0m\u001b[39m.GAUSS_LEGENDRE, \u001b[0m\u001b[33mn\u001b[0m\u001b[39m=\u001b[0m\u001b[1;36m1\u001b[0m\u001b[1;39m)\u001b[0m\u001b[1;39m)\u001b[0m\u001b[39m,\u001b[0m\n",
       "\u001b[39m            \u001b[0m\u001b[1;35mBin\u001b[0m\u001b[1;39m(\u001b[0m\u001b[33mwmin\u001b[0m\u001b[39m=\u001b[0m\u001b[1;36m1030\u001b[0m\u001b[1;36m.0\u001b[0m\u001b[39m nm, \u001b[0m\u001b[33mwmax\u001b[0m\u001b[39m=\u001b[0m\u001b[1;36m1040\u001b[0m\u001b[1;36m.0\u001b[0m\u001b[39m nm, \u001b[0m\u001b[33mquad\u001b[0m\u001b[39m=\u001b[0m\u001b[1;35mQuad\u001b[0m\u001b[1;39m(\u001b[0m\u001b[33mtype\u001b[0m\u001b[39m=\u001b[0m\u001b[35mQuadType\u001b[0m\u001b[39m.GAUSS_LEGENDRE, \u001b[0m\u001b[33mn\u001b[0m\u001b[39m=\u001b[0m\u001b[1;36m1\u001b[0m\u001b[1;39m)\u001b[0m\u001b[1;39m)\u001b[0m\u001b[39m,\u001b[0m\n",
       "\u001b[39m            \u001b[0m\u001b[1;35mBin\u001b[0m\u001b[1;39m(\u001b[0m\u001b[33mwmin\u001b[0m\u001b[39m=\u001b[0m\u001b[1;36m1040\u001b[0m\u001b[1;36m.0\u001b[0m\u001b[39m nm, \u001b[0m\u001b[33mwmax\u001b[0m\u001b[39m=\u001b[0m\u001b[1;36m1050\u001b[0m\u001b[1;36m.0\u001b[0m\u001b[39m nm, \u001b[0m\u001b[33mquad\u001b[0m\u001b[39m=\u001b[0m\u001b[1;35mQuad\u001b[0m\u001b[1;39m(\u001b[0m\u001b[33mtype\u001b[0m\u001b[39m=\u001b[0m\u001b[35mQuadType\u001b[0m\u001b[39m.GAUSS_LEGENDRE, \u001b[0m\u001b[33mn\u001b[0m\u001b[39m=\u001b[0m\u001b[1;36m1\u001b[0m\u001b[1;39m)\u001b[0m\u001b[1;39m)\u001b[0m\u001b[39m,\u001b[0m\n",
       "\u001b[39m            \u001b[0m\u001b[1;35mBin\u001b[0m\u001b[1;39m(\u001b[0m\u001b[33mwmin\u001b[0m\u001b[39m=\u001b[0m\u001b[1;36m1050\u001b[0m\u001b[1;36m.0\u001b[0m\u001b[39m nm, \u001b[0m\u001b[33mwmax\u001b[0m\u001b[39m=\u001b[0m\u001b[1;36m1060\u001b[0m\u001b[1;36m.0\u001b[0m\u001b[39m nm, \u001b[0m\u001b[33mquad\u001b[0m\u001b[39m=\u001b[0m\u001b[1;35mQuad\u001b[0m\u001b[1;39m(\u001b[0m\u001b[33mtype\u001b[0m\u001b[39m=\u001b[0m\u001b[35mQuadType\u001b[0m\u001b[39m.GAUSS_LEGENDRE, \u001b[0m\u001b[33mn\u001b[0m\u001b[39m=\u001b[0m\u001b[1;36m1\u001b[0m\u001b[1;39m)\u001b[0m\u001b[1;39m)\u001b[0m\u001b[39m,\u001b[0m\n",
       "\u001b[39m            \u001b[0m\u001b[1;35mBin\u001b[0m\u001b[1;39m(\u001b[0m\u001b[33mwmin\u001b[0m\u001b[39m=\u001b[0m\u001b[1;36m1060\u001b[0m\u001b[1;36m.0\u001b[0m\u001b[39m nm, \u001b[0m\u001b[33mwmax\u001b[0m\u001b[39m=\u001b[0m\u001b[1;36m1070\u001b[0m\u001b[1;36m.0\u001b[0m\u001b[39m nm, \u001b[0m\u001b[33mquad\u001b[0m\u001b[39m=\u001b[0m\u001b[1;35mQuad\u001b[0m\u001b[1;39m(\u001b[0m\u001b[33mtype\u001b[0m\u001b[39m=\u001b[0m\u001b[35mQuadType\u001b[0m\u001b[39m.GAUSS_LEGENDRE, \u001b[0m\u001b[33mn\u001b[0m\u001b[39m=\u001b[0m\u001b[1;36m1\u001b[0m\u001b[1;39m)\u001b[0m\u001b[1;39m)\u001b[0m\u001b[39m,\u001b[0m\n",
       "\u001b[39m            \u001b[0m\u001b[1;35mBin\u001b[0m\u001b[1;39m(\u001b[0m\u001b[33mwmin\u001b[0m\u001b[39m=\u001b[0m\u001b[1;36m1070\u001b[0m\u001b[1;36m.0\u001b[0m\u001b[39m nm, \u001b[0m\u001b[33mwmax\u001b[0m\u001b[39m=\u001b[0m\u001b[1;36m1080\u001b[0m\u001b[1;36m.0\u001b[0m\u001b[39m nm, \u001b[0m\u001b[33mquad\u001b[0m\u001b[39m=\u001b[0m\u001b[1;35mQuad\u001b[0m\u001b[1;39m(\u001b[0m\u001b[33mtype\u001b[0m\u001b[39m=\u001b[0m\u001b[35mQuadType\u001b[0m\u001b[39m.GAUSS_LEGENDRE, \u001b[0m\u001b[33mn\u001b[0m\u001b[39m=\u001b[0m\u001b[1;36m1\u001b[0m\u001b[1;39m)\u001b[0m\u001b[1;39m)\u001b[0m\u001b[39m,\u001b[0m\n",
       "\u001b[39m            \u001b[0m\u001b[1;35mBin\u001b[0m\u001b[1;39m(\u001b[0m\u001b[33mwmin\u001b[0m\u001b[39m=\u001b[0m\u001b[1;36m1080\u001b[0m\u001b[1;36m.0\u001b[0m\u001b[39m nm, \u001b[0m\u001b[33mwmax\u001b[0m\u001b[39m=\u001b[0m\u001b[1;36m1090\u001b[0m\u001b[1;36m.0\u001b[0m\u001b[39m nm, \u001b[0m\u001b[33mquad\u001b[0m\u001b[39m=\u001b[0m\u001b[1;35mQuad\u001b[0m\u001b[1;39m(\u001b[0m\u001b[33mtype\u001b[0m\u001b[39m=\u001b[0m\u001b[35mQuadType\u001b[0m\u001b[39m.GAUSS_LEGENDRE, \u001b[0m\u001b[33mn\u001b[0m\u001b[39m=\u001b[0m\u001b[1;36m1\u001b[0m\u001b[1;39m)\u001b[0m\u001b[1;39m)\u001b[0m\u001b[39m,\u001b[0m\n",
       "\u001b[39m            \u001b[0m\u001b[1;35mBin\u001b[0m\u001b[1;39m(\u001b[0m\u001b[33mwmin\u001b[0m\u001b[39m=\u001b[0m\u001b[1;36m1090\u001b[0m\u001b[1;36m.0\u001b[0m\u001b[39m nm, \u001b[0m\u001b[33mwmax\u001b[0m\u001b[39m=\u001b[0m\u001b[1;36m1100\u001b[0m\u001b[1;36m.0\u001b[0m\u001b[39m nm, \u001b[0m\u001b[33mquad\u001b[0m\u001b[39m=\u001b[0m\u001b[1;35mQuad\u001b[0m\u001b[1;39m(\u001b[0m\u001b[33mtype\u001b[0m\u001b[39m=\u001b[0m\u001b[35mQuadType\u001b[0m\u001b[39m.GAUSS_LEGENDRE, \u001b[0m\u001b[33mn\u001b[0m\u001b[39m=\u001b[0m\u001b[1;36m1\u001b[0m\u001b[1;39m)\u001b[0m\u001b[1;39m)\u001b[0m\u001b[39m,\u001b[0m\n",
       "\u001b[39m            \u001b[0m\u001b[1;35mBin\u001b[0m\u001b[1;39m(\u001b[0m\u001b[33mwmin\u001b[0m\u001b[39m=\u001b[0m\u001b[1;36m1100\u001b[0m\u001b[1;36m.0\u001b[0m\u001b[39m nm, \u001b[0m\u001b[33mwmax\u001b[0m\u001b[39m=\u001b[0m\u001b[1;36m1110\u001b[0m\u001b[1;36m.0\u001b[0m\u001b[39m nm, \u001b[0m\u001b[33mquad\u001b[0m\u001b[39m=\u001b[0m\u001b[1;35mQuad\u001b[0m\u001b[1;39m(\u001b[0m\u001b[33mtype\u001b[0m\u001b[39m=\u001b[0m\u001b[35mQuadType\u001b[0m\u001b[39m.GAUSS_LEGENDRE, \u001b[0m\u001b[33mn\u001b[0m\u001b[39m=\u001b[0m\u001b[1;36m1\u001b[0m\u001b[1;39m)\u001b[0m\u001b[1;39m)\u001b[0m\u001b[39m,\u001b[0m\n",
       "\u001b[39m            \u001b[0m\u001b[1;35mBin\u001b[0m\u001b[1;39m(\u001b[0m\u001b[33mwmin\u001b[0m\u001b[39m=\u001b[0m\u001b[1;36m1110\u001b[0m\u001b[1;36m.0\u001b[0m\u001b[39m nm, \u001b[0m\u001b[33mwmax\u001b[0m\u001b[39m=\u001b[0m\u001b[1;36m1120\u001b[0m\u001b[1;36m.0\u001b[0m\u001b[39m nm, \u001b[0m\u001b[33mquad\u001b[0m\u001b[39m=\u001b[0m\u001b[1;35mQuad\u001b[0m\u001b[1;39m(\u001b[0m\u001b[33mtype\u001b[0m\u001b[39m=\u001b[0m\u001b[35mQuadType\u001b[0m\u001b[39m.GAUSS_LEGENDRE, \u001b[0m\u001b[33mn\u001b[0m\u001b[39m=\u001b[0m\u001b[1;36m1\u001b[0m\u001b[1;39m)\u001b[0m\u001b[1;39m)\u001b[0m\u001b[39m,\u001b[0m\n",
       "\u001b[39m            \u001b[0m\u001b[1;35mBin\u001b[0m\u001b[1;39m(\u001b[0m\u001b[33mwmin\u001b[0m\u001b[39m=\u001b[0m\u001b[1;36m1120\u001b[0m\u001b[1;36m.0\u001b[0m\u001b[39m nm, \u001b[0m\u001b[33mwmax\u001b[0m\u001b[39m=\u001b[0m\u001b[1;36m1130\u001b[0m\u001b[1;36m.0\u001b[0m\u001b[39m nm, \u001b[0m\u001b[33mquad\u001b[0m\u001b[39m=\u001b[0m\u001b[1;35mQuad\u001b[0m\u001b[1;39m(\u001b[0m\u001b[33mtype\u001b[0m\u001b[39m=\u001b[0m\u001b[35mQuadType\u001b[0m\u001b[39m.GAUSS_LEGENDRE, \u001b[0m\u001b[33mn\u001b[0m\u001b[39m=\u001b[0m\u001b[1;36m1\u001b[0m\u001b[1;39m)\u001b[0m\u001b[1;39m)\u001b[0m\u001b[39m,\u001b[0m\n",
       "\u001b[39m            \u001b[0m\u001b[1;35mBin\u001b[0m\u001b[1;39m(\u001b[0m\u001b[33mwmin\u001b[0m\u001b[39m=\u001b[0m\u001b[1;36m1130\u001b[0m\u001b[1;36m.0\u001b[0m\u001b[39m nm, \u001b[0m\u001b[33mwmax\u001b[0m\u001b[39m=\u001b[0m\u001b[1;36m1140\u001b[0m\u001b[1;36m.0\u001b[0m\u001b[39m nm, \u001b[0m\u001b[33mquad\u001b[0m\u001b[39m=\u001b[0m\u001b[1;35mQuad\u001b[0m\u001b[1;39m(\u001b[0m\u001b[33mtype\u001b[0m\u001b[39m=\u001b[0m\u001b[35mQuadType\u001b[0m\u001b[39m.GAUSS_LEGENDRE, \u001b[0m\u001b[33mn\u001b[0m\u001b[39m=\u001b[0m\u001b[1;36m1\u001b[0m\u001b[1;39m)\u001b[0m\u001b[1;39m)\u001b[0m\u001b[39m,\u001b[0m\n",
       "\u001b[39m            \u001b[0m\u001b[1;35mBin\u001b[0m\u001b[1;39m(\u001b[0m\u001b[33mwmin\u001b[0m\u001b[39m=\u001b[0m\u001b[1;36m1140\u001b[0m\u001b[1;36m.0\u001b[0m\u001b[39m nm, \u001b[0m\u001b[33mwmax\u001b[0m\u001b[39m=\u001b[0m\u001b[1;36m1150\u001b[0m\u001b[1;36m.0\u001b[0m\u001b[39m nm, \u001b[0m\u001b[33mquad\u001b[0m\u001b[39m=\u001b[0m\u001b[1;35mQuad\u001b[0m\u001b[1;39m(\u001b[0m\u001b[33mtype\u001b[0m\u001b[39m=\u001b[0m\u001b[35mQuadType\u001b[0m\u001b[39m.GAUSS_LEGENDRE, \u001b[0m\u001b[33mn\u001b[0m\u001b[39m=\u001b[0m\u001b[1;36m1\u001b[0m\u001b[1;39m)\u001b[0m\u001b[1;39m)\u001b[0m\u001b[39m,\u001b[0m\n",
       "\u001b[39m            \u001b[0m\u001b[1;35mBin\u001b[0m\u001b[1;39m(\u001b[0m\u001b[33mwmin\u001b[0m\u001b[39m=\u001b[0m\u001b[1;36m1150\u001b[0m\u001b[1;36m.0\u001b[0m\u001b[39m nm, \u001b[0m\u001b[33mwmax\u001b[0m\u001b[39m=\u001b[0m\u001b[1;36m1160\u001b[0m\u001b[1;36m.0\u001b[0m\u001b[39m nm, \u001b[0m\u001b[33mquad\u001b[0m\u001b[39m=\u001b[0m\u001b[1;35mQuad\u001b[0m\u001b[1;39m(\u001b[0m\u001b[33mtype\u001b[0m\u001b[39m=\u001b[0m\u001b[35mQuadType\u001b[0m\u001b[39m.GAUSS_LEGENDRE, \u001b[0m\u001b[33mn\u001b[0m\u001b[39m=\u001b[0m\u001b[1;36m1\u001b[0m\u001b[1;39m)\u001b[0m\u001b[1;39m)\u001b[0m\u001b[39m,\u001b[0m\n",
       "\u001b[39m            \u001b[0m\u001b[1;35mBin\u001b[0m\u001b[1;39m(\u001b[0m\u001b[33mwmin\u001b[0m\u001b[39m=\u001b[0m\u001b[1;36m1160\u001b[0m\u001b[1;36m.0\u001b[0m\u001b[39m nm, \u001b[0m\u001b[33mwmax\u001b[0m\u001b[39m=\u001b[0m\u001b[1;36m1170\u001b[0m\u001b[1;36m.0\u001b[0m\u001b[39m nm, \u001b[0m\u001b[33mquad\u001b[0m\u001b[39m=\u001b[0m\u001b[1;35mQuad\u001b[0m\u001b[1;39m(\u001b[0m\u001b[33mtype\u001b[0m\u001b[39m=\u001b[0m\u001b[35mQuadType\u001b[0m\u001b[39m.GAUSS_LEGENDRE, \u001b[0m\u001b[33mn\u001b[0m\u001b[39m=\u001b[0m\u001b[1;36m1\u001b[0m\u001b[1;39m)\u001b[0m\u001b[1;39m)\u001b[0m\u001b[39m,\u001b[0m\n",
       "\u001b[39m            \u001b[0m\u001b[1;35mBin\u001b[0m\u001b[1;39m(\u001b[0m\u001b[33mwmin\u001b[0m\u001b[39m=\u001b[0m\u001b[1;36m1170\u001b[0m\u001b[1;36m.0\u001b[0m\u001b[39m nm, \u001b[0m\u001b[33mwmax\u001b[0m\u001b[39m=\u001b[0m\u001b[1;36m1180\u001b[0m\u001b[1;36m.0\u001b[0m\u001b[39m nm, \u001b[0m\u001b[33mquad\u001b[0m\u001b[39m=\u001b[0m\u001b[1;35mQuad\u001b[0m\u001b[1;39m(\u001b[0m\u001b[33mtype\u001b[0m\u001b[39m=\u001b[0m\u001b[35mQuadType\u001b[0m\u001b[39m.GAUSS_LEGENDRE, \u001b[0m\u001b[33mn\u001b[0m\u001b[39m=\u001b[0m\u001b[1;36m1\u001b[0m\u001b[1;39m)\u001b[0m\u001b[1;39m)\u001b[0m\u001b[39m,\u001b[0m\n",
       "\u001b[39m            \u001b[0m\u001b[1;35mBin\u001b[0m\u001b[1;39m(\u001b[0m\u001b[33mwmin\u001b[0m\u001b[39m=\u001b[0m\u001b[1;36m1180\u001b[0m\u001b[1;36m.0\u001b[0m\u001b[39m nm, \u001b[0m\u001b[33mwmax\u001b[0m\u001b[39m=\u001b[0m\u001b[1;36m1190\u001b[0m\u001b[1;36m.0\u001b[0m\u001b[39m nm, \u001b[0m\u001b[33mquad\u001b[0m\u001b[39m=\u001b[0m\u001b[1;35mQuad\u001b[0m\u001b[1;39m(\u001b[0m\u001b[33mtype\u001b[0m\u001b[39m=\u001b[0m\u001b[35mQuadType\u001b[0m\u001b[39m.GAUSS_LEGENDRE, \u001b[0m\u001b[33mn\u001b[0m\u001b[39m=\u001b[0m\u001b[1;36m1\u001b[0m\u001b[1;39m)\u001b[0m\u001b[1;39m)\u001b[0m\u001b[39m,\u001b[0m\n",
       "\u001b[39m            \u001b[0m\u001b[1;35mBin\u001b[0m\u001b[1;39m(\u001b[0m\u001b[33mwmin\u001b[0m\u001b[39m=\u001b[0m\u001b[1;36m1190\u001b[0m\u001b[1;36m.0\u001b[0m\u001b[39m nm, \u001b[0m\u001b[33mwmax\u001b[0m\u001b[39m=\u001b[0m\u001b[1;36m1200\u001b[0m\u001b[1;36m.0\u001b[0m\u001b[39m nm, \u001b[0m\u001b[33mquad\u001b[0m\u001b[39m=\u001b[0m\u001b[1;35mQuad\u001b[0m\u001b[1;39m(\u001b[0m\u001b[33mtype\u001b[0m\u001b[39m=\u001b[0m\u001b[35mQuadType\u001b[0m\u001b[39m.GAUSS_LEGENDRE, \u001b[0m\u001b[33mn\u001b[0m\u001b[39m=\u001b[0m\u001b[1;36m1\u001b[0m\u001b[1;39m)\u001b[0m\u001b[1;39m)\u001b[0m\u001b[39m,\u001b[0m\n",
       "\u001b[39m            \u001b[0m\u001b[1;35mBin\u001b[0m\u001b[1;39m(\u001b[0m\u001b[33mwmin\u001b[0m\u001b[39m=\u001b[0m\u001b[1;36m1200\u001b[0m\u001b[1;36m.0\u001b[0m\u001b[39m nm, \u001b[0m\u001b[33mwmax\u001b[0m\u001b[39m=\u001b[0m\u001b[1;36m1210\u001b[0m\u001b[1;36m.0\u001b[0m\u001b[39m nm, \u001b[0m\u001b[33mquad\u001b[0m\u001b[39m=\u001b[0m\u001b[1;35mQuad\u001b[0m\u001b[1;39m(\u001b[0m\u001b[33mtype\u001b[0m\u001b[39m=\u001b[0m\u001b[35mQuadType\u001b[0m\u001b[39m.GAUSS_LEGENDRE, \u001b[0m\u001b[33mn\u001b[0m\u001b[39m=\u001b[0m\u001b[1;36m1\u001b[0m\u001b[1;39m)\u001b[0m\u001b[1;39m)\u001b[0m\u001b[39m,\u001b[0m\n",
       "\u001b[39m            \u001b[0m\u001b[1;35mBin\u001b[0m\u001b[1;39m(\u001b[0m\u001b[33mwmin\u001b[0m\u001b[39m=\u001b[0m\u001b[1;36m1210\u001b[0m\u001b[1;36m.0\u001b[0m\u001b[39m nm, \u001b[0m\u001b[33mwmax\u001b[0m\u001b[39m=\u001b[0m\u001b[1;36m1220\u001b[0m\u001b[1;36m.0\u001b[0m\u001b[39m nm, \u001b[0m\u001b[33mquad\u001b[0m\u001b[39m=\u001b[0m\u001b[1;35mQuad\u001b[0m\u001b[1;39m(\u001b[0m\u001b[33mtype\u001b[0m\u001b[39m=\u001b[0m\u001b[35mQuadType\u001b[0m\u001b[39m.GAUSS_LEGENDRE, \u001b[0m\u001b[33mn\u001b[0m\u001b[39m=\u001b[0m\u001b[1;36m1\u001b[0m\u001b[1;39m)\u001b[0m\u001b[1;39m)\u001b[0m\u001b[39m,\u001b[0m\n",
       "\u001b[39m            \u001b[0m\u001b[1;35mBin\u001b[0m\u001b[1;39m(\u001b[0m\u001b[33mwmin\u001b[0m\u001b[39m=\u001b[0m\u001b[1;36m1220\u001b[0m\u001b[1;36m.0\u001b[0m\u001b[39m nm, \u001b[0m\u001b[33mwmax\u001b[0m\u001b[39m=\u001b[0m\u001b[1;36m1230\u001b[0m\u001b[1;36m.0\u001b[0m\u001b[39m nm, \u001b[0m\u001b[33mquad\u001b[0m\u001b[39m=\u001b[0m\u001b[1;35mQuad\u001b[0m\u001b[1;39m(\u001b[0m\u001b[33mtype\u001b[0m\u001b[39m=\u001b[0m\u001b[35mQuadType\u001b[0m\u001b[39m.GAUSS_LEGENDRE, \u001b[0m\u001b[33mn\u001b[0m\u001b[39m=\u001b[0m\u001b[1;36m1\u001b[0m\u001b[1;39m)\u001b[0m\u001b[1;39m)\u001b[0m\u001b[39m,\u001b[0m\n",
       "\u001b[39m            \u001b[0m\u001b[1;35mBin\u001b[0m\u001b[1;39m(\u001b[0m\u001b[33mwmin\u001b[0m\u001b[39m=\u001b[0m\u001b[1;36m1230\u001b[0m\u001b[1;36m.0\u001b[0m\u001b[39m nm, \u001b[0m\u001b[33mwmax\u001b[0m\u001b[39m=\u001b[0m\u001b[1;36m1240\u001b[0m\u001b[1;36m.0\u001b[0m\u001b[39m nm, \u001b[0m\u001b[33mquad\u001b[0m\u001b[39m=\u001b[0m\u001b[1;35mQuad\u001b[0m\u001b[1;39m(\u001b[0m\u001b[33mtype\u001b[0m\u001b[39m=\u001b[0m\u001b[35mQuadType\u001b[0m\u001b[39m.GAUSS_LEGENDRE, \u001b[0m\u001b[33mn\u001b[0m\u001b[39m=\u001b[0m\u001b[1;36m1\u001b[0m\u001b[1;39m)\u001b[0m\u001b[1;39m)\u001b[0m\u001b[39m,\u001b[0m\n",
       "\u001b[39m            \u001b[0m\u001b[1;35mBin\u001b[0m\u001b[1;39m(\u001b[0m\u001b[33mwmin\u001b[0m\u001b[39m=\u001b[0m\u001b[1;36m1240\u001b[0m\u001b[1;36m.0\u001b[0m\u001b[39m nm, \u001b[0m\u001b[33mwmax\u001b[0m\u001b[39m=\u001b[0m\u001b[1;36m1250\u001b[0m\u001b[1;36m.0\u001b[0m\u001b[39m nm, \u001b[0m\u001b[33mquad\u001b[0m\u001b[39m=\u001b[0m\u001b[1;35mQuad\u001b[0m\u001b[1;39m(\u001b[0m\u001b[33mtype\u001b[0m\u001b[39m=\u001b[0m\u001b[35mQuadType\u001b[0m\u001b[39m.GAUSS_LEGENDRE, \u001b[0m\u001b[33mn\u001b[0m\u001b[39m=\u001b[0m\u001b[1;36m1\u001b[0m\u001b[1;39m)\u001b[0m\u001b[1;39m)\u001b[0m\u001b[39m,\u001b[0m\n",
       "\u001b[39m            \u001b[0m\u001b[1;35mBin\u001b[0m\u001b[1;39m(\u001b[0m\u001b[33mwmin\u001b[0m\u001b[39m=\u001b[0m\u001b[1;36m1250\u001b[0m\u001b[1;36m.0\u001b[0m\u001b[39m nm, \u001b[0m\u001b[33mwmax\u001b[0m\u001b[39m=\u001b[0m\u001b[1;36m1260\u001b[0m\u001b[1;36m.0\u001b[0m\u001b[39m nm, \u001b[0m\u001b[33mquad\u001b[0m\u001b[39m=\u001b[0m\u001b[1;35mQuad\u001b[0m\u001b[1;39m(\u001b[0m\u001b[33mtype\u001b[0m\u001b[39m=\u001b[0m\u001b[35mQuadType\u001b[0m\u001b[39m.GAUSS_LEGENDRE, \u001b[0m\u001b[33mn\u001b[0m\u001b[39m=\u001b[0m\u001b[1;36m1\u001b[0m\u001b[1;39m)\u001b[0m\u001b[1;39m)\u001b[0m\u001b[39m,\u001b[0m\n",
       "\u001b[39m            \u001b[0m\u001b[1;35mBin\u001b[0m\u001b[1;39m(\u001b[0m\u001b[33mwmin\u001b[0m\u001b[39m=\u001b[0m\u001b[1;36m1260\u001b[0m\u001b[1;36m.0\u001b[0m\u001b[39m nm, \u001b[0m\u001b[33mwmax\u001b[0m\u001b[39m=\u001b[0m\u001b[1;36m1270\u001b[0m\u001b[1;36m.0\u001b[0m\u001b[39m nm, \u001b[0m\u001b[33mquad\u001b[0m\u001b[39m=\u001b[0m\u001b[1;35mQuad\u001b[0m\u001b[1;39m(\u001b[0m\u001b[33mtype\u001b[0m\u001b[39m=\u001b[0m\u001b[35mQuadType\u001b[0m\u001b[39m.GAUSS_LEGENDRE, \u001b[0m\u001b[33mn\u001b[0m\u001b[39m=\u001b[0m\u001b[1;36m1\u001b[0m\u001b[1;39m)\u001b[0m\u001b[1;39m)\u001b[0m\u001b[39m,\u001b[0m\n",
       "\u001b[39m            \u001b[0m\u001b[1;35mBin\u001b[0m\u001b[1;39m(\u001b[0m\u001b[33mwmin\u001b[0m\u001b[39m=\u001b[0m\u001b[1;36m1270\u001b[0m\u001b[1;36m.0\u001b[0m\u001b[39m nm, \u001b[0m\u001b[33mwmax\u001b[0m\u001b[39m=\u001b[0m\u001b[1;36m1280\u001b[0m\u001b[1;36m.0\u001b[0m\u001b[39m nm, \u001b[0m\u001b[33mquad\u001b[0m\u001b[39m=\u001b[0m\u001b[1;35mQuad\u001b[0m\u001b[1;39m(\u001b[0m\u001b[33mtype\u001b[0m\u001b[39m=\u001b[0m\u001b[35mQuadType\u001b[0m\u001b[39m.GAUSS_LEGENDRE, \u001b[0m\u001b[33mn\u001b[0m\u001b[39m=\u001b[0m\u001b[1;36m1\u001b[0m\u001b[1;39m)\u001b[0m\u001b[1;39m)\u001b[0m\u001b[39m,\u001b[0m\n",
       "\u001b[39m            \u001b[0m\u001b[1;35mBin\u001b[0m\u001b[1;39m(\u001b[0m\u001b[33mwmin\u001b[0m\u001b[39m=\u001b[0m\u001b[1;36m1280\u001b[0m\u001b[1;36m.0\u001b[0m\u001b[39m nm, \u001b[0m\u001b[33mwmax\u001b[0m\u001b[39m=\u001b[0m\u001b[1;36m1290\u001b[0m\u001b[1;36m.0\u001b[0m\u001b[39m nm, \u001b[0m\u001b[33mquad\u001b[0m\u001b[39m=\u001b[0m\u001b[1;35mQuad\u001b[0m\u001b[1;39m(\u001b[0m\u001b[33mtype\u001b[0m\u001b[39m=\u001b[0m\u001b[35mQuadType\u001b[0m\u001b[39m.GAUSS_LEGENDRE, \u001b[0m\u001b[33mn\u001b[0m\u001b[39m=\u001b[0m\u001b[1;36m1\u001b[0m\u001b[1;39m)\u001b[0m\u001b[1;39m)\u001b[0m\u001b[39m,\u001b[0m\n",
       "\u001b[39m            \u001b[0m\u001b[1;35mBin\u001b[0m\u001b[1;39m(\u001b[0m\u001b[33mwmin\u001b[0m\u001b[39m=\u001b[0m\u001b[1;36m1290\u001b[0m\u001b[1;36m.0\u001b[0m\u001b[39m nm, \u001b[0m\u001b[33mwmax\u001b[0m\u001b[39m=\u001b[0m\u001b[1;36m1300\u001b[0m\u001b[1;36m.0\u001b[0m\u001b[39m nm, \u001b[0m\u001b[33mquad\u001b[0m\u001b[39m=\u001b[0m\u001b[1;35mQuad\u001b[0m\u001b[1;39m(\u001b[0m\u001b[33mtype\u001b[0m\u001b[39m=\u001b[0m\u001b[35mQuadType\u001b[0m\u001b[39m.GAUSS_LEGENDRE, \u001b[0m\u001b[33mn\u001b[0m\u001b[39m=\u001b[0m\u001b[1;36m1\u001b[0m\u001b[1;39m)\u001b[0m\u001b[1;39m)\u001b[0m\u001b[39m,\u001b[0m\n",
       "\u001b[39m            \u001b[0m\u001b[1;35mBin\u001b[0m\u001b[1;39m(\u001b[0m\u001b[33mwmin\u001b[0m\u001b[39m=\u001b[0m\u001b[1;36m1300\u001b[0m\u001b[1;36m.0\u001b[0m\u001b[39m nm, \u001b[0m\u001b[33mwmax\u001b[0m\u001b[39m=\u001b[0m\u001b[1;36m1310\u001b[0m\u001b[1;36m.0\u001b[0m\u001b[39m nm, \u001b[0m\u001b[33mquad\u001b[0m\u001b[39m=\u001b[0m\u001b[1;35mQuad\u001b[0m\u001b[1;39m(\u001b[0m\u001b[33mtype\u001b[0m\u001b[39m=\u001b[0m\u001b[35mQuadType\u001b[0m\u001b[39m.GAUSS_LEGENDRE, \u001b[0m\u001b[33mn\u001b[0m\u001b[39m=\u001b[0m\u001b[1;36m1\u001b[0m\u001b[1;39m)\u001b[0m\u001b[1;39m)\u001b[0m\u001b[39m,\u001b[0m\n",
       "\u001b[39m            \u001b[0m\u001b[1;35mBin\u001b[0m\u001b[1;39m(\u001b[0m\u001b[33mwmin\u001b[0m\u001b[39m=\u001b[0m\u001b[1;36m1310\u001b[0m\u001b[1;36m.0\u001b[0m\u001b[39m nm, \u001b[0m\u001b[33mwmax\u001b[0m\u001b[39m=\u001b[0m\u001b[1;36m1320\u001b[0m\u001b[1;36m.0\u001b[0m\u001b[39m nm, \u001b[0m\u001b[33mquad\u001b[0m\u001b[39m=\u001b[0m\u001b[1;35mQuad\u001b[0m\u001b[1;39m(\u001b[0m\u001b[33mtype\u001b[0m\u001b[39m=\u001b[0m\u001b[35mQuadType\u001b[0m\u001b[39m.GAUSS_LEGENDRE, \u001b[0m\u001b[33mn\u001b[0m\u001b[39m=\u001b[0m\u001b[1;36m1\u001b[0m\u001b[1;39m)\u001b[0m\u001b[1;39m)\u001b[0m\u001b[39m,\u001b[0m\n",
       "\u001b[39m            \u001b[0m\u001b[1;35mBin\u001b[0m\u001b[1;39m(\u001b[0m\u001b[33mwmin\u001b[0m\u001b[39m=\u001b[0m\u001b[1;36m1320\u001b[0m\u001b[1;36m.0\u001b[0m\u001b[39m nm, \u001b[0m\u001b[33mwmax\u001b[0m\u001b[39m=\u001b[0m\u001b[1;36m1330\u001b[0m\u001b[1;36m.0\u001b[0m\u001b[39m nm, \u001b[0m\u001b[33mquad\u001b[0m\u001b[39m=\u001b[0m\u001b[1;35mQuad\u001b[0m\u001b[1;39m(\u001b[0m\u001b[33mtype\u001b[0m\u001b[39m=\u001b[0m\u001b[35mQuadType\u001b[0m\u001b[39m.GAUSS_LEGENDRE, \u001b[0m\u001b[33mn\u001b[0m\u001b[39m=\u001b[0m\u001b[1;36m1\u001b[0m\u001b[1;39m)\u001b[0m\u001b[1;39m)\u001b[0m\u001b[39m,\u001b[0m\n",
       "\u001b[39m            \u001b[0m\u001b[1;35mBin\u001b[0m\u001b[1;39m(\u001b[0m\u001b[33mwmin\u001b[0m\u001b[39m=\u001b[0m\u001b[1;36m1330\u001b[0m\u001b[1;36m.0\u001b[0m\u001b[39m nm, \u001b[0m\u001b[33mwmax\u001b[0m\u001b[39m=\u001b[0m\u001b[1;36m1340\u001b[0m\u001b[1;36m.0\u001b[0m\u001b[39m nm, \u001b[0m\u001b[33mquad\u001b[0m\u001b[39m=\u001b[0m\u001b[1;35mQuad\u001b[0m\u001b[1;39m(\u001b[0m\u001b[33mtype\u001b[0m\u001b[39m=\u001b[0m\u001b[35mQuadType\u001b[0m\u001b[39m.GAUSS_LEGENDRE, \u001b[0m\u001b[33mn\u001b[0m\u001b[39m=\u001b[0m\u001b[1;36m1\u001b[0m\u001b[1;39m)\u001b[0m\u001b[1;39m)\u001b[0m\u001b[39m,\u001b[0m\n",
       "\u001b[39m            \u001b[0m\u001b[1;35mBin\u001b[0m\u001b[1;39m(\u001b[0m\u001b[33mwmin\u001b[0m\u001b[39m=\u001b[0m\u001b[1;36m1340\u001b[0m\u001b[1;36m.0\u001b[0m\u001b[39m nm, \u001b[0m\u001b[33mwmax\u001b[0m\u001b[39m=\u001b[0m\u001b[1;36m1350\u001b[0m\u001b[1;36m.0\u001b[0m\u001b[39m nm, \u001b[0m\u001b[33mquad\u001b[0m\u001b[39m=\u001b[0m\u001b[1;35mQuad\u001b[0m\u001b[1;39m(\u001b[0m\u001b[33mtype\u001b[0m\u001b[39m=\u001b[0m\u001b[35mQuadType\u001b[0m\u001b[39m.GAUSS_LEGENDRE, \u001b[0m\u001b[33mn\u001b[0m\u001b[39m=\u001b[0m\u001b[1;36m1\u001b[0m\u001b[1;39m)\u001b[0m\u001b[1;39m)\u001b[0m\u001b[39m,\u001b[0m\n",
       "\u001b[39m            \u001b[0m\u001b[1;35mBin\u001b[0m\u001b[1;39m(\u001b[0m\u001b[33mwmin\u001b[0m\u001b[39m=\u001b[0m\u001b[1;36m1350\u001b[0m\u001b[1;36m.0\u001b[0m\u001b[39m nm, \u001b[0m\u001b[33mwmax\u001b[0m\u001b[39m=\u001b[0m\u001b[1;36m1360\u001b[0m\u001b[1;36m.0\u001b[0m\u001b[39m nm, \u001b[0m\u001b[33mquad\u001b[0m\u001b[39m=\u001b[0m\u001b[1;35mQuad\u001b[0m\u001b[1;39m(\u001b[0m\u001b[33mtype\u001b[0m\u001b[39m=\u001b[0m\u001b[35mQuadType\u001b[0m\u001b[39m.GAUSS_LEGENDRE, \u001b[0m\u001b[33mn\u001b[0m\u001b[39m=\u001b[0m\u001b[1;36m1\u001b[0m\u001b[1;39m)\u001b[0m\u001b[1;39m)\u001b[0m\u001b[39m,\u001b[0m\n",
       "\u001b[39m            \u001b[0m\u001b[1;35mBin\u001b[0m\u001b[1;39m(\u001b[0m\u001b[33mwmin\u001b[0m\u001b[39m=\u001b[0m\u001b[1;36m1360\u001b[0m\u001b[1;36m.0\u001b[0m\u001b[39m nm, \u001b[0m\u001b[33mwmax\u001b[0m\u001b[39m=\u001b[0m\u001b[1;36m1370\u001b[0m\u001b[1;36m.0\u001b[0m\u001b[39m nm, \u001b[0m\u001b[33mquad\u001b[0m\u001b[39m=\u001b[0m\u001b[1;35mQuad\u001b[0m\u001b[1;39m(\u001b[0m\u001b[33mtype\u001b[0m\u001b[39m=\u001b[0m\u001b[35mQuadType\u001b[0m\u001b[39m.GAUSS_LEGENDRE, \u001b[0m\u001b[33mn\u001b[0m\u001b[39m=\u001b[0m\u001b[1;36m1\u001b[0m\u001b[1;39m)\u001b[0m\u001b[1;39m)\u001b[0m\u001b[39m,\u001b[0m\n",
       "\u001b[39m            \u001b[0m\u001b[1;35mBin\u001b[0m\u001b[1;39m(\u001b[0m\u001b[33mwmin\u001b[0m\u001b[39m=\u001b[0m\u001b[1;36m1370\u001b[0m\u001b[1;36m.0\u001b[0m\u001b[39m nm, \u001b[0m\u001b[33mwmax\u001b[0m\u001b[39m=\u001b[0m\u001b[1;36m1380\u001b[0m\u001b[1;36m.0\u001b[0m\u001b[39m nm, \u001b[0m\u001b[33mquad\u001b[0m\u001b[39m=\u001b[0m\u001b[1;35mQuad\u001b[0m\u001b[1;39m(\u001b[0m\u001b[33mtype\u001b[0m\u001b[39m=\u001b[0m\u001b[35mQuadType\u001b[0m\u001b[39m.GAUSS_LEGENDRE, \u001b[0m\u001b[33mn\u001b[0m\u001b[39m=\u001b[0m\u001b[1;36m1\u001b[0m\u001b[1;39m)\u001b[0m\u001b[1;39m)\u001b[0m\u001b[39m,\u001b[0m\n",
       "\u001b[39m            \u001b[0m\u001b[1;35mBin\u001b[0m\u001b[1;39m(\u001b[0m\u001b[33mwmin\u001b[0m\u001b[39m=\u001b[0m\u001b[1;36m1380\u001b[0m\u001b[1;36m.0\u001b[0m\u001b[39m nm, \u001b[0m\u001b[33mwmax\u001b[0m\u001b[39m=\u001b[0m\u001b[1;36m1390\u001b[0m\u001b[1;36m.0\u001b[0m\u001b[39m nm, \u001b[0m\u001b[33mquad\u001b[0m\u001b[39m=\u001b[0m\u001b[1;35mQuad\u001b[0m\u001b[1;39m(\u001b[0m\u001b[33mtype\u001b[0m\u001b[39m=\u001b[0m\u001b[35mQuadType\u001b[0m\u001b[39m.GAUSS_LEGENDRE, \u001b[0m\u001b[33mn\u001b[0m\u001b[39m=\u001b[0m\u001b[1;36m1\u001b[0m\u001b[1;39m)\u001b[0m\u001b[1;39m)\u001b[0m\u001b[39m,\u001b[0m\n",
       "\u001b[39m            \u001b[0m\u001b[1;35mBin\u001b[0m\u001b[1;39m(\u001b[0m\u001b[33mwmin\u001b[0m\u001b[39m=\u001b[0m\u001b[1;36m1390\u001b[0m\u001b[1;36m.0\u001b[0m\u001b[39m nm, \u001b[0m\u001b[33mwmax\u001b[0m\u001b[39m=\u001b[0m\u001b[1;36m1400\u001b[0m\u001b[1;36m.0\u001b[0m\u001b[39m nm, \u001b[0m\u001b[33mquad\u001b[0m\u001b[39m=\u001b[0m\u001b[1;35mQuad\u001b[0m\u001b[1;39m(\u001b[0m\u001b[33mtype\u001b[0m\u001b[39m=\u001b[0m\u001b[35mQuadType\u001b[0m\u001b[39m.GAUSS_LEGENDRE, \u001b[0m\u001b[33mn\u001b[0m\u001b[39m=\u001b[0m\u001b[1;36m1\u001b[0m\u001b[1;39m)\u001b[0m\u001b[1;39m)\u001b[0m\u001b[39m,\u001b[0m\n",
       "\u001b[39m            \u001b[0m\u001b[1;35mBin\u001b[0m\u001b[1;39m(\u001b[0m\u001b[33mwmin\u001b[0m\u001b[39m=\u001b[0m\u001b[1;36m1400\u001b[0m\u001b[1;36m.0\u001b[0m\u001b[39m nm, \u001b[0m\u001b[33mwmax\u001b[0m\u001b[39m=\u001b[0m\u001b[1;36m1410\u001b[0m\u001b[1;36m.0\u001b[0m\u001b[39m nm, \u001b[0m\u001b[33mquad\u001b[0m\u001b[39m=\u001b[0m\u001b[1;35mQuad\u001b[0m\u001b[1;39m(\u001b[0m\u001b[33mtype\u001b[0m\u001b[39m=\u001b[0m\u001b[35mQuadType\u001b[0m\u001b[39m.GAUSS_LEGENDRE, \u001b[0m\u001b[33mn\u001b[0m\u001b[39m=\u001b[0m\u001b[1;36m1\u001b[0m\u001b[1;39m)\u001b[0m\u001b[1;39m)\u001b[0m\u001b[39m,\u001b[0m\n",
       "\u001b[39m            \u001b[0m\u001b[1;35mBin\u001b[0m\u001b[1;39m(\u001b[0m\u001b[33mwmin\u001b[0m\u001b[39m=\u001b[0m\u001b[1;36m1410\u001b[0m\u001b[1;36m.0\u001b[0m\u001b[39m nm, \u001b[0m\u001b[33mwmax\u001b[0m\u001b[39m=\u001b[0m\u001b[1;36m1420\u001b[0m\u001b[1;36m.0\u001b[0m\u001b[39m nm, \u001b[0m\u001b[33mquad\u001b[0m\u001b[39m=\u001b[0m\u001b[1;35mQuad\u001b[0m\u001b[1;39m(\u001b[0m\u001b[33mtype\u001b[0m\u001b[39m=\u001b[0m\u001b[35mQuadType\u001b[0m\u001b[39m.GAUSS_LEGENDRE, \u001b[0m\u001b[33mn\u001b[0m\u001b[39m=\u001b[0m\u001b[1;36m1\u001b[0m\u001b[1;39m)\u001b[0m\u001b[1;39m)\u001b[0m\u001b[39m,\u001b[0m\n",
       "\u001b[39m            \u001b[0m\u001b[1;35mBin\u001b[0m\u001b[1;39m(\u001b[0m\u001b[33mwmin\u001b[0m\u001b[39m=\u001b[0m\u001b[1;36m1420\u001b[0m\u001b[1;36m.0\u001b[0m\u001b[39m nm, \u001b[0m\u001b[33mwmax\u001b[0m\u001b[39m=\u001b[0m\u001b[1;36m1430\u001b[0m\u001b[1;36m.0\u001b[0m\u001b[39m nm, \u001b[0m\u001b[33mquad\u001b[0m\u001b[39m=\u001b[0m\u001b[1;35mQuad\u001b[0m\u001b[1;39m(\u001b[0m\u001b[33mtype\u001b[0m\u001b[39m=\u001b[0m\u001b[35mQuadType\u001b[0m\u001b[39m.GAUSS_LEGENDRE, \u001b[0m\u001b[33mn\u001b[0m\u001b[39m=\u001b[0m\u001b[1;36m1\u001b[0m\u001b[1;39m)\u001b[0m\u001b[1;39m)\u001b[0m\u001b[39m,\u001b[0m\n",
       "\u001b[39m            \u001b[0m\u001b[1;35mBin\u001b[0m\u001b[1;39m(\u001b[0m\u001b[33mwmin\u001b[0m\u001b[39m=\u001b[0m\u001b[1;36m1430\u001b[0m\u001b[1;36m.0\u001b[0m\u001b[39m nm, \u001b[0m\u001b[33mwmax\u001b[0m\u001b[39m=\u001b[0m\u001b[1;36m1440\u001b[0m\u001b[1;36m.0\u001b[0m\u001b[39m nm, \u001b[0m\u001b[33mquad\u001b[0m\u001b[39m=\u001b[0m\u001b[1;35mQuad\u001b[0m\u001b[1;39m(\u001b[0m\u001b[33mtype\u001b[0m\u001b[39m=\u001b[0m\u001b[35mQuadType\u001b[0m\u001b[39m.GAUSS_LEGENDRE, \u001b[0m\u001b[33mn\u001b[0m\u001b[39m=\u001b[0m\u001b[1;36m1\u001b[0m\u001b[1;39m)\u001b[0m\u001b[1;39m)\u001b[0m\u001b[39m,\u001b[0m\n",
       "\u001b[39m            \u001b[0m\u001b[1;35mBin\u001b[0m\u001b[1;39m(\u001b[0m\u001b[33mwmin\u001b[0m\u001b[39m=\u001b[0m\u001b[1;36m1440\u001b[0m\u001b[1;36m.0\u001b[0m\u001b[39m nm, \u001b[0m\u001b[33mwmax\u001b[0m\u001b[39m=\u001b[0m\u001b[1;36m1450\u001b[0m\u001b[1;36m.0\u001b[0m\u001b[39m nm, \u001b[0m\u001b[33mquad\u001b[0m\u001b[39m=\u001b[0m\u001b[1;35mQuad\u001b[0m\u001b[1;39m(\u001b[0m\u001b[33mtype\u001b[0m\u001b[39m=\u001b[0m\u001b[35mQuadType\u001b[0m\u001b[39m.GAUSS_LEGENDRE, \u001b[0m\u001b[33mn\u001b[0m\u001b[39m=\u001b[0m\u001b[1;36m1\u001b[0m\u001b[1;39m)\u001b[0m\u001b[1;39m)\u001b[0m\u001b[39m,\u001b[0m\n",
       "\u001b[39m            \u001b[0m\u001b[1;35mBin\u001b[0m\u001b[1;39m(\u001b[0m\u001b[33mwmin\u001b[0m\u001b[39m=\u001b[0m\u001b[1;36m1450\u001b[0m\u001b[1;36m.0\u001b[0m\u001b[39m nm, \u001b[0m\u001b[33mwmax\u001b[0m\u001b[39m=\u001b[0m\u001b[1;36m1460\u001b[0m\u001b[1;36m.0\u001b[0m\u001b[39m nm, \u001b[0m\u001b[33mquad\u001b[0m\u001b[39m=\u001b[0m\u001b[1;35mQuad\u001b[0m\u001b[1;39m(\u001b[0m\u001b[33mtype\u001b[0m\u001b[39m=\u001b[0m\u001b[35mQuadType\u001b[0m\u001b[39m.GAUSS_LEGENDRE, \u001b[0m\u001b[33mn\u001b[0m\u001b[39m=\u001b[0m\u001b[1;36m1\u001b[0m\u001b[1;39m)\u001b[0m\u001b[1;39m)\u001b[0m\u001b[39m,\u001b[0m\n",
       "\u001b[39m            \u001b[0m\u001b[1;35mBin\u001b[0m\u001b[1;39m(\u001b[0m\u001b[33mwmin\u001b[0m\u001b[39m=\u001b[0m\u001b[1;36m1460\u001b[0m\u001b[1;36m.0\u001b[0m\u001b[39m nm, \u001b[0m\u001b[33mwmax\u001b[0m\u001b[39m=\u001b[0m\u001b[1;36m1470\u001b[0m\u001b[1;36m.0\u001b[0m\u001b[39m nm, \u001b[0m\u001b[33mquad\u001b[0m\u001b[39m=\u001b[0m\u001b[1;35mQuad\u001b[0m\u001b[1;39m(\u001b[0m\u001b[33mtype\u001b[0m\u001b[39m=\u001b[0m\u001b[35mQuadType\u001b[0m\u001b[39m.GAUSS_LEGENDRE, \u001b[0m\u001b[33mn\u001b[0m\u001b[39m=\u001b[0m\u001b[1;36m1\u001b[0m\u001b[1;39m)\u001b[0m\u001b[1;39m)\u001b[0m\u001b[39m,\u001b[0m\n",
       "\u001b[39m            \u001b[0m\u001b[1;35mBin\u001b[0m\u001b[1;39m(\u001b[0m\u001b[33mwmin\u001b[0m\u001b[39m=\u001b[0m\u001b[1;36m1470\u001b[0m\u001b[1;36m.0\u001b[0m\u001b[39m nm, \u001b[0m\u001b[33mwmax\u001b[0m\u001b[39m=\u001b[0m\u001b[1;36m1480\u001b[0m\u001b[1;36m.0\u001b[0m\u001b[39m nm, \u001b[0m\u001b[33mquad\u001b[0m\u001b[39m=\u001b[0m\u001b[1;35mQuad\u001b[0m\u001b[1;39m(\u001b[0m\u001b[33mtype\u001b[0m\u001b[39m=\u001b[0m\u001b[35mQuadType\u001b[0m\u001b[39m.GAUSS_LEGENDRE, \u001b[0m\u001b[33mn\u001b[0m\u001b[39m=\u001b[0m\u001b[1;36m1\u001b[0m\u001b[1;39m)\u001b[0m\u001b[1;39m)\u001b[0m\u001b[39m,\u001b[0m\n",
       "\u001b[39m            \u001b[0m\u001b[1;35mBin\u001b[0m\u001b[1;39m(\u001b[0m\u001b[33mwmin\u001b[0m\u001b[39m=\u001b[0m\u001b[1;36m1480\u001b[0m\u001b[1;36m.0\u001b[0m\u001b[39m nm, \u001b[0m\u001b[33mwmax\u001b[0m\u001b[39m=\u001b[0m\u001b[1;36m1490\u001b[0m\u001b[1;36m.0\u001b[0m\u001b[39m nm, \u001b[0m\u001b[33mquad\u001b[0m\u001b[39m=\u001b[0m\u001b[1;35mQuad\u001b[0m\u001b[1;39m(\u001b[0m\u001b[33mtype\u001b[0m\u001b[39m=\u001b[0m\u001b[35mQuadType\u001b[0m\u001b[39m.GAUSS_LEGENDRE, \u001b[0m\u001b[33mn\u001b[0m\u001b[39m=\u001b[0m\u001b[1;36m1\u001b[0m\u001b[1;39m)\u001b[0m\u001b[1;39m)\u001b[0m\u001b[39m,\u001b[0m\n",
       "\u001b[39m            \u001b[0m\u001b[1;35mBin\u001b[0m\u001b[1;39m(\u001b[0m\u001b[33mwmin\u001b[0m\u001b[39m=\u001b[0m\u001b[1;36m1490\u001b[0m\u001b[1;36m.0\u001b[0m\u001b[39m nm, \u001b[0m\u001b[33mwmax\u001b[0m\u001b[39m=\u001b[0m\u001b[1;36m1500\u001b[0m\u001b[1;36m.0\u001b[0m\u001b[39m nm, \u001b[0m\u001b[33mquad\u001b[0m\u001b[39m=\u001b[0m\u001b[1;35mQuad\u001b[0m\u001b[1;39m(\u001b[0m\u001b[33mtype\u001b[0m\u001b[39m=\u001b[0m\u001b[35mQuadType\u001b[0m\u001b[39m.GAUSS_LEGENDRE, \u001b[0m\u001b[33mn\u001b[0m\u001b[39m=\u001b[0m\u001b[1;36m1\u001b[0m\u001b[1;39m)\u001b[0m\u001b[1;39m)\u001b[0m\u001b[39m,\u001b[0m\n",
       "\u001b[39m            \u001b[0m\u001b[1;35mBin\u001b[0m\u001b[1;39m(\u001b[0m\u001b[33mwmin\u001b[0m\u001b[39m=\u001b[0m\u001b[1;36m1500\u001b[0m\u001b[1;36m.0\u001b[0m\u001b[39m nm, \u001b[0m\u001b[33mwmax\u001b[0m\u001b[39m=\u001b[0m\u001b[1;36m1510\u001b[0m\u001b[1;36m.0\u001b[0m\u001b[39m nm, \u001b[0m\u001b[33mquad\u001b[0m\u001b[39m=\u001b[0m\u001b[1;35mQuad\u001b[0m\u001b[1;39m(\u001b[0m\u001b[33mtype\u001b[0m\u001b[39m=\u001b[0m\u001b[35mQuadType\u001b[0m\u001b[39m.GAUSS_LEGENDRE, \u001b[0m\u001b[33mn\u001b[0m\u001b[39m=\u001b[0m\u001b[1;36m1\u001b[0m\u001b[1;39m)\u001b[0m\u001b[1;39m)\u001b[0m\u001b[39m,\u001b[0m\n",
       "\u001b[39m            \u001b[0m\u001b[1;35mBin\u001b[0m\u001b[1;39m(\u001b[0m\u001b[33mwmin\u001b[0m\u001b[39m=\u001b[0m\u001b[1;36m1510\u001b[0m\u001b[1;36m.0\u001b[0m\u001b[39m nm, \u001b[0m\u001b[33mwmax\u001b[0m\u001b[39m=\u001b[0m\u001b[1;36m1520\u001b[0m\u001b[1;36m.0\u001b[0m\u001b[39m nm, \u001b[0m\u001b[33mquad\u001b[0m\u001b[39m=\u001b[0m\u001b[1;35mQuad\u001b[0m\u001b[1;39m(\u001b[0m\u001b[33mtype\u001b[0m\u001b[39m=\u001b[0m\u001b[35mQuadType\u001b[0m\u001b[39m.GAUSS_LEGENDRE, \u001b[0m\u001b[33mn\u001b[0m\u001b[39m=\u001b[0m\u001b[1;36m1\u001b[0m\u001b[1;39m)\u001b[0m\u001b[1;39m)\u001b[0m\u001b[39m,\u001b[0m\n",
       "\u001b[39m            \u001b[0m\u001b[1;35mBin\u001b[0m\u001b[1;39m(\u001b[0m\u001b[33mwmin\u001b[0m\u001b[39m=\u001b[0m\u001b[1;36m1520\u001b[0m\u001b[1;36m.0\u001b[0m\u001b[39m nm, \u001b[0m\u001b[33mwmax\u001b[0m\u001b[39m=\u001b[0m\u001b[1;36m1530\u001b[0m\u001b[1;36m.0\u001b[0m\u001b[39m nm, \u001b[0m\u001b[33mquad\u001b[0m\u001b[39m=\u001b[0m\u001b[1;35mQuad\u001b[0m\u001b[1;39m(\u001b[0m\u001b[33mtype\u001b[0m\u001b[39m=\u001b[0m\u001b[35mQuadType\u001b[0m\u001b[39m.GAUSS_LEGENDRE, \u001b[0m\u001b[33mn\u001b[0m\u001b[39m=\u001b[0m\u001b[1;36m1\u001b[0m\u001b[1;39m)\u001b[0m\u001b[1;39m)\u001b[0m\u001b[39m,\u001b[0m\n",
       "\u001b[39m            \u001b[0m\u001b[1;35mBin\u001b[0m\u001b[1;39m(\u001b[0m\u001b[33mwmin\u001b[0m\u001b[39m=\u001b[0m\u001b[1;36m1530\u001b[0m\u001b[1;36m.0\u001b[0m\u001b[39m nm, \u001b[0m\u001b[33mwmax\u001b[0m\u001b[39m=\u001b[0m\u001b[1;36m1540\u001b[0m\u001b[1;36m.0\u001b[0m\u001b[39m nm, \u001b[0m\u001b[33mquad\u001b[0m\u001b[39m=\u001b[0m\u001b[1;35mQuad\u001b[0m\u001b[1;39m(\u001b[0m\u001b[33mtype\u001b[0m\u001b[39m=\u001b[0m\u001b[35mQuadType\u001b[0m\u001b[39m.GAUSS_LEGENDRE, \u001b[0m\u001b[33mn\u001b[0m\u001b[39m=\u001b[0m\u001b[1;36m1\u001b[0m\u001b[1;39m)\u001b[0m\u001b[1;39m)\u001b[0m\u001b[39m,\u001b[0m\n",
       "\u001b[39m            \u001b[0m\u001b[1;35mBin\u001b[0m\u001b[1;39m(\u001b[0m\u001b[33mwmin\u001b[0m\u001b[39m=\u001b[0m\u001b[1;36m1540\u001b[0m\u001b[1;36m.0\u001b[0m\u001b[39m nm, \u001b[0m\u001b[33mwmax\u001b[0m\u001b[39m=\u001b[0m\u001b[1;36m1550\u001b[0m\u001b[1;36m.0\u001b[0m\u001b[39m nm, \u001b[0m\u001b[33mquad\u001b[0m\u001b[39m=\u001b[0m\u001b[1;35mQuad\u001b[0m\u001b[1;39m(\u001b[0m\u001b[33mtype\u001b[0m\u001b[39m=\u001b[0m\u001b[35mQuadType\u001b[0m\u001b[39m.GAUSS_LEGENDRE, \u001b[0m\u001b[33mn\u001b[0m\u001b[39m=\u001b[0m\u001b[1;36m1\u001b[0m\u001b[1;39m)\u001b[0m\u001b[1;39m)\u001b[0m\u001b[39m,\u001b[0m\n",
       "\u001b[39m            \u001b[0m\u001b[1;35mBin\u001b[0m\u001b[1;39m(\u001b[0m\u001b[33mwmin\u001b[0m\u001b[39m=\u001b[0m\u001b[1;36m1550\u001b[0m\u001b[1;36m.0\u001b[0m\u001b[39m nm, \u001b[0m\u001b[33mwmax\u001b[0m\u001b[39m=\u001b[0m\u001b[1;36m1560\u001b[0m\u001b[1;36m.0\u001b[0m\u001b[39m nm, \u001b[0m\u001b[33mquad\u001b[0m\u001b[39m=\u001b[0m\u001b[1;35mQuad\u001b[0m\u001b[1;39m(\u001b[0m\u001b[33mtype\u001b[0m\u001b[39m=\u001b[0m\u001b[35mQuadType\u001b[0m\u001b[39m.GAUSS_LEGENDRE, \u001b[0m\u001b[33mn\u001b[0m\u001b[39m=\u001b[0m\u001b[1;36m1\u001b[0m\u001b[1;39m)\u001b[0m\u001b[1;39m)\u001b[0m\u001b[39m,\u001b[0m\n",
       "\u001b[39m            \u001b[0m\u001b[1;35mBin\u001b[0m\u001b[1;39m(\u001b[0m\u001b[33mwmin\u001b[0m\u001b[39m=\u001b[0m\u001b[1;36m1560\u001b[0m\u001b[1;36m.0\u001b[0m\u001b[39m nm, \u001b[0m\u001b[33mwmax\u001b[0m\u001b[39m=\u001b[0m\u001b[1;36m1570\u001b[0m\u001b[1;36m.0\u001b[0m\u001b[39m nm, \u001b[0m\u001b[33mquad\u001b[0m\u001b[39m=\u001b[0m\u001b[1;35mQuad\u001b[0m\u001b[1;39m(\u001b[0m\u001b[33mtype\u001b[0m\u001b[39m=\u001b[0m\u001b[35mQuadType\u001b[0m\u001b[39m.GAUSS_LEGENDRE, \u001b[0m\u001b[33mn\u001b[0m\u001b[39m=\u001b[0m\u001b[1;36m1\u001b[0m\u001b[1;39m)\u001b[0m\u001b[1;39m)\u001b[0m\u001b[39m,\u001b[0m\n",
       "\u001b[39m            \u001b[0m\u001b[1;35mBin\u001b[0m\u001b[1;39m(\u001b[0m\u001b[33mwmin\u001b[0m\u001b[39m=\u001b[0m\u001b[1;36m1570\u001b[0m\u001b[1;36m.0\u001b[0m\u001b[39m nm, \u001b[0m\u001b[33mwmax\u001b[0m\u001b[39m=\u001b[0m\u001b[1;36m1580\u001b[0m\u001b[1;36m.0\u001b[0m\u001b[39m nm, \u001b[0m\u001b[33mquad\u001b[0m\u001b[39m=\u001b[0m\u001b[1;35mQuad\u001b[0m\u001b[1;39m(\u001b[0m\u001b[33mtype\u001b[0m\u001b[39m=\u001b[0m\u001b[35mQuadType\u001b[0m\u001b[39m.GAUSS_LEGENDRE, \u001b[0m\u001b[33mn\u001b[0m\u001b[39m=\u001b[0m\u001b[1;36m1\u001b[0m\u001b[1;39m)\u001b[0m\u001b[1;39m)\u001b[0m\u001b[39m,\u001b[0m\n",
       "\u001b[39m            \u001b[0m\u001b[1;35mBin\u001b[0m\u001b[1;39m(\u001b[0m\u001b[33mwmin\u001b[0m\u001b[39m=\u001b[0m\u001b[1;36m1580\u001b[0m\u001b[1;36m.0\u001b[0m\u001b[39m nm, \u001b[0m\u001b[33mwmax\u001b[0m\u001b[39m=\u001b[0m\u001b[1;36m1590\u001b[0m\u001b[1;36m.0\u001b[0m\u001b[39m nm, \u001b[0m\u001b[33mquad\u001b[0m\u001b[39m=\u001b[0m\u001b[1;35mQuad\u001b[0m\u001b[1;39m(\u001b[0m\u001b[33mtype\u001b[0m\u001b[39m=\u001b[0m\u001b[35mQuadType\u001b[0m\u001b[39m.GAUSS_LEGENDRE, \u001b[0m\u001b[33mn\u001b[0m\u001b[39m=\u001b[0m\u001b[1;36m1\u001b[0m\u001b[1;39m)\u001b[0m\u001b[1;39m)\u001b[0m\u001b[39m,\u001b[0m\n",
       "\u001b[39m            \u001b[0m\u001b[1;35mBin\u001b[0m\u001b[1;39m(\u001b[0m\u001b[33mwmin\u001b[0m\u001b[39m=\u001b[0m\u001b[1;36m1590\u001b[0m\u001b[1;36m.0\u001b[0m\u001b[39m nm, \u001b[0m\u001b[33mwmax\u001b[0m\u001b[39m=\u001b[0m\u001b[1;36m1600\u001b[0m\u001b[1;36m.0\u001b[0m\u001b[39m nm, \u001b[0m\u001b[33mquad\u001b[0m\u001b[39m=\u001b[0m\u001b[1;35mQuad\u001b[0m\u001b[1;39m(\u001b[0m\u001b[33mtype\u001b[0m\u001b[39m=\u001b[0m\u001b[35mQuadType\u001b[0m\u001b[39m.GAUSS_LEGENDRE, \u001b[0m\u001b[33mn\u001b[0m\u001b[39m=\u001b[0m\u001b[1;36m1\u001b[0m\u001b[1;39m)\u001b[0m\u001b[1;39m)\u001b[0m\u001b[39m,\u001b[0m\n",
       "\u001b[39m            \u001b[0m\u001b[1;35mBin\u001b[0m\u001b[1;39m(\u001b[0m\u001b[33mwmin\u001b[0m\u001b[39m=\u001b[0m\u001b[1;36m1600\u001b[0m\u001b[1;36m.0\u001b[0m\u001b[39m nm, \u001b[0m\u001b[33mwmax\u001b[0m\u001b[39m=\u001b[0m\u001b[1;36m1610\u001b[0m\u001b[1;36m.0\u001b[0m\u001b[39m nm, \u001b[0m\u001b[33mquad\u001b[0m\u001b[39m=\u001b[0m\u001b[1;35mQuad\u001b[0m\u001b[1;39m(\u001b[0m\u001b[33mtype\u001b[0m\u001b[39m=\u001b[0m\u001b[35mQuadType\u001b[0m\u001b[39m.GAUSS_LEGENDRE, \u001b[0m\u001b[33mn\u001b[0m\u001b[39m=\u001b[0m\u001b[1;36m1\u001b[0m\u001b[1;39m)\u001b[0m\u001b[1;39m)\u001b[0m\u001b[39m,\u001b[0m\n",
       "\u001b[39m            \u001b[0m\u001b[1;35mBin\u001b[0m\u001b[1;39m(\u001b[0m\u001b[33mwmin\u001b[0m\u001b[39m=\u001b[0m\u001b[1;36m1610\u001b[0m\u001b[1;36m.0\u001b[0m\u001b[39m nm, \u001b[0m\u001b[33mwmax\u001b[0m\u001b[39m=\u001b[0m\u001b[1;36m1620\u001b[0m\u001b[1;36m.0\u001b[0m\u001b[39m nm, \u001b[0m\u001b[33mquad\u001b[0m\u001b[39m=\u001b[0m\u001b[1;35mQuad\u001b[0m\u001b[1;39m(\u001b[0m\u001b[33mtype\u001b[0m\u001b[39m=\u001b[0m\u001b[35mQuadType\u001b[0m\u001b[39m.GAUSS_LEGENDRE, \u001b[0m\u001b[33mn\u001b[0m\u001b[39m=\u001b[0m\u001b[1;36m1\u001b[0m\u001b[1;39m)\u001b[0m\u001b[1;39m)\u001b[0m\u001b[39m,\u001b[0m\n",
       "\u001b[39m            \u001b[0m\u001b[1;35mBin\u001b[0m\u001b[1;39m(\u001b[0m\u001b[33mwmin\u001b[0m\u001b[39m=\u001b[0m\u001b[1;36m1620\u001b[0m\u001b[1;36m.0\u001b[0m\u001b[39m nm, \u001b[0m\u001b[33mwmax\u001b[0m\u001b[39m=\u001b[0m\u001b[1;36m1630\u001b[0m\u001b[1;36m.0\u001b[0m\u001b[39m nm, \u001b[0m\u001b[33mquad\u001b[0m\u001b[39m=\u001b[0m\u001b[1;35mQuad\u001b[0m\u001b[1;39m(\u001b[0m\u001b[33mtype\u001b[0m\u001b[39m=\u001b[0m\u001b[35mQuadType\u001b[0m\u001b[39m.GAUSS_LEGENDRE, \u001b[0m\u001b[33mn\u001b[0m\u001b[39m=\u001b[0m\u001b[1;36m1\u001b[0m\u001b[1;39m)\u001b[0m\u001b[1;39m)\u001b[0m\u001b[39m,\u001b[0m\n",
       "\u001b[39m            \u001b[0m\u001b[1;35mBin\u001b[0m\u001b[1;39m(\u001b[0m\u001b[33mwmin\u001b[0m\u001b[39m=\u001b[0m\u001b[1;36m1630\u001b[0m\u001b[1;36m.0\u001b[0m\u001b[39m nm, \u001b[0m\u001b[33mwmax\u001b[0m\u001b[39m=\u001b[0m\u001b[1;36m1640\u001b[0m\u001b[1;36m.0\u001b[0m\u001b[39m nm, \u001b[0m\u001b[33mquad\u001b[0m\u001b[39m=\u001b[0m\u001b[1;35mQuad\u001b[0m\u001b[1;39m(\u001b[0m\u001b[33mtype\u001b[0m\u001b[39m=\u001b[0m\u001b[35mQuadType\u001b[0m\u001b[39m.GAUSS_LEGENDRE, \u001b[0m\u001b[33mn\u001b[0m\u001b[39m=\u001b[0m\u001b[1;36m1\u001b[0m\u001b[1;39m)\u001b[0m\u001b[1;39m)\u001b[0m\u001b[39m,\u001b[0m\n",
       "\u001b[39m            \u001b[0m\u001b[1;35mBin\u001b[0m\u001b[1;39m(\u001b[0m\u001b[33mwmin\u001b[0m\u001b[39m=\u001b[0m\u001b[1;36m1640\u001b[0m\u001b[1;36m.0\u001b[0m\u001b[39m nm, \u001b[0m\u001b[33mwmax\u001b[0m\u001b[39m=\u001b[0m\u001b[1;36m1650\u001b[0m\u001b[1;36m.0\u001b[0m\u001b[39m nm, \u001b[0m\u001b[33mquad\u001b[0m\u001b[39m=\u001b[0m\u001b[1;35mQuad\u001b[0m\u001b[1;39m(\u001b[0m\u001b[33mtype\u001b[0m\u001b[39m=\u001b[0m\u001b[35mQuadType\u001b[0m\u001b[39m.GAUSS_LEGENDRE, \u001b[0m\u001b[33mn\u001b[0m\u001b[39m=\u001b[0m\u001b[1;36m1\u001b[0m\u001b[1;39m)\u001b[0m\u001b[1;39m)\u001b[0m\u001b[39m,\u001b[0m\n",
       "\u001b[39m            \u001b[0m\u001b[1;35mBin\u001b[0m\u001b[1;39m(\u001b[0m\u001b[33mwmin\u001b[0m\u001b[39m=\u001b[0m\u001b[1;36m1650\u001b[0m\u001b[1;36m.0\u001b[0m\u001b[39m nm, \u001b[0m\u001b[33mwmax\u001b[0m\u001b[39m=\u001b[0m\u001b[1;36m1660\u001b[0m\u001b[1;36m.0\u001b[0m\u001b[39m nm, \u001b[0m\u001b[33mquad\u001b[0m\u001b[39m=\u001b[0m\u001b[1;35mQuad\u001b[0m\u001b[1;39m(\u001b[0m\u001b[33mtype\u001b[0m\u001b[39m=\u001b[0m\u001b[35mQuadType\u001b[0m\u001b[39m.GAUSS_LEGENDRE, \u001b[0m\u001b[33mn\u001b[0m\u001b[39m=\u001b[0m\u001b[1;36m1\u001b[0m\u001b[1;39m)\u001b[0m\u001b[1;39m)\u001b[0m\u001b[39m,\u001b[0m\n",
       "\u001b[39m            \u001b[0m\u001b[1;35mBin\u001b[0m\u001b[1;39m(\u001b[0m\u001b[33mwmin\u001b[0m\u001b[39m=\u001b[0m\u001b[1;36m1660\u001b[0m\u001b[1;36m.0\u001b[0m\u001b[39m nm, \u001b[0m\u001b[33mwmax\u001b[0m\u001b[39m=\u001b[0m\u001b[1;36m1670\u001b[0m\u001b[1;36m.0\u001b[0m\u001b[39m nm, \u001b[0m\u001b[33mquad\u001b[0m\u001b[39m=\u001b[0m\u001b[1;35mQuad\u001b[0m\u001b[1;39m(\u001b[0m\u001b[33mtype\u001b[0m\u001b[39m=\u001b[0m\u001b[35mQuadType\u001b[0m\u001b[39m.GAUSS_LEGENDRE, \u001b[0m\u001b[33mn\u001b[0m\u001b[39m=\u001b[0m\u001b[1;36m1\u001b[0m\u001b[1;39m)\u001b[0m\u001b[1;39m)\u001b[0m\u001b[39m,\u001b[0m\n",
       "\u001b[39m            \u001b[0m\u001b[1;35mBin\u001b[0m\u001b[1;39m(\u001b[0m\u001b[33mwmin\u001b[0m\u001b[39m=\u001b[0m\u001b[1;36m1670\u001b[0m\u001b[1;36m.0\u001b[0m\u001b[39m nm, \u001b[0m\u001b[33mwmax\u001b[0m\u001b[39m=\u001b[0m\u001b[1;36m1680\u001b[0m\u001b[1;36m.0\u001b[0m\u001b[39m nm, \u001b[0m\u001b[33mquad\u001b[0m\u001b[39m=\u001b[0m\u001b[1;35mQuad\u001b[0m\u001b[1;39m(\u001b[0m\u001b[33mtype\u001b[0m\u001b[39m=\u001b[0m\u001b[35mQuadType\u001b[0m\u001b[39m.GAUSS_LEGENDRE, \u001b[0m\u001b[33mn\u001b[0m\u001b[39m=\u001b[0m\u001b[1;36m1\u001b[0m\u001b[1;39m)\u001b[0m\u001b[1;39m)\u001b[0m\u001b[39m,\u001b[0m\n",
       "\u001b[39m            \u001b[0m\u001b[1;35mBin\u001b[0m\u001b[1;39m(\u001b[0m\u001b[33mwmin\u001b[0m\u001b[39m=\u001b[0m\u001b[1;36m1680\u001b[0m\u001b[1;36m.0\u001b[0m\u001b[39m nm, \u001b[0m\u001b[33mwmax\u001b[0m\u001b[39m=\u001b[0m\u001b[1;36m1690\u001b[0m\u001b[1;36m.0\u001b[0m\u001b[39m nm, \u001b[0m\u001b[33mquad\u001b[0m\u001b[39m=\u001b[0m\u001b[1;35mQuad\u001b[0m\u001b[1;39m(\u001b[0m\u001b[33mtype\u001b[0m\u001b[39m=\u001b[0m\u001b[35mQuadType\u001b[0m\u001b[39m.GAUSS_LEGENDRE, \u001b[0m\u001b[33mn\u001b[0m\u001b[39m=\u001b[0m\u001b[1;36m1\u001b[0m\u001b[1;39m)\u001b[0m\u001b[1;39m)\u001b[0m\u001b[39m,\u001b[0m\n",
       "\u001b[39m            \u001b[0m\u001b[1;35mBin\u001b[0m\u001b[1;39m(\u001b[0m\u001b[33mwmin\u001b[0m\u001b[39m=\u001b[0m\u001b[1;36m1690\u001b[0m\u001b[1;36m.0\u001b[0m\u001b[39m nm, \u001b[0m\u001b[33mwmax\u001b[0m\u001b[39m=\u001b[0m\u001b[1;36m1700\u001b[0m\u001b[1;36m.0\u001b[0m\u001b[39m nm, \u001b[0m\u001b[33mquad\u001b[0m\u001b[39m=\u001b[0m\u001b[1;35mQuad\u001b[0m\u001b[1;39m(\u001b[0m\u001b[33mtype\u001b[0m\u001b[39m=\u001b[0m\u001b[35mQuadType\u001b[0m\u001b[39m.GAUSS_LEGENDRE, \u001b[0m\u001b[33mn\u001b[0m\u001b[39m=\u001b[0m\u001b[1;36m1\u001b[0m\u001b[1;39m)\u001b[0m\u001b[1;39m)\u001b[0m\u001b[39m,\u001b[0m\n",
       "\u001b[39m            \u001b[0m\u001b[1;35mBin\u001b[0m\u001b[1;39m(\u001b[0m\u001b[33mwmin\u001b[0m\u001b[39m=\u001b[0m\u001b[1;36m1700\u001b[0m\u001b[1;36m.0\u001b[0m\u001b[39m nm, \u001b[0m\u001b[33mwmax\u001b[0m\u001b[39m=\u001b[0m\u001b[1;36m1710\u001b[0m\u001b[1;36m.0\u001b[0m\u001b[39m nm, \u001b[0m\u001b[33mquad\u001b[0m\u001b[39m=\u001b[0m\u001b[1;35mQuad\u001b[0m\u001b[1;39m(\u001b[0m\u001b[33mtype\u001b[0m\u001b[39m=\u001b[0m\u001b[35mQuadType\u001b[0m\u001b[39m.GAUSS_LEGENDRE, \u001b[0m\u001b[33mn\u001b[0m\u001b[39m=\u001b[0m\u001b[1;36m1\u001b[0m\u001b[1;39m)\u001b[0m\u001b[1;39m)\u001b[0m\u001b[39m,\u001b[0m\n",
       "\u001b[39m            \u001b[0m\u001b[1;35mBin\u001b[0m\u001b[1;39m(\u001b[0m\u001b[33mwmin\u001b[0m\u001b[39m=\u001b[0m\u001b[1;36m1710\u001b[0m\u001b[1;36m.0\u001b[0m\u001b[39m nm, \u001b[0m\u001b[33mwmax\u001b[0m\u001b[39m=\u001b[0m\u001b[1;36m1720\u001b[0m\u001b[1;36m.0\u001b[0m\u001b[39m nm, \u001b[0m\u001b[33mquad\u001b[0m\u001b[39m=\u001b[0m\u001b[1;35mQuad\u001b[0m\u001b[1;39m(\u001b[0m\u001b[33mtype\u001b[0m\u001b[39m=\u001b[0m\u001b[35mQuadType\u001b[0m\u001b[39m.GAUSS_LEGENDRE, \u001b[0m\u001b[33mn\u001b[0m\u001b[39m=\u001b[0m\u001b[1;36m1\u001b[0m\u001b[1;39m)\u001b[0m\u001b[1;39m)\u001b[0m\u001b[39m,\u001b[0m\n",
       "\u001b[39m            \u001b[0m\u001b[1;35mBin\u001b[0m\u001b[1;39m(\u001b[0m\u001b[33mwmin\u001b[0m\u001b[39m=\u001b[0m\u001b[1;36m1720\u001b[0m\u001b[1;36m.0\u001b[0m\u001b[39m nm, \u001b[0m\u001b[33mwmax\u001b[0m\u001b[39m=\u001b[0m\u001b[1;36m1730\u001b[0m\u001b[1;36m.0\u001b[0m\u001b[39m nm, \u001b[0m\u001b[33mquad\u001b[0m\u001b[39m=\u001b[0m\u001b[1;35mQuad\u001b[0m\u001b[1;39m(\u001b[0m\u001b[33mtype\u001b[0m\u001b[39m=\u001b[0m\u001b[35mQuadType\u001b[0m\u001b[39m.GAUSS_LEGENDRE, \u001b[0m\u001b[33mn\u001b[0m\u001b[39m=\u001b[0m\u001b[1;36m1\u001b[0m\u001b[1;39m)\u001b[0m\u001b[1;39m)\u001b[0m\u001b[39m,\u001b[0m\n",
       "\u001b[39m            \u001b[0m\u001b[1;35mBin\u001b[0m\u001b[1;39m(\u001b[0m\u001b[33mwmin\u001b[0m\u001b[39m=\u001b[0m\u001b[1;36m1730\u001b[0m\u001b[1;36m.0\u001b[0m\u001b[39m nm, \u001b[0m\u001b[33mwmax\u001b[0m\u001b[39m=\u001b[0m\u001b[1;36m1740\u001b[0m\u001b[1;36m.0\u001b[0m\u001b[39m nm, \u001b[0m\u001b[33mquad\u001b[0m\u001b[39m=\u001b[0m\u001b[1;35mQuad\u001b[0m\u001b[1;39m(\u001b[0m\u001b[33mtype\u001b[0m\u001b[39m=\u001b[0m\u001b[35mQuadType\u001b[0m\u001b[39m.GAUSS_LEGENDRE, \u001b[0m\u001b[33mn\u001b[0m\u001b[39m=\u001b[0m\u001b[1;36m1\u001b[0m\u001b[1;39m)\u001b[0m\u001b[1;39m)\u001b[0m\u001b[39m,\u001b[0m\n",
       "\u001b[39m            \u001b[0m\u001b[1;35mBin\u001b[0m\u001b[1;39m(\u001b[0m\u001b[33mwmin\u001b[0m\u001b[39m=\u001b[0m\u001b[1;36m1740\u001b[0m\u001b[1;36m.0\u001b[0m\u001b[39m nm, \u001b[0m\u001b[33mwmax\u001b[0m\u001b[39m=\u001b[0m\u001b[1;36m1750\u001b[0m\u001b[1;36m.0\u001b[0m\u001b[39m nm, \u001b[0m\u001b[33mquad\u001b[0m\u001b[39m=\u001b[0m\u001b[1;35mQuad\u001b[0m\u001b[1;39m(\u001b[0m\u001b[33mtype\u001b[0m\u001b[39m=\u001b[0m\u001b[35mQuadType\u001b[0m\u001b[39m.GAUSS_LEGENDRE, \u001b[0m\u001b[33mn\u001b[0m\u001b[39m=\u001b[0m\u001b[1;36m1\u001b[0m\u001b[1;39m)\u001b[0m\u001b[1;39m)\u001b[0m\u001b[39m,\u001b[0m\n",
       "\u001b[39m            \u001b[0m\u001b[1;35mBin\u001b[0m\u001b[1;39m(\u001b[0m\u001b[33mwmin\u001b[0m\u001b[39m=\u001b[0m\u001b[1;36m1750\u001b[0m\u001b[1;36m.0\u001b[0m\u001b[39m nm, \u001b[0m\u001b[33mwmax\u001b[0m\u001b[39m=\u001b[0m\u001b[1;36m1760\u001b[0m\u001b[1;36m.0\u001b[0m\u001b[39m nm, \u001b[0m\u001b[33mquad\u001b[0m\u001b[39m=\u001b[0m\u001b[1;35mQuad\u001b[0m\u001b[1;39m(\u001b[0m\u001b[33mtype\u001b[0m\u001b[39m=\u001b[0m\u001b[35mQuadType\u001b[0m\u001b[39m.GAUSS_LEGENDRE, \u001b[0m\u001b[33mn\u001b[0m\u001b[39m=\u001b[0m\u001b[1;36m1\u001b[0m\u001b[1;39m)\u001b[0m\u001b[1;39m)\u001b[0m\u001b[39m,\u001b[0m\n",
       "\u001b[39m            \u001b[0m\u001b[1;35mBin\u001b[0m\u001b[1;39m(\u001b[0m\u001b[33mwmin\u001b[0m\u001b[39m=\u001b[0m\u001b[1;36m1760\u001b[0m\u001b[1;36m.0\u001b[0m\u001b[39m nm, \u001b[0m\u001b[33mwmax\u001b[0m\u001b[39m=\u001b[0m\u001b[1;36m1770\u001b[0m\u001b[1;36m.0\u001b[0m\u001b[39m nm, \u001b[0m\u001b[33mquad\u001b[0m\u001b[39m=\u001b[0m\u001b[1;35mQuad\u001b[0m\u001b[1;39m(\u001b[0m\u001b[33mtype\u001b[0m\u001b[39m=\u001b[0m\u001b[35mQuadType\u001b[0m\u001b[39m.GAUSS_LEGENDRE, \u001b[0m\u001b[33mn\u001b[0m\u001b[39m=\u001b[0m\u001b[1;36m1\u001b[0m\u001b[1;39m)\u001b[0m\u001b[1;39m)\u001b[0m\u001b[39m,\u001b[0m\n",
       "\u001b[39m            \u001b[0m\u001b[1;35mBin\u001b[0m\u001b[1;39m(\u001b[0m\u001b[33mwmin\u001b[0m\u001b[39m=\u001b[0m\u001b[1;36m1770\u001b[0m\u001b[1;36m.0\u001b[0m\u001b[39m nm, \u001b[0m\u001b[33mwmax\u001b[0m\u001b[39m=\u001b[0m\u001b[1;36m1780\u001b[0m\u001b[1;36m.0\u001b[0m\u001b[39m nm, \u001b[0m\u001b[33mquad\u001b[0m\u001b[39m=\u001b[0m\u001b[1;35mQuad\u001b[0m\u001b[1;39m(\u001b[0m\u001b[33mtype\u001b[0m\u001b[39m=\u001b[0m\u001b[35mQuadType\u001b[0m\u001b[39m.GAUSS_LEGENDRE, \u001b[0m\u001b[33mn\u001b[0m\u001b[39m=\u001b[0m\u001b[1;36m1\u001b[0m\u001b[1;39m)\u001b[0m\u001b[1;39m)\u001b[0m\u001b[39m,\u001b[0m\n",
       "\u001b[39m            \u001b[0m\u001b[1;35mBin\u001b[0m\u001b[1;39m(\u001b[0m\u001b[33mwmin\u001b[0m\u001b[39m=\u001b[0m\u001b[1;36m1780\u001b[0m\u001b[1;36m.0\u001b[0m\u001b[39m nm, \u001b[0m\u001b[33mwmax\u001b[0m\u001b[39m=\u001b[0m\u001b[1;36m1790\u001b[0m\u001b[1;36m.0\u001b[0m\u001b[39m nm, \u001b[0m\u001b[33mquad\u001b[0m\u001b[39m=\u001b[0m\u001b[1;35mQuad\u001b[0m\u001b[1;39m(\u001b[0m\u001b[33mtype\u001b[0m\u001b[39m=\u001b[0m\u001b[35mQuadType\u001b[0m\u001b[39m.GAUSS_LEGENDRE, \u001b[0m\u001b[33mn\u001b[0m\u001b[39m=\u001b[0m\u001b[1;36m1\u001b[0m\u001b[1;39m)\u001b[0m\u001b[1;39m)\u001b[0m\u001b[39m,\u001b[0m\n",
       "\u001b[39m            \u001b[0m\u001b[1;35mBin\u001b[0m\u001b[1;39m(\u001b[0m\u001b[33mwmin\u001b[0m\u001b[39m=\u001b[0m\u001b[1;36m1790\u001b[0m\u001b[1;36m.0\u001b[0m\u001b[39m nm, \u001b[0m\u001b[33mwmax\u001b[0m\u001b[39m=\u001b[0m\u001b[1;36m1800\u001b[0m\u001b[1;36m.0\u001b[0m\u001b[39m nm, \u001b[0m\u001b[33mquad\u001b[0m\u001b[39m=\u001b[0m\u001b[1;35mQuad\u001b[0m\u001b[1;39m(\u001b[0m\u001b[33mtype\u001b[0m\u001b[39m=\u001b[0m\u001b[35mQuadType\u001b[0m\u001b[39m.GAUSS_LEGENDRE, \u001b[0m\u001b[33mn\u001b[0m\u001b[39m=\u001b[0m\u001b[1;36m1\u001b[0m\u001b[1;39m)\u001b[0m\u001b[1;39m)\u001b[0m\u001b[39m,\u001b[0m\n",
       "\u001b[39m            \u001b[0m\u001b[1;35mBin\u001b[0m\u001b[1;39m(\u001b[0m\u001b[33mwmin\u001b[0m\u001b[39m=\u001b[0m\u001b[1;36m1800\u001b[0m\u001b[1;36m.0\u001b[0m\u001b[39m nm, \u001b[0m\u001b[33mwmax\u001b[0m\u001b[39m=\u001b[0m\u001b[1;36m1810\u001b[0m\u001b[1;36m.0\u001b[0m\u001b[39m nm, \u001b[0m\u001b[33mquad\u001b[0m\u001b[39m=\u001b[0m\u001b[1;35mQuad\u001b[0m\u001b[1;39m(\u001b[0m\u001b[33mtype\u001b[0m\u001b[39m=\u001b[0m\u001b[35mQuadType\u001b[0m\u001b[39m.GAUSS_LEGENDRE, \u001b[0m\u001b[33mn\u001b[0m\u001b[39m=\u001b[0m\u001b[1;36m1\u001b[0m\u001b[1;39m)\u001b[0m\u001b[1;39m)\u001b[0m\u001b[39m,\u001b[0m\n",
       "\u001b[39m            \u001b[0m\u001b[1;35mBin\u001b[0m\u001b[1;39m(\u001b[0m\u001b[33mwmin\u001b[0m\u001b[39m=\u001b[0m\u001b[1;36m1810\u001b[0m\u001b[1;36m.0\u001b[0m\u001b[39m nm, \u001b[0m\u001b[33mwmax\u001b[0m\u001b[39m=\u001b[0m\u001b[1;36m1820\u001b[0m\u001b[1;36m.0\u001b[0m\u001b[39m nm, \u001b[0m\u001b[33mquad\u001b[0m\u001b[39m=\u001b[0m\u001b[1;35mQuad\u001b[0m\u001b[1;39m(\u001b[0m\u001b[33mtype\u001b[0m\u001b[39m=\u001b[0m\u001b[35mQuadType\u001b[0m\u001b[39m.GAUSS_LEGENDRE, \u001b[0m\u001b[33mn\u001b[0m\u001b[39m=\u001b[0m\u001b[1;36m1\u001b[0m\u001b[1;39m)\u001b[0m\u001b[1;39m)\u001b[0m\u001b[39m,\u001b[0m\n",
       "\u001b[39m            \u001b[0m\u001b[1;35mBin\u001b[0m\u001b[1;39m(\u001b[0m\u001b[33mwmin\u001b[0m\u001b[39m=\u001b[0m\u001b[1;36m1820\u001b[0m\u001b[1;36m.0\u001b[0m\u001b[39m nm, \u001b[0m\u001b[33mwmax\u001b[0m\u001b[39m=\u001b[0m\u001b[1;36m1830\u001b[0m\u001b[1;36m.0\u001b[0m\u001b[39m nm, \u001b[0m\u001b[33mquad\u001b[0m\u001b[39m=\u001b[0m\u001b[1;35mQuad\u001b[0m\u001b[1;39m(\u001b[0m\u001b[33mtype\u001b[0m\u001b[39m=\u001b[0m\u001b[35mQuadType\u001b[0m\u001b[39m.GAUSS_LEGENDRE, \u001b[0m\u001b[33mn\u001b[0m\u001b[39m=\u001b[0m\u001b[1;36m1\u001b[0m\u001b[1;39m)\u001b[0m\u001b[1;39m)\u001b[0m\u001b[39m,\u001b[0m\n",
       "\u001b[39m            \u001b[0m\u001b[1;35mBin\u001b[0m\u001b[1;39m(\u001b[0m\u001b[33mwmin\u001b[0m\u001b[39m=\u001b[0m\u001b[1;36m1830\u001b[0m\u001b[1;36m.0\u001b[0m\u001b[39m nm, \u001b[0m\u001b[33mwmax\u001b[0m\u001b[39m=\u001b[0m\u001b[1;36m1840\u001b[0m\u001b[1;36m.0\u001b[0m\u001b[39m nm, \u001b[0m\u001b[33mquad\u001b[0m\u001b[39m=\u001b[0m\u001b[1;35mQuad\u001b[0m\u001b[1;39m(\u001b[0m\u001b[33mtype\u001b[0m\u001b[39m=\u001b[0m\u001b[35mQuadType\u001b[0m\u001b[39m.GAUSS_LEGENDRE, \u001b[0m\u001b[33mn\u001b[0m\u001b[39m=\u001b[0m\u001b[1;36m1\u001b[0m\u001b[1;39m)\u001b[0m\u001b[1;39m)\u001b[0m\u001b[39m,\u001b[0m\n",
       "\u001b[39m            \u001b[0m\u001b[1;35mBin\u001b[0m\u001b[1;39m(\u001b[0m\u001b[33mwmin\u001b[0m\u001b[39m=\u001b[0m\u001b[1;36m1840\u001b[0m\u001b[1;36m.0\u001b[0m\u001b[39m nm, \u001b[0m\u001b[33mwmax\u001b[0m\u001b[39m=\u001b[0m\u001b[1;36m1850\u001b[0m\u001b[1;36m.0\u001b[0m\u001b[39m nm, \u001b[0m\u001b[33mquad\u001b[0m\u001b[39m=\u001b[0m\u001b[1;35mQuad\u001b[0m\u001b[1;39m(\u001b[0m\u001b[33mtype\u001b[0m\u001b[39m=\u001b[0m\u001b[35mQuadType\u001b[0m\u001b[39m.GAUSS_LEGENDRE, \u001b[0m\u001b[33mn\u001b[0m\u001b[39m=\u001b[0m\u001b[1;36m1\u001b[0m\u001b[1;39m)\u001b[0m\u001b[1;39m)\u001b[0m\u001b[39m,\u001b[0m\n",
       "\u001b[39m            \u001b[0m\u001b[1;35mBin\u001b[0m\u001b[1;39m(\u001b[0m\u001b[33mwmin\u001b[0m\u001b[39m=\u001b[0m\u001b[1;36m1850\u001b[0m\u001b[1;36m.0\u001b[0m\u001b[39m nm, \u001b[0m\u001b[33mwmax\u001b[0m\u001b[39m=\u001b[0m\u001b[1;36m1860\u001b[0m\u001b[1;36m.0\u001b[0m\u001b[39m nm, \u001b[0m\u001b[33mquad\u001b[0m\u001b[39m=\u001b[0m\u001b[1;35mQuad\u001b[0m\u001b[1;39m(\u001b[0m\u001b[33mtype\u001b[0m\u001b[39m=\u001b[0m\u001b[35mQuadType\u001b[0m\u001b[39m.GAUSS_LEGENDRE, \u001b[0m\u001b[33mn\u001b[0m\u001b[39m=\u001b[0m\u001b[1;36m1\u001b[0m\u001b[1;39m)\u001b[0m\u001b[1;39m)\u001b[0m\u001b[39m,\u001b[0m\n",
       "\u001b[39m            \u001b[0m\u001b[1;35mBin\u001b[0m\u001b[1;39m(\u001b[0m\u001b[33mwmin\u001b[0m\u001b[39m=\u001b[0m\u001b[1;36m1860\u001b[0m\u001b[1;36m.0\u001b[0m\u001b[39m nm, \u001b[0m\u001b[33mwmax\u001b[0m\u001b[39m=\u001b[0m\u001b[1;36m1870\u001b[0m\u001b[1;36m.0\u001b[0m\u001b[39m nm, \u001b[0m\u001b[33mquad\u001b[0m\u001b[39m=\u001b[0m\u001b[1;35mQuad\u001b[0m\u001b[1;39m(\u001b[0m\u001b[33mtype\u001b[0m\u001b[39m=\u001b[0m\u001b[35mQuadType\u001b[0m\u001b[39m.GAUSS_LEGENDRE, \u001b[0m\u001b[33mn\u001b[0m\u001b[39m=\u001b[0m\u001b[1;36m1\u001b[0m\u001b[1;39m)\u001b[0m\u001b[1;39m)\u001b[0m\u001b[39m,\u001b[0m\n",
       "\u001b[39m            \u001b[0m\u001b[1;35mBin\u001b[0m\u001b[1;39m(\u001b[0m\u001b[33mwmin\u001b[0m\u001b[39m=\u001b[0m\u001b[1;36m1870\u001b[0m\u001b[1;36m.0\u001b[0m\u001b[39m nm, \u001b[0m\u001b[33mwmax\u001b[0m\u001b[39m=\u001b[0m\u001b[1;36m1880\u001b[0m\u001b[1;36m.0\u001b[0m\u001b[39m nm, \u001b[0m\u001b[33mquad\u001b[0m\u001b[39m=\u001b[0m\u001b[1;35mQuad\u001b[0m\u001b[1;39m(\u001b[0m\u001b[33mtype\u001b[0m\u001b[39m=\u001b[0m\u001b[35mQuadType\u001b[0m\u001b[39m.GAUSS_LEGENDRE, \u001b[0m\u001b[33mn\u001b[0m\u001b[39m=\u001b[0m\u001b[1;36m1\u001b[0m\u001b[1;39m)\u001b[0m\u001b[1;39m)\u001b[0m\u001b[39m,\u001b[0m\n",
       "\u001b[39m            \u001b[0m\u001b[1;35mBin\u001b[0m\u001b[1;39m(\u001b[0m\u001b[33mwmin\u001b[0m\u001b[39m=\u001b[0m\u001b[1;36m1880\u001b[0m\u001b[1;36m.0\u001b[0m\u001b[39m nm, \u001b[0m\u001b[33mwmax\u001b[0m\u001b[39m=\u001b[0m\u001b[1;36m1890\u001b[0m\u001b[1;36m.0\u001b[0m\u001b[39m nm, \u001b[0m\u001b[33mquad\u001b[0m\u001b[39m=\u001b[0m\u001b[1;35mQuad\u001b[0m\u001b[1;39m(\u001b[0m\u001b[33mtype\u001b[0m\u001b[39m=\u001b[0m\u001b[35mQuadType\u001b[0m\u001b[39m.GAUSS_LEGENDRE, \u001b[0m\u001b[33mn\u001b[0m\u001b[39m=\u001b[0m\u001b[1;36m1\u001b[0m\u001b[1;39m)\u001b[0m\u001b[1;39m)\u001b[0m\u001b[39m,\u001b[0m\n",
       "\u001b[39m            \u001b[0m\u001b[1;35mBin\u001b[0m\u001b[1;39m(\u001b[0m\u001b[33mwmin\u001b[0m\u001b[39m=\u001b[0m\u001b[1;36m1890\u001b[0m\u001b[1;36m.0\u001b[0m\u001b[39m nm, \u001b[0m\u001b[33mwmax\u001b[0m\u001b[39m=\u001b[0m\u001b[1;36m1900\u001b[0m\u001b[1;36m.0\u001b[0m\u001b[39m nm, \u001b[0m\u001b[33mquad\u001b[0m\u001b[39m=\u001b[0m\u001b[1;35mQuad\u001b[0m\u001b[1;39m(\u001b[0m\u001b[33mtype\u001b[0m\u001b[39m=\u001b[0m\u001b[35mQuadType\u001b[0m\u001b[39m.GAUSS_LEGENDRE, \u001b[0m\u001b[33mn\u001b[0m\u001b[39m=\u001b[0m\u001b[1;36m1\u001b[0m\u001b[1;39m)\u001b[0m\u001b[1;39m)\u001b[0m\u001b[39m,\u001b[0m\n",
       "\u001b[39m            \u001b[0m\u001b[1;35mBin\u001b[0m\u001b[1;39m(\u001b[0m\u001b[33mwmin\u001b[0m\u001b[39m=\u001b[0m\u001b[1;36m1900\u001b[0m\u001b[1;36m.0\u001b[0m\u001b[39m nm, \u001b[0m\u001b[33mwmax\u001b[0m\u001b[39m=\u001b[0m\u001b[1;36m1910\u001b[0m\u001b[1;36m.0\u001b[0m\u001b[39m nm, \u001b[0m\u001b[33mquad\u001b[0m\u001b[39m=\u001b[0m\u001b[1;35mQuad\u001b[0m\u001b[1;39m(\u001b[0m\u001b[33mtype\u001b[0m\u001b[39m=\u001b[0m\u001b[35mQuadType\u001b[0m\u001b[39m.GAUSS_LEGENDRE, \u001b[0m\u001b[33mn\u001b[0m\u001b[39m=\u001b[0m\u001b[1;36m1\u001b[0m\u001b[1;39m)\u001b[0m\u001b[1;39m)\u001b[0m\u001b[39m,\u001b[0m\n",
       "\u001b[39m            \u001b[0m\u001b[1;35mBin\u001b[0m\u001b[1;39m(\u001b[0m\u001b[33mwmin\u001b[0m\u001b[39m=\u001b[0m\u001b[1;36m1910\u001b[0m\u001b[1;36m.0\u001b[0m\u001b[39m nm, \u001b[0m\u001b[33mwmax\u001b[0m\u001b[39m=\u001b[0m\u001b[1;36m1920\u001b[0m\u001b[1;36m.0\u001b[0m\u001b[39m nm, \u001b[0m\u001b[33mquad\u001b[0m\u001b[39m=\u001b[0m\u001b[1;35mQuad\u001b[0m\u001b[1;39m(\u001b[0m\u001b[33mtype\u001b[0m\u001b[39m=\u001b[0m\u001b[35mQuadType\u001b[0m\u001b[39m.GAUSS_LEGENDRE, \u001b[0m\u001b[33mn\u001b[0m\u001b[39m=\u001b[0m\u001b[1;36m1\u001b[0m\u001b[1;39m)\u001b[0m\u001b[1;39m)\u001b[0m\u001b[39m,\u001b[0m\n",
       "\u001b[39m            \u001b[0m\u001b[1;35mBin\u001b[0m\u001b[1;39m(\u001b[0m\u001b[33mwmin\u001b[0m\u001b[39m=\u001b[0m\u001b[1;36m1920\u001b[0m\u001b[1;36m.0\u001b[0m\u001b[39m nm, \u001b[0m\u001b[33mwmax\u001b[0m\u001b[39m=\u001b[0m\u001b[1;36m1930\u001b[0m\u001b[1;36m.0\u001b[0m\u001b[39m nm, \u001b[0m\u001b[33mquad\u001b[0m\u001b[39m=\u001b[0m\u001b[1;35mQuad\u001b[0m\u001b[1;39m(\u001b[0m\u001b[33mtype\u001b[0m\u001b[39m=\u001b[0m\u001b[35mQuadType\u001b[0m\u001b[39m.GAUSS_LEGENDRE, \u001b[0m\u001b[33mn\u001b[0m\u001b[39m=\u001b[0m\u001b[1;36m1\u001b[0m\u001b[1;39m)\u001b[0m\u001b[1;39m)\u001b[0m\u001b[39m,\u001b[0m\n",
       "\u001b[39m            \u001b[0m\u001b[1;35mBin\u001b[0m\u001b[1;39m(\u001b[0m\u001b[33mwmin\u001b[0m\u001b[39m=\u001b[0m\u001b[1;36m1930\u001b[0m\u001b[1;36m.0\u001b[0m\u001b[39m nm, \u001b[0m\u001b[33mwmax\u001b[0m\u001b[39m=\u001b[0m\u001b[1;36m1940\u001b[0m\u001b[1;36m.0\u001b[0m\u001b[39m nm, \u001b[0m\u001b[33mquad\u001b[0m\u001b[39m=\u001b[0m\u001b[1;35mQuad\u001b[0m\u001b[1;39m(\u001b[0m\u001b[33mtype\u001b[0m\u001b[39m=\u001b[0m\u001b[35mQuadType\u001b[0m\u001b[39m.GAUSS_LEGENDRE, \u001b[0m\u001b[33mn\u001b[0m\u001b[39m=\u001b[0m\u001b[1;36m1\u001b[0m\u001b[1;39m)\u001b[0m\u001b[1;39m)\u001b[0m\u001b[39m,\u001b[0m\n",
       "\u001b[39m            \u001b[0m\u001b[1;35mBin\u001b[0m\u001b[1;39m(\u001b[0m\u001b[33mwmin\u001b[0m\u001b[39m=\u001b[0m\u001b[1;36m1940\u001b[0m\u001b[1;36m.0\u001b[0m\u001b[39m nm, \u001b[0m\u001b[33mwmax\u001b[0m\u001b[39m=\u001b[0m\u001b[1;36m1950\u001b[0m\u001b[1;36m.0\u001b[0m\u001b[39m nm, \u001b[0m\u001b[33mquad\u001b[0m\u001b[39m=\u001b[0m\u001b[1;35mQuad\u001b[0m\u001b[1;39m(\u001b[0m\u001b[33mtype\u001b[0m\u001b[39m=\u001b[0m\u001b[35mQuadType\u001b[0m\u001b[39m.GAUSS_LEGENDRE, \u001b[0m\u001b[33mn\u001b[0m\u001b[39m=\u001b[0m\u001b[1;36m1\u001b[0m\u001b[1;39m)\u001b[0m\u001b[1;39m)\u001b[0m\u001b[39m,\u001b[0m\n",
       "\u001b[39m            \u001b[0m\u001b[1;35mBin\u001b[0m\u001b[1;39m(\u001b[0m\u001b[33mwmin\u001b[0m\u001b[39m=\u001b[0m\u001b[1;36m1950\u001b[0m\u001b[1;36m.0\u001b[0m\u001b[39m nm, \u001b[0m\u001b[33mwmax\u001b[0m\u001b[39m=\u001b[0m\u001b[1;36m1960\u001b[0m\u001b[1;36m.0\u001b[0m\u001b[39m nm, \u001b[0m\u001b[33mquad\u001b[0m\u001b[39m=\u001b[0m\u001b[1;35mQuad\u001b[0m\u001b[1;39m(\u001b[0m\u001b[33mtype\u001b[0m\u001b[39m=\u001b[0m\u001b[35mQuadType\u001b[0m\u001b[39m.GAUSS_LEGENDRE, \u001b[0m\u001b[33mn\u001b[0m\u001b[39m=\u001b[0m\u001b[1;36m1\u001b[0m\u001b[1;39m)\u001b[0m\u001b[1;39m)\u001b[0m\u001b[39m,\u001b[0m\n",
       "\u001b[39m            \u001b[0m\u001b[1;35mBin\u001b[0m\u001b[1;39m(\u001b[0m\u001b[33mwmin\u001b[0m\u001b[39m=\u001b[0m\u001b[1;36m1960\u001b[0m\u001b[1;36m.0\u001b[0m\u001b[39m nm, \u001b[0m\u001b[33mwmax\u001b[0m\u001b[39m=\u001b[0m\u001b[1;36m1970\u001b[0m\u001b[1;36m.0\u001b[0m\u001b[39m nm, \u001b[0m\u001b[33mquad\u001b[0m\u001b[39m=\u001b[0m\u001b[1;35mQuad\u001b[0m\u001b[1;39m(\u001b[0m\u001b[33mtype\u001b[0m\u001b[39m=\u001b[0m\u001b[35mQuadType\u001b[0m\u001b[39m.GAUSS_LEGENDRE, \u001b[0m\u001b[33mn\u001b[0m\u001b[39m=\u001b[0m\u001b[1;36m1\u001b[0m\u001b[1;39m)\u001b[0m\u001b[1;39m)\u001b[0m\u001b[39m,\u001b[0m\n",
       "\u001b[39m            \u001b[0m\u001b[1;35mBin\u001b[0m\u001b[1;39m(\u001b[0m\u001b[33mwmin\u001b[0m\u001b[39m=\u001b[0m\u001b[1;36m1970\u001b[0m\u001b[1;36m.0\u001b[0m\u001b[39m nm, \u001b[0m\u001b[33mwmax\u001b[0m\u001b[39m=\u001b[0m\u001b[1;36m1980\u001b[0m\u001b[1;36m.0\u001b[0m\u001b[39m nm, \u001b[0m\u001b[33mquad\u001b[0m\u001b[39m=\u001b[0m\u001b[1;35mQuad\u001b[0m\u001b[1;39m(\u001b[0m\u001b[33mtype\u001b[0m\u001b[39m=\u001b[0m\u001b[35mQuadType\u001b[0m\u001b[39m.GAUSS_LEGENDRE, \u001b[0m\u001b[33mn\u001b[0m\u001b[39m=\u001b[0m\u001b[1;36m1\u001b[0m\u001b[1;39m)\u001b[0m\u001b[1;39m)\u001b[0m\u001b[39m,\u001b[0m\n",
       "\u001b[39m            \u001b[0m\u001b[1;35mBin\u001b[0m\u001b[1;39m(\u001b[0m\u001b[33mwmin\u001b[0m\u001b[39m=\u001b[0m\u001b[1;36m1980\u001b[0m\u001b[1;36m.0\u001b[0m\u001b[39m nm, \u001b[0m\u001b[33mwmax\u001b[0m\u001b[39m=\u001b[0m\u001b[1;36m1990\u001b[0m\u001b[1;36m.0\u001b[0m\u001b[39m nm, \u001b[0m\u001b[33mquad\u001b[0m\u001b[39m=\u001b[0m\u001b[1;35mQuad\u001b[0m\u001b[1;39m(\u001b[0m\u001b[33mtype\u001b[0m\u001b[39m=\u001b[0m\u001b[35mQuadType\u001b[0m\u001b[39m.GAUSS_LEGENDRE, \u001b[0m\u001b[33mn\u001b[0m\u001b[39m=\u001b[0m\u001b[1;36m1\u001b[0m\u001b[1;39m)\u001b[0m\u001b[1;39m)\u001b[0m\u001b[39m,\u001b[0m\n",
       "\u001b[39m            \u001b[0m\u001b[1;35mBin\u001b[0m\u001b[1;39m(\u001b[0m\u001b[33mwmin\u001b[0m\u001b[39m=\u001b[0m\u001b[1;36m1990\u001b[0m\u001b[1;36m.0\u001b[0m\u001b[39m nm, \u001b[0m\u001b[33mwmax\u001b[0m\u001b[39m=\u001b[0m\u001b[1;36m2000\u001b[0m\u001b[1;36m.0\u001b[0m\u001b[39m nm, \u001b[0m\u001b[33mquad\u001b[0m\u001b[39m=\u001b[0m\u001b[1;35mQuad\u001b[0m\u001b[1;39m(\u001b[0m\u001b[33mtype\u001b[0m\u001b[39m=\u001b[0m\u001b[35mQuadType\u001b[0m\u001b[39m.GAUSS_LEGENDRE, \u001b[0m\u001b[33mn\u001b[0m\u001b[39m=\u001b[0m\u001b[1;36m1\u001b[0m\u001b[1;39m)\u001b[0m\u001b[1;39m)\u001b[0m\u001b[39m,\u001b[0m\n",
       "\u001b[39m            \u001b[0m\u001b[1;35mBin\u001b[0m\u001b[1;39m(\u001b[0m\u001b[33mwmin\u001b[0m\u001b[39m=\u001b[0m\u001b[1;36m2000\u001b[0m\u001b[1;36m.0\u001b[0m\u001b[39m nm, \u001b[0m\u001b[33mwmax\u001b[0m\u001b[39m=\u001b[0m\u001b[1;36m2010\u001b[0m\u001b[1;36m.0\u001b[0m\u001b[39m nm, \u001b[0m\u001b[33mquad\u001b[0m\u001b[39m=\u001b[0m\u001b[1;35mQuad\u001b[0m\u001b[1;39m(\u001b[0m\u001b[33mtype\u001b[0m\u001b[39m=\u001b[0m\u001b[35mQuadType\u001b[0m\u001b[39m.GAUSS_LEGENDRE, \u001b[0m\u001b[33mn\u001b[0m\u001b[39m=\u001b[0m\u001b[1;36m1\u001b[0m\u001b[1;39m)\u001b[0m\u001b[1;39m)\u001b[0m\u001b[39m,\u001b[0m\n",
       "\u001b[39m            \u001b[0m\u001b[1;35mBin\u001b[0m\u001b[1;39m(\u001b[0m\u001b[33mwmin\u001b[0m\u001b[39m=\u001b[0m\u001b[1;36m2010\u001b[0m\u001b[1;36m.0\u001b[0m\u001b[39m nm, \u001b[0m\u001b[33mwmax\u001b[0m\u001b[39m=\u001b[0m\u001b[1;36m2020\u001b[0m\u001b[1;36m.0\u001b[0m\u001b[39m nm, \u001b[0m\u001b[33mquad\u001b[0m\u001b[39m=\u001b[0m\u001b[1;35mQuad\u001b[0m\u001b[1;39m(\u001b[0m\u001b[33mtype\u001b[0m\u001b[39m=\u001b[0m\u001b[35mQuadType\u001b[0m\u001b[39m.GAUSS_LEGENDRE, \u001b[0m\u001b[33mn\u001b[0m\u001b[39m=\u001b[0m\u001b[1;36m1\u001b[0m\u001b[1;39m)\u001b[0m\u001b[1;39m)\u001b[0m\u001b[39m,\u001b[0m\n",
       "\u001b[39m            \u001b[0m\u001b[1;35mBin\u001b[0m\u001b[1;39m(\u001b[0m\u001b[33mwmin\u001b[0m\u001b[39m=\u001b[0m\u001b[1;36m2020\u001b[0m\u001b[1;36m.0\u001b[0m\u001b[39m nm, \u001b[0m\u001b[33mwmax\u001b[0m\u001b[39m=\u001b[0m\u001b[1;36m2030\u001b[0m\u001b[1;36m.0\u001b[0m\u001b[39m nm, \u001b[0m\u001b[33mquad\u001b[0m\u001b[39m=\u001b[0m\u001b[1;35mQuad\u001b[0m\u001b[1;39m(\u001b[0m\u001b[33mtype\u001b[0m\u001b[39m=\u001b[0m\u001b[35mQuadType\u001b[0m\u001b[39m.GAUSS_LEGENDRE, \u001b[0m\u001b[33mn\u001b[0m\u001b[39m=\u001b[0m\u001b[1;36m1\u001b[0m\u001b[1;39m)\u001b[0m\u001b[1;39m)\u001b[0m\u001b[39m,\u001b[0m\n",
       "\u001b[39m            \u001b[0m\u001b[1;35mBin\u001b[0m\u001b[1;39m(\u001b[0m\u001b[33mwmin\u001b[0m\u001b[39m=\u001b[0m\u001b[1;36m2030\u001b[0m\u001b[1;36m.0\u001b[0m\u001b[39m nm, \u001b[0m\u001b[33mwmax\u001b[0m\u001b[39m=\u001b[0m\u001b[1;36m2040\u001b[0m\u001b[1;36m.0\u001b[0m\u001b[39m nm, \u001b[0m\u001b[33mquad\u001b[0m\u001b[39m=\u001b[0m\u001b[1;35mQuad\u001b[0m\u001b[1;39m(\u001b[0m\u001b[33mtype\u001b[0m\u001b[39m=\u001b[0m\u001b[35mQuadType\u001b[0m\u001b[39m.GAUSS_LEGENDRE, \u001b[0m\u001b[33mn\u001b[0m\u001b[39m=\u001b[0m\u001b[1;36m1\u001b[0m\u001b[1;39m)\u001b[0m\u001b[1;39m)\u001b[0m\u001b[39m,\u001b[0m\n",
       "\u001b[39m            \u001b[0m\u001b[1;35mBin\u001b[0m\u001b[1;39m(\u001b[0m\u001b[33mwmin\u001b[0m\u001b[39m=\u001b[0m\u001b[1;36m2040\u001b[0m\u001b[1;36m.0\u001b[0m\u001b[39m nm, \u001b[0m\u001b[33mwmax\u001b[0m\u001b[39m=\u001b[0m\u001b[1;36m2050\u001b[0m\u001b[1;36m.0\u001b[0m\u001b[39m nm, \u001b[0m\u001b[33mquad\u001b[0m\u001b[39m=\u001b[0m\u001b[1;35mQuad\u001b[0m\u001b[1;39m(\u001b[0m\u001b[33mtype\u001b[0m\u001b[39m=\u001b[0m\u001b[35mQuadType\u001b[0m\u001b[39m.GAUSS_LEGENDRE, \u001b[0m\u001b[33mn\u001b[0m\u001b[39m=\u001b[0m\u001b[1;36m1\u001b[0m\u001b[1;39m)\u001b[0m\u001b[1;39m)\u001b[0m\u001b[39m,\u001b[0m\n",
       "\u001b[39m            \u001b[0m\u001b[1;35mBin\u001b[0m\u001b[1;39m(\u001b[0m\u001b[33mwmin\u001b[0m\u001b[39m=\u001b[0m\u001b[1;36m2050\u001b[0m\u001b[1;36m.0\u001b[0m\u001b[39m nm, \u001b[0m\u001b[33mwmax\u001b[0m\u001b[39m=\u001b[0m\u001b[1;36m2060\u001b[0m\u001b[1;36m.0\u001b[0m\u001b[39m nm, \u001b[0m\u001b[33mquad\u001b[0m\u001b[39m=\u001b[0m\u001b[1;35mQuad\u001b[0m\u001b[1;39m(\u001b[0m\u001b[33mtype\u001b[0m\u001b[39m=\u001b[0m\u001b[35mQuadType\u001b[0m\u001b[39m.GAUSS_LEGENDRE, \u001b[0m\u001b[33mn\u001b[0m\u001b[39m=\u001b[0m\u001b[1;36m1\u001b[0m\u001b[1;39m)\u001b[0m\u001b[1;39m)\u001b[0m\u001b[39m,\u001b[0m\n",
       "\u001b[39m            \u001b[0m\u001b[1;35mBin\u001b[0m\u001b[1;39m(\u001b[0m\u001b[33mwmin\u001b[0m\u001b[39m=\u001b[0m\u001b[1;36m2060\u001b[0m\u001b[1;36m.0\u001b[0m\u001b[39m nm, \u001b[0m\u001b[33mwmax\u001b[0m\u001b[39m=\u001b[0m\u001b[1;36m2070\u001b[0m\u001b[1;36m.0\u001b[0m\u001b[39m nm, \u001b[0m\u001b[33mquad\u001b[0m\u001b[39m=\u001b[0m\u001b[1;35mQuad\u001b[0m\u001b[1;39m(\u001b[0m\u001b[33mtype\u001b[0m\u001b[39m=\u001b[0m\u001b[35mQuadType\u001b[0m\u001b[39m.GAUSS_LEGENDRE, \u001b[0m\u001b[33mn\u001b[0m\u001b[39m=\u001b[0m\u001b[1;36m1\u001b[0m\u001b[1;39m)\u001b[0m\u001b[1;39m)\u001b[0m\u001b[39m,\u001b[0m\n",
       "\u001b[39m            \u001b[0m\u001b[1;35mBin\u001b[0m\u001b[1;39m(\u001b[0m\u001b[33mwmin\u001b[0m\u001b[39m=\u001b[0m\u001b[1;36m2070\u001b[0m\u001b[1;36m.0\u001b[0m\u001b[39m nm, \u001b[0m\u001b[33mwmax\u001b[0m\u001b[39m=\u001b[0m\u001b[1;36m2080\u001b[0m\u001b[1;36m.0\u001b[0m\u001b[39m nm, \u001b[0m\u001b[33mquad\u001b[0m\u001b[39m=\u001b[0m\u001b[1;35mQuad\u001b[0m\u001b[1;39m(\u001b[0m\u001b[33mtype\u001b[0m\u001b[39m=\u001b[0m\u001b[35mQuadType\u001b[0m\u001b[39m.GAUSS_LEGENDRE, \u001b[0m\u001b[33mn\u001b[0m\u001b[39m=\u001b[0m\u001b[1;36m1\u001b[0m\u001b[1;39m)\u001b[0m\u001b[1;39m)\u001b[0m\u001b[39m,\u001b[0m\n",
       "\u001b[39m            \u001b[0m\u001b[1;35mBin\u001b[0m\u001b[1;39m(\u001b[0m\u001b[33mwmin\u001b[0m\u001b[39m=\u001b[0m\u001b[1;36m2080\u001b[0m\u001b[1;36m.0\u001b[0m\u001b[39m nm, \u001b[0m\u001b[33mwmax\u001b[0m\u001b[39m=\u001b[0m\u001b[1;36m2090\u001b[0m\u001b[1;36m.0\u001b[0m\u001b[39m nm, \u001b[0m\u001b[33mquad\u001b[0m\u001b[39m=\u001b[0m\u001b[1;35mQuad\u001b[0m\u001b[1;39m(\u001b[0m\u001b[33mtype\u001b[0m\u001b[39m=\u001b[0m\u001b[35mQuadType\u001b[0m\u001b[39m.GAUSS_LEGENDRE, \u001b[0m\u001b[33mn\u001b[0m\u001b[39m=\u001b[0m\u001b[1;36m1\u001b[0m\u001b[1;39m)\u001b[0m\u001b[1;39m)\u001b[0m\u001b[39m,\u001b[0m\n",
       "\u001b[39m            \u001b[0m\u001b[1;35mBin\u001b[0m\u001b[1;39m(\u001b[0m\u001b[33mwmin\u001b[0m\u001b[39m=\u001b[0m\u001b[1;36m2090\u001b[0m\u001b[1;36m.0\u001b[0m\u001b[39m nm, \u001b[0m\u001b[33mwmax\u001b[0m\u001b[39m=\u001b[0m\u001b[1;36m2100\u001b[0m\u001b[1;36m.0\u001b[0m\u001b[39m nm, \u001b[0m\u001b[33mquad\u001b[0m\u001b[39m=\u001b[0m\u001b[1;35mQuad\u001b[0m\u001b[1;39m(\u001b[0m\u001b[33mtype\u001b[0m\u001b[39m=\u001b[0m\u001b[35mQuadType\u001b[0m\u001b[39m.GAUSS_LEGENDRE, \u001b[0m\u001b[33mn\u001b[0m\u001b[39m=\u001b[0m\u001b[1;36m1\u001b[0m\u001b[1;39m)\u001b[0m\u001b[1;39m)\u001b[0m\u001b[39m,\u001b[0m\n",
       "\u001b[39m            \u001b[0m\u001b[1;35mBin\u001b[0m\u001b[1;39m(\u001b[0m\u001b[33mwmin\u001b[0m\u001b[39m=\u001b[0m\u001b[1;36m2100\u001b[0m\u001b[1;36m.0\u001b[0m\u001b[39m nm, \u001b[0m\u001b[33mwmax\u001b[0m\u001b[39m=\u001b[0m\u001b[1;36m2110\u001b[0m\u001b[1;36m.0\u001b[0m\u001b[39m nm, \u001b[0m\u001b[33mquad\u001b[0m\u001b[39m=\u001b[0m\u001b[1;35mQuad\u001b[0m\u001b[1;39m(\u001b[0m\u001b[33mtype\u001b[0m\u001b[39m=\u001b[0m\u001b[35mQuadType\u001b[0m\u001b[39m.GAUSS_LEGENDRE, \u001b[0m\u001b[33mn\u001b[0m\u001b[39m=\u001b[0m\u001b[1;36m1\u001b[0m\u001b[1;39m)\u001b[0m\u001b[1;39m)\u001b[0m\u001b[39m,\u001b[0m\n",
       "\u001b[39m            \u001b[0m\u001b[1;35mBin\u001b[0m\u001b[1;39m(\u001b[0m\u001b[33mwmin\u001b[0m\u001b[39m=\u001b[0m\u001b[1;36m2110\u001b[0m\u001b[1;36m.0\u001b[0m\u001b[39m nm, \u001b[0m\u001b[33mwmax\u001b[0m\u001b[39m=\u001b[0m\u001b[1;36m2120\u001b[0m\u001b[1;36m.0\u001b[0m\u001b[39m nm, \u001b[0m\u001b[33mquad\u001b[0m\u001b[39m=\u001b[0m\u001b[1;35mQuad\u001b[0m\u001b[1;39m(\u001b[0m\u001b[33mtype\u001b[0m\u001b[39m=\u001b[0m\u001b[35mQuadType\u001b[0m\u001b[39m.GAUSS_LEGENDRE, \u001b[0m\u001b[33mn\u001b[0m\u001b[39m=\u001b[0m\u001b[1;36m1\u001b[0m\u001b[1;39m)\u001b[0m\u001b[1;39m)\u001b[0m\u001b[39m,\u001b[0m\n",
       "\u001b[39m            \u001b[0m\u001b[1;35mBin\u001b[0m\u001b[1;39m(\u001b[0m\u001b[33mwmin\u001b[0m\u001b[39m=\u001b[0m\u001b[1;36m2120\u001b[0m\u001b[1;36m.0\u001b[0m\u001b[39m nm, \u001b[0m\u001b[33mwmax\u001b[0m\u001b[39m=\u001b[0m\u001b[1;36m2130\u001b[0m\u001b[1;36m.0\u001b[0m\u001b[39m nm, \u001b[0m\u001b[33mquad\u001b[0m\u001b[39m=\u001b[0m\u001b[1;35mQuad\u001b[0m\u001b[1;39m(\u001b[0m\u001b[33mtype\u001b[0m\u001b[39m=\u001b[0m\u001b[35mQuadType\u001b[0m\u001b[39m.GAUSS_LEGENDRE, \u001b[0m\u001b[33mn\u001b[0m\u001b[39m=\u001b[0m\u001b[1;36m1\u001b[0m\u001b[1;39m)\u001b[0m\u001b[1;39m)\u001b[0m\u001b[39m,\u001b[0m\n",
       "\u001b[39m            \u001b[0m\u001b[1;35mBin\u001b[0m\u001b[1;39m(\u001b[0m\u001b[33mwmin\u001b[0m\u001b[39m=\u001b[0m\u001b[1;36m2130\u001b[0m\u001b[1;36m.0\u001b[0m\u001b[39m nm, \u001b[0m\u001b[33mwmax\u001b[0m\u001b[39m=\u001b[0m\u001b[1;36m2140\u001b[0m\u001b[1;36m.0\u001b[0m\u001b[39m nm, \u001b[0m\u001b[33mquad\u001b[0m\u001b[39m=\u001b[0m\u001b[1;35mQuad\u001b[0m\u001b[1;39m(\u001b[0m\u001b[33mtype\u001b[0m\u001b[39m=\u001b[0m\u001b[35mQuadType\u001b[0m\u001b[39m.GAUSS_LEGENDRE, \u001b[0m\u001b[33mn\u001b[0m\u001b[39m=\u001b[0m\u001b[1;36m1\u001b[0m\u001b[1;39m)\u001b[0m\u001b[1;39m)\u001b[0m\u001b[39m,\u001b[0m\n",
       "\u001b[39m            \u001b[0m\u001b[1;35mBin\u001b[0m\u001b[1;39m(\u001b[0m\u001b[33mwmin\u001b[0m\u001b[39m=\u001b[0m\u001b[1;36m2140\u001b[0m\u001b[1;36m.0\u001b[0m\u001b[39m nm, \u001b[0m\u001b[33mwmax\u001b[0m\u001b[39m=\u001b[0m\u001b[1;36m2150\u001b[0m\u001b[1;36m.0\u001b[0m\u001b[39m nm, \u001b[0m\u001b[33mquad\u001b[0m\u001b[39m=\u001b[0m\u001b[1;35mQuad\u001b[0m\u001b[1;39m(\u001b[0m\u001b[33mtype\u001b[0m\u001b[39m=\u001b[0m\u001b[35mQuadType\u001b[0m\u001b[39m.GAUSS_LEGENDRE, \u001b[0m\u001b[33mn\u001b[0m\u001b[39m=\u001b[0m\u001b[1;36m1\u001b[0m\u001b[1;39m)\u001b[0m\u001b[1;39m)\u001b[0m\u001b[39m,\u001b[0m\n",
       "\u001b[39m            \u001b[0m\u001b[1;35mBin\u001b[0m\u001b[1;39m(\u001b[0m\u001b[33mwmin\u001b[0m\u001b[39m=\u001b[0m\u001b[1;36m2150\u001b[0m\u001b[1;36m.0\u001b[0m\u001b[39m nm, \u001b[0m\u001b[33mwmax\u001b[0m\u001b[39m=\u001b[0m\u001b[1;36m2160\u001b[0m\u001b[1;36m.0\u001b[0m\u001b[39m nm, \u001b[0m\u001b[33mquad\u001b[0m\u001b[39m=\u001b[0m\u001b[1;35mQuad\u001b[0m\u001b[1;39m(\u001b[0m\u001b[33mtype\u001b[0m\u001b[39m=\u001b[0m\u001b[35mQuadType\u001b[0m\u001b[39m.GAUSS_LEGENDRE, \u001b[0m\u001b[33mn\u001b[0m\u001b[39m=\u001b[0m\u001b[1;36m1\u001b[0m\u001b[1;39m)\u001b[0m\u001b[1;39m)\u001b[0m\u001b[39m,\u001b[0m\n",
       "\u001b[39m            \u001b[0m\u001b[1;35mBin\u001b[0m\u001b[1;39m(\u001b[0m\u001b[33mwmin\u001b[0m\u001b[39m=\u001b[0m\u001b[1;36m2160\u001b[0m\u001b[1;36m.0\u001b[0m\u001b[39m nm, \u001b[0m\u001b[33mwmax\u001b[0m\u001b[39m=\u001b[0m\u001b[1;36m2170\u001b[0m\u001b[1;36m.0\u001b[0m\u001b[39m nm, \u001b[0m\u001b[33mquad\u001b[0m\u001b[39m=\u001b[0m\u001b[1;35mQuad\u001b[0m\u001b[1;39m(\u001b[0m\u001b[33mtype\u001b[0m\u001b[39m=\u001b[0m\u001b[35mQuadType\u001b[0m\u001b[39m.GAUSS_LEGENDRE, \u001b[0m\u001b[33mn\u001b[0m\u001b[39m=\u001b[0m\u001b[1;36m1\u001b[0m\u001b[1;39m)\u001b[0m\u001b[1;39m)\u001b[0m\u001b[39m,\u001b[0m\n",
       "\u001b[39m            \u001b[0m\u001b[1;35mBin\u001b[0m\u001b[1;39m(\u001b[0m\u001b[33mwmin\u001b[0m\u001b[39m=\u001b[0m\u001b[1;36m2170\u001b[0m\u001b[1;36m.0\u001b[0m\u001b[39m nm, \u001b[0m\u001b[33mwmax\u001b[0m\u001b[39m=\u001b[0m\u001b[1;36m2180\u001b[0m\u001b[1;36m.0\u001b[0m\u001b[39m nm, \u001b[0m\u001b[33mquad\u001b[0m\u001b[39m=\u001b[0m\u001b[1;35mQuad\u001b[0m\u001b[1;39m(\u001b[0m\u001b[33mtype\u001b[0m\u001b[39m=\u001b[0m\u001b[35mQuadType\u001b[0m\u001b[39m.GAUSS_LEGENDRE, \u001b[0m\u001b[33mn\u001b[0m\u001b[39m=\u001b[0m\u001b[1;36m1\u001b[0m\u001b[1;39m)\u001b[0m\u001b[1;39m)\u001b[0m\u001b[39m,\u001b[0m\n",
       "\u001b[39m            \u001b[0m\u001b[1;35mBin\u001b[0m\u001b[1;39m(\u001b[0m\u001b[33mwmin\u001b[0m\u001b[39m=\u001b[0m\u001b[1;36m2180\u001b[0m\u001b[1;36m.0\u001b[0m\u001b[39m nm, \u001b[0m\u001b[33mwmax\u001b[0m\u001b[39m=\u001b[0m\u001b[1;36m2190\u001b[0m\u001b[1;36m.0\u001b[0m\u001b[39m nm, \u001b[0m\u001b[33mquad\u001b[0m\u001b[39m=\u001b[0m\u001b[1;35mQuad\u001b[0m\u001b[1;39m(\u001b[0m\u001b[33mtype\u001b[0m\u001b[39m=\u001b[0m\u001b[35mQuadType\u001b[0m\u001b[39m.GAUSS_LEGENDRE, \u001b[0m\u001b[33mn\u001b[0m\u001b[39m=\u001b[0m\u001b[1;36m1\u001b[0m\u001b[1;39m)\u001b[0m\u001b[1;39m)\u001b[0m\u001b[39m,\u001b[0m\n",
       "\u001b[39m            \u001b[0m\u001b[1;35mBin\u001b[0m\u001b[1;39m(\u001b[0m\u001b[33mwmin\u001b[0m\u001b[39m=\u001b[0m\u001b[1;36m2190\u001b[0m\u001b[1;36m.0\u001b[0m\u001b[39m nm, \u001b[0m\u001b[33mwmax\u001b[0m\u001b[39m=\u001b[0m\u001b[1;36m2200\u001b[0m\u001b[1;36m.0\u001b[0m\u001b[39m nm, \u001b[0m\u001b[33mquad\u001b[0m\u001b[39m=\u001b[0m\u001b[1;35mQuad\u001b[0m\u001b[1;39m(\u001b[0m\u001b[33mtype\u001b[0m\u001b[39m=\u001b[0m\u001b[35mQuadType\u001b[0m\u001b[39m.GAUSS_LEGENDRE, \u001b[0m\u001b[33mn\u001b[0m\u001b[39m=\u001b[0m\u001b[1;36m1\u001b[0m\u001b[1;39m)\u001b[0m\u001b[1;39m)\u001b[0m\u001b[39m,\u001b[0m\n",
       "\u001b[39m            \u001b[0m\u001b[1;35mBin\u001b[0m\u001b[1;39m(\u001b[0m\u001b[33mwmin\u001b[0m\u001b[39m=\u001b[0m\u001b[1;36m2200\u001b[0m\u001b[1;36m.0\u001b[0m\u001b[39m nm, \u001b[0m\u001b[33mwmax\u001b[0m\u001b[39m=\u001b[0m\u001b[1;36m2210\u001b[0m\u001b[1;36m.0\u001b[0m\u001b[39m nm, \u001b[0m\u001b[33mquad\u001b[0m\u001b[39m=\u001b[0m\u001b[1;35mQuad\u001b[0m\u001b[1;39m(\u001b[0m\u001b[33mtype\u001b[0m\u001b[39m=\u001b[0m\u001b[35mQuadType\u001b[0m\u001b[39m.GAUSS_LEGENDRE, \u001b[0m\u001b[33mn\u001b[0m\u001b[39m=\u001b[0m\u001b[1;36m1\u001b[0m\u001b[1;39m)\u001b[0m\u001b[1;39m)\u001b[0m\u001b[39m,\u001b[0m\n",
       "\u001b[39m            \u001b[0m\u001b[1;35mBin\u001b[0m\u001b[1;39m(\u001b[0m\u001b[33mwmin\u001b[0m\u001b[39m=\u001b[0m\u001b[1;36m2210\u001b[0m\u001b[1;36m.0\u001b[0m\u001b[39m nm, \u001b[0m\u001b[33mwmax\u001b[0m\u001b[39m=\u001b[0m\u001b[1;36m2220\u001b[0m\u001b[1;36m.0\u001b[0m\u001b[39m nm, \u001b[0m\u001b[33mquad\u001b[0m\u001b[39m=\u001b[0m\u001b[1;35mQuad\u001b[0m\u001b[1;39m(\u001b[0m\u001b[33mtype\u001b[0m\u001b[39m=\u001b[0m\u001b[35mQuadType\u001b[0m\u001b[39m.GAUSS_LEGENDRE, \u001b[0m\u001b[33mn\u001b[0m\u001b[39m=\u001b[0m\u001b[1;36m1\u001b[0m\u001b[1;39m)\u001b[0m\u001b[1;39m)\u001b[0m\u001b[39m,\u001b[0m\n",
       "\u001b[39m            \u001b[0m\u001b[1;35mBin\u001b[0m\u001b[1;39m(\u001b[0m\u001b[33mwmin\u001b[0m\u001b[39m=\u001b[0m\u001b[1;36m2220\u001b[0m\u001b[1;36m.0\u001b[0m\u001b[39m nm, \u001b[0m\u001b[33mwmax\u001b[0m\u001b[39m=\u001b[0m\u001b[1;36m2230\u001b[0m\u001b[1;36m.0\u001b[0m\u001b[39m nm, \u001b[0m\u001b[33mquad\u001b[0m\u001b[39m=\u001b[0m\u001b[1;35mQuad\u001b[0m\u001b[1;39m(\u001b[0m\u001b[33mtype\u001b[0m\u001b[39m=\u001b[0m\u001b[35mQuadType\u001b[0m\u001b[39m.GAUSS_LEGENDRE, \u001b[0m\u001b[33mn\u001b[0m\u001b[39m=\u001b[0m\u001b[1;36m1\u001b[0m\u001b[1;39m)\u001b[0m\u001b[1;39m)\u001b[0m\u001b[39m,\u001b[0m\n",
       "\u001b[39m            \u001b[0m\u001b[1;35mBin\u001b[0m\u001b[1;39m(\u001b[0m\u001b[33mwmin\u001b[0m\u001b[39m=\u001b[0m\u001b[1;36m2230\u001b[0m\u001b[1;36m.0\u001b[0m\u001b[39m nm, \u001b[0m\u001b[33mwmax\u001b[0m\u001b[39m=\u001b[0m\u001b[1;36m2240\u001b[0m\u001b[1;36m.0\u001b[0m\u001b[39m nm, \u001b[0m\u001b[33mquad\u001b[0m\u001b[39m=\u001b[0m\u001b[1;35mQuad\u001b[0m\u001b[1;39m(\u001b[0m\u001b[33mtype\u001b[0m\u001b[39m=\u001b[0m\u001b[35mQuadType\u001b[0m\u001b[39m.GAUSS_LEGENDRE, \u001b[0m\u001b[33mn\u001b[0m\u001b[39m=\u001b[0m\u001b[1;36m1\u001b[0m\u001b[1;39m)\u001b[0m\u001b[1;39m)\u001b[0m\u001b[39m,\u001b[0m\n",
       "\u001b[39m            \u001b[0m\u001b[1;35mBin\u001b[0m\u001b[1;39m(\u001b[0m\u001b[33mwmin\u001b[0m\u001b[39m=\u001b[0m\u001b[1;36m2240\u001b[0m\u001b[1;36m.0\u001b[0m\u001b[39m nm, \u001b[0m\u001b[33mwmax\u001b[0m\u001b[39m=\u001b[0m\u001b[1;36m2250\u001b[0m\u001b[1;36m.0\u001b[0m\u001b[39m nm, \u001b[0m\u001b[33mquad\u001b[0m\u001b[39m=\u001b[0m\u001b[1;35mQuad\u001b[0m\u001b[1;39m(\u001b[0m\u001b[33mtype\u001b[0m\u001b[39m=\u001b[0m\u001b[35mQuadType\u001b[0m\u001b[39m.GAUSS_LEGENDRE, \u001b[0m\u001b[33mn\u001b[0m\u001b[39m=\u001b[0m\u001b[1;36m1\u001b[0m\u001b[1;39m)\u001b[0m\u001b[1;39m)\u001b[0m\u001b[39m,\u001b[0m\n",
       "\u001b[39m            \u001b[0m\u001b[1;35mBin\u001b[0m\u001b[1;39m(\u001b[0m\u001b[33mwmin\u001b[0m\u001b[39m=\u001b[0m\u001b[1;36m2250\u001b[0m\u001b[1;36m.0\u001b[0m\u001b[39m nm, \u001b[0m\u001b[33mwmax\u001b[0m\u001b[39m=\u001b[0m\u001b[1;36m2260\u001b[0m\u001b[1;36m.0\u001b[0m\u001b[39m nm, \u001b[0m\u001b[33mquad\u001b[0m\u001b[39m=\u001b[0m\u001b[1;35mQuad\u001b[0m\u001b[1;39m(\u001b[0m\u001b[33mtype\u001b[0m\u001b[39m=\u001b[0m\u001b[35mQuadType\u001b[0m\u001b[39m.GAUSS_LEGENDRE, \u001b[0m\u001b[33mn\u001b[0m\u001b[39m=\u001b[0m\u001b[1;36m1\u001b[0m\u001b[1;39m)\u001b[0m\u001b[1;39m)\u001b[0m\u001b[39m,\u001b[0m\n",
       "\u001b[39m            \u001b[0m\u001b[1;35mBin\u001b[0m\u001b[1;39m(\u001b[0m\u001b[33mwmin\u001b[0m\u001b[39m=\u001b[0m\u001b[1;36m2260\u001b[0m\u001b[1;36m.0\u001b[0m\u001b[39m nm, \u001b[0m\u001b[33mwmax\u001b[0m\u001b[39m=\u001b[0m\u001b[1;36m2270\u001b[0m\u001b[1;36m.0\u001b[0m\u001b[39m nm, \u001b[0m\u001b[33mquad\u001b[0m\u001b[39m=\u001b[0m\u001b[1;35mQuad\u001b[0m\u001b[1;39m(\u001b[0m\u001b[33mtype\u001b[0m\u001b[39m=\u001b[0m\u001b[35mQuadType\u001b[0m\u001b[39m.GAUSS_LEGENDRE, \u001b[0m\u001b[33mn\u001b[0m\u001b[39m=\u001b[0m\u001b[1;36m1\u001b[0m\u001b[1;39m)\u001b[0m\u001b[1;39m)\u001b[0m\u001b[39m,\u001b[0m\n",
       "\u001b[39m            \u001b[0m\u001b[1;35mBin\u001b[0m\u001b[1;39m(\u001b[0m\u001b[33mwmin\u001b[0m\u001b[39m=\u001b[0m\u001b[1;36m2270\u001b[0m\u001b[1;36m.0\u001b[0m\u001b[39m nm, \u001b[0m\u001b[33mwmax\u001b[0m\u001b[39m=\u001b[0m\u001b[1;36m2280\u001b[0m\u001b[1;36m.0\u001b[0m\u001b[39m nm, \u001b[0m\u001b[33mquad\u001b[0m\u001b[39m=\u001b[0m\u001b[1;35mQuad\u001b[0m\u001b[1;39m(\u001b[0m\u001b[33mtype\u001b[0m\u001b[39m=\u001b[0m\u001b[35mQuadType\u001b[0m\u001b[39m.GAUSS_LEGENDRE, \u001b[0m\u001b[33mn\u001b[0m\u001b[39m=\u001b[0m\u001b[1;36m1\u001b[0m\u001b[1;39m)\u001b[0m\u001b[1;39m)\u001b[0m\u001b[39m,\u001b[0m\n",
       "\u001b[39m            \u001b[0m\u001b[1;35mBin\u001b[0m\u001b[1;39m(\u001b[0m\u001b[33mwmin\u001b[0m\u001b[39m=\u001b[0m\u001b[1;36m2280\u001b[0m\u001b[1;36m.0\u001b[0m\u001b[39m nm, \u001b[0m\u001b[33mwmax\u001b[0m\u001b[39m=\u001b[0m\u001b[1;36m2290\u001b[0m\u001b[1;36m.0\u001b[0m\u001b[39m nm, \u001b[0m\u001b[33mquad\u001b[0m\u001b[39m=\u001b[0m\u001b[1;35mQuad\u001b[0m\u001b[1;39m(\u001b[0m\u001b[33mtype\u001b[0m\u001b[39m=\u001b[0m\u001b[35mQuadType\u001b[0m\u001b[39m.GAUSS_LEGENDRE, \u001b[0m\u001b[33mn\u001b[0m\u001b[39m=\u001b[0m\u001b[1;36m1\u001b[0m\u001b[1;39m)\u001b[0m\u001b[1;39m)\u001b[0m\u001b[39m,\u001b[0m\n",
       "\u001b[39m            \u001b[0m\u001b[1;35mBin\u001b[0m\u001b[1;39m(\u001b[0m\u001b[33mwmin\u001b[0m\u001b[39m=\u001b[0m\u001b[1;36m2290\u001b[0m\u001b[1;36m.0\u001b[0m\u001b[39m nm, \u001b[0m\u001b[33mwmax\u001b[0m\u001b[39m=\u001b[0m\u001b[1;36m2300\u001b[0m\u001b[1;36m.0\u001b[0m\u001b[39m nm, \u001b[0m\u001b[33mquad\u001b[0m\u001b[39m=\u001b[0m\u001b[1;35mQuad\u001b[0m\u001b[1;39m(\u001b[0m\u001b[33mtype\u001b[0m\u001b[39m=\u001b[0m\u001b[35mQuadType\u001b[0m\u001b[39m.GAUSS_LEGENDRE, \u001b[0m\u001b[33mn\u001b[0m\u001b[39m=\u001b[0m\u001b[1;36m1\u001b[0m\u001b[1;39m)\u001b[0m\u001b[1;39m)\u001b[0m\u001b[39m,\u001b[0m\n",
       "\u001b[39m            \u001b[0m\u001b[1;35mBin\u001b[0m\u001b[1;39m(\u001b[0m\u001b[33mwmin\u001b[0m\u001b[39m=\u001b[0m\u001b[1;36m2300\u001b[0m\u001b[1;36m.0\u001b[0m\u001b[39m nm, \u001b[0m\u001b[33mwmax\u001b[0m\u001b[39m=\u001b[0m\u001b[1;36m2310\u001b[0m\u001b[1;36m.0\u001b[0m\u001b[39m nm, \u001b[0m\u001b[33mquad\u001b[0m\u001b[39m=\u001b[0m\u001b[1;35mQuad\u001b[0m\u001b[1;39m(\u001b[0m\u001b[33mtype\u001b[0m\u001b[39m=\u001b[0m\u001b[35mQuadType\u001b[0m\u001b[39m.GAUSS_LEGENDRE, \u001b[0m\u001b[33mn\u001b[0m\u001b[39m=\u001b[0m\u001b[1;36m1\u001b[0m\u001b[1;39m)\u001b[0m\u001b[1;39m)\u001b[0m\u001b[39m,\u001b[0m\n",
       "\u001b[39m            \u001b[0m\u001b[1;35mBin\u001b[0m\u001b[1;39m(\u001b[0m\u001b[33mwmin\u001b[0m\u001b[39m=\u001b[0m\u001b[1;36m2310\u001b[0m\u001b[1;36m.0\u001b[0m\u001b[39m nm, \u001b[0m\u001b[33mwmax\u001b[0m\u001b[39m=\u001b[0m\u001b[1;36m2320\u001b[0m\u001b[1;36m.0\u001b[0m\u001b[39m nm, \u001b[0m\u001b[33mquad\u001b[0m\u001b[39m=\u001b[0m\u001b[1;35mQuad\u001b[0m\u001b[1;39m(\u001b[0m\u001b[33mtype\u001b[0m\u001b[39m=\u001b[0m\u001b[35mQuadType\u001b[0m\u001b[39m.GAUSS_LEGENDRE, \u001b[0m\u001b[33mn\u001b[0m\u001b[39m=\u001b[0m\u001b[1;36m1\u001b[0m\u001b[1;39m)\u001b[0m\u001b[1;39m)\u001b[0m\u001b[39m,\u001b[0m\n",
       "\u001b[39m            \u001b[0m\u001b[1;35mBin\u001b[0m\u001b[1;39m(\u001b[0m\u001b[33mwmin\u001b[0m\u001b[39m=\u001b[0m\u001b[1;36m2320\u001b[0m\u001b[1;36m.0\u001b[0m\u001b[39m nm, \u001b[0m\u001b[33mwmax\u001b[0m\u001b[39m=\u001b[0m\u001b[1;36m2330\u001b[0m\u001b[1;36m.0\u001b[0m\u001b[39m nm, \u001b[0m\u001b[33mquad\u001b[0m\u001b[39m=\u001b[0m\u001b[1;35mQuad\u001b[0m\u001b[1;39m(\u001b[0m\u001b[33mtype\u001b[0m\u001b[39m=\u001b[0m\u001b[35mQuadType\u001b[0m\u001b[39m.GAUSS_LEGENDRE, \u001b[0m\u001b[33mn\u001b[0m\u001b[39m=\u001b[0m\u001b[1;36m1\u001b[0m\u001b[1;39m)\u001b[0m\u001b[1;39m)\u001b[0m\u001b[39m,\u001b[0m\n",
       "\u001b[39m            \u001b[0m\u001b[1;35mBin\u001b[0m\u001b[1;39m(\u001b[0m\u001b[33mwmin\u001b[0m\u001b[39m=\u001b[0m\u001b[1;36m2330\u001b[0m\u001b[1;36m.0\u001b[0m\u001b[39m nm, \u001b[0m\u001b[33mwmax\u001b[0m\u001b[39m=\u001b[0m\u001b[1;36m2340\u001b[0m\u001b[1;36m.0\u001b[0m\u001b[39m nm, \u001b[0m\u001b[33mquad\u001b[0m\u001b[39m=\u001b[0m\u001b[1;35mQuad\u001b[0m\u001b[1;39m(\u001b[0m\u001b[33mtype\u001b[0m\u001b[39m=\u001b[0m\u001b[35mQuadType\u001b[0m\u001b[39m.GAUSS_LEGENDRE, \u001b[0m\u001b[33mn\u001b[0m\u001b[39m=\u001b[0m\u001b[1;36m1\u001b[0m\u001b[1;39m)\u001b[0m\u001b[1;39m)\u001b[0m\u001b[39m,\u001b[0m\n",
       "\u001b[39m            \u001b[0m\u001b[1;35mBin\u001b[0m\u001b[1;39m(\u001b[0m\u001b[33mwmin\u001b[0m\u001b[39m=\u001b[0m\u001b[1;36m2340\u001b[0m\u001b[1;36m.0\u001b[0m\u001b[39m nm, \u001b[0m\u001b[33mwmax\u001b[0m\u001b[39m=\u001b[0m\u001b[1;36m2350\u001b[0m\u001b[1;36m.0\u001b[0m\u001b[39m nm, \u001b[0m\u001b[33mquad\u001b[0m\u001b[39m=\u001b[0m\u001b[1;35mQuad\u001b[0m\u001b[1;39m(\u001b[0m\u001b[33mtype\u001b[0m\u001b[39m=\u001b[0m\u001b[35mQuadType\u001b[0m\u001b[39m.GAUSS_LEGENDRE, \u001b[0m\u001b[33mn\u001b[0m\u001b[39m=\u001b[0m\u001b[1;36m1\u001b[0m\u001b[1;39m)\u001b[0m\u001b[1;39m)\u001b[0m\u001b[39m,\u001b[0m\n",
       "\u001b[39m            \u001b[0m\u001b[1;35mBin\u001b[0m\u001b[1;39m(\u001b[0m\u001b[33mwmin\u001b[0m\u001b[39m=\u001b[0m\u001b[1;36m2350\u001b[0m\u001b[1;36m.0\u001b[0m\u001b[39m nm, \u001b[0m\u001b[33mwmax\u001b[0m\u001b[39m=\u001b[0m\u001b[1;36m2360\u001b[0m\u001b[1;36m.0\u001b[0m\u001b[39m nm, \u001b[0m\u001b[33mquad\u001b[0m\u001b[39m=\u001b[0m\u001b[1;35mQuad\u001b[0m\u001b[1;39m(\u001b[0m\u001b[33mtype\u001b[0m\u001b[39m=\u001b[0m\u001b[35mQuadType\u001b[0m\u001b[39m.GAUSS_LEGENDRE, \u001b[0m\u001b[33mn\u001b[0m\u001b[39m=\u001b[0m\u001b[1;36m1\u001b[0m\u001b[1;39m)\u001b[0m\u001b[1;39m)\u001b[0m\u001b[39m,\u001b[0m\n",
       "\u001b[39m            \u001b[0m\u001b[1;35mBin\u001b[0m\u001b[1;39m(\u001b[0m\u001b[33mwmin\u001b[0m\u001b[39m=\u001b[0m\u001b[1;36m2360\u001b[0m\u001b[1;36m.0\u001b[0m\u001b[39m nm, \u001b[0m\u001b[33mwmax\u001b[0m\u001b[39m=\u001b[0m\u001b[1;36m2370\u001b[0m\u001b[1;36m.0\u001b[0m\u001b[39m nm, \u001b[0m\u001b[33mquad\u001b[0m\u001b[39m=\u001b[0m\u001b[1;35mQuad\u001b[0m\u001b[1;39m(\u001b[0m\u001b[33mtype\u001b[0m\u001b[39m=\u001b[0m\u001b[35mQuadType\u001b[0m\u001b[39m.GAUSS_LEGENDRE, \u001b[0m\u001b[33mn\u001b[0m\u001b[39m=\u001b[0m\u001b[1;36m1\u001b[0m\u001b[1;39m)\u001b[0m\u001b[1;39m)\u001b[0m\u001b[39m,\u001b[0m\n",
       "\u001b[39m            \u001b[0m\u001b[1;35mBin\u001b[0m\u001b[1;39m(\u001b[0m\u001b[33mwmin\u001b[0m\u001b[39m=\u001b[0m\u001b[1;36m2370\u001b[0m\u001b[1;36m.0\u001b[0m\u001b[39m nm, \u001b[0m\u001b[33mwmax\u001b[0m\u001b[39m=\u001b[0m\u001b[1;36m2380\u001b[0m\u001b[1;36m.0\u001b[0m\u001b[39m nm, \u001b[0m\u001b[33mquad\u001b[0m\u001b[39m=\u001b[0m\u001b[1;35mQuad\u001b[0m\u001b[1;39m(\u001b[0m\u001b[33mtype\u001b[0m\u001b[39m=\u001b[0m\u001b[35mQuadType\u001b[0m\u001b[39m.GAUSS_LEGENDRE, \u001b[0m\u001b[33mn\u001b[0m\u001b[39m=\u001b[0m\u001b[1;36m1\u001b[0m\u001b[1;39m)\u001b[0m\u001b[1;39m)\u001b[0m\u001b[39m,\u001b[0m\n",
       "\u001b[39m            \u001b[0m\u001b[1;35mBin\u001b[0m\u001b[1;39m(\u001b[0m\u001b[33mwmin\u001b[0m\u001b[39m=\u001b[0m\u001b[1;36m2380\u001b[0m\u001b[1;36m.0\u001b[0m\u001b[39m nm, \u001b[0m\u001b[33mwmax\u001b[0m\u001b[39m=\u001b[0m\u001b[1;36m2390\u001b[0m\u001b[1;36m.0\u001b[0m\u001b[39m nm, \u001b[0m\u001b[33mquad\u001b[0m\u001b[39m=\u001b[0m\u001b[1;35mQuad\u001b[0m\u001b[1;39m(\u001b[0m\u001b[33mtype\u001b[0m\u001b[39m=\u001b[0m\u001b[35mQuadType\u001b[0m\u001b[39m.GAUSS_LEGENDRE, \u001b[0m\u001b[33mn\u001b[0m\u001b[39m=\u001b[0m\u001b[1;36m1\u001b[0m\u001b[1;39m)\u001b[0m\u001b[1;39m)\u001b[0m\u001b[39m,\u001b[0m\n",
       "\u001b[39m            \u001b[0m\u001b[1;35mBin\u001b[0m\u001b[1;39m(\u001b[0m\u001b[33mwmin\u001b[0m\u001b[39m=\u001b[0m\u001b[1;36m2390\u001b[0m\u001b[1;36m.0\u001b[0m\u001b[39m nm, \u001b[0m\u001b[33mwmax\u001b[0m\u001b[39m=\u001b[0m\u001b[1;36m2400\u001b[0m\u001b[1;36m.0\u001b[0m\u001b[39m nm, \u001b[0m\u001b[33mquad\u001b[0m\u001b[39m=\u001b[0m\u001b[1;35mQuad\u001b[0m\u001b[1;39m(\u001b[0m\u001b[33mtype\u001b[0m\u001b[39m=\u001b[0m\u001b[35mQuadType\u001b[0m\u001b[39m.GAUSS_LEGENDRE, \u001b[0m\u001b[33mn\u001b[0m\u001b[39m=\u001b[0m\u001b[1;36m1\u001b[0m\u001b[1;39m)\u001b[0m\u001b[1;39m)\u001b[0m\n",
       "\u001b[39m        \u001b[0m\u001b[1;39m]\u001b[0m\n",
       "\u001b[39m    \u001b[0m\u001b[1;39m)\u001b[0m\u001b[39m,\u001b[0m\n",
       "\u001b[39m    \u001b[0m\u001b[33m_spectral_set\u001b[0m\u001b[39m=\u001b[0m\u001b[1;39m{\u001b[0m\n",
       "\u001b[39m        \u001b[0m\u001b[1;36m0\u001b[0m\u001b[39m: \u001b[0m\u001b[1;35mBinSet\u001b[0m\u001b[1;39m(\u001b[0m\n",
       "\u001b[39m            \u001b[0m\u001b[33mbins\u001b[0m\u001b[39m=\u001b[0m\u001b[1;39m[\u001b[0m\u001b[1;35mBin\u001b[0m\u001b[1;39m(\u001b[0m\u001b[33mwmin\u001b[0m\u001b[39m=\u001b[0m\u001b[1;36m540\u001b[0m\u001b[1;36m.0\u001b[0m\u001b[39m nm, \u001b[0m\u001b[33mwmax\u001b[0m\u001b[39m=\u001b[0m\u001b[1;36m550\u001b[0m\u001b[1;36m.0\u001b[0m\u001b[39m nm, \u001b[0m\u001b[33mquad\u001b[0m\u001b[39m=\u001b[0m\u001b[1;35mQuad\u001b[0m\u001b[1;39m(\u001b[0m\u001b[33mtype\u001b[0m\u001b[39m=\u001b[0m\u001b[35mQuadType\u001b[0m\u001b[39m.GAUSS_LEGENDRE, \u001b[0m\u001b[33mn\u001b[0m\u001b[39m=\u001b[0m\u001b[1;36m1\u001b[0m\u001b[1;39m)\u001b[0m\u001b[1;39m)\u001b[0m\u001b[1;39m]\u001b[0m\n",
       "\u001b[39m        \u001b[0m\u001b[1;39m)\u001b[0m\n",
       "\u001b[39m    \u001b[0m\u001b[1;39m}\u001b[0m\u001b[39m,\u001b[0m\n",
       "\u001b[39m    \u001b[0m\u001b[33mquad_spec\u001b[0m\u001b[39m=\u001b[0m\u001b[1;35mQuadSpecFixed\u001b[0m\u001b[1;39m(\u001b[0m\u001b[33mn\u001b[0m\u001b[39m=\u001b[0m\u001b[1;36m1\u001b[0m\u001b[39m, \u001b[0m\u001b[33mquad_type\u001b[0m\u001b[39m=<QuadType.GAUSS_LEGENDRE: \u001b[0m\u001b[32m'gauss_legendre'\u001b[0m\u001b[39m>\u001b[0m\u001b[1;39m)\u001b[0m\u001b[39m,\u001b[0m\n",
       "\u001b[39m    \u001b[0m\u001b[33mextra_objects\u001b[0m\u001b[39m=\u001b[0m\u001b[1;39m{\u001b[0m\u001b[1;39m}\u001b[0m\u001b[39m,\u001b[0m\n",
       "\u001b[39m    \u001b[0m\u001b[33millumination\u001b[0m\u001b[39m=\u001b[0m\u001b[1;35mDirectionalIllumination\u001b[0m\u001b[1;39m(\u001b[0m\n",
       "\u001b[39m        \u001b[0m\u001b[33mid\u001b[0m\u001b[39m=\u001b[0m\u001b[32m'illumination'\u001b[0m\u001b[39m,\u001b[0m\n",
       "\u001b[39m        \u001b[0m\u001b[33mzenith\u001b[0m\u001b[39m=\u001b[0m\u001b[1;36m0\u001b[0m\u001b[1;36m.0\u001b[0m\u001b[39m deg,\u001b[0m\n",
       "\u001b[39m        \u001b[0m\u001b[33mazimuth\u001b[0m\u001b[39m=\u001b[0m\u001b[1;36m0\u001b[0m\u001b[1;36m.0\u001b[0m\u001b[39m deg,\u001b[0m\n",
       "\u001b[39m        \u001b[0m\u001b[33mazimuth_convention\u001b[0m\u001b[39m=<AzimuthConvention.EAST_RIGHT: \u001b[0m\u001b[1;39m(\u001b[0m\u001b[1;36m0.0\u001b[0m\u001b[39m, \u001b[0m\u001b[1;36m1\u001b[0m\u001b[1;39m)\u001b[0m\u001b[39m>,\u001b[0m\n",
       "\u001b[39m        \u001b[0m\u001b[33mirradiance\u001b[0m\u001b[39m=\u001b[0m\u001b[1;35mSolarIrradianceSpectrum\u001b[0m\u001b[1;39m(\u001b[0m\n",
       "\u001b[39m            \u001b[0m\u001b[33mid\u001b[0m\u001b[39m=\u001b[0m\u001b[3;35mNone\u001b[0m\u001b[39m,\u001b[0m\n",
       "\u001b[39m            \u001b[0m\u001b[33mdataset\u001b[0m\u001b[39m=<xarray.Dataset | \u001b[0m\u001b[33msource\u001b[0m\u001b[39m=\u001b[0m\u001b[32m'/home/leroyv/Documents/src/rayference/rtm/eradiate/resources/data/spectra/solar_irradiance/coddington_2021-1_nm.nc'\u001b[0m\u001b[1m>\u001b[0m,\n",
       "            \u001b[33mscale\u001b[0m=\u001b[1;36m1\u001b[0m\u001b[1;36m.0\u001b[0m,\n",
       "            \u001b[33mdatetime\u001b[0m=\u001b[3;35mNone\u001b[0m\n",
       "        \u001b[1m)\u001b[0m\n",
       "    \u001b[1m)\u001b[0m,\n",
       "    \u001b[33mgeometry\u001b[0m=\u001b[1;35mPlaneParallelGeometry\u001b[0m\u001b[1m(\u001b[0m\n",
       "        \u001b[33mtoa_altitude\u001b[0m=\u001b[1;36m120\u001b[0m\u001b[1;36m.0\u001b[0m km,\n",
       "        \u001b[33mground_altitude\u001b[0m=\u001b[1;36m0\u001b[0m\u001b[1;36m.0\u001b[0m km,\n",
       "        \u001b[33mzgrid\u001b[0m=\u001b[1;35mZGrid\u001b[0m\u001b[1m(\u001b[0m\n",
       "            \u001b[33mlevels\u001b[0m=\u001b[1m[\u001b[0m\u001b[1;36m0.0\u001b[0m \u001b[1;36m100.0\u001b[0m \u001b[1;36m200.0\u001b[0m \u001b[33m...\u001b[0m \u001b[1;36m119800.0\u001b[0m \u001b[1;36m119900.0\u001b[0m \u001b[1;36m120000.0\u001b[0m\u001b[1m]\u001b[0m m,\n",
       "            \u001b[33m_layers\u001b[0m=\u001b[1m[\u001b[0m\u001b[1;36m50.0\u001b[0m \u001b[1;36m150.0\u001b[0m \u001b[1;36m250.0\u001b[0m \u001b[33m...\u001b[0m \u001b[1;36m119750.0\u001b[0m \u001b[1;36m119850.0\u001b[0m \u001b[1;36m119950.0\u001b[0m\u001b[1m]\u001b[0m m,\n",
       "            \u001b[33m_layer_height\u001b[0m=\u001b[1;36m100\u001b[0m\u001b[1;36m.0\u001b[0m m,\n",
       "            \u001b[33m_total_height\u001b[0m=\u001b[1;36m120000\u001b[0m\u001b[1;36m.0\u001b[0m m\n",
       "        \u001b[1m)\u001b[0m,\n",
       "        \u001b[33mwidth\u001b[0m=\u001b[1;36m1000000\u001b[0m\u001b[1;36m.0\u001b[0m km\n",
       "    \u001b[1m)\u001b[0m,\n",
       "    \u001b[33matmosphere\u001b[0m=\u001b[1;35mHomogeneousAtmosphere\u001b[0m\u001b[1m(\u001b[0m\n",
       "        \u001b[33mid\u001b[0m=\u001b[32m'atmosphere'\u001b[0m,\n",
       "        \u001b[33mgeometry\u001b[0m=\u001b[1;35mPlaneParallelGeometry\u001b[0m\u001b[1m(\u001b[0m\n",
       "            \u001b[33mtoa_altitude\u001b[0m=\u001b[1;36m120\u001b[0m\u001b[1;36m.0\u001b[0m km,\n",
       "            \u001b[33mground_altitude\u001b[0m=\u001b[1;36m0\u001b[0m\u001b[1;36m.0\u001b[0m km,\n",
       "            \u001b[33mzgrid\u001b[0m=\u001b[1;35mZGrid\u001b[0m\u001b[1m(\u001b[0m\n",
       "                \u001b[33mlevels\u001b[0m=\u001b[1m[\u001b[0m\u001b[1;36m0.0\u001b[0m \u001b[1;36m100.0\u001b[0m \u001b[1;36m200.0\u001b[0m \u001b[33m...\u001b[0m \u001b[1;36m119800.0\u001b[0m \u001b[1;36m119900.0\u001b[0m \u001b[1;36m120000.0\u001b[0m\u001b[1m]\u001b[0m m,\n",
       "                \u001b[33m_layers\u001b[0m=\u001b[1m[\u001b[0m\u001b[1;36m50.0\u001b[0m \u001b[1;36m150.0\u001b[0m \u001b[1;36m250.0\u001b[0m \u001b[33m...\u001b[0m \u001b[1;36m119750.0\u001b[0m \u001b[1;36m119850.0\u001b[0m \u001b[1;36m119950.0\u001b[0m\u001b[1m]\u001b[0m m,\n",
       "                \u001b[33m_layer_height\u001b[0m=\u001b[1;36m100\u001b[0m\u001b[1;36m.0\u001b[0m m,\n",
       "                \u001b[33m_total_height\u001b[0m=\u001b[1;36m120000\u001b[0m\u001b[1;36m.0\u001b[0m m\n",
       "            \u001b[1m)\u001b[0m,\n",
       "            \u001b[33mwidth\u001b[0m=\u001b[1;36m1000000\u001b[0m\u001b[1;36m.0\u001b[0m km\n",
       "        \u001b[1m)\u001b[0m,\n",
       "        \u001b[33msigma_s\u001b[0m=\u001b[1;35mAirScatteringCoefficientSpectrum\u001b[0m\u001b[1m(\u001b[0m\u001b[33mid\u001b[0m=\u001b[3;35mNone\u001b[0m\u001b[1m)\u001b[0m,\n",
       "        \u001b[33msigma_a\u001b[0m=\u001b[1;35mUniformSpectrum\u001b[0m\u001b[1m(\u001b[0m\u001b[33mid\u001b[0m=\u001b[3;35mNone\u001b[0m, \u001b[33mquantity\u001b[0m=\u001b[35mCOLLISION_COEFFICIENT\u001b[0m, \u001b[33mvalue\u001b[0m=\u001b[1;36m0\u001b[0m\u001b[1;36m.0\u001b[0m \u001b[1;36m1\u001b[0m/m\u001b[1m)\u001b[0m,\n",
       "        \u001b[33m_phase\u001b[0m=\u001b[1;35mRayleighPhaseFunction\u001b[0m\u001b[1m(\u001b[0m\u001b[33mid\u001b[0m=\u001b[32m'phase_atmosphere'\u001b[0m\u001b[1m)\u001b[0m\n",
       "    \u001b[1m)\u001b[0m,\n",
       "    \u001b[33msurface\u001b[0m=\u001b[1;35mBasicSurface\u001b[0m\u001b[1m(\u001b[0m\n",
       "        \u001b[33mid\u001b[0m=\u001b[32m'surface'\u001b[0m,\n",
       "        \u001b[33mshape\u001b[0m=\u001b[3;35mNone\u001b[0m,\n",
       "        \u001b[33mbsdf\u001b[0m=\u001b[1;35mLambertianBSDF\u001b[0m\u001b[1m(\u001b[0m\n",
       "            \u001b[33mid\u001b[0m=\u001b[32m'surface_bsdf'\u001b[0m,\n",
       "            \u001b[33mreflectance\u001b[0m=\u001b[1;35mUniformSpectrum\u001b[0m\u001b[1m(\u001b[0m\u001b[33mid\u001b[0m=\u001b[3;35mNone\u001b[0m, \u001b[33mquantity\u001b[0m=\u001b[35mREFLECTANCE\u001b[0m, \u001b[33mvalue\u001b[0m=\u001b[1;36m0\u001b[0m\u001b[1;36m.5\u001b[0m\u001b[1m)\u001b[0m\n",
       "        \u001b[1m)\u001b[0m\n",
       "    \u001b[1m)\u001b[0m,\n",
       "    \u001b[33m_integrator\u001b[0m=\u001b[1;35mVolPathIntegrator\u001b[0m\u001b[1m(\u001b[0m\n",
       "        \u001b[33mid\u001b[0m=\u001b[32m'integrator'\u001b[0m,\n",
       "        \u001b[33mtimeout\u001b[0m=\u001b[3;35mNone\u001b[0m,\n",
       "        \u001b[33mmax_depth\u001b[0m=\u001b[3;35mNone\u001b[0m,\n",
       "        \u001b[33mrr_depth\u001b[0m=\u001b[3;35mNone\u001b[0m,\n",
       "        \u001b[33mhide_emitters\u001b[0m=\u001b[3;35mNone\u001b[0m\n",
       "    \u001b[1m)\u001b[0m\n",
       "\u001b[1m)\u001b[0m"
      ]
     },
     "execution_count": 6,
     "metadata": {},
     "output_type": "execute_result"
    }
   ],
   "source": [
    "eradiate.experiments.AtmosphereExperiment()"
   ]
  },
  {
   "cell_type": "markdown",
   "id": "f130a36d-1fd9-4ee0-a2d6-a3bee74c4836",
   "metadata": {},
   "source": [
    "A second consequence is that progress display control now works as expected:"
   ]
  },
  {
   "cell_type": "code",
   "execution_count": 7,
   "id": "d8166b68-27f0-46f7-abea-47ef6a730219",
   "metadata": {
    "execution": {
     "iopub.execute_input": "2023-12-18T10:06:52.527636Z",
     "iopub.status.busy": "2023-12-18T10:06:52.527491Z",
     "iopub.status.idle": "2023-12-18T10:06:52.568778Z",
     "shell.execute_reply": "2023-12-18T10:06:52.568295Z"
    }
   },
   "outputs": [
    {
     "data": {
      "application/vnd.jupyter.widget-view+json": {
       "model_id": "ddcdf795f4944d5d83291e9a2a050ae7",
       "version_major": 2,
       "version_minor": 0
      },
      "text/plain": [
       "Mitsuba:   0%|          | 00:00, ETA=?"
      ]
     },
     "metadata": {},
     "output_type": "display_data"
    }
   ],
   "source": [
    "eradiate.config.progress = \"KERNEL\"\n",
    "eradiate.run(exp);"
   ]
  },
  {
   "cell_type": "code",
   "execution_count": 8,
   "id": "488ba707-58cc-45c4-9cc4-82ba0a9232f5",
   "metadata": {
    "execution": {
     "iopub.execute_input": "2023-12-18T10:06:52.570383Z",
     "iopub.status.busy": "2023-12-18T10:06:52.570262Z",
     "iopub.status.idle": "2023-12-18T10:06:52.601057Z",
     "shell.execute_reply": "2023-12-18T10:06:52.600684Z"
    }
   },
   "outputs": [],
   "source": [
    "eradiate.config.progress = \"SPECTRAL_LOOP\"\n",
    "eradiate.run(exp);"
   ]
  },
  {
   "cell_type": "raw",
   "id": "445367d7-6fbb-4a42-9dca-1264c7cef24a",
   "metadata": {
    "raw_mimetype": "text/restructuredtext",
    "tags": []
   },
   "source": [
    "----\n",
    "\n",
    "Further reading\n",
    "---------------\n",
    "\n",
    "The extension can also be activated by an explicit call to :func:`eradiate.notebook.install`, which allows for further customisation."
   ]
  }
 ],
 "metadata": {
  "kernelspec": {
   "display_name": "Python 3 (ipykernel)",
   "language": "python",
   "name": "python3"
  },
  "language_info": {
   "codemirror_mode": {
    "name": "ipython",
    "version": 3
   },
   "file_extension": ".py",
   "mimetype": "text/x-python",
   "name": "python",
   "nbconvert_exporter": "python",
   "pygments_lexer": "ipython3",
   "version": "3.8.18"
  },
  "widgets": {
   "application/vnd.jupyter.widget-state+json": {
    "state": {
     "1c571606199549d9845faf41180b8bca": {
      "model_module": "@jupyter-widgets/base",
      "model_module_version": "2.0.0",
      "model_name": "LayoutModel",
      "state": {
       "_model_module": "@jupyter-widgets/base",
       "_model_module_version": "2.0.0",
       "_model_name": "LayoutModel",
       "_view_count": null,
       "_view_module": "@jupyter-widgets/base",
       "_view_module_version": "2.0.0",
       "_view_name": "LayoutView",
       "align_content": null,
       "align_items": null,
       "align_self": null,
       "border_bottom": null,
       "border_left": null,
       "border_right": null,
       "border_top": null,
       "bottom": null,
       "display": null,
       "flex": null,
       "flex_flow": null,
       "grid_area": null,
       "grid_auto_columns": null,
       "grid_auto_flow": null,
       "grid_auto_rows": null,
       "grid_column": null,
       "grid_gap": null,
       "grid_row": null,
       "grid_template_areas": null,
       "grid_template_columns": null,
       "grid_template_rows": null,
       "height": null,
       "justify_content": null,
       "justify_items": null,
       "left": null,
       "margin": null,
       "max_height": null,
       "max_width": null,
       "min_height": null,
       "min_width": null,
       "object_fit": null,
       "object_position": null,
       "order": null,
       "overflow": null,
       "padding": null,
       "right": null,
       "top": null,
       "visibility": null,
       "width": null
      }
     },
     "1cfc187979f84b7692bd575cbe7c8bd0": {
      "model_module": "@jupyter-widgets/controls",
      "model_module_version": "2.0.0",
      "model_name": "HTMLStyleModel",
      "state": {
       "_model_module": "@jupyter-widgets/controls",
       "_model_module_version": "2.0.0",
       "_model_name": "HTMLStyleModel",
       "_view_count": null,
       "_view_module": "@jupyter-widgets/base",
       "_view_module_version": "2.0.0",
       "_view_name": "StyleView",
       "background": null,
       "description_width": "",
       "font_size": null,
       "text_color": null
      }
     },
     "2c2bba5bfa5044b4891782808b11b2b1": {
      "model_module": "@jupyter-widgets/controls",
      "model_module_version": "2.0.0",
      "model_name": "ProgressStyleModel",
      "state": {
       "_model_module": "@jupyter-widgets/controls",
       "_model_module_version": "2.0.0",
       "_model_name": "ProgressStyleModel",
       "_view_count": null,
       "_view_module": "@jupyter-widgets/base",
       "_view_module_version": "2.0.0",
       "_view_name": "StyleView",
       "bar_color": null,
       "description_width": ""
      }
     },
     "3109698e77d542b68cd24ba1595e68e7": {
      "model_module": "@jupyter-widgets/controls",
      "model_module_version": "2.0.0",
      "model_name": "HTMLStyleModel",
      "state": {
       "_model_module": "@jupyter-widgets/controls",
       "_model_module_version": "2.0.0",
       "_model_name": "HTMLStyleModel",
       "_view_count": null,
       "_view_module": "@jupyter-widgets/base",
       "_view_module_version": "2.0.0",
       "_view_name": "StyleView",
       "background": null,
       "description_width": "",
       "font_size": null,
       "text_color": null
      }
     },
     "3d5ccf8493884d8598dd4dab0dfad2ea": {
      "model_module": "@jupyter-widgets/base",
      "model_module_version": "2.0.0",
      "model_name": "LayoutModel",
      "state": {
       "_model_module": "@jupyter-widgets/base",
       "_model_module_version": "2.0.0",
       "_model_name": "LayoutModel",
       "_view_count": null,
       "_view_module": "@jupyter-widgets/base",
       "_view_module_version": "2.0.0",
       "_view_name": "LayoutView",
       "align_content": null,
       "align_items": null,
       "align_self": null,
       "border_bottom": null,
       "border_left": null,
       "border_right": null,
       "border_top": null,
       "bottom": null,
       "display": null,
       "flex": null,
       "flex_flow": null,
       "grid_area": null,
       "grid_auto_columns": null,
       "grid_auto_flow": null,
       "grid_auto_rows": null,
       "grid_column": null,
       "grid_gap": null,
       "grid_row": null,
       "grid_template_areas": null,
       "grid_template_columns": null,
       "grid_template_rows": null,
       "height": null,
       "justify_content": null,
       "justify_items": null,
       "left": null,
       "margin": null,
       "max_height": null,
       "max_width": null,
       "min_height": null,
       "min_width": null,
       "object_fit": null,
       "object_position": null,
       "order": null,
       "overflow": null,
       "padding": null,
       "right": null,
       "top": null,
       "visibility": null,
       "width": null
      }
     },
     "5573a6e725004cf8bae2eadf1c643982": {
      "model_module": "@jupyter-widgets/base",
      "model_module_version": "2.0.0",
      "model_name": "LayoutModel",
      "state": {
       "_model_module": "@jupyter-widgets/base",
       "_model_module_version": "2.0.0",
       "_model_name": "LayoutModel",
       "_view_count": null,
       "_view_module": "@jupyter-widgets/base",
       "_view_module_version": "2.0.0",
       "_view_name": "LayoutView",
       "align_content": null,
       "align_items": null,
       "align_self": null,
       "border_bottom": null,
       "border_left": null,
       "border_right": null,
       "border_top": null,
       "bottom": null,
       "display": null,
       "flex": null,
       "flex_flow": null,
       "grid_area": null,
       "grid_auto_columns": null,
       "grid_auto_flow": null,
       "grid_auto_rows": null,
       "grid_column": null,
       "grid_gap": null,
       "grid_row": null,
       "grid_template_areas": null,
       "grid_template_columns": null,
       "grid_template_rows": null,
       "height": null,
       "justify_content": null,
       "justify_items": null,
       "left": null,
       "margin": null,
       "max_height": null,
       "max_width": null,
       "min_height": null,
       "min_width": null,
       "object_fit": null,
       "object_position": null,
       "order": null,
       "overflow": null,
       "padding": null,
       "right": null,
       "top": null,
       "visibility": null,
       "width": null
      }
     },
     "7fe04a6236104f87bb288603dce495b5": {
      "model_module": "@jupyter-widgets/controls",
      "model_module_version": "2.0.0",
      "model_name": "HTMLModel",
      "state": {
       "_dom_classes": [],
       "_model_module": "@jupyter-widgets/controls",
       "_model_module_version": "2.0.0",
       "_model_name": "HTMLModel",
       "_view_count": null,
       "_view_module": "@jupyter-widgets/controls",
       "_view_module_version": "2.0.0",
       "_view_name": "HTMLView",
       "description": "",
       "description_allow_html": false,
       "layout": "IPY_MODEL_9019c5c69ecf49879b2a48fcb4e9fc0c",
       "placeholder": "​",
       "style": "IPY_MODEL_1cfc187979f84b7692bd575cbe7c8bd0",
       "tabbable": null,
       "tooltip": null,
       "value": " 00:00, ETA=00:00"
      }
     },
     "9019c5c69ecf49879b2a48fcb4e9fc0c": {
      "model_module": "@jupyter-widgets/base",
      "model_module_version": "2.0.0",
      "model_name": "LayoutModel",
      "state": {
       "_model_module": "@jupyter-widgets/base",
       "_model_module_version": "2.0.0",
       "_model_name": "LayoutModel",
       "_view_count": null,
       "_view_module": "@jupyter-widgets/base",
       "_view_module_version": "2.0.0",
       "_view_name": "LayoutView",
       "align_content": null,
       "align_items": null,
       "align_self": null,
       "border_bottom": null,
       "border_left": null,
       "border_right": null,
       "border_top": null,
       "bottom": null,
       "display": null,
       "flex": null,
       "flex_flow": null,
       "grid_area": null,
       "grid_auto_columns": null,
       "grid_auto_flow": null,
       "grid_auto_rows": null,
       "grid_column": null,
       "grid_gap": null,
       "grid_row": null,
       "grid_template_areas": null,
       "grid_template_columns": null,
       "grid_template_rows": null,
       "height": null,
       "justify_content": null,
       "justify_items": null,
       "left": null,
       "margin": null,
       "max_height": null,
       "max_width": null,
       "min_height": null,
       "min_width": null,
       "object_fit": null,
       "object_position": null,
       "order": null,
       "overflow": null,
       "padding": null,
       "right": null,
       "top": null,
       "visibility": null,
       "width": null
      }
     },
     "99985a3a248c4dec9ab62a540ef66cfc": {
      "model_module": "@jupyter-widgets/controls",
      "model_module_version": "2.0.0",
      "model_name": "FloatProgressModel",
      "state": {
       "_dom_classes": [],
       "_model_module": "@jupyter-widgets/controls",
       "_model_module_version": "2.0.0",
       "_model_name": "FloatProgressModel",
       "_view_count": null,
       "_view_module": "@jupyter-widgets/controls",
       "_view_module_version": "2.0.0",
       "_view_name": "ProgressView",
       "bar_style": "success",
       "description": "",
       "description_allow_html": false,
       "layout": "IPY_MODEL_1c571606199549d9845faf41180b8bca",
       "max": 1.0,
       "min": 0.0,
       "orientation": "horizontal",
       "style": "IPY_MODEL_2c2bba5bfa5044b4891782808b11b2b1",
       "tabbable": null,
       "tooltip": null,
       "value": 1.0
      }
     },
     "a3dc5d3a5f7442ab839d3fbf4ce1deed": {
      "model_module": "@jupyter-widgets/controls",
      "model_module_version": "2.0.0",
      "model_name": "HTMLModel",
      "state": {
       "_dom_classes": [],
       "_model_module": "@jupyter-widgets/controls",
       "_model_module_version": "2.0.0",
       "_model_name": "HTMLModel",
       "_view_count": null,
       "_view_module": "@jupyter-widgets/controls",
       "_view_module_version": "2.0.0",
       "_view_name": "HTMLView",
       "description": "",
       "description_allow_html": false,
       "layout": "IPY_MODEL_5573a6e725004cf8bae2eadf1c643982",
       "placeholder": "​",
       "style": "IPY_MODEL_3109698e77d542b68cd24ba1595e68e7",
       "tabbable": null,
       "tooltip": null,
       "value": "Mitsuba: 100%"
      }
     },
     "ddcdf795f4944d5d83291e9a2a050ae7": {
      "model_module": "@jupyter-widgets/controls",
      "model_module_version": "2.0.0",
      "model_name": "HBoxModel",
      "state": {
       "_dom_classes": [],
       "_model_module": "@jupyter-widgets/controls",
       "_model_module_version": "2.0.0",
       "_model_name": "HBoxModel",
       "_view_count": null,
       "_view_module": "@jupyter-widgets/controls",
       "_view_module_version": "2.0.0",
       "_view_name": "HBoxView",
       "box_style": "",
       "children": [
        "IPY_MODEL_a3dc5d3a5f7442ab839d3fbf4ce1deed",
        "IPY_MODEL_99985a3a248c4dec9ab62a540ef66cfc",
        "IPY_MODEL_7fe04a6236104f87bb288603dce495b5"
       ],
       "layout": "IPY_MODEL_3d5ccf8493884d8598dd4dab0dfad2ea",
       "tabbable": null,
       "tooltip": null
      }
     }
    },
    "version_major": 2,
    "version_minor": 0
   }
  }
 },
 "nbformat": 4,
 "nbformat_minor": 5
}
