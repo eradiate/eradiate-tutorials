{
 "cells": [
  {
   "cell_type": "code",
   "execution_count": 1,
   "id": "a7fc04f9-71a7-4f27-934a-3b6bac5a1644",
   "metadata": {
    "execution": {
     "iopub.execute_input": "2024-05-28T09:40:29.817328Z",
     "iopub.status.busy": "2024-05-28T09:40:29.817214Z",
     "iopub.status.idle": "2024-05-28T09:40:31.183987Z",
     "shell.execute_reply": "2024-05-28T09:40:31.183595Z"
    }
   },
   "outputs": [
    {
     "data": {
      "text/markdown": [
       "*Last updated: 2024-05-28 11:40 (eradiate v0.27.0rc2.dev10+g2e49409d.d20240527)*"
      ],
      "text/plain": [
       "<IPython.core.display.Markdown object>"
      ]
     },
     "metadata": {},
     "output_type": "display_data"
    }
   ],
   "source": [
    "%reload_ext eradiate.notebook.tutorials"
   ]
  },
  {
   "cell_type": "raw",
   "id": "971f68db-825d-4902-b58a-8f041e0d125e",
   "metadata": {
    "raw_mimetype": "text/restructuredtext",
    "tags": []
   },
   "source": [
    "A better notebook experience\n",
    "============================\n",
    "\n",
    ".. admonition:: Overview\n",
    "\n",
    "   This tutorial demonstrates features which make the experience of using Eradiate in a Jupyter notebook more enjoyable.\n",
    "\n",
    ".. admonition:: What you will learn\n",
    "\n",
    "   * How to load the Eradiate IPython extension.\n",
    "   * How it improves the notebook experience.\n",
    "\n",
    "----"
   ]
  },
  {
   "cell_type": "markdown",
   "id": "d44bc6da-959d-4baa-b240-5b9385776d12",
   "metadata": {},
   "source": [
    "First, we load Eradiate and select the CKD mode."
   ]
  },
  {
   "cell_type": "code",
   "execution_count": 2,
   "id": "24c9832c-1bf4-4682-ae06-3283557a63e8",
   "metadata": {
    "execution": {
     "iopub.execute_input": "2024-05-28T09:40:31.186084Z",
     "iopub.status.busy": "2024-05-28T09:40:31.185777Z",
     "iopub.status.idle": "2024-05-28T09:40:31.188231Z",
     "shell.execute_reply": "2024-05-28T09:40:31.187966Z"
    }
   },
   "outputs": [],
   "source": [
    "import eradiate\n",
    "from eradiate import unit_registry as ureg\n",
    "\n",
    "eradiate.set_mode(\"ckd\")"
   ]
  },
  {
   "cell_type": "markdown",
   "id": "43b897fe-77e6-460e-bf79-7cea70f4c18e",
   "metadata": {},
   "source": [
    "Let's define a very simulation with a single spectral bin, then visualise it:"
   ]
  },
  {
   "cell_type": "code",
   "execution_count": 3,
   "id": "f7d1f204-3b28-4d0c-8a06-ade964a797c1",
   "metadata": {
    "execution": {
     "iopub.execute_input": "2024-05-28T09:40:31.189697Z",
     "iopub.status.busy": "2024-05-28T09:40:31.189587Z",
     "iopub.status.idle": "2024-05-28T09:40:31.388299Z",
     "shell.execute_reply": "2024-05-28T09:40:31.387929Z"
    }
   },
   "outputs": [
    {
     "data": {
      "text/plain": [
       "AtmosphereExperiment(measures=[MultiDistantMeasure(id='measure', mi_results={}, srf=MultiDeltaSpectrum(id=None, quantity=DIMENSIONLESS, wavelengths=[550.] nm), sampler='independent', rfilter='box', spp=1000, target=TargetPoint(xyz=[0.0 0.0 0.0] m), ray_offset=None, direction_layout=HemispherePlaneLayout(azimuth_convention=<AzimuthConvention.EAST_RIGHT: (0.0, 1)>, zeniths=[-30   0  30] deg, azimuth=0 deg))], quad_spec=QuadSpecFixed(n=16, quad_type=<QuadType.GAUSS_LEGENDRE: 'gauss_legendre'>), extra_objects={}, illumination=DirectionalIllumination(id='illumination', zenith=0.0 deg, azimuth=0.0 deg, azimuth_convention=<AzimuthConvention.EAST_RIGHT: (0.0, 1)>, irradiance=SolarIrradianceSpectrum(id=None, dataset=<xarray.Dataset | source='/home/leroyv/Documents/src/rayference/rtm/eradiate/resources/data/spectra/solar_irradiance/coddington_2021-1_nm.nc'>, scale=1.0, datetime=None)), geometry=PlaneParallelGeometry(toa_altitude=120.0 km, ground_altitude=0.0 km, zgrid=ZGrid(levels=[0.0 100.0 200.0 ... 119800.0 119900.0 120000.0] m, _layers=[50.0 150.0 250.0 ... 119750.0 119850.0 119950.0] m, _layer_height=100.0 m, _total_height=120000.0 m), width=1000000.0 km), atmosphere=HomogeneousAtmosphere(id='atmosphere', geometry=PlaneParallelGeometry(toa_altitude=120.0 km, ground_altitude=0.0 km, zgrid=ZGrid(levels=[0.0 100.0 200.0 ... 119800.0 119900.0 120000.0] m, _layers=[50.0 150.0 250.0 ... 119750.0 119850.0 119950.0] m, _layer_height=100.0 m, _total_height=120000.0 m), width=1000000.0 km), sigma_s=AirScatteringCoefficientSpectrum(id=None), sigma_a=UniformSpectrum(id=None, quantity=COLLISION_COEFFICIENT, value=0.0 1/m), _phase=RayleighPhaseFunction(id='phase_atmosphere')), surface=BasicSurface(id='surface', shape=None, bsdf=LambertianBSDF(id='surface_bsdf', reflectance=UniformSpectrum(id=None, quantity=REFLECTANCE, value=0.5))), _integrator=VolPathIntegrator(id='integrator', timeout=None, max_depth=None, rr_depth=None, hide_emitters=None))"
      ]
     },
     "execution_count": 3,
     "metadata": {},
     "output_type": "execute_result"
    }
   ],
   "source": [
    "# Basic behaviour: looks bad\n",
    "exp = eradiate.experiments.AtmosphereExperiment(\n",
    "    measures={\n",
    "        \"type\": \"mdistant\",\n",
    "        \"construct\": \"hplane\",\n",
    "        \"zeniths\": [-30, 0, 30],\n",
    "        \"azimuth\": 0,\n",
    "        \"srf\": {\n",
    "            \"type\": \"multi_delta\",\n",
    "            \"wavelengths\": 550.0 * ureg.nm,\n",
    "        },\n",
    "    }\n",
    ")\n",
    "exp"
   ]
  },
  {
   "cell_type": "markdown",
   "id": "f414b3a1-89b4-4c14-946b-5a127bca1f7e",
   "metadata": {},
   "source": [
    "Arguably, this ouput is impractical and makes the process of inspecting the contents of the `OneDimExperiment` instance quite challenging. Anyway, let's run the corresponding simulation:"
   ]
  },
  {
   "cell_type": "code",
   "execution_count": 4,
   "id": "6360a8d9-b8df-4617-b388-bccab9158e13",
   "metadata": {
    "execution": {
     "iopub.execute_input": "2024-05-28T09:40:31.390034Z",
     "iopub.status.busy": "2024-05-28T09:40:31.389910Z",
     "iopub.status.idle": "2024-05-28T09:40:31.457695Z",
     "shell.execute_reply": "2024-05-28T09:40:31.457357Z"
    }
   },
   "outputs": [],
   "source": [
    "eradiate.run(exp);"
   ]
  },
  {
   "cell_type": "raw",
   "id": "a4ed4de0-2413-40ee-9d18-54fcbe0a1fe7",
   "metadata": {
    "raw_mimetype": "text/restructuredtext",
    "tags": []
   },
   "source": [
    "The produced output is uncontrolled and mixes progress information coming from Eradiate (the \"Spectral loop\" progress bar), but also from the Mitsuba radiometric kernel (the \"Rendering\" progress bar). A notable consequence is that changing the progress level using :attr:`config.progress <eradiate._config.EradiateConfig.progress>` to suppress Mitsuba's progress will not have the expected effect."
   ]
  },
  {
   "cell_type": "markdown",
   "id": "7486147a-c4ee-4f0f-9341-002ffeaab9f7",
   "metadata": {},
   "source": [
    "This can be improved by loading Eradiate's IPython extension as follows:"
   ]
  },
  {
   "cell_type": "code",
   "execution_count": 5,
   "id": "79dac2db-9792-4a3d-b9e7-e6943461a5ba",
   "metadata": {
    "execution": {
     "iopub.execute_input": "2024-05-28T09:40:31.459313Z",
     "iopub.status.busy": "2024-05-28T09:40:31.459189Z",
     "iopub.status.idle": "2024-05-28T09:40:31.464672Z",
     "shell.execute_reply": "2024-05-28T09:40:31.464373Z"
    }
   },
   "outputs": [],
   "source": [
    "%load_ext eradiate"
   ]
  },
  {
   "cell_type": "markdown",
   "id": "8286f1f4-1e8a-4dbe-b7d4-ff2dc55e1ba4",
   "metadata": {},
   "source": [
    "This automatically loads [Rich](https://rich.readthedocs.io/)'s \"pretty\" and \"traceback\" extensions, and it redirects Mitsuba's logs and progress to, respectively, the standard Python [logging](https://docs.python.org/3/library/logging.html) framework and the [tqdm](https://tqdm.github.io/) library.\n",
    "\n",
    "A first noticeable effect is that all objects created using the [attrs](https://www.attrs.org) framework are pretty-printed and are consequently much more readable:"
   ]
  },
  {
   "cell_type": "code",
   "execution_count": 6,
   "id": "478b060a-5dbd-493d-90f4-efa3ab5c7c9d",
   "metadata": {
    "execution": {
     "iopub.execute_input": "2024-05-28T09:40:31.466147Z",
     "iopub.status.busy": "2024-05-28T09:40:31.466028Z",
     "iopub.status.idle": "2024-05-28T09:40:31.554208Z",
     "shell.execute_reply": "2024-05-28T09:40:31.553863Z"
    }
   },
   "outputs": [
    {
     "data": {
      "text/html": [
       "<pre style=\"white-space:pre;overflow-x:auto;line-height:normal;font-family:Menlo,'DejaVu Sans Mono',consolas,'Courier New',monospace\"></pre>\n"
      ],
      "text/plain": []
     },
     "metadata": {},
     "output_type": "display_data"
    },
    {
     "data": {
      "text/plain": [
       "\n",
       "\u001b[1;35mAtmosphereExperiment\u001b[0m\u001b[1m(\u001b[0m\n",
       "    \u001b[33mmeasures\u001b[0m=\u001b[1m[\u001b[0m\n",
       "        \u001b[1;35mMultiDistantMeasure\u001b[0m\u001b[1m(\u001b[0m\n",
       "            \u001b[33mid\u001b[0m=\u001b[32m'measure'\u001b[0m,\n",
       "            \u001b[33mmi_results\u001b[0m=\u001b[1m{\u001b[0m\u001b[1m}\u001b[0m,\n",
       "            \u001b[33msrf\u001b[0m=\u001b[1;35mMultiDeltaSpectrum\u001b[0m\u001b[1m(\u001b[0m\u001b[33mid\u001b[0m=\u001b[3;35mNone\u001b[0m, \u001b[33mquantity\u001b[0m=\u001b[35mDIMENSIONLESS\u001b[0m, \u001b[33mwavelengths\u001b[0m=\u001b[1m[\u001b[0m\u001b[1;36m550\u001b[0m.\u001b[1m]\u001b[0m nm\u001b[1m)\u001b[0m,\n",
       "            \u001b[33msampler\u001b[0m=\u001b[32m'independent'\u001b[0m,\n",
       "            \u001b[33mrfilter\u001b[0m=\u001b[32m'box'\u001b[0m,\n",
       "            \u001b[33mspp\u001b[0m=\u001b[1;36m1000\u001b[0m,\n",
       "            \u001b[33mtarget\u001b[0m=\u001b[1;35mTargetPoint\u001b[0m\u001b[1m(\u001b[0m\u001b[33mxyz\u001b[0m=\u001b[1m[\u001b[0m\u001b[1;36m0.0\u001b[0m \u001b[1;36m0.0\u001b[0m \u001b[1;36m0.0\u001b[0m\u001b[1m]\u001b[0m m\u001b[1m)\u001b[0m,\n",
       "            \u001b[33mray_offset\u001b[0m=\u001b[3;35mNone\u001b[0m,\n",
       "            \u001b[33mdirection_layout\u001b[0m=\u001b[1;35mDirectionLayout\u001b[0m\u001b[1m(\u001b[0m\n",
       "                \u001b[33mazimuth_convention\u001b[0m=\u001b[1m<\u001b[0m\u001b[1;95mAzimuthConvention.EAST_RIGHT:\u001b[0m\u001b[39m \u001b[0m\u001b[1;39m(\u001b[0m\u001b[1;36m0.0\u001b[0m\u001b[39m, \u001b[0m\u001b[1;36m1\u001b[0m\u001b[1;39m)\u001b[0m\u001b[39m>,\u001b[0m\n",
       "\u001b[39m                \u001b[0m\u001b[33m_directions\u001b[0m\u001b[39m=\u001b[0m\u001b[1;35marray\u001b[0m\u001b[1;39m(\u001b[0m\u001b[1;39m[\u001b[0m\u001b[1;39m[\u001b[0m\u001b[1;36m0\u001b[0m\u001b[39m, \u001b[0m\u001b[1;36m0\u001b[0m\u001b[39m, \u001b[0m\u001b[1;36m1\u001b[0m\u001b[1;39m]\u001b[0m\u001b[1;39m]\u001b[0m\u001b[1;39m)\u001b[0m\n",
       "\u001b[39m            \u001b[0m\u001b[1;39m)\u001b[0m\n",
       "\u001b[39m        \u001b[0m\u001b[1;39m)\u001b[0m\n",
       "\u001b[39m    \u001b[0m\u001b[1;39m]\u001b[0m\u001b[39m,\u001b[0m\n",
       "\u001b[39m    \u001b[0m\u001b[33mquad_spec\u001b[0m\u001b[39m=\u001b[0m\u001b[1;35mQuadSpecFixed\u001b[0m\u001b[1;39m(\u001b[0m\u001b[33mn\u001b[0m\u001b[39m=\u001b[0m\u001b[1;36m16\u001b[0m\u001b[39m, \u001b[0m\u001b[33mquad_type\u001b[0m\u001b[39m=<QuadType.GAUSS_LEGENDRE: \u001b[0m\u001b[32m'gauss_legendre'\u001b[0m\u001b[39m>\u001b[0m\u001b[1;39m)\u001b[0m\u001b[39m,\u001b[0m\n",
       "\u001b[39m    \u001b[0m\u001b[33mextra_objects\u001b[0m\u001b[39m=\u001b[0m\u001b[1;39m{\u001b[0m\u001b[1;39m}\u001b[0m\u001b[39m,\u001b[0m\n",
       "\u001b[39m    \u001b[0m\u001b[33millumination\u001b[0m\u001b[39m=\u001b[0m\u001b[1;35mDirectionalIllumination\u001b[0m\u001b[1;39m(\u001b[0m\n",
       "\u001b[39m        \u001b[0m\u001b[33mid\u001b[0m\u001b[39m=\u001b[0m\u001b[32m'illumination'\u001b[0m\u001b[39m,\u001b[0m\n",
       "\u001b[39m        \u001b[0m\u001b[33mzenith\u001b[0m\u001b[39m=\u001b[0m\u001b[1;36m0\u001b[0m\u001b[1;36m.0\u001b[0m\u001b[39m deg,\u001b[0m\n",
       "\u001b[39m        \u001b[0m\u001b[33mazimuth\u001b[0m\u001b[39m=\u001b[0m\u001b[1;36m0\u001b[0m\u001b[1;36m.0\u001b[0m\u001b[39m deg,\u001b[0m\n",
       "\u001b[39m        \u001b[0m\u001b[33mazimuth_convention\u001b[0m\u001b[39m=<AzimuthConvention.EAST_RIGHT: \u001b[0m\u001b[1;39m(\u001b[0m\u001b[1;36m0.0\u001b[0m\u001b[39m, \u001b[0m\u001b[1;36m1\u001b[0m\u001b[1;39m)\u001b[0m\u001b[39m>,\u001b[0m\n",
       "\u001b[39m        \u001b[0m\u001b[33mirradiance\u001b[0m\u001b[39m=\u001b[0m\u001b[1;35mSolarIrradianceSpectrum\u001b[0m\u001b[1;39m(\u001b[0m\n",
       "\u001b[39m            \u001b[0m\u001b[33mid\u001b[0m\u001b[39m=\u001b[0m\u001b[3;35mNone\u001b[0m\u001b[39m,\u001b[0m\n",
       "\u001b[39m            \u001b[0m\u001b[33mdataset\u001b[0m\u001b[39m=<xarray.Dataset | \u001b[0m\u001b[33msource\u001b[0m\u001b[39m=\u001b[0m\u001b[32m'/home/leroyv/Documents/src/rayference/rtm/eradiate/resources/data/spectra/solar_irradiance/coddington_2021-1_nm.nc'\u001b[0m\u001b[1m>\u001b[0m,\n",
       "            \u001b[33mscale\u001b[0m=\u001b[1;36m1\u001b[0m\u001b[1;36m.0\u001b[0m,\n",
       "            \u001b[33mdatetime\u001b[0m=\u001b[3;35mNone\u001b[0m\n",
       "        \u001b[1m)\u001b[0m\n",
       "    \u001b[1m)\u001b[0m,\n",
       "    \u001b[33mgeometry\u001b[0m=\u001b[1;35mPlaneParallelGeometry\u001b[0m\u001b[1m(\u001b[0m\n",
       "        \u001b[33mtoa_altitude\u001b[0m=\u001b[1;36m120\u001b[0m\u001b[1;36m.0\u001b[0m km,\n",
       "        \u001b[33mground_altitude\u001b[0m=\u001b[1;36m0\u001b[0m\u001b[1;36m.0\u001b[0m km,\n",
       "        \u001b[33mzgrid\u001b[0m=\u001b[1;35mZGrid\u001b[0m\u001b[1m(\u001b[0m\n",
       "            \u001b[33mlevels\u001b[0m=\u001b[1m[\u001b[0m\u001b[1;36m0.0\u001b[0m \u001b[1;36m100.0\u001b[0m \u001b[1;36m200.0\u001b[0m \u001b[33m...\u001b[0m \u001b[1;36m119800.0\u001b[0m \u001b[1;36m119900.0\u001b[0m \u001b[1;36m120000.0\u001b[0m\u001b[1m]\u001b[0m m,\n",
       "            \u001b[33m_layers\u001b[0m=\u001b[1m[\u001b[0m\u001b[1;36m50.0\u001b[0m \u001b[1;36m150.0\u001b[0m \u001b[1;36m250.0\u001b[0m \u001b[33m...\u001b[0m \u001b[1;36m119750.0\u001b[0m \u001b[1;36m119850.0\u001b[0m \u001b[1;36m119950.0\u001b[0m\u001b[1m]\u001b[0m m,\n",
       "            \u001b[33m_layer_height\u001b[0m=\u001b[1;36m100\u001b[0m\u001b[1;36m.0\u001b[0m m,\n",
       "            \u001b[33m_total_height\u001b[0m=\u001b[1;36m120000\u001b[0m\u001b[1;36m.0\u001b[0m m\n",
       "        \u001b[1m)\u001b[0m,\n",
       "        \u001b[33mwidth\u001b[0m=\u001b[1;36m1000000\u001b[0m\u001b[1;36m.0\u001b[0m km\n",
       "    \u001b[1m)\u001b[0m,\n",
       "    \u001b[33matmosphere\u001b[0m=\u001b[1;35mHomogeneousAtmosphere\u001b[0m\u001b[1m(\u001b[0m\n",
       "        \u001b[33mid\u001b[0m=\u001b[32m'atmosphere'\u001b[0m,\n",
       "        \u001b[33mgeometry\u001b[0m=\u001b[1;35mPlaneParallelGeometry\u001b[0m\u001b[1m(\u001b[0m\n",
       "            \u001b[33mtoa_altitude\u001b[0m=\u001b[1;36m120\u001b[0m\u001b[1;36m.0\u001b[0m km,\n",
       "            \u001b[33mground_altitude\u001b[0m=\u001b[1;36m0\u001b[0m\u001b[1;36m.0\u001b[0m km,\n",
       "            \u001b[33mzgrid\u001b[0m=\u001b[1;35mZGrid\u001b[0m\u001b[1m(\u001b[0m\n",
       "                \u001b[33mlevels\u001b[0m=\u001b[1m[\u001b[0m\u001b[1;36m0.0\u001b[0m \u001b[1;36m100.0\u001b[0m \u001b[1;36m200.0\u001b[0m \u001b[33m...\u001b[0m \u001b[1;36m119800.0\u001b[0m \u001b[1;36m119900.0\u001b[0m \u001b[1;36m120000.0\u001b[0m\u001b[1m]\u001b[0m m,\n",
       "                \u001b[33m_layers\u001b[0m=\u001b[1m[\u001b[0m\u001b[1;36m50.0\u001b[0m \u001b[1;36m150.0\u001b[0m \u001b[1;36m250.0\u001b[0m \u001b[33m...\u001b[0m \u001b[1;36m119750.0\u001b[0m \u001b[1;36m119850.0\u001b[0m \u001b[1;36m119950.0\u001b[0m\u001b[1m]\u001b[0m m,\n",
       "                \u001b[33m_layer_height\u001b[0m=\u001b[1;36m100\u001b[0m\u001b[1;36m.0\u001b[0m m,\n",
       "                \u001b[33m_total_height\u001b[0m=\u001b[1;36m120000\u001b[0m\u001b[1;36m.0\u001b[0m m\n",
       "            \u001b[1m)\u001b[0m,\n",
       "            \u001b[33mwidth\u001b[0m=\u001b[1;36m1000000\u001b[0m\u001b[1;36m.0\u001b[0m km\n",
       "        \u001b[1m)\u001b[0m,\n",
       "        \u001b[33msigma_s\u001b[0m=\u001b[1;35mAirScatteringCoefficientSpectrum\u001b[0m\u001b[1m(\u001b[0m\u001b[33mid\u001b[0m=\u001b[3;35mNone\u001b[0m\u001b[1m)\u001b[0m,\n",
       "        \u001b[33msigma_a\u001b[0m=\u001b[1;35mUniformSpectrum\u001b[0m\u001b[1m(\u001b[0m\u001b[33mid\u001b[0m=\u001b[3;35mNone\u001b[0m, \u001b[33mquantity\u001b[0m=\u001b[35mCOLLISION_COEFFICIENT\u001b[0m, \u001b[33mvalue\u001b[0m=\u001b[1;36m0\u001b[0m\u001b[1;36m.0\u001b[0m \u001b[1;36m1\u001b[0m/m\u001b[1m)\u001b[0m,\n",
       "        \u001b[33m_phase\u001b[0m=\u001b[1;35mRayleighPhaseFunction\u001b[0m\u001b[1m(\u001b[0m\u001b[33mid\u001b[0m=\u001b[32m'phase_atmosphere'\u001b[0m\u001b[1m)\u001b[0m\n",
       "    \u001b[1m)\u001b[0m,\n",
       "    \u001b[33msurface\u001b[0m=\u001b[1;35mBasicSurface\u001b[0m\u001b[1m(\u001b[0m\n",
       "        \u001b[33mid\u001b[0m=\u001b[32m'surface'\u001b[0m,\n",
       "        \u001b[33mshape\u001b[0m=\u001b[3;35mNone\u001b[0m,\n",
       "        \u001b[33mbsdf\u001b[0m=\u001b[1;35mLambertianBSDF\u001b[0m\u001b[1m(\u001b[0m\n",
       "            \u001b[33mid\u001b[0m=\u001b[32m'surface_bsdf'\u001b[0m,\n",
       "            \u001b[33mreflectance\u001b[0m=\u001b[1;35mUniformSpectrum\u001b[0m\u001b[1m(\u001b[0m\u001b[33mid\u001b[0m=\u001b[3;35mNone\u001b[0m, \u001b[33mquantity\u001b[0m=\u001b[35mREFLECTANCE\u001b[0m, \u001b[33mvalue\u001b[0m=\u001b[1;36m0\u001b[0m\u001b[1;36m.5\u001b[0m\u001b[1m)\u001b[0m\n",
       "        \u001b[1m)\u001b[0m\n",
       "    \u001b[1m)\u001b[0m,\n",
       "    \u001b[33m_integrator\u001b[0m=\u001b[1;35mVolPathIntegrator\u001b[0m\u001b[1m(\u001b[0m\n",
       "        \u001b[33mid\u001b[0m=\u001b[32m'integrator'\u001b[0m,\n",
       "        \u001b[33mtimeout\u001b[0m=\u001b[3;35mNone\u001b[0m,\n",
       "        \u001b[33mmax_depth\u001b[0m=\u001b[3;35mNone\u001b[0m,\n",
       "        \u001b[33mrr_depth\u001b[0m=\u001b[3;35mNone\u001b[0m,\n",
       "        \u001b[33mhide_emitters\u001b[0m=\u001b[3;35mNone\u001b[0m\n",
       "    \u001b[1m)\u001b[0m\n",
       "\u001b[1m)\u001b[0m"
      ]
     },
     "execution_count": 6,
     "metadata": {},
     "output_type": "execute_result"
    }
   ],
   "source": [
    "eradiate.experiments.AtmosphereExperiment()"
   ]
  },
  {
   "cell_type": "markdown",
   "id": "f130a36d-1fd9-4ee0-a2d6-a3bee74c4836",
   "metadata": {},
   "source": [
    "A second consequence is that progress display control now works as expected:"
   ]
  },
  {
   "cell_type": "code",
   "execution_count": 7,
   "id": "d8166b68-27f0-46f7-abea-47ef6a730219",
   "metadata": {
    "execution": {
     "iopub.execute_input": "2024-05-28T09:40:31.556373Z",
     "iopub.status.busy": "2024-05-28T09:40:31.555981Z",
     "iopub.status.idle": "2024-05-28T09:40:31.584383Z",
     "shell.execute_reply": "2024-05-28T09:40:31.584033Z"
    }
   },
   "outputs": [],
   "source": [
    "eradiate.config.progress = \"KERNEL\"\n",
    "eradiate.run(exp);"
   ]
  },
  {
   "cell_type": "code",
   "execution_count": 8,
   "id": "488ba707-58cc-45c4-9cc4-82ba0a9232f5",
   "metadata": {
    "execution": {
     "iopub.execute_input": "2024-05-28T09:40:31.585869Z",
     "iopub.status.busy": "2024-05-28T09:40:31.585756Z",
     "iopub.status.idle": "2024-05-28T09:40:31.611800Z",
     "shell.execute_reply": "2024-05-28T09:40:31.611459Z"
    }
   },
   "outputs": [],
   "source": [
    "eradiate.config.progress = \"SPECTRAL_LOOP\"\n",
    "eradiate.run(exp);"
   ]
  },
  {
   "cell_type": "raw",
   "id": "445367d7-6fbb-4a42-9dca-1264c7cef24a",
   "metadata": {
    "raw_mimetype": "text/restructuredtext",
    "tags": []
   },
   "source": [
    "----\n",
    "\n",
    "Further reading\n",
    "---------------\n",
    "\n",
    "The extension can also be activated by an explicit call to :func:`eradiate.notebook.install`, which allows for further customisation."
   ]
  }
 ],
 "metadata": {
  "kernelspec": {
   "display_name": "Python 3 (ipykernel)",
   "language": "python",
   "name": "python3"
  },
  "language_info": {
   "codemirror_mode": {
    "name": "ipython",
    "version": 3
   },
   "file_extension": ".py",
   "mimetype": "text/x-python",
   "name": "python",
   "nbconvert_exporter": "python",
   "pygments_lexer": "ipython3",
   "version": "3.9.19"
  },
  "widgets": {
   "application/vnd.jupyter.widget-state+json": {
    "state": {
     "00efe9524836462a9c178ecfade5eb0c": {
      "model_module": "@jupyter-widgets/base",
      "model_module_version": "2.0.0",
      "model_name": "LayoutModel",
      "state": {
       "_model_module": "@jupyter-widgets/base",
       "_model_module_version": "2.0.0",
       "_model_name": "LayoutModel",
       "_view_count": null,
       "_view_module": "@jupyter-widgets/base",
       "_view_module_version": "2.0.0",
       "_view_name": "LayoutView",
       "align_content": null,
       "align_items": null,
       "align_self": null,
       "border_bottom": null,
       "border_left": null,
       "border_right": null,
       "border_top": null,
       "bottom": null,
       "display": null,
       "flex": null,
       "flex_flow": null,
       "grid_area": null,
       "grid_auto_columns": null,
       "grid_auto_flow": null,
       "grid_auto_rows": null,
       "grid_column": null,
       "grid_gap": null,
       "grid_row": null,
       "grid_template_areas": null,
       "grid_template_columns": null,
       "grid_template_rows": null,
       "height": null,
       "justify_content": null,
       "justify_items": null,
       "left": null,
       "margin": null,
       "max_height": null,
       "max_width": null,
       "min_height": null,
       "min_width": null,
       "object_fit": null,
       "object_position": null,
       "order": null,
       "overflow": null,
       "padding": null,
       "right": null,
       "top": null,
       "visibility": null,
       "width": null
      }
     },
     "2ad16b20bca84d7b9f982569f4ddab23": {
      "model_module": "@jupyter-widgets/controls",
      "model_module_version": "2.0.0",
      "model_name": "HTMLStyleModel",
      "state": {
       "_model_module": "@jupyter-widgets/controls",
       "_model_module_version": "2.0.0",
       "_model_name": "HTMLStyleModel",
       "_view_count": null,
       "_view_module": "@jupyter-widgets/base",
       "_view_module_version": "2.0.0",
       "_view_name": "StyleView",
       "background": null,
       "description_width": "",
       "font_size": null,
       "text_color": null
      }
     },
     "366740b25e3a4b239112a5547f30ca8f": {
      "model_module": "@jupyter-widgets/controls",
      "model_module_version": "2.0.0",
      "model_name": "ProgressStyleModel",
      "state": {
       "_model_module": "@jupyter-widgets/controls",
       "_model_module_version": "2.0.0",
       "_model_name": "ProgressStyleModel",
       "_view_count": null,
       "_view_module": "@jupyter-widgets/base",
       "_view_module_version": "2.0.0",
       "_view_name": "StyleView",
       "bar_color": null,
       "description_width": ""
      }
     },
     "3899b0b326244876b8c446efad7ff8b0": {
      "model_module": "@jupyter-widgets/base",
      "model_module_version": "2.0.0",
      "model_name": "LayoutModel",
      "state": {
       "_model_module": "@jupyter-widgets/base",
       "_model_module_version": "2.0.0",
       "_model_name": "LayoutModel",
       "_view_count": null,
       "_view_module": "@jupyter-widgets/base",
       "_view_module_version": "2.0.0",
       "_view_name": "LayoutView",
       "align_content": null,
       "align_items": null,
       "align_self": null,
       "border_bottom": null,
       "border_left": null,
       "border_right": null,
       "border_top": null,
       "bottom": null,
       "display": null,
       "flex": null,
       "flex_flow": null,
       "grid_area": null,
       "grid_auto_columns": null,
       "grid_auto_flow": null,
       "grid_auto_rows": null,
       "grid_column": null,
       "grid_gap": null,
       "grid_row": null,
       "grid_template_areas": null,
       "grid_template_columns": null,
       "grid_template_rows": null,
       "height": null,
       "justify_content": null,
       "justify_items": null,
       "left": null,
       "margin": null,
       "max_height": null,
       "max_width": null,
       "min_height": null,
       "min_width": null,
       "object_fit": null,
       "object_position": null,
       "order": null,
       "overflow": null,
       "padding": null,
       "right": null,
       "top": null,
       "visibility": null,
       "width": null
      }
     },
     "39c897fffbbc4e4f98af52502d8f29f0": {
      "model_module": "@jupyter-widgets/base",
      "model_module_version": "2.0.0",
      "model_name": "LayoutModel",
      "state": {
       "_model_module": "@jupyter-widgets/base",
       "_model_module_version": "2.0.0",
       "_model_name": "LayoutModel",
       "_view_count": null,
       "_view_module": "@jupyter-widgets/base",
       "_view_module_version": "2.0.0",
       "_view_name": "LayoutView",
       "align_content": null,
       "align_items": null,
       "align_self": null,
       "border_bottom": null,
       "border_left": null,
       "border_right": null,
       "border_top": null,
       "bottom": null,
       "display": null,
       "flex": null,
       "flex_flow": null,
       "grid_area": null,
       "grid_auto_columns": null,
       "grid_auto_flow": null,
       "grid_auto_rows": null,
       "grid_column": null,
       "grid_gap": null,
       "grid_row": null,
       "grid_template_areas": null,
       "grid_template_columns": null,
       "grid_template_rows": null,
       "height": null,
       "justify_content": null,
       "justify_items": null,
       "left": null,
       "margin": null,
       "max_height": null,
       "max_width": null,
       "min_height": null,
       "min_width": null,
       "object_fit": null,
       "object_position": null,
       "order": null,
       "overflow": null,
       "padding": null,
       "right": null,
       "top": null,
       "visibility": null,
       "width": null
      }
     },
     "40f8f104c4af425aae98899072b88223": {
      "model_module": "@jupyter-widgets/controls",
      "model_module_version": "2.0.0",
      "model_name": "HTMLModel",
      "state": {
       "_dom_classes": [],
       "_model_module": "@jupyter-widgets/controls",
       "_model_module_version": "2.0.0",
       "_model_name": "HTMLModel",
       "_view_count": null,
       "_view_module": "@jupyter-widgets/controls",
       "_view_module_version": "2.0.0",
       "_view_name": "HTMLView",
       "description": "",
       "description_allow_html": false,
       "layout": "IPY_MODEL_39c897fffbbc4e4f98af52502d8f29f0",
       "placeholder": "​",
       "style": "IPY_MODEL_56e93c091545407ea1ec4557ec620f00",
       "tabbable": null,
       "tooltip": null,
       "value": "Mitsuba: 100%"
      }
     },
     "56e93c091545407ea1ec4557ec620f00": {
      "model_module": "@jupyter-widgets/controls",
      "model_module_version": "2.0.0",
      "model_name": "HTMLStyleModel",
      "state": {
       "_model_module": "@jupyter-widgets/controls",
       "_model_module_version": "2.0.0",
       "_model_name": "HTMLStyleModel",
       "_view_count": null,
       "_view_module": "@jupyter-widgets/base",
       "_view_module_version": "2.0.0",
       "_view_name": "StyleView",
       "background": null,
       "description_width": "",
       "font_size": null,
       "text_color": null
      }
     },
     "799610e464244d92bacb5698d5bafb0c": {
      "model_module": "@jupyter-widgets/controls",
      "model_module_version": "2.0.0",
      "model_name": "HBoxModel",
      "state": {
       "_dom_classes": [],
       "_model_module": "@jupyter-widgets/controls",
       "_model_module_version": "2.0.0",
       "_model_name": "HBoxModel",
       "_view_count": null,
       "_view_module": "@jupyter-widgets/controls",
       "_view_module_version": "2.0.0",
       "_view_name": "HBoxView",
       "box_style": "",
       "children": [
        "IPY_MODEL_40f8f104c4af425aae98899072b88223",
        "IPY_MODEL_afb2b46cfa9043b89f07f93995cb1a0f",
        "IPY_MODEL_8d512962269a4791b64a8fa52e408120"
       ],
       "layout": "IPY_MODEL_8bfda18027fa4aa0aecefbe250dcf058",
       "tabbable": null,
       "tooltip": null
      }
     },
     "8bfda18027fa4aa0aecefbe250dcf058": {
      "model_module": "@jupyter-widgets/base",
      "model_module_version": "2.0.0",
      "model_name": "LayoutModel",
      "state": {
       "_model_module": "@jupyter-widgets/base",
       "_model_module_version": "2.0.0",
       "_model_name": "LayoutModel",
       "_view_count": null,
       "_view_module": "@jupyter-widgets/base",
       "_view_module_version": "2.0.0",
       "_view_name": "LayoutView",
       "align_content": null,
       "align_items": null,
       "align_self": null,
       "border_bottom": null,
       "border_left": null,
       "border_right": null,
       "border_top": null,
       "bottom": null,
       "display": null,
       "flex": null,
       "flex_flow": null,
       "grid_area": null,
       "grid_auto_columns": null,
       "grid_auto_flow": null,
       "grid_auto_rows": null,
       "grid_column": null,
       "grid_gap": null,
       "grid_row": null,
       "grid_template_areas": null,
       "grid_template_columns": null,
       "grid_template_rows": null,
       "height": null,
       "justify_content": null,
       "justify_items": null,
       "left": null,
       "margin": null,
       "max_height": null,
       "max_width": null,
       "min_height": null,
       "min_width": null,
       "object_fit": null,
       "object_position": null,
       "order": null,
       "overflow": null,
       "padding": null,
       "right": null,
       "top": null,
       "visibility": null,
       "width": null
      }
     },
     "8d512962269a4791b64a8fa52e408120": {
      "model_module": "@jupyter-widgets/controls",
      "model_module_version": "2.0.0",
      "model_name": "HTMLModel",
      "state": {
       "_dom_classes": [],
       "_model_module": "@jupyter-widgets/controls",
       "_model_module_version": "2.0.0",
       "_model_name": "HTMLModel",
       "_view_count": null,
       "_view_module": "@jupyter-widgets/controls",
       "_view_module_version": "2.0.0",
       "_view_name": "HTMLView",
       "description": "",
       "description_allow_html": false,
       "layout": "IPY_MODEL_00efe9524836462a9c178ecfade5eb0c",
       "placeholder": "​",
       "style": "IPY_MODEL_2ad16b20bca84d7b9f982569f4ddab23",
       "tabbable": null,
       "tooltip": null,
       "value": " 00:00, ETA=00:00"
      }
     },
     "afb2b46cfa9043b89f07f93995cb1a0f": {
      "model_module": "@jupyter-widgets/controls",
      "model_module_version": "2.0.0",
      "model_name": "FloatProgressModel",
      "state": {
       "_dom_classes": [],
       "_model_module": "@jupyter-widgets/controls",
       "_model_module_version": "2.0.0",
       "_model_name": "FloatProgressModel",
       "_view_count": null,
       "_view_module": "@jupyter-widgets/controls",
       "_view_module_version": "2.0.0",
       "_view_name": "ProgressView",
       "bar_style": "success",
       "description": "",
       "description_allow_html": false,
       "layout": "IPY_MODEL_3899b0b326244876b8c446efad7ff8b0",
       "max": 1.0,
       "min": 0.0,
       "orientation": "horizontal",
       "style": "IPY_MODEL_366740b25e3a4b239112a5547f30ca8f",
       "tabbable": null,
       "tooltip": null,
       "value": 1.0
      }
     }
    },
    "version_major": 2,
    "version_minor": 0
   }
  }
 },
 "nbformat": 4,
 "nbformat_minor": 5
}
