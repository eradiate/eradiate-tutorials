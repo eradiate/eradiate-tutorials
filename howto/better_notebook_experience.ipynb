{
 "cells": [
  {
   "cell_type": "raw",
   "id": "971f68db-825d-4902-b58a-8f041e0d125e",
   "metadata": {
    "raw_mimetype": "text/restructuredtext",
    "tags": []
   },
   "source": [
    "A better notebook experience\n",
    "============================\n",
    "\n",
    ".. admonition:: Overview\n",
    "\n",
    "   This tutorial demonstrates features which make the experience of using Eradiate in a Jupyter notebook more enjoyable.\n",
    "\n",
    ".. admonition:: What you will learn\n",
    "\n",
    "   * How to load the Eradiate IPython extension.\n",
    "   * How it improves the notebook experience.\n",
    "\n",
    "----"
   ]
  },
  {
   "cell_type": "markdown",
   "id": "d44bc6da-959d-4baa-b240-5b9385776d12",
   "metadata": {},
   "source": [
    "First, we load Eradiate and select the CKD mode."
   ]
  },
  {
   "cell_type": "code",
   "execution_count": null,
   "id": "24c9832c-1bf4-4682-ae06-3283557a63e8",
   "metadata": {},
   "outputs": [],
   "source": [
    "import eradiate\n",
    "eradiate.set_mode(\"ckd\")"
   ]
  },
  {
   "cell_type": "markdown",
   "id": "43b897fe-77e6-460e-bf79-7cea70f4c18e",
   "metadata": {},
   "source": [
    "Let's define a very simulation with a single spectral bin, then visualise it:"
   ]
  },
  {
   "cell_type": "code",
   "execution_count": null,
   "id": "f7d1f204-3b28-4d0c-8a06-ade964a797c1",
   "metadata": {},
   "outputs": [],
   "source": [
    "# Basic behaviour: looks bad\n",
    "exp = eradiate.experiments.OneDimExperiment(\n",
    "    measures={\n",
    "        \"type\": \"mdistant\",\n",
    "        \"construct\": \"from_viewing_angles\",\n",
    "        \"zeniths\": [-30, 0, 30],\n",
    "        \"azimuths\": 0,\n",
    "        \"spectral_cfg\": {\n",
    "            \"bin_set\": \"10nm\",\n",
    "            \"bins\": [\"550\"],\n",
    "        },\n",
    "    }\n",
    ")\n",
    "exp"
   ]
  },
  {
   "cell_type": "markdown",
   "id": "f414b3a1-89b4-4c14-946b-5a127bca1f7e",
   "metadata": {},
   "source": [
    "Arguably, this ouput is impractical and makes the process of inspecting the contents of the `OneDimExperiment` instance quite challenging. Anyway, let's run the corresponding simulation:"
   ]
  },
  {
   "cell_type": "code",
   "execution_count": null,
   "id": "6360a8d9-b8df-4617-b388-bccab9158e13",
   "metadata": {},
   "outputs": [],
   "source": [
    "eradiate.run(exp);"
   ]
  },
  {
   "cell_type": "raw",
   "id": "a4ed4de0-2413-40ee-9d18-54fcbe0a1fe7",
   "metadata": {
    "raw_mimetype": "text/restructuredtext",
    "tags": []
   },
   "source": [
    "The produced output is uncontrolled and mixes progress information coming from Eradiate (the \"Spectral loop\" progress bar), but also from the Mitsuba radiometric kernel (the \"Rendering\" progress bar). A notable consequence is that changing the progress level using :attr:`config.progress <eradiate._config.EradiateConfig.progress>` to suppress Mitsuba's progress will not have the expected effect."
   ]
  },
  {
   "cell_type": "markdown",
   "id": "7486147a-c4ee-4f0f-9341-002ffeaab9f7",
   "metadata": {},
   "source": [
    "This can be improved by loading Eradiate's IPython extension as follows:"
   ]
  },
  {
   "cell_type": "code",
   "execution_count": null,
   "id": "79dac2db-9792-4a3d-b9e7-e6943461a5ba",
   "metadata": {},
   "outputs": [],
   "source": [
    "%load_ext eradiate"
   ]
  },
  {
   "cell_type": "markdown",
   "id": "8286f1f4-1e8a-4dbe-b7d4-ff2dc55e1ba4",
   "metadata": {},
   "source": [
    "This automatically loads [Rich](https://rich.readthedocs.io/)'s \"pretty\" and \"traceback\" extensions, and it redirects Mitsuba's logs and progress to, respectively, the standard Python [logging](https://docs.python.org/3/library/logging.html) framework and the [tqdm](https://tqdm.github.io/) library.\n",
    "\n",
    "A first noticeable effect is that all objects created using the [attrs](https://www.attrs.org) framework are pretty-printed and are consequently much more readable:"
   ]
  },
  {
   "cell_type": "code",
   "execution_count": null,
   "id": "478b060a-5dbd-493d-90f4-efa3ab5c7c9d",
   "metadata": {},
   "outputs": [],
   "source": [
    "eradiate.experiments.OneDimExperiment()"
   ]
  },
  {
   "cell_type": "markdown",
   "id": "f130a36d-1fd9-4ee0-a2d6-a3bee74c4836",
   "metadata": {},
   "source": [
    "A second consequence is that progress display control now works as expected:"
   ]
  },
  {
   "cell_type": "code",
   "execution_count": null,
   "id": "d8166b68-27f0-46f7-abea-47ef6a730219",
   "metadata": {},
   "outputs": [],
   "source": [
    "eradiate.config.progress = \"KERNEL\"\n",
    "eradiate.run(exp);"
   ]
  },
  {
   "cell_type": "code",
   "execution_count": null,
   "id": "488ba707-58cc-45c4-9cc4-82ba0a9232f5",
   "metadata": {},
   "outputs": [],
   "source": [
    "eradiate.config.progress = \"SPECTRAL_LOOP\"\n",
    "eradiate.run(exp);"
   ]
  },
  {
   "cell_type": "raw",
   "id": "445367d7-6fbb-4a42-9dca-1264c7cef24a",
   "metadata": {
    "raw_mimetype": "text/restructuredtext",
    "tags": []
   },
   "source": [
    "----\n",
    "\n",
    "Further reading\n",
    "---------------\n",
    "\n",
    "The extension can also be activated by an explicit call to :func:`eradiate.notebook.install`, which allows for further customisation."
   ]
  }
 ],
 "metadata": {
  "kernelspec": {
   "display_name": "Python 3 (ipykernel)",
   "language": "python",
   "name": "python3"
  },
  "language_info": {
   "codemirror_mode": {
    "name": "ipython",
    "version": 3
   },
   "file_extension": ".py",
   "mimetype": "text/x-python",
   "name": "python",
   "nbconvert_exporter": "python",
   "pygments_lexer": "ipython3",
   "version": "3.8.13"
  }
 },
 "nbformat": 4,
 "nbformat_minor": 5
}
