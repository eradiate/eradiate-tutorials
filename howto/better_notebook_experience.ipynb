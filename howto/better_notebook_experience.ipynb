{
 "cells": [
  {
   "cell_type": "code",
   "execution_count": 1,
   "id": "a7fc04f9-71a7-4f27-934a-3b6bac5a1644",
   "metadata": {
    "execution": {
     "iopub.execute_input": "2025-03-25T10:18:18.790622Z",
     "iopub.status.busy": "2025-03-25T10:18:18.790511Z",
     "iopub.status.idle": "2025-03-25T10:18:20.119087Z",
     "shell.execute_reply": "2025-03-25T10:18:20.118689Z"
    }
   },
   "outputs": [
    {
     "data": {
      "text/markdown": [
       "*Last updated: 2025-03-25 11:18 (eradiate v0.30.0.dev0)*"
      ],
      "text/plain": [
       "<IPython.core.display.Markdown object>"
      ]
     },
     "metadata": {},
     "output_type": "display_data"
    }
   ],
   "source": [
    "%reload_ext eradiate.notebook.tutorials"
   ]
  },
  {
   "cell_type": "raw",
   "id": "971f68db-825d-4902-b58a-8f041e0d125e",
   "metadata": {
    "raw_mimetype": "text/restructuredtext",
    "tags": []
   },
   "source": [
    "A better notebook experience\n",
    "============================\n",
    "\n",
    ".. admonition:: Overview\n",
    "\n",
    "   This tutorial demonstrates features which make the experience of using Eradiate in a Jupyter notebook more enjoyable.\n",
    "\n",
    ".. admonition:: What you will learn\n",
    "\n",
    "   * How to load the Eradiate IPython extension.\n",
    "   * How it improves the notebook experience.\n",
    "\n",
    "----"
   ]
  },
  {
   "cell_type": "markdown",
   "id": "d44bc6da-959d-4baa-b240-5b9385776d12",
   "metadata": {},
   "source": [
    "First, we load Eradiate and select the CKD mode."
   ]
  },
  {
   "cell_type": "code",
   "execution_count": 2,
   "id": "24c9832c-1bf4-4682-ae06-3283557a63e8",
   "metadata": {
    "execution": {
     "iopub.execute_input": "2025-03-25T10:18:20.120800Z",
     "iopub.status.busy": "2025-03-25T10:18:20.120525Z",
     "iopub.status.idle": "2025-03-25T10:18:20.123043Z",
     "shell.execute_reply": "2025-03-25T10:18:20.122745Z"
    }
   },
   "outputs": [],
   "source": [
    "import eradiate\n",
    "from eradiate import unit_registry as ureg\n",
    "\n",
    "eradiate.set_mode(\"ckd\")"
   ]
  },
  {
   "cell_type": "markdown",
   "id": "43b897fe-77e6-460e-bf79-7cea70f4c18e",
   "metadata": {},
   "source": [
    "Let's define a very simulation with a single spectral bin, then visualise it:"
   ]
  },
  {
   "cell_type": "code",
   "execution_count": 3,
   "id": "f7d1f204-3b28-4d0c-8a06-ade964a797c1",
   "metadata": {
    "execution": {
     "iopub.execute_input": "2025-03-25T10:18:20.124348Z",
     "iopub.status.busy": "2025-03-25T10:18:20.124240Z",
     "iopub.status.idle": "2025-03-25T10:18:20.256934Z",
     "shell.execute_reply": "2025-03-25T10:18:20.256592Z"
    }
   },
   "outputs": [
    {
     "data": {
      "text/plain": [
       "AtmosphereExperiment(measures=MeasureRegistry(_measures=[MultiDistantMeasure(id='measure', mi_results={}, srf=DeltaSRF(wavelengths=[550.] nm), sampler='independent', rfilter='box', spp=1000, target=TargetPoint(xyz=[0.0 0.0 0.0] m), ray_offset=None, direction_layout=HemispherePlaneLayout(azimuth_convention=<AzimuthConvention.EAST_RIGHT: (0.0, 1)>, zeniths=[-30   0  30] deg, azimuth=0 deg))]), integrator=VolPathIntegrator(id='integrator', timeout=None, moment=False, stokes=False, meridian_align=True, max_depth=None, rr_depth=None, hide_emitters=None), ckd_quad_config=CKDQuadConfig(type=<QuadType.GAUSS_LEGENDRE: 'gauss_legendre'>, ng_max=16, policy=<CKDQuadPolicy.FIXED: 'fixed'>), extra_objects={}, illumination=DirectionalIllumination(id='illumination', zenith=0.0 deg, azimuth=0.0 deg, azimuth_convention=<AzimuthConvention.EAST_RIGHT: (0.0, 1)>, irradiance=SolarIrradianceSpectrum(id=None, dataset=<xarray.Dataset | source='/home/leroyv/Documents/src/rayference/rtm/eradiate/resources/data/spectra/solar_irradiance/coddington_2021-1_nm.nc'>, scale=1.0, datetime=None)), kdict=KernelDictTemplate(data={}), kpmap=UpdateMapTemplate(data=UpdateMapTemplate(data={})), geometry=PlaneParallelGeometry(toa_altitude=120.0 km, ground_altitude=0.0 km, zgrid=ZGrid(levels=[0.0 100.0 200.0 ... 119800.0 119900.0 120000.0] m, _layers=[50.0 150.0 250.0 ... 119750.0 119850.0 119950.0] m, _layer_height=100.0 m, _total_height=120000.0 m), width=1000000.0 km), atmosphere=HomogeneousAtmosphere(id='atmosphere', geometry=PlaneParallelGeometry(toa_altitude=120.0 km, ground_altitude=0.0 km, zgrid=ZGrid(levels=[0.0 100.0 200.0 ... 119800.0 119900.0 120000.0] m, _layers=[50.0 150.0 250.0 ... 119750.0 119850.0 119950.0] m, _layer_height=100.0 m, _total_height=120000.0 m), width=1000000.0 km), sigma_s=AirScatteringCoefficientSpectrum(id=None), sigma_a=UniformSpectrum(id=None, quantity=COLLISION_COEFFICIENT, value=0.0 1/m), _phase=RayleighPhaseFunction(id='phase_atmosphere', depolarization=array([0.]), geometry=None)), surface=BasicSurface(id='surface', shape=None, bsdf=LambertianBSDF(id='surface_bsdf', reflectance=UniformSpectrum(id=None, quantity=REFLECTANCE, value=0.5))))"
      ]
     },
     "execution_count": 3,
     "metadata": {},
     "output_type": "execute_result"
    }
   ],
   "source": [
    "# Basic behaviour: looks bad\n",
    "exp = eradiate.experiments.AtmosphereExperiment(\n",
    "    measures={\n",
    "        \"type\": \"mdistant\",\n",
    "        \"construct\": \"hplane\",\n",
    "        \"zeniths\": [-30, 0, 30],\n",
    "        \"azimuth\": 0,\n",
    "        \"srf\": {\n",
    "            \"type\": \"multi_delta\",\n",
    "            \"wavelengths\": 550.0 * ureg.nm,\n",
    "        },\n",
    "    }\n",
    ")\n",
    "exp"
   ]
  },
  {
   "cell_type": "markdown",
   "id": "f414b3a1-89b4-4c14-946b-5a127bca1f7e",
   "metadata": {},
   "source": [
    "Arguably, this ouput is impractical and makes the process of inspecting the contents of the `OneDimExperiment` instance quite challenging. Anyway, let's run the corresponding simulation:"
   ]
  },
  {
   "cell_type": "code",
   "execution_count": 4,
   "id": "6360a8d9-b8df-4617-b388-bccab9158e13",
   "metadata": {
    "execution": {
     "iopub.execute_input": "2025-03-25T10:18:20.258162Z",
     "iopub.status.busy": "2025-03-25T10:18:20.258046Z",
     "iopub.status.idle": "2025-03-25T10:18:20.465401Z",
     "shell.execute_reply": "2025-03-25T10:18:20.465010Z"
    }
   },
   "outputs": [
    {
     "data": {
      "application/vnd.jupyter.widget-view+json": {
       "model_id": "ddd3e7ef5da74ab3a8b40429e666ec4e",
       "version_major": 2,
       "version_minor": 0
      },
      "text/plain": [
       "0/16|          | 00:00, ETA=?"
      ]
     },
     "metadata": {},
     "output_type": "display_data"
    }
   ],
   "source": [
    "eradiate.run(exp);"
   ]
  },
  {
   "cell_type": "raw",
   "id": "a4ed4de0-2413-40ee-9d18-54fcbe0a1fe7",
   "metadata": {
    "raw_mimetype": "text/restructuredtext",
    "tags": []
   },
   "source": [
    "The produced output is uncontrolled and mixes progress information coming from Eradiate (the \"Spectral loop\" progress bar), but also from the Mitsuba radiometric kernel (the \"Rendering\" progress bar). A notable consequence is that changing the progress level using :attr:`config.progress <eradiate._config.EradiateConfig.progress>` to suppress Mitsuba's progress will not have the expected effect."
   ]
  },
  {
   "cell_type": "markdown",
   "id": "7486147a-c4ee-4f0f-9341-002ffeaab9f7",
   "metadata": {},
   "source": [
    "This can be improved by loading Eradiate's IPython extension as follows:"
   ]
  },
  {
   "cell_type": "code",
   "execution_count": 5,
   "id": "79dac2db-9792-4a3d-b9e7-e6943461a5ba",
   "metadata": {
    "execution": {
     "iopub.execute_input": "2025-03-25T10:18:20.466863Z",
     "iopub.status.busy": "2025-03-25T10:18:20.466742Z",
     "iopub.status.idle": "2025-03-25T10:18:20.477305Z",
     "shell.execute_reply": "2025-03-25T10:18:20.477007Z"
    }
   },
   "outputs": [],
   "source": [
    "%load_ext eradiate"
   ]
  },
  {
   "cell_type": "markdown",
   "id": "8286f1f4-1e8a-4dbe-b7d4-ff2dc55e1ba4",
   "metadata": {},
   "source": [
    "This automatically loads [Rich](https://rich.readthedocs.io/)'s \"pretty\" and \"traceback\" extensions, and it redirects Mitsuba's logs and progress to, respectively, the standard Python [logging](https://docs.python.org/3/library/logging.html) framework and the [tqdm](https://tqdm.github.io/) library.\n",
    "\n",
    "A first noticeable effect is that all objects created using the [attrs](https://www.attrs.org) framework are pretty-printed and are consequently much more readable:"
   ]
  },
  {
   "cell_type": "code",
   "execution_count": 6,
   "id": "478b060a-5dbd-493d-90f4-efa3ab5c7c9d",
   "metadata": {
    "execution": {
     "iopub.execute_input": "2025-03-25T10:18:20.478598Z",
     "iopub.status.busy": "2025-03-25T10:18:20.478487Z",
     "iopub.status.idle": "2025-03-25T10:18:20.496126Z",
     "shell.execute_reply": "2025-03-25T10:18:20.495844Z"
    }
   },
   "outputs": [
    {
     "data": {
      "text/html": [
       "<pre style=\"white-space:pre;overflow-x:auto;line-height:normal;font-family:Menlo,'DejaVu Sans Mono',consolas,'Courier New',monospace\"></pre>\n"
      ],
      "text/plain": []
     },
     "metadata": {},
     "output_type": "display_data"
    },
    {
     "data": {
      "text/plain": [
       "\n",
       "\u001b[1;35mAtmosphereExperiment\u001b[0m\u001b[1m(\u001b[0m\n",
       "    \u001b[33mmeasures\u001b[0m=\u001b[1;35mMeasureRegistry\u001b[0m\u001b[1m(\u001b[0m\n",
       "        \u001b[33m_measures\u001b[0m=\u001b[1m[\u001b[0m\n",
       "            \u001b[1;35mMultiDistantMeasure\u001b[0m\u001b[1m(\u001b[0m\n",
       "                \u001b[33mid\u001b[0m=\u001b[32m'measure'\u001b[0m,\n",
       "                \u001b[33mmi_results\u001b[0m=\u001b[1m{\u001b[0m\u001b[1m}\u001b[0m,\n",
       "                \u001b[33msrf\u001b[0m=\u001b[1;35mDeltaSRF\u001b[0m\u001b[1m(\u001b[0m\u001b[33mwavelengths\u001b[0m=\u001b[1m[\u001b[0m\u001b[1;36m550\u001b[0m.\u001b[1m]\u001b[0m nm\u001b[1m)\u001b[0m,\n",
       "                \u001b[33msampler\u001b[0m=\u001b[32m'independent'\u001b[0m,\n",
       "                \u001b[33mrfilter\u001b[0m=\u001b[32m'box'\u001b[0m,\n",
       "                \u001b[33mspp\u001b[0m=\u001b[1;36m1000\u001b[0m,\n",
       "                \u001b[33mtarget\u001b[0m=\u001b[1;35mTargetPoint\u001b[0m\u001b[1m(\u001b[0m\u001b[33mxyz\u001b[0m=\u001b[1m[\u001b[0m\u001b[1;36m0.0\u001b[0m \u001b[1;36m0.0\u001b[0m \u001b[1;36m0.0\u001b[0m\u001b[1m]\u001b[0m m\u001b[1m)\u001b[0m,\n",
       "                \u001b[33mray_offset\u001b[0m=\u001b[3;35mNone\u001b[0m,\n",
       "                \u001b[33mdirection_layout\u001b[0m=\u001b[1;35mDirectionLayout\u001b[0m\u001b[1m(\u001b[0m\n",
       "                    \u001b[33mazimuth_convention\u001b[0m=\u001b[1m<\u001b[0m\u001b[1;95mAzimuthConvention.EAST_RIGHT:\u001b[0m\u001b[39m \u001b[0m\u001b[1;39m(\u001b[0m\u001b[1;36m0.0\u001b[0m\u001b[39m, \u001b[0m\u001b[1;36m1\u001b[0m\u001b[1;39m)\u001b[0m\u001b[39m>,\u001b[0m\n",
       "\u001b[39m                    \u001b[0m\u001b[33m_directions\u001b[0m\u001b[39m=\u001b[0m\u001b[1;35marray\u001b[0m\u001b[1;39m(\u001b[0m\u001b[1;39m[\u001b[0m\u001b[1;39m[\u001b[0m\u001b[1;36m0\u001b[0m\u001b[39m, \u001b[0m\u001b[1;36m0\u001b[0m\u001b[39m, \u001b[0m\u001b[1;36m1\u001b[0m\u001b[1;39m]\u001b[0m\u001b[1;39m]\u001b[0m\u001b[1;39m)\u001b[0m\n",
       "\u001b[39m                \u001b[0m\u001b[1;39m)\u001b[0m\n",
       "\u001b[39m            \u001b[0m\u001b[1;39m)\u001b[0m\n",
       "\u001b[39m        \u001b[0m\u001b[1;39m]\u001b[0m\n",
       "\u001b[39m    \u001b[0m\u001b[1;39m)\u001b[0m\u001b[39m,\u001b[0m\n",
       "\u001b[39m    \u001b[0m\u001b[33mintegrator\u001b[0m\u001b[39m=\u001b[0m\u001b[1;35mVolPathIntegrator\u001b[0m\u001b[1;39m(\u001b[0m\n",
       "\u001b[39m        \u001b[0m\u001b[33mid\u001b[0m\u001b[39m=\u001b[0m\u001b[32m'integrator'\u001b[0m\u001b[39m,\u001b[0m\n",
       "\u001b[39m        \u001b[0m\u001b[33mtimeout\u001b[0m\u001b[39m=\u001b[0m\u001b[3;35mNone\u001b[0m\u001b[39m,\u001b[0m\n",
       "\u001b[39m        \u001b[0m\u001b[33mmoment\u001b[0m\u001b[39m=\u001b[0m\u001b[3;91mFalse\u001b[0m\u001b[39m,\u001b[0m\n",
       "\u001b[39m        \u001b[0m\u001b[33mstokes\u001b[0m\u001b[39m=\u001b[0m\u001b[3;91mFalse\u001b[0m\u001b[39m,\u001b[0m\n",
       "\u001b[39m        \u001b[0m\u001b[33mmeridian_align\u001b[0m\u001b[39m=\u001b[0m\u001b[3;92mTrue\u001b[0m\u001b[39m,\u001b[0m\n",
       "\u001b[39m        \u001b[0m\u001b[33mmax_depth\u001b[0m\u001b[39m=\u001b[0m\u001b[3;35mNone\u001b[0m\u001b[39m,\u001b[0m\n",
       "\u001b[39m        \u001b[0m\u001b[33mrr_depth\u001b[0m\u001b[39m=\u001b[0m\u001b[3;35mNone\u001b[0m\u001b[39m,\u001b[0m\n",
       "\u001b[39m        \u001b[0m\u001b[33mhide_emitters\u001b[0m\u001b[39m=\u001b[0m\u001b[3;35mNone\u001b[0m\n",
       "\u001b[39m    \u001b[0m\u001b[1;39m)\u001b[0m\u001b[39m,\u001b[0m\n",
       "\u001b[39m    \u001b[0m\u001b[33mckd_quad_config\u001b[0m\u001b[39m=\u001b[0m\u001b[1;35mCKDQuadConfig\u001b[0m\u001b[1;39m(\u001b[0m\n",
       "\u001b[39m        \u001b[0m\u001b[33mtype\u001b[0m\u001b[39m=<QuadType.GAUSS_LEGENDRE: \u001b[0m\u001b[32m'gauss_legendre'\u001b[0m\u001b[39m>,\u001b[0m\n",
       "\u001b[39m        \u001b[0m\u001b[33mng_max\u001b[0m\u001b[39m=\u001b[0m\u001b[1;36m16\u001b[0m\u001b[39m,\u001b[0m\n",
       "\u001b[39m        \u001b[0m\u001b[33mpolicy\u001b[0m\u001b[39m=<CKDQuadPolicy.FIXED: \u001b[0m\u001b[32m'fixed'\u001b[0m\u001b[39m>\u001b[0m\n",
       "\u001b[39m    \u001b[0m\u001b[1;39m)\u001b[0m\u001b[39m,\u001b[0m\n",
       "\u001b[39m    \u001b[0m\u001b[33mextra_objects\u001b[0m\u001b[39m=\u001b[0m\u001b[1;39m{\u001b[0m\u001b[1;39m}\u001b[0m\u001b[39m,\u001b[0m\n",
       "\u001b[39m    \u001b[0m\u001b[33millumination\u001b[0m\u001b[39m=\u001b[0m\u001b[1;35mDirectionalIllumination\u001b[0m\u001b[1;39m(\u001b[0m\n",
       "\u001b[39m        \u001b[0m\u001b[33mid\u001b[0m\u001b[39m=\u001b[0m\u001b[32m'illumination'\u001b[0m\u001b[39m,\u001b[0m\n",
       "\u001b[39m        \u001b[0m\u001b[33mzenith\u001b[0m\u001b[39m=\u001b[0m\u001b[1;36m0\u001b[0m\u001b[1;36m.0\u001b[0m\u001b[39m deg,\u001b[0m\n",
       "\u001b[39m        \u001b[0m\u001b[33mazimuth\u001b[0m\u001b[39m=\u001b[0m\u001b[1;36m0\u001b[0m\u001b[1;36m.0\u001b[0m\u001b[39m deg,\u001b[0m\n",
       "\u001b[39m        \u001b[0m\u001b[33mazimuth_convention\u001b[0m\u001b[39m=<AzimuthConvention.EAST_RIGHT: \u001b[0m\u001b[1;39m(\u001b[0m\u001b[1;36m0.0\u001b[0m\u001b[39m, \u001b[0m\u001b[1;36m1\u001b[0m\u001b[1;39m)\u001b[0m\u001b[39m>,\u001b[0m\n",
       "\u001b[39m        \u001b[0m\u001b[33mirradiance\u001b[0m\u001b[39m=\u001b[0m\u001b[1;35mSolarIrradianceSpectrum\u001b[0m\u001b[1;39m(\u001b[0m\n",
       "\u001b[39m            \u001b[0m\u001b[33mid\u001b[0m\u001b[39m=\u001b[0m\u001b[3;35mNone\u001b[0m\u001b[39m,\u001b[0m\n",
       "\u001b[39m            \u001b[0m\u001b[33mdataset\u001b[0m\u001b[39m=<xarray.Dataset | \u001b[0m\u001b[33msource\u001b[0m\u001b[39m=\u001b[0m\u001b[32m'/home/leroyv/Documents/src/rayference/rtm/eradiate/resources/data/spectra/solar_irradiance/coddington_2021-1_nm.nc'\u001b[0m\u001b[1m>\u001b[0m,\n",
       "            \u001b[33mscale\u001b[0m=\u001b[1;36m1\u001b[0m\u001b[1;36m.0\u001b[0m,\n",
       "            \u001b[33mdatetime\u001b[0m=\u001b[3;35mNone\u001b[0m\n",
       "        \u001b[1m)\u001b[0m\n",
       "    \u001b[1m)\u001b[0m,\n",
       "    \u001b[33mkdict\u001b[0m=\u001b[1;35mKernelDictTemplate\u001b[0m\u001b[1m(\u001b[0m\u001b[33mdata\u001b[0m=\u001b[1m{\u001b[0m\u001b[1m}\u001b[0m\u001b[1m)\u001b[0m,\n",
       "    \u001b[33mkpmap\u001b[0m=\u001b[1;35mUpdateMapTemplate\u001b[0m\u001b[1m(\u001b[0m\u001b[33mdata\u001b[0m=\u001b[1;35mUpdateMapTemplate\u001b[0m\u001b[1m(\u001b[0m\u001b[33mdata\u001b[0m=\u001b[1m{\u001b[0m\u001b[1m}\u001b[0m\u001b[1m)\u001b[0m\u001b[1m)\u001b[0m,\n",
       "    \u001b[33mgeometry\u001b[0m=\u001b[1;35mPlaneParallelGeometry\u001b[0m\u001b[1m(\u001b[0m\n",
       "        \u001b[33mtoa_altitude\u001b[0m=\u001b[1;36m120\u001b[0m\u001b[1;36m.0\u001b[0m km,\n",
       "        \u001b[33mground_altitude\u001b[0m=\u001b[1;36m0\u001b[0m\u001b[1;36m.0\u001b[0m km,\n",
       "        \u001b[33mzgrid\u001b[0m=\u001b[1;35mZGrid\u001b[0m\u001b[1m(\u001b[0m\n",
       "            \u001b[33mlevels\u001b[0m=\u001b[1m[\u001b[0m\u001b[1;36m0.0\u001b[0m \u001b[1;36m100.0\u001b[0m \u001b[1;36m200.0\u001b[0m \u001b[33m...\u001b[0m \u001b[1;36m119800.0\u001b[0m \u001b[1;36m119900.0\u001b[0m \u001b[1;36m120000.0\u001b[0m\u001b[1m]\u001b[0m m,\n",
       "            \u001b[33m_layers\u001b[0m=\u001b[1m[\u001b[0m\u001b[1;36m50.0\u001b[0m \u001b[1;36m150.0\u001b[0m \u001b[1;36m250.0\u001b[0m \u001b[33m...\u001b[0m \u001b[1;36m119750.0\u001b[0m \u001b[1;36m119850.0\u001b[0m \u001b[1;36m119950.0\u001b[0m\u001b[1m]\u001b[0m m,\n",
       "            \u001b[33m_layer_height\u001b[0m=\u001b[1;36m100\u001b[0m\u001b[1;36m.0\u001b[0m m,\n",
       "            \u001b[33m_total_height\u001b[0m=\u001b[1;36m120000\u001b[0m\u001b[1;36m.0\u001b[0m m\n",
       "        \u001b[1m)\u001b[0m,\n",
       "        \u001b[33mwidth\u001b[0m=\u001b[1;36m1000000\u001b[0m\u001b[1;36m.0\u001b[0m km\n",
       "    \u001b[1m)\u001b[0m,\n",
       "    \u001b[33matmosphere\u001b[0m=\u001b[1;35mHomogeneousAtmosphere\u001b[0m\u001b[1m(\u001b[0m\n",
       "        \u001b[33mid\u001b[0m=\u001b[32m'atmosphere'\u001b[0m,\n",
       "        \u001b[33mgeometry\u001b[0m=\u001b[1;35mPlaneParallelGeometry\u001b[0m\u001b[1m(\u001b[0m\n",
       "            \u001b[33mtoa_altitude\u001b[0m=\u001b[1;36m120\u001b[0m\u001b[1;36m.0\u001b[0m km,\n",
       "            \u001b[33mground_altitude\u001b[0m=\u001b[1;36m0\u001b[0m\u001b[1;36m.0\u001b[0m km,\n",
       "            \u001b[33mzgrid\u001b[0m=\u001b[1;35mZGrid\u001b[0m\u001b[1m(\u001b[0m\n",
       "                \u001b[33mlevels\u001b[0m=\u001b[1m[\u001b[0m\u001b[1;36m0.0\u001b[0m \u001b[1;36m100.0\u001b[0m \u001b[1;36m200.0\u001b[0m \u001b[33m...\u001b[0m \u001b[1;36m119800.0\u001b[0m \u001b[1;36m119900.0\u001b[0m \u001b[1;36m120000.0\u001b[0m\u001b[1m]\u001b[0m m,\n",
       "                \u001b[33m_layers\u001b[0m=\u001b[1m[\u001b[0m\u001b[1;36m50.0\u001b[0m \u001b[1;36m150.0\u001b[0m \u001b[1;36m250.0\u001b[0m \u001b[33m...\u001b[0m \u001b[1;36m119750.0\u001b[0m \u001b[1;36m119850.0\u001b[0m \u001b[1;36m119950.0\u001b[0m\u001b[1m]\u001b[0m m,\n",
       "                \u001b[33m_layer_height\u001b[0m=\u001b[1;36m100\u001b[0m\u001b[1;36m.0\u001b[0m m,\n",
       "                \u001b[33m_total_height\u001b[0m=\u001b[1;36m120000\u001b[0m\u001b[1;36m.0\u001b[0m m\n",
       "            \u001b[1m)\u001b[0m,\n",
       "            \u001b[33mwidth\u001b[0m=\u001b[1;36m1000000\u001b[0m\u001b[1;36m.0\u001b[0m km\n",
       "        \u001b[1m)\u001b[0m,\n",
       "        \u001b[33msigma_s\u001b[0m=\u001b[1;35mAirScatteringCoefficientSpectrum\u001b[0m\u001b[1m(\u001b[0m\u001b[33mid\u001b[0m=\u001b[3;35mNone\u001b[0m\u001b[1m)\u001b[0m,\n",
       "        \u001b[33msigma_a\u001b[0m=\u001b[1;35mUniformSpectrum\u001b[0m\u001b[1m(\u001b[0m\u001b[33mid\u001b[0m=\u001b[3;35mNone\u001b[0m, \u001b[33mquantity\u001b[0m=\u001b[35mCOLLISION_COEFFICIENT\u001b[0m, \u001b[33mvalue\u001b[0m=\u001b[1;36m0\u001b[0m\u001b[1;36m.0\u001b[0m \u001b[1;36m1\u001b[0m/m\u001b[1m)\u001b[0m,\n",
       "        \u001b[33m_phase\u001b[0m=\u001b[1;35mRayleighPhaseFunction\u001b[0m\u001b[1m(\u001b[0m\n",
       "            \u001b[33mid\u001b[0m=\u001b[32m'phase_atmosphere'\u001b[0m,\n",
       "            \u001b[33mdepolarization\u001b[0m=\u001b[1;35marray\u001b[0m\u001b[1m(\u001b[0m\u001b[1m[\u001b[0m\u001b[1;36m0\u001b[0m.\u001b[1m]\u001b[0m\u001b[1m)\u001b[0m,\n",
       "            \u001b[33mgeometry\u001b[0m=\u001b[3;35mNone\u001b[0m\n",
       "        \u001b[1m)\u001b[0m\n",
       "    \u001b[1m)\u001b[0m,\n",
       "    \u001b[33msurface\u001b[0m=\u001b[1;35mBasicSurface\u001b[0m\u001b[1m(\u001b[0m\n",
       "        \u001b[33mid\u001b[0m=\u001b[32m'surface'\u001b[0m,\n",
       "        \u001b[33mshape\u001b[0m=\u001b[3;35mNone\u001b[0m,\n",
       "        \u001b[33mbsdf\u001b[0m=\u001b[1;35mLambertianBSDF\u001b[0m\u001b[1m(\u001b[0m\n",
       "            \u001b[33mid\u001b[0m=\u001b[32m'surface_bsdf'\u001b[0m,\n",
       "            \u001b[33mreflectance\u001b[0m=\u001b[1;35mUniformSpectrum\u001b[0m\u001b[1m(\u001b[0m\u001b[33mid\u001b[0m=\u001b[3;35mNone\u001b[0m, \u001b[33mquantity\u001b[0m=\u001b[35mREFLECTANCE\u001b[0m, \u001b[33mvalue\u001b[0m=\u001b[1;36m0\u001b[0m\u001b[1;36m.5\u001b[0m\u001b[1m)\u001b[0m\n",
       "        \u001b[1m)\u001b[0m\n",
       "    \u001b[1m)\u001b[0m\n",
       "\u001b[1m)\u001b[0m"
      ]
     },
     "execution_count": 6,
     "metadata": {},
     "output_type": "execute_result"
    }
   ],
   "source": [
    "eradiate.experiments.AtmosphereExperiment()"
   ]
  },
  {
   "cell_type": "markdown",
   "id": "f130a36d-1fd9-4ee0-a2d6-a3bee74c4836",
   "metadata": {},
   "source": [
    "A second consequence is that progress display control now works as expected:"
   ]
  },
  {
   "cell_type": "code",
   "execution_count": 7,
   "id": "d8166b68-27f0-46f7-abea-47ef6a730219",
   "metadata": {
    "execution": {
     "iopub.execute_input": "2025-03-25T10:18:20.497382Z",
     "iopub.status.busy": "2025-03-25T10:18:20.497273Z",
     "iopub.status.idle": "2025-03-25T10:18:20.677011Z",
     "shell.execute_reply": "2025-03-25T10:18:20.676635Z"
    }
   },
   "outputs": [
    {
     "data": {
      "application/vnd.jupyter.widget-view+json": {
       "model_id": "0ee425a302ea449280c13dcc28b3e3fd",
       "version_major": 2,
       "version_minor": 0
      },
      "text/plain": [
       "0/16|          | 00:00, ETA=?"
      ]
     },
     "metadata": {},
     "output_type": "display_data"
    }
   ],
   "source": [
    "eradiate.config.progress = \"KERNEL\"\n",
    "eradiate.run(exp);"
   ]
  },
  {
   "cell_type": "code",
   "execution_count": 8,
   "id": "488ba707-58cc-45c4-9cc4-82ba0a9232f5",
   "metadata": {
    "execution": {
     "iopub.execute_input": "2025-03-25T10:18:20.678270Z",
     "iopub.status.busy": "2025-03-25T10:18:20.678158Z",
     "iopub.status.idle": "2025-03-25T10:18:20.856615Z",
     "shell.execute_reply": "2025-03-25T10:18:20.856258Z"
    }
   },
   "outputs": [
    {
     "data": {
      "application/vnd.jupyter.widget-view+json": {
       "model_id": "a306d165356e4d5ca992dd22a77c304e",
       "version_major": 2,
       "version_minor": 0
      },
      "text/plain": [
       "0/16|          | 00:00, ETA=?"
      ]
     },
     "metadata": {},
     "output_type": "display_data"
    }
   ],
   "source": [
    "eradiate.config.progress = \"SPECTRAL_LOOP\"\n",
    "eradiate.run(exp);"
   ]
  },
  {
   "cell_type": "raw",
   "id": "445367d7-6fbb-4a42-9dca-1264c7cef24a",
   "metadata": {
    "raw_mimetype": "text/restructuredtext",
    "tags": []
   },
   "source": [
    "----\n",
    "\n",
    "Further reading\n",
    "---------------\n",
    "\n",
    "The extension can also be activated by an explicit call to :func:`eradiate.notebook.install`, which allows for further customisation."
   ]
  }
 ],
 "metadata": {
  "kernelspec": {
   "display_name": "Python 3 (ipykernel)",
   "language": "python",
   "name": "python3"
  },
  "language_info": {
   "codemirror_mode": {
    "name": "ipython",
    "version": 3
   },
   "file_extension": ".py",
   "mimetype": "text/x-python",
   "name": "python",
   "nbconvert_exporter": "python",
   "pygments_lexer": "ipython3",
   "version": "3.9.20"
  },
  "widgets": {
   "application/vnd.jupyter.widget-state+json": {
    "state": {
     "0ee425a302ea449280c13dcc28b3e3fd": {
      "model_module": "@jupyter-widgets/controls",
      "model_module_version": "2.0.0",
      "model_name": "HBoxModel",
      "state": {
       "_dom_classes": [],
       "_model_module": "@jupyter-widgets/controls",
       "_model_module_version": "2.0.0",
       "_model_name": "HBoxModel",
       "_view_count": null,
       "_view_module": "@jupyter-widgets/controls",
       "_view_module_version": "2.0.0",
       "_view_name": "HBoxView",
       "box_style": "",
       "children": [
        "IPY_MODEL_c886f5d5cd4142179821299c44e3b851",
        "IPY_MODEL_8e9da590a6d94286ac4669faec8bdf3a",
        "IPY_MODEL_145d7b16b1ac400b810bad6866e11a9f"
       ],
       "layout": "IPY_MODEL_8e0895b0c1034030a31a17106ed547f6",
       "tabbable": null,
       "tooltip": null
      }
     },
     "1373153ef63945f0a291194bc64e09f8": {
      "model_module": "@jupyter-widgets/controls",
      "model_module_version": "2.0.0",
      "model_name": "ProgressStyleModel",
      "state": {
       "_model_module": "@jupyter-widgets/controls",
       "_model_module_version": "2.0.0",
       "_model_name": "ProgressStyleModel",
       "_view_count": null,
       "_view_module": "@jupyter-widgets/base",
       "_view_module_version": "2.0.0",
       "_view_name": "StyleView",
       "bar_color": null,
       "description_width": ""
      }
     },
     "145d7b16b1ac400b810bad6866e11a9f": {
      "model_module": "@jupyter-widgets/controls",
      "model_module_version": "2.0.0",
      "model_name": "HTMLModel",
      "state": {
       "_dom_classes": [],
       "_model_module": "@jupyter-widgets/controls",
       "_model_module_version": "2.0.0",
       "_model_name": "HTMLModel",
       "_view_count": null,
       "_view_module": "@jupyter-widgets/controls",
       "_view_module_version": "2.0.0",
       "_view_name": "HTMLView",
       "description": "",
       "description_allow_html": false,
       "layout": "IPY_MODEL_76ef3d3b963d46d3915cc0662ddf6362",
       "placeholder": "​",
       "style": "IPY_MODEL_6063a90a59ec4505ae8d020f133b4e59",
       "tabbable": null,
       "tooltip": null,
       "value": " 00:00, ETA=00:00"
      }
     },
     "160f530cd5d84a9c8f9986a368722271": {
      "model_module": "@jupyter-widgets/controls",
      "model_module_version": "2.0.0",
      "model_name": "FloatProgressModel",
      "state": {
       "_dom_classes": [],
       "_model_module": "@jupyter-widgets/controls",
       "_model_module_version": "2.0.0",
       "_model_name": "FloatProgressModel",
       "_view_count": null,
       "_view_module": "@jupyter-widgets/controls",
       "_view_module_version": "2.0.0",
       "_view_name": "ProgressView",
       "bar_style": "success",
       "description": "",
       "description_allow_html": false,
       "layout": "IPY_MODEL_805f7fb574124f96b30cb47f2837a087",
       "max": 16.0,
       "min": 0.0,
       "orientation": "horizontal",
       "style": "IPY_MODEL_e2186a3f0d644395a7eef70434afd523",
       "tabbable": null,
       "tooltip": null,
       "value": 16.0
      }
     },
     "1756d4d10ad7418989f46eb03e88f81c": {
      "model_module": "@jupyter-widgets/controls",
      "model_module_version": "2.0.0",
      "model_name": "HTMLModel",
      "state": {
       "_dom_classes": [],
       "_model_module": "@jupyter-widgets/controls",
       "_model_module_version": "2.0.0",
       "_model_name": "HTMLModel",
       "_view_count": null,
       "_view_module": "@jupyter-widgets/controls",
       "_view_module_version": "2.0.0",
       "_view_name": "HTMLView",
       "description": "",
       "description_allow_html": false,
       "layout": "IPY_MODEL_e145ce6783fb46a78258ab09956a09dd",
       "placeholder": "​",
       "style": "IPY_MODEL_d17d1cea8a3249a89014272c5b2b2181",
       "tabbable": null,
       "tooltip": null,
       "value": "Eradiate [550 nm:0.9947]: 16/16"
      }
     },
     "4704a0370fcd4ce2a94efd95c3ebe989": {
      "model_module": "@jupyter-widgets/controls",
      "model_module_version": "2.0.0",
      "model_name": "ProgressStyleModel",
      "state": {
       "_model_module": "@jupyter-widgets/controls",
       "_model_module_version": "2.0.0",
       "_model_name": "ProgressStyleModel",
       "_view_count": null,
       "_view_module": "@jupyter-widgets/base",
       "_view_module_version": "2.0.0",
       "_view_name": "StyleView",
       "bar_color": null,
       "description_width": ""
      }
     },
     "5312fcede2f54245a0d485b1f65a5d11": {
      "model_module": "@jupyter-widgets/base",
      "model_module_version": "2.0.0",
      "model_name": "LayoutModel",
      "state": {
       "_model_module": "@jupyter-widgets/base",
       "_model_module_version": "2.0.0",
       "_model_name": "LayoutModel",
       "_view_count": null,
       "_view_module": "@jupyter-widgets/base",
       "_view_module_version": "2.0.0",
       "_view_name": "LayoutView",
       "align_content": null,
       "align_items": null,
       "align_self": null,
       "border_bottom": null,
       "border_left": null,
       "border_right": null,
       "border_top": null,
       "bottom": null,
       "display": null,
       "flex": null,
       "flex_flow": null,
       "grid_area": null,
       "grid_auto_columns": null,
       "grid_auto_flow": null,
       "grid_auto_rows": null,
       "grid_column": null,
       "grid_gap": null,
       "grid_row": null,
       "grid_template_areas": null,
       "grid_template_columns": null,
       "grid_template_rows": null,
       "height": null,
       "justify_content": null,
       "justify_items": null,
       "left": null,
       "margin": null,
       "max_height": null,
       "max_width": null,
       "min_height": null,
       "min_width": null,
       "object_fit": null,
       "object_position": null,
       "order": null,
       "overflow": null,
       "padding": null,
       "right": null,
       "top": null,
       "visibility": null,
       "width": null
      }
     },
     "5fe5ffe515d84e65ab7b52c9ddf0ef8b": {
      "model_module": "@jupyter-widgets/controls",
      "model_module_version": "2.0.0",
      "model_name": "FloatProgressModel",
      "state": {
       "_dom_classes": [],
       "_model_module": "@jupyter-widgets/controls",
       "_model_module_version": "2.0.0",
       "_model_name": "FloatProgressModel",
       "_view_count": null,
       "_view_module": "@jupyter-widgets/controls",
       "_view_module_version": "2.0.0",
       "_view_name": "ProgressView",
       "bar_style": "success",
       "description": "",
       "description_allow_html": false,
       "layout": "IPY_MODEL_d336f12423c14b7b876376a088810dc2",
       "max": 16.0,
       "min": 0.0,
       "orientation": "horizontal",
       "style": "IPY_MODEL_4704a0370fcd4ce2a94efd95c3ebe989",
       "tabbable": null,
       "tooltip": null,
       "value": 16.0
      }
     },
     "6063a90a59ec4505ae8d020f133b4e59": {
      "model_module": "@jupyter-widgets/controls",
      "model_module_version": "2.0.0",
      "model_name": "HTMLStyleModel",
      "state": {
       "_model_module": "@jupyter-widgets/controls",
       "_model_module_version": "2.0.0",
       "_model_name": "HTMLStyleModel",
       "_view_count": null,
       "_view_module": "@jupyter-widgets/base",
       "_view_module_version": "2.0.0",
       "_view_name": "StyleView",
       "background": null,
       "description_width": "",
       "font_size": null,
       "text_color": null
      }
     },
     "6bae53e62e8748ef98f4afd0302e296c": {
      "model_module": "@jupyter-widgets/controls",
      "model_module_version": "2.0.0",
      "model_name": "HTMLStyleModel",
      "state": {
       "_model_module": "@jupyter-widgets/controls",
       "_model_module_version": "2.0.0",
       "_model_name": "HTMLStyleModel",
       "_view_count": null,
       "_view_module": "@jupyter-widgets/base",
       "_view_module_version": "2.0.0",
       "_view_name": "StyleView",
       "background": null,
       "description_width": "",
       "font_size": null,
       "text_color": null
      }
     },
     "76c42822b73a45e180905908be838666": {
      "model_module": "@jupyter-widgets/base",
      "model_module_version": "2.0.0",
      "model_name": "LayoutModel",
      "state": {
       "_model_module": "@jupyter-widgets/base",
       "_model_module_version": "2.0.0",
       "_model_name": "LayoutModel",
       "_view_count": null,
       "_view_module": "@jupyter-widgets/base",
       "_view_module_version": "2.0.0",
       "_view_name": "LayoutView",
       "align_content": null,
       "align_items": null,
       "align_self": null,
       "border_bottom": null,
       "border_left": null,
       "border_right": null,
       "border_top": null,
       "bottom": null,
       "display": null,
       "flex": null,
       "flex_flow": null,
       "grid_area": null,
       "grid_auto_columns": null,
       "grid_auto_flow": null,
       "grid_auto_rows": null,
       "grid_column": null,
       "grid_gap": null,
       "grid_row": null,
       "grid_template_areas": null,
       "grid_template_columns": null,
       "grid_template_rows": null,
       "height": null,
       "justify_content": null,
       "justify_items": null,
       "left": null,
       "margin": null,
       "max_height": null,
       "max_width": null,
       "min_height": null,
       "min_width": null,
       "object_fit": null,
       "object_position": null,
       "order": null,
       "overflow": null,
       "padding": null,
       "right": null,
       "top": null,
       "visibility": null,
       "width": null
      }
     },
     "76ef3d3b963d46d3915cc0662ddf6362": {
      "model_module": "@jupyter-widgets/base",
      "model_module_version": "2.0.0",
      "model_name": "LayoutModel",
      "state": {
       "_model_module": "@jupyter-widgets/base",
       "_model_module_version": "2.0.0",
       "_model_name": "LayoutModel",
       "_view_count": null,
       "_view_module": "@jupyter-widgets/base",
       "_view_module_version": "2.0.0",
       "_view_name": "LayoutView",
       "align_content": null,
       "align_items": null,
       "align_self": null,
       "border_bottom": null,
       "border_left": null,
       "border_right": null,
       "border_top": null,
       "bottom": null,
       "display": null,
       "flex": null,
       "flex_flow": null,
       "grid_area": null,
       "grid_auto_columns": null,
       "grid_auto_flow": null,
       "grid_auto_rows": null,
       "grid_column": null,
       "grid_gap": null,
       "grid_row": null,
       "grid_template_areas": null,
       "grid_template_columns": null,
       "grid_template_rows": null,
       "height": null,
       "justify_content": null,
       "justify_items": null,
       "left": null,
       "margin": null,
       "max_height": null,
       "max_width": null,
       "min_height": null,
       "min_width": null,
       "object_fit": null,
       "object_position": null,
       "order": null,
       "overflow": null,
       "padding": null,
       "right": null,
       "top": null,
       "visibility": null,
       "width": null
      }
     },
     "805f7fb574124f96b30cb47f2837a087": {
      "model_module": "@jupyter-widgets/base",
      "model_module_version": "2.0.0",
      "model_name": "LayoutModel",
      "state": {
       "_model_module": "@jupyter-widgets/base",
       "_model_module_version": "2.0.0",
       "_model_name": "LayoutModel",
       "_view_count": null,
       "_view_module": "@jupyter-widgets/base",
       "_view_module_version": "2.0.0",
       "_view_name": "LayoutView",
       "align_content": null,
       "align_items": null,
       "align_self": null,
       "border_bottom": null,
       "border_left": null,
       "border_right": null,
       "border_top": null,
       "bottom": null,
       "display": null,
       "flex": null,
       "flex_flow": null,
       "grid_area": null,
       "grid_auto_columns": null,
       "grid_auto_flow": null,
       "grid_auto_rows": null,
       "grid_column": null,
       "grid_gap": null,
       "grid_row": null,
       "grid_template_areas": null,
       "grid_template_columns": null,
       "grid_template_rows": null,
       "height": null,
       "justify_content": null,
       "justify_items": null,
       "left": null,
       "margin": null,
       "max_height": null,
       "max_width": null,
       "min_height": null,
       "min_width": null,
       "object_fit": null,
       "object_position": null,
       "order": null,
       "overflow": null,
       "padding": null,
       "right": null,
       "top": null,
       "visibility": null,
       "width": null
      }
     },
     "8e0895b0c1034030a31a17106ed547f6": {
      "model_module": "@jupyter-widgets/base",
      "model_module_version": "2.0.0",
      "model_name": "LayoutModel",
      "state": {
       "_model_module": "@jupyter-widgets/base",
       "_model_module_version": "2.0.0",
       "_model_name": "LayoutModel",
       "_view_count": null,
       "_view_module": "@jupyter-widgets/base",
       "_view_module_version": "2.0.0",
       "_view_name": "LayoutView",
       "align_content": null,
       "align_items": null,
       "align_self": null,
       "border_bottom": null,
       "border_left": null,
       "border_right": null,
       "border_top": null,
       "bottom": null,
       "display": null,
       "flex": null,
       "flex_flow": null,
       "grid_area": null,
       "grid_auto_columns": null,
       "grid_auto_flow": null,
       "grid_auto_rows": null,
       "grid_column": null,
       "grid_gap": null,
       "grid_row": null,
       "grid_template_areas": null,
       "grid_template_columns": null,
       "grid_template_rows": null,
       "height": null,
       "justify_content": null,
       "justify_items": null,
       "left": null,
       "margin": null,
       "max_height": null,
       "max_width": null,
       "min_height": null,
       "min_width": null,
       "object_fit": null,
       "object_position": null,
       "order": null,
       "overflow": null,
       "padding": null,
       "right": null,
       "top": null,
       "visibility": null,
       "width": null
      }
     },
     "8e9da590a6d94286ac4669faec8bdf3a": {
      "model_module": "@jupyter-widgets/controls",
      "model_module_version": "2.0.0",
      "model_name": "FloatProgressModel",
      "state": {
       "_dom_classes": [],
       "_model_module": "@jupyter-widgets/controls",
       "_model_module_version": "2.0.0",
       "_model_name": "FloatProgressModel",
       "_view_count": null,
       "_view_module": "@jupyter-widgets/controls",
       "_view_module_version": "2.0.0",
       "_view_name": "ProgressView",
       "bar_style": "success",
       "description": "",
       "description_allow_html": false,
       "layout": "IPY_MODEL_fab292131ec14fc9846725195543bca5",
       "max": 16.0,
       "min": 0.0,
       "orientation": "horizontal",
       "style": "IPY_MODEL_1373153ef63945f0a291194bc64e09f8",
       "tabbable": null,
       "tooltip": null,
       "value": 16.0
      }
     },
     "90c8b71cfeba41d68b40f0cd8cca3012": {
      "model_module": "@jupyter-widgets/controls",
      "model_module_version": "2.0.0",
      "model_name": "HTMLStyleModel",
      "state": {
       "_model_module": "@jupyter-widgets/controls",
       "_model_module_version": "2.0.0",
       "_model_name": "HTMLStyleModel",
       "_view_count": null,
       "_view_module": "@jupyter-widgets/base",
       "_view_module_version": "2.0.0",
       "_view_name": "StyleView",
       "background": null,
       "description_width": "",
       "font_size": null,
       "text_color": null
      }
     },
     "974a4673aa9d42bd94fa9b0421700848": {
      "model_module": "@jupyter-widgets/base",
      "model_module_version": "2.0.0",
      "model_name": "LayoutModel",
      "state": {
       "_model_module": "@jupyter-widgets/base",
       "_model_module_version": "2.0.0",
       "_model_name": "LayoutModel",
       "_view_count": null,
       "_view_module": "@jupyter-widgets/base",
       "_view_module_version": "2.0.0",
       "_view_name": "LayoutView",
       "align_content": null,
       "align_items": null,
       "align_self": null,
       "border_bottom": null,
       "border_left": null,
       "border_right": null,
       "border_top": null,
       "bottom": null,
       "display": null,
       "flex": null,
       "flex_flow": null,
       "grid_area": null,
       "grid_auto_columns": null,
       "grid_auto_flow": null,
       "grid_auto_rows": null,
       "grid_column": null,
       "grid_gap": null,
       "grid_row": null,
       "grid_template_areas": null,
       "grid_template_columns": null,
       "grid_template_rows": null,
       "height": null,
       "justify_content": null,
       "justify_items": null,
       "left": null,
       "margin": null,
       "max_height": null,
       "max_width": null,
       "min_height": null,
       "min_width": null,
       "object_fit": null,
       "object_position": null,
       "order": null,
       "overflow": null,
       "padding": null,
       "right": null,
       "top": null,
       "visibility": null,
       "width": null
      }
     },
     "a306d165356e4d5ca992dd22a77c304e": {
      "model_module": "@jupyter-widgets/controls",
      "model_module_version": "2.0.0",
      "model_name": "HBoxModel",
      "state": {
       "_dom_classes": [],
       "_model_module": "@jupyter-widgets/controls",
       "_model_module_version": "2.0.0",
       "_model_name": "HBoxModel",
       "_view_count": null,
       "_view_module": "@jupyter-widgets/controls",
       "_view_module_version": "2.0.0",
       "_view_name": "HBoxView",
       "box_style": "",
       "children": [
        "IPY_MODEL_1756d4d10ad7418989f46eb03e88f81c",
        "IPY_MODEL_5fe5ffe515d84e65ab7b52c9ddf0ef8b",
        "IPY_MODEL_e1b4467435df479c8d077d5986bb5605"
       ],
       "layout": "IPY_MODEL_b3eb8228f05f43aab0898b87497c2191",
       "tabbable": null,
       "tooltip": null
      }
     },
     "a9011a9ce8524e65be93d5db659cb0fe": {
      "model_module": "@jupyter-widgets/controls",
      "model_module_version": "2.0.0",
      "model_name": "HTMLModel",
      "state": {
       "_dom_classes": [],
       "_model_module": "@jupyter-widgets/controls",
       "_model_module_version": "2.0.0",
       "_model_name": "HTMLModel",
       "_view_count": null,
       "_view_module": "@jupyter-widgets/controls",
       "_view_module_version": "2.0.0",
       "_view_name": "HTMLView",
       "description": "",
       "description_allow_html": false,
       "layout": "IPY_MODEL_76c42822b73a45e180905908be838666",
       "placeholder": "​",
       "style": "IPY_MODEL_ad0535f0340743689b2f07390e40744f",
       "tabbable": null,
       "tooltip": null,
       "value": " 00:00, ETA=00:00"
      }
     },
     "ad0535f0340743689b2f07390e40744f": {
      "model_module": "@jupyter-widgets/controls",
      "model_module_version": "2.0.0",
      "model_name": "HTMLStyleModel",
      "state": {
       "_model_module": "@jupyter-widgets/controls",
       "_model_module_version": "2.0.0",
       "_model_name": "HTMLStyleModel",
       "_view_count": null,
       "_view_module": "@jupyter-widgets/base",
       "_view_module_version": "2.0.0",
       "_view_name": "StyleView",
       "background": null,
       "description_width": "",
       "font_size": null,
       "text_color": null
      }
     },
     "b3eb8228f05f43aab0898b87497c2191": {
      "model_module": "@jupyter-widgets/base",
      "model_module_version": "2.0.0",
      "model_name": "LayoutModel",
      "state": {
       "_model_module": "@jupyter-widgets/base",
       "_model_module_version": "2.0.0",
       "_model_name": "LayoutModel",
       "_view_count": null,
       "_view_module": "@jupyter-widgets/base",
       "_view_module_version": "2.0.0",
       "_view_name": "LayoutView",
       "align_content": null,
       "align_items": null,
       "align_self": null,
       "border_bottom": null,
       "border_left": null,
       "border_right": null,
       "border_top": null,
       "bottom": null,
       "display": null,
       "flex": null,
       "flex_flow": null,
       "grid_area": null,
       "grid_auto_columns": null,
       "grid_auto_flow": null,
       "grid_auto_rows": null,
       "grid_column": null,
       "grid_gap": null,
       "grid_row": null,
       "grid_template_areas": null,
       "grid_template_columns": null,
       "grid_template_rows": null,
       "height": null,
       "justify_content": null,
       "justify_items": null,
       "left": null,
       "margin": null,
       "max_height": null,
       "max_width": null,
       "min_height": null,
       "min_width": null,
       "object_fit": null,
       "object_position": null,
       "order": null,
       "overflow": null,
       "padding": null,
       "right": null,
       "top": null,
       "visibility": null,
       "width": null
      }
     },
     "c0aa9e83ba1c473ba782978100a5dfcb": {
      "model_module": "@jupyter-widgets/base",
      "model_module_version": "2.0.0",
      "model_name": "LayoutModel",
      "state": {
       "_model_module": "@jupyter-widgets/base",
       "_model_module_version": "2.0.0",
       "_model_name": "LayoutModel",
       "_view_count": null,
       "_view_module": "@jupyter-widgets/base",
       "_view_module_version": "2.0.0",
       "_view_name": "LayoutView",
       "align_content": null,
       "align_items": null,
       "align_self": null,
       "border_bottom": null,
       "border_left": null,
       "border_right": null,
       "border_top": null,
       "bottom": null,
       "display": null,
       "flex": null,
       "flex_flow": null,
       "grid_area": null,
       "grid_auto_columns": null,
       "grid_auto_flow": null,
       "grid_auto_rows": null,
       "grid_column": null,
       "grid_gap": null,
       "grid_row": null,
       "grid_template_areas": null,
       "grid_template_columns": null,
       "grid_template_rows": null,
       "height": null,
       "justify_content": null,
       "justify_items": null,
       "left": null,
       "margin": null,
       "max_height": null,
       "max_width": null,
       "min_height": null,
       "min_width": null,
       "object_fit": null,
       "object_position": null,
       "order": null,
       "overflow": null,
       "padding": null,
       "right": null,
       "top": null,
       "visibility": null,
       "width": null
      }
     },
     "c7b36e6816614bed867527c38d78143e": {
      "model_module": "@jupyter-widgets/base",
      "model_module_version": "2.0.0",
      "model_name": "LayoutModel",
      "state": {
       "_model_module": "@jupyter-widgets/base",
       "_model_module_version": "2.0.0",
       "_model_name": "LayoutModel",
       "_view_count": null,
       "_view_module": "@jupyter-widgets/base",
       "_view_module_version": "2.0.0",
       "_view_name": "LayoutView",
       "align_content": null,
       "align_items": null,
       "align_self": null,
       "border_bottom": null,
       "border_left": null,
       "border_right": null,
       "border_top": null,
       "bottom": null,
       "display": null,
       "flex": null,
       "flex_flow": null,
       "grid_area": null,
       "grid_auto_columns": null,
       "grid_auto_flow": null,
       "grid_auto_rows": null,
       "grid_column": null,
       "grid_gap": null,
       "grid_row": null,
       "grid_template_areas": null,
       "grid_template_columns": null,
       "grid_template_rows": null,
       "height": null,
       "justify_content": null,
       "justify_items": null,
       "left": null,
       "margin": null,
       "max_height": null,
       "max_width": null,
       "min_height": null,
       "min_width": null,
       "object_fit": null,
       "object_position": null,
       "order": null,
       "overflow": null,
       "padding": null,
       "right": null,
       "top": null,
       "visibility": null,
       "width": null
      }
     },
     "c886f5d5cd4142179821299c44e3b851": {
      "model_module": "@jupyter-widgets/controls",
      "model_module_version": "2.0.0",
      "model_name": "HTMLModel",
      "state": {
       "_dom_classes": [],
       "_model_module": "@jupyter-widgets/controls",
       "_model_module_version": "2.0.0",
       "_model_name": "HTMLModel",
       "_view_count": null,
       "_view_module": "@jupyter-widgets/controls",
       "_view_module_version": "2.0.0",
       "_view_name": "HTMLView",
       "description": "",
       "description_allow_html": false,
       "layout": "IPY_MODEL_c0aa9e83ba1c473ba782978100a5dfcb",
       "placeholder": "​",
       "style": "IPY_MODEL_ce0b2282ec3d436988257d317e0cd2ae",
       "tabbable": null,
       "tooltip": null,
       "value": "Eradiate [550 nm:0.9947]: 16/16"
      }
     },
     "ce0b2282ec3d436988257d317e0cd2ae": {
      "model_module": "@jupyter-widgets/controls",
      "model_module_version": "2.0.0",
      "model_name": "HTMLStyleModel",
      "state": {
       "_model_module": "@jupyter-widgets/controls",
       "_model_module_version": "2.0.0",
       "_model_name": "HTMLStyleModel",
       "_view_count": null,
       "_view_module": "@jupyter-widgets/base",
       "_view_module_version": "2.0.0",
       "_view_name": "StyleView",
       "background": null,
       "description_width": "",
       "font_size": null,
       "text_color": null
      }
     },
     "d17d1cea8a3249a89014272c5b2b2181": {
      "model_module": "@jupyter-widgets/controls",
      "model_module_version": "2.0.0",
      "model_name": "HTMLStyleModel",
      "state": {
       "_model_module": "@jupyter-widgets/controls",
       "_model_module_version": "2.0.0",
       "_model_name": "HTMLStyleModel",
       "_view_count": null,
       "_view_module": "@jupyter-widgets/base",
       "_view_module_version": "2.0.0",
       "_view_name": "StyleView",
       "background": null,
       "description_width": "",
       "font_size": null,
       "text_color": null
      }
     },
     "d336f12423c14b7b876376a088810dc2": {
      "model_module": "@jupyter-widgets/base",
      "model_module_version": "2.0.0",
      "model_name": "LayoutModel",
      "state": {
       "_model_module": "@jupyter-widgets/base",
       "_model_module_version": "2.0.0",
       "_model_name": "LayoutModel",
       "_view_count": null,
       "_view_module": "@jupyter-widgets/base",
       "_view_module_version": "2.0.0",
       "_view_name": "LayoutView",
       "align_content": null,
       "align_items": null,
       "align_self": null,
       "border_bottom": null,
       "border_left": null,
       "border_right": null,
       "border_top": null,
       "bottom": null,
       "display": null,
       "flex": null,
       "flex_flow": null,
       "grid_area": null,
       "grid_auto_columns": null,
       "grid_auto_flow": null,
       "grid_auto_rows": null,
       "grid_column": null,
       "grid_gap": null,
       "grid_row": null,
       "grid_template_areas": null,
       "grid_template_columns": null,
       "grid_template_rows": null,
       "height": null,
       "justify_content": null,
       "justify_items": null,
       "left": null,
       "margin": null,
       "max_height": null,
       "max_width": null,
       "min_height": null,
       "min_width": null,
       "object_fit": null,
       "object_position": null,
       "order": null,
       "overflow": null,
       "padding": null,
       "right": null,
       "top": null,
       "visibility": null,
       "width": null
      }
     },
     "ddd3e7ef5da74ab3a8b40429e666ec4e": {
      "model_module": "@jupyter-widgets/controls",
      "model_module_version": "2.0.0",
      "model_name": "HBoxModel",
      "state": {
       "_dom_classes": [],
       "_model_module": "@jupyter-widgets/controls",
       "_model_module_version": "2.0.0",
       "_model_name": "HBoxModel",
       "_view_count": null,
       "_view_module": "@jupyter-widgets/controls",
       "_view_module_version": "2.0.0",
       "_view_name": "HBoxView",
       "box_style": "",
       "children": [
        "IPY_MODEL_f32523b347614ff08e11105b53a82a35",
        "IPY_MODEL_160f530cd5d84a9c8f9986a368722271",
        "IPY_MODEL_a9011a9ce8524e65be93d5db659cb0fe"
       ],
       "layout": "IPY_MODEL_974a4673aa9d42bd94fa9b0421700848",
       "tabbable": null,
       "tooltip": null
      }
     },
     "e145ce6783fb46a78258ab09956a09dd": {
      "model_module": "@jupyter-widgets/base",
      "model_module_version": "2.0.0",
      "model_name": "LayoutModel",
      "state": {
       "_model_module": "@jupyter-widgets/base",
       "_model_module_version": "2.0.0",
       "_model_name": "LayoutModel",
       "_view_count": null,
       "_view_module": "@jupyter-widgets/base",
       "_view_module_version": "2.0.0",
       "_view_name": "LayoutView",
       "align_content": null,
       "align_items": null,
       "align_self": null,
       "border_bottom": null,
       "border_left": null,
       "border_right": null,
       "border_top": null,
       "bottom": null,
       "display": null,
       "flex": null,
       "flex_flow": null,
       "grid_area": null,
       "grid_auto_columns": null,
       "grid_auto_flow": null,
       "grid_auto_rows": null,
       "grid_column": null,
       "grid_gap": null,
       "grid_row": null,
       "grid_template_areas": null,
       "grid_template_columns": null,
       "grid_template_rows": null,
       "height": null,
       "justify_content": null,
       "justify_items": null,
       "left": null,
       "margin": null,
       "max_height": null,
       "max_width": null,
       "min_height": null,
       "min_width": null,
       "object_fit": null,
       "object_position": null,
       "order": null,
       "overflow": null,
       "padding": null,
       "right": null,
       "top": null,
       "visibility": null,
       "width": null
      }
     },
     "e1b4467435df479c8d077d5986bb5605": {
      "model_module": "@jupyter-widgets/controls",
      "model_module_version": "2.0.0",
      "model_name": "HTMLModel",
      "state": {
       "_dom_classes": [],
       "_model_module": "@jupyter-widgets/controls",
       "_model_module_version": "2.0.0",
       "_model_name": "HTMLModel",
       "_view_count": null,
       "_view_module": "@jupyter-widgets/controls",
       "_view_module_version": "2.0.0",
       "_view_name": "HTMLView",
       "description": "",
       "description_allow_html": false,
       "layout": "IPY_MODEL_5312fcede2f54245a0d485b1f65a5d11",
       "placeholder": "​",
       "style": "IPY_MODEL_6bae53e62e8748ef98f4afd0302e296c",
       "tabbable": null,
       "tooltip": null,
       "value": " 00:00, ETA=00:00"
      }
     },
     "e2186a3f0d644395a7eef70434afd523": {
      "model_module": "@jupyter-widgets/controls",
      "model_module_version": "2.0.0",
      "model_name": "ProgressStyleModel",
      "state": {
       "_model_module": "@jupyter-widgets/controls",
       "_model_module_version": "2.0.0",
       "_model_name": "ProgressStyleModel",
       "_view_count": null,
       "_view_module": "@jupyter-widgets/base",
       "_view_module_version": "2.0.0",
       "_view_name": "StyleView",
       "bar_color": null,
       "description_width": ""
      }
     },
     "f32523b347614ff08e11105b53a82a35": {
      "model_module": "@jupyter-widgets/controls",
      "model_module_version": "2.0.0",
      "model_name": "HTMLModel",
      "state": {
       "_dom_classes": [],
       "_model_module": "@jupyter-widgets/controls",
       "_model_module_version": "2.0.0",
       "_model_name": "HTMLModel",
       "_view_count": null,
       "_view_module": "@jupyter-widgets/controls",
       "_view_module_version": "2.0.0",
       "_view_name": "HTMLView",
       "description": "",
       "description_allow_html": false,
       "layout": "IPY_MODEL_c7b36e6816614bed867527c38d78143e",
       "placeholder": "​",
       "style": "IPY_MODEL_90c8b71cfeba41d68b40f0cd8cca3012",
       "tabbable": null,
       "tooltip": null,
       "value": "Eradiate [550 nm:0.9947]: 16/16"
      }
     },
     "fab292131ec14fc9846725195543bca5": {
      "model_module": "@jupyter-widgets/base",
      "model_module_version": "2.0.0",
      "model_name": "LayoutModel",
      "state": {
       "_model_module": "@jupyter-widgets/base",
       "_model_module_version": "2.0.0",
       "_model_name": "LayoutModel",
       "_view_count": null,
       "_view_module": "@jupyter-widgets/base",
       "_view_module_version": "2.0.0",
       "_view_name": "LayoutView",
       "align_content": null,
       "align_items": null,
       "align_self": null,
       "border_bottom": null,
       "border_left": null,
       "border_right": null,
       "border_top": null,
       "bottom": null,
       "display": null,
       "flex": null,
       "flex_flow": null,
       "grid_area": null,
       "grid_auto_columns": null,
       "grid_auto_flow": null,
       "grid_auto_rows": null,
       "grid_column": null,
       "grid_gap": null,
       "grid_row": null,
       "grid_template_areas": null,
       "grid_template_columns": null,
       "grid_template_rows": null,
       "height": null,
       "justify_content": null,
       "justify_items": null,
       "left": null,
       "margin": null,
       "max_height": null,
       "max_width": null,
       "min_height": null,
       "min_width": null,
       "object_fit": null,
       "object_position": null,
       "order": null,
       "overflow": null,
       "padding": null,
       "right": null,
       "top": null,
       "visibility": null,
       "width": null
      }
     }
    },
    "version_major": 2,
    "version_minor": 0
   }
  }
 },
 "nbformat": 4,
 "nbformat_minor": 5
}
