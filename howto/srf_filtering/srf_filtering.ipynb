{
 "cells": [
  {
   "cell_type": "raw",
   "id": "d0f1b9ea-ecde-403e-9b7d-553b31990ded",
   "metadata": {
    "raw_mimetype": "text/restructuredtext",
    "tags": []
   },
   "source": [
    "Spectral response function filtering utility\n",
    "============================================\n",
    "\n",
    ".. admonition:: Overview\n",
    "\n",
    "   This tutorial goes over the usage of the spectral response function filtering\n",
    "   utility of Eradiate.\n",
    "\n",
    ".. admonition:: What you will learn\n",
    "\n",
    "   * What are the reasons to filter spectral response functions.\n",
    "   * How to filter a spectral response function data set using different filtering algorithms.\n",
    "   * What are the caveats of some filtering algorithms.\n",
    "   * How to use the filtered spectral response function in an :class:`~eradiate.experiments.Experiment`.\n",
    "\n",
    "----"
   ]
  },
  {
   "cell_type": "raw",
   "id": "4677dc5b",
   "metadata": {
    "raw_mimetype": "text/restructuredtext",
    "tags": []
   },
   "source": [
    "Why filter?\n",
    "-----------\n",
    "\n",
    "This utility lets one filter spectral response function data sets.\n",
    "The reason for doing that could be to:\n",
    "\n",
    "* **reduce the size of the data set** by removing irrelevant data, e.g., leading or trailing zeros\n",
    "* **reach a better simulation speed-versus-accuracy tradeoff**, since some spectral response functions feature a very large spectral span \n",
    "\n",
    "The :mod:`eradiate.srf_filter` module defines different algorithms that can be used to filter spectral response function accordingly.\n",
    "These are made available through the eradiate command-line interface via the ``eradiate srf`` command group.\n",
    "\n",
    ".. code:: shell\n",
    "\n",
    "   eradiate srf --help\n",
    "\n",
    "Although both the Python API or the CLI may be used to filter the spectral reponse function, this tutorial focuses on the CLI usage.\n",
    "Refer to the :ref:`sec-reference_api` for more information on the Python API.\n",
    "\n",
    ".. warning::\n",
    "\n",
    "   There is no universal filter algorithm.\n",
    "   Each filter algorithm has its pros and cons.\n",
    "   It must be stressed that using filtered spectral response function data sets will inevitably lead to less accurate results. As a result, choosing and configuring the filters must be done with great care. The filter choice and configuration is the entire reponsibility of the user.\n",
    "\n",
    "The examples below feature the spectral response functions of bands 1 and 14 of the MODIS instrument onboard the AQUA platform, downloaded on 2022-05-02 at https://oceancolor.gsfc.nasa.gov/docs/rsr/aqua_modis_RSR.nc.\n",
    "They are made available at ``$ERADIATE_SOURCE_DIR/resources/data/tutorials/spectra/srf/``."
   ]
  },
  {
   "cell_type": "raw",
   "id": "8713df20-21fc-4f58-b2da-205435533a3f",
   "metadata": {
    "raw_mimetype": "text/restructuredtext",
    "tags": []
   },
   "source": [
    "Trimming\n",
    "--------\n",
    "\n",
    "We refer to *trimming* as the undestructive filter that removes irrelevant leading and trailing zeros from the data set.\n",
    "In this regard, it can be regarded as a *safe* filtering algorithm.\n",
    "\n",
    "The process of trimming is illustrated with the two figures below:\n",
    "\n",
    ".. image:: aqua-modis-1-original-annotated.png\n",
    "\n",
    ".. image:: aqua-modis-1-trimmed-annotated.png\n",
    "\n",
    "To trim a spectral response function data set, call the ``trim`` subcommand:\n",
    "    \n",
    ".. code:: shell\n",
    "\n",
    "   eradiate srf trim aqua-modis-1.nc aqua-modis-1-trimmed.nc \n",
    "\n",
    "\n",
    "The ``trim`` subcommand takes two arguments:\n",
    "    \n",
    "* the first argument gives the path to the spectral response function data set to trim\n",
    "* the second argument specifies where to write the filtered spectral response function data set\n",
    "    \n",
    "In this example, we use the spectral response function of the band 1 of the MODIS instrument onboard the AQUA platform.\n",
    "After the command is ran, a file called ``aqua-modis-1-trimmed.nc`` is created which contains the trimmed spectral reponse function."
   ]
  },
  {
   "cell_type": "raw",
   "id": "8322ebd9-75f4-457f-8bcc-1003a4c2c0b4",
   "metadata": {
    "raw_mimetype": "text/restructuredtext",
    "tags": []
   },
   "source": [
    "``--verbose``\n",
    "~~~~~~~~~~~~~\n",
    "\n",
    "Use this option to get some information about the filtering process.\n",
    "\n",
    ".. code:: shell\n",
    "          \n",
    "   eradiate srf trim aqua-modis-1.nc aqua-modis-1-trimmed.nc --verbose\n",
    "\n",
    "The command will display a table that summarises the initial and final (filtered) data set in terms of lower wavelength, upper wavelength and number of wavelength data points.\n",
    "\n",
    ".. code:: shell\n",
    "\n",
    "                            Filtering summary                         \n",
    "   ┏━━━━━━━━━━━━┳━━━━━━━━━━━━━━━━━━┳━━━━━━━━━━━━━━━━━━┳━━━━━━━━━━━━━━┓\n",
    "   ┃ SRF        ┃ Lower wavelength ┃ Upper wavelength ┃ # wavelength ┃\n",
    "   ┡━━━━━━━━━━━━╇━━━━━━━━━━━━━━━━━━╇━━━━━━━━━━━━━━━━━━╇━━━━━━━━━━━━━━┩\n",
    "   │ Initial    │     380.0 nm     │    2199.0 nm     │     1820     │\n",
    "   │ Final      │     613.0 nm     │     682.0 nm     │      70      │\n",
    "   ├────────────┼──────────────────┼──────────────────┼──────────────┤\n",
    "   │ Difference │     233.0 nm     │    -1517.0 nm    │    -1750     │\n",
    "   └────────────┴──────────────────┴──────────────────┴──────────────┘\n",
    "\n",
    "In our example, the summary table (above) indicates that the spectral response function is non-zero only in the wavelength range from 613 nm to 682 nm and that to discard the data where the spectral response is zero, 1750 data points have been removed, resulting in 70 remaining data points."
   ]
  },
  {
   "cell_type": "raw",
   "id": "f55c3ae6-f6f1-4ff1-82e9-ae8ff31592a2",
   "metadata": {
    "raw_mimetype": "text/restructuredtext",
    "tags": []
   },
   "source": [
    "``--dry-run``\n",
    "~~~~~~~~~~~~~\n",
    "          \n",
    "You might want to inspect this summary table before making the decision to write the filtered data set to the disk.\n",
    "In that case, use the ``--dry-run`` option:\n",
    "\n",
    ".. code:: shell\n",
    "          \n",
    "   eradiate srf trim aqua-modis-1.nc aqua-modis-1-trimmed.nc --verbose --dry-run\n",
    "\n",
    "The last line of the output tells you where the filtered data would have been written if you had not used the ``--dry-run`` option:\n",
    "\n",
    ".. code:: shell\n",
    "\n",
    "   [14:49:12] Would write filtered data to /home/yvan/Documents/src/eradiate/eradiate/aqua-modis-1-trimmed.nc "
   ]
  },
  {
   "cell_type": "raw",
   "id": "e43ccd95-73b0-4345-9da5-f6cefdbf75fc",
   "metadata": {
    "raw_mimetype": "text/restructuredtext",
    "tags": []
   },
   "source": [
    "``--interactive``\n",
    "~~~~~~~~~~~~~~~~~\n",
    "\n",
    "Use this option to be prompted to confirm applying the filter based on a plot of the spectral response function emphasising the filtered region (best in combination with ``--verbose``):\n",
    "\n",
    ".. code:: shell\n",
    "\n",
    "   eradiate srf trim aqua-modis-1.nc aqua-modis-1-trimmed.nc --verbose --interactive\n",
    "\n",
    "\n",
    "A figure will pop up with a plot showing the initial spectral response functions with vertical/horizontal bars and/or color-filled areas representing the filtered region.\n",
    "\n",
    ".. image:: aqua-modis-1-trimmed.png\n",
    "\n",
    "After you close the pop up window, a prompt will appear asking you to confirm applying the filter:\n",
    "\n",
    ".. code:: shell\n",
    "   \n",
    "   Are you sure you want to apply this filter? [y/N]: \n",
    "\n",
    "Proceed by entering ``y`` (yes) or ``n`` (no)."
   ]
  },
  {
   "cell_type": "raw",
   "id": "79f57ad8-7308-4bbd-8d49-b868aede5425",
   "metadata": {
    "raw_mimetype": "text/restructuredtext",
    "tags": []
   },
   "source": [
    "Filtering\n",
    "---------\n",
    "\n",
    "The ``filter`` subcommand provides additional ways to filter spectral reponse function data sets in a way that may lead to loss of relevant data (i.e. data points where the response is non-zero).\n",
    "Three filtering algorithms are defined that can be combined together:\n",
    "    \n",
    "* the threshold filter: data points where response is less than or equal to a given threshold value are dropped.\n",
    "* the spectral filter: data points falling out of a given wavelength range are dropped.\n",
    "* the integral filter: data points that do not contribute to a given percentage of the integrated spectral response are dropped.\n",
    "\n",
    "The ``filter`` provides the ``-v/--verbose``, ``-d/--dry-run`` and ``-i/--interactive`` options with the same behaviour as with the ``trim`` subcommand.\n",
    "\n",
    "Note that by default, the ``filter`` subcommand trims the data set before applying the other filters.\n",
    "To disable the trimming step, use the ``--no-trim`` option."
   ]
  },
  {
   "cell_type": "raw",
   "id": "6f507863-d73f-4c64-bc61-181fa40ec951",
   "metadata": {
    "raw_mimetype": "text/restructuredtext",
    "tags": []
   },
   "source": [
    "Threshold filter\n",
    "~~~~~~~~~~~~~~~~\n",
    "\n",
    "Use the threshold filter to discard all data points where the response is less than or equal to a given threshold value specified by the ``--threshold/-t`` option.\n",
    "For example, to set the threshold value at ``1e-3``:\n",
    "    \n",
    ".. code:: shell\n",
    "   \n",
    "   eradiate srf filter aqua-modis-14.nc aqua-modis-14-filtered.nc --threshold 0.001\n",
    "\n",
    ".. image:: aqua-modis-14-threshold-0.001.png \n",
    "\n",
    "In some cases, the threshold filter might disconnect the wavelength space into two or more parts, which is often undesirable.\n",
    "In such a case, a warning will appear in the command output.\n",
    "This case is encountered in our example if we used the threshold value of ``1e-4``:\n",
    "\n",
    ".. code:: shell\n",
    "   \n",
    "   eradiate srf filter aqua-modis-14.nc aqua-modis-14-filtered.nc -t 0.0001\n",
    "\n",
    "The figure below illustrates that the wavelength space would be disconnected into three parts.\n",
    "\n",
    ".. image:: aqua-modis-14-threshold-0.0001.png \n",
    "\n",
    "Note that in that case, the filtering summary table printed with ``--verbose`` does not provide information about the intermediate wavelength data points loss.\n",
    "One solution to this problem is to combine the threshold filter with the spectral filter."
   ]
  },
  {
   "cell_type": "raw",
   "id": "6040b19d-1658-4d0f-b4cd-19a43da0c5c7",
   "metadata": {
    "raw_mimetype": "text/restructuredtext",
    "tags": []
   },
   "source": [
    "Spectral filter\n",
    "~~~~~~~~~~~~~~~\n",
    "\n",
    "Use the spectral filter to discard all data points falling below or above a lower and upper wavelength, respectively, specified with the ``--wmin/-w``, ``--wmax/-W`` options.\n",
    "For example, to select only data within the wavelength range from 660 nanometer to 690 nanometer, enter:\n",
    "\n",
    ".. code:: shell\n",
    "   \n",
    "   eradiate srf filter aqua-modis-14.nc aqua-modis-14-filtered.nc -w \"660 nm\" -W \"690 nm\"\n",
    "\n",
    "Note that the lower and upper wavelength values are given with their units.\n",
    "In case units are not provided, they are assumed to be nanometers.\n",
    "The resulting filtered region is highlighted on the plot below:\n",
    "\n",
    ".. image:: aqua-modis-14-spectral-660-690.png"
   ]
  },
  {
   "cell_type": "raw",
   "id": "1a7d1c68-5d92-4d07-b635-5fe550f62cc3",
   "metadata": {
    "raw_mimetype": "text/restructuredtext",
    "tags": []
   },
   "source": [
    "Integral filter\n",
    "~~~~~~~~~~~~~~~\n",
    "\n",
    "Use this filter to filter the data points based on whether they contribute to a given percentage of the integrated spectral reponse.\n",
    "For example, select the data points contributing to at least 98 % of the integrated spectral response with:\n",
    "\n",
    ".. code::\n",
    "   \n",
    "   eradiate srf filter aqua-modis-14.nc aqua-modis-14-filtered.nc -i -v -p 98.0\n",
    "\n",
    "\n",
    "On the figure below, the left and right red filled areas each represent 1 % or less of the integrated spectral response (mind the logarithmic scale for the ordinate axis).\n",
    "\n",
    ".. image:: aqua-modis-14-integral-98.png"
   ]
  },
  {
   "cell_type": "raw",
   "id": "2466d969-165e-4627-80bf-a0eabf6bbec5",
   "metadata": {
    "raw_mimetype": "text/restructuredtext",
    "tags": []
   },
   "source": [
    "Integration in Experiment\n",
    "-------------------------\n",
    "\n",
    "After you filtered a spectral response function, you can use the filtered data set in any :class:`~eradiate.experiments.Experiment`.\n",
    "Simply provide the path to the filtered data set to the ``srf`` parameter in the spectral configuration of the measure scene element of your experiment.\n",
    "\n",
    ".. code:: python\n",
    "\n",
    "   measure = MultiDistantMeasure(\n",
    "       spectral_cfg=MeasureSpectralConfig.new(\n",
    "           srf=\"path/to/aqua-modis-14-filtered.nc\",\n",
    "       )\n",
    "   )"
   ]
  }
 ],
 "metadata": {
  "kernelspec": {
   "display_name": "Python 3 (ipykernel)",
   "language": "python",
   "name": "python3"
  },
  "language_info": {
   "codemirror_mode": {
    "name": "ipython",
    "version": 3
   },
   "file_extension": ".py",
   "mimetype": "text/x-python",
   "name": "python",
   "nbconvert_exporter": "python",
   "pygments_lexer": "ipython3",
   "version": "3.8.13"
  },
  "vscode": {
   "interpreter": {
    "hash": "c253be652fb9ece473200ce09fc5d1789866a5f6f4c186c260aa8374077b2e13"
   }
  }
 },
 "nbformat": 4,
 "nbformat_minor": 5
}
