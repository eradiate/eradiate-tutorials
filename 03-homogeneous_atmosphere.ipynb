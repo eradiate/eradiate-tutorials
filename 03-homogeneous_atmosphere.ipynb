{
 "cells": [
  {
   "cell_type": "markdown",
   "id": "46cda346-efda-41e4-a091-6be322d37ae9",
   "metadata": {},
   "source": [
    "# Homogeneous Atmosphere"
   ]
  },
  {
   "cell_type": "markdown",
   "id": "12adcd96-680e-4ee2-9656-3a0b40bbd65d",
   "metadata": {},
   "source": [
    "In this tutorial, we show how to create a homogeneous atmosphere scene element using default or custom parameters and inspect its properties."
   ]
  },
  {
   "cell_type": "code",
   "execution_count": null,
   "id": "34020cfb-8dad-4b57-a2ff-41d8a7cd5d27",
   "metadata": {},
   "outputs": [],
   "source": [
    "# We load the Rich notebook extension for improved object inspection\n",
    "%load_ext rich\n",
    "\n",
    "# We import the top-level Eradiate module\n",
    "import eradiate"
   ]
  },
  {
   "cell_type": "markdown",
   "id": "b86ef5f6-9292-499d-9ecb-1c81352abf6b",
   "metadata": {},
   "source": [
    "## Create homogeneous atmosphere with default parameters"
   ]
  },
  {
   "cell_type": "markdown",
   "id": "a5b60649-84ef-4585-85a0-fdd60a240b19",
   "metadata": {},
   "source": [
    "Create homogeneous atmosphere objects by instanciating the [HomogeneousAtmosphere](../rst/reference_api/generated/autosummary/eradiate.scenes.atmosphere.HomogeneousAtmosphere.rst) class:"
   ]
  },
  {
   "cell_type": "code",
   "execution_count": null,
   "id": "95b9c0c9-0804-456d-a926-108014bd20fb",
   "metadata": {},
   "outputs": [],
   "source": [
    "my_atmosphere = eradiate.scenes.atmosphere.HomogeneousAtmosphere()"
   ]
  },
  {
   "cell_type": "markdown",
   "id": "9590629f-5fa4-4d87-a352-5a2bcdf90bee",
   "metadata": {},
   "source": [
    "Display the object:"
   ]
  },
  {
   "cell_type": "code",
   "execution_count": null,
   "id": "3d6003ae-395b-4880-b03b-b7d840eabc43",
   "metadata": {},
   "outputs": [],
   "source": [
    "my_atmosphere"
   ]
  },
  {
   "cell_type": "markdown",
   "id": "d1626013-04a6-4e52-a831-2c0cd08d4539",
   "metadata": {},
   "source": [
    "Here, ``id`` is an attribute that uniquely identifies the homogeneous atmosphere scene element in the entire scene and ``geometry`` indicates the geometry in which the atmosphere is going to be created.\n",
    "At this level, you should not bother about these two attributes.\n",
    "\n",
    "We are more interested in the remaining attributes.\n",
    "\n",
    "The ``bottom`` and ``top`` attributes specify the bottom and top altitude of our homogeneous atmosphere, respectively.\n",
    "\n",
    "You can easily inspect the value of the atmosphere's bottom and top altitudes, as well as the atmosphere's height, as show hereafter:"
   ]
  },
  {
   "cell_type": "code",
   "execution_count": null,
   "id": "35b1e825-8270-4cda-8d44-5b120fb91ff6",
   "metadata": {},
   "outputs": [],
   "source": [
    "my_atmosphere.bottom"
   ]
  },
  {
   "cell_type": "code",
   "execution_count": null,
   "id": "b637dbe3-6fad-4964-bb95-f1d7bcf38b13",
   "metadata": {},
   "outputs": [],
   "source": [
    "my_atmosphere.top"
   ]
  },
  {
   "cell_type": "code",
   "execution_count": null,
   "id": "626dfe39-07e1-4c21-9fec-fe885949b958",
   "metadata": {},
   "outputs": [],
   "source": [
    "my_atmosphere.height"
   ]
  },
  {
   "cell_type": "markdown",
   "id": "991c0182-2676-4fcf-946a-be70167fa858",
   "metadata": {},
   "source": [
    "The ``sigma_s``, ``sigma_a`` and ``phase`` attributes specify the radiative properties of our homogeneous atmosphere, namely its scattering coefficient, absorption coefficient and scattering phase function, respectively. \n",
    "By default, the scattering coefficient is set to the air scattering coefficient.\n",
    "The default absorption coefficient is zero, i.e. the homogeneous atmosphere is non-absorbing.\n",
    "Finally, the default scattering phase function is the Rayleigh scattering phase function.\n",
    "\n",
    "To inspect the value of quantities that are spectral-dependent, we must first set Eradiate's mode and create a spectral context object:"
   ]
  },
  {
   "cell_type": "code",
   "execution_count": null,
   "id": "9ed8b7c1-3366-4bf4-9df4-79e09a88315e",
   "metadata": {},
   "outputs": [],
   "source": [
    "from eradiate import unit_registry as ureg\n",
    "\n",
    "eradiate.set_mode(\"mono\")\n",
    "spectral_ctx = eradiate.contexts.SpectralContext.new(wavelength=600 * ureg.nm)"
   ]
  },
  {
   "cell_type": "markdown",
   "id": "8e9c2fe3-6410-4a69-b03a-5687b62fc141",
   "metadata": {},
   "source": [
    "We can now evaluate the scattering scattering coefficient in the current spectral context:"
   ]
  },
  {
   "cell_type": "code",
   "execution_count": null,
   "id": "1c49e455-fce1-4104-bab5-cffde512eefe",
   "metadata": {
    "tags": []
   },
   "outputs": [],
   "source": [
    "my_atmosphere.eval_sigma_s(spectral_ctx)"
   ]
  },
  {
   "cell_type": "markdown",
   "id": "e614e2cd-b99c-4e7b-9538-a0dce4e9e290",
   "metadata": {
    "tags": []
   },
   "source": [
    "## Create homogeneous atmosphere with custom parameters"
   ]
  },
  {
   "cell_type": "markdown",
   "id": "d1306703-681b-4f86-8ecf-0b0d4a78422f",
   "metadata": {},
   "source": [
    "Now, let us create a custom homogeneous atmosphere.\n",
    "The below code creates a homogeneous atmosphere with a 4 km vertical extent, with a bottom altitude of 1 km, an absorption coefficient of 0.001 / km, a scattering coefficient of 0.009 / km and a scattering phase function of the type Henyey and Greenstein with a asymmetry parameter value of 0.1."
   ]
  },
  {
   "cell_type": "code",
   "execution_count": null,
   "id": "5156daea-1bc5-4f79-b718-483a89da1d5f",
   "metadata": {},
   "outputs": [],
   "source": [
    "from eradiate import unit_registry as ureg\n",
    "\n",
    "my_custom_atmosphere = eradiate.scenes.atmosphere.HomogeneousAtmosphere(\n",
    "    bottom = 1 * ureg.km,\n",
    "    top = 5 * ureg.km,\n",
    "    sigma_s = 0.009 / ureg.km,\n",
    "    sigma_a = 0.001 / ureg.km,\n",
    "    phase={\n",
    "        \"type\": \"hg\",\n",
    "        \"g\": 0.1,\n",
    "    },\n",
    ")"
   ]
  },
  {
   "cell_type": "markdown",
   "id": "591e0f09-1408-43db-9944-a1e474a5584a",
   "metadata": {},
   "source": [
    "We confirm that the height of the created atmosphere is 4 km:"
   ]
  },
  {
   "cell_type": "code",
   "execution_count": null,
   "id": "578d0a20-3a20-41bd-9e16-553c63b4fb7b",
   "metadata": {},
   "outputs": [],
   "source": [
    "my_custom_atmosphere.height"
   ]
  },
  {
   "cell_type": "markdown",
   "id": "61f966c1-d7c4-4f48-b819-6c59f5618379",
   "metadata": {},
   "source": [
    "And the albedo, as expected, is 90%:"
   ]
  },
  {
   "cell_type": "code",
   "execution_count": null,
   "id": "542bf6d5-7192-4a6b-8fc5-d54552d8edf3",
   "metadata": {},
   "outputs": [],
   "source": [
    "my_custom_atmosphere.eval_albedo(spectral_ctx)"
   ]
  },
  {
   "cell_type": "code",
   "execution_count": null,
   "id": "6470db46-bddf-470e-aba6-08541d9e7fac",
   "metadata": {},
   "outputs": [],
   "source": []
  }
 ],
 "metadata": {
  "kernelspec": {
   "display_name": "Python 3 (ipykernel)",
   "language": "python",
   "name": "python3"
  },
  "language_info": {
   "codemirror_mode": {
    "name": "ipython",
    "version": 3
   },
   "file_extension": ".py",
   "mimetype": "text/x-python",
   "name": "python",
   "nbconvert_exporter": "python",
   "pygments_lexer": "ipython3",
   "version": "3.8.12"
  }
 },
 "nbformat": 4,
 "nbformat_minor": 5
}
