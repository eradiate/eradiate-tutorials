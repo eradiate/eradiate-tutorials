{
 "cells": [
  {
   "cell_type": "markdown",
   "metadata": {},
   "source": [
    "# Atmosphere tutorial"
   ]
  },
  {
   "cell_type": "markdown",
   "metadata": {},
   "source": [
    "This notebook contains sample cases for the Eradiate preview session of Dec 7th 2021. In this tutorial, we introduce the capabilities of Eradiate's 1D model. We will explore the features and interfaces of different objects used to construct a scene, simulate radiative transfer and visualise results."
   ]
  },
  {
   "cell_type": "code",
   "execution_count": null,
   "metadata": {},
   "outputs": [],
   "source": [
    "# We load the Rich notebook extension for improved object inspection\n",
    "%load_ext rich\n",
    "\n",
    "# We set the Matplotlib inline backend to SVG for better figure quality\n",
    "from matplotlib_inline import backend_inline\n",
    "backend_inline.set_matplotlib_formats(\"svg\")\n",
    "\n",
    "# We import general processing and plotting libraries\n",
    "import numpy as np\n",
    "import matplotlib.pyplot as plt\n",
    "import xarray as xr\n",
    "import pandas as pd\n",
    "\n",
    "# We import the top-level Eradiate module\n",
    "import eradiate\n",
    "\n",
    "# For convenience, we alias a few components\n",
    "from eradiate import unit_registry as ureg\n",
    "import eradiate.scenes as ertsc\n",
    "import eradiate.experiments as ertxp\n",
    "\n",
    "# We'll use the correlated k-distribution mode in double precision\n",
    "eradiate.set_mode(\"ckd_double\")\n",
    "\n",
    "# We activate a few convenient presets\n",
    "eradiate.notebook.install()\n",
    "eradiate.plot.set_style(rc={\"figure.dpi\": 96})\n",
    "eradiate.config.progress = 1  # Restrict progress display to the highest level"
   ]
  },
  {
   "cell_type": "markdown",
   "metadata": {},
   "source": [
    "## General introduction"
   ]
  },
  {
   "cell_type": "markdown",
   "metadata": {},
   "source": [
    "Our scene consists of a one-dimensional atmosphere model and a uniform reflecting surface. Since we want results for a given instrument band, we selected the CKD mode. It implements the correlated *k*-distribution (CKD) absorption model, which consistutes a compromise between correctness and speed. CKD requirements are often not very well fulfilled, but it is still more accurate than a grey band model and (much) faster than monochromatic runs.\n",
    "\n",
    "Let's start by configuring the surface. We'll use a Lambertian surface with default parameters."
   ]
  },
  {
   "cell_type": "code",
   "execution_count": null,
   "metadata": {},
   "outputs": [],
   "source": [
    "surface = ertsc.surface.LambertianSurface()\n",
    "surface"
   ]
  },
  {
   "cell_type": "markdown",
   "metadata": {},
   "source": [
    "Now, let's add a molecular atmosphere on top of it. Eradiate currently provides pre-computed CKD absorption data for the AFGL 1986 atmosphere model with the so-called *U.S. Standard* thermophysical property profile. We'll therefore create an atmosphere object leveraging this data."
   ]
  },
  {
   "cell_type": "code",
   "execution_count": null,
   "metadata": {},
   "outputs": [],
   "source": [
    "atmosphere = ertsc.atmosphere.MolecularAtmosphere.afgl_1986()\n",
    "atmosphere"
   ]
  },
  {
   "cell_type": "markdown",
   "metadata": {},
   "source": [
    "We also have to illuminate our scene. Eradiate simulates Sun illumination using a [perfectly directional model](https://eradiate.readthedocs.io/en/latest/rst/reference/generated/autosummary/eradiate.scenes.illumination.DirectionalIllumination.html) and ships with a number of [Solar irradiance spectra](https://eradiate.readthedocs.io/en/latest/rst/reference/generated/autosummary/eradiate.scenes.spectra.SolarIrradianceSpectrum.html). Although we will stick with the default spectrum (Thuillier, 2003), we could select another one. Available spectra are listed on the [*Solar irradiance spectrum* data guide](https://eradiate.readthedocs.io/en/latest/rst/user_guide/data/solar_irradiance_spectrum_data_sets.html).\n",
    "\n",
    "We will set up our illumination to a local 15° zenith angle and 0° azimuth angle (note: [Eradiate uses a counter-clockwise azimuth orientation, with 0° aligned with the local *X*/East axis](https://eradiate.readthedocs.io/en/latest/rst/user_guide/conventions.html))."
   ]
  },
  {
   "cell_type": "code",
   "execution_count": null,
   "metadata": {},
   "outputs": [],
   "source": [
    "illumination = ertsc.illumination.DirectionalIllumination(\n",
    "    zenith=15.0,\n",
    "    azimuth=0.0,\n",
    ")\n",
    "illumination"
   ]
  },
  {
   "cell_type": "markdown",
   "metadata": {},
   "source": [
    "The last bit we need is to define the measurement we want the Monte Carlo simulator to make. We will compute the top-of-atmosphere bidirectional reflectance factor (TOA BRF). This is done using a *distant radiometer*, an abstract measurement which, in practice, computes the radiance leaving the scene at an infinite distance. It is done with the [`MultiDistantMeasure` class](https://eradiate.readthedocs.io/en/latest/rst/reference/generated/autosummary/eradiate.scenes.measure.MultiDistantMeasure.html). This class can be constructed in several ways:\n",
    "\n",
    "* one may pass directions manually using its basic constructor;\n",
    "* one may specify directions using viewing angles using the `from_viewing_angles()` class method constructor.\n",
    "\n",
    "We will use the second possibility, which feels more natural for Earth observation-related applications. The `from_viewing_angles()` has two main arguments `zeniths` and `azimuths`. By default, both must be arrays of the same size, each element being the zenith (resp. azimuth) value of a zenith-azimuth pair. If all pairs have the same zenith (resp. azimuth) value, then a scalar value may be passed as the zenith (resp. azimuth).\n",
    "\n",
    "The second important parametrisation point of our measure is its spectral configuration. This includes:\n",
    "\n",
    "* The instrument's spectral response function. Importantly, this will determine the spectral range the measure will process. Eradiate has a number of instrument spectral response functions to choose from, and we will select a rather [narrow band of Sentinel-2](https://sentinel.esa.int/web/sentinel/user-guides/sentinel-2-msi/document-library/-/asset_publisher/Wk0TKajiISaR/content/sentinel-2a-spectral-responses) (narrower bands are quicker to process).\n",
    "* In CKD mode, the discretisation used for the spectral domain. Eradiate currently ships pre-computed gaseous absorption data for 1 nm and 10 nm-wide spectral bins. Narrower bins yield more accurate results, but they also require more computational resources to cover a given spectral range. For this example, we will use the 10 nm discretisation.\n",
    "\n",
    "Finally, we have to define the number of radiance samples the Monte Carlo will accumulate to compute this BRF. The computational time is highly dependent on this number, and we will first set it to the default 1000—arguably a low number, which we can increase later on to reduce the amount of noise in our results."
   ]
  },
  {
   "cell_type": "code",
   "execution_count": null,
   "metadata": {},
   "outputs": [],
   "source": [
    "measure = ertsc.measure.MultiDistantMeasure.from_viewing_angles(\n",
    "    id=\"toa_brf\",\n",
    "    zeniths=np.arange(-75, 76, 5),  # We cover the [-75°, 75°] range with 5° steps\n",
    "    azimuths=0,  # The same value as the SAA so as to cover the principal plane\n",
    "    spectral_cfg={\n",
    "        \"srf\": \"sentinel_2a-msi-5\",\n",
    "        \"bin_set\": \"10nm\",\n",
    "    },\n",
    "    spp=1000,\n",
    ")\n",
    "measure"
   ]
  },
  {
   "cell_type": "markdown",
   "metadata": {},
   "source": [
    "Now, we can create an *experiment* instance. It will assemble our scene elements and provide simulation and post-processing interfaces."
   ]
  },
  {
   "cell_type": "code",
   "execution_count": null,
   "metadata": {},
   "outputs": [],
   "source": [
    "exp = ertxp.OneDimExperiment(\n",
    "    surface=surface,\n",
    "    atmosphere=atmosphere,\n",
    "    illumination=illumination,\n",
    "    measures=measure,\n",
    ")\n",
    "exp"
   ]
  },
  {
   "cell_type": "markdown",
   "metadata": {},
   "source": [
    "Now, let's run our simulation. The `run()` method launches the computation, then chains it with the post-processing pipeline:"
   ]
  },
  {
   "cell_type": "code",
   "execution_count": null,
   "metadata": {},
   "outputs": [],
   "source": [
    "exp.run()"
   ]
  },
  {
   "cell_type": "markdown",
   "metadata": {},
   "source": [
    "We can now visualise our results. Let's first collect our result dataset for the `results` dictionary:"
   ]
  },
  {
   "cell_type": "code",
   "execution_count": null,
   "metadata": {},
   "outputs": [],
   "source": [
    "results_intro = exp.results[\"toa_brf\"]\n",
    "results_intro"
   ]
  },
  {
   "cell_type": "markdown",
   "metadata": {},
   "source": [
    "This dataset has many fields. The `_srf`-suffixed fields have the spectral response function applied, while their suffix-free counterparts have a spectral dependency."
   ]
  },
  {
   "cell_type": "code",
   "execution_count": null,
   "metadata": {},
   "outputs": [],
   "source": [
    "with plt.style.context({\"lines.marker\": \".\", \"lines.linestyle\": \":\"}):\n",
    "    results_intro.brf_srf.squeeze(drop=True).plot(x=\"vza\")\n",
    "    plt.title(f\"sza = {float(results_intro.sza)} {results_intro.sza.units}\")\n",
    "    plt.show()\n",
    "    plt.close()"
   ]
  },
  {
   "cell_type": "markdown",
   "metadata": {},
   "source": [
    "**Exercises for the interested reader**\n",
    "\n",
    "1. Increase the surface reflectance to 0.85 and run the simulation again.\n",
    "2. Increase the sample count ten-fold (to 10000) so as to reduce the Monte Carlo noise.\n",
    "3. Change the surface reflectance and use the [Rahman-Pinty-Verstraete (RPV) model](https://eradiate.readthedocs.io/en/latest/rst/reference/generated/autosummary/eradiate.scenes.surface.RPVSurface.html). The BRF in the principal plane should feature a clear \"hot spot\", located to the right of the plot.\n",
    "4. Change the Solar azimuth angle and reorient the measure accordingly so that it remains in the principal plane.\n",
    "5. Modify the angular parametrisation of the measure to record radiance in a hemispherical plane orthogonal to the principal plane."
   ]
  },
  {
   "cell_type": "markdown",
   "metadata": {},
   "source": [
    "## Adjusting atmospheric parameters\n",
    "\n",
    "### Adjusting chemical composition\n",
    "\n",
    "Standard atmospheric profiles are defined with a given chemical composition and changing this in CKD modes is considerably complicated by the amount of work required to recompute CKD spectra. However, Eradiate includes an approximate *rescaling* method to adjust CKD spectra depending on the update chemical composition. This can be done using the `concentrations` of the [`MolecularAtmosphere.afgl_1986()`](https://eradiate.readthedocs.io/en/latest/rst/reference/generated/autosummary/eradiate.scenes.atmosphere.MolecularAtmosphere.html#eradiate.scenes.atmosphere.MolecularAtmosphere.afgl_1986) constructor.\n",
    "\n",
    "The following snippet defines a simulation in Sentinel-2/MSI's band 8 with rescaled water vapour concentration (the surface is white and diffuse):"
   ]
  },
  {
   "cell_type": "code",
   "execution_count": null,
   "metadata": {},
   "outputs": [],
   "source": [
    "water_concentration = 14.3 * ureg(\"kg/m^2\")\n",
    "\n",
    "exp = ertxp.OneDimExperiment(\n",
    "    surface=ertsc.surface.LambertianSurface(reflectance=1.0),\n",
    "    atmosphere=ertsc.atmosphere.MolecularAtmosphere.afgl_1986(\n",
    "        concentrations={\"H2O\": water_concentration}\n",
    "    ),\n",
    "    illumination=ertsc.illumination.DirectionalIllumination(\n",
    "        zenith=0.0, azimuth=0.0\n",
    "    ),\n",
    "    measures=ertsc.measure.MultiDistantMeasure.from_viewing_angles(\n",
    "        id=\"toa_brf\",\n",
    "        zeniths=np.arange(-75, 76, 15),\n",
    "        azimuths=0,\n",
    "        spectral_cfg={\n",
    "            \"srf\": \"sentinel_2a-msi-8\",\n",
    "            \"bin_set\": \"10nm\",\n",
    "        },\n",
    "        spp=1000,\n",
    "    ),\n",
    ")\n",
    "exp.run()\n",
    "\n",
    "results_chemscale = exp.results[\"toa_brf\"]\n",
    "\n",
    "with plt.style.context({\"lines.marker\": \".\", \"lines.linestyle\": \":\"}):\n",
    "    results_chemscale.brf_srf.squeeze(drop=True).plot(x=\"vza\")\n",
    "plt.show()\n",
    "plt.close()"
   ]
  },
  {
   "cell_type": "markdown",
   "metadata": {},
   "source": [
    "**Exercises for the interested reader**\n",
    "\n",
    "1. Repeat this simulation with the following concentration values: `[4.20, 14.3, 41.6] * ureg(\"kg/m^2\")`. Plot the results and check that water vapour significantly decreases the transmittance within that band.\n",
    "2. Switch to band 8A and see that water vapour concentration has much less impact there.\n",
    "3. Make a simulation for a given Sentinel-2 band 8A, then set the BRF to a uniform value, still covering the extent of band 8A."
   ]
  },
  {
   "cell_type": "code",
   "execution_count": null,
   "metadata": {},
   "outputs": [],
   "source": [
    "# Solution to exercises\n",
    "\n",
    "results_chemscale_exercises = []\n",
    "water_concentrations = [4.20, 14.3, 41.6] * ureg(\"kg/m^2\")  # These are the min, default and max values\n",
    "\n",
    "for water_concentration in water_concentrations:\n",
    "    exp = ertxp.OneDimExperiment(\n",
    "        surface=ertsc.surface.LambertianSurface(reflectance=1.0),\n",
    "        atmosphere=ertsc.atmosphere.MolecularAtmosphere.afgl_1986(\n",
    "            concentrations={\"H2O\": water_concentration}\n",
    "        ),\n",
    "        illumination=ertsc.illumination.DirectionalIllumination(\n",
    "            zenith=0.0, azimuth=0.0\n",
    "        ),\n",
    "        measures=ertsc.measure.MultiDistantMeasure.from_viewing_angles(\n",
    "            id=\"toa_brf\",\n",
    "            zeniths=np.arange(-75, 76, 15),\n",
    "            azimuths=0,\n",
    "            spectral_cfg={\n",
    "                \"srf\": \"sentinel_2a-msi-8a\",\n",
    "                #\"srf\": {\"type\": \"interpolated\", \"wavelengths\": [847, 881], \"values\": [1, 1]},\n",
    "                \"bin_set\": \"10nm\",\n",
    "            },\n",
    "            spp=1000,\n",
    "        ),\n",
    "    )\n",
    "    exp.run()\n",
    "    results_chemscale_exercises.append(exp.results[\"toa_brf\"])\n",
    "\n",
    "# Aggregate results in a dataset for easier plotting\n",
    "ds_chemscale_exercises = xr.concat(\n",
    "    results_chemscale_exercises, dim=\"water_concentration\"\n",
    ").reindex(\n",
    "    {\n",
    "        \"water_concentration\": pd.Index(water_concentrations.magnitude, name=\"water_concentration\"),\n",
    "\n",
    "    }\n",
    ")\n",
    "ds_chemscale_exercises[\"water_concentration\"].attrs = {\n",
    "    \"long_name\": \"H$_2$O\",\n",
    "    \"units\": \"kg/m²\"\n",
    "}\n",
    "# ds\n",
    "\n",
    "# Plot the results\n",
    "with plt.style.context({\"lines.marker\": \".\", \"lines.linestyle\": \":\"}):\n",
    "    ds_chemscale_exercises.brf_srf.squeeze(drop=True).plot(x=\"vza\", hue=\"water_concentration\")\n",
    "plt.show()\n",
    "plt.close()"
   ]
  },
  {
   "cell_type": "markdown",
   "metadata": {},
   "source": [
    "### Adding aerosols\n",
    "\n",
    "Eradiate's 1D simulator can account for the presence of aerosols in the atmosphere. The basic component for this is the [`ParticleLayer` class](https://eradiate.readthedocs.io/en/latest/rst/reference/generated/autosummary/eradiate.scenes.atmosphere.ParticleLayer.html). It is parametrised by:\n",
    "\n",
    "* an extent, defined by its `bottom` and `top` parameters;\n",
    "* a number of layers (`n_layers`) the particle layer is discretised;\n",
    "* a particle spatial density distribution (*e.g.* uniform or gaussian)\n",
    "* an optical thickness value at 550 nm.\n",
    "\n",
    "An optical property dataset controlling the variation of the extinction coefficient, single scattering albedo and phase function can also be specified, but Eradiate currently only ships default testing data. Additional datasets will be added soon."
   ]
  },
  {
   "cell_type": "code",
   "execution_count": null,
   "metadata": {},
   "outputs": [],
   "source": [
    "particle_layer = ertsc.atmosphere.ParticleLayer(\n",
    "    bottom=1 * ureg.km,\n",
    "    top=2 * ureg.km,\n",
    "    n_layers=16,\n",
    "    tau_550=0.5,\n",
    ")\n",
    "particle_layer"
   ]
  },
  {
   "cell_type": "markdown",
   "metadata": {},
   "source": [
    "We can assemble this together with the molecular component of our atmosphere using the [`HeterogeneousAtmosphere` container](https://eradiate.readthedocs.io/en/latest/rst/reference/generated/autosummary/eradiate.scenes.atmosphere.HeterogeneousAtmosphere.html):"
   ]
  },
  {
   "cell_type": "code",
   "execution_count": null,
   "metadata": {},
   "outputs": [],
   "source": [
    "atmosphere = ertsc.atmosphere.HeterogeneousAtmosphere(\n",
    "    molecular_atmosphere=ertsc.atmosphere.MolecularAtmosphere.afgl_1986(),\n",
    "    particle_layers=[particle_layer]\n",
    ")\n",
    "atmosphere"
   ]
  },
  {
   "cell_type": "markdown",
   "metadata": {},
   "source": [
    "**Exercises for the interested reader**\n",
    "\n",
    "1. Simulate the TOA BRF for Sentinel-2 (choose a band) for a scene composed of:\n",
    "   * A default AFGL 1986 atmosphere (U.S. Standard profile)\n",
    "   * An aerosol layer of your choice\n",
    "   * A surface of your choice\n",
    "2. Compare the results with a simulation for a scene without the aerosol layer."
   ]
  }
 ],
 "metadata": {
  "interpreter": {
   "hash": "98e4a7c18623e04ff827753458f7b2262eaa88e7eab4d862331048de44ea98bf"
  },
  "kernelspec": {
   "display_name": "Python 3 (ipykernel)",
   "language": "python",
   "name": "python3"
  },
  "language_info": {
   "codemirror_mode": {
    "name": "ipython",
    "version": 3
   },
   "file_extension": ".py",
   "mimetype": "text/x-python",
   "name": "python",
   "nbconvert_exporter": "python",
   "pygments_lexer": "ipython3",
   "version": "3.7.12"
  }
 },
 "nbformat": 4,
 "nbformat_minor": 4
}
