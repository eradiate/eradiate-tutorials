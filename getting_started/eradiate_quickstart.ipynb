{
 "cells": [
  {
   "cell_type": "code",
   "execution_count": 1,
   "id": "09b74bd2-4f5b-4810-ade9-117a542d4349",
   "metadata": {
    "editable": true,
    "execution": {
     "iopub.execute_input": "2023-12-18T10:05:24.749281Z",
     "iopub.status.busy": "2023-12-18T10:05:24.749136Z",
     "iopub.status.idle": "2023-12-18T10:05:26.213870Z",
     "shell.execute_reply": "2023-12-18T10:05:26.213451Z"
    },
    "slideshow": {
     "slide_type": ""
    },
    "tags": []
   },
   "outputs": [
    {
     "data": {
      "text/markdown": [
       "*Last updated: 2023-12-18 11:05 (eradiate v0.24.5.dev35+g131452cf.d20231215)*"
      ],
      "text/plain": [
       "<IPython.core.display.Markdown object>"
      ]
     },
     "metadata": {},
     "output_type": "display_data"
    }
   ],
   "source": [
    "%reload_ext eradiate.notebook.tutorials"
   ]
  },
  {
   "cell_type": "raw",
   "id": "bab00524-9d70-4884-b554-5e13d330e775",
   "metadata": {
    "editable": true,
    "raw_mimetype": "text/restructuredtext",
    "slideshow": {
     "slide_type": ""
    },
    "tags": []
   },
   "source": [
    "First steps with Eradiate\n",
    "=========================\n",
    "\n",
    ".. admonition:: Overview\n",
    "\n",
    "   This tutorial introduces Eradiate and its approach to setting up and running simulations in a practical way.\n",
    "\n",
    ".. admonition:: Prerequisites\n",
    "\n",
    "   * A working installation of Eradiate (see :ref:`sec-user_guide-install`).\n",
    "   * Basic knowledge of the Python programming language.\n",
    "\n",
    "   This tutorial does not require prior knowledge of Eradiate.\n",
    "\n",
    ".. admonition:: What you will learn\n",
    "\n",
    "   * How to set up and run a simulation.\n",
    "   * How to visualise simulation results.\n",
    "   \n",
    "----"
   ]
  },
  {
   "cell_type": "markdown",
   "id": "b685db70-7af9-4609-a173-b14a5b465f09",
   "metadata": {
    "raw_mimetype": "text/markdown",
    "tags": []
   },
   "source": [
    "## Importing modules\n",
    "\n",
    "We start by importing the `eradiate` module.\n",
    "We also import a few utility libraries:\n",
    "\n",
    "* the Numpy scientific library for array computation;\n",
    "* Matplotlib's `pyplot` interface to visualise our results."
   ]
  },
  {
   "cell_type": "code",
   "execution_count": 2,
   "id": "aa753b69-ff86-4c8b-a931-0d218ed5385c",
   "metadata": {
    "execution": {
     "iopub.execute_input": "2023-12-18T10:05:26.216078Z",
     "iopub.status.busy": "2023-12-18T10:05:26.215639Z",
     "iopub.status.idle": "2023-12-18T10:05:26.218108Z",
     "shell.execute_reply": "2023-12-18T10:05:26.217743Z"
    }
   },
   "outputs": [],
   "source": [
    "import eradiate\n",
    "import numpy as np\n",
    "import matplotlib.pyplot as plt"
   ]
  },
  {
   "cell_type": "markdown",
   "id": "08bb04a8-46c8-4dad-86ca-f6f2de722ff7",
   "metadata": {},
   "source": [
    "We can now select an operational mode and add some aliases to submodules of Eradiate for convenience.\n",
    "\n",
    "We will perform monochromatic simulations---for a single wavelength. The corresponding operational mode is called `mono`."
   ]
  },
  {
   "cell_type": "code",
   "execution_count": 3,
   "id": "1baeac32-b51d-43c7-b438-072cddee7f4c",
   "metadata": {
    "execution": {
     "iopub.execute_input": "2023-12-18T10:05:26.219720Z",
     "iopub.status.busy": "2023-12-18T10:05:26.219604Z",
     "iopub.status.idle": "2023-12-18T10:05:26.221835Z",
     "shell.execute_reply": "2023-12-18T10:05:26.221469Z"
    }
   },
   "outputs": [],
   "source": [
    "eradiate.set_mode(\"mono\")"
   ]
  },
  {
   "cell_type": "markdown",
   "id": "04304574-2bfd-433e-bea8-cdc6939dc777",
   "metadata": {},
   "source": [
    "The simulation is performed on a *scene* composed of scattering objects (*e.g.* surface, canopy, atmosphere) and illumination conditions.\n",
    "\n",
    "**Note:** In the spirit of its radiometric kernel Mitsuba, Eradiate also includes its scenes some components which are usually not considered to be part of the radiative transfer process, such as sensors or algorithms used to sample the radiative transfer equation. The reason to that is that all these components participate in the simulation of the measurement."
   ]
  },
  {
   "cell_type": "raw",
   "id": "87a5dccd-2cf8-43d6-b433-7d5ca6b56e22",
   "metadata": {
    "raw_mimetype": "text/restructuredtext",
    "tags": []
   },
   "source": [
    "The :mod:`eradiate.scenes` module holds the components used to describe the scene elements of an Eradiate simulation. We alias it as ``ertsc`` for convenience."
   ]
  },
  {
   "cell_type": "code",
   "execution_count": 4,
   "id": "9456d2f7-bcbe-46dc-ae09-a9cd5025acab",
   "metadata": {
    "execution": {
     "iopub.execute_input": "2023-12-18T10:05:26.223605Z",
     "iopub.status.busy": "2023-12-18T10:05:26.223363Z",
     "iopub.status.idle": "2023-12-18T10:05:26.225471Z",
     "shell.execute_reply": "2023-12-18T10:05:26.225119Z"
    }
   },
   "outputs": [],
   "source": [
    "import eradiate.scenes as ertsc"
   ]
  },
  {
   "cell_type": "markdown",
   "id": "b943680e-4557-436b-83f1-7f93780a70ac",
   "metadata": {},
   "source": [
    "Eradiate manages physical quantities with [Pint](https://pint.readthedocs.io/). Pint handles unit conversions automatically and ensures that user-specified quantities are given in units compatible with Eradiate's internals. This makes scene creation more convenient as all objects can be described in natural units. \n",
    "\n",
    "**Example:** On the one hand, the altitude of the top-of-atmosphere level is naturally expressed in kilometers; on the other hand, the radius of a leaf in a canopy is more intuitively specified in centimeters. Eradiate's unit handling system makes it possible for the user to provide its input using both units at the same time. \n",
    "\n",
    "Numbers are turned into physical quantities using a Pint *unit registry*. For convenience, we alias it as well."
   ]
  },
  {
   "cell_type": "code",
   "execution_count": 5,
   "id": "01e4dba3-3de1-43c4-a7f1-d6e1c2f6c6c0",
   "metadata": {
    "execution": {
     "iopub.execute_input": "2023-12-18T10:05:26.227058Z",
     "iopub.status.busy": "2023-12-18T10:05:26.226940Z",
     "iopub.status.idle": "2023-12-18T10:05:26.228912Z",
     "shell.execute_reply": "2023-12-18T10:05:26.228556Z"
    }
   },
   "outputs": [],
   "source": [
    "from eradiate import unit_registry as ureg"
   ]
  },
  {
   "cell_type": "markdown",
   "id": "3c62e6d2-6125-463a-b57c-896a116c9c8d",
   "metadata": {},
   "source": [
    "## Defining an experiment"
   ]
  },
  {
   "cell_type": "raw",
   "id": "0bbe7bb6-ab13-45e7-b4c0-bbaab6793e14",
   "metadata": {
    "raw_mimetype": "text/restructuredtext",
    "tags": []
   },
   "source": [
    "To run a simulation with Eradiate, we define an :term:`experiment` using an :class:`.Experiment` object, which holds a number of :class:`.SceneElement` objects specifying the scene's constituents. We will perform a simulation on a simple 1D geometry consisting of a flat surface and a plane-parallel atmosphere."
   ]
  },
  {
   "cell_type": "markdown",
   "id": "8954cbbb-74ac-47e6-ab9f-558639f0540b",
   "metadata": {
    "raw_mimetype": "text/restructuredtext",
    "tags": []
   },
   "source": [
    "We start by defining our surface. It is characterised by its geometry and its radiative properties. The geometry is constrained by the experiment we are running and we consequently don't have to specify it---Eradiate will set it automatically.\n",
    "\n",
    "The surface scatters radiation according to its *bidirectional reflectance distribution function* ([BRDF](https://en.wikipedia.org/wiki/Bidirectional_reflectance_distribution_function)), generalised as a *bidirectional scattering distribution function* ([BSDF](https://en.wikipedia.org/wiki/Bidirectional_scattering_distribution_function)). We will use a Lambertain reflectance, which models an ideal surface scattering light equally in every direction."
   ]
  },
  {
   "cell_type": "code",
   "execution_count": 6,
   "id": "5f81b6ca-bd43-4c97-ace9-626ebf3c3253",
   "metadata": {
    "execution": {
     "iopub.execute_input": "2023-12-18T10:05:26.230715Z",
     "iopub.status.busy": "2023-12-18T10:05:26.230411Z",
     "iopub.status.idle": "2023-12-18T10:05:26.235051Z",
     "shell.execute_reply": "2023-12-18T10:05:26.234699Z"
    }
   },
   "outputs": [],
   "source": [
    "surface_bsdf = ertsc.bsdfs.LambertianBSDF(reflectance=0.5)"
   ]
  },
  {
   "cell_type": "markdown",
   "id": "a110b74e-87ab-45fe-987b-1ea908d10d6e",
   "metadata": {},
   "source": [
    "Our experiment also features a molecular atmosphere, aka a clear-sky atmosphere (no aerosols, no clouds)."
   ]
  },
  {
   "cell_type": "code",
   "execution_count": 7,
   "id": "6c2df114-3576-418b-99f7-4681cac53300",
   "metadata": {
    "editable": true,
    "execution": {
     "iopub.execute_input": "2023-12-18T10:05:26.236755Z",
     "iopub.status.busy": "2023-12-18T10:05:26.236454Z",
     "iopub.status.idle": "2023-12-18T10:05:26.489924Z",
     "shell.execute_reply": "2023-12-18T10:05:26.489517Z"
    },
    "slideshow": {
     "slide_type": ""
    },
    "tags": []
   },
   "outputs": [],
   "source": [
    "atmosphere = ertsc.atmosphere.MolecularAtmosphere()"
   ]
  },
  {
   "attachments": {},
   "cell_type": "markdown",
   "id": "bd18ba7b-f84d-4526-b0ba-29c5c055626d",
   "metadata": {},
   "source": [
    "We illuminate the scene using a directional illumination model, parametrised by the Sun zenith and azimuth angles. We do not specify the irradiance spectrum and let Eradiate assign a default value (in that case, the `coddington_2021` Solar irradiance dataset)."
   ]
  },
  {
   "cell_type": "code",
   "execution_count": 8,
   "id": "9da6ea6e-00ab-4161-a813-99eb75de2aa9",
   "metadata": {
    "execution": {
     "iopub.execute_input": "2023-12-18T10:05:26.492085Z",
     "iopub.status.busy": "2023-12-18T10:05:26.491905Z",
     "iopub.status.idle": "2023-12-18T10:05:26.499501Z",
     "shell.execute_reply": "2023-12-18T10:05:26.499149Z"
    }
   },
   "outputs": [],
   "source": [
    "illumination = ertsc.illumination.DirectionalIllumination(\n",
    "    zenith=15.0,\n",
    "    azimuth=0.0,\n",
    ")"
   ]
  },
  {
   "cell_type": "markdown",
   "id": "d92bb57e-9681-46eb-91ce-2c6deb35e98a",
   "metadata": {},
   "source": [
    "Finally, we define the measurement performed during our experiment. We will record the radiance leaving the scene at infinite distance with a *distant* measure in the principal plane, *i.e.* the angular domain with constant azimuth equal to the Sun azimuth angle---which we set to 0° when we specified our illumination conditions."
   ]
  },
  {
   "cell_type": "raw",
   "id": "b0dd6f20-8ae9-4dc6-98c8-1553217042b2",
   "metadata": {
    "raw_mimetype": "text/restructuredtext",
    "tags": []
   },
   "source": [
    "Eradiate has an interface (:class:`.MultiDistantMeasure`) to define a distant measure recording radiance in an arbitrary set of directions. The specialised constructor :meth:`.MultiDistantMeasure.hplane` offers a simplified interface to specify directions contained in a \"hemispherical plane\". Such a plane contains the vertical direction and is characterised by a single azimuth value. We specify a vector of zenith values (``zeniths`` parameter) covering the range from -75° to 75° in 5° steps, and an azimuth value (``azimuths`` parameter) of 0°."
   ]
  },
  {
   "attachments": {},
   "cell_type": "markdown",
   "id": "3e731e9e-c700-44e2-9b2b-f26e51e4e604",
   "metadata": {},
   "source": [
    "Our measure has a spectral response function (`srf` parameter) which controls for which wavelengths this monochromatic simulation will be performed. If multiple wavelengths are requested, Eradiate will automatically loop on them and the output dataset will contain a wavelength dimension.\n",
    "\n",
    "Finally, an `spp` parameter defines the number of radiance samples taken for each direction. We set it to a value ensuring acceptable precision and a short run time (this is our first simulation, we want to see the result quickly!).\n",
    "\n",
    "**Note:** What does the \"SPP\" acronym mean? Internally, the measure instantiates a kernel-level sensor which records its radiance samples to a data structure divided into *pixels*. SPP therefore stands for *samples per pixel*."
   ]
  },
  {
   "cell_type": "code",
   "execution_count": 9,
   "id": "c323676c-3306-4bc1-a61e-084a36b6c910",
   "metadata": {
    "execution": {
     "iopub.execute_input": "2023-12-18T10:05:26.501232Z",
     "iopub.status.busy": "2023-12-18T10:05:26.501115Z",
     "iopub.status.idle": "2023-12-18T10:05:26.535506Z",
     "shell.execute_reply": "2023-12-18T10:05:26.535120Z"
    },
    "tags": []
   },
   "outputs": [],
   "source": [
    "measure = ertsc.measure.MultiDistantMeasure.hplane(\n",
    "    id=\"toa_brf\",\n",
    "    zeniths=np.arange(-75, 76, 5),\n",
    "    azimuth=0,\n",
    "    srf={\"type\": \"multi_delta\", \"wavelengths\": 550.0 * ureg.nm},\n",
    "    spp=10000,\n",
    ")"
   ]
  },
  {
   "cell_type": "raw",
   "id": "68e7a716-8f3b-4605-ad79-739bcace7f05",
   "metadata": {
    "raw_mimetype": "text/restructuredtext",
    "tags": []
   },
   "source": [
    "We combine these elements using an :class:`.AtmosphereExperiment`:"
   ]
  },
  {
   "cell_type": "code",
   "execution_count": 10,
   "id": "76e5beed-182b-4052-bb9b-d492bf1415f5",
   "metadata": {
    "execution": {
     "iopub.execute_input": "2023-12-18T10:05:26.537422Z",
     "iopub.status.busy": "2023-12-18T10:05:26.537274Z",
     "iopub.status.idle": "2023-12-18T10:05:26.575710Z",
     "shell.execute_reply": "2023-12-18T10:05:26.575346Z"
    }
   },
   "outputs": [],
   "source": [
    "exp = eradiate.experiments.AtmosphereExperiment(\n",
    "    surface=surface_bsdf,\n",
    "    atmosphere=atmosphere,\n",
    "    illumination=illumination,\n",
    "    measures=measure,\n",
    ")"
   ]
  },
  {
   "cell_type": "markdown",
   "id": "d154874b-be59-46c1-9c6f-7703cad64b4c",
   "metadata": {},
   "source": [
    "## Running the simulation and visualising the results"
   ]
  },
  {
   "cell_type": "raw",
   "id": "442c6240-0349-41fb-b785-fa41f52a978b",
   "metadata": {
    "raw_mimetype": "text/restructuredtext",
    "tags": []
   },
   "source": [
    "We call the :func:`eradiate.run` function to perform the simulation."
   ]
  },
  {
   "cell_type": "code",
   "execution_count": 11,
   "id": "69105a74-f3b5-4234-81b7-c29b4d70a4ba",
   "metadata": {
    "execution": {
     "iopub.execute_input": "2023-12-18T10:05:26.577693Z",
     "iopub.status.busy": "2023-12-18T10:05:26.577546Z",
     "iopub.status.idle": "2023-12-18T10:05:27.436920Z",
     "shell.execute_reply": "2023-12-18T10:05:27.436522Z"
    },
    "tags": []
   },
   "outputs": [],
   "source": [
    "results = eradiate.run(exp)"
   ]
  },
  {
   "attachments": {},
   "cell_type": "markdown",
   "id": "db218ea4-f25c-484c-82de-6cf3eddea9c5",
   "metadata": {},
   "source": [
    "This function call returns an xarray dataset, which encapsulates a collection of labelled arrays and provides a convenient interface to browse and visualise data. A post-processing pipeline was automatically executed, additionally deriving the BRDF and the *bidirectional reflectance factor* (BRF) from the simulated radiance. Let's take a look at our dataset:"
   ]
  },
  {
   "cell_type": "code",
   "execution_count": 12,
   "id": "9b7a9006-c4f9-436c-be5b-2e92ea5b0eef",
   "metadata": {
    "execution": {
     "iopub.execute_input": "2023-12-18T10:05:27.439084Z",
     "iopub.status.busy": "2023-12-18T10:05:27.438942Z",
     "iopub.status.idle": "2023-12-18T10:05:27.450674Z",
     "shell.execute_reply": "2023-12-18T10:05:27.450372Z"
    }
   },
   "outputs": [
    {
     "data": {
      "text/html": [
       "<div><svg style=\"position: absolute; width: 0; height: 0; overflow: hidden\">\n",
       "<defs>\n",
       "<symbol id=\"icon-database\" viewBox=\"0 0 32 32\">\n",
       "<path d=\"M16 0c-8.837 0-16 2.239-16 5v4c0 2.761 7.163 5 16 5s16-2.239 16-5v-4c0-2.761-7.163-5-16-5z\"></path>\n",
       "<path d=\"M16 17c-8.837 0-16-2.239-16-5v6c0 2.761 7.163 5 16 5s16-2.239 16-5v-6c0 2.761-7.163 5-16 5z\"></path>\n",
       "<path d=\"M16 26c-8.837 0-16-2.239-16-5v6c0 2.761 7.163 5 16 5s16-2.239 16-5v-6c0 2.761-7.163 5-16 5z\"></path>\n",
       "</symbol>\n",
       "<symbol id=\"icon-file-text2\" viewBox=\"0 0 32 32\">\n",
       "<path d=\"M28.681 7.159c-0.694-0.947-1.662-2.053-2.724-3.116s-2.169-2.030-3.116-2.724c-1.612-1.182-2.393-1.319-2.841-1.319h-15.5c-1.378 0-2.5 1.121-2.5 2.5v27c0 1.378 1.122 2.5 2.5 2.5h23c1.378 0 2.5-1.122 2.5-2.5v-19.5c0-0.448-0.137-1.23-1.319-2.841zM24.543 5.457c0.959 0.959 1.712 1.825 2.268 2.543h-4.811v-4.811c0.718 0.556 1.584 1.309 2.543 2.268zM28 29.5c0 0.271-0.229 0.5-0.5 0.5h-23c-0.271 0-0.5-0.229-0.5-0.5v-27c0-0.271 0.229-0.5 0.5-0.5 0 0 15.499-0 15.5 0v7c0 0.552 0.448 1 1 1h7v19.5z\"></path>\n",
       "<path d=\"M23 26h-14c-0.552 0-1-0.448-1-1s0.448-1 1-1h14c0.552 0 1 0.448 1 1s-0.448 1-1 1z\"></path>\n",
       "<path d=\"M23 22h-14c-0.552 0-1-0.448-1-1s0.448-1 1-1h14c0.552 0 1 0.448 1 1s-0.448 1-1 1z\"></path>\n",
       "<path d=\"M23 18h-14c-0.552 0-1-0.448-1-1s0.448-1 1-1h14c0.552 0 1 0.448 1 1s-0.448 1-1 1z\"></path>\n",
       "</symbol>\n",
       "</defs>\n",
       "</svg>\n",
       "<style>/* CSS stylesheet for displaying xarray objects in jupyterlab.\n",
       " *\n",
       " */\n",
       "\n",
       ":root {\n",
       "  --xr-font-color0: var(--jp-content-font-color0, rgba(0, 0, 0, 1));\n",
       "  --xr-font-color2: var(--jp-content-font-color2, rgba(0, 0, 0, 0.54));\n",
       "  --xr-font-color3: var(--jp-content-font-color3, rgba(0, 0, 0, 0.38));\n",
       "  --xr-border-color: var(--jp-border-color2, #e0e0e0);\n",
       "  --xr-disabled-color: var(--jp-layout-color3, #bdbdbd);\n",
       "  --xr-background-color: var(--jp-layout-color0, white);\n",
       "  --xr-background-color-row-even: var(--jp-layout-color1, white);\n",
       "  --xr-background-color-row-odd: var(--jp-layout-color2, #eeeeee);\n",
       "}\n",
       "\n",
       "html[theme=dark],\n",
       "body[data-theme=dark],\n",
       "body.vscode-dark {\n",
       "  --xr-font-color0: rgba(255, 255, 255, 1);\n",
       "  --xr-font-color2: rgba(255, 255, 255, 0.54);\n",
       "  --xr-font-color3: rgba(255, 255, 255, 0.38);\n",
       "  --xr-border-color: #1F1F1F;\n",
       "  --xr-disabled-color: #515151;\n",
       "  --xr-background-color: #111111;\n",
       "  --xr-background-color-row-even: #111111;\n",
       "  --xr-background-color-row-odd: #313131;\n",
       "}\n",
       "\n",
       ".xr-wrap {\n",
       "  display: block !important;\n",
       "  min-width: 300px;\n",
       "  max-width: 700px;\n",
       "}\n",
       "\n",
       ".xr-text-repr-fallback {\n",
       "  /* fallback to plain text repr when CSS is not injected (untrusted notebook) */\n",
       "  display: none;\n",
       "}\n",
       "\n",
       ".xr-header {\n",
       "  padding-top: 6px;\n",
       "  padding-bottom: 6px;\n",
       "  margin-bottom: 4px;\n",
       "  border-bottom: solid 1px var(--xr-border-color);\n",
       "}\n",
       "\n",
       ".xr-header > div,\n",
       ".xr-header > ul {\n",
       "  display: inline;\n",
       "  margin-top: 0;\n",
       "  margin-bottom: 0;\n",
       "}\n",
       "\n",
       ".xr-obj-type,\n",
       ".xr-array-name {\n",
       "  margin-left: 2px;\n",
       "  margin-right: 10px;\n",
       "}\n",
       "\n",
       ".xr-obj-type {\n",
       "  color: var(--xr-font-color2);\n",
       "}\n",
       "\n",
       ".xr-sections {\n",
       "  padding-left: 0 !important;\n",
       "  display: grid;\n",
       "  grid-template-columns: 150px auto auto 1fr 20px 20px;\n",
       "}\n",
       "\n",
       ".xr-section-item {\n",
       "  display: contents;\n",
       "}\n",
       "\n",
       ".xr-section-item input {\n",
       "  display: none;\n",
       "}\n",
       "\n",
       ".xr-section-item input + label {\n",
       "  color: var(--xr-disabled-color);\n",
       "}\n",
       "\n",
       ".xr-section-item input:enabled + label {\n",
       "  cursor: pointer;\n",
       "  color: var(--xr-font-color2);\n",
       "}\n",
       "\n",
       ".xr-section-item input:enabled + label:hover {\n",
       "  color: var(--xr-font-color0);\n",
       "}\n",
       "\n",
       ".xr-section-summary {\n",
       "  grid-column: 1;\n",
       "  color: var(--xr-font-color2);\n",
       "  font-weight: 500;\n",
       "}\n",
       "\n",
       ".xr-section-summary > span {\n",
       "  display: inline-block;\n",
       "  padding-left: 0.5em;\n",
       "}\n",
       "\n",
       ".xr-section-summary-in:disabled + label {\n",
       "  color: var(--xr-font-color2);\n",
       "}\n",
       "\n",
       ".xr-section-summary-in + label:before {\n",
       "  display: inline-block;\n",
       "  content: '►';\n",
       "  font-size: 11px;\n",
       "  width: 15px;\n",
       "  text-align: center;\n",
       "}\n",
       "\n",
       ".xr-section-summary-in:disabled + label:before {\n",
       "  color: var(--xr-disabled-color);\n",
       "}\n",
       "\n",
       ".xr-section-summary-in:checked + label:before {\n",
       "  content: '▼';\n",
       "}\n",
       "\n",
       ".xr-section-summary-in:checked + label > span {\n",
       "  display: none;\n",
       "}\n",
       "\n",
       ".xr-section-summary,\n",
       ".xr-section-inline-details {\n",
       "  padding-top: 4px;\n",
       "  padding-bottom: 4px;\n",
       "}\n",
       "\n",
       ".xr-section-inline-details {\n",
       "  grid-column: 2 / -1;\n",
       "}\n",
       "\n",
       ".xr-section-details {\n",
       "  display: none;\n",
       "  grid-column: 1 / -1;\n",
       "  margin-bottom: 5px;\n",
       "}\n",
       "\n",
       ".xr-section-summary-in:checked ~ .xr-section-details {\n",
       "  display: contents;\n",
       "}\n",
       "\n",
       ".xr-array-wrap {\n",
       "  grid-column: 1 / -1;\n",
       "  display: grid;\n",
       "  grid-template-columns: 20px auto;\n",
       "}\n",
       "\n",
       ".xr-array-wrap > label {\n",
       "  grid-column: 1;\n",
       "  vertical-align: top;\n",
       "}\n",
       "\n",
       ".xr-preview {\n",
       "  color: var(--xr-font-color3);\n",
       "}\n",
       "\n",
       ".xr-array-preview,\n",
       ".xr-array-data {\n",
       "  padding: 0 5px !important;\n",
       "  grid-column: 2;\n",
       "}\n",
       "\n",
       ".xr-array-data,\n",
       ".xr-array-in:checked ~ .xr-array-preview {\n",
       "  display: none;\n",
       "}\n",
       "\n",
       ".xr-array-in:checked ~ .xr-array-data,\n",
       ".xr-array-preview {\n",
       "  display: inline-block;\n",
       "}\n",
       "\n",
       ".xr-dim-list {\n",
       "  display: inline-block !important;\n",
       "  list-style: none;\n",
       "  padding: 0 !important;\n",
       "  margin: 0;\n",
       "}\n",
       "\n",
       ".xr-dim-list li {\n",
       "  display: inline-block;\n",
       "  padding: 0;\n",
       "  margin: 0;\n",
       "}\n",
       "\n",
       ".xr-dim-list:before {\n",
       "  content: '(';\n",
       "}\n",
       "\n",
       ".xr-dim-list:after {\n",
       "  content: ')';\n",
       "}\n",
       "\n",
       ".xr-dim-list li:not(:last-child):after {\n",
       "  content: ',';\n",
       "  padding-right: 5px;\n",
       "}\n",
       "\n",
       ".xr-has-index {\n",
       "  font-weight: bold;\n",
       "}\n",
       "\n",
       ".xr-var-list,\n",
       ".xr-var-item {\n",
       "  display: contents;\n",
       "}\n",
       "\n",
       ".xr-var-item > div,\n",
       ".xr-var-item label,\n",
       ".xr-var-item > .xr-var-name span {\n",
       "  background-color: var(--xr-background-color-row-even);\n",
       "  margin-bottom: 0;\n",
       "}\n",
       "\n",
       ".xr-var-item > .xr-var-name:hover span {\n",
       "  padding-right: 5px;\n",
       "}\n",
       "\n",
       ".xr-var-list > li:nth-child(odd) > div,\n",
       ".xr-var-list > li:nth-child(odd) > label,\n",
       ".xr-var-list > li:nth-child(odd) > .xr-var-name span {\n",
       "  background-color: var(--xr-background-color-row-odd);\n",
       "}\n",
       "\n",
       ".xr-var-name {\n",
       "  grid-column: 1;\n",
       "}\n",
       "\n",
       ".xr-var-dims {\n",
       "  grid-column: 2;\n",
       "}\n",
       "\n",
       ".xr-var-dtype {\n",
       "  grid-column: 3;\n",
       "  text-align: right;\n",
       "  color: var(--xr-font-color2);\n",
       "}\n",
       "\n",
       ".xr-var-preview {\n",
       "  grid-column: 4;\n",
       "}\n",
       "\n",
       ".xr-index-preview {\n",
       "  grid-column: 2 / 5;\n",
       "  color: var(--xr-font-color2);\n",
       "}\n",
       "\n",
       ".xr-var-name,\n",
       ".xr-var-dims,\n",
       ".xr-var-dtype,\n",
       ".xr-preview,\n",
       ".xr-attrs dt {\n",
       "  white-space: nowrap;\n",
       "  overflow: hidden;\n",
       "  text-overflow: ellipsis;\n",
       "  padding-right: 10px;\n",
       "}\n",
       "\n",
       ".xr-var-name:hover,\n",
       ".xr-var-dims:hover,\n",
       ".xr-var-dtype:hover,\n",
       ".xr-attrs dt:hover {\n",
       "  overflow: visible;\n",
       "  width: auto;\n",
       "  z-index: 1;\n",
       "}\n",
       "\n",
       ".xr-var-attrs,\n",
       ".xr-var-data,\n",
       ".xr-index-data {\n",
       "  display: none;\n",
       "  background-color: var(--xr-background-color) !important;\n",
       "  padding-bottom: 5px !important;\n",
       "}\n",
       "\n",
       ".xr-var-attrs-in:checked ~ .xr-var-attrs,\n",
       ".xr-var-data-in:checked ~ .xr-var-data,\n",
       ".xr-index-data-in:checked ~ .xr-index-data {\n",
       "  display: block;\n",
       "}\n",
       "\n",
       ".xr-var-data > table {\n",
       "  float: right;\n",
       "}\n",
       "\n",
       ".xr-var-name span,\n",
       ".xr-var-data,\n",
       ".xr-index-name div,\n",
       ".xr-index-data,\n",
       ".xr-attrs {\n",
       "  padding-left: 25px !important;\n",
       "}\n",
       "\n",
       ".xr-attrs,\n",
       ".xr-var-attrs,\n",
       ".xr-var-data,\n",
       ".xr-index-data {\n",
       "  grid-column: 1 / -1;\n",
       "}\n",
       "\n",
       "dl.xr-attrs {\n",
       "  padding: 0;\n",
       "  margin: 0;\n",
       "  display: grid;\n",
       "  grid-template-columns: 125px auto;\n",
       "}\n",
       "\n",
       ".xr-attrs dt,\n",
       ".xr-attrs dd {\n",
       "  padding: 0;\n",
       "  margin: 0;\n",
       "  float: left;\n",
       "  padding-right: 10px;\n",
       "  width: auto;\n",
       "}\n",
       "\n",
       ".xr-attrs dt {\n",
       "  font-weight: normal;\n",
       "  grid-column: 1;\n",
       "}\n",
       "\n",
       ".xr-attrs dt:hover span {\n",
       "  display: inline-block;\n",
       "  background: var(--xr-background-color);\n",
       "  padding-right: 10px;\n",
       "}\n",
       "\n",
       ".xr-attrs dd {\n",
       "  grid-column: 2;\n",
       "  white-space: pre-wrap;\n",
       "  word-break: break-all;\n",
       "}\n",
       "\n",
       ".xr-icon-database,\n",
       ".xr-icon-file-text2,\n",
       ".xr-no-icon {\n",
       "  display: inline-block;\n",
       "  vertical-align: middle;\n",
       "  width: 1em;\n",
       "  height: 1.5em !important;\n",
       "  stroke-width: 0;\n",
       "  stroke: currentColor;\n",
       "  fill: currentColor;\n",
       "}\n",
       "</style><pre class='xr-text-repr-fallback'>&lt;xarray.Dataset&gt;\n",
       "Dimensions:     (sza: 1, saa: 1, w: 1, y_index: 1, x_index: 31)\n",
       "Coordinates:\n",
       "  * sza         (sza) float64 15.0\n",
       "  * saa         (saa) float64 0.0\n",
       "  * y_index     (y_index) int64 0\n",
       "    y           (y_index) float64 0.0\n",
       "  * x_index     (x_index) int64 0 1 2 3 4 5 6 7 8 ... 22 23 24 25 26 27 28 29 30\n",
       "    x           (x_index) float64 0.0 0.03333 0.06667 0.1 ... 0.9333 0.9667 1.0\n",
       "  * w           (w) float64 550.0\n",
       "    vza         (x_index, y_index) int64 -75 -70 -65 -60 -55 ... 55 60 65 70 75\n",
       "    vaa         (x_index, y_index) int64 0 0 0 0 0 0 0 0 0 ... 0 0 0 0 0 0 0 0 0\n",
       "Data variables:\n",
       "    radiance    (sza, saa, w, y_index, x_index) float64 0.2472 0.2536 ... 0.2535\n",
       "    spp         (sza, saa, w) int64 10000\n",
       "    irradiance  (sza, saa, w) float64 1.843\n",
       "    brdf        (sza, saa, w, y_index, x_index) float64 0.1341 0.1376 ... 0.1376\n",
       "    brf         (sza, saa, w, y_index, x_index) float64 0.4214 0.4323 ... 0.4321\n",
       "Attributes:\n",
       "    convention:  CF-1.10\n",
       "    source:      eradiate, version 0.24.5.dev35+g131452cf.d20231215\n",
       "    history:     2023-12-18T10:05:27 - data creation - AtmosphereExperiment.p...\n",
       "    references:  \n",
       "    title:       Top-of-atmosphere simulation results</pre><div class='xr-wrap' style='display:none'><div class='xr-header'><div class='xr-obj-type'>xarray.Dataset</div></div><ul class='xr-sections'><li class='xr-section-item'><input id='section-78baa99b-e9a2-4101-b64f-65f20209b7ea' class='xr-section-summary-in' type='checkbox' disabled ><label for='section-78baa99b-e9a2-4101-b64f-65f20209b7ea' class='xr-section-summary'  title='Expand/collapse section'>Dimensions:</label><div class='xr-section-inline-details'><ul class='xr-dim-list'><li><span class='xr-has-index'>sza</span>: 1</li><li><span class='xr-has-index'>saa</span>: 1</li><li><span class='xr-has-index'>w</span>: 1</li><li><span class='xr-has-index'>y_index</span>: 1</li><li><span class='xr-has-index'>x_index</span>: 31</li></ul></div><div class='xr-section-details'></div></li><li class='xr-section-item'><input id='section-4af4fbe8-3d53-4037-b6cd-7635b1ac00b1' class='xr-section-summary-in' type='checkbox'  checked><label for='section-4af4fbe8-3d53-4037-b6cd-7635b1ac00b1' class='xr-section-summary' >Coordinates: <span>(9)</span></label><div class='xr-section-inline-details'></div><div class='xr-section-details'><ul class='xr-var-list'><li class='xr-var-item'><div class='xr-var-name'><span class='xr-has-index'>sza</span></div><div class='xr-var-dims'>(sza)</div><div class='xr-var-dtype'>float64</div><div class='xr-var-preview xr-preview'>15.0</div><input id='attrs-cbaeb306-3862-4fd8-b203-245ead5e3ffb' class='xr-var-attrs-in' type='checkbox' ><label for='attrs-cbaeb306-3862-4fd8-b203-245ead5e3ffb' title='Show/Hide attributes'><svg class='icon xr-icon-file-text2'><use xlink:href='#icon-file-text2'></use></svg></label><input id='data-e9927f71-c6ee-4113-a532-da5a5667ca6b' class='xr-var-data-in' type='checkbox'><label for='data-e9927f71-c6ee-4113-a532-da5a5667ca6b' title='Show/Hide data repr'><svg class='icon xr-icon-database'><use xlink:href='#icon-database'></use></svg></label><div class='xr-var-attrs'><dl class='xr-attrs'><dt><span>standard_name :</span></dt><dd>solar_zenith_angle</dd><dt><span>long_name :</span></dt><dd>solar zenith angle</dd><dt><span>units :</span></dt><dd>deg</dd></dl></div><div class='xr-var-data'><pre>array([15.])</pre></div></li><li class='xr-var-item'><div class='xr-var-name'><span class='xr-has-index'>saa</span></div><div class='xr-var-dims'>(saa)</div><div class='xr-var-dtype'>float64</div><div class='xr-var-preview xr-preview'>0.0</div><input id='attrs-c90c35e5-b344-402b-9876-0186ec6fc05f' class='xr-var-attrs-in' type='checkbox' ><label for='attrs-c90c35e5-b344-402b-9876-0186ec6fc05f' title='Show/Hide attributes'><svg class='icon xr-icon-file-text2'><use xlink:href='#icon-file-text2'></use></svg></label><input id='data-dcdacd2f-4f45-4598-995c-c5d14c840e53' class='xr-var-data-in' type='checkbox'><label for='data-dcdacd2f-4f45-4598-995c-c5d14c840e53' title='Show/Hide data repr'><svg class='icon xr-icon-database'><use xlink:href='#icon-database'></use></svg></label><div class='xr-var-attrs'><dl class='xr-attrs'><dt><span>standard_name :</span></dt><dd>solar_azimuth_angle</dd><dt><span>long_name :</span></dt><dd>solar azimuth angle</dd><dt><span>units :</span></dt><dd>deg</dd></dl></div><div class='xr-var-data'><pre>array([0.])</pre></div></li><li class='xr-var-item'><div class='xr-var-name'><span class='xr-has-index'>y_index</span></div><div class='xr-var-dims'>(y_index)</div><div class='xr-var-dtype'>int64</div><div class='xr-var-preview xr-preview'>0</div><input id='attrs-7b1609c3-551c-4f58-a361-b59fb093774f' class='xr-var-attrs-in' type='checkbox' ><label for='attrs-7b1609c3-551c-4f58-a361-b59fb093774f' title='Show/Hide attributes'><svg class='icon xr-icon-file-text2'><use xlink:href='#icon-file-text2'></use></svg></label><input id='data-81edb471-a0b5-4ba4-b2ef-6ee29957cd7d' class='xr-var-data-in' type='checkbox'><label for='data-81edb471-a0b5-4ba4-b2ef-6ee29957cd7d' title='Show/Hide data repr'><svg class='icon xr-icon-database'><use xlink:href='#icon-database'></use></svg></label><div class='xr-var-attrs'><dl class='xr-attrs'><dt><span>long_name :</span></dt><dd>height pixel index</dd></dl></div><div class='xr-var-data'><pre>array([0])</pre></div></li><li class='xr-var-item'><div class='xr-var-name'><span>y</span></div><div class='xr-var-dims'>(y_index)</div><div class='xr-var-dtype'>float64</div><div class='xr-var-preview xr-preview'>0.0</div><input id='attrs-50815019-3451-4386-b3ef-1f37cb576273' class='xr-var-attrs-in' type='checkbox' ><label for='attrs-50815019-3451-4386-b3ef-1f37cb576273' title='Show/Hide attributes'><svg class='icon xr-icon-file-text2'><use xlink:href='#icon-file-text2'></use></svg></label><input id='data-a01c7946-5293-4da8-bb90-f101abffb19e' class='xr-var-data-in' type='checkbox'><label for='data-a01c7946-5293-4da8-bb90-f101abffb19e' title='Show/Hide data repr'><svg class='icon xr-icon-database'><use xlink:href='#icon-database'></use></svg></label><div class='xr-var-attrs'><dl class='xr-attrs'><dt><span>long_name :</span></dt><dd>film height coordinate</dd></dl></div><div class='xr-var-data'><pre>array([0.])</pre></div></li><li class='xr-var-item'><div class='xr-var-name'><span class='xr-has-index'>x_index</span></div><div class='xr-var-dims'>(x_index)</div><div class='xr-var-dtype'>int64</div><div class='xr-var-preview xr-preview'>0 1 2 3 4 5 6 ... 25 26 27 28 29 30</div><input id='attrs-dace79ae-05f0-4a69-b1b0-a88a0996b958' class='xr-var-attrs-in' type='checkbox' ><label for='attrs-dace79ae-05f0-4a69-b1b0-a88a0996b958' title='Show/Hide attributes'><svg class='icon xr-icon-file-text2'><use xlink:href='#icon-file-text2'></use></svg></label><input id='data-428dcdf0-4a88-4f06-baec-c20fb7134ec3' class='xr-var-data-in' type='checkbox'><label for='data-428dcdf0-4a88-4f06-baec-c20fb7134ec3' title='Show/Hide data repr'><svg class='icon xr-icon-database'><use xlink:href='#icon-database'></use></svg></label><div class='xr-var-attrs'><dl class='xr-attrs'><dt><span>long_name :</span></dt><dd>width pixel index</dd></dl></div><div class='xr-var-data'><pre>array([ 0,  1,  2,  3,  4,  5,  6,  7,  8,  9, 10, 11, 12, 13, 14, 15, 16, 17,\n",
       "       18, 19, 20, 21, 22, 23, 24, 25, 26, 27, 28, 29, 30])</pre></div></li><li class='xr-var-item'><div class='xr-var-name'><span>x</span></div><div class='xr-var-dims'>(x_index)</div><div class='xr-var-dtype'>float64</div><div class='xr-var-preview xr-preview'>0.0 0.03333 0.06667 ... 0.9667 1.0</div><input id='attrs-3be5483a-60a5-4c04-ab3b-ae468f410476' class='xr-var-attrs-in' type='checkbox' ><label for='attrs-3be5483a-60a5-4c04-ab3b-ae468f410476' title='Show/Hide attributes'><svg class='icon xr-icon-file-text2'><use xlink:href='#icon-file-text2'></use></svg></label><input id='data-755e3788-a650-49b7-a457-f8252ed46848' class='xr-var-data-in' type='checkbox'><label for='data-755e3788-a650-49b7-a457-f8252ed46848' title='Show/Hide data repr'><svg class='icon xr-icon-database'><use xlink:href='#icon-database'></use></svg></label><div class='xr-var-attrs'><dl class='xr-attrs'><dt><span>long_name :</span></dt><dd>film width coordinate</dd></dl></div><div class='xr-var-data'><pre>array([0.        , 0.03333333, 0.06666667, 0.1       , 0.13333333,\n",
       "       0.16666667, 0.2       , 0.23333333, 0.26666667, 0.3       ,\n",
       "       0.33333333, 0.36666667, 0.4       , 0.43333333, 0.46666667,\n",
       "       0.5       , 0.53333333, 0.56666667, 0.6       , 0.63333333,\n",
       "       0.66666667, 0.7       , 0.73333333, 0.76666667, 0.8       ,\n",
       "       0.83333333, 0.86666667, 0.9       , 0.93333333, 0.96666667,\n",
       "       1.        ])</pre></div></li><li class='xr-var-item'><div class='xr-var-name'><span class='xr-has-index'>w</span></div><div class='xr-var-dims'>(w)</div><div class='xr-var-dtype'>float64</div><div class='xr-var-preview xr-preview'>550.0</div><input id='attrs-8693aa98-4dc1-4f19-b958-027ff58df20e' class='xr-var-attrs-in' type='checkbox' ><label for='attrs-8693aa98-4dc1-4f19-b958-027ff58df20e' title='Show/Hide attributes'><svg class='icon xr-icon-file-text2'><use xlink:href='#icon-file-text2'></use></svg></label><input id='data-793e491c-7750-46a1-81ff-8ab896051068' class='xr-var-data-in' type='checkbox'><label for='data-793e491c-7750-46a1-81ff-8ab896051068' title='Show/Hide data repr'><svg class='icon xr-icon-database'><use xlink:href='#icon-database'></use></svg></label><div class='xr-var-attrs'><dl class='xr-attrs'><dt><span>standard_name :</span></dt><dd>radiation_wavelength</dd><dt><span>long_name :</span></dt><dd>wavelength</dd><dt><span>units :</span></dt><dd>nm</dd></dl></div><div class='xr-var-data'><pre>array([550.])</pre></div></li><li class='xr-var-item'><div class='xr-var-name'><span>vza</span></div><div class='xr-var-dims'>(x_index, y_index)</div><div class='xr-var-dtype'>int64</div><div class='xr-var-preview xr-preview'>-75 -70 -65 -60 -55 ... 60 65 70 75</div><input id='attrs-a40c9543-c469-4cc2-9d37-95582cd194d0' class='xr-var-attrs-in' type='checkbox' ><label for='attrs-a40c9543-c469-4cc2-9d37-95582cd194d0' title='Show/Hide attributes'><svg class='icon xr-icon-file-text2'><use xlink:href='#icon-file-text2'></use></svg></label><input id='data-5b1c3f79-9572-4f74-9f21-4ec7dec61cea' class='xr-var-data-in' type='checkbox'><label for='data-5b1c3f79-9572-4f74-9f21-4ec7dec61cea' title='Show/Hide data repr'><svg class='icon xr-icon-database'><use xlink:href='#icon-database'></use></svg></label><div class='xr-var-attrs'><dl class='xr-attrs'><dt><span>standard_name :</span></dt><dd>viewing_zenith_angle</dd><dt><span>long_name :</span></dt><dd>viewing zenith angle</dd><dt><span>units :</span></dt><dd>deg</dd></dl></div><div class='xr-var-data'><pre>array([[-75],\n",
       "       [-70],\n",
       "       [-65],\n",
       "       [-60],\n",
       "       [-55],\n",
       "       [-50],\n",
       "       [-45],\n",
       "       [-40],\n",
       "       [-35],\n",
       "       [-30],\n",
       "       [-25],\n",
       "       [-20],\n",
       "       [-15],\n",
       "       [-10],\n",
       "       [ -5],\n",
       "       [  0],\n",
       "       [  5],\n",
       "       [ 10],\n",
       "       [ 15],\n",
       "       [ 20],\n",
       "       [ 25],\n",
       "       [ 30],\n",
       "       [ 35],\n",
       "       [ 40],\n",
       "       [ 45],\n",
       "       [ 50],\n",
       "       [ 55],\n",
       "       [ 60],\n",
       "       [ 65],\n",
       "       [ 70],\n",
       "       [ 75]])</pre></div></li><li class='xr-var-item'><div class='xr-var-name'><span>vaa</span></div><div class='xr-var-dims'>(x_index, y_index)</div><div class='xr-var-dtype'>int64</div><div class='xr-var-preview xr-preview'>0 0 0 0 0 0 0 0 ... 0 0 0 0 0 0 0 0</div><input id='attrs-8e87a629-a24c-49d8-a490-155e8adc87f4' class='xr-var-attrs-in' type='checkbox' ><label for='attrs-8e87a629-a24c-49d8-a490-155e8adc87f4' title='Show/Hide attributes'><svg class='icon xr-icon-file-text2'><use xlink:href='#icon-file-text2'></use></svg></label><input id='data-294a0ae8-63ba-4ef0-8011-bce81dcd17a2' class='xr-var-data-in' type='checkbox'><label for='data-294a0ae8-63ba-4ef0-8011-bce81dcd17a2' title='Show/Hide data repr'><svg class='icon xr-icon-database'><use xlink:href='#icon-database'></use></svg></label><div class='xr-var-attrs'><dl class='xr-attrs'><dt><span>standard_name :</span></dt><dd>viewing_azimuth_angle</dd><dt><span>long_name :</span></dt><dd>viewing azimuth angle</dd><dt><span>units :</span></dt><dd>deg</dd></dl></div><div class='xr-var-data'><pre>array([[0],\n",
       "       [0],\n",
       "       [0],\n",
       "       [0],\n",
       "       [0],\n",
       "       [0],\n",
       "       [0],\n",
       "       [0],\n",
       "       [0],\n",
       "       [0],\n",
       "       [0],\n",
       "       [0],\n",
       "       [0],\n",
       "       [0],\n",
       "       [0],\n",
       "       [0],\n",
       "       [0],\n",
       "       [0],\n",
       "       [0],\n",
       "       [0],\n",
       "       [0],\n",
       "       [0],\n",
       "       [0],\n",
       "       [0],\n",
       "       [0],\n",
       "       [0],\n",
       "       [0],\n",
       "       [0],\n",
       "       [0],\n",
       "       [0],\n",
       "       [0]])</pre></div></li></ul></div></li><li class='xr-section-item'><input id='section-8764eded-08e8-4650-81b7-dfed341ba57d' class='xr-section-summary-in' type='checkbox'  checked><label for='section-8764eded-08e8-4650-81b7-dfed341ba57d' class='xr-section-summary' >Data variables: <span>(5)</span></label><div class='xr-section-inline-details'></div><div class='xr-section-details'><ul class='xr-var-list'><li class='xr-var-item'><div class='xr-var-name'><span>radiance</span></div><div class='xr-var-dims'>(sza, saa, w, y_index, x_index)</div><div class='xr-var-dtype'>float64</div><div class='xr-var-preview xr-preview'>0.2472 0.2536 ... 0.2611 0.2535</div><input id='attrs-4578d371-c9cb-41eb-b23a-9e3086029b75' class='xr-var-attrs-in' type='checkbox' ><label for='attrs-4578d371-c9cb-41eb-b23a-9e3086029b75' title='Show/Hide attributes'><svg class='icon xr-icon-file-text2'><use xlink:href='#icon-file-text2'></use></svg></label><input id='data-1277d6d8-2619-4423-98e1-90c087fc598f' class='xr-var-data-in' type='checkbox'><label for='data-1277d6d8-2619-4423-98e1-90c087fc598f' title='Show/Hide data repr'><svg class='icon xr-icon-database'><use xlink:href='#icon-database'></use></svg></label><div class='xr-var-attrs'><dl class='xr-attrs'><dt><span>standard_name :</span></dt><dd>radiance</dd><dt><span>long_name :</span></dt><dd>radiance</dd><dt><span>units :</span></dt><dd>W / m ** 2 / nm / sr</dd></dl></div><div class='xr-var-data'><pre>array([[[[[0.24723813, 0.25361034, 0.26137891, 0.26327869, 0.26647818,\n",
       "           0.26926863, 0.27098596, 0.27163118, 0.27538159, 0.27729732,\n",
       "           0.27728325, 0.27859959, 0.27928862, 0.27991143, 0.27929801,\n",
       "           0.27942815, 0.2803598 , 0.2813347 , 0.28024057, 0.28154412,\n",
       "           0.28089017, 0.28069866, 0.2793811 , 0.27763408, 0.27875727,\n",
       "           0.27432185, 0.27270064, 0.27118155, 0.26717073, 0.26114973,\n",
       "           0.25352755]]]]])</pre></div></li><li class='xr-var-item'><div class='xr-var-name'><span>spp</span></div><div class='xr-var-dims'>(sza, saa, w)</div><div class='xr-var-dtype'>int64</div><div class='xr-var-preview xr-preview'>10000</div><input id='attrs-6ef697ab-0df4-4dcc-9ec5-a40822a0792d' class='xr-var-attrs-in' type='checkbox' disabled><label for='attrs-6ef697ab-0df4-4dcc-9ec5-a40822a0792d' title='Show/Hide attributes'><svg class='icon xr-icon-file-text2'><use xlink:href='#icon-file-text2'></use></svg></label><input id='data-3d25f85d-6716-4952-bc9c-9838f69a424f' class='xr-var-data-in' type='checkbox'><label for='data-3d25f85d-6716-4952-bc9c-9838f69a424f' title='Show/Hide data repr'><svg class='icon xr-icon-database'><use xlink:href='#icon-database'></use></svg></label><div class='xr-var-attrs'><dl class='xr-attrs'></dl></div><div class='xr-var-data'><pre>array([[[10000]]])</pre></div></li><li class='xr-var-item'><div class='xr-var-name'><span>irradiance</span></div><div class='xr-var-dims'>(sza, saa, w)</div><div class='xr-var-dtype'>float64</div><div class='xr-var-preview xr-preview'>1.843</div><input id='attrs-04705681-d7db-4fea-a196-220a4438d4b2' class='xr-var-attrs-in' type='checkbox' ><label for='attrs-04705681-d7db-4fea-a196-220a4438d4b2' title='Show/Hide attributes'><svg class='icon xr-icon-file-text2'><use xlink:href='#icon-file-text2'></use></svg></label><input id='data-bd6839ee-708a-4845-8311-f8ab7987b94e' class='xr-var-data-in' type='checkbox'><label for='data-bd6839ee-708a-4845-8311-f8ab7987b94e' title='Show/Hide data repr'><svg class='icon xr-icon-database'><use xlink:href='#icon-database'></use></svg></label><div class='xr-var-attrs'><dl class='xr-attrs'><dt><span>standard_name :</span></dt><dd>horizontal_solar_irradiance_per_unit_wavelength</dd><dt><span>long_name :</span></dt><dd>horizontal spectral irradiance</dd><dt><span>units :</span></dt><dd>W / m ** 2 / nm</dd></dl></div><div class='xr-var-data'><pre>array([[[1.84308457]]])</pre></div></li><li class='xr-var-item'><div class='xr-var-name'><span>brdf</span></div><div class='xr-var-dims'>(sza, saa, w, y_index, x_index)</div><div class='xr-var-dtype'>float64</div><div class='xr-var-preview xr-preview'>0.1341 0.1376 ... 0.1417 0.1376</div><input id='attrs-071ca194-ba6c-44aa-8687-294937f53e1c' class='xr-var-attrs-in' type='checkbox' ><label for='attrs-071ca194-ba6c-44aa-8687-294937f53e1c' title='Show/Hide attributes'><svg class='icon xr-icon-file-text2'><use xlink:href='#icon-file-text2'></use></svg></label><input id='data-3c121a88-1465-4da2-a6d3-d6015d86ba5e' class='xr-var-data-in' type='checkbox'><label for='data-3c121a88-1465-4da2-a6d3-d6015d86ba5e' title='Show/Hide data repr'><svg class='icon xr-icon-database'><use xlink:href='#icon-database'></use></svg></label><div class='xr-var-attrs'><dl class='xr-attrs'><dt><span>standard_name :</span></dt><dd>brdf</dd><dt><span>long_name :</span></dt><dd>bi-directional reflection distribution function</dd><dt><span>units :</span></dt><dd>1 / sr</dd></dl></div><div class='xr-var-data'><pre>array([[[[[0.13414367, 0.13760103, 0.14181602, 0.14284678, 0.14458272,\n",
       "           0.14609673, 0.1470285 , 0.14737858, 0.14941343, 0.15045285,\n",
       "           0.15044521, 0.15115942, 0.15153326, 0.15187118, 0.15153836,\n",
       "           0.15160897, 0.15211445, 0.1526434 , 0.15204976, 0.15275703,\n",
       "           0.15240221, 0.15229831, 0.15158344, 0.15063556, 0.15124497,\n",
       "           0.14883845, 0.14795883, 0.14713462, 0.14495847, 0.14169167,\n",
       "           0.13755611]]]]])</pre></div></li><li class='xr-var-item'><div class='xr-var-name'><span>brf</span></div><div class='xr-var-dims'>(sza, saa, w, y_index, x_index)</div><div class='xr-var-dtype'>float64</div><div class='xr-var-preview xr-preview'>0.4214 0.4323 ... 0.4451 0.4321</div><input id='attrs-cf6f76ee-e89b-45aa-969b-a983ce924ee7' class='xr-var-attrs-in' type='checkbox' ><label for='attrs-cf6f76ee-e89b-45aa-969b-a983ce924ee7' title='Show/Hide attributes'><svg class='icon xr-icon-file-text2'><use xlink:href='#icon-file-text2'></use></svg></label><input id='data-3ce7715a-964e-4279-bf64-bda890f3e380' class='xr-var-data-in' type='checkbox'><label for='data-3ce7715a-964e-4279-bf64-bda890f3e380' title='Show/Hide data repr'><svg class='icon xr-icon-database'><use xlink:href='#icon-database'></use></svg></label><div class='xr-var-attrs'><dl class='xr-attrs'><dt><span>standard_name :</span></dt><dd>brf</dd><dt><span>long_name :</span></dt><dd>bi-directional reflectance factor</dd><dt><span>units :</span></dt><dd></dd></dl></div><div class='xr-var-data'><pre>array([[[[[0.42142477, 0.4322864 , 0.44552816, 0.44876639, 0.45422001,\n",
       "           0.45897642, 0.46190366, 0.46300345, 0.46939615, 0.47266155,\n",
       "           0.47263758, 0.47488131, 0.47605579, 0.47711738, 0.47607179,\n",
       "           0.47629363, 0.47788165, 0.47954339, 0.47767841, 0.47990035,\n",
       "           0.47878567, 0.47845924, 0.47621342, 0.47323558, 0.47515009,\n",
       "           0.46758979, 0.46482637, 0.46223705, 0.45540048, 0.44513751,\n",
       "           0.43214528]]]]])</pre></div></li></ul></div></li><li class='xr-section-item'><input id='section-45674f80-a975-49be-a44a-9cc40a51c06e' class='xr-section-summary-in' type='checkbox'  ><label for='section-45674f80-a975-49be-a44a-9cc40a51c06e' class='xr-section-summary' >Indexes: <span>(5)</span></label><div class='xr-section-inline-details'></div><div class='xr-section-details'><ul class='xr-var-list'><li class='xr-var-item'><div class='xr-index-name'><div>sza</div></div><div class='xr-index-preview'>PandasIndex</div><div></div><input id='index-156d032b-9044-4740-a11f-3b952aa90ff4' class='xr-index-data-in' type='checkbox'/><label for='index-156d032b-9044-4740-a11f-3b952aa90ff4' title='Show/Hide index repr'><svg class='icon xr-icon-database'><use xlink:href='#icon-database'></use></svg></label><div class='xr-index-data'><pre>PandasIndex(Float64Index([15.0], dtype=&#x27;float64&#x27;, name=&#x27;sza&#x27;))</pre></div></li><li class='xr-var-item'><div class='xr-index-name'><div>saa</div></div><div class='xr-index-preview'>PandasIndex</div><div></div><input id='index-7c979929-cfe6-4775-9eb6-f72b5e2f9795' class='xr-index-data-in' type='checkbox'/><label for='index-7c979929-cfe6-4775-9eb6-f72b5e2f9795' title='Show/Hide index repr'><svg class='icon xr-icon-database'><use xlink:href='#icon-database'></use></svg></label><div class='xr-index-data'><pre>PandasIndex(Float64Index([0.0], dtype=&#x27;float64&#x27;, name=&#x27;saa&#x27;))</pre></div></li><li class='xr-var-item'><div class='xr-index-name'><div>y_index</div></div><div class='xr-index-preview'>PandasIndex</div><div></div><input id='index-1186f4f6-744a-4b70-9566-e7565cb4cb8e' class='xr-index-data-in' type='checkbox'/><label for='index-1186f4f6-744a-4b70-9566-e7565cb4cb8e' title='Show/Hide index repr'><svg class='icon xr-icon-database'><use xlink:href='#icon-database'></use></svg></label><div class='xr-index-data'><pre>PandasIndex(Int64Index([0], dtype=&#x27;int64&#x27;, name=&#x27;y_index&#x27;))</pre></div></li><li class='xr-var-item'><div class='xr-index-name'><div>x_index</div></div><div class='xr-index-preview'>PandasIndex</div><div></div><input id='index-2dad795e-4070-4887-b5ce-b6a27bc7823e' class='xr-index-data-in' type='checkbox'/><label for='index-2dad795e-4070-4887-b5ce-b6a27bc7823e' title='Show/Hide index repr'><svg class='icon xr-icon-database'><use xlink:href='#icon-database'></use></svg></label><div class='xr-index-data'><pre>PandasIndex(Int64Index([ 0,  1,  2,  3,  4,  5,  6,  7,  8,  9, 10, 11, 12, 13, 14, 15, 16,\n",
       "            17, 18, 19, 20, 21, 22, 23, 24, 25, 26, 27, 28, 29, 30],\n",
       "           dtype=&#x27;int64&#x27;, name=&#x27;x_index&#x27;))</pre></div></li><li class='xr-var-item'><div class='xr-index-name'><div>w</div></div><div class='xr-index-preview'>PandasIndex</div><div></div><input id='index-80df4769-ef21-4d81-acec-d28ddcf61ead' class='xr-index-data-in' type='checkbox'/><label for='index-80df4769-ef21-4d81-acec-d28ddcf61ead' title='Show/Hide index repr'><svg class='icon xr-icon-database'><use xlink:href='#icon-database'></use></svg></label><div class='xr-index-data'><pre>PandasIndex(Float64Index([550.0], dtype=&#x27;float64&#x27;, name=&#x27;w&#x27;))</pre></div></li></ul></div></li><li class='xr-section-item'><input id='section-7455382f-c08f-465f-8961-fc790e7b23ea' class='xr-section-summary-in' type='checkbox'  checked><label for='section-7455382f-c08f-465f-8961-fc790e7b23ea' class='xr-section-summary' >Attributes: <span>(5)</span></label><div class='xr-section-inline-details'></div><div class='xr-section-details'><dl class='xr-attrs'><dt><span>convention :</span></dt><dd>CF-1.10</dd><dt><span>source :</span></dt><dd>eradiate, version 0.24.5.dev35+g131452cf.d20231215</dd><dt><span>history :</span></dt><dd>2023-12-18T10:05:27 - data creation - AtmosphereExperiment.postprocess()</dd><dt><span>references :</span></dt><dd></dd><dt><span>title :</span></dt><dd>Top-of-atmosphere simulation results</dd></dl></div></li></ul></div></div>"
      ],
      "text/plain": [
       "<xarray.Dataset>\n",
       "Dimensions:     (sza: 1, saa: 1, w: 1, y_index: 1, x_index: 31)\n",
       "Coordinates:\n",
       "  * sza         (sza) float64 15.0\n",
       "  * saa         (saa) float64 0.0\n",
       "  * y_index     (y_index) int64 0\n",
       "    y           (y_index) float64 0.0\n",
       "  * x_index     (x_index) int64 0 1 2 3 4 5 6 7 8 ... 22 23 24 25 26 27 28 29 30\n",
       "    x           (x_index) float64 0.0 0.03333 0.06667 0.1 ... 0.9333 0.9667 1.0\n",
       "  * w           (w) float64 550.0\n",
       "    vza         (x_index, y_index) int64 -75 -70 -65 -60 -55 ... 55 60 65 70 75\n",
       "    vaa         (x_index, y_index) int64 0 0 0 0 0 0 0 0 0 ... 0 0 0 0 0 0 0 0 0\n",
       "Data variables:\n",
       "    radiance    (sza, saa, w, y_index, x_index) float64 0.2472 0.2536 ... 0.2535\n",
       "    spp         (sza, saa, w) int64 10000\n",
       "    irradiance  (sza, saa, w) float64 1.843\n",
       "    brdf        (sza, saa, w, y_index, x_index) float64 0.1341 0.1376 ... 0.1376\n",
       "    brf         (sza, saa, w, y_index, x_index) float64 0.4214 0.4323 ... 0.4321\n",
       "Attributes:\n",
       "    convention:  CF-1.10\n",
       "    source:      eradiate, version 0.24.5.dev35+g131452cf.d20231215\n",
       "    history:     2023-12-18T10:05:27 - data creation - AtmosphereExperiment.p...\n",
       "    references:  \n",
       "    title:       Top-of-atmosphere simulation results"
      ]
     },
     "execution_count": 12,
     "metadata": {},
     "output_type": "execute_result"
    }
   ],
   "source": [
    "results"
   ]
  },
  {
   "cell_type": "markdown",
   "id": "8d1afb3b-3f6b-4cba-b31f-3983c9d1b2f6",
   "metadata": {
    "tags": []
   },
   "source": [
    "We can see that a `brf` variable is present. To visualise it, we create a Matplotlib figure and plot the BRF data, using xarray's built-in plotting interface. By passing the x coordinate in the plotting method, we choose which coordinate to plot against. We also set markers and line style to visualise sample location more precisely."
   ]
  },
  {
   "cell_type": "code",
   "execution_count": 13,
   "id": "a6175101-2069-4b1b-a7b4-22b949208117",
   "metadata": {
    "execution": {
     "iopub.execute_input": "2023-12-18T10:05:27.452229Z",
     "iopub.status.busy": "2023-12-18T10:05:27.452100Z",
     "iopub.status.idle": "2023-12-18T10:05:27.595749Z",
     "shell.execute_reply": "2023-12-18T10:05:27.595396Z"
    },
    "tags": [
     "nbsphinx-thumbnail"
    ]
   },
   "outputs": [
    {
     "data": {
      "image/png": "[encoded data removed]",
      "text/plain": [
       "<Figure size 640x480 with 1 Axes>"
      ]
     },
     "metadata": {},
     "output_type": "display_data"
    }
   ],
   "source": [
    "fig = plt.figure()\n",
    "results.brf.plot(x=\"vza\", linestyle=\":\", marker=\".\");"
   ]
  },
  {
   "cell_type": "raw",
   "id": "87a8392e-a93d-44b9-80cd-862d883001b1",
   "metadata": {
    "editable": true,
    "raw_mimetype": "text/restructuredtext",
    "slideshow": {
     "slide_type": ""
    },
    "tags": []
   },
   "source": [
    "----\n",
    "\n",
    "Final words\n",
    "-----------\n",
    "\n",
    "Bravo! You just completed your first Eradiate simulation. You can now try and modify it, for instance by changing the sample count (check the effect on the processing time and the Monte Carlo noise in the results) or the zenith angles of the measure.\n",
    "\n",
    "Further reading\n",
    "---------------\n",
    "\n",
    "* :doc:`molecular_atmosphere`"
   ]
  }
 ],
 "metadata": {
  "kernelspec": {
   "display_name": "Python 3 (ipykernel)",
   "language": "python",
   "name": "python3"
  },
  "language_info": {
   "codemirror_mode": {
    "name": "ipython",
    "version": 3
   },
   "file_extension": ".py",
   "mimetype": "text/x-python",
   "name": "python",
   "nbconvert_exporter": "python",
   "pygments_lexer": "ipython3",
   "version": "3.8.18"
  },
  "vscode": {
   "interpreter": {
    "hash": "c253be652fb9ece473200ce09fc5d1789866a5f6f4c186c260aa8374077b2e13"
   }
  },
  "widgets": {
   "application/vnd.jupyter.widget-state+json": {
    "state": {
     "162639b1f55147f082801468392fc717": {
      "model_module": "@jupyter-widgets/controls",
      "model_module_version": "2.0.0",
      "model_name": "HTMLStyleModel",
      "state": {
       "_model_module": "@jupyter-widgets/controls",
       "_model_module_version": "2.0.0",
       "_model_name": "HTMLStyleModel",
       "_view_count": null,
       "_view_module": "@jupyter-widgets/base",
       "_view_module_version": "2.0.0",
       "_view_name": "StyleView",
       "background": null,
       "description_width": "",
       "font_size": null,
       "text_color": null
      }
     },
     "20b4508a4a3644af8231b0b8e37ff4dc": {
      "model_module": "@jupyter-widgets/base",
      "model_module_version": "2.0.0",
      "model_name": "LayoutModel",
      "state": {
       "_model_module": "@jupyter-widgets/base",
       "_model_module_version": "2.0.0",
       "_model_name": "LayoutModel",
       "_view_count": null,
       "_view_module": "@jupyter-widgets/base",
       "_view_module_version": "2.0.0",
       "_view_name": "LayoutView",
       "align_content": null,
       "align_items": null,
       "align_self": null,
       "border_bottom": null,
       "border_left": null,
       "border_right": null,
       "border_top": null,
       "bottom": null,
       "display": null,
       "flex": null,
       "flex_flow": null,
       "grid_area": null,
       "grid_auto_columns": null,
       "grid_auto_flow": null,
       "grid_auto_rows": null,
       "grid_column": null,
       "grid_gap": null,
       "grid_row": null,
       "grid_template_areas": null,
       "grid_template_columns": null,
       "grid_template_rows": null,
       "height": null,
       "justify_content": null,
       "justify_items": null,
       "left": null,
       "margin": null,
       "max_height": null,
       "max_width": null,
       "min_height": null,
       "min_width": null,
       "object_fit": null,
       "object_position": null,
       "order": null,
       "overflow": null,
       "padding": null,
       "right": null,
       "top": null,
       "visibility": null,
       "width": null
      }
     },
     "316ba344db47476492f95f1124f2c816": {
      "model_module": "@jupyter-widgets/controls",
      "model_module_version": "2.0.0",
      "model_name": "HTMLModel",
      "state": {
       "_dom_classes": [],
       "_model_module": "@jupyter-widgets/controls",
       "_model_module_version": "2.0.0",
       "_model_name": "HTMLModel",
       "_view_count": null,
       "_view_module": "@jupyter-widgets/controls",
       "_view_module_version": "2.0.0",
       "_view_name": "HTMLView",
       "description": "",
       "description_allow_html": false,
       "layout": "IPY_MODEL_20b4508a4a3644af8231b0b8e37ff4dc",
       "placeholder": "​",
       "style": "IPY_MODEL_162639b1f55147f082801468392fc717",
       "tabbable": null,
       "tooltip": null,
       "value": "Rendering (69ms, ETA: 0ms)"
      }
     },
     "37cc1dd735f6490d9fee0fd07d504ab1": {
      "model_module": "@jupyter-widgets/controls",
      "model_module_version": "2.0.0",
      "model_name": "ProgressStyleModel",
      "state": {
       "_model_module": "@jupyter-widgets/controls",
       "_model_module_version": "2.0.0",
       "_model_name": "ProgressStyleModel",
       "_view_count": null,
       "_view_module": "@jupyter-widgets/base",
       "_view_module_version": "2.0.0",
       "_view_name": "StyleView",
       "bar_color": null,
       "description_width": ""
      }
     },
     "618827aefb8b4adc86742612e64c2464": {
      "model_module": "@jupyter-widgets/controls",
      "model_module_version": "2.0.0",
      "model_name": "FloatProgressModel",
      "state": {
       "_dom_classes": [],
       "_model_module": "@jupyter-widgets/controls",
       "_model_module_version": "2.0.0",
       "_model_name": "FloatProgressModel",
       "_view_count": null,
       "_view_module": "@jupyter-widgets/controls",
       "_view_module_version": "2.0.0",
       "_view_name": "ProgressView",
       "bar_style": "success",
       "description": "",
       "description_allow_html": false,
       "layout": "IPY_MODEL_f3c3e0f5088a4d2285f3e91f21bdec9b",
       "max": 1,
       "min": 0,
       "orientation": "horizontal",
       "style": "IPY_MODEL_37cc1dd735f6490d9fee0fd07d504ab1",
       "tabbable": null,
       "tooltip": null,
       "value": 1
      }
     },
     "9b0b11d6186f4b13b96097d651f87a3f": {
      "model_module": "@jupyter-widgets/base",
      "model_module_version": "2.0.0",
      "model_name": "LayoutModel",
      "state": {
       "_model_module": "@jupyter-widgets/base",
       "_model_module_version": "2.0.0",
       "_model_name": "LayoutModel",
       "_view_count": null,
       "_view_module": "@jupyter-widgets/base",
       "_view_module_version": "2.0.0",
       "_view_name": "LayoutView",
       "align_content": null,
       "align_items": null,
       "align_self": null,
       "border_bottom": null,
       "border_left": null,
       "border_right": null,
       "border_top": null,
       "bottom": null,
       "display": null,
       "flex": null,
       "flex_flow": null,
       "grid_area": null,
       "grid_auto_columns": null,
       "grid_auto_flow": null,
       "grid_auto_rows": null,
       "grid_column": null,
       "grid_gap": null,
       "grid_row": null,
       "grid_template_areas": null,
       "grid_template_columns": null,
       "grid_template_rows": null,
       "height": null,
       "justify_content": null,
       "justify_items": null,
       "left": null,
       "margin": null,
       "max_height": null,
       "max_width": null,
       "min_height": null,
       "min_width": null,
       "object_fit": null,
       "object_position": null,
       "order": null,
       "overflow": null,
       "padding": null,
       "right": null,
       "top": null,
       "visibility": null,
       "width": null
      }
     },
     "de13dbbf02684fe98d63d7308f3903d5": {
      "model_module": "@jupyter-widgets/controls",
      "model_module_version": "2.0.0",
      "model_name": "VBoxModel",
      "state": {
       "_dom_classes": [],
       "_model_module": "@jupyter-widgets/controls",
       "_model_module_version": "2.0.0",
       "_model_name": "VBoxModel",
       "_view_count": null,
       "_view_module": "@jupyter-widgets/controls",
       "_view_module_version": "2.0.0",
       "_view_name": "VBoxView",
       "box_style": "",
       "children": [
        "IPY_MODEL_316ba344db47476492f95f1124f2c816",
        "IPY_MODEL_618827aefb8b4adc86742612e64c2464"
       ],
       "layout": "IPY_MODEL_9b0b11d6186f4b13b96097d651f87a3f",
       "tabbable": null,
       "tooltip": null
      }
     },
     "f3c3e0f5088a4d2285f3e91f21bdec9b": {
      "model_module": "@jupyter-widgets/base",
      "model_module_version": "2.0.0",
      "model_name": "LayoutModel",
      "state": {
       "_model_module": "@jupyter-widgets/base",
       "_model_module_version": "2.0.0",
       "_model_name": "LayoutModel",
       "_view_count": null,
       "_view_module": "@jupyter-widgets/base",
       "_view_module_version": "2.0.0",
       "_view_name": "LayoutView",
       "align_content": null,
       "align_items": null,
       "align_self": null,
       "border_bottom": null,
       "border_left": null,
       "border_right": null,
       "border_top": null,
       "bottom": null,
       "display": null,
       "flex": null,
       "flex_flow": null,
       "grid_area": null,
       "grid_auto_columns": null,
       "grid_auto_flow": null,
       "grid_auto_rows": null,
       "grid_column": null,
       "grid_gap": null,
       "grid_row": null,
       "grid_template_areas": null,
       "grid_template_columns": null,
       "grid_template_rows": null,
       "height": null,
       "justify_content": null,
       "justify_items": null,
       "left": null,
       "margin": null,
       "max_height": null,
       "max_width": null,
       "min_height": null,
       "min_width": null,
       "object_fit": null,
       "object_position": null,
       "order": null,
       "overflow": null,
       "padding": null,
       "right": null,
       "top": null,
       "visibility": null,
       "width": "100%"
      }
     }
    },
    "version_major": 2,
    "version_minor": 0
   }
  }
 },
 "nbformat": 4,
 "nbformat_minor": 5
}
