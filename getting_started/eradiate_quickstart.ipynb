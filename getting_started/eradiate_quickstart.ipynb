{
 "cells": [
  {
   "cell_type": "raw",
   "id": "bab00524-9d70-4884-b554-5e13d330e775",
   "metadata": {
    "raw_mimetype": "text/restructuredtext",
    "tags": []
   },
   "source": [
    "First steps with Eradiate\n",
    "=========================\n",
    "\n",
    ".. admonition:: Overview\n",
    "\n",
    "   This tutorial introduces Eradiate and its approach to setting up and running simulations in a practical way.\n",
    "\n",
    ".. admonition:: Prerequisites\n",
    "\n",
    "   * A working installation of Eradiate (see :ref:`sec-getting_started-install`).\n",
    "   * Basic knowledge of the Python programming language.\n",
    "\n",
    "   This tutorial does not require prior knowledge of Eradiate.\n",
    "\n",
    ".. admonition:: What you will learn\n",
    "\n",
    "   * How to set up and run a simulation.\n",
    "   * How to visualise simulation results.\n",
    "   \n",
    "----"
   ]
  },
  {
   "cell_type": "markdown",
   "id": "b685db70-7af9-4609-a173-b14a5b465f09",
   "metadata": {
    "raw_mimetype": "text/markdown",
    "tags": []
   },
   "source": [
    "## Importing modules\n",
    "\n",
    "We start by importing the `eradiate` module.\n",
    "We also import a few utility libraries:\n",
    "\n",
    "* the Numpy scientific library for array computation;\n",
    "* Matplotlib's `pyplot` interface to visualise our results."
   ]
  },
  {
   "cell_type": "code",
   "execution_count": null,
   "id": "aa753b69-ff86-4c8b-a931-0d218ed5385c",
   "metadata": {},
   "outputs": [],
   "source": [
    "import eradiate\n",
    "import numpy as np\n",
    "import matplotlib.pyplot as plt"
   ]
  },
  {
   "cell_type": "markdown",
   "id": "08bb04a8-46c8-4dad-86ca-f6f2de722ff7",
   "metadata": {},
   "source": [
    "We can now select an operational mode and add some aliases to submodules of Eradiate for convenience.\n",
    "\n",
    "We will perform monochromatic simulations---for a single wavelength. The corresponding operational mode is called `mono`."
   ]
  },
  {
   "cell_type": "code",
   "execution_count": null,
   "id": "1baeac32-b51d-43c7-b438-072cddee7f4c",
   "metadata": {},
   "outputs": [],
   "source": [
    "eradiate.set_mode(\"mono\")"
   ]
  },
  {
   "cell_type": "markdown",
   "id": "04304574-2bfd-433e-bea8-cdc6939dc777",
   "metadata": {},
   "source": [
    "The simulation is performed on a *scene* composed of scattering objects (*e.g.* surface, canopy, atmosphere) and illumination conditions.\n",
    "\n",
    "**Note:** In the spirit of its radiometric kernel Mitsuba, Eradiate also includes its scenes some components which are usually not considered to be part of the radiative transfer process, such as sensors or algorithms used to sample the radiative transfer equation. The reason to that is that all these components participate in the simulation of the measurement."
   ]
  },
  {
   "cell_type": "raw",
   "id": "87a5dccd-2cf8-43d6-b433-7d5ca6b56e22",
   "metadata": {
    "raw_mimetype": "text/restructuredtext",
    "tags": []
   },
   "source": [
    "The :mod:`eradiate.scenes` module holds the components used to describe the scene elements of an Eradiate simulation. We alias it as ``ertsc`` for convenience."
   ]
  },
  {
   "cell_type": "code",
   "execution_count": null,
   "id": "9456d2f7-bcbe-46dc-ae09-a9cd5025acab",
   "metadata": {},
   "outputs": [],
   "source": [
    "import eradiate.scenes as ertsc"
   ]
  },
  {
   "cell_type": "markdown",
   "id": "b943680e-4557-436b-83f1-7f93780a70ac",
   "metadata": {},
   "source": [
    "Eradiate manages physical quantities with [Pint](https://pint.readthedocs.io/). Pint handles unit conversions automatically and ensures that user-specified quantities are given in units compatible with Eradiate's internals. This makes scene creation more convenient as all objects can be described in natural units. \n",
    "\n",
    "**Example:** On the one hand, the altitude of the top-of-atmosphere level is naturally expressed in kilometers; on the other hand, the radius of a leaf in a canopy is more intuitively specified in centimeters. Eradiate's unit handling system makes it possible for the user to provide its input using both units at the same time. \n",
    "\n",
    "Numbers are turned into physical quantities using a Pint *unit registry*. For convenience, we alias it as well."
   ]
  },
  {
   "cell_type": "code",
   "execution_count": null,
   "id": "01e4dba3-3de1-43c4-a7f1-d6e1c2f6c6c0",
   "metadata": {},
   "outputs": [],
   "source": [
    "from eradiate import unit_registry as ureg"
   ]
  },
  {
   "cell_type": "markdown",
   "id": "3c62e6d2-6125-463a-b57c-896a116c9c8d",
   "metadata": {},
   "source": [
    "## Defining an experiment"
   ]
  },
  {
   "cell_type": "raw",
   "id": "0bbe7bb6-ab13-45e7-b4c0-bbaab6793e14",
   "metadata": {
    "raw_mimetype": "text/restructuredtext",
    "tags": []
   },
   "source": [
    "To run a simulation with Eradiate, we define an :term:`experiment` using an :class:`.Experiment` object, which holds a number of :class:`.SceneElement` objects specifying the scene's constituents. We will perform a simulation on a simple 1D geometry consisting of a flat surface and a plane-parallel atmosphere."
   ]
  },
  {
   "cell_type": "markdown",
   "id": "8954cbbb-74ac-47e6-ab9f-558639f0540b",
   "metadata": {
    "raw_mimetype": "text/restructuredtext",
    "tags": []
   },
   "source": [
    "We start by defining our surface. It is characterised by its geometry and its radiative properties. The geometry is constrained by the experiment we are running and we consequently don't have to specify it---Eradiate will set it automatically.\n",
    "\n",
    "The surface scatters radiation according to its *bidirectional reflectance distribution function* ([BRDF](https://en.wikipedia.org/wiki/Bidirectional_reflectance_distribution_function)), generalised as a *bidirectional scattering distribution function* ([BSDF](https://en.wikipedia.org/wiki/Bidirectional_scattering_distribution_function)). We will use a Lambertain reflectance, which models an ideal surface scattering light equally in every direction."
   ]
  },
  {
   "cell_type": "code",
   "execution_count": null,
   "id": "5f81b6ca-bd43-4c97-ace9-626ebf3c3253",
   "metadata": {},
   "outputs": [],
   "source": [
    "surface_bsdf = ertsc.bsdfs.LambertianBSDF(reflectance=0.5)"
   ]
  },
  {
   "cell_type": "markdown",
   "id": "a110b74e-87ab-45fe-987b-1ea908d10d6e",
   "metadata": {},
   "source": [
    "Our experiment also features a scattering atmosphere. We will use a simple atmospheric model consisting only of scattering molecules (no aerosols). In monochromatic mode, Eradiate supports only the [U.S. Standard Atmosphere (1976)](https://en.wikipedia.org/wiki/U.S._Standard_Atmosphere). This model is not designed for atmospheric radiative transfer and should not be used to simulate satellite images (but you should not use the monochromatic mode in that case either, anyway).\n",
    "\n",
    "We therefore instantiate a molecular atmosphere model, using the U.S. Standard Atmosphere (1976) constructor."
   ]
  },
  {
   "cell_type": "code",
   "execution_count": null,
   "id": "6c2df114-3576-418b-99f7-4681cac53300",
   "metadata": {},
   "outputs": [],
   "source": [
    "atmosphere = ertsc.atmosphere.MolecularAtmosphere.ussa_1976()"
   ]
  },
  {
   "cell_type": "markdown",
   "id": "bd18ba7b-f84d-4526-b0ba-29c5c055626d",
   "metadata": {},
   "source": [
    "We illuminate the scene using a directional illumination model, parametrised by the Sun zenith and azimuth angles. We do not specify the irradiance spectrum and let Eradiate assign a default value (in that case, the `thuillier_2003` Solar irradiance dataset)."
   ]
  },
  {
   "cell_type": "code",
   "execution_count": null,
   "id": "9da6ea6e-00ab-4161-a813-99eb75de2aa9",
   "metadata": {},
   "outputs": [],
   "source": [
    "illumination = ertsc.illumination.DirectionalIllumination(\n",
    "    zenith=15.0, azimuth=0.0\n",
    ")"
   ]
  },
  {
   "cell_type": "markdown",
   "id": "d92bb57e-9681-46eb-91ce-2c6deb35e98a",
   "metadata": {},
   "source": [
    "Finally, we define the measurement performed during our experiment. We will record the radiance leaving the scene at infinite distance with a *distant* measure in the principal plane, *i.e.* the angular domain with constant azimuth equal to the Sun azimuth angle---which we set to 0° when we specified our illumination conditions."
   ]
  },
  {
   "cell_type": "raw",
   "id": "b0dd6f20-8ae9-4dc6-98c8-1553217042b2",
   "metadata": {
    "raw_mimetype": "text/restructuredtext",
    "tags": []
   },
   "source": [
    "Eradiate has an interface (:meth:`.MultiDistantMeasure.from_viewing_angles`) to define a distant measure recording radiance in an arbitrary set of directions specified by (zenith, azimuth) pairs. When the azimuth or zenith is constant, it can be specified as a single value. We specify a vector of zenith values (``zeniths`` parameter) covering the range from -75° to 75° in 5° steps, and a single azimuth value (``azimuths`` parameter) of 0°."
   ]
  },
  {
   "cell_type": "markdown",
   "id": "3e731e9e-c700-44e2-9b2b-f26e51e4e604",
   "metadata": {},
   "source": [
    "Our measure has a spectral configuration (`spectral_cfg` parameter) which defines for which wavelengths this monochromatic simulation will be performed. If multiple wavelengths are requested, Eradiate will automatically loop on them and the output dataset will contain a wavelength dimension.\n",
    "\n",
    "Finally, an `spp` parameter defines the number of radiance samples taken for each direction. We set it to a value ensuring acceptable precision and a short run time (this is our first simulation, we want to see the result quickly!).\n",
    "\n",
    "**Note:** What does the \"SPP\" acronym mean? Internally, the measure instantiates a kernel-level sensor which records its radiance samples to a data structure divided into *pixels*. SPP therefore stands for *samples per pixel*."
   ]
  },
  {
   "cell_type": "code",
   "execution_count": null,
   "id": "c323676c-3306-4bc1-a61e-084a36b6c910",
   "metadata": {},
   "outputs": [],
   "source": [
    "measure = ertsc.measure.MultiDistantMeasure.from_viewing_angles(\n",
    "    id=\"toa_brf\",\n",
    "    zeniths=np.arange(-75, 76, 5),\n",
    "    azimuths=0,\n",
    "    spectral_cfg={\"wavelengths\": [550]},\n",
    "    spp=10000,\n",
    ")"
   ]
  },
  {
   "cell_type": "raw",
   "id": "68e7a716-8f3b-4605-ad79-739bcace7f05",
   "metadata": {
    "raw_mimetype": "text/restructuredtext",
    "tags": []
   },
   "source": [
    "We combine these elements using an :class:`.AtmosphereExperiment`:"
   ]
  },
  {
   "cell_type": "code",
   "execution_count": null,
   "id": "76e5beed-182b-4052-bb9b-d492bf1415f5",
   "metadata": {},
   "outputs": [],
   "source": [
    "exp = eradiate.experiments.AtmosphereExperiment(\n",
    "    surface=surface_bsdf,\n",
    "    atmosphere=atmosphere,\n",
    "    illumination=illumination,\n",
    "    measures=measure,\n",
    ")"
   ]
  },
  {
   "cell_type": "markdown",
   "id": "d154874b-be59-46c1-9c6f-7703cad64b4c",
   "metadata": {},
   "source": [
    "## Running the simulation and visualising the results"
   ]
  },
  {
   "cell_type": "raw",
   "id": "442c6240-0349-41fb-b785-fa41f52a978b",
   "metadata": {
    "raw_mimetype": "text/restructuredtext",
    "tags": []
   },
   "source": [
    "We call the :func:`eradiate.run` function to perform the simulation."
   ]
  },
  {
   "cell_type": "code",
   "execution_count": null,
   "id": "69105a74-f3b5-4234-81b7-c29b4d70a4ba",
   "metadata": {},
   "outputs": [],
   "source": [
    "results = eradiate.run(exp)"
   ]
  },
  {
   "cell_type": "markdown",
   "id": "db218ea4-f25c-484c-82de-6cf3eddea9c5",
   "metadata": {},
   "source": [
    "This function call returns an xarray dataset, which encapsulates a collection of labelled arrays and provides a convenient interface to browse and visualise data. A post-processing pipeline was automatically executed, additionally deriving the BRDF and the *bidirectional reflectance factor* (BRF) from the simulated radiance. Let's take a look at our dataset:"
   ]
  },
  {
   "cell_type": "code",
   "execution_count": null,
   "id": "9b7a9006-c4f9-436c-be5b-2e92ea5b0eef",
   "metadata": {},
   "outputs": [],
   "source": [
    "results"
   ]
  },
  {
   "cell_type": "markdown",
   "id": "8d1afb3b-3f6b-4cba-b31f-3983c9d1b2f6",
   "metadata": {},
   "source": [
    "We can see that a `brf` variable is present. To visualise it, we create a Matplotlib figure and plot the BRF data, using xarray's built-in plotting interface. By passing the x coordinate in the plotting method, we choose which coordinate to plot against. We also set markers and line style to visualise sample location more precisely."
   ]
  },
  {
   "cell_type": "code",
   "execution_count": null,
   "id": "a6175101-2069-4b1b-a7b4-22b949208117",
   "metadata": {},
   "outputs": [],
   "source": [
    "fig = plt.figure()\n",
    "results.brf.plot(x=\"vza\", linestyle=\":\", marker=\".\");"
   ]
  },
  {
   "cell_type": "raw",
   "id": "87a8392e-a93d-44b9-80cd-862d883001b1",
   "metadata": {
    "raw_mimetype": "text/restructuredtext",
    "tags": []
   },
   "source": [
    "----\n",
    "\n",
    "Final words\n",
    "-----------\n",
    "\n",
    "Bravo! You just completed your first Eradiate simulation. You can now try and modify it, for instance by changing the sample count (check the effect on the processing time and the Monte Carlo noise in the results) or the zenith angles of the measure.\n",
    "\n",
    "Further reading\n",
    "---------------\n",
    "\n",
    "* :doc:`molecular_atmosphere`"
   ]
  }
 ],
 "metadata": {
  "kernelspec": {
   "display_name": "Python 3 (ipykernel)",
   "language": "python",
   "name": "python3"
  },
  "language_info": {
   "codemirror_mode": {
    "name": "ipython",
    "version": 3
   },
   "file_extension": ".py",
   "mimetype": "text/x-python",
   "name": "python",
   "nbconvert_exporter": "python",
   "pygments_lexer": "ipython3",
   "version": "3.8.13"
  }
 },
 "nbformat": 4,
 "nbformat_minor": 5
}
