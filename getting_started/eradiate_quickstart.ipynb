{
 "cells": [
  {
   "cell_type": "code",
   "execution_count": 1,
   "id": "09b74bd2-4f5b-4810-ade9-117a542d4349",
   "metadata": {
    "execution": {
     "iopub.execute_input": "2023-06-22T17:48:16.686077Z",
     "iopub.status.busy": "2023-06-22T17:48:16.685824Z",
     "iopub.status.idle": "2023-06-22T17:48:19.805234Z",
     "shell.execute_reply": "2023-06-22T17:48:19.804694Z"
    }
   },
   "outputs": [
    {
     "data": {
      "text/markdown": [
       "*Last updated: 2023-06-22 19:48 (eradiate v0.23.2rc2.post1.dev5+gedede817.d20230622)*"
      ],
      "text/plain": [
       "<IPython.core.display.Markdown object>"
      ]
     },
     "metadata": {},
     "output_type": "display_data"
    }
   ],
   "source": [
    "%reload_ext eradiate.notebook.tutorials"
   ]
  },
  {
   "cell_type": "raw",
   "id": "bab00524-9d70-4884-b554-5e13d330e775",
   "metadata": {
    "raw_mimetype": "text/restructuredtext",
    "tags": []
   },
   "source": [
    "First steps with Eradiate\n",
    "=========================\n",
    "\n",
    ".. admonition:: Overview\n",
    "\n",
    "   This tutorial introduces Eradiate and its approach to setting up and running simulations in a practical way.\n",
    "\n",
    ".. admonition:: Prerequisites\n",
    "\n",
    "   * A working installation of Eradiate (see :ref:`sec-user_guide-install`).\n",
    "   * Basic knowledge of the Python programming language.\n",
    "\n",
    "   This tutorial does not require prior knowledge of Eradiate.\n",
    "\n",
    ".. admonition:: What you will learn\n",
    "\n",
    "   * How to set up and run a simulation.\n",
    "   * How to visualise simulation results.\n",
    "   \n",
    "----"
   ]
  },
  {
   "cell_type": "markdown",
   "id": "b685db70-7af9-4609-a173-b14a5b465f09",
   "metadata": {
    "raw_mimetype": "text/markdown",
    "tags": []
   },
   "source": [
    "## Importing modules\n",
    "\n",
    "We start by importing the `eradiate` module.\n",
    "We also import a few utility libraries:\n",
    "\n",
    "* the Numpy scientific library for array computation;\n",
    "* Matplotlib's `pyplot` interface to visualise our results."
   ]
  },
  {
   "cell_type": "code",
   "execution_count": 2,
   "id": "aa753b69-ff86-4c8b-a931-0d218ed5385c",
   "metadata": {
    "execution": {
     "iopub.execute_input": "2023-06-22T17:48:19.807979Z",
     "iopub.status.busy": "2023-06-22T17:48:19.807659Z",
     "iopub.status.idle": "2023-06-22T17:48:19.810466Z",
     "shell.execute_reply": "2023-06-22T17:48:19.810006Z"
    }
   },
   "outputs": [],
   "source": [
    "import eradiate\n",
    "import numpy as np\n",
    "import matplotlib.pyplot as plt"
   ]
  },
  {
   "cell_type": "markdown",
   "id": "08bb04a8-46c8-4dad-86ca-f6f2de722ff7",
   "metadata": {},
   "source": [
    "We can now select an operational mode and add some aliases to submodules of Eradiate for convenience.\n",
    "\n",
    "We will perform monochromatic simulations---for a single wavelength. The corresponding operational mode is called `mono`."
   ]
  },
  {
   "cell_type": "code",
   "execution_count": 3,
   "id": "1baeac32-b51d-43c7-b438-072cddee7f4c",
   "metadata": {
    "execution": {
     "iopub.execute_input": "2023-06-22T17:48:19.812798Z",
     "iopub.status.busy": "2023-06-22T17:48:19.812613Z",
     "iopub.status.idle": "2023-06-22T17:48:19.815526Z",
     "shell.execute_reply": "2023-06-22T17:48:19.814651Z"
    }
   },
   "outputs": [],
   "source": [
    "eradiate.set_mode(\"mono\")"
   ]
  },
  {
   "cell_type": "markdown",
   "id": "04304574-2bfd-433e-bea8-cdc6939dc777",
   "metadata": {},
   "source": [
    "The simulation is performed on a *scene* composed of scattering objects (*e.g.* surface, canopy, atmosphere) and illumination conditions.\n",
    "\n",
    "**Note:** In the spirit of its radiometric kernel Mitsuba, Eradiate also includes its scenes some components which are usually not considered to be part of the radiative transfer process, such as sensors or algorithms used to sample the radiative transfer equation. The reason to that is that all these components participate in the simulation of the measurement."
   ]
  },
  {
   "cell_type": "raw",
   "id": "87a5dccd-2cf8-43d6-b433-7d5ca6b56e22",
   "metadata": {
    "raw_mimetype": "text/restructuredtext",
    "tags": []
   },
   "source": [
    "The :mod:`eradiate.scenes` module holds the components used to describe the scene elements of an Eradiate simulation. We alias it as ``ertsc`` for convenience."
   ]
  },
  {
   "cell_type": "code",
   "execution_count": 4,
   "id": "9456d2f7-bcbe-46dc-ae09-a9cd5025acab",
   "metadata": {
    "execution": {
     "iopub.execute_input": "2023-06-22T17:48:19.818774Z",
     "iopub.status.busy": "2023-06-22T17:48:19.818547Z",
     "iopub.status.idle": "2023-06-22T17:48:19.821632Z",
     "shell.execute_reply": "2023-06-22T17:48:19.821179Z"
    }
   },
   "outputs": [],
   "source": [
    "import eradiate.scenes as ertsc"
   ]
  },
  {
   "cell_type": "markdown",
   "id": "b943680e-4557-436b-83f1-7f93780a70ac",
   "metadata": {},
   "source": [
    "Eradiate manages physical quantities with [Pint](https://pint.readthedocs.io/). Pint handles unit conversions automatically and ensures that user-specified quantities are given in units compatible with Eradiate's internals. This makes scene creation more convenient as all objects can be described in natural units. \n",
    "\n",
    "**Example:** On the one hand, the altitude of the top-of-atmosphere level is naturally expressed in kilometers; on the other hand, the radius of a leaf in a canopy is more intuitively specified in centimeters. Eradiate's unit handling system makes it possible for the user to provide its input using both units at the same time. \n",
    "\n",
    "Numbers are turned into physical quantities using a Pint *unit registry*. For convenience, we alias it as well."
   ]
  },
  {
   "cell_type": "code",
   "execution_count": 5,
   "id": "01e4dba3-3de1-43c4-a7f1-d6e1c2f6c6c0",
   "metadata": {
    "execution": {
     "iopub.execute_input": "2023-06-22T17:48:19.824010Z",
     "iopub.status.busy": "2023-06-22T17:48:19.823825Z",
     "iopub.status.idle": "2023-06-22T17:48:19.826340Z",
     "shell.execute_reply": "2023-06-22T17:48:19.825914Z"
    }
   },
   "outputs": [],
   "source": [
    "from eradiate import unit_registry as ureg"
   ]
  },
  {
   "cell_type": "markdown",
   "id": "3c62e6d2-6125-463a-b57c-896a116c9c8d",
   "metadata": {},
   "source": [
    "## Defining an experiment"
   ]
  },
  {
   "cell_type": "raw",
   "id": "0bbe7bb6-ab13-45e7-b4c0-bbaab6793e14",
   "metadata": {
    "raw_mimetype": "text/restructuredtext",
    "tags": []
   },
   "source": [
    "To run a simulation with Eradiate, we define an :term:`experiment` using an :class:`.Experiment` object, which holds a number of :class:`.SceneElement` objects specifying the scene's constituents. We will perform a simulation on a simple 1D geometry consisting of a flat surface and a plane-parallel atmosphere."
   ]
  },
  {
   "cell_type": "markdown",
   "id": "8954cbbb-74ac-47e6-ab9f-558639f0540b",
   "metadata": {
    "raw_mimetype": "text/restructuredtext",
    "tags": []
   },
   "source": [
    "We start by defining our surface. It is characterised by its geometry and its radiative properties. The geometry is constrained by the experiment we are running and we consequently don't have to specify it---Eradiate will set it automatically.\n",
    "\n",
    "The surface scatters radiation according to its *bidirectional reflectance distribution function* ([BRDF](https://en.wikipedia.org/wiki/Bidirectional_reflectance_distribution_function)), generalised as a *bidirectional scattering distribution function* ([BSDF](https://en.wikipedia.org/wiki/Bidirectional_scattering_distribution_function)). We will use a Lambertain reflectance, which models an ideal surface scattering light equally in every direction."
   ]
  },
  {
   "cell_type": "code",
   "execution_count": 6,
   "id": "5f81b6ca-bd43-4c97-ace9-626ebf3c3253",
   "metadata": {
    "execution": {
     "iopub.execute_input": "2023-06-22T17:48:19.828727Z",
     "iopub.status.busy": "2023-06-22T17:48:19.828548Z",
     "iopub.status.idle": "2023-06-22T17:48:19.836769Z",
     "shell.execute_reply": "2023-06-22T17:48:19.836285Z"
    }
   },
   "outputs": [],
   "source": [
    "surface_bsdf = ertsc.bsdfs.LambertianBSDF(reflectance=0.5)"
   ]
  },
  {
   "cell_type": "markdown",
   "id": "a110b74e-87ab-45fe-987b-1ea908d10d6e",
   "metadata": {},
   "source": [
    "Our experiment also features a scattering atmosphere. We will use a simple atmospheric model consisting only of scattering molecules (no aerosols). In monochromatic mode, Eradiate supports only the [U.S. Standard Atmosphere (1976)](https://en.wikipedia.org/wiki/U.S._Standard_Atmosphere). This model is not designed for atmospheric radiative transfer and should not be used to simulate satellite images (but you should not use the monochromatic mode in that case either, anyway).\n",
    "\n",
    "We therefore instantiate a molecular atmosphere model, using the U.S. Standard Atmosphere (1976) constructor."
   ]
  },
  {
   "cell_type": "code",
   "execution_count": 7,
   "id": "6c2df114-3576-418b-99f7-4681cac53300",
   "metadata": {
    "execution": {
     "iopub.execute_input": "2023-06-22T17:48:19.839247Z",
     "iopub.status.busy": "2023-06-22T17:48:19.839053Z",
     "iopub.status.idle": "2023-06-22T17:48:19.900704Z",
     "shell.execute_reply": "2023-06-22T17:48:19.899810Z"
    }
   },
   "outputs": [],
   "source": [
    "atmosphere = ertsc.atmosphere.MolecularAtmosphere.ussa_1976(has_absorption=False)"
   ]
  },
  {
   "attachments": {},
   "cell_type": "markdown",
   "id": "bd18ba7b-f84d-4526-b0ba-29c5c055626d",
   "metadata": {},
   "source": [
    "We illuminate the scene using a directional illumination model, parametrised by the Sun zenith and azimuth angles. We do not specify the irradiance spectrum and let Eradiate assign a default value (in that case, the `thuillier_2003` Solar irradiance dataset)."
   ]
  },
  {
   "cell_type": "code",
   "execution_count": 8,
   "id": "9da6ea6e-00ab-4161-a813-99eb75de2aa9",
   "metadata": {
    "execution": {
     "iopub.execute_input": "2023-06-22T17:48:19.903748Z",
     "iopub.status.busy": "2023-06-22T17:48:19.903518Z",
     "iopub.status.idle": "2023-06-22T17:48:20.229793Z",
     "shell.execute_reply": "2023-06-22T17:48:20.229237Z"
    }
   },
   "outputs": [],
   "source": [
    "illumination = ertsc.illumination.DirectionalIllumination(\n",
    "    zenith=15.0, azimuth=0.0\n",
    ")"
   ]
  },
  {
   "cell_type": "markdown",
   "id": "d92bb57e-9681-46eb-91ce-2c6deb35e98a",
   "metadata": {},
   "source": [
    "Finally, we define the measurement performed during our experiment. We will record the radiance leaving the scene at infinite distance with a *distant* measure in the principal plane, *i.e.* the angular domain with constant azimuth equal to the Sun azimuth angle---which we set to 0° when we specified our illumination conditions."
   ]
  },
  {
   "cell_type": "raw",
   "id": "b0dd6f20-8ae9-4dc6-98c8-1553217042b2",
   "metadata": {
    "raw_mimetype": "text/restructuredtext",
    "tags": []
   },
   "source": [
    "Eradiate has an interface (:class:`.MultiDistantMeasure`) to define a distant measure recording radiance in an arbitrary set of directions. The specialised constructor :meth:`.MultiDistantMeasure.hplane` offers a simplified interface to specify directions contained in a \"hemispherical plane\". Such a plane contains the vertical direction and is characterised by a single azimuth value. We specify a vector of zenith values (``zeniths`` parameter) covering the range from -75° to 75° in 5° steps, and an azimuth value (``azimuths`` parameter) of 0°."
   ]
  },
  {
   "attachments": {},
   "cell_type": "markdown",
   "id": "3e731e9e-c700-44e2-9b2b-f26e51e4e604",
   "metadata": {},
   "source": [
    "Our measure has a spectral response function (`srf` parameter) which controls for which wavelengths this monochromatic simulation will be performed. If multiple wavelengths are requested, Eradiate will automatically loop on them and the output dataset will contain a wavelength dimension.\n",
    "\n",
    "Finally, an `spp` parameter defines the number of radiance samples taken for each direction. We set it to a value ensuring acceptable precision and a short run time (this is our first simulation, we want to see the result quickly!).\n",
    "\n",
    "**Note:** What does the \"SPP\" acronym mean? Internally, the measure instantiates a kernel-level sensor which records its radiance samples to a data structure divided into *pixels*. SPP therefore stands for *samples per pixel*."
   ]
  },
  {
   "cell_type": "code",
   "execution_count": 9,
   "id": "c323676c-3306-4bc1-a61e-084a36b6c910",
   "metadata": {
    "execution": {
     "iopub.execute_input": "2023-06-22T17:48:20.232742Z",
     "iopub.status.busy": "2023-06-22T17:48:20.232532Z",
     "iopub.status.idle": "2023-06-22T17:48:20.348840Z",
     "shell.execute_reply": "2023-06-22T17:48:20.348238Z"
    },
    "tags": []
   },
   "outputs": [],
   "source": [
    "measure = ertsc.measure.MultiDistantMeasure.hplane(\n",
    "    id=\"toa_brf\",\n",
    "    zeniths=np.arange(-75, 76, 5),\n",
    "    azimuth=0,\n",
    "    srf={\"type\": \"multi_delta\", \"wavelengths\": 550.0 * ureg.nm},\n",
    "    spp=10000,\n",
    ")"
   ]
  },
  {
   "cell_type": "raw",
   "id": "68e7a716-8f3b-4605-ad79-739bcace7f05",
   "metadata": {
    "raw_mimetype": "text/restructuredtext",
    "tags": []
   },
   "source": [
    "We combine these elements using an :class:`.AtmosphereExperiment`:"
   ]
  },
  {
   "cell_type": "code",
   "execution_count": 10,
   "id": "76e5beed-182b-4052-bb9b-d492bf1415f5",
   "metadata": {
    "execution": {
     "iopub.execute_input": "2023-06-22T17:48:20.351798Z",
     "iopub.status.busy": "2023-06-22T17:48:20.351594Z",
     "iopub.status.idle": "2023-06-22T17:48:20.388025Z",
     "shell.execute_reply": "2023-06-22T17:48:20.387350Z"
    }
   },
   "outputs": [],
   "source": [
    "exp = eradiate.experiments.AtmosphereExperiment(\n",
    "    surface=surface_bsdf,\n",
    "    atmosphere=atmosphere,\n",
    "    illumination=illumination,\n",
    "    measures=measure,\n",
    ")"
   ]
  },
  {
   "cell_type": "markdown",
   "id": "d154874b-be59-46c1-9c6f-7703cad64b4c",
   "metadata": {},
   "source": [
    "## Running the simulation and visualising the results"
   ]
  },
  {
   "cell_type": "raw",
   "id": "442c6240-0349-41fb-b785-fa41f52a978b",
   "metadata": {
    "raw_mimetype": "text/restructuredtext",
    "tags": []
   },
   "source": [
    "We call the :func:`eradiate.run` function to perform the simulation."
   ]
  },
  {
   "cell_type": "code",
   "execution_count": 11,
   "id": "69105a74-f3b5-4234-81b7-c29b4d70a4ba",
   "metadata": {
    "execution": {
     "iopub.execute_input": "2023-06-22T17:48:20.390916Z",
     "iopub.status.busy": "2023-06-22T17:48:20.390699Z",
     "iopub.status.idle": "2023-06-22T17:48:20.753485Z",
     "shell.execute_reply": "2023-06-22T17:48:20.752713Z"
    },
    "tags": []
   },
   "outputs": [],
   "source": [
    "results = eradiate.run(exp)"
   ]
  },
  {
   "attachments": {},
   "cell_type": "markdown",
   "id": "db218ea4-f25c-484c-82de-6cf3eddea9c5",
   "metadata": {},
   "source": [
    "This function call returns an xarray dataset, which encapsulates a collection of labelled arrays and provides a convenient interface to browse and visualise data. A post-processing pipeline was automatically executed, additionally deriving the BRDF and the *bidirectional reflectance factor* (BRF) from the simulated radiance. Let's take a look at our dataset:"
   ]
  },
  {
   "cell_type": "code",
   "execution_count": 12,
   "id": "9b7a9006-c4f9-436c-be5b-2e92ea5b0eef",
   "metadata": {
    "execution": {
     "iopub.execute_input": "2023-06-22T17:48:20.756904Z",
     "iopub.status.busy": "2023-06-22T17:48:20.756627Z",
     "iopub.status.idle": "2023-06-22T17:48:20.780200Z",
     "shell.execute_reply": "2023-06-22T17:48:20.779430Z"
    }
   },
   "outputs": [
    {
     "data": {
      "text/html": [
       "<div><svg style=\"position: absolute; width: 0; height: 0; overflow: hidden\">\n",
       "<defs>\n",
       "<symbol id=\"icon-database\" viewBox=\"0 0 32 32\">\n",
       "<path d=\"M16 0c-8.837 0-16 2.239-16 5v4c0 2.761 7.163 5 16 5s16-2.239 16-5v-4c0-2.761-7.163-5-16-5z\"></path>\n",
       "<path d=\"M16 17c-8.837 0-16-2.239-16-5v6c0 2.761 7.163 5 16 5s16-2.239 16-5v-6c0 2.761-7.163 5-16 5z\"></path>\n",
       "<path d=\"M16 26c-8.837 0-16-2.239-16-5v6c0 2.761 7.163 5 16 5s16-2.239 16-5v-6c0 2.761-7.163 5-16 5z\"></path>\n",
       "</symbol>\n",
       "<symbol id=\"icon-file-text2\" viewBox=\"0 0 32 32\">\n",
       "<path d=\"M28.681 7.159c-0.694-0.947-1.662-2.053-2.724-3.116s-2.169-2.030-3.116-2.724c-1.612-1.182-2.393-1.319-2.841-1.319h-15.5c-1.378 0-2.5 1.121-2.5 2.5v27c0 1.378 1.122 2.5 2.5 2.5h23c1.378 0 2.5-1.122 2.5-2.5v-19.5c0-0.448-0.137-1.23-1.319-2.841zM24.543 5.457c0.959 0.959 1.712 1.825 2.268 2.543h-4.811v-4.811c0.718 0.556 1.584 1.309 2.543 2.268zM28 29.5c0 0.271-0.229 0.5-0.5 0.5h-23c-0.271 0-0.5-0.229-0.5-0.5v-27c0-0.271 0.229-0.5 0.5-0.5 0 0 15.499-0 15.5 0v7c0 0.552 0.448 1 1 1h7v19.5z\"></path>\n",
       "<path d=\"M23 26h-14c-0.552 0-1-0.448-1-1s0.448-1 1-1h14c0.552 0 1 0.448 1 1s-0.448 1-1 1z\"></path>\n",
       "<path d=\"M23 22h-14c-0.552 0-1-0.448-1-1s0.448-1 1-1h14c0.552 0 1 0.448 1 1s-0.448 1-1 1z\"></path>\n",
       "<path d=\"M23 18h-14c-0.552 0-1-0.448-1-1s0.448-1 1-1h14c0.552 0 1 0.448 1 1s-0.448 1-1 1z\"></path>\n",
       "</symbol>\n",
       "</defs>\n",
       "</svg>\n",
       "<style>/* CSS stylesheet for displaying xarray objects in jupyterlab.\n",
       " *\n",
       " */\n",
       "\n",
       ":root {\n",
       "  --xr-font-color0: var(--jp-content-font-color0, rgba(0, 0, 0, 1));\n",
       "  --xr-font-color2: var(--jp-content-font-color2, rgba(0, 0, 0, 0.54));\n",
       "  --xr-font-color3: var(--jp-content-font-color3, rgba(0, 0, 0, 0.38));\n",
       "  --xr-border-color: var(--jp-border-color2, #e0e0e0);\n",
       "  --xr-disabled-color: var(--jp-layout-color3, #bdbdbd);\n",
       "  --xr-background-color: var(--jp-layout-color0, white);\n",
       "  --xr-background-color-row-even: var(--jp-layout-color1, white);\n",
       "  --xr-background-color-row-odd: var(--jp-layout-color2, #eeeeee);\n",
       "}\n",
       "\n",
       "html[theme=dark],\n",
       "body[data-theme=dark],\n",
       "body.vscode-dark {\n",
       "  --xr-font-color0: rgba(255, 255, 255, 1);\n",
       "  --xr-font-color2: rgba(255, 255, 255, 0.54);\n",
       "  --xr-font-color3: rgba(255, 255, 255, 0.38);\n",
       "  --xr-border-color: #1F1F1F;\n",
       "  --xr-disabled-color: #515151;\n",
       "  --xr-background-color: #111111;\n",
       "  --xr-background-color-row-even: #111111;\n",
       "  --xr-background-color-row-odd: #313131;\n",
       "}\n",
       "\n",
       ".xr-wrap {\n",
       "  display: block !important;\n",
       "  min-width: 300px;\n",
       "  max-width: 700px;\n",
       "}\n",
       "\n",
       ".xr-text-repr-fallback {\n",
       "  /* fallback to plain text repr when CSS is not injected (untrusted notebook) */\n",
       "  display: none;\n",
       "}\n",
       "\n",
       ".xr-header {\n",
       "  padding-top: 6px;\n",
       "  padding-bottom: 6px;\n",
       "  margin-bottom: 4px;\n",
       "  border-bottom: solid 1px var(--xr-border-color);\n",
       "}\n",
       "\n",
       ".xr-header > div,\n",
       ".xr-header > ul {\n",
       "  display: inline;\n",
       "  margin-top: 0;\n",
       "  margin-bottom: 0;\n",
       "}\n",
       "\n",
       ".xr-obj-type,\n",
       ".xr-array-name {\n",
       "  margin-left: 2px;\n",
       "  margin-right: 10px;\n",
       "}\n",
       "\n",
       ".xr-obj-type {\n",
       "  color: var(--xr-font-color2);\n",
       "}\n",
       "\n",
       ".xr-sections {\n",
       "  padding-left: 0 !important;\n",
       "  display: grid;\n",
       "  grid-template-columns: 150px auto auto 1fr 20px 20px;\n",
       "}\n",
       "\n",
       ".xr-section-item {\n",
       "  display: contents;\n",
       "}\n",
       "\n",
       ".xr-section-item input {\n",
       "  display: none;\n",
       "}\n",
       "\n",
       ".xr-section-item input + label {\n",
       "  color: var(--xr-disabled-color);\n",
       "}\n",
       "\n",
       ".xr-section-item input:enabled + label {\n",
       "  cursor: pointer;\n",
       "  color: var(--xr-font-color2);\n",
       "}\n",
       "\n",
       ".xr-section-item input:enabled + label:hover {\n",
       "  color: var(--xr-font-color0);\n",
       "}\n",
       "\n",
       ".xr-section-summary {\n",
       "  grid-column: 1;\n",
       "  color: var(--xr-font-color2);\n",
       "  font-weight: 500;\n",
       "}\n",
       "\n",
       ".xr-section-summary > span {\n",
       "  display: inline-block;\n",
       "  padding-left: 0.5em;\n",
       "}\n",
       "\n",
       ".xr-section-summary-in:disabled + label {\n",
       "  color: var(--xr-font-color2);\n",
       "}\n",
       "\n",
       ".xr-section-summary-in + label:before {\n",
       "  display: inline-block;\n",
       "  content: '►';\n",
       "  font-size: 11px;\n",
       "  width: 15px;\n",
       "  text-align: center;\n",
       "}\n",
       "\n",
       ".xr-section-summary-in:disabled + label:before {\n",
       "  color: var(--xr-disabled-color);\n",
       "}\n",
       "\n",
       ".xr-section-summary-in:checked + label:before {\n",
       "  content: '▼';\n",
       "}\n",
       "\n",
       ".xr-section-summary-in:checked + label > span {\n",
       "  display: none;\n",
       "}\n",
       "\n",
       ".xr-section-summary,\n",
       ".xr-section-inline-details {\n",
       "  padding-top: 4px;\n",
       "  padding-bottom: 4px;\n",
       "}\n",
       "\n",
       ".xr-section-inline-details {\n",
       "  grid-column: 2 / -1;\n",
       "}\n",
       "\n",
       ".xr-section-details {\n",
       "  display: none;\n",
       "  grid-column: 1 / -1;\n",
       "  margin-bottom: 5px;\n",
       "}\n",
       "\n",
       ".xr-section-summary-in:checked ~ .xr-section-details {\n",
       "  display: contents;\n",
       "}\n",
       "\n",
       ".xr-array-wrap {\n",
       "  grid-column: 1 / -1;\n",
       "  display: grid;\n",
       "  grid-template-columns: 20px auto;\n",
       "}\n",
       "\n",
       ".xr-array-wrap > label {\n",
       "  grid-column: 1;\n",
       "  vertical-align: top;\n",
       "}\n",
       "\n",
       ".xr-preview {\n",
       "  color: var(--xr-font-color3);\n",
       "}\n",
       "\n",
       ".xr-array-preview,\n",
       ".xr-array-data {\n",
       "  padding: 0 5px !important;\n",
       "  grid-column: 2;\n",
       "}\n",
       "\n",
       ".xr-array-data,\n",
       ".xr-array-in:checked ~ .xr-array-preview {\n",
       "  display: none;\n",
       "}\n",
       "\n",
       ".xr-array-in:checked ~ .xr-array-data,\n",
       ".xr-array-preview {\n",
       "  display: inline-block;\n",
       "}\n",
       "\n",
       ".xr-dim-list {\n",
       "  display: inline-block !important;\n",
       "  list-style: none;\n",
       "  padding: 0 !important;\n",
       "  margin: 0;\n",
       "}\n",
       "\n",
       ".xr-dim-list li {\n",
       "  display: inline-block;\n",
       "  padding: 0;\n",
       "  margin: 0;\n",
       "}\n",
       "\n",
       ".xr-dim-list:before {\n",
       "  content: '(';\n",
       "}\n",
       "\n",
       ".xr-dim-list:after {\n",
       "  content: ')';\n",
       "}\n",
       "\n",
       ".xr-dim-list li:not(:last-child):after {\n",
       "  content: ',';\n",
       "  padding-right: 5px;\n",
       "}\n",
       "\n",
       ".xr-has-index {\n",
       "  font-weight: bold;\n",
       "}\n",
       "\n",
       ".xr-var-list,\n",
       ".xr-var-item {\n",
       "  display: contents;\n",
       "}\n",
       "\n",
       ".xr-var-item > div,\n",
       ".xr-var-item label,\n",
       ".xr-var-item > .xr-var-name span {\n",
       "  background-color: var(--xr-background-color-row-even);\n",
       "  margin-bottom: 0;\n",
       "}\n",
       "\n",
       ".xr-var-item > .xr-var-name:hover span {\n",
       "  padding-right: 5px;\n",
       "}\n",
       "\n",
       ".xr-var-list > li:nth-child(odd) > div,\n",
       ".xr-var-list > li:nth-child(odd) > label,\n",
       ".xr-var-list > li:nth-child(odd) > .xr-var-name span {\n",
       "  background-color: var(--xr-background-color-row-odd);\n",
       "}\n",
       "\n",
       ".xr-var-name {\n",
       "  grid-column: 1;\n",
       "}\n",
       "\n",
       ".xr-var-dims {\n",
       "  grid-column: 2;\n",
       "}\n",
       "\n",
       ".xr-var-dtype {\n",
       "  grid-column: 3;\n",
       "  text-align: right;\n",
       "  color: var(--xr-font-color2);\n",
       "}\n",
       "\n",
       ".xr-var-preview {\n",
       "  grid-column: 4;\n",
       "}\n",
       "\n",
       ".xr-index-preview {\n",
       "  grid-column: 2 / 5;\n",
       "  color: var(--xr-font-color2);\n",
       "}\n",
       "\n",
       ".xr-var-name,\n",
       ".xr-var-dims,\n",
       ".xr-var-dtype,\n",
       ".xr-preview,\n",
       ".xr-attrs dt {\n",
       "  white-space: nowrap;\n",
       "  overflow: hidden;\n",
       "  text-overflow: ellipsis;\n",
       "  padding-right: 10px;\n",
       "}\n",
       "\n",
       ".xr-var-name:hover,\n",
       ".xr-var-dims:hover,\n",
       ".xr-var-dtype:hover,\n",
       ".xr-attrs dt:hover {\n",
       "  overflow: visible;\n",
       "  width: auto;\n",
       "  z-index: 1;\n",
       "}\n",
       "\n",
       ".xr-var-attrs,\n",
       ".xr-var-data,\n",
       ".xr-index-data {\n",
       "  display: none;\n",
       "  background-color: var(--xr-background-color) !important;\n",
       "  padding-bottom: 5px !important;\n",
       "}\n",
       "\n",
       ".xr-var-attrs-in:checked ~ .xr-var-attrs,\n",
       ".xr-var-data-in:checked ~ .xr-var-data,\n",
       ".xr-index-data-in:checked ~ .xr-index-data {\n",
       "  display: block;\n",
       "}\n",
       "\n",
       ".xr-var-data > table {\n",
       "  float: right;\n",
       "}\n",
       "\n",
       ".xr-var-name span,\n",
       ".xr-var-data,\n",
       ".xr-index-name div,\n",
       ".xr-index-data,\n",
       ".xr-attrs {\n",
       "  padding-left: 25px !important;\n",
       "}\n",
       "\n",
       ".xr-attrs,\n",
       ".xr-var-attrs,\n",
       ".xr-var-data,\n",
       ".xr-index-data {\n",
       "  grid-column: 1 / -1;\n",
       "}\n",
       "\n",
       "dl.xr-attrs {\n",
       "  padding: 0;\n",
       "  margin: 0;\n",
       "  display: grid;\n",
       "  grid-template-columns: 125px auto;\n",
       "}\n",
       "\n",
       ".xr-attrs dt,\n",
       ".xr-attrs dd {\n",
       "  padding: 0;\n",
       "  margin: 0;\n",
       "  float: left;\n",
       "  padding-right: 10px;\n",
       "  width: auto;\n",
       "}\n",
       "\n",
       ".xr-attrs dt {\n",
       "  font-weight: normal;\n",
       "  grid-column: 1;\n",
       "}\n",
       "\n",
       ".xr-attrs dt:hover span {\n",
       "  display: inline-block;\n",
       "  background: var(--xr-background-color);\n",
       "  padding-right: 10px;\n",
       "}\n",
       "\n",
       ".xr-attrs dd {\n",
       "  grid-column: 2;\n",
       "  white-space: pre-wrap;\n",
       "  word-break: break-all;\n",
       "}\n",
       "\n",
       ".xr-icon-database,\n",
       ".xr-icon-file-text2,\n",
       ".xr-no-icon {\n",
       "  display: inline-block;\n",
       "  vertical-align: middle;\n",
       "  width: 1em;\n",
       "  height: 1.5em !important;\n",
       "  stroke-width: 0;\n",
       "  stroke: currentColor;\n",
       "  fill: currentColor;\n",
       "}\n",
       "</style><pre class='xr-text-repr-fallback'>&lt;xarray.Dataset&gt;\n",
       "Dimensions:     (sza: 1, saa: 1, w: 1, y_index: 1, x_index: 31)\n",
       "Coordinates:\n",
       "  * sza         (sza) float64 15.0\n",
       "  * saa         (saa) float64 0.0\n",
       "  * y_index     (y_index) int64 0\n",
       "    y           (y_index) float64 0.0\n",
       "  * x_index     (x_index) int64 0 1 2 3 4 5 6 7 8 ... 22 23 24 25 26 27 28 29 30\n",
       "    x           (x_index) float64 0.0 0.03333 0.06667 0.1 ... 0.9333 0.9667 1.0\n",
       "  * w           (w) float64 550.0\n",
       "    vza         (x_index, y_index) int64 -75 -70 -65 -60 -55 ... 55 60 65 70 75\n",
       "    vaa         (x_index, y_index) int64 0 0 0 0 0 0 0 0 0 ... 0 0 0 0 0 0 0 0 0\n",
       "Data variables:\n",
       "    radiance    (sza, saa, w, y_index, x_index) float64 0.2872 0.2884 ... 0.2945\n",
       "    spp         (sza, saa, w) int64 10000\n",
       "    irradiance  (sza, saa, w) float64 1.843\n",
       "    brdf        (sza, saa, w, y_index, x_index) float64 0.1558 0.1565 ... 0.1598\n",
       "    brf         (sza, saa, w, y_index, x_index) float64 0.4896 0.4916 ... 0.5021\n",
       "Attributes:\n",
       "    convention:  CF-1.10\n",
       "    source:      eradiate, version 0.23.2rc2.post1.dev5+gedede817.d20230622\n",
       "    history:     2023-06-22T17:48:20 - data creation - AtmosphereExperiment.p...\n",
       "    references:  \n",
       "    title:       Top-of-atmosphere simulation results</pre><div class='xr-wrap' style='display:none'><div class='xr-header'><div class='xr-obj-type'>xarray.Dataset</div></div><ul class='xr-sections'><li class='xr-section-item'><input id='section-3174bb8d-9932-41ef-a366-05d671fb7610' class='xr-section-summary-in' type='checkbox' disabled ><label for='section-3174bb8d-9932-41ef-a366-05d671fb7610' class='xr-section-summary'  title='Expand/collapse section'>Dimensions:</label><div class='xr-section-inline-details'><ul class='xr-dim-list'><li><span class='xr-has-index'>sza</span>: 1</li><li><span class='xr-has-index'>saa</span>: 1</li><li><span class='xr-has-index'>w</span>: 1</li><li><span class='xr-has-index'>y_index</span>: 1</li><li><span class='xr-has-index'>x_index</span>: 31</li></ul></div><div class='xr-section-details'></div></li><li class='xr-section-item'><input id='section-5754d6e5-6b99-489c-8f9d-35e7521f8ff2' class='xr-section-summary-in' type='checkbox'  checked><label for='section-5754d6e5-6b99-489c-8f9d-35e7521f8ff2' class='xr-section-summary' >Coordinates: <span>(9)</span></label><div class='xr-section-inline-details'></div><div class='xr-section-details'><ul class='xr-var-list'><li class='xr-var-item'><div class='xr-var-name'><span class='xr-has-index'>sza</span></div><div class='xr-var-dims'>(sza)</div><div class='xr-var-dtype'>float64</div><div class='xr-var-preview xr-preview'>15.0</div><input id='attrs-ffd1fb05-c6aa-428f-b623-de005f51c365' class='xr-var-attrs-in' type='checkbox' ><label for='attrs-ffd1fb05-c6aa-428f-b623-de005f51c365' title='Show/Hide attributes'><svg class='icon xr-icon-file-text2'><use xlink:href='#icon-file-text2'></use></svg></label><input id='data-d8314003-e994-4ca1-b860-cf62d647af8b' class='xr-var-data-in' type='checkbox'><label for='data-d8314003-e994-4ca1-b860-cf62d647af8b' title='Show/Hide data repr'><svg class='icon xr-icon-database'><use xlink:href='#icon-database'></use></svg></label><div class='xr-var-attrs'><dl class='xr-attrs'><dt><span>standard_name :</span></dt><dd>solar_zenith_angle</dd><dt><span>long_name :</span></dt><dd>solar zenith angle</dd><dt><span>units :</span></dt><dd>deg</dd></dl></div><div class='xr-var-data'><pre>array([15.])</pre></div></li><li class='xr-var-item'><div class='xr-var-name'><span class='xr-has-index'>saa</span></div><div class='xr-var-dims'>(saa)</div><div class='xr-var-dtype'>float64</div><div class='xr-var-preview xr-preview'>0.0</div><input id='attrs-6c1cd4a6-8bde-42cf-9f15-e1f57702b2f6' class='xr-var-attrs-in' type='checkbox' ><label for='attrs-6c1cd4a6-8bde-42cf-9f15-e1f57702b2f6' title='Show/Hide attributes'><svg class='icon xr-icon-file-text2'><use xlink:href='#icon-file-text2'></use></svg></label><input id='data-3a060a0c-13a3-45f9-a726-b96cb4e0a38b' class='xr-var-data-in' type='checkbox'><label for='data-3a060a0c-13a3-45f9-a726-b96cb4e0a38b' title='Show/Hide data repr'><svg class='icon xr-icon-database'><use xlink:href='#icon-database'></use></svg></label><div class='xr-var-attrs'><dl class='xr-attrs'><dt><span>standard_name :</span></dt><dd>solar_azimuth_angle</dd><dt><span>long_name :</span></dt><dd>solar azimuth angle</dd><dt><span>units :</span></dt><dd>deg</dd></dl></div><div class='xr-var-data'><pre>array([0.])</pre></div></li><li class='xr-var-item'><div class='xr-var-name'><span class='xr-has-index'>y_index</span></div><div class='xr-var-dims'>(y_index)</div><div class='xr-var-dtype'>int64</div><div class='xr-var-preview xr-preview'>0</div><input id='attrs-7a62cebf-bc0e-4c21-8d71-8ed9bd04da05' class='xr-var-attrs-in' type='checkbox' ><label for='attrs-7a62cebf-bc0e-4c21-8d71-8ed9bd04da05' title='Show/Hide attributes'><svg class='icon xr-icon-file-text2'><use xlink:href='#icon-file-text2'></use></svg></label><input id='data-c93842c7-a165-483a-8ca1-196c0cfd6be0' class='xr-var-data-in' type='checkbox'><label for='data-c93842c7-a165-483a-8ca1-196c0cfd6be0' title='Show/Hide data repr'><svg class='icon xr-icon-database'><use xlink:href='#icon-database'></use></svg></label><div class='xr-var-attrs'><dl class='xr-attrs'><dt><span>long_name :</span></dt><dd>height pixel index</dd></dl></div><div class='xr-var-data'><pre>array([0])</pre></div></li><li class='xr-var-item'><div class='xr-var-name'><span>y</span></div><div class='xr-var-dims'>(y_index)</div><div class='xr-var-dtype'>float64</div><div class='xr-var-preview xr-preview'>0.0</div><input id='attrs-a41a9602-290b-4a17-a87e-01b9a6f74a2b' class='xr-var-attrs-in' type='checkbox' ><label for='attrs-a41a9602-290b-4a17-a87e-01b9a6f74a2b' title='Show/Hide attributes'><svg class='icon xr-icon-file-text2'><use xlink:href='#icon-file-text2'></use></svg></label><input id='data-8ee956db-e4c0-4a64-adce-721270abd2da' class='xr-var-data-in' type='checkbox'><label for='data-8ee956db-e4c0-4a64-adce-721270abd2da' title='Show/Hide data repr'><svg class='icon xr-icon-database'><use xlink:href='#icon-database'></use></svg></label><div class='xr-var-attrs'><dl class='xr-attrs'><dt><span>long_name :</span></dt><dd>film height coordinate</dd></dl></div><div class='xr-var-data'><pre>array([0.])</pre></div></li><li class='xr-var-item'><div class='xr-var-name'><span class='xr-has-index'>x_index</span></div><div class='xr-var-dims'>(x_index)</div><div class='xr-var-dtype'>int64</div><div class='xr-var-preview xr-preview'>0 1 2 3 4 5 6 ... 25 26 27 28 29 30</div><input id='attrs-89c48396-73ef-4e69-bc35-692867ce833a' class='xr-var-attrs-in' type='checkbox' ><label for='attrs-89c48396-73ef-4e69-bc35-692867ce833a' title='Show/Hide attributes'><svg class='icon xr-icon-file-text2'><use xlink:href='#icon-file-text2'></use></svg></label><input id='data-a92ea4c5-f498-4383-a2a3-5265dcb9de7a' class='xr-var-data-in' type='checkbox'><label for='data-a92ea4c5-f498-4383-a2a3-5265dcb9de7a' title='Show/Hide data repr'><svg class='icon xr-icon-database'><use xlink:href='#icon-database'></use></svg></label><div class='xr-var-attrs'><dl class='xr-attrs'><dt><span>long_name :</span></dt><dd>width pixel index</dd></dl></div><div class='xr-var-data'><pre>array([ 0,  1,  2,  3,  4,  5,  6,  7,  8,  9, 10, 11, 12, 13, 14, 15, 16, 17,\n",
       "       18, 19, 20, 21, 22, 23, 24, 25, 26, 27, 28, 29, 30])</pre></div></li><li class='xr-var-item'><div class='xr-var-name'><span>x</span></div><div class='xr-var-dims'>(x_index)</div><div class='xr-var-dtype'>float64</div><div class='xr-var-preview xr-preview'>0.0 0.03333 0.06667 ... 0.9667 1.0</div><input id='attrs-ce9e8a34-d4e6-4066-a269-78f2f0095401' class='xr-var-attrs-in' type='checkbox' ><label for='attrs-ce9e8a34-d4e6-4066-a269-78f2f0095401' title='Show/Hide attributes'><svg class='icon xr-icon-file-text2'><use xlink:href='#icon-file-text2'></use></svg></label><input id='data-b7a42bcb-2269-4853-aa52-ff5d4093b3e4' class='xr-var-data-in' type='checkbox'><label for='data-b7a42bcb-2269-4853-aa52-ff5d4093b3e4' title='Show/Hide data repr'><svg class='icon xr-icon-database'><use xlink:href='#icon-database'></use></svg></label><div class='xr-var-attrs'><dl class='xr-attrs'><dt><span>long_name :</span></dt><dd>film width coordinate</dd></dl></div><div class='xr-var-data'><pre>array([0.        , 0.03333333, 0.06666667, 0.1       , 0.13333333,\n",
       "       0.16666667, 0.2       , 0.23333333, 0.26666667, 0.3       ,\n",
       "       0.33333333, 0.36666667, 0.4       , 0.43333333, 0.46666667,\n",
       "       0.5       , 0.53333333, 0.56666667, 0.6       , 0.63333333,\n",
       "       0.66666667, 0.7       , 0.73333333, 0.76666667, 0.8       ,\n",
       "       0.83333333, 0.86666667, 0.9       , 0.93333333, 0.96666667,\n",
       "       1.        ])</pre></div></li><li class='xr-var-item'><div class='xr-var-name'><span class='xr-has-index'>w</span></div><div class='xr-var-dims'>(w)</div><div class='xr-var-dtype'>float64</div><div class='xr-var-preview xr-preview'>550.0</div><input id='attrs-c91e3131-e7c6-4851-ac4a-fa24829ab92a' class='xr-var-attrs-in' type='checkbox' ><label for='attrs-c91e3131-e7c6-4851-ac4a-fa24829ab92a' title='Show/Hide attributes'><svg class='icon xr-icon-file-text2'><use xlink:href='#icon-file-text2'></use></svg></label><input id='data-64a96efc-14e2-42a2-b3f4-bff4cd9a9461' class='xr-var-data-in' type='checkbox'><label for='data-64a96efc-14e2-42a2-b3f4-bff4cd9a9461' title='Show/Hide data repr'><svg class='icon xr-icon-database'><use xlink:href='#icon-database'></use></svg></label><div class='xr-var-attrs'><dl class='xr-attrs'><dt><span>standard_name :</span></dt><dd>radiation_wavelength</dd><dt><span>long_name :</span></dt><dd>wavelength</dd><dt><span>units :</span></dt><dd>nm</dd></dl></div><div class='xr-var-data'><pre>array([550.])</pre></div></li><li class='xr-var-item'><div class='xr-var-name'><span>vza</span></div><div class='xr-var-dims'>(x_index, y_index)</div><div class='xr-var-dtype'>int64</div><div class='xr-var-preview xr-preview'>-75 -70 -65 -60 -55 ... 60 65 70 75</div><input id='attrs-c812a424-3bcd-4de3-9f74-b3f66b3b727d' class='xr-var-attrs-in' type='checkbox' ><label for='attrs-c812a424-3bcd-4de3-9f74-b3f66b3b727d' title='Show/Hide attributes'><svg class='icon xr-icon-file-text2'><use xlink:href='#icon-file-text2'></use></svg></label><input id='data-3587391f-c8ee-4029-9bdb-60a032b7a4b8' class='xr-var-data-in' type='checkbox'><label for='data-3587391f-c8ee-4029-9bdb-60a032b7a4b8' title='Show/Hide data repr'><svg class='icon xr-icon-database'><use xlink:href='#icon-database'></use></svg></label><div class='xr-var-attrs'><dl class='xr-attrs'><dt><span>standard_name :</span></dt><dd>viewing_zenith_angle</dd><dt><span>long_name :</span></dt><dd>viewing zenith angle</dd><dt><span>units :</span></dt><dd>deg</dd></dl></div><div class='xr-var-data'><pre>array([[-75],\n",
       "       [-70],\n",
       "       [-65],\n",
       "       [-60],\n",
       "       [-55],\n",
       "       [-50],\n",
       "       [-45],\n",
       "       [-40],\n",
       "       [-35],\n",
       "       [-30],\n",
       "       [-25],\n",
       "       [-20],\n",
       "       [-15],\n",
       "       [-10],\n",
       "       [ -5],\n",
       "       [  0],\n",
       "       [  5],\n",
       "       [ 10],\n",
       "       [ 15],\n",
       "       [ 20],\n",
       "       [ 25],\n",
       "       [ 30],\n",
       "       [ 35],\n",
       "       [ 40],\n",
       "       [ 45],\n",
       "       [ 50],\n",
       "       [ 55],\n",
       "       [ 60],\n",
       "       [ 65],\n",
       "       [ 70],\n",
       "       [ 75]])</pre></div></li><li class='xr-var-item'><div class='xr-var-name'><span>vaa</span></div><div class='xr-var-dims'>(x_index, y_index)</div><div class='xr-var-dtype'>int64</div><div class='xr-var-preview xr-preview'>0 0 0 0 0 0 0 0 ... 0 0 0 0 0 0 0 0</div><input id='attrs-cdf62c0d-1734-4c3c-b8d4-504533703196' class='xr-var-attrs-in' type='checkbox' ><label for='attrs-cdf62c0d-1734-4c3c-b8d4-504533703196' title='Show/Hide attributes'><svg class='icon xr-icon-file-text2'><use xlink:href='#icon-file-text2'></use></svg></label><input id='data-15a955a3-0a0a-478a-b1ea-893b969afc0f' class='xr-var-data-in' type='checkbox'><label for='data-15a955a3-0a0a-478a-b1ea-893b969afc0f' title='Show/Hide data repr'><svg class='icon xr-icon-database'><use xlink:href='#icon-database'></use></svg></label><div class='xr-var-attrs'><dl class='xr-attrs'><dt><span>standard_name :</span></dt><dd>viewing_azimuth_angle</dd><dt><span>long_name :</span></dt><dd>viewing azimuth angle</dd><dt><span>units :</span></dt><dd>deg</dd></dl></div><div class='xr-var-data'><pre>array([[0],\n",
       "       [0],\n",
       "       [0],\n",
       "       [0],\n",
       "       [0],\n",
       "       [0],\n",
       "       [0],\n",
       "       [0],\n",
       "       [0],\n",
       "       [0],\n",
       "       [0],\n",
       "       [0],\n",
       "       [0],\n",
       "       [0],\n",
       "       [0],\n",
       "       [0],\n",
       "       [0],\n",
       "       [0],\n",
       "       [0],\n",
       "       [0],\n",
       "       [0],\n",
       "       [0],\n",
       "       [0],\n",
       "       [0],\n",
       "       [0],\n",
       "       [0],\n",
       "       [0],\n",
       "       [0],\n",
       "       [0],\n",
       "       [0],\n",
       "       [0]])</pre></div></li></ul></div></li><li class='xr-section-item'><input id='section-69aca2b8-68c2-4cd8-b075-0ca90ab82ad5' class='xr-section-summary-in' type='checkbox'  checked><label for='section-69aca2b8-68c2-4cd8-b075-0ca90ab82ad5' class='xr-section-summary' >Data variables: <span>(5)</span></label><div class='xr-section-inline-details'></div><div class='xr-section-details'><ul class='xr-var-list'><li class='xr-var-item'><div class='xr-var-name'><span>radiance</span></div><div class='xr-var-dims'>(sza, saa, w, y_index, x_index)</div><div class='xr-var-dtype'>float64</div><div class='xr-var-preview xr-preview'>0.2872 0.2884 ... 0.297 0.2945</div><input id='attrs-bf6bda77-6853-4034-bd4a-5c4002843f9d' class='xr-var-attrs-in' type='checkbox' ><label for='attrs-bf6bda77-6853-4034-bd4a-5c4002843f9d' title='Show/Hide attributes'><svg class='icon xr-icon-file-text2'><use xlink:href='#icon-file-text2'></use></svg></label><input id='data-a11f877e-f43b-4521-a72e-01cb1e447a2b' class='xr-var-data-in' type='checkbox'><label for='data-a11f877e-f43b-4521-a72e-01cb1e447a2b' title='Show/Hide data repr'><svg class='icon xr-icon-database'><use xlink:href='#icon-database'></use></svg></label><div class='xr-var-attrs'><dl class='xr-attrs'><dt><span>standard_name :</span></dt><dd>radiance</dd><dt><span>long_name :</span></dt><dd>radiance</dd><dt><span>units :</span></dt><dd>W / m ** 2 / nm / sr</dd></dl></div><div class='xr-var-data'><pre>array([[[[[0.28724286, 0.28842366, 0.29078165, 0.28988892, 0.29023698,\n",
       "           0.29085401, 0.29082879, 0.29257503, 0.2957527 , 0.29575214,\n",
       "           0.29761046, 0.29686004, 0.29504701, 0.29928082, 0.29750657,\n",
       "           0.29862931, 0.2985096 , 0.30022803, 0.29866236, 0.29785848,\n",
       "           0.30167693, 0.29996163, 0.30055326, 0.30056056, 0.30019093,\n",
       "           0.30043706, 0.298632  , 0.29919079, 0.29767144, 0.29704976,\n",
       "           0.29454631]]]]])</pre></div></li><li class='xr-var-item'><div class='xr-var-name'><span>spp</span></div><div class='xr-var-dims'>(sza, saa, w)</div><div class='xr-var-dtype'>int64</div><div class='xr-var-preview xr-preview'>10000</div><input id='attrs-f2287f61-35cf-4949-b44c-7946c423528d' class='xr-var-attrs-in' type='checkbox' disabled><label for='attrs-f2287f61-35cf-4949-b44c-7946c423528d' title='Show/Hide attributes'><svg class='icon xr-icon-file-text2'><use xlink:href='#icon-file-text2'></use></svg></label><input id='data-2f36ee1e-57d8-4456-8858-9478262b96f4' class='xr-var-data-in' type='checkbox'><label for='data-2f36ee1e-57d8-4456-8858-9478262b96f4' title='Show/Hide data repr'><svg class='icon xr-icon-database'><use xlink:href='#icon-database'></use></svg></label><div class='xr-var-attrs'><dl class='xr-attrs'></dl></div><div class='xr-var-data'><pre>array([[[10000]]])</pre></div></li><li class='xr-var-item'><div class='xr-var-name'><span>irradiance</span></div><div class='xr-var-dims'>(sza, saa, w)</div><div class='xr-var-dtype'>float64</div><div class='xr-var-preview xr-preview'>1.843</div><input id='attrs-eacbd3e9-2e29-4647-9be8-09db05363f0f' class='xr-var-attrs-in' type='checkbox' ><label for='attrs-eacbd3e9-2e29-4647-9be8-09db05363f0f' title='Show/Hide attributes'><svg class='icon xr-icon-file-text2'><use xlink:href='#icon-file-text2'></use></svg></label><input id='data-8555c675-7288-49ad-ab8c-482a254c0ea0' class='xr-var-data-in' type='checkbox'><label for='data-8555c675-7288-49ad-ab8c-482a254c0ea0' title='Show/Hide data repr'><svg class='icon xr-icon-database'><use xlink:href='#icon-database'></use></svg></label><div class='xr-var-attrs'><dl class='xr-attrs'><dt><span>standard_name :</span></dt><dd>horizontal_solar_irradiance_per_unit_wavelength</dd><dt><span>long_name :</span></dt><dd>horizontal spectral irradiance</dd><dt><span>units :</span></dt><dd>W / m ** 2 / nm</dd></dl></div><div class='xr-var-data'><pre>array([[[1.84308457]]])</pre></div></li><li class='xr-var-item'><div class='xr-var-name'><span>brdf</span></div><div class='xr-var-dims'>(sza, saa, w, y_index, x_index)</div><div class='xr-var-dtype'>float64</div><div class='xr-var-preview xr-preview'>0.1558 0.1565 ... 0.1612 0.1598</div><input id='attrs-3e3046db-cd47-4f9c-962d-1cc2dfa0fa90' class='xr-var-attrs-in' type='checkbox' ><label for='attrs-3e3046db-cd47-4f9c-962d-1cc2dfa0fa90' title='Show/Hide attributes'><svg class='icon xr-icon-file-text2'><use xlink:href='#icon-file-text2'></use></svg></label><input id='data-9f28a2cf-ca40-43b8-8a6f-0b580a92f880' class='xr-var-data-in' type='checkbox'><label for='data-9f28a2cf-ca40-43b8-8a6f-0b580a92f880' title='Show/Hide data repr'><svg class='icon xr-icon-database'><use xlink:href='#icon-database'></use></svg></label><div class='xr-var-attrs'><dl class='xr-attrs'><dt><span>standard_name :</span></dt><dd>brdf</dd><dt><span>long_name :</span></dt><dd>bi-directional reflection distribution function</dd><dt><span>units :</span></dt><dd>1 / sr</dd></dl></div><div class='xr-var-data'><pre>array([[[[[0.15584898, 0.15648965, 0.15776902, 0.15728465, 0.1574735 ,\n",
       "           0.15780828, 0.1577946 , 0.15874205, 0.16046616, 0.16046585,\n",
       "           0.16147412, 0.16106697, 0.16008328, 0.16238041, 0.16141775,\n",
       "           0.16202692, 0.16196196, 0.16289433, 0.16204485, 0.16160869,\n",
       "           0.16368046, 0.16274979, 0.16307079, 0.16307475, 0.1628742 ,\n",
       "           0.16300775, 0.16202837, 0.16233156, 0.1615072 , 0.1611699 ,\n",
       "           0.15981161]]]]])</pre></div></li><li class='xr-var-item'><div class='xr-var-name'><span>brf</span></div><div class='xr-var-dims'>(sza, saa, w, y_index, x_index)</div><div class='xr-var-dtype'>float64</div><div class='xr-var-preview xr-preview'>0.4896 0.4916 ... 0.5063 0.5021</div><input id='attrs-c1f3e833-d92e-41d9-ab8c-6040aebfa4e2' class='xr-var-attrs-in' type='checkbox' ><label for='attrs-c1f3e833-d92e-41d9-ab8c-6040aebfa4e2' title='Show/Hide attributes'><svg class='icon xr-icon-file-text2'><use xlink:href='#icon-file-text2'></use></svg></label><input id='data-5d48c131-a458-4a0b-9330-c764a99bae72' class='xr-var-data-in' type='checkbox'><label for='data-5d48c131-a458-4a0b-9330-c764a99bae72' title='Show/Hide data repr'><svg class='icon xr-icon-database'><use xlink:href='#icon-database'></use></svg></label><div class='xr-var-attrs'><dl class='xr-attrs'><dt><span>standard_name :</span></dt><dd>brf</dd><dt><span>long_name :</span></dt><dd>bi-directional reflectance factor</dd><dt><span>units :</span></dt><dd></dd></dl></div><div class='xr-var-data'><pre>array([[[[[0.48961403, 0.49162673, 0.49564599, 0.49412431, 0.49471759,\n",
       "           0.49576933, 0.49572636, 0.49870287, 0.50411931, 0.50411834,\n",
       "           0.50728591, 0.50600679, 0.50291644, 0.51013309, 0.50710883,\n",
       "           0.50902258, 0.50881852, 0.51174763, 0.50907891, 0.50770866,\n",
       "           0.51421733, 0.51129354, 0.512302  , 0.51231445, 0.51168439,\n",
       "           0.51210394, 0.50902715, 0.50997963, 0.50738985, 0.50633018,\n",
       "           0.50206297]]]]])</pre></div></li></ul></div></li><li class='xr-section-item'><input id='section-7c8166ec-16e9-414e-9710-792646cde8cc' class='xr-section-summary-in' type='checkbox'  ><label for='section-7c8166ec-16e9-414e-9710-792646cde8cc' class='xr-section-summary' >Indexes: <span>(5)</span></label><div class='xr-section-inline-details'></div><div class='xr-section-details'><ul class='xr-var-list'><li class='xr-var-item'><div class='xr-index-name'><div>sza</div></div><div class='xr-index-preview'>PandasIndex</div><div></div><input id='index-dd4499b8-ebc5-4984-8125-9c3965382567' class='xr-index-data-in' type='checkbox'/><label for='index-dd4499b8-ebc5-4984-8125-9c3965382567' title='Show/Hide index repr'><svg class='icon xr-icon-database'><use xlink:href='#icon-database'></use></svg></label><div class='xr-index-data'><pre>PandasIndex(Float64Index([15.0], dtype=&#x27;float64&#x27;, name=&#x27;sza&#x27;))</pre></div></li><li class='xr-var-item'><div class='xr-index-name'><div>saa</div></div><div class='xr-index-preview'>PandasIndex</div><div></div><input id='index-38bcb97c-f367-488b-9f30-780d4a8f6b61' class='xr-index-data-in' type='checkbox'/><label for='index-38bcb97c-f367-488b-9f30-780d4a8f6b61' title='Show/Hide index repr'><svg class='icon xr-icon-database'><use xlink:href='#icon-database'></use></svg></label><div class='xr-index-data'><pre>PandasIndex(Float64Index([0.0], dtype=&#x27;float64&#x27;, name=&#x27;saa&#x27;))</pre></div></li><li class='xr-var-item'><div class='xr-index-name'><div>y_index</div></div><div class='xr-index-preview'>PandasIndex</div><div></div><input id='index-3926acd6-10e0-4aad-8e30-7a613a4867b8' class='xr-index-data-in' type='checkbox'/><label for='index-3926acd6-10e0-4aad-8e30-7a613a4867b8' title='Show/Hide index repr'><svg class='icon xr-icon-database'><use xlink:href='#icon-database'></use></svg></label><div class='xr-index-data'><pre>PandasIndex(Int64Index([0], dtype=&#x27;int64&#x27;, name=&#x27;y_index&#x27;))</pre></div></li><li class='xr-var-item'><div class='xr-index-name'><div>x_index</div></div><div class='xr-index-preview'>PandasIndex</div><div></div><input id='index-e83ee0fc-fb56-4242-947e-68ad514a4dd9' class='xr-index-data-in' type='checkbox'/><label for='index-e83ee0fc-fb56-4242-947e-68ad514a4dd9' title='Show/Hide index repr'><svg class='icon xr-icon-database'><use xlink:href='#icon-database'></use></svg></label><div class='xr-index-data'><pre>PandasIndex(Int64Index([ 0,  1,  2,  3,  4,  5,  6,  7,  8,  9, 10, 11, 12, 13, 14, 15, 16,\n",
       "            17, 18, 19, 20, 21, 22, 23, 24, 25, 26, 27, 28, 29, 30],\n",
       "           dtype=&#x27;int64&#x27;, name=&#x27;x_index&#x27;))</pre></div></li><li class='xr-var-item'><div class='xr-index-name'><div>w</div></div><div class='xr-index-preview'>PandasIndex</div><div></div><input id='index-fde98a0b-f6c2-4221-b302-0e25f90ce307' class='xr-index-data-in' type='checkbox'/><label for='index-fde98a0b-f6c2-4221-b302-0e25f90ce307' title='Show/Hide index repr'><svg class='icon xr-icon-database'><use xlink:href='#icon-database'></use></svg></label><div class='xr-index-data'><pre>PandasIndex(Float64Index([550.0], dtype=&#x27;float64&#x27;, name=&#x27;w&#x27;))</pre></div></li></ul></div></li><li class='xr-section-item'><input id='section-59c86581-a2ce-4c5d-9e26-ebe64e6d1e19' class='xr-section-summary-in' type='checkbox'  checked><label for='section-59c86581-a2ce-4c5d-9e26-ebe64e6d1e19' class='xr-section-summary' >Attributes: <span>(5)</span></label><div class='xr-section-inline-details'></div><div class='xr-section-details'><dl class='xr-attrs'><dt><span>convention :</span></dt><dd>CF-1.10</dd><dt><span>source :</span></dt><dd>eradiate, version 0.23.2rc2.post1.dev5+gedede817.d20230622</dd><dt><span>history :</span></dt><dd>2023-06-22T17:48:20 - data creation - AtmosphereExperiment.postprocess()</dd><dt><span>references :</span></dt><dd></dd><dt><span>title :</span></dt><dd>Top-of-atmosphere simulation results</dd></dl></div></li></ul></div></div>"
      ],
      "text/plain": [
       "<xarray.Dataset>\n",
       "Dimensions:     (sza: 1, saa: 1, w: 1, y_index: 1, x_index: 31)\n",
       "Coordinates:\n",
       "  * sza         (sza) float64 15.0\n",
       "  * saa         (saa) float64 0.0\n",
       "  * y_index     (y_index) int64 0\n",
       "    y           (y_index) float64 0.0\n",
       "  * x_index     (x_index) int64 0 1 2 3 4 5 6 7 8 ... 22 23 24 25 26 27 28 29 30\n",
       "    x           (x_index) float64 0.0 0.03333 0.06667 0.1 ... 0.9333 0.9667 1.0\n",
       "  * w           (w) float64 550.0\n",
       "    vza         (x_index, y_index) int64 -75 -70 -65 -60 -55 ... 55 60 65 70 75\n",
       "    vaa         (x_index, y_index) int64 0 0 0 0 0 0 0 0 0 ... 0 0 0 0 0 0 0 0 0\n",
       "Data variables:\n",
       "    radiance    (sza, saa, w, y_index, x_index) float64 0.2872 0.2884 ... 0.2945\n",
       "    spp         (sza, saa, w) int64 10000\n",
       "    irradiance  (sza, saa, w) float64 1.843\n",
       "    brdf        (sza, saa, w, y_index, x_index) float64 0.1558 0.1565 ... 0.1598\n",
       "    brf         (sza, saa, w, y_index, x_index) float64 0.4896 0.4916 ... 0.5021\n",
       "Attributes:\n",
       "    convention:  CF-1.10\n",
       "    source:      eradiate, version 0.23.2rc2.post1.dev5+gedede817.d20230622\n",
       "    history:     2023-06-22T17:48:20 - data creation - AtmosphereExperiment.p...\n",
       "    references:  \n",
       "    title:       Top-of-atmosphere simulation results"
      ]
     },
     "execution_count": 12,
     "metadata": {},
     "output_type": "execute_result"
    }
   ],
   "source": [
    "results"
   ]
  },
  {
   "cell_type": "markdown",
   "id": "8d1afb3b-3f6b-4cba-b31f-3983c9d1b2f6",
   "metadata": {
    "tags": []
   },
   "source": [
    "We can see that a `brf` variable is present. To visualise it, we create a Matplotlib figure and plot the BRF data, using xarray's built-in plotting interface. By passing the x coordinate in the plotting method, we choose which coordinate to plot against. We also set markers and line style to visualise sample location more precisely."
   ]
  },
  {
   "cell_type": "code",
   "execution_count": 13,
   "id": "a6175101-2069-4b1b-a7b4-22b949208117",
   "metadata": {
    "execution": {
     "iopub.execute_input": "2023-06-22T17:48:20.783409Z",
     "iopub.status.busy": "2023-06-22T17:48:20.783103Z",
     "iopub.status.idle": "2023-06-22T17:48:21.010726Z",
     "shell.execute_reply": "2023-06-22T17:48:21.009758Z"
    },
    "tags": [
     "nbsphinx-thumbnail"
    ]
   },
   "outputs": [
    {
     "data": {
      "image/png": "[encoded data removed]",
      "text/plain": [
       "<Figure size 640x480 with 1 Axes>"
      ]
     },
     "metadata": {},
     "output_type": "display_data"
    }
   ],
   "source": [
    "fig = plt.figure()\n",
    "results.brf.plot(x=\"vza\", linestyle=\":\", marker=\".\");"
   ]
  },
  {
   "cell_type": "raw",
   "id": "87a8392e-a93d-44b9-80cd-862d883001b1",
   "metadata": {
    "raw_mimetype": "text/restructuredtext",
    "tags": []
   },
   "source": [
    "----\n",
    "\n",
    "Final words\n",
    "-----------\n",
    "\n",
    "Bravo! You just completed your first Eradiate simulation. You can now try and modify it, for instance by changing the sample count (check the effect on the processing time and the Monte Carlo noise in the results) or the zenith angles of the measure.\n",
    "\n",
    "Further reading\n",
    "---------------\n",
    "\n",
    "* :doc:`molecular_atmosphere`"
   ]
  }
 ],
 "metadata": {
  "kernelspec": {
   "display_name": "Python 3 (ipykernel)",
   "language": "python",
   "name": "python3"
  },
  "language_info": {
   "codemirror_mode": {
    "name": "ipython",
    "version": 3
   },
   "file_extension": ".py",
   "mimetype": "text/x-python",
   "name": "python",
   "nbconvert_exporter": "python",
   "pygments_lexer": "ipython3",
   "version": "3.8.17"
  },
  "widgets": {
   "application/vnd.jupyter.widget-state+json": {
    "state": {
     "162639b1f55147f082801468392fc717": {
      "model_module": "@jupyter-widgets/controls",
      "model_module_version": "2.0.0",
      "model_name": "HTMLStyleModel",
      "state": {
       "_model_module": "@jupyter-widgets/controls",
       "_model_module_version": "2.0.0",
       "_model_name": "HTMLStyleModel",
       "_view_count": null,
       "_view_module": "@jupyter-widgets/base",
       "_view_module_version": "2.0.0",
       "_view_name": "StyleView",
       "background": null,
       "description_width": "",
       "font_size": null,
       "text_color": null
      }
     },
     "20b4508a4a3644af8231b0b8e37ff4dc": {
      "model_module": "@jupyter-widgets/base",
      "model_module_version": "2.0.0",
      "model_name": "LayoutModel",
      "state": {
       "_model_module": "@jupyter-widgets/base",
       "_model_module_version": "2.0.0",
       "_model_name": "LayoutModel",
       "_view_count": null,
       "_view_module": "@jupyter-widgets/base",
       "_view_module_version": "2.0.0",
       "_view_name": "LayoutView",
       "align_content": null,
       "align_items": null,
       "align_self": null,
       "border_bottom": null,
       "border_left": null,
       "border_right": null,
       "border_top": null,
       "bottom": null,
       "display": null,
       "flex": null,
       "flex_flow": null,
       "grid_area": null,
       "grid_auto_columns": null,
       "grid_auto_flow": null,
       "grid_auto_rows": null,
       "grid_column": null,
       "grid_gap": null,
       "grid_row": null,
       "grid_template_areas": null,
       "grid_template_columns": null,
       "grid_template_rows": null,
       "height": null,
       "justify_content": null,
       "justify_items": null,
       "left": null,
       "margin": null,
       "max_height": null,
       "max_width": null,
       "min_height": null,
       "min_width": null,
       "object_fit": null,
       "object_position": null,
       "order": null,
       "overflow": null,
       "padding": null,
       "right": null,
       "top": null,
       "visibility": null,
       "width": null
      }
     },
     "316ba344db47476492f95f1124f2c816": {
      "model_module": "@jupyter-widgets/controls",
      "model_module_version": "2.0.0",
      "model_name": "HTMLModel",
      "state": {
       "_dom_classes": [],
       "_model_module": "@jupyter-widgets/controls",
       "_model_module_version": "2.0.0",
       "_model_name": "HTMLModel",
       "_view_count": null,
       "_view_module": "@jupyter-widgets/controls",
       "_view_module_version": "2.0.0",
       "_view_name": "HTMLView",
       "description": "",
       "description_allow_html": false,
       "layout": "IPY_MODEL_20b4508a4a3644af8231b0b8e37ff4dc",
       "placeholder": "​",
       "style": "IPY_MODEL_162639b1f55147f082801468392fc717",
       "tabbable": null,
       "tooltip": null,
       "value": "Rendering (69ms, ETA: 0ms)"
      }
     },
     "37cc1dd735f6490d9fee0fd07d504ab1": {
      "model_module": "@jupyter-widgets/controls",
      "model_module_version": "2.0.0",
      "model_name": "ProgressStyleModel",
      "state": {
       "_model_module": "@jupyter-widgets/controls",
       "_model_module_version": "2.0.0",
       "_model_name": "ProgressStyleModel",
       "_view_count": null,
       "_view_module": "@jupyter-widgets/base",
       "_view_module_version": "2.0.0",
       "_view_name": "StyleView",
       "bar_color": null,
       "description_width": ""
      }
     },
     "618827aefb8b4adc86742612e64c2464": {
      "model_module": "@jupyter-widgets/controls",
      "model_module_version": "2.0.0",
      "model_name": "FloatProgressModel",
      "state": {
       "_dom_classes": [],
       "_model_module": "@jupyter-widgets/controls",
       "_model_module_version": "2.0.0",
       "_model_name": "FloatProgressModel",
       "_view_count": null,
       "_view_module": "@jupyter-widgets/controls",
       "_view_module_version": "2.0.0",
       "_view_name": "ProgressView",
       "bar_style": "success",
       "description": "",
       "description_allow_html": false,
       "layout": "IPY_MODEL_f3c3e0f5088a4d2285f3e91f21bdec9b",
       "max": 1,
       "min": 0,
       "orientation": "horizontal",
       "style": "IPY_MODEL_37cc1dd735f6490d9fee0fd07d504ab1",
       "tabbable": null,
       "tooltip": null,
       "value": 1
      }
     },
     "9b0b11d6186f4b13b96097d651f87a3f": {
      "model_module": "@jupyter-widgets/base",
      "model_module_version": "2.0.0",
      "model_name": "LayoutModel",
      "state": {
       "_model_module": "@jupyter-widgets/base",
       "_model_module_version": "2.0.0",
       "_model_name": "LayoutModel",
       "_view_count": null,
       "_view_module": "@jupyter-widgets/base",
       "_view_module_version": "2.0.0",
       "_view_name": "LayoutView",
       "align_content": null,
       "align_items": null,
       "align_self": null,
       "border_bottom": null,
       "border_left": null,
       "border_right": null,
       "border_top": null,
       "bottom": null,
       "display": null,
       "flex": null,
       "flex_flow": null,
       "grid_area": null,
       "grid_auto_columns": null,
       "grid_auto_flow": null,
       "grid_auto_rows": null,
       "grid_column": null,
       "grid_gap": null,
       "grid_row": null,
       "grid_template_areas": null,
       "grid_template_columns": null,
       "grid_template_rows": null,
       "height": null,
       "justify_content": null,
       "justify_items": null,
       "left": null,
       "margin": null,
       "max_height": null,
       "max_width": null,
       "min_height": null,
       "min_width": null,
       "object_fit": null,
       "object_position": null,
       "order": null,
       "overflow": null,
       "padding": null,
       "right": null,
       "top": null,
       "visibility": null,
       "width": null
      }
     },
     "de13dbbf02684fe98d63d7308f3903d5": {
      "model_module": "@jupyter-widgets/controls",
      "model_module_version": "2.0.0",
      "model_name": "VBoxModel",
      "state": {
       "_dom_classes": [],
       "_model_module": "@jupyter-widgets/controls",
       "_model_module_version": "2.0.0",
       "_model_name": "VBoxModel",
       "_view_count": null,
       "_view_module": "@jupyter-widgets/controls",
       "_view_module_version": "2.0.0",
       "_view_name": "VBoxView",
       "box_style": "",
       "children": [
        "IPY_MODEL_316ba344db47476492f95f1124f2c816",
        "IPY_MODEL_618827aefb8b4adc86742612e64c2464"
       ],
       "layout": "IPY_MODEL_9b0b11d6186f4b13b96097d651f87a3f",
       "tabbable": null,
       "tooltip": null
      }
     },
     "f3c3e0f5088a4d2285f3e91f21bdec9b": {
      "model_module": "@jupyter-widgets/base",
      "model_module_version": "2.0.0",
      "model_name": "LayoutModel",
      "state": {
       "_model_module": "@jupyter-widgets/base",
       "_model_module_version": "2.0.0",
       "_model_name": "LayoutModel",
       "_view_count": null,
       "_view_module": "@jupyter-widgets/base",
       "_view_module_version": "2.0.0",
       "_view_name": "LayoutView",
       "align_content": null,
       "align_items": null,
       "align_self": null,
       "border_bottom": null,
       "border_left": null,
       "border_right": null,
       "border_top": null,
       "bottom": null,
       "display": null,
       "flex": null,
       "flex_flow": null,
       "grid_area": null,
       "grid_auto_columns": null,
       "grid_auto_flow": null,
       "grid_auto_rows": null,
       "grid_column": null,
       "grid_gap": null,
       "grid_row": null,
       "grid_template_areas": null,
       "grid_template_columns": null,
       "grid_template_rows": null,
       "height": null,
       "justify_content": null,
       "justify_items": null,
       "left": null,
       "margin": null,
       "max_height": null,
       "max_width": null,
       "min_height": null,
       "min_width": null,
       "object_fit": null,
       "object_position": null,
       "order": null,
       "overflow": null,
       "padding": null,
       "right": null,
       "top": null,
       "visibility": null,
       "width": "100%"
      }
     }
    },
    "version_major": 2,
    "version_minor": 0
   }
  }
 },
 "nbformat": 4,
 "nbformat_minor": 5
}
