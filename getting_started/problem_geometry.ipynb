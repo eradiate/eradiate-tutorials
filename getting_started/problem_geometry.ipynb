{
 "cells": [
  {
   "cell_type": "raw",
   "id": "25995bb3-1d90-4a5c-ada8-b586fe8b041c",
   "metadata": {
    "raw_mimetype": "text/restructuredtext",
    "tags": []
   },
   "source": [
    "Problem geometry control\n",
    "========================\n",
    "\n",
    ".. admonition:: Overview\n",
    "\n",
    "   This tutorial introduces Eradiate's problem geometry control feature, which allows to select the basic problem geometry (plane-parallel or spherical-shell) for experiments supporting it.\n",
    "\n",
    ".. admonition:: Prerequisites\n",
    "\n",
    "   * How to set up an experiment and run a simulation with Eradiate.\n",
    "   * How to visualise a scene.\n",
    "\n",
    ".. admonition:: What you will learn\n",
    "\n",
    "   * How to select the problem geometry when configuring an experiment.\n",
    "\n",
    "----"
   ]
  },
  {
   "cell_type": "markdown",
   "id": "401b5d01-4695-4112-907d-1417d60f0018",
   "metadata": {},
   "source": [
    "## Geometry control interface"
   ]
  },
  {
   "cell_type": "markdown",
   "id": "c1d87c12-7bc1-4f0b-b910-c346b13031d8",
   "metadata": {},
   "source": [
    "We start by activating the IPython extension and importing and aliasing a few useful components. We also select the monochromatic mode."
   ]
  },
  {
   "cell_type": "code",
   "execution_count": null,
   "id": "f85a8e8a-c2f0-4e51-a13f-54a0c05b837e",
   "metadata": {},
   "outputs": [],
   "source": [
    "%load_ext eradiate\n",
    "\n",
    "import attr\n",
    "import numpy as np\n",
    "import xarray as xr\n",
    "\n",
    "import eradiate\n",
    "from eradiate import unit_registry as ureg\n",
    "eradiate.set_mode(\"mono\")"
   ]
  },
  {
   "cell_type": "raw",
   "id": "78e4f8ab-b016-427d-b158-2a3d95a086b2",
   "metadata": {
    "raw_mimetype": "text/restructuredtext",
    "tags": []
   },
   "source": [
    "We now set up an experiment simulating radiative transfer for a one-dimensional plane-parallel geometry. This is done with the :class:`.AtmosphereExperiment` class and its ``geometry`` parameter.\n",
    "\n",
    "We will use a perspective camera to visualise clearly the surface. We use an intermediate sample count (`spp` parameter) to reduce noise a little."
   ]
  },
  {
   "cell_type": "code",
   "execution_count": null,
   "id": "3d5dc801-2feb-4461-be8e-95863c06b94a",
   "metadata": {},
   "outputs": [],
   "source": [
    "exp_ppa = eradiate.experiments.AtmosphereExperiment(\n",
    "    geometry=\"plane_parallel\",\n",
    "    atmosphere={\n",
    "        \"type\": \"molecular\",\n",
    "        \"construct\": \"ussa_1976\",\n",
    "    },\n",
    "    measures={\n",
    "        \"type\": \"perspective\",\n",
    "        \"origin\": [-1000, 0, 110] * ureg.km,\n",
    "        \"target\": [0, 0, 110] * ureg.km,\n",
    "        \"up\": [0, 0, 1],\n",
    "        \"film_resolution\": (320, 160),\n",
    "        \"spp\": 128\n",
    "    }\n",
    ")"
   ]
  },
  {
   "cell_type": "markdown",
   "id": "63160cb0-6492-4d06-a6dc-7f67ec0f993e",
   "metadata": {},
   "source": [
    "Now, we run the simulation and plot the resulting image."
   ]
  },
  {
   "cell_type": "code",
   "execution_count": null,
   "id": "3282d34e-1bd9-43a4-b224-da514dd9edc8",
   "metadata": {},
   "outputs": [],
   "source": [
    "result = eradiate.run(exp_ppa)\n",
    "result.radiance.squeeze().plot.imshow(\n",
    "    yincrease=False, robust=True, aspect=2, size=4\n",
    ")"
   ]
  },
  {
   "cell_type": "markdown",
   "id": "43ae9c74-b882-4790-b098-b97b46a7bcf2",
   "metadata": {},
   "source": [
    "Our surface is a horizontal line, just as we expected. Now, we can define a second experiment, which will be indentical, except for the problem geometry. To achieve this, all we have to do is set the `geometry` parameter to `\"spherical_shell\"`:"
   ]
  },
  {
   "cell_type": "code",
   "execution_count": null,
   "id": "1806277a-6c3a-4c2c-a2c2-a392e3043bc9",
   "metadata": {},
   "outputs": [],
   "source": [
    "exp_ssa = eradiate.experiments.AtmosphereExperiment(\n",
    "    geometry=\"spherical_shell\",\n",
    "    atmosphere=exp_ppa.atmosphere,\n",
    ")"
   ]
  },
  {
   "cell_type": "markdown",
   "id": "2362348b-c5f4-462b-b0c0-a7f233e826a8",
   "metadata": {},
   "source": [
    "We can visualise the settings which were automatically selected. The planet radius is that of Earth, but it can be set to any value by passing directly a `SphericalShellGeometry` instance as the `geometry` parameter."
   ]
  },
  {
   "cell_type": "code",
   "execution_count": null,
   "id": "ac890ccd-d42f-4814-9d53-43f7184f6289",
   "metadata": {},
   "outputs": [],
   "source": [
    "exp_ssa.geometry"
   ]
  },
  {
   "cell_type": "markdown",
   "id": "51898ca5-4543-4bfc-97ab-3bad9e686765",
   "metadata": {},
   "source": [
    "We also have to update our perspective camera setup because the scene is now based on a sphere centred at (0, 0, 0), and not a rectangular surface. Consequently, we must change where our camera is located and where it is looking."
   ]
  },
  {
   "cell_type": "code",
   "execution_count": null,
   "id": "bce10595-b92f-4a8e-a324-a1f75c4392c1",
   "metadata": {},
   "outputs": [],
   "source": [
    "camera_ppa = exp_ppa.measures[0]\n",
    "offset = [0, 0, exp_ssa.geometry.planet_radius.m_as(ureg.km)] * ureg.km\n",
    "\n",
    "exp_ssa = eradiate.experiments.AtmosphereExperiment(\n",
    "    geometry=\"spherical_shell\",\n",
    "    atmosphere=exp_ppa.atmosphere,\n",
    "    measures={\n",
    "        \"type\": \"perspective\",\n",
    "        \"origin\": camera_ppa.origin + offset,\n",
    "        \"target\": camera_ppa.target + offset,\n",
    "        \"up\": camera_ppa.up,\n",
    "        \"film_resolution\": camera_ppa.film_resolution,\n",
    "        \"spp\": camera_ppa.spp\n",
    "    }\n",
    ")"
   ]
  },
  {
   "cell_type": "markdown",
   "id": "acce525e-7947-4d3a-b16e-c560d2096194",
   "metadata": {},
   "source": [
    "We run the simulation and display the resulting image, on which the curvature of the surface is clearly visible."
   ]
  },
  {
   "cell_type": "code",
   "execution_count": null,
   "id": "57298ac8-651b-477a-b82d-e1bc445a2222",
   "metadata": {},
   "outputs": [],
   "source": [
    "result = eradiate.run(exp_ssa)\n",
    "result.radiance.squeeze().plot.imshow(\n",
    "    yincrease=False, robust=True, aspect=2, size=4\n",
    ")"
   ]
  },
  {
   "cell_type": "markdown",
   "id": "71f26e1c-b51f-4efa-ae44-38642b08225b",
   "metadata": {},
   "source": [
    "## BRF simulation\n",
    "\n",
    "Now that we know how to set the surface geometry, let us run a few top-of-atmosphere BRF simulations. We define two also identical experiments, one with a plane-parallel geometry, and the other with a spherical-shell geometry. A good setup to observe the effect of how switching to a spherical-shell geometry is decreases the optical path is to use an abstract example with a non-absorbing atmosphere model and a black surface."
   ]
  },
  {
   "cell_type": "code",
   "execution_count": null,
   "id": "771a59f2-06f8-4b96-af15-c7884af84d14",
   "metadata": {},
   "outputs": [],
   "source": [
    "experiments = {}\n",
    "\n",
    "for geometry in [\"plane_parallel\", \"spherical_shell\"]:\n",
    "    experiments[geometry] = eradiate.experiments.AtmosphereExperiment(\n",
    "        geometry=geometry,\n",
    "        atmosphere={\n",
    "            \"type\": \"molecular\",\n",
    "            \"construct\": \"ussa_1976\",\n",
    "            \"has_scattering\": True,\n",
    "            \"has_absorption\": False,\n",
    "        },\n",
    "        surface={\"type\": \"black\"},\n",
    "        illumination={\n",
    "            \"type\": \"directional\",\n",
    "            \"zenith\": 0 * ureg.deg,\n",
    "        },\n",
    "        measures={\n",
    "            \"type\": \"mdistant\",\n",
    "            \"construct\": \"from_viewing_angles\",\n",
    "            \"zeniths\": (\n",
    "                [-88, -87, -86] + \n",
    "                list(np.arange(-85, 86, 5)) + \n",
    "                [86, 87, 88]\n",
    "            ) * ureg.deg,\n",
    "            \"azimuths\": 0.0,\n",
    "            \"spp\": 100000,\n",
    "        }\n",
    "    )"
   ]
  },
  {
   "cell_type": "markdown",
   "id": "329954af-63c2-4611-8442-decd5d9d5555",
   "metadata": {},
   "source": [
    "We can now run the simulation."
   ]
  },
  {
   "cell_type": "code",
   "execution_count": null,
   "id": "52add734-977c-4bdf-b0a2-6b03229cb76b",
   "metadata": {},
   "outputs": [],
   "source": [
    "results = {}\n",
    "for geometry, experiment in experiments.items():\n",
    "    results[geometry] = eradiate.run(experiment)"
   ]
  },
  {
   "cell_type": "markdown",
   "id": "a4a84cd5-6ae8-4956-a6d4-82bb668b172f",
   "metadata": {},
   "source": [
    "The xarray library makes it very simple to assemble our results into a single dataset. We can then visualise it very conveniently."
   ]
  },
  {
   "cell_type": "code",
   "execution_count": null,
   "id": "120a56d0-e2e7-44d7-b1be-d1e123f77031",
   "metadata": {},
   "outputs": [],
   "source": [
    "ds = xr.concat(list(results.values()), dim=\"geometry\")\n",
    "ds = ds.assign_coords(geometry=list(results.keys()))\n",
    "ds.brf.squeeze(drop=True).plot(\n",
    "    hue=\"geometry\", x=\"vza\", linestyle=\":\", marker=\".\"\n",
    ");"
   ]
  },
  {
   "cell_type": "markdown",
   "id": "a082b297-e298-4dab-84fa-5e971fbd1af5",
   "metadata": {},
   "source": [
    "Note how the reduced optical path in the spherical-shell configuration also reduces the amount of light scattered to the sensor, and therefore decreases the recorded radiance."
   ]
  },
  {
   "cell_type": "raw",
   "id": "1236dd0d-cddc-4f36-b2af-967e29ab369a",
   "metadata": {
    "raw_mimetype": "text/restructuredtext",
    "tags": []
   },
   "source": [
    "----\n",
    "\n",
    "Final words\n",
    "-----------\n",
    "\n",
    "While the plane-parallel geometry is appropriate in many common situations, it shows its limits at high illumination and viewing angles. You can further explore these effects by using and therefore decreases the recorded radiancemore realistic surface and atmospheric models (you will have to switch to the CKD mode if you want to use the AFGL 1986 profiles).\n",
    "\n",
    "Further reading\n",
    "---------------\n",
    "\n",
    "* The :class:`.PlaneParallelGeometry` and :class:`.SphericalShellGeometry` classes allow for advanced geometry control, see their respective documentation pages for further detail."
   ]
  }
 ],
 "metadata": {
  "kernelspec": {
   "display_name": "Python 3 (ipykernel)",
   "language": "python",
   "name": "python3"
  },
  "language_info": {
   "codemirror_mode": {
    "name": "ipython",
    "version": 3
   },
   "file_extension": ".py",
   "mimetype": "text/x-python",
   "name": "python",
   "nbconvert_exporter": "python",
   "pygments_lexer": "ipython3",
   "version": "3.8.13"
  }
 },
 "nbformat": 4,
 "nbformat_minor": 5
}
