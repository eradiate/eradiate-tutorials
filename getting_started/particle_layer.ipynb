{
 "cells": [
  {
   "cell_type": "raw",
   "metadata": {
    "raw_mimetype": "text/restructuredtext",
    "tags": []
   },
   "source": [
    "Particle layer basics\n",
    "=====================\n",
    "\n",
    ".. admonition:: Overview\n",
    "\n",
    "   In this tutorial, we introduce Eradiate's particle layer simulation features. We also introduce the general heterogeneous atmosphere container.\n",
    "\n",
    ".. admonition:: Prerequisites\n",
    "\n",
    "   * Ability to run and visualise 1D simulations (see :doc:`eradiate_quickstart`).\n",
    "   * (Optional but recommended) Ability to configure a molecular atmosphere (see :doc:`molecular_atmosphere`).aeronet_sahara_spherical_RAMIA_GENERIC_extrapolated.json\n",
    "\n",
    ".. admonition:: What you will learn\n",
    "\n",
    "   * How to add one or several aerosol layers to a molecular atmosphere.\n",
    "\n",
    "----"
   ]
  },
  {
   "cell_type": "markdown",
   "metadata": {},
   "source": [
    "## The particle layer interface\n",
    "\n",
    "We start by activating the IPython extension and importing and aliasing a few useful components. We also select the CKD mode."
   ]
  },
  {
   "cell_type": "code",
   "execution_count": null,
   "metadata": {},
   "outputs": [],
   "source": [
    "%load_ext eradiate\n",
    "import eradiate\n",
    "import numpy as np\n",
    "import matplotlib.pyplot as plt\n",
    "from eradiate.notebook.tutorials import plot_sigma_t\n",
    "\n",
    "eradiate.set_mode(\"ckd\")"
   ]
  },
  {
   "cell_type": "raw",
   "metadata": {
    "raw_mimetype": "text/restructuredtext",
    "tags": []
   },
   "source": [
    "We alias the :mod:`eradiate.scenes` module and the unit registry for convenience:"
   ]
  },
  {
   "cell_type": "code",
   "execution_count": null,
   "metadata": {},
   "outputs": [],
   "source": [
    "import eradiate.scenes as ertsc\n",
    "from eradiate import unit_registry as ureg"
   ]
  },
  {
   "cell_type": "raw",
   "metadata": {
    "raw_mimetype": "text/restructuredtext",
    "tags": []
   },
   "source": [
    "The :class:`~eradiate.scenes.atmosphere.ParticleLayer` class is used to configure particle layers. It is parametrised by:\n",
    "\n",
    "* an extent, defined by its `bottom` and `top` parameters;\n",
    "* a number of layers (`n_layers`) the particle layer is discretised;\n",
    "* a particle spatial density distribution (*e.g.* uniform or gaussian)\n",
    "* an optical thickness value (`tau_ref`) at a reference wavelength set by its `w_ref` parameter (by default 550 nm).\n",
    "\n",
    "We start by creating a particle layer with default parameters:"
   ]
  },
  {
   "cell_type": "code",
   "execution_count": null,
   "metadata": {},
   "outputs": [],
   "source": [
    "particle_layer_default = ertsc.atmosphere.ParticleLayer()\n",
    "particle_layer_default"
   ]
  },
  {
   "cell_type": "markdown",
   "metadata": {},
   "source": [
    "We see that our `particle_layer_default` variable represents an aerosol layer with:\n",
    "\n",
    "* a vertical extent from 0 to 1 km;\n",
    "* a uniform particle density distribution within that extent;\n",
    "* a division into 16 uniform cells;\n",
    "* an optical thickness at 550 nm equal to 0.2.\n",
    "\n",
    "We can now visualise the extinction coefficient using the following convenience function:"
   ]
  },
  {
   "cell_type": "code",
   "execution_count": null,
   "metadata": {},
   "outputs": [],
   "source": [
    "plot_sigma_t(particle_layer_default)"
   ]
  },
  {
   "cell_type": "markdown",
   "metadata": {},
   "source": [
    "Now, let's define a particle layer with a different optical thickness:"
   ]
  },
  {
   "cell_type": "code",
   "execution_count": null,
   "metadata": {},
   "outputs": [],
   "source": [
    "particle_layer_thick = ertsc.atmosphere.ParticleLayer(tau_ref=1.0)\n",
    "plot_sigma_t(\n",
    "    particle_layer_default,\n",
    "    particle_layer_thick,\n",
    "    labels=[\"default\", \"thick\"],\n",
    ")"
   ]
  },
  {
   "cell_type": "markdown",
   "metadata": {},
   "source": [
    "We can also modify the extent of our particle using the *bottom* and *top* parameters:"
   ]
  },
  {
   "cell_type": "code",
   "execution_count": null,
   "metadata": {},
   "outputs": [],
   "source": [
    "particle_layer_high = ertsc.atmosphere.ParticleLayer(tau_ref=0.5, bottom=1 * ureg.km, top=2 * ureg.km)\n",
    "plot_sigma_t(\n",
    "    particle_layer_default,\n",
    "    particle_layer_thick,\n",
    "    particle_layer_high,\n",
    "    labels=[\"default\", \"thick\", \"high\"],\n",
    ")"
   ]
  },
  {
   "cell_type": "markdown",
   "metadata": {},
   "source": [
    "We can vary the particle density distribution within the defined bounds:"
   ]
  },
  {
   "cell_type": "code",
   "execution_count": null,
   "metadata": {},
   "outputs": [],
   "source": [
    "particle_layer_gaussian = ertsc.atmosphere.ParticleLayer(\n",
    "    tau_ref=0.5,\n",
    "    bottom=0.5 * ureg.km,\n",
    "    top=1.5 * ureg.km,\n",
    "    distribution=\"gaussian\",\n",
    "    n_layers=31,\n",
    ")\n",
    "\n",
    "plot_sigma_t(\n",
    "    particle_layer_default,\n",
    "    particle_layer_thick,\n",
    "    particle_layer_high,\n",
    "    particle_layer_gaussian,\n",
    "    labels=[\"default\", \"thick\", \"high\", \"gaussian\"],\n",
    ")"
   ]
  },
  {
   "cell_type": "raw",
   "metadata": {
    "raw_mimetype": "text/restructuredtext",
    "tags": []
   },
   "source": [
    "Adding a particle layer to a molecular atmosphere\n",
    "-------------------------------------------------\n",
    "\n",
    "Although Eradiate can simulate radiative transfer in a single particle layer, realistic use cases rather involve adding a particle layer to a molecular atmosphere. For this, we use the :class:`.HeterogeneousAtmosphere` class. This class acts as a container which can mix a :class:`.MolecularAtmosphere` and an arbitrary number of :class:`.ParticleLayer`\\ s."
   ]
  },
  {
   "cell_type": "code",
   "execution_count": null,
   "metadata": {},
   "outputs": [],
   "source": [
    "exponential = ertsc.atmosphere.ParticleLayer(\n",
    "    tau_ref=0.05, \n",
    "    bottom=0 * ureg.km, \n",
    "    top=6 * ureg.km,\n",
    "    distribution=\"exponential\",\n",
    ")\n",
    "\n",
    "gaussian = ertsc.atmosphere.ParticleLayer(\n",
    "    tau_ref=0.02, \n",
    "    bottom=1 * ureg.km, \n",
    "    top=2 * ureg.km,\n",
    "    distribution=\"gaussian\",\n",
    ")\n",
    "\n",
    "atmosphere = ertsc.atmosphere.HeterogeneousAtmosphere(\n",
    "    molecular_atmosphere={\"type\": \"molecular\"},\n",
    "    particle_layers=[exponential, gaussian]\n",
    ")"
   ]
  },
  {
   "cell_type": "markdown",
   "metadata": {},
   "source": [
    "We can display the extinction coefficient for the full atmospheric profile and all its components as follows (note that we restrict the view range to the [0, 10] km extent for clarity"
   ]
  },
  {
   "cell_type": "code",
   "execution_count": null,
   "metadata": {},
   "outputs": [],
   "source": [
    "plot_sigma_t(\n",
    "    atmosphere,\n",
    "    atmosphere.molecular_atmosphere,\n",
    "    exponential,\n",
    "    gaussian,\n",
    "    labels=[\"atmosphere\", \"molecular\", \"exponential\", \"gaussian\"],\n",
    "    altitude_extent=(0, 10),\n",
    ")"
   ]
  },
  {
   "cell_type": "raw",
   "metadata": {
    "raw_mimetype": "text/restructuredtext",
    "tags": []
   },
   "source": [
    "We see on this plot that the various components of the :class:`.HeterogeneousAtmosphere` container are stacked as expected. We also see that the components are all assumed piecewise-constant on their own grid, then regridded on a fine mesh prior to merge."
   ]
  },
  {
   "cell_type": "markdown",
   "metadata": {},
   "source": [
    "## Running the simulation"
   ]
  },
  {
   "cell_type": "markdown",
   "metadata": {},
   "source": [
    "We can now use this atmosphere definition to run a 1D simulation and compute the top-of-atmosphere BRF:"
   ]
  },
  {
   "cell_type": "code",
   "execution_count": null,
   "metadata": {},
   "outputs": [],
   "source": [
    "# Show only spectral loop progress\n",
    "eradiate.config.progress = \"spectral_loop\"\n",
    "\n",
    "exp = eradiate.experiments.AtmosphereExperiment(\n",
    "    surface={\"type\": \"lambertian\", \"reflectance\": 1.0},\n",
    "    atmosphere=atmosphere,\n",
    "    illumination={\"type\": \"directional\", \"zenith\": 30.0, \"azimuth\": 0.0},\n",
    "    measures={\n",
    "        \"type\": \"mdistant\",\n",
    "        \"construct\": \"from_viewing_angles\",\n",
    "        \"zeniths\": np.arange(-75, 76, 5),\n",
    "        \"azimuths\": 0.0,\n",
    "        \"spectral_cfg\": {\"bins\": [\"550\"]},  # Run the simulation for the 550 nm bin\n",
    "        \"spp\": 10000,\n",
    "    },\n",
    ")\n",
    "result = eradiate.run(exp)\n",
    "result"
   ]
  },
  {
   "cell_type": "markdown",
   "metadata": {},
   "source": [
    "And we can plot the computed TOA BRF:"
   ]
  },
  {
   "cell_type": "code",
   "execution_count": null,
   "metadata": {},
   "outputs": [],
   "source": [
    "with plt.rc_context({\"lines.marker\": \".\", \"lines.linestyle\": \":\"}):\n",
    "    result.brf.squeeze(drop=True).plot(x=\"vza\");"
   ]
  },
  {
   "cell_type": "raw",
   "metadata": {
    "raw_mimetype": "text/restructuredtext",
    "tags": []
   },
   "source": [
    "----\n",
    "\n",
    "Final words\n",
    "-----------\n",
    "\n",
    "This quick introduction provides just an overview of how particle layers are parametrised. In particular, particle radiative property datasets (the ``dataset`` parameter of the :class:`.ParticleLayer` constructor) are not (yet) covered by this tutorial. Until this is done, you can have a look in the ``resources/data/spectra/particles`` and explore those datasets.\n",
    "\n",
    "Further reading\n",
    "---------------\n",
    "\n",
    "* :class:`.HomogeneousAtmosphere`\n",
    "* :class:`.ParticleLayer`\n",
    "* List of available particle density distributions: :data:`.particle_distribution_factory`\n",
    "* Particle optical property data guide: :doc:`/rst/user_guide/data/particle_radprops`"
   ]
  }
 ],
 "metadata": {
  "kernelspec": {
   "display_name": "Python 3 (ipykernel)",
   "language": "python",
   "name": "python3"
  },
  "language_info": {
   "codemirror_mode": {
    "name": "ipython",
    "version": 3
   },
   "file_extension": ".py",
   "mimetype": "text/x-python",
   "name": "python",
   "nbconvert_exporter": "python",
   "pygments_lexer": "ipython3",
   "version": "3.8.13"
  }
 },
 "nbformat": 4,
 "nbformat_minor": 4
}
