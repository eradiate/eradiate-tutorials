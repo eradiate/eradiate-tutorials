{
 "cells": [
  {
   "cell_type": "raw",
   "id": "667afa57-deea-4b95-9fa7-0a54a22a6f3c",
   "metadata": {
    "raw_mimetype": "text/restructuredtext",
    "tags": []
   },
   "source": [
    "3D simulation basics\n",
    "====================\n",
    "\n",
    ".. admonition:: Overview\n",
    "\n",
    "   In this tutorial, we introduce basic 3D simulation features. Eradiate is intrinsically a 3D radiative transfer model, and a lot of workflows and concepts introduced here are applicable to 1D simulations as well.\n",
    "\n",
    ".. admonition:: Prerequisites\n",
    "\n",
    "   * Ability to run 1D simulations and visualise the results (see :doc:`eradiate_quickstart`).\n",
    "\n",
    ".. admonition:: What you will learn\n",
    "\n",
    "   * How to set up and visualise a 3D scene.\n",
    "   * How to compute the reflectance of a complex surface **without an atmosphere**.\n",
    "\n",
    "----"
   ]
  },
  {
   "cell_type": "markdown",
   "id": "de8b2877-5fdb-4f22-8caf-bdd3b399f037",
   "metadata": {},
   "source": [
    "We start by activating the IPython extension and importing and aliasing a few useful components. We also select the monochromatic mode."
   ]
  },
  {
   "cell_type": "code",
   "execution_count": null,
   "id": "44507976-cc86-4b09-a304-28d4191a960b",
   "metadata": {},
   "outputs": [],
   "source": [
    "%load_ext eradiate\n",
    "\n",
    "import matplotlib.pyplot as plt\n",
    "import numpy as np\n",
    "\n",
    "import eradiate\n",
    "from eradiate import unit_registry as ureg\n",
    "from eradiate import scenes as ertsc\n",
    "eradiate.set_mode(\"mono\")"
   ]
  },
  {
   "cell_type": "markdown",
   "id": "a7e37767-8b99-448f-8a0c-8466e4e44d87",
   "metadata": {},
   "source": [
    "We set the computational mode to monochromatic, since we will be simulating scenes without atmospheres. Hence the correlated-*k* distribution method will not be useful here.\n",
    "\n",
    "Next we set up convenience functions for plotting BRF results and visualizing camera renders."
   ]
  },
  {
   "cell_type": "code",
   "execution_count": null,
   "id": "338bb27d-b0d5-4e28-b8ea-f72f9a367263",
   "metadata": {},
   "outputs": [],
   "source": [
    "def show_camera(\n",
    "    exp,\n",
    "    measure_id,\n",
    "    robust=True,\n",
    "    add_colorbar=False,\n",
    "    vmin=None,\n",
    "    vmax=None,\n",
    "):\n",
    "    \"\"\"\n",
    "    Display the output of a monochromatic camera measure.\n",
    "    \"\"\"\n",
    "    _, ax = plt.subplots(1, 1)\n",
    "    exp.results[measure_id][\"radiance\"].squeeze(drop=True).plot.imshow(\n",
    "        ax=ax,\n",
    "        origin=\"upper\",\n",
    "        cmap=\"Greys_r\",\n",
    "        vmin=vmin,\n",
    "        vmax=vmax,\n",
    "        robust=robust,\n",
    "        add_colorbar=add_colorbar,\n",
    "    )\n",
    "    ax.set_aspect(1)  # Ensures that pixels are represented as squares\n",
    "    plt.show()\n",
    "    plt.close()\n",
    "\n",
    "def show_brf(exp, measure_id):\n",
    "    \"\"\"\n",
    "    Display the BRF output of a distant radiance measure.\n",
    "    \"\"\"\n",
    "    _, ax = plt.subplots(1, 1)\n",
    "    exp.results[measure_id][\"brf\"].squeeze(drop=True).plot(\n",
    "        ax=ax, x=\"vza\", linestyle=\":\", marker=\".\"\n",
    "    )\n",
    "    plt.show()\n",
    "    plt.close()"
   ]
  },
  {
   "cell_type": "raw",
   "id": "4caa06b2-4dc5-414b-9660-fe6619e9a587",
   "metadata": {
    "raw_mimetype": "text/restructuredtext",
    "tags": []
   },
   "source": [
    "First 3D scene visualisation\n",
    "----------------------------\n",
    "\n",
    "We start by creating a simple scene consisting only of a rectangular surface with Lambertian reflectance. Here, we must specify the horizontal extent of the surface because no parent scene element will constrain it. As soon as a canopy is assigned, this is no longer required (see below).\n",
    "\n",
    "**Note:** We use the Eradiate unit registry ``ureg`` to attach the unit *meter* to the surface's edge length."
   ]
  },
  {
   "cell_type": "code",
   "execution_count": null,
   "id": "5a9e17e1-c7ba-4ea5-821c-5d50a152af5e",
   "metadata": {},
   "outputs": [],
   "source": [
    "lambertian_surface=ertsc.surface.BasicSurface(\n",
    "    shape=ertsc.shapes.RectangleShape(edges=10.0 * ureg.m),\n",
    "    bsdf=ertsc.bsdfs.LambertianBSDF(reflectance=0.5),\n",
    ")"
   ]
  },
  {
   "cell_type": "raw",
   "id": "f3ffd0cc-5005-48f4-b2dd-9482548a34eb",
   "metadata": {
    "raw_mimetype": "text/restructuredtext",
    "tags": []
   },
   "source": [
    "Next, we create a perspective camera to visualise the surface."
   ]
  },
  {
   "cell_type": "code",
   "execution_count": null,
   "id": "be9dd8b3-3ae1-432f-ad05-cc6853cdccdd",
   "metadata": {},
   "outputs": [],
   "source": [
    "camera_oblique = ertsc.measure.PerspectiveCameraMeasure(\n",
    "    id=\"camera_oblique\",\n",
    "    origin=[15, 15, 15] * ureg.m,\n",
    "    target=[0, 0, 0] * ureg.m,\n",
    "    up=[0, 0, 1],\n",
    "    film_resolution=(320, 240),\n",
    "    spp=512,\n",
    ")"
   ]
  },
  {
   "cell_type": "raw",
   "id": "d549a45b-24e3-46d4-b0de-f0e8016ae501",
   "metadata": {
    "raw_mimetype": "text/restructuredtext",
    "tags": []
   },
   "source": [
    "Now we create the experiment object. We use the :class:`.CanopyExperiment` class, specialised to handle 3D surface geometry without atmosphere. The ``illumination`` and ``canopy`` parameters are left to their default values: no canopy will be added above the surface, and the illumination will be directional, oriented towards the nadir."
   ]
  },
  {
   "cell_type": "code",
   "execution_count": null,
   "id": "005fe911-0b91-4849-bc9d-63c25c67b6ed",
   "metadata": {},
   "outputs": [],
   "source": [
    "exp = eradiate.experiments.CanopyExperiment(\n",
    "    surface=lambertian_surface,\n",
    "    measures=camera_oblique,\n",
    ")"
   ]
  },
  {
   "cell_type": "markdown",
   "id": "c9064e2e-0e32-4f40-b486-2292fe0128f2",
   "metadata": {},
   "source": [
    "We run the simulation and use the convenience function defined above to visualize the result."
   ]
  },
  {
   "cell_type": "code",
   "execution_count": null,
   "id": "e7a3237c-946f-4c0c-8fbf-7e75c244a65f",
   "metadata": {},
   "outputs": [],
   "source": [
    "eradiate.run(exp)\n",
    "show_camera(exp, \"camera_oblique\")"
   ]
  },
  {
   "cell_type": "raw",
   "id": "7b167010-f6af-4729-8af7-b7cc328be86c",
   "metadata": {
    "raw_mimetype": "text/restructuredtext",
    "tags": []
   },
   "source": [
    "Adding a canopy\n",
    "---------------\n",
    "\n",
    "Now, let's add a canopy above this background surface. We start with a very simple homogeneous cloud of floating disks. The :class:`.DiscreteCanopy` class has a convenience constructor method :meth:`~.DiscreteCanopy.homogeneous`, ideal for this case.\n",
    "\n",
    "**Note:** The unit registry allows for intuitive numerical values for both the horizontal extent of the canopy as well as the radius of the floating leaves."
   ]
  },
  {
   "cell_type": "code",
   "execution_count": null,
   "id": "3c36cc69-6c11-4829-a407-a83ca3bd7b17",
   "metadata": {},
   "outputs": [],
   "source": [
    "homogeneous_canopy = ertsc.biosphere.DiscreteCanopy.homogeneous(\n",
    "    l_vertical=1.0 * ureg.m,\n",
    "    l_horizontal=10.0 * ureg.m,\n",
    "    lai=2.0,\n",
    "    leaf_radius=10 * ureg.cm,\n",
    ")"
   ]
  },
  {
   "cell_type": "markdown",
   "id": "794c022a-2122-402f-b615-3648c31390c5",
   "metadata": {},
   "source": [
    "We create a new experiment object, which contains the canopy we just defined.\n",
    "\n",
    "**Note:** We can now define the surface through its BSDF only, because the size of the rectangular shape is defined by the width of the canopy."
   ]
  },
  {
   "cell_type": "code",
   "execution_count": null,
   "id": "fd467257-2d10-4c61-a7f8-29a7b469eb1e",
   "metadata": {},
   "outputs": [],
   "source": [
    "exp = eradiate.experiments.CanopyExperiment(\n",
    "    surface=ertsc.bsdfs.LambertianBSDF(reflectance=0.5),\n",
    "    canopy=homogeneous_canopy,\n",
    "    measures=camera_oblique,\n",
    ")"
   ]
  },
  {
   "cell_type": "markdown",
   "id": "efce4458-32c7-4e1b-b5de-1722830b76e3",
   "metadata": {},
   "source": [
    "We run the experiment and display the result."
   ]
  },
  {
   "cell_type": "code",
   "execution_count": null,
   "id": "9da20ddc-d05e-4a1c-9ea6-5725d498fb8d",
   "metadata": {},
   "outputs": [],
   "source": [
    "eradiate.run(exp)\n",
    "show_camera(exp, \"camera_oblique\")"
   ]
  },
  {
   "cell_type": "raw",
   "id": "2a18850b-a882-4b8d-82f0-d26b4df66c30",
   "metadata": {
    "raw_mimetype": "text/restructuredtext",
    "tags": []
   },
   "source": [
    "Top-of-canopy BRF computation\n",
    "-----------------------------\n",
    "\n",
    "Now that we know how to define a surface with a 3D geometry, let's compute its reflectance. For a convenient visualisation, we will use a :class:`hemispherical distant measure <.HemisphericalDistantMeasure>`. This measure computes the radiance leaving the scene at an infinite distance. Since we don't have an atmosphere here, this is equivalent to computing the so-called \"top-of-canopy\" leaving radiance. The measure also derives the top-of-canopy reflectance."
   ]
  },
  {
   "cell_type": "code",
   "execution_count": null,
   "id": "7b009736-5e75-4a7c-96d4-71c953f1e63c",
   "metadata": {},
   "outputs": [],
   "source": [
    "hdistant = eradiate.scenes.measure.HemisphericalDistantMeasure(spp=10000)"
   ]
  },
  {
   "cell_type": "raw",
   "id": "f57ac73c-5619-471f-a769-b6d22aa20d8a",
   "metadata": {
    "raw_mimetype": "text/restructuredtext",
    "tags": []
   },
   "source": [
    "Here, we use the default parameters. In particular:\n",
    "\n",
    "* the ``film_size`` is left to its default value, which is fairly low (32×32), and we therefore don't expect a finely resolved view of the BRF;\n",
    "* the ``azimuth_convention`` parameter is left unset, which means that the viewing azimuth angle added to the result dataset will use the :ref:`default convention <sec-user_guide-conventions-azimuth>`.\n",
    "\n",
    "Now, let's build and run an experiment using this sensor. We will set the illumination to a non-default value so that we can visualise some interesting features in the reflectance:"
   ]
  },
  {
   "cell_type": "code",
   "execution_count": null,
   "id": "2377e75a-1cc5-497e-a69b-e2234ef6f859",
   "metadata": {},
   "outputs": [],
   "source": [
    "exp = eradiate.experiments.CanopyExperiment(\n",
    "    surface=ertsc.bsdfs.LambertianBSDF(reflectance=0.5),\n",
    "    illumination=ertsc.illumination.DirectionalIllumination(\n",
    "        zenith=30.0 * ureg.deg,\n",
    "        azimuth=45.0 * ureg.deg,\n",
    "    ),\n",
    "    canopy=homogeneous_canopy,\n",
    "    measures=hdistant,\n",
    ")\n",
    "ds = eradiate.run(exp)\n",
    "ds"
   ]
  },
  {
   "cell_type": "markdown",
   "id": "bd61e247-557e-4c00-bdf4-31daf0f99048",
   "metadata": {},
   "source": [
    "We can now visualise the data quickly using xarray's built-in plotting facilities:"
   ]
  },
  {
   "cell_type": "code",
   "execution_count": null,
   "id": "4b45f8c9-00e3-4bc9-97ec-dd11e4a42def",
   "metadata": {},
   "outputs": [],
   "source": [
    "ds[\"brf\"].squeeze().plot()"
   ]
  },
  {
   "cell_type": "raw",
   "id": "9d1468a7-2f85-4ce5-b8b9-1463364c76d4",
   "metadata": {
    "raw_mimetype": "text/restructuredtext",
    "tags": []
   },
   "source": [
    "This plot maps the hemisphere to a square using the :func:`~eradiate.warp.uniform_hemisphere_to_square` function. The horizontal and vertical axes are mapped to the 0° and 90° hemispherical planes, while the diagonals are mapped to the 45° and 135° hemispherical planes. We visualise the reflective *hot spot* in the illumination direction.\n",
    "\n",
    "Arguably, this kind of raw data plot may confuse some viewers. We provide a complete tutorial covering how to plot hemispherical distant measure output (see :doc:`/tutorials/howto/advanced_visualisation`).\n",
    "\n",
    "We can also use a :class:`.MultiDistantMeasure` to compute the reflectance in the principal plane as we did in the :doc:`eradiate_quickstart` tutorial. Note also that the measure is configured to align with the illumination, which is set with an azimuth angle of 45°."
   ]
  },
  {
   "cell_type": "code",
   "execution_count": null,
   "id": "9275d554-1c12-4743-8039-c272ce23a99e",
   "metadata": {},
   "outputs": [],
   "source": [
    "mdistant = ertsc.measure.MultiDistantMeasure.from_viewing_angles(\n",
    "    id=\"toa_brf\",\n",
    "    zeniths=np.arange(-75, 76, 5),\n",
    "    azimuths=45 * ureg.deg,\n",
    "    spectral_cfg={\"wavelengths\": [550]},\n",
    "    spp=10000,\n",
    ")\n",
    "\n",
    "exp = eradiate.experiments.CanopyExperiment(\n",
    "    surface=ertsc.bsdfs.LambertianBSDF(reflectance=0.5),\n",
    "    illumination=ertsc.illumination.DirectionalIllumination(\n",
    "        zenith=30.0 * ureg.deg,\n",
    "        azimuth=45.0 * ureg.deg,\n",
    "    ),\n",
    "    canopy=homogeneous_canopy,\n",
    "    measures=mdistant,\n",
    ")\n",
    "\n",
    "ds = eradiate.run(exp)\n",
    "ds"
   ]
  },
  {
   "cell_type": "markdown",
   "id": "282da479-4bc1-4287-8d5a-8cad59030e97",
   "metadata": {},
   "source": [
    "Visualisation is also greatly facilitated by xarray's plotting features. We explicitly use the `vza` (viewing zenith angle) coordinate as the *x* coordinate. We see the retro-reflective \"hot spot\" in the illumination direction (30°). Also note how variance typical of Monte Carlo methods appears: it can be reduced by increasing the sample count of the measure (`spp` parameter)."
   ]
  },
  {
   "cell_type": "code",
   "execution_count": null,
   "id": "ba806387-4e5b-498a-b7a6-40eec5424efd",
   "metadata": {},
   "outputs": [],
   "source": [
    "ds.brf.plot(x=\"vza\");"
   ]
  },
  {
   "cell_type": "raw",
   "id": "a299475a-62d5-4981-95f2-656c9a49150a",
   "metadata": {
    "raw_mimetype": "text/restructuredtext",
    "tags": []
   },
   "source": [
    "Padding the canopy with clones of itself\n",
    "----------------------------------------\n",
    "\n",
    "A unit cell of canopy floating in the void is not something one could realistically encounter in the real wonder: in remote sensing, a point observed on Earth has surroundings. One way to create a surrounding environment for our canopy unit cell is to assume that it is in the middle of a \"forest\" with similar properties; or, in other words, that it is surrounded by clones of itself.\n",
    "\n",
    "A conceptually simple way to visualise this is to imagine that our unit cell is periodically repeated indefinitely. However, Eradiate does not support such feature; instead, it allows the user to pad the unit scene with an arbitrary number of cheap (in terms of memory) clones.\n",
    "\n",
    "This is controlled by the ``padding`` parameter of the :class:`.CanopyExperiment` class:"
   ]
  },
  {
   "cell_type": "code",
   "execution_count": null,
   "id": "80802721-46ef-44e0-9f67-cb3f372056db",
   "metadata": {},
   "outputs": [],
   "source": [
    "exp = eradiate.experiments.CanopyExperiment(\n",
    "    surface=ertsc.bsdfs.LambertianBSDF(reflectance=0.5),\n",
    "    canopy=homogeneous_canopy,\n",
    "    padding=1,\n",
    "    measures=camera_oblique,\n",
    ")"
   ]
  },
  {
   "cell_type": "markdown",
   "id": "cb740ed8-7aa2-4047-96dd-e1b0690988ba",
   "metadata": {},
   "source": [
    "Let's run this experiment and visualise the results:"
   ]
  },
  {
   "cell_type": "code",
   "execution_count": null,
   "id": "cb6e5a3b-aff3-4a74-8ea7-d86c317f9762",
   "metadata": {},
   "outputs": [],
   "source": [
    "eradiate.run(exp)\n",
    "show_camera(exp, \"camera_oblique\")"
   ]
  },
  {
   "cell_type": "markdown",
   "id": "eff2533b-6d1d-41c5-978e-4c38af92ac8b",
   "metadata": {},
   "source": [
    "Our unit cell is now surrounded by a row of clones of itself: this amounts to 8 clones. Let's increase padding to 2 (we now have 8 + 16 = 24 clones):"
   ]
  },
  {
   "cell_type": "code",
   "execution_count": null,
   "id": "7e0ac238-e109-4016-aad2-e2c781713902",
   "metadata": {},
   "outputs": [],
   "source": [
    "exp = eradiate.experiments.CanopyExperiment(\n",
    "    surface=ertsc.bsdfs.LambertianBSDF(reflectance=0.5),\n",
    "    canopy=homogeneous_canopy,\n",
    "    padding=2,\n",
    "    measures=camera_oblique,\n",
    ")\n",
    "eradiate.run(exp)\n",
    "show_camera(exp, \"camera_oblique\", add_colorbar=True)"
   ]
  },
  {
   "cell_type": "markdown",
   "id": "a76bfea7-4316-4d71-8de4-46cfbbe2d1cb",
   "metadata": {},
   "source": [
    "We can see that the rendering time increases with padding. This is due to more pixels of the final image requiring the simulation of multiple scattering and rendering time should become approximately constant with larger padding values:"
   ]
  },
  {
   "cell_type": "code",
   "execution_count": null,
   "id": "15b5ffcf-9892-4de1-ad2c-3518813709c2",
   "metadata": {},
   "outputs": [],
   "source": [
    "exp = eradiate.experiments.CanopyExperiment(\n",
    "    surface=ertsc.bsdfs.LambertianBSDF(reflectance=0.5),\n",
    "    canopy=homogeneous_canopy,\n",
    "    padding=25,\n",
    "    measures=camera_oblique,\n",
    ")thethe\n",
    "eradiate.run(exp)\n",
    "show_camera(exp, \"camera_oblique\", vmin=0.0, add_colorbar=True)"
   ]
  },
  {
   "cell_type": "raw",
   "id": "996ff8fd-46d6-431b-a16d-f70ab586c5fb",
   "metadata": {
    "raw_mimetype": "text/restructuredtext",
    "tags": []
   },
   "source": [
    "----\n",
    "\n",
    "Final words\n",
    "-----------\n",
    "\n",
    "This was just a quick overview of Eradiate's 3D simulation features. This simple example can be expanded, for instance by computing the top-of-canopy reflectance of the canopy in the principal plane with different padding values to assess which amount of padding is required to converge to a periodic behaviour.\n",
    "\n",
    "Further reading\n",
    "---------------\n",
    "\n",
    "* :doc:`/tutorials/howto/advanced_visualisation`"
   ]
  }
 ],
 "metadata": {
  "kernelspec": {
   "display_name": "Python 3 (ipykernel)",
   "language": "python",
   "name": "python3"
  },
  "language_info": {
   "codemirror_mode": {
    "name": "ipython",
    "version": 3
   },
   "file_extension": ".py",
   "mimetype": "text/x-python",
   "name": "python",
   "nbconvert_exporter": "python",
   "pygments_lexer": "ipython3",
   "version": "3.8.13"
  }
 },
 "nbformat": 4,
 "nbformat_minor": 5
}
