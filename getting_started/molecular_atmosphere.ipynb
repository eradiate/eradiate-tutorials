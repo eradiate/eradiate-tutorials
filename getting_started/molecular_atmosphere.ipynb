{
 "cells": [
  {
   "cell_type": "code",
   "execution_count": 1,
   "metadata": {
    "editable": true,
    "execution": {
     "iopub.execute_input": "2024-05-28T09:39:33.112714Z",
     "iopub.status.busy": "2024-05-28T09:39:33.112605Z",
     "iopub.status.idle": "2024-05-28T09:39:34.476221Z",
     "shell.execute_reply": "2024-05-28T09:39:34.475801Z"
    },
    "slideshow": {
     "slide_type": ""
    },
    "tags": []
   },
   "outputs": [
    {
     "data": {
      "text/markdown": [
       "*Last updated: 2024-05-28 11:39 (eradiate v0.27.0rc2.dev10+g2e49409d.d20240527)*"
      ],
      "text/plain": [
       "<IPython.core.display.Markdown object>"
      ]
     },
     "metadata": {},
     "output_type": "display_data"
    }
   ],
   "source": [
    "%reload_ext eradiate.notebook.tutorials"
   ]
  },
  {
   "cell_type": "raw",
   "metadata": {
    "editable": true,
    "raw_mimetype": "text/restructuredtext",
    "slideshow": {
     "slide_type": ""
    },
    "tags": []
   },
   "source": [
    "Molecular atmosphere basics\n",
    "===========================\n",
    "\n",
    ".. admonition:: Overview\n",
    "\n",
    "   In this tutorial, we introduce Eradiate's molecular atmosphere simulation\n",
    "   features.\n",
    "\n",
    ".. admonition:: Prerequisites\n",
    "\n",
    "   * Ability to run and visualise 1D simulations\n",
    "     (see :doc:`eradiate_quickstart`).\n",
    "\n",
    ".. admonition:: What you will learn\n",
    "\n",
    "   * How to configure a standard 1D atmospheric profile.\n",
    "   * How to rescale the atmospheric composition of standard profiles to fit\n",
    "     more current data.\n",
    "\n",
    "----"
   ]
  },
  {
   "cell_type": "markdown",
   "metadata": {},
   "source": [
    "## Importing modules"
   ]
  },
  {
   "cell_type": "raw",
   "metadata": {
    "raw_mimetype": "text/restructuredtext",
    "tags": []
   },
   "source": [
    "We start by importing the ``eradiate``, ``numpy`` and ``matplotlib.pyplot``\n",
    "modules. Additionally, we load the :doc:`Eradiate IPython extension\n",
    "<../howto/better_notebook_experience>` for a smoother notebook experience."
   ]
  },
  {
   "cell_type": "code",
   "execution_count": 2,
   "metadata": {
    "execution": {
     "iopub.execute_input": "2024-05-28T09:39:34.497696Z",
     "iopub.status.busy": "2024-05-28T09:39:34.497212Z",
     "iopub.status.idle": "2024-05-28T09:39:34.517401Z",
     "shell.execute_reply": "2024-05-28T09:39:34.517099Z"
    }
   },
   "outputs": [],
   "source": [
    "%load_ext eradiate\n",
    "import eradiate\n",
    "import joseki\n",
    "import numpy as np\n",
    "import matplotlib.pyplot as plt"
   ]
  },
  {
   "cell_type": "raw",
   "metadata": {
    "raw_mimetype": "text/restructuredtext",
    "tags": []
   },
   "source": [
    "We also import the :class:`~eradiate.scenes.atmosphere.MolecularAtmosphere`\n",
    "class and alias the unit registry for convenience:"
   ]
  },
  {
   "cell_type": "code",
   "execution_count": 3,
   "metadata": {
    "editable": true,
    "execution": {
     "iopub.execute_input": "2024-05-28T09:39:34.518923Z",
     "iopub.status.busy": "2024-05-28T09:39:34.518815Z",
     "iopub.status.idle": "2024-05-28T09:39:34.524445Z",
     "shell.execute_reply": "2024-05-28T09:39:34.524165Z"
    },
    "slideshow": {
     "slide_type": ""
    },
    "tags": []
   },
   "outputs": [],
   "source": [
    "from eradiate.scenes.atmosphere import MolecularAtmosphere\n",
    "from eradiate import unit_registry as ureg"
   ]
  },
  {
   "cell_type": "markdown",
   "metadata": {},
   "source": [
    "## Introduction"
   ]
  },
  {
   "cell_type": "raw",
   "metadata": {
    "editable": true,
    "raw_mimetype": "text/restructuredtext",
    "slideshow": {
     "slide_type": ""
    },
    "tags": []
   },
   "source": [
    "Eradiate's :class:`.MolecularAtmosphere` represents a one-dimensional\n",
    "clear-sky—i.e. no clouds neither aerosols—atmosphere.\n",
    "\n",
    ":class:`.MolecularAtmosphere` is mainly characterised by two attributes:\n",
    "\n",
    "* ``absorption_data``: one or multiple datasets tabulating the air volume\n",
    "  absorption coefficient against thermophysical properties and spectral\n",
    "  coordinates.\n",
    "* ``thermoprops``: the atmosphere's thermophysical properties profile, namely\n",
    "  a dataset that tabulates the thermophysical properties (air pressure, air\n",
    "  temperature and air constituents' mole fraction) against altitude.\n",
    "\n",
    "The default value for ``absorption_data`` depends on the active mode:\n",
    "\n",
    "* in monochromatic mode, a low-resolution (wavenumber step: 1 cm⁻¹)\n",
    "  monochromatic absorption dataset covering the wavelength range\n",
    "  [250, 3125] nm, is selected. It includes H2O, CO2 and O3 as air\n",
    "  constituents.\n",
    "* in CKD mode, an absorption dataset suitable for the use of the\n",
    "  correlated :math:`k`-distribution method in the wavenumber band\n",
    "  [18100, 18200] cm⁻¹, *i.e.* [549.45, 552.48] nm wavelength range,\n",
    "  is selected. This dataset is part of a collection of datasets\n",
    "  covering the wavenumber range [3200, 40000] cm⁻¹, each dataset\n",
    "  corresponding to one 100 cm⁻¹ wide band.\n",
    "\n",
    "Changing the value for ``absorption_data`` might be necessary to select the\n",
    "datasets relevant to the desired working spectral range. The attribute accepts\n",
    "datasets from the Eradiate online data store as well as external datasets\n",
    "as long as they comply with the absorption dataset schema\n",
    "(see :doc:`/rst/data/atmosphere_molecular_absorption`).\n",
    "\n",
    "The default value for ``thermoprops`` is set to produce the\n",
    "*AFGL (1986) U.S. Standard* profile on a regular altitude grid from 0 to 120 km\n",
    "with a step of 1 km, without the so-called additional molecules\n",
    ":cite:`Anderson1986AtmosphericConstituentProfiles`.\n",
    "Changing the ``thermoprops`` allows one to select among different *standard*\n",
    "profiles, including customizing their altitude grid or rescaling their total\n",
    "amounts of different air constituents, e.g. carbon dioxide, but also to load a\n",
    "customized profile of their own.\n",
    "\n",
    "Let us instantiate the default :class:`.MolecularAtmosphere` in monochromatic\n",
    "mode:"
   ]
  },
  {
   "cell_type": "code",
   "execution_count": 4,
   "metadata": {
    "execution": {
     "iopub.execute_input": "2024-05-28T09:39:34.525935Z",
     "iopub.status.busy": "2024-05-28T09:39:34.525828Z",
     "iopub.status.idle": "2024-05-28T09:39:34.555866Z",
     "shell.execute_reply": "2024-05-28T09:39:34.555569Z"
    }
   },
   "outputs": [],
   "source": [
    "eradiate.set_mode(\"mono\")\n",
    "\n",
    "us_standard = MolecularAtmosphere()"
   ]
  },
  {
   "cell_type": "markdown",
   "metadata": {},
   "source": [
    "Inspection of the object reveals that the `absorption_data` attribute maps\n",
    "each absorption dataset to its wavelength range."
   ]
  },
  {
   "cell_type": "code",
   "execution_count": 5,
   "metadata": {
    "editable": true,
    "execution": {
     "iopub.execute_input": "2024-05-28T09:39:34.557346Z",
     "iopub.status.busy": "2024-05-28T09:39:34.557240Z",
     "iopub.status.idle": "2024-05-28T09:39:34.564392Z",
     "shell.execute_reply": "2024-05-28T09:39:34.564128Z"
    },
    "scrolled": true,
    "slideshow": {
     "slide_type": ""
    },
    "tags": []
   },
   "outputs": [
    {
     "data": {
      "text/html": [
       "<pre style=\"white-space:pre;overflow-x:auto;line-height:normal;font-family:Menlo,'DejaVu Sans Mono',consolas,'Courier New',monospace\"></pre>\n"
      ],
      "text/plain": []
     },
     "metadata": {},
     "output_type": "display_data"
    },
    {
     "data": {
      "text/plain": [
       "\n",
       "\u001b[1;35mMolecularAtmosphere\u001b[0m\u001b[1m(\u001b[0m\n",
       "    \u001b[33mid\u001b[0m=\u001b[32m'atmosphere'\u001b[0m,\n",
       "    \u001b[33mgeometry\u001b[0m=\u001b[1;35mPlaneParallelGeometry\u001b[0m\u001b[1m(\u001b[0m\n",
       "        \u001b[33mtoa_altitude\u001b[0m=\u001b[1;36m120\u001b[0m\u001b[1;36m.0\u001b[0m km,\n",
       "        \u001b[33mground_altitude\u001b[0m=\u001b[1;36m0\u001b[0m\u001b[1;36m.0\u001b[0m km,\n",
       "        \u001b[33mzgrid\u001b[0m=\u001b[1;35mZGrid\u001b[0m\u001b[1m(\u001b[0m\n",
       "            \u001b[33mlevels\u001b[0m=\u001b[1m[\u001b[0m\u001b[1;36m0.0\u001b[0m \u001b[1;36m100.0\u001b[0m \u001b[1;36m200.0\u001b[0m \u001b[33m...\u001b[0m \u001b[1;36m119800.0\u001b[0m \u001b[1;36m119900.0\u001b[0m \u001b[1;36m120000.0\u001b[0m\u001b[1m]\u001b[0m m,\n",
       "            \u001b[33m_layers\u001b[0m=\u001b[1m[\u001b[0m\u001b[1;36m50.0\u001b[0m \u001b[1;36m150.0\u001b[0m \u001b[1;36m250.0\u001b[0m \u001b[33m...\u001b[0m \u001b[1;36m119750.0\u001b[0m \u001b[1;36m119850.0\u001b[0m \u001b[1;36m119950.0\u001b[0m\u001b[1m]\u001b[0m m,\n",
       "            \u001b[33m_layer_height\u001b[0m=\u001b[1;36m100\u001b[0m\u001b[1;36m.0\u001b[0m m,\n",
       "            \u001b[33m_total_height\u001b[0m=\u001b[1;36m120000\u001b[0m\u001b[1;36m.0\u001b[0m m\n",
       "        \u001b[1m)\u001b[0m,\n",
       "        \u001b[33mwidth\u001b[0m=\u001b[1;36m1000000\u001b[0m\u001b[1;36m.0\u001b[0m km\n",
       "    \u001b[1m)\u001b[0m,\n",
       "    \u001b[33mscale\u001b[0m=\u001b[3;35mNone\u001b[0m,\n",
       "    \u001b[33mabsorption_data\u001b[0m=\u001b[1;35mMonoAbsorptionDatabase\u001b[0m\u001b[1m(\u001b[0m\n",
       "        \u001b[33m_dir_path\u001b[0m=\u001b[1;35mPosixPath\u001b[0m\u001b[1m(\u001b[0m\u001b[32m'/home/leroyv/Documents/src/rayference/rtm/eradiate/.eradiate_downloads/stable/spectra/absorption/mono/komodo'\u001b[0m\u001b[1m)\u001b[0m\n",
       "    \u001b[1m)\u001b[0m,\n",
       "    \u001b[33m_thermoprops\u001b[0m=\u001b[1m<\u001b[0m\u001b[1;95mxarray.Dataset\u001b[0m\u001b[1m>\u001b[0m,\n",
       "    \u001b[33m_phase\u001b[0m=\u001b[1;35mRayleighPhaseFunction\u001b[0m\u001b[1m(\u001b[0m\u001b[33mid\u001b[0m=\u001b[32m'phase_atmosphere'\u001b[0m\u001b[1m)\u001b[0m,\n",
       "    \u001b[33mhas_absorption\u001b[0m=\u001b[3;92mTrue\u001b[0m,\n",
       "    \u001b[33mhas_scattering\u001b[0m=\u001b[3;92mTrue\u001b[0m,\n",
       "    \u001b[33merror_handler_config\u001b[0m=\u001b[3;35mNone\u001b[0m\n",
       "\u001b[1m)\u001b[0m"
      ]
     },
     "execution_count": 5,
     "metadata": {},
     "output_type": "execute_result"
    }
   ],
   "source": [
    "us_standard"
   ]
  },
  {
   "cell_type": "raw",
   "metadata": {
    "editable": true,
    "raw_mimetype": "text/restructuredtext",
    "slideshow": {
     "slide_type": ""
    },
    "tags": []
   },
   "source": [
    "Inspection of the ``thermoprops`` attribute returns the thermophysical\n",
    "properties profile corresponding to the *U.S. Standard* profile without\n",
    "additional molecules and interpolated on a regular altitude grid from 0 to 120\n",
    "km with a 1 km step (the original profile is tabulated a slightly coarser and\n",
    "irregular grid) :cite:`Anderson1986AtmosphericConstituentProfiles`."
   ]
  },
  {
   "cell_type": "code",
   "execution_count": 6,
   "metadata": {
    "editable": true,
    "execution": {
     "iopub.execute_input": "2024-05-28T09:39:34.565833Z",
     "iopub.status.busy": "2024-05-28T09:39:34.565729Z",
     "iopub.status.idle": "2024-05-28T09:39:34.582630Z",
     "shell.execute_reply": "2024-05-28T09:39:34.582323Z"
    },
    "slideshow": {
     "slide_type": ""
    },
    "tags": []
   },
   "outputs": [
    {
     "data": {
      "text/html": [
       "<pre style=\"white-space:pre;overflow-x:auto;line-height:normal;font-family:Menlo,'DejaVu Sans Mono',consolas,'Courier New',monospace\"></pre>\n"
      ],
      "text/plain": []
     },
     "metadata": {},
     "output_type": "display_data"
    },
    {
     "data": {
      "text/html": [
       "<div><svg style=\"position: absolute; width: 0; height: 0; overflow: hidden\">\n",
       "<defs>\n",
       "<symbol id=\"icon-database\" viewBox=\"0 0 32 32\">\n",
       "<path d=\"M16 0c-8.837 0-16 2.239-16 5v4c0 2.761 7.163 5 16 5s16-2.239 16-5v-4c0-2.761-7.163-5-16-5z\"></path>\n",
       "<path d=\"M16 17c-8.837 0-16-2.239-16-5v6c0 2.761 7.163 5 16 5s16-2.239 16-5v-6c0 2.761-7.163 5-16 5z\"></path>\n",
       "<path d=\"M16 26c-8.837 0-16-2.239-16-5v6c0 2.761 7.163 5 16 5s16-2.239 16-5v-6c0 2.761-7.163 5-16 5z\"></path>\n",
       "</symbol>\n",
       "<symbol id=\"icon-file-text2\" viewBox=\"0 0 32 32\">\n",
       "<path d=\"M28.681 7.159c-0.694-0.947-1.662-2.053-2.724-3.116s-2.169-2.030-3.116-2.724c-1.612-1.182-2.393-1.319-2.841-1.319h-15.5c-1.378 0-2.5 1.121-2.5 2.5v27c0 1.378 1.122 2.5 2.5 2.5h23c1.378 0 2.5-1.122 2.5-2.5v-19.5c0-0.448-0.137-1.23-1.319-2.841zM24.543 5.457c0.959 0.959 1.712 1.825 2.268 2.543h-4.811v-4.811c0.718 0.556 1.584 1.309 2.543 2.268zM28 29.5c0 0.271-0.229 0.5-0.5 0.5h-23c-0.271 0-0.5-0.229-0.5-0.5v-27c0-0.271 0.229-0.5 0.5-0.5 0 0 15.499-0 15.5 0v7c0 0.552 0.448 1 1 1h7v19.5z\"></path>\n",
       "<path d=\"M23 26h-14c-0.552 0-1-0.448-1-1s0.448-1 1-1h14c0.552 0 1 0.448 1 1s-0.448 1-1 1z\"></path>\n",
       "<path d=\"M23 22h-14c-0.552 0-1-0.448-1-1s0.448-1 1-1h14c0.552 0 1 0.448 1 1s-0.448 1-1 1z\"></path>\n",
       "<path d=\"M23 18h-14c-0.552 0-1-0.448-1-1s0.448-1 1-1h14c0.552 0 1 0.448 1 1s-0.448 1-1 1z\"></path>\n",
       "</symbol>\n",
       "</defs>\n",
       "</svg>\n",
       "<style>/* CSS stylesheet for displaying xarray objects in jupyterlab.\n",
       " *\n",
       " */\n",
       "\n",
       ":root {\n",
       "  --xr-font-color0: var(--jp-content-font-color0, rgba(0, 0, 0, 1));\n",
       "  --xr-font-color2: var(--jp-content-font-color2, rgba(0, 0, 0, 0.54));\n",
       "  --xr-font-color3: var(--jp-content-font-color3, rgba(0, 0, 0, 0.38));\n",
       "  --xr-border-color: var(--jp-border-color2, #e0e0e0);\n",
       "  --xr-disabled-color: var(--jp-layout-color3, #bdbdbd);\n",
       "  --xr-background-color: var(--jp-layout-color0, white);\n",
       "  --xr-background-color-row-even: var(--jp-layout-color1, white);\n",
       "  --xr-background-color-row-odd: var(--jp-layout-color2, #eeeeee);\n",
       "}\n",
       "\n",
       "html[theme=dark],\n",
       "body[data-theme=dark],\n",
       "body.vscode-dark {\n",
       "  --xr-font-color0: rgba(255, 255, 255, 1);\n",
       "  --xr-font-color2: rgba(255, 255, 255, 0.54);\n",
       "  --xr-font-color3: rgba(255, 255, 255, 0.38);\n",
       "  --xr-border-color: #1F1F1F;\n",
       "  --xr-disabled-color: #515151;\n",
       "  --xr-background-color: #111111;\n",
       "  --xr-background-color-row-even: #111111;\n",
       "  --xr-background-color-row-odd: #313131;\n",
       "}\n",
       "\n",
       ".xr-wrap {\n",
       "  display: block !important;\n",
       "  min-width: 300px;\n",
       "  max-width: 700px;\n",
       "}\n",
       "\n",
       ".xr-text-repr-fallback {\n",
       "  /* fallback to plain text repr when CSS is not injected (untrusted notebook) */\n",
       "  display: none;\n",
       "}\n",
       "\n",
       ".xr-header {\n",
       "  padding-top: 6px;\n",
       "  padding-bottom: 6px;\n",
       "  margin-bottom: 4px;\n",
       "  border-bottom: solid 1px var(--xr-border-color);\n",
       "}\n",
       "\n",
       ".xr-header > div,\n",
       ".xr-header > ul {\n",
       "  display: inline;\n",
       "  margin-top: 0;\n",
       "  margin-bottom: 0;\n",
       "}\n",
       "\n",
       ".xr-obj-type,\n",
       ".xr-array-name {\n",
       "  margin-left: 2px;\n",
       "  margin-right: 10px;\n",
       "}\n",
       "\n",
       ".xr-obj-type {\n",
       "  color: var(--xr-font-color2);\n",
       "}\n",
       "\n",
       ".xr-sections {\n",
       "  padding-left: 0 !important;\n",
       "  display: grid;\n",
       "  grid-template-columns: 150px auto auto 1fr 20px 20px;\n",
       "}\n",
       "\n",
       ".xr-section-item {\n",
       "  display: contents;\n",
       "}\n",
       "\n",
       ".xr-section-item input {\n",
       "  display: none;\n",
       "}\n",
       "\n",
       ".xr-section-item input + label {\n",
       "  color: var(--xr-disabled-color);\n",
       "}\n",
       "\n",
       ".xr-section-item input:enabled + label {\n",
       "  cursor: pointer;\n",
       "  color: var(--xr-font-color2);\n",
       "}\n",
       "\n",
       ".xr-section-item input:enabled + label:hover {\n",
       "  color: var(--xr-font-color0);\n",
       "}\n",
       "\n",
       ".xr-section-summary {\n",
       "  grid-column: 1;\n",
       "  color: var(--xr-font-color2);\n",
       "  font-weight: 500;\n",
       "}\n",
       "\n",
       ".xr-section-summary > span {\n",
       "  display: inline-block;\n",
       "  padding-left: 0.5em;\n",
       "}\n",
       "\n",
       ".xr-section-summary-in:disabled + label {\n",
       "  color: var(--xr-font-color2);\n",
       "}\n",
       "\n",
       ".xr-section-summary-in + label:before {\n",
       "  display: inline-block;\n",
       "  content: '►';\n",
       "  font-size: 11px;\n",
       "  width: 15px;\n",
       "  text-align: center;\n",
       "}\n",
       "\n",
       ".xr-section-summary-in:disabled + label:before {\n",
       "  color: var(--xr-disabled-color);\n",
       "}\n",
       "\n",
       ".xr-section-summary-in:checked + label:before {\n",
       "  content: '▼';\n",
       "}\n",
       "\n",
       ".xr-section-summary-in:checked + label > span {\n",
       "  display: none;\n",
       "}\n",
       "\n",
       ".xr-section-summary,\n",
       ".xr-section-inline-details {\n",
       "  padding-top: 4px;\n",
       "  padding-bottom: 4px;\n",
       "}\n",
       "\n",
       ".xr-section-inline-details {\n",
       "  grid-column: 2 / -1;\n",
       "}\n",
       "\n",
       ".xr-section-details {\n",
       "  display: none;\n",
       "  grid-column: 1 / -1;\n",
       "  margin-bottom: 5px;\n",
       "}\n",
       "\n",
       ".xr-section-summary-in:checked ~ .xr-section-details {\n",
       "  display: contents;\n",
       "}\n",
       "\n",
       ".xr-array-wrap {\n",
       "  grid-column: 1 / -1;\n",
       "  display: grid;\n",
       "  grid-template-columns: 20px auto;\n",
       "}\n",
       "\n",
       ".xr-array-wrap > label {\n",
       "  grid-column: 1;\n",
       "  vertical-align: top;\n",
       "}\n",
       "\n",
       ".xr-preview {\n",
       "  color: var(--xr-font-color3);\n",
       "}\n",
       "\n",
       ".xr-array-preview,\n",
       ".xr-array-data {\n",
       "  padding: 0 5px !important;\n",
       "  grid-column: 2;\n",
       "}\n",
       "\n",
       ".xr-array-data,\n",
       ".xr-array-in:checked ~ .xr-array-preview {\n",
       "  display: none;\n",
       "}\n",
       "\n",
       ".xr-array-in:checked ~ .xr-array-data,\n",
       ".xr-array-preview {\n",
       "  display: inline-block;\n",
       "}\n",
       "\n",
       ".xr-dim-list {\n",
       "  display: inline-block !important;\n",
       "  list-style: none;\n",
       "  padding: 0 !important;\n",
       "  margin: 0;\n",
       "}\n",
       "\n",
       ".xr-dim-list li {\n",
       "  display: inline-block;\n",
       "  padding: 0;\n",
       "  margin: 0;\n",
       "}\n",
       "\n",
       ".xr-dim-list:before {\n",
       "  content: '(';\n",
       "}\n",
       "\n",
       ".xr-dim-list:after {\n",
       "  content: ')';\n",
       "}\n",
       "\n",
       ".xr-dim-list li:not(:last-child):after {\n",
       "  content: ',';\n",
       "  padding-right: 5px;\n",
       "}\n",
       "\n",
       ".xr-has-index {\n",
       "  font-weight: bold;\n",
       "}\n",
       "\n",
       ".xr-var-list,\n",
       ".xr-var-item {\n",
       "  display: contents;\n",
       "}\n",
       "\n",
       ".xr-var-item > div,\n",
       ".xr-var-item label,\n",
       ".xr-var-item > .xr-var-name span {\n",
       "  background-color: var(--xr-background-color-row-even);\n",
       "  margin-bottom: 0;\n",
       "}\n",
       "\n",
       ".xr-var-item > .xr-var-name:hover span {\n",
       "  padding-right: 5px;\n",
       "}\n",
       "\n",
       ".xr-var-list > li:nth-child(odd) > div,\n",
       ".xr-var-list > li:nth-child(odd) > label,\n",
       ".xr-var-list > li:nth-child(odd) > .xr-var-name span {\n",
       "  background-color: var(--xr-background-color-row-odd);\n",
       "}\n",
       "\n",
       ".xr-var-name {\n",
       "  grid-column: 1;\n",
       "}\n",
       "\n",
       ".xr-var-dims {\n",
       "  grid-column: 2;\n",
       "}\n",
       "\n",
       ".xr-var-dtype {\n",
       "  grid-column: 3;\n",
       "  text-align: right;\n",
       "  color: var(--xr-font-color2);\n",
       "}\n",
       "\n",
       ".xr-var-preview {\n",
       "  grid-column: 4;\n",
       "}\n",
       "\n",
       ".xr-index-preview {\n",
       "  grid-column: 2 / 5;\n",
       "  color: var(--xr-font-color2);\n",
       "}\n",
       "\n",
       ".xr-var-name,\n",
       ".xr-var-dims,\n",
       ".xr-var-dtype,\n",
       ".xr-preview,\n",
       ".xr-attrs dt {\n",
       "  white-space: nowrap;\n",
       "  overflow: hidden;\n",
       "  text-overflow: ellipsis;\n",
       "  padding-right: 10px;\n",
       "}\n",
       "\n",
       ".xr-var-name:hover,\n",
       ".xr-var-dims:hover,\n",
       ".xr-var-dtype:hover,\n",
       ".xr-attrs dt:hover {\n",
       "  overflow: visible;\n",
       "  width: auto;\n",
       "  z-index: 1;\n",
       "}\n",
       "\n",
       ".xr-var-attrs,\n",
       ".xr-var-data,\n",
       ".xr-index-data {\n",
       "  display: none;\n",
       "  background-color: var(--xr-background-color) !important;\n",
       "  padding-bottom: 5px !important;\n",
       "}\n",
       "\n",
       ".xr-var-attrs-in:checked ~ .xr-var-attrs,\n",
       ".xr-var-data-in:checked ~ .xr-var-data,\n",
       ".xr-index-data-in:checked ~ .xr-index-data {\n",
       "  display: block;\n",
       "}\n",
       "\n",
       ".xr-var-data > table {\n",
       "  float: right;\n",
       "}\n",
       "\n",
       ".xr-var-name span,\n",
       ".xr-var-data,\n",
       ".xr-index-name div,\n",
       ".xr-index-data,\n",
       ".xr-attrs {\n",
       "  padding-left: 25px !important;\n",
       "}\n",
       "\n",
       ".xr-attrs,\n",
       ".xr-var-attrs,\n",
       ".xr-var-data,\n",
       ".xr-index-data {\n",
       "  grid-column: 1 / -1;\n",
       "}\n",
       "\n",
       "dl.xr-attrs {\n",
       "  padding: 0;\n",
       "  margin: 0;\n",
       "  display: grid;\n",
       "  grid-template-columns: 125px auto;\n",
       "}\n",
       "\n",
       ".xr-attrs dt,\n",
       ".xr-attrs dd {\n",
       "  padding: 0;\n",
       "  margin: 0;\n",
       "  float: left;\n",
       "  padding-right: 10px;\n",
       "  width: auto;\n",
       "}\n",
       "\n",
       ".xr-attrs dt {\n",
       "  font-weight: normal;\n",
       "  grid-column: 1;\n",
       "}\n",
       "\n",
       ".xr-attrs dt:hover span {\n",
       "  display: inline-block;\n",
       "  background: var(--xr-background-color);\n",
       "  padding-right: 10px;\n",
       "}\n",
       "\n",
       ".xr-attrs dd {\n",
       "  grid-column: 2;\n",
       "  white-space: pre-wrap;\n",
       "  word-break: break-all;\n",
       "}\n",
       "\n",
       ".xr-icon-database,\n",
       ".xr-icon-file-text2,\n",
       ".xr-no-icon {\n",
       "  display: inline-block;\n",
       "  vertical-align: middle;\n",
       "  width: 1em;\n",
       "  height: 1.5em !important;\n",
       "  stroke-width: 0;\n",
       "  stroke: currentColor;\n",
       "  fill: currentColor;\n",
       "}\n",
       "</style><pre class='xr-text-repr-fallback'>&lt;xarray.Dataset&gt; Size: 11kB\n",
       "Dimensions:  (z: 121)\n",
       "Coordinates:\n",
       "  * z        (z) float64 968B 0.0 1.0 2.0 3.0 4.0 ... 117.0 118.0 119.0 120.0\n",
       "Data variables:\n",
       "    p        (z) float64 968B 1.013e+05 8.988e+04 7.95e+04 ... 0.002834 0.00254\n",
       "    t        (z) float64 968B 288.2 281.7 275.2 268.7 ... 336.0 348.0 360.0\n",
       "    n        (z) float64 968B 2.548e+25 2.313e+25 ... 6.029e+17 5.114e+17\n",
       "    x_H2O    (z) float64 968B 0.00775 0.00607 0.00463 ... 2.08e-07 2e-07\n",
       "    x_O3     (z) float64 968B 2.66e-08 2.93e-08 3.24e-08 ... 1.4e-09 5e-10\n",
       "    x_N2O    (z) float64 968B 3.2e-07 3.2e-07 3.2e-07 ... 1.904e-10 1.85e-10\n",
       "    x_CO     (z) float64 968B 1.5e-07 1.45e-07 1.4e-07 ... 4.83e-05 5e-05\n",
       "    x_CH4    (z) float64 968B 1.7e-06 1.7e-06 1.7e-06 ... 4.2e-08 3.6e-08 3e-08\n",
       "    x_CO2    (z) float64 968B 0.00033 0.00033 0.00033 ... 3.6e-05 3.5e-05\n",
       "    x_O2     (z) float64 968B 0.209 0.209 0.209 0.209 ... 0.0811 0.0768 0.0725\n",
       "Attributes:\n",
       "    Conventions:  CF-1.10\n",
       "    title:        AFGL (1986) us-standard atmosphere thermophysical profile\n",
       "    institution:  Air Force Geophysics Laboratory\n",
       "    source:       Atmospheric model (U.S. Standard Atmosphere) adapted from s...\n",
       "    history:      2024-05-28T09:39:34 - dataset interpolation by joseki, vers...\n",
       "    references:   Anderson, G.P. and Chetwynd J.H. and Clough S.A. and Shettl...\n",
       "    url:          https://archive.org/details/DTIC_ADA175173\n",
       "    urldate:      2022-12-12</pre><div class='xr-wrap' style='display:none'><div class='xr-header'><div class='xr-obj-type'>xarray.Dataset</div></div><ul class='xr-sections'><li class='xr-section-item'><input id='section-ca6eafac-2a75-45f1-90d4-09a604bd96d7' class='xr-section-summary-in' type='checkbox' disabled ><label for='section-ca6eafac-2a75-45f1-90d4-09a604bd96d7' class='xr-section-summary'  title='Expand/collapse section'>Dimensions:</label><div class='xr-section-inline-details'><ul class='xr-dim-list'><li><span class='xr-has-index'>z</span>: 121</li></ul></div><div class='xr-section-details'></div></li><li class='xr-section-item'><input id='section-255a2444-cdb7-450a-920f-218f8ac38b2f' class='xr-section-summary-in' type='checkbox'  checked><label for='section-255a2444-cdb7-450a-920f-218f8ac38b2f' class='xr-section-summary' >Coordinates: <span>(1)</span></label><div class='xr-section-inline-details'></div><div class='xr-section-details'><ul class='xr-var-list'><li class='xr-var-item'><div class='xr-var-name'><span class='xr-has-index'>z</span></div><div class='xr-var-dims'>(z)</div><div class='xr-var-dtype'>float64</div><div class='xr-var-preview xr-preview'>0.0 1.0 2.0 ... 118.0 119.0 120.0</div><input id='attrs-add6ce15-ffd8-4396-99e8-a700db19cdf0' class='xr-var-attrs-in' type='checkbox' ><label for='attrs-add6ce15-ffd8-4396-99e8-a700db19cdf0' title='Show/Hide attributes'><svg class='icon xr-icon-file-text2'><use xlink:href='#icon-file-text2'></use></svg></label><input id='data-bbcc3aca-e278-4b31-bc5b-4e326c69e026' class='xr-var-data-in' type='checkbox'><label for='data-bbcc3aca-e278-4b31-bc5b-4e326c69e026' title='Show/Hide data repr'><svg class='icon xr-icon-database'><use xlink:href='#icon-database'></use></svg></label><div class='xr-var-attrs'><dl class='xr-attrs'><dt><span>standard_name :</span></dt><dd>altitude</dd><dt><span>long_name :</span></dt><dd>altitude</dd><dt><span>units :</span></dt><dd>km</dd></dl></div><div class='xr-var-data'><pre>array([  0.,   1.,   2.,   3.,   4.,   5.,   6.,   7.,   8.,   9.,  10.,  11.,\n",
       "        12.,  13.,  14.,  15.,  16.,  17.,  18.,  19.,  20.,  21.,  22.,  23.,\n",
       "        24.,  25.,  26.,  27.,  28.,  29.,  30.,  31.,  32.,  33.,  34.,  35.,\n",
       "        36.,  37.,  38.,  39.,  40.,  41.,  42.,  43.,  44.,  45.,  46.,  47.,\n",
       "        48.,  49.,  50.,  51.,  52.,  53.,  54.,  55.,  56.,  57.,  58.,  59.,\n",
       "        60.,  61.,  62.,  63.,  64.,  65.,  66.,  67.,  68.,  69.,  70.,  71.,\n",
       "        72.,  73.,  74.,  75.,  76.,  77.,  78.,  79.,  80.,  81.,  82.,  83.,\n",
       "        84.,  85.,  86.,  87.,  88.,  89.,  90.,  91.,  92.,  93.,  94.,  95.,\n",
       "        96.,  97.,  98.,  99., 100., 101., 102., 103., 104., 105., 106., 107.,\n",
       "       108., 109., 110., 111., 112., 113., 114., 115., 116., 117., 118., 119.,\n",
       "       120.])</pre></div></li></ul></div></li><li class='xr-section-item'><input id='section-19e965a9-d961-4c25-8c2c-f5fd7207672e' class='xr-section-summary-in' type='checkbox'  checked><label for='section-19e965a9-d961-4c25-8c2c-f5fd7207672e' class='xr-section-summary' >Data variables: <span>(10)</span></label><div class='xr-section-inline-details'></div><div class='xr-section-details'><ul class='xr-var-list'><li class='xr-var-item'><div class='xr-var-name'><span>p</span></div><div class='xr-var-dims'>(z)</div><div class='xr-var-dtype'>float64</div><div class='xr-var-preview xr-preview'>1.013e+05 8.988e+04 ... 0.00254</div><input id='attrs-b7ed4da9-e205-4bd3-85fa-3cc8afcc07a0' class='xr-var-attrs-in' type='checkbox' ><label for='attrs-b7ed4da9-e205-4bd3-85fa-3cc8afcc07a0' title='Show/Hide attributes'><svg class='icon xr-icon-file-text2'><use xlink:href='#icon-file-text2'></use></svg></label><input id='data-0d1881a1-ac42-4629-973c-0540b2154873' class='xr-var-data-in' type='checkbox'><label for='data-0d1881a1-ac42-4629-973c-0540b2154873' title='Show/Hide data repr'><svg class='icon xr-icon-database'><use xlink:href='#icon-database'></use></svg></label><div class='xr-var-attrs'><dl class='xr-attrs'><dt><span>standard_name :</span></dt><dd>air_pressure</dd><dt><span>long_name :</span></dt><dd>air pressure</dd><dt><span>units :</span></dt><dd>Pa</dd></dl></div><div class='xr-var-data'><pre>array([1.01300e+05, 8.98800e+04, 7.95000e+04, 7.01200e+04, 6.16600e+04,\n",
       "       5.40500e+04, 4.72200e+04, 4.11100e+04, 3.56500e+04, 3.08000e+04,\n",
       "       2.65000e+04, 2.27000e+04, 1.94000e+04, 1.65800e+04, 1.41700e+04,\n",
       "       1.21100e+04, 1.03500e+04, 8.85000e+03, 7.56500e+03, 6.46700e+03,\n",
       "       5.52900e+03, 4.72900e+03, 4.04700e+03, 3.46700e+03, 2.97200e+03,\n",
       "       2.54900e+03, 2.22660e+03, 1.90420e+03, 1.63380e+03, 1.41540e+03,\n",
       "       1.19700e+03, 1.03860e+03, 8.80200e+02, 7.55720e+02, 6.65160e+02,\n",
       "       5.74600e+02, 5.10760e+02, 4.46920e+02, 3.89420e+02, 3.38260e+02,\n",
       "       2.87100e+02, 2.54660e+02, 2.22220e+02, 1.94620e+02, 1.71860e+02,\n",
       "       1.49100e+02, 1.33060e+02, 1.17020e+02, 1.03156e+02, 9.14680e+01,\n",
       "       7.97800e+01, 7.23240e+01, 6.48680e+01, 5.74120e+01, 4.99560e+01,\n",
       "       4.25000e+01, 3.83800e+01, 3.42600e+01, 3.01400e+01, 2.60200e+01,\n",
       "       2.19000e+01, 1.97000e+01, 1.75000e+01, 1.53000e+01, 1.31000e+01,\n",
       "       1.09000e+01, 9.76400e+00, 8.62800e+00, 7.49200e+00, 6.35600e+00,\n",
       "       5.22000e+00, 4.65600e+00, 4.09200e+00, 3.52800e+00, 2.96400e+00,\n",
       "       2.40000e+00, 2.13000e+00, 1.86000e+00, 1.59000e+00, 1.32000e+00,\n",
       "       1.05000e+00, 9.29200e-01, 8.08400e-01, 6.87600e-01, 5.66800e-01,\n",
       "       4.46000e-01, 3.93600e-01, 3.41200e-01, 2.88800e-01, 2.36400e-01,\n",
       "       1.84000e-01, 1.62400e-01, 1.40800e-01, 1.19200e-01, 9.76000e-02,\n",
       "       7.60000e-02, 6.72000e-02, 5.84000e-02, 4.96000e-02, 4.08000e-02,\n",
       "       3.20000e-02, 2.85000e-02, 2.50000e-02, 2.15000e-02, 1.80000e-02,\n",
       "       1.45000e-02, 1.30200e-02, 1.15400e-02, 1.00600e-02, 8.58000e-03,\n",
       "       7.10000e-03, 6.48200e-03, 5.86400e-03, 5.24600e-03, 4.62800e-03,\n",
       "       4.01000e-03, 3.71600e-03, 3.42200e-03, 3.12800e-03, 2.83400e-03,\n",
       "       2.54000e-03])</pre></div></li><li class='xr-var-item'><div class='xr-var-name'><span>t</span></div><div class='xr-var-dims'>(z)</div><div class='xr-var-dtype'>float64</div><div class='xr-var-preview xr-preview'>288.2 281.7 275.2 ... 348.0 360.0</div><input id='attrs-b64784ea-31cc-45ba-bd8b-196211d9a3d2' class='xr-var-attrs-in' type='checkbox' ><label for='attrs-b64784ea-31cc-45ba-bd8b-196211d9a3d2' title='Show/Hide attributes'><svg class='icon xr-icon-file-text2'><use xlink:href='#icon-file-text2'></use></svg></label><input id='data-e2553b73-9415-4c1d-ac6e-b41bc1514cd9' class='xr-var-data-in' type='checkbox'><label for='data-e2553b73-9415-4c1d-ac6e-b41bc1514cd9' title='Show/Hide data repr'><svg class='icon xr-icon-database'><use xlink:href='#icon-database'></use></svg></label><div class='xr-var-attrs'><dl class='xr-attrs'><dt><span>standard_name :</span></dt><dd>air_temperature</dd><dt><span>long_name :</span></dt><dd>air temperature</dd><dt><span>units :</span></dt><dd>K</dd></dl></div><div class='xr-var-data'><pre>array([288.2 , 281.7 , 275.2 , 268.7 , 262.2 , 255.7 , 249.2 , 242.7 ,\n",
       "       236.2 , 229.7 , 223.3 , 216.8 , 216.7 , 216.7 , 216.7 , 216.7 ,\n",
       "       216.7 , 216.7 , 216.7 , 216.7 , 216.7 , 217.6 , 218.6 , 219.6 ,\n",
       "       220.6 , 221.6 , 222.56, 223.52, 224.5 , 225.5 , 226.5 , 227.9 ,\n",
       "       229.3 , 231.3 , 233.9 , 236.5 , 239.06, 241.62, 244.4 , 247.4 ,\n",
       "       250.4 , 253.16, 255.92, 258.68, 261.44, 264.2 , 266.76, 269.32,\n",
       "       270.62, 270.66, 270.7 , 268.72, 266.74, 264.76, 262.78, 260.8 ,\n",
       "       258.04, 255.28, 252.52, 249.76, 247.  , 244.26, 241.52, 238.78,\n",
       "       236.04, 233.3 , 230.56, 227.82, 225.08, 222.34, 219.6 , 217.36,\n",
       "       215.12, 212.88, 210.64, 208.4 , 206.44, 204.48, 202.52, 200.56,\n",
       "       198.6 , 196.66, 194.72, 192.78, 190.84, 188.9 , 188.5 , 188.1 ,\n",
       "       187.7 , 187.3 , 186.9 , 187.2 , 187.5 , 187.8 , 188.1 , 188.4 ,\n",
       "       189.74, 191.08, 192.42, 193.76, 195.1 , 197.84, 200.58, 203.32,\n",
       "       206.06, 208.8 , 215.04, 221.28, 227.52, 233.76, 240.  , 252.  ,\n",
       "       264.  , 276.  , 288.  , 300.  , 312.  , 324.  , 336.  , 348.  ,\n",
       "       360.  ])</pre></div></li><li class='xr-var-item'><div class='xr-var-name'><span>n</span></div><div class='xr-var-dims'>(z)</div><div class='xr-var-dtype'>float64</div><div class='xr-var-preview xr-preview'>2.548e+25 2.313e+25 ... 5.114e+17</div><input id='attrs-5ad09ab6-0521-4a6e-a419-2db0a8a3de8b' class='xr-var-attrs-in' type='checkbox' ><label for='attrs-5ad09ab6-0521-4a6e-a419-2db0a8a3de8b' title='Show/Hide attributes'><svg class='icon xr-icon-file-text2'><use xlink:href='#icon-file-text2'></use></svg></label><input id='data-0aac7a65-41f4-465f-9f0d-16c90105c4e5' class='xr-var-data-in' type='checkbox'><label for='data-0aac7a65-41f4-465f-9f0d-16c90105c4e5' title='Show/Hide data repr'><svg class='icon xr-icon-database'><use xlink:href='#icon-database'></use></svg></label><div class='xr-var-attrs'><dl class='xr-attrs'><dt><span>standard_name :</span></dt><dd>air_number_density</dd><dt><span>long_name :</span></dt><dd>air number density</dd><dt><span>units :</span></dt><dd>m ** -3</dd></dl></div><div class='xr-var-data'><pre>array([2.54800e+25, 2.31300e+25, 2.09400e+25, 1.89100e+25, 1.70400e+25,\n",
       "       1.53200e+25, 1.37300e+25, 1.22800e+25, 1.09400e+25, 9.71900e+24,\n",
       "       8.60200e+24, 7.58900e+24, 6.48900e+24, 5.54600e+24, 4.73900e+24,\n",
       "       4.05000e+24, 3.46200e+24, 2.96000e+24, 2.53000e+24, 2.16300e+24,\n",
       "       1.84900e+24, 1.57500e+24, 1.34200e+24, 1.14400e+24, 9.76500e+23,\n",
       "       8.33700e+23, 7.25820e+23, 6.17940e+23, 5.27800e+23, 4.55400e+23,\n",
       "       3.83000e+23, 3.30760e+23, 2.78520e+23, 2.37140e+23, 2.06620e+23,\n",
       "       1.76100e+23, 1.55180e+23, 1.34260e+23, 1.15660e+23, 9.93800e+22,\n",
       "       8.31000e+22, 7.30720e+22, 6.30440e+22, 5.46040e+22, 4.77520e+22,\n",
       "       4.09000e+22, 3.62200e+22, 3.15400e+22, 2.76320e+22, 2.44960e+22,\n",
       "       2.13600e+22, 1.94500e+22, 1.75400e+22, 1.56300e+22, 1.37200e+22,\n",
       "       1.18100e+22, 1.07332e+22, 9.65640e+21, 8.57960e+21, 7.50280e+21,\n",
       "       6.42600e+21, 5.81800e+21, 5.21000e+21, 4.60200e+21, 3.99400e+21,\n",
       "       3.38600e+21, 3.05340e+21, 2.72080e+21, 2.38820e+21, 2.05560e+21,\n",
       "       1.72300e+21, 1.54534e+21, 1.36768e+21, 1.19002e+21, 1.01236e+21,\n",
       "       8.34700e+20, 7.44400e+20, 6.54100e+20, 5.63800e+20, 4.73500e+20,\n",
       "       3.83200e+20, 3.40780e+20, 2.98360e+20, 2.55940e+20, 2.13520e+20,\n",
       "       1.71100e+20, 1.51152e+20, 1.31204e+20, 1.11256e+20, 9.13080e+19,\n",
       "       7.13600e+19, 6.29360e+19, 5.45120e+19, 4.60880e+19, 3.76640e+19,\n",
       "       2.92400e+19, 2.57700e+19, 2.23000e+19, 1.88300e+19, 1.53600e+19,\n",
       "       1.18900e+19, 1.05186e+19, 9.14720e+18, 7.77580e+18, 6.40440e+18,\n",
       "       5.03300e+18, 4.45520e+18, 3.87740e+18, 3.29960e+18, 2.72180e+18,\n",
       "       2.14400e+18, 1.90896e+18, 1.67392e+18, 1.43888e+18, 1.20384e+18,\n",
       "       9.68800e+17, 8.77320e+17, 7.85840e+17, 6.94360e+17, 6.02880e+17,\n",
       "       5.11400e+17])</pre></div></li><li class='xr-var-item'><div class='xr-var-name'><span>x_H2O</span></div><div class='xr-var-dims'>(z)</div><div class='xr-var-dtype'>float64</div><div class='xr-var-preview xr-preview'>0.00775 0.00607 ... 2.08e-07 2e-07</div><input id='attrs-8e75e97a-da20-43fb-be8d-9a4737fa1edb' class='xr-var-attrs-in' type='checkbox' ><label for='attrs-8e75e97a-da20-43fb-be8d-9a4737fa1edb' title='Show/Hide attributes'><svg class='icon xr-icon-file-text2'><use xlink:href='#icon-file-text2'></use></svg></label><input id='data-31702123-6b83-42cf-80d5-115a2d7cca25' class='xr-var-data-in' type='checkbox'><label for='data-31702123-6b83-42cf-80d5-115a2d7cca25' title='Show/Hide data repr'><svg class='icon xr-icon-database'><use xlink:href='#icon-database'></use></svg></label><div class='xr-var-attrs'><dl class='xr-attrs'><dt><span>standard_name :</span></dt><dd>H2O_mole_fraction</dd><dt><span>long_name :</span></dt><dd>H2O mole fraction</dd><dt><span>units :</span></dt><dd>dimensionless</dd></dl></div><div class='xr-var-data'><pre>array([7.750e-03, 6.070e-03, 4.630e-03, 3.180e-03, 2.160e-03, 1.400e-03,\n",
       "       9.250e-04, 5.720e-04, 3.670e-04, 1.580e-04, 7.000e-05, 3.610e-05,\n",
       "       1.910e-05, 1.090e-05, 5.930e-06, 5.000e-06, 3.950e-06, 3.850e-06,\n",
       "       3.830e-06, 3.850e-06, 3.900e-06, 3.980e-06, 4.070e-06, 4.200e-06,\n",
       "       4.300e-06, 4.430e-06, 4.490e-06, 4.550e-06, 4.610e-06, 4.670e-06,\n",
       "       4.730e-06, 4.766e-06, 4.802e-06, 4.836e-06, 4.868e-06, 4.900e-06,\n",
       "       4.920e-06, 4.940e-06, 4.966e-06, 4.998e-06, 5.030e-06, 5.078e-06,\n",
       "       5.126e-06, 5.166e-06, 5.198e-06, 5.230e-06, 5.238e-06, 5.246e-06,\n",
       "       5.246e-06, 5.238e-06, 5.230e-06, 5.204e-06, 5.178e-06, 5.152e-06,\n",
       "       5.126e-06, 5.100e-06, 5.030e-06, 4.960e-06, 4.890e-06, 4.820e-06,\n",
       "       4.750e-06, 4.640e-06, 4.530e-06, 4.420e-06, 4.310e-06, 4.200e-06,\n",
       "       4.060e-06, 3.920e-06, 3.780e-06, 3.640e-06, 3.500e-06, 3.366e-06,\n",
       "       3.232e-06, 3.098e-06, 2.964e-06, 2.830e-06, 2.674e-06, 2.518e-06,\n",
       "       2.362e-06, 2.206e-06, 2.050e-06, 1.906e-06, 1.762e-06, 1.618e-06,\n",
       "       1.474e-06, 1.330e-06, 1.234e-06, 1.138e-06, 1.042e-06, 9.460e-07,\n",
       "       8.500e-07, 7.880e-07, 7.260e-07, 6.640e-07, 6.020e-07, 5.400e-07,\n",
       "       5.120e-07, 4.840e-07, 4.560e-07, 4.280e-07, 4.000e-07, 3.880e-07,\n",
       "       3.760e-07, 3.640e-07, 3.520e-07, 3.400e-07, 3.280e-07, 3.160e-07,\n",
       "       3.040e-07, 2.920e-07, 2.800e-07, 2.720e-07, 2.640e-07, 2.560e-07,\n",
       "       2.480e-07, 2.400e-07, 2.320e-07, 2.240e-07, 2.160e-07, 2.080e-07,\n",
       "       2.000e-07])</pre></div></li><li class='xr-var-item'><div class='xr-var-name'><span>x_O3</span></div><div class='xr-var-dims'>(z)</div><div class='xr-var-dtype'>float64</div><div class='xr-var-preview xr-preview'>2.66e-08 2.93e-08 ... 1.4e-09 5e-10</div><input id='attrs-1217e585-c593-40ed-a8e2-8f91c3f22e74' class='xr-var-attrs-in' type='checkbox' ><label for='attrs-1217e585-c593-40ed-a8e2-8f91c3f22e74' title='Show/Hide attributes'><svg class='icon xr-icon-file-text2'><use xlink:href='#icon-file-text2'></use></svg></label><input id='data-8a5e4c35-7a03-47f0-9b76-a9a8c29efdc7' class='xr-var-data-in' type='checkbox'><label for='data-8a5e4c35-7a03-47f0-9b76-a9a8c29efdc7' title='Show/Hide data repr'><svg class='icon xr-icon-database'><use xlink:href='#icon-database'></use></svg></label><div class='xr-var-attrs'><dl class='xr-attrs'><dt><span>standard_name :</span></dt><dd>O3_mole_fraction</dd><dt><span>long_name :</span></dt><dd>O3 mole fraction</dd><dt><span>units :</span></dt><dd>dimensionless</dd></dl></div><div class='xr-var-data'><pre>array([2.660e-08, 2.930e-08, 3.240e-08, 3.320e-08, 3.390e-08, 3.770e-08,\n",
       "       4.110e-08, 5.010e-08, 5.970e-08, 9.170e-08, 1.310e-07, 2.150e-07,\n",
       "       3.100e-07, 3.850e-07, 5.030e-07, 6.510e-07, 8.700e-07, 1.190e-06,\n",
       "       1.590e-06, 2.030e-06, 2.580e-06, 3.030e-06, 3.650e-06, 4.170e-06,\n",
       "       4.630e-06, 5.120e-06, 5.392e-06, 5.664e-06, 5.950e-06, 6.250e-06,\n",
       "       6.550e-06, 6.878e-06, 7.206e-06, 7.464e-06, 7.652e-06, 7.840e-06,\n",
       "       7.824e-06, 7.808e-06, 7.700e-06, 7.500e-06, 7.300e-06, 6.860e-06,\n",
       "       6.420e-06, 6.010e-06, 5.630e-06, 5.250e-06, 4.790e-06, 4.330e-06,\n",
       "       3.900e-06, 3.500e-06, 3.100e-06, 2.840e-06, 2.580e-06, 2.320e-06,\n",
       "       2.060e-06, 1.800e-06, 1.660e-06, 1.520e-06, 1.380e-06, 1.240e-06,\n",
       "       1.100e-06, 1.020e-06, 9.400e-07, 8.600e-07, 7.800e-07, 7.000e-07,\n",
       "       6.200e-07, 5.400e-07, 4.600e-07, 3.800e-07, 3.000e-07, 2.900e-07,\n",
       "       2.800e-07, 2.700e-07, 2.600e-07, 2.500e-07, 2.600e-07, 2.700e-07,\n",
       "       2.800e-07, 2.900e-07, 3.000e-07, 3.400e-07, 3.800e-07, 4.200e-07,\n",
       "       4.600e-07, 5.000e-07, 5.400e-07, 5.800e-07, 6.200e-07, 6.600e-07,\n",
       "       7.000e-07, 7.000e-07, 7.000e-07, 7.000e-07, 7.000e-07, 7.000e-07,\n",
       "       6.400e-07, 5.800e-07, 5.200e-07, 4.600e-07, 4.000e-07, 3.600e-07,\n",
       "       3.200e-07, 2.800e-07, 2.400e-07, 2.000e-07, 1.700e-07, 1.400e-07,\n",
       "       1.100e-07, 8.000e-08, 5.000e-08, 4.100e-08, 3.200e-08, 2.300e-08,\n",
       "       1.400e-08, 5.000e-09, 4.100e-09, 3.200e-09, 2.300e-09, 1.400e-09,\n",
       "       5.000e-10])</pre></div></li><li class='xr-var-item'><div class='xr-var-name'><span>x_N2O</span></div><div class='xr-var-dims'>(z)</div><div class='xr-var-dtype'>float64</div><div class='xr-var-preview xr-preview'>3.2e-07 3.2e-07 ... 1.85e-10</div><input id='attrs-f23586a8-5d44-4f8f-9fd6-4ba2cf4fa499' class='xr-var-attrs-in' type='checkbox' ><label for='attrs-f23586a8-5d44-4f8f-9fd6-4ba2cf4fa499' title='Show/Hide attributes'><svg class='icon xr-icon-file-text2'><use xlink:href='#icon-file-text2'></use></svg></label><input id='data-598072b9-b688-4160-a031-a4f07fc0b39d' class='xr-var-data-in' type='checkbox'><label for='data-598072b9-b688-4160-a031-a4f07fc0b39d' title='Show/Hide data repr'><svg class='icon xr-icon-database'><use xlink:href='#icon-database'></use></svg></label><div class='xr-var-attrs'><dl class='xr-attrs'><dt><span>standard_name :</span></dt><dd>N2O_mole_fraction</dd><dt><span>long_name :</span></dt><dd>N2O mole fraction</dd><dt><span>units :</span></dt><dd>dimensionless</dd></dl></div><div class='xr-var-data'><pre>array([3.2000e-07, 3.2000e-07, 3.2000e-07, 3.2000e-07, 3.2000e-07,\n",
       "       3.2000e-07, 3.2000e-07, 3.2000e-07, 3.2000e-07, 3.2000e-07,\n",
       "       3.1800e-07, 3.1400e-07, 3.1000e-07, 3.0500e-07, 3.0000e-07,\n",
       "       2.9400e-07, 2.8800e-07, 2.7800e-07, 2.6700e-07, 2.5300e-07,\n",
       "       2.3700e-07, 2.1900e-07, 2.0500e-07, 1.9700e-07, 1.8800e-07,\n",
       "       1.7600e-07, 1.6920e-07, 1.6240e-07, 1.5560e-07, 1.4880e-07,\n",
       "       1.4200e-07, 1.3200e-07, 1.2200e-07, 1.1216e-07, 1.0248e-07,\n",
       "       9.2800e-08, 8.2440e-08, 7.2080e-08, 6.2540e-08, 5.3820e-08,\n",
       "       4.5100e-08, 3.8060e-08, 3.1020e-08, 2.5180e-08, 2.0540e-08,\n",
       "       1.5900e-08, 1.3292e-08, 1.0684e-08, 8.4540e-09, 6.6020e-09,\n",
       "       4.7500e-09, 4.4000e-09, 4.0500e-09, 3.7000e-09, 3.3500e-09,\n",
       "       3.0000e-09, 2.8140e-09, 2.6280e-09, 2.4420e-09, 2.2560e-09,\n",
       "       2.0700e-09, 1.9580e-09, 1.8460e-09, 1.7340e-09, 1.6220e-09,\n",
       "       1.5100e-09, 1.4380e-09, 1.3660e-09, 1.2940e-09, 1.2220e-09,\n",
       "       1.1500e-09, 1.0978e-09, 1.0456e-09, 9.9340e-10, 9.4120e-10,\n",
       "       8.8900e-10, 8.5240e-10, 8.1580e-10, 7.7920e-10, 7.4260e-10,\n",
       "       7.0600e-10, 6.7920e-10, 6.5240e-10, 6.2560e-10, 5.9880e-10,\n",
       "       5.7200e-10, 5.5180e-10, 5.3160e-10, 5.1140e-10, 4.9120e-10,\n",
       "       4.7100e-10, 4.5540e-10, 4.3980e-10, 4.2420e-10, 4.0860e-10,\n",
       "       3.9300e-10, 3.8080e-10, 3.6860e-10, 3.5640e-10, 3.4420e-10,\n",
       "       3.3200e-10, 3.2240e-10, 3.1280e-10, 3.0320e-10, 2.9360e-10,\n",
       "       2.8400e-10, 2.7600e-10, 2.6800e-10, 2.6000e-10, 2.5200e-10,\n",
       "       2.4400e-10, 2.3760e-10, 2.3120e-10, 2.2480e-10, 2.1840e-10,\n",
       "       2.1200e-10, 2.0660e-10, 2.0120e-10, 1.9580e-10, 1.9040e-10,\n",
       "       1.8500e-10])</pre></div></li><li class='xr-var-item'><div class='xr-var-name'><span>x_CO</span></div><div class='xr-var-dims'>(z)</div><div class='xr-var-dtype'>float64</div><div class='xr-var-preview xr-preview'>1.5e-07 1.45e-07 ... 4.83e-05 5e-05</div><input id='attrs-cee15b5b-9ebc-47f3-aaad-6f953c9749c9' class='xr-var-attrs-in' type='checkbox' ><label for='attrs-cee15b5b-9ebc-47f3-aaad-6f953c9749c9' title='Show/Hide attributes'><svg class='icon xr-icon-file-text2'><use xlink:href='#icon-file-text2'></use></svg></label><input id='data-6730e1bb-773c-43b8-a425-2074dd441c1e' class='xr-var-data-in' type='checkbox'><label for='data-6730e1bb-773c-43b8-a425-2074dd441c1e' title='Show/Hide data repr'><svg class='icon xr-icon-database'><use xlink:href='#icon-database'></use></svg></label><div class='xr-var-attrs'><dl class='xr-attrs'><dt><span>standard_name :</span></dt><dd>CO_mole_fraction</dd><dt><span>long_name :</span></dt><dd>CO mole fraction</dd><dt><span>units :</span></dt><dd>dimensionless</dd></dl></div><div class='xr-var-data'><pre>array([1.5000e-07, 1.4500e-07, 1.4000e-07, 1.3500e-07, 1.3100e-07,\n",
       "       1.3000e-07, 1.2900e-07, 1.2500e-07, 1.1900e-07, 1.0900e-07,\n",
       "       9.9600e-08, 8.9600e-08, 7.8100e-08, 6.3700e-08, 5.0300e-08,\n",
       "       3.9400e-08, 3.0700e-08, 2.4900e-08, 1.9700e-08, 1.5500e-08,\n",
       "       1.3300e-08, 1.2300e-08, 1.2300e-08, 1.3000e-08, 1.4000e-08,\n",
       "       1.5000e-08, 1.5400e-08, 1.5800e-08, 1.6220e-08, 1.6660e-08,\n",
       "       1.7100e-08, 1.7660e-08, 1.8220e-08, 1.8820e-08, 1.9460e-08,\n",
       "       2.0100e-08, 2.0940e-08, 2.1780e-08, 2.2760e-08, 2.3880e-08,\n",
       "       2.5000e-08, 2.6280e-08, 2.7560e-08, 2.9040e-08, 3.0720e-08,\n",
       "       3.2400e-08, 3.4320e-08, 3.6240e-08, 3.8960e-08, 4.2480e-08,\n",
       "       4.6000e-08, 5.0080e-08, 5.4160e-08, 5.8240e-08, 6.2320e-08,\n",
       "       6.6400e-08, 7.4520e-08, 8.2640e-08, 9.0760e-08, 9.8880e-08,\n",
       "       1.0700e-07, 1.2280e-07, 1.3860e-07, 1.5440e-07, 1.7020e-07,\n",
       "       1.8600e-07, 2.1000e-07, 2.3400e-07, 2.5800e-07, 2.8200e-07,\n",
       "       3.0600e-07, 3.7240e-07, 4.3880e-07, 5.0520e-07, 5.7160e-07,\n",
       "       6.3800e-07, 8.1040e-07, 9.8280e-07, 1.1552e-06, 1.3276e-06,\n",
       "       1.5000e-06, 1.8480e-06, 2.1960e-06, 2.5440e-06, 2.8920e-06,\n",
       "       3.2400e-06, 3.7600e-06, 4.2800e-06, 4.8000e-06, 5.3200e-06,\n",
       "       5.8400e-06, 6.6920e-06, 7.5440e-06, 8.3960e-06, 9.2480e-06,\n",
       "       1.0100e-05, 1.1460e-05, 1.2820e-05, 1.4180e-05, 1.5540e-05,\n",
       "       1.6900e-05, 1.8460e-05, 2.0020e-05, 2.1580e-05, 2.3140e-05,\n",
       "       2.4700e-05, 2.6480e-05, 2.8260e-05, 3.0040e-05, 3.1820e-05,\n",
       "       3.3600e-05, 3.5180e-05, 3.6760e-05, 3.8340e-05, 3.9920e-05,\n",
       "       4.1500e-05, 4.3200e-05, 4.4900e-05, 4.6600e-05, 4.8300e-05,\n",
       "       5.0000e-05])</pre></div></li><li class='xr-var-item'><div class='xr-var-name'><span>x_CH4</span></div><div class='xr-var-dims'>(z)</div><div class='xr-var-dtype'>float64</div><div class='xr-var-preview xr-preview'>1.7e-06 1.7e-06 ... 3.6e-08 3e-08</div><input id='attrs-a39a1db8-1736-455f-a0bd-739fc74ac1f3' class='xr-var-attrs-in' type='checkbox' ><label for='attrs-a39a1db8-1736-455f-a0bd-739fc74ac1f3' title='Show/Hide attributes'><svg class='icon xr-icon-file-text2'><use xlink:href='#icon-file-text2'></use></svg></label><input id='data-71bb49ef-ed05-4464-90cd-5ba410a2ce93' class='xr-var-data-in' type='checkbox'><label for='data-71bb49ef-ed05-4464-90cd-5ba410a2ce93' title='Show/Hide data repr'><svg class='icon xr-icon-database'><use xlink:href='#icon-database'></use></svg></label><div class='xr-var-attrs'><dl class='xr-attrs'><dt><span>standard_name :</span></dt><dd>CH4_mole_fraction</dd><dt><span>long_name :</span></dt><dd>CH4 mole fraction</dd><dt><span>units :</span></dt><dd>dimensionless</dd></dl></div><div class='xr-var-data'><pre>array([1.7000e-06, 1.7000e-06, 1.7000e-06, 1.7000e-06, 1.7000e-06,\n",
       "       1.7000e-06, 1.7000e-06, 1.7000e-06, 1.7000e-06, 1.6900e-06,\n",
       "       1.6900e-06, 1.6800e-06, 1.6600e-06, 1.6500e-06, 1.6300e-06,\n",
       "       1.6100e-06, 1.5800e-06, 1.5500e-06, 1.5200e-06, 1.4600e-06,\n",
       "       1.4200e-06, 1.3600e-06, 1.2700e-06, 1.1900e-06, 1.1200e-06,\n",
       "       1.0600e-06, 1.0308e-06, 1.0016e-06, 9.7240e-07, 9.4320e-07,\n",
       "       9.1400e-07, 8.8040e-07, 8.4680e-07, 8.1320e-07, 7.7960e-07,\n",
       "       7.4600e-07, 7.1240e-07, 6.7880e-07, 6.4240e-07, 6.0320e-07,\n",
       "       5.6400e-07, 5.2280e-07, 4.8160e-07, 4.4140e-07, 4.0220e-07,\n",
       "       3.6300e-07, 3.2860e-07, 2.9420e-07, 2.6360e-07, 2.3680e-07,\n",
       "       2.1000e-07, 2.0100e-07, 1.9200e-07, 1.8300e-07, 1.7400e-07,\n",
       "       1.6500e-07, 1.6200e-07, 1.5900e-07, 1.5600e-07, 1.5300e-07,\n",
       "       1.5000e-07, 1.5000e-07, 1.5000e-07, 1.5000e-07, 1.5000e-07,\n",
       "       1.5000e-07, 1.5000e-07, 1.5000e-07, 1.5000e-07, 1.5000e-07,\n",
       "       1.5000e-07, 1.5000e-07, 1.5000e-07, 1.5000e-07, 1.5000e-07,\n",
       "       1.5000e-07, 1.5000e-07, 1.5000e-07, 1.5000e-07, 1.5000e-07,\n",
       "       1.5000e-07, 1.5000e-07, 1.5000e-07, 1.5000e-07, 1.5000e-07,\n",
       "       1.5000e-07, 1.4800e-07, 1.4600e-07, 1.4400e-07, 1.4200e-07,\n",
       "       1.4000e-07, 1.3800e-07, 1.3600e-07, 1.3400e-07, 1.3200e-07,\n",
       "       1.3000e-07, 1.2800e-07, 1.2600e-07, 1.2400e-07, 1.2200e-07,\n",
       "       1.2000e-07, 1.1800e-07, 1.1600e-07, 1.1400e-07, 1.1200e-07,\n",
       "       1.1000e-07, 1.0700e-07, 1.0400e-07, 1.0100e-07, 9.8000e-08,\n",
       "       9.5000e-08, 8.8000e-08, 8.1000e-08, 7.4000e-08, 6.7000e-08,\n",
       "       6.0000e-08, 5.4000e-08, 4.8000e-08, 4.2000e-08, 3.6000e-08,\n",
       "       3.0000e-08])</pre></div></li><li class='xr-var-item'><div class='xr-var-name'><span>x_CO2</span></div><div class='xr-var-dims'>(z)</div><div class='xr-var-dtype'>float64</div><div class='xr-var-preview xr-preview'>0.00033 0.00033 ... 3.6e-05 3.5e-05</div><input id='attrs-93812e21-4425-4be1-9cc3-4e3b7c5d467b' class='xr-var-attrs-in' type='checkbox' ><label for='attrs-93812e21-4425-4be1-9cc3-4e3b7c5d467b' title='Show/Hide attributes'><svg class='icon xr-icon-file-text2'><use xlink:href='#icon-file-text2'></use></svg></label><input id='data-307a06a4-b760-49b9-9ef9-8bcc62724c76' class='xr-var-data-in' type='checkbox'><label for='data-307a06a4-b760-49b9-9ef9-8bcc62724c76' title='Show/Hide data repr'><svg class='icon xr-icon-database'><use xlink:href='#icon-database'></use></svg></label><div class='xr-var-attrs'><dl class='xr-attrs'><dt><span>standard_name :</span></dt><dd>CO2_mole_fraction</dd><dt><span>long_name :</span></dt><dd>CO2 mole fraction</dd><dt><span>units :</span></dt><dd>dimensionless</dd></dl></div><div class='xr-var-data'><pre>array([3.300e-04, 3.300e-04, 3.300e-04, 3.300e-04, 3.300e-04, 3.300e-04,\n",
       "       3.300e-04, 3.300e-04, 3.300e-04, 3.300e-04, 3.300e-04, 3.300e-04,\n",
       "       3.300e-04, 3.300e-04, 3.300e-04, 3.300e-04, 3.300e-04, 3.300e-04,\n",
       "       3.300e-04, 3.300e-04, 3.300e-04, 3.300e-04, 3.300e-04, 3.300e-04,\n",
       "       3.300e-04, 3.300e-04, 3.300e-04, 3.300e-04, 3.300e-04, 3.300e-04,\n",
       "       3.300e-04, 3.300e-04, 3.300e-04, 3.300e-04, 3.300e-04, 3.300e-04,\n",
       "       3.300e-04, 3.300e-04, 3.300e-04, 3.300e-04, 3.300e-04, 3.300e-04,\n",
       "       3.300e-04, 3.300e-04, 3.300e-04, 3.300e-04, 3.300e-04, 3.300e-04,\n",
       "       3.300e-04, 3.300e-04, 3.300e-04, 3.300e-04, 3.300e-04, 3.300e-04,\n",
       "       3.300e-04, 3.300e-04, 3.300e-04, 3.300e-04, 3.300e-04, 3.300e-04,\n",
       "       3.300e-04, 3.300e-04, 3.300e-04, 3.300e-04, 3.300e-04, 3.300e-04,\n",
       "       3.300e-04, 3.300e-04, 3.300e-04, 3.300e-04, 3.300e-04, 3.300e-04,\n",
       "       3.300e-04, 3.300e-04, 3.300e-04, 3.300e-04, 3.296e-04, 3.292e-04,\n",
       "       3.288e-04, 3.284e-04, 3.280e-04, 3.264e-04, 3.248e-04, 3.232e-04,\n",
       "       3.216e-04, 3.200e-04, 3.180e-04, 3.160e-04, 3.140e-04, 3.120e-04,\n",
       "       3.100e-04, 3.020e-04, 2.940e-04, 2.860e-04, 2.780e-04, 2.700e-04,\n",
       "       2.550e-04, 2.400e-04, 2.250e-04, 2.100e-04, 1.950e-04, 1.780e-04,\n",
       "       1.610e-04, 1.440e-04, 1.270e-04, 1.100e-04, 1.000e-04, 9.000e-05,\n",
       "       8.000e-05, 7.000e-05, 6.000e-05, 5.600e-05, 5.200e-05, 4.800e-05,\n",
       "       4.400e-05, 4.000e-05, 3.900e-05, 3.800e-05, 3.700e-05, 3.600e-05,\n",
       "       3.500e-05])</pre></div></li><li class='xr-var-item'><div class='xr-var-name'><span>x_O2</span></div><div class='xr-var-dims'>(z)</div><div class='xr-var-dtype'>float64</div><div class='xr-var-preview xr-preview'>0.209 0.209 0.209 ... 0.0768 0.0725</div><input id='attrs-43976852-b98b-4140-80cb-4556eacf8edb' class='xr-var-attrs-in' type='checkbox' ><label for='attrs-43976852-b98b-4140-80cb-4556eacf8edb' title='Show/Hide attributes'><svg class='icon xr-icon-file-text2'><use xlink:href='#icon-file-text2'></use></svg></label><input id='data-8fd434f6-186b-4509-a80a-0c6638399bd3' class='xr-var-data-in' type='checkbox'><label for='data-8fd434f6-186b-4509-a80a-0c6638399bd3' title='Show/Hide data repr'><svg class='icon xr-icon-database'><use xlink:href='#icon-database'></use></svg></label><div class='xr-var-attrs'><dl class='xr-attrs'><dt><span>standard_name :</span></dt><dd>O2_mole_fraction</dd><dt><span>long_name :</span></dt><dd>O2 mole fraction</dd><dt><span>units :</span></dt><dd>dimensionless</dd></dl></div><div class='xr-var-data'><pre>array([0.209 , 0.209 , 0.209 , 0.209 , 0.209 , 0.209 , 0.209 , 0.209 ,\n",
       "       0.209 , 0.209 , 0.209 , 0.209 , 0.209 , 0.209 , 0.209 , 0.209 ,\n",
       "       0.209 , 0.209 , 0.209 , 0.209 , 0.209 , 0.209 , 0.209 , 0.209 ,\n",
       "       0.209 , 0.209 , 0.209 , 0.209 , 0.209 , 0.209 , 0.209 , 0.209 ,\n",
       "       0.209 , 0.209 , 0.209 , 0.209 , 0.209 , 0.209 , 0.209 , 0.209 ,\n",
       "       0.209 , 0.209 , 0.209 , 0.209 , 0.209 , 0.209 , 0.209 , 0.209 ,\n",
       "       0.209 , 0.209 , 0.209 , 0.209 , 0.209 , 0.209 , 0.209 , 0.209 ,\n",
       "       0.209 , 0.209 , 0.209 , 0.209 , 0.209 , 0.209 , 0.209 , 0.209 ,\n",
       "       0.209 , 0.209 , 0.209 , 0.209 , 0.209 , 0.209 , 0.209 , 0.209 ,\n",
       "       0.209 , 0.209 , 0.209 , 0.209 , 0.209 , 0.209 , 0.209 , 0.209 ,\n",
       "       0.209 , 0.2072, 0.2054, 0.2036, 0.2018, 0.2   , 0.198 , 0.196 ,\n",
       "       0.194 , 0.192 , 0.19  , 0.188 , 0.186 , 0.184 , 0.182 , 0.18  ,\n",
       "       0.176 , 0.172 , 0.168 , 0.164 , 0.16  , 0.156 , 0.152 , 0.148 ,\n",
       "       0.144 , 0.14  , 0.136 , 0.132 , 0.128 , 0.124 , 0.12  , 0.1148,\n",
       "       0.1096, 0.1044, 0.0992, 0.094 , 0.0897, 0.0854, 0.0811, 0.0768,\n",
       "       0.0725])</pre></div></li></ul></div></li><li class='xr-section-item'><input id='section-ef9f8b51-36eb-4d3a-9d57-9eccbc231870' class='xr-section-summary-in' type='checkbox'  ><label for='section-ef9f8b51-36eb-4d3a-9d57-9eccbc231870' class='xr-section-summary' >Indexes: <span>(1)</span></label><div class='xr-section-inline-details'></div><div class='xr-section-details'><ul class='xr-var-list'><li class='xr-var-item'><div class='xr-index-name'><div>z</div></div><div class='xr-index-preview'>PandasIndex</div><div></div><input id='index-e92dbe51-b600-496a-9b61-12c9a023e33f' class='xr-index-data-in' type='checkbox'/><label for='index-e92dbe51-b600-496a-9b61-12c9a023e33f' title='Show/Hide index repr'><svg class='icon xr-icon-database'><use xlink:href='#icon-database'></use></svg></label><div class='xr-index-data'><pre>PandasIndex(Index([  0.0,   1.0,   2.0,   3.0,   4.0,   5.0,   6.0,   7.0,   8.0,   9.0,\n",
       "       ...\n",
       "       111.0, 112.0, 113.0, 114.0, 115.0, 116.0, 117.0, 118.0, 119.0, 120.0],\n",
       "      dtype=&#x27;float64&#x27;, name=&#x27;z&#x27;, length=121))</pre></div></li></ul></div></li><li class='xr-section-item'><input id='section-a99a736b-2b76-4753-9fff-a1c21b601587' class='xr-section-summary-in' type='checkbox'  checked><label for='section-a99a736b-2b76-4753-9fff-a1c21b601587' class='xr-section-summary' >Attributes: <span>(8)</span></label><div class='xr-section-inline-details'></div><div class='xr-section-details'><dl class='xr-attrs'><dt><span>Conventions :</span></dt><dd>CF-1.10</dd><dt><span>title :</span></dt><dd>AFGL (1986) us-standard atmosphere thermophysical profile</dd><dt><span>institution :</span></dt><dd>Air Force Geophysics Laboratory</dd><dt><span>source :</span></dt><dd>Atmospheric model (U.S. Standard Atmosphere) adapted from satellite data and/or dynamical-photochemical analyses.</dd><dt><span>history :</span></dt><dd>2024-05-28T09:39:34 - dataset interpolation by joseki, version 2.6.1.</dd><dt><span>references :</span></dt><dd>Anderson, G.P. and Chetwynd J.H. and Clough S.A. and Shettle E.P. and Kneizys F.X., AFGL Atmospheric Constituent Profiles (0-120km), 1986, Air Force Geophysics Laboratory, AFGL-TR-86-0110, https://ui.adsabs.harvard.edu/abs/1986afgl.rept.....A/abstract</dd><dt><span>url :</span></dt><dd>https://archive.org/details/DTIC_ADA175173</dd><dt><span>urldate :</span></dt><dd>2022-12-12</dd></dl></div></li></ul></div></div>"
      ],
      "text/plain": [
       "\n",
       "\u001b[1m<\u001b[0m\u001b[1;95mxarray.Dataset\u001b[0m\u001b[1m>\u001b[0m Size: 11kB\n",
       "Dimensions:  \u001b[1m(\u001b[0mz: \u001b[1;36m121\u001b[0m\u001b[1m)\u001b[0m\n",
       "Coordinates:\n",
       "  * z        \u001b[1m(\u001b[0mz\u001b[1m)\u001b[0m float64 968B \u001b[1;36m0.0\u001b[0m \u001b[1;36m1.0\u001b[0m \u001b[1;36m2.0\u001b[0m \u001b[1;36m3.0\u001b[0m \u001b[1;36m4.0\u001b[0m \u001b[33m...\u001b[0m \u001b[1;36m117.0\u001b[0m \u001b[1;36m118.0\u001b[0m \u001b[1;36m119.0\u001b[0m \u001b[1;36m120.0\u001b[0m\n",
       "Data variables:\n",
       "    p        \u001b[1m(\u001b[0mz\u001b[1m)\u001b[0m float64 968B \u001b[1;36m1.013e+05\u001b[0m \u001b[1;36m8.988e+04\u001b[0m \u001b[1;36m7.95e+04\u001b[0m \u001b[33m...\u001b[0m \u001b[1;36m0.002834\u001b[0m \u001b[1;36m0.00254\u001b[0m\n",
       "    t        \u001b[1m(\u001b[0mz\u001b[1m)\u001b[0m float64 968B \u001b[1;36m288.2\u001b[0m \u001b[1;36m281.7\u001b[0m \u001b[1;36m275.2\u001b[0m \u001b[1;36m268.7\u001b[0m \u001b[33m...\u001b[0m \u001b[1;36m336.0\u001b[0m \u001b[1;36m348.0\u001b[0m \u001b[1;36m360.0\u001b[0m\n",
       "    n        \u001b[1m(\u001b[0mz\u001b[1m)\u001b[0m float64 968B \u001b[1;36m2.548e+25\u001b[0m \u001b[1;36m2.313e+25\u001b[0m \u001b[33m...\u001b[0m \u001b[1;36m6.029e+17\u001b[0m \u001b[1;36m5.114e+17\u001b[0m\n",
       "    x_H2O    \u001b[1m(\u001b[0mz\u001b[1m)\u001b[0m float64 968B \u001b[1;36m0.00775\u001b[0m \u001b[1;36m0.00607\u001b[0m \u001b[1;36m0.00463\u001b[0m \u001b[33m...\u001b[0m \u001b[1;36m2.08e-07\u001b[0m \u001b[1;36m2e-07\u001b[0m\n",
       "    x_O3     \u001b[1m(\u001b[0mz\u001b[1m)\u001b[0m float64 968B \u001b[1;36m2.66e-08\u001b[0m \u001b[1;36m2.93e-08\u001b[0m \u001b[1;36m3.24e-08\u001b[0m \u001b[33m...\u001b[0m \u001b[1;36m1.4e-09\u001b[0m \u001b[1;36m5e-10\u001b[0m\n",
       "    x_N2O    \u001b[1m(\u001b[0mz\u001b[1m)\u001b[0m float64 968B \u001b[1;36m3.2e-07\u001b[0m \u001b[1;36m3.2e-07\u001b[0m \u001b[1;36m3.2e-07\u001b[0m \u001b[33m...\u001b[0m \u001b[1;36m1.904e-10\u001b[0m \u001b[1;36m1.85e-10\u001b[0m\n",
       "    x_CO     \u001b[1m(\u001b[0mz\u001b[1m)\u001b[0m float64 968B \u001b[1;36m1.5e-07\u001b[0m \u001b[1;36m1.45e-07\u001b[0m \u001b[1;36m1.4e-07\u001b[0m \u001b[33m...\u001b[0m \u001b[1;36m4.83e-05\u001b[0m \u001b[1;36m5e-05\u001b[0m\n",
       "    x_CH4    \u001b[1m(\u001b[0mz\u001b[1m)\u001b[0m float64 968B \u001b[1;36m1.7e-06\u001b[0m \u001b[1;36m1.7e-06\u001b[0m \u001b[1;36m1.7e-06\u001b[0m \u001b[33m...\u001b[0m \u001b[1;36m4.2e-08\u001b[0m \u001b[1;36m3.6e-08\u001b[0m \u001b[1;36m3e-08\u001b[0m\n",
       "    x_CO2    \u001b[1m(\u001b[0mz\u001b[1m)\u001b[0m float64 968B \u001b[1;36m0.00033\u001b[0m \u001b[1;36m0.00033\u001b[0m \u001b[1;36m0.00033\u001b[0m \u001b[33m...\u001b[0m \u001b[1;36m3.6e-05\u001b[0m \u001b[1;36m3.5e-05\u001b[0m\n",
       "    x_O2     \u001b[1m(\u001b[0mz\u001b[1m)\u001b[0m float64 968B \u001b[1;36m0.209\u001b[0m \u001b[1;36m0.209\u001b[0m \u001b[1;36m0.209\u001b[0m \u001b[1;36m0.209\u001b[0m \u001b[33m...\u001b[0m \u001b[1;36m0.0811\u001b[0m \u001b[1;36m0.0768\u001b[0m \u001b[1;36m0.0725\u001b[0m\n",
       "Attributes:\n",
       "    Conventions:  CF-\u001b[1;36m1.10\u001b[0m\n",
       "    title:        AFGL \u001b[1m(\u001b[0m\u001b[1;36m1986\u001b[0m\u001b[1m)\u001b[0m us-standard atmosphere thermophysical profile\n",
       "    institution:  Air Force Geophysics Laboratory\n",
       "    source:       Atmospheric model \u001b[1m(\u001b[0mU.S. Standard Atmosphere\u001b[1m)\u001b[0m adapted from s\u001b[33m...\u001b[0m\n",
       "    history:      \u001b[1;36m2024\u001b[0m-\u001b[1;36m05\u001b[0m-28T\u001b[1;92m09:39:34\u001b[0m - dataset interpolation by joseki, vers\u001b[33m...\u001b[0m\n",
       "    references:   Anderson, G.P. and Chetwynd J.H. and Clough S.A. and Shettl\u001b[33m...\u001b[0m\n",
       "    url:          \u001b[4;94mhttps://archive.org/details/DTIC_ADA175173\u001b[0m\n",
       "    urldate:      \u001b[1;36m2022\u001b[0m-\u001b[1;36m12\u001b[0m-\u001b[1;36m12\u001b[0m"
      ]
     },
     "execution_count": 6,
     "metadata": {},
     "output_type": "execute_result"
    }
   ],
   "source": [
    "us_standard.thermoprops"
   ]
  },
  {
   "cell_type": "markdown",
   "metadata": {},
   "source": [
    "This profile specifies the input thermophysical parameters to the \n",
    "functions computing the atmosphere's radiative properties, notably the volume \n",
    "scattering and absorption coefficients.\n",
    "These radiative properties are computed on the atmosphere's altitude grid under\n",
    "the corresponding thermophysical conditions and together with the atmosphere's \n",
    "spatial extension, they completely describe the participating medium for \n",
    "ray tracing computations."
   ]
  },
  {
   "cell_type": "markdown",
   "metadata": {
    "editable": true,
    "slideshow": {
     "slide_type": ""
    },
    "tags": []
   },
   "source": [
    "Instanciating the `MolecularAtmosphere` class in CKD mode this time:"
   ]
  },
  {
   "cell_type": "code",
   "execution_count": 7,
   "metadata": {
    "editable": true,
    "execution": {
     "iopub.execute_input": "2024-05-28T09:39:34.584096Z",
     "iopub.status.busy": "2024-05-28T09:39:34.583993Z",
     "iopub.status.idle": "2024-05-28T09:39:34.601061Z",
     "shell.execute_reply": "2024-05-28T09:39:34.600681Z"
    },
    "slideshow": {
     "slide_type": ""
    },
    "tags": []
   },
   "outputs": [],
   "source": [
    "eradiate.set_mode(\"ckd\")\n",
    "\n",
    "us_standard = MolecularAtmosphere()"
   ]
  },
  {
   "cell_type": "markdown",
   "metadata": {},
   "source": [
    "## Modifying the thermophysical profile\n",
    "\n",
    "Thermophysical profiles are managed by the joseki library. \n",
    "This library makes available a collection of standard atmospheric profiles in a \n",
    "format convenient for Eradiate. It comes with various functionalities to modify \n",
    "a given profile as well as to compute characteristic quantities of a profile.\n"
   ]
  },
  {
   "cell_type": "markdown",
   "metadata": {
    "editable": true,
    "slideshow": {
     "slide_type": ""
    },
    "tags": []
   },
   "source": [
    "### Setting the standard profile"
   ]
  },
  {
   "cell_type": "markdown",
   "metadata": {},
   "source": [
    "*Joseki* references several standard profiles with identifiers.\n",
    "For example, the *U.S. Standard* atmosphere is associated the identifier\n",
    "`afgl_1986-us_standard`.\n",
    "When setting the `thermoprops` parameter, a specification dictionary may be \n",
    "passed wherein the `identifier` value can be set.\n",
    "For example, the default *U.S. Standard* thermophysical profile is selected \n",
    "with: "
   ]
  },
  {
   "cell_type": "code",
   "execution_count": 8,
   "metadata": {
    "execution": {
     "iopub.execute_input": "2024-05-28T09:39:34.603376Z",
     "iopub.status.busy": "2024-05-28T09:39:34.603072Z",
     "iopub.status.idle": "2024-05-28T09:39:34.625557Z",
     "shell.execute_reply": "2024-05-28T09:39:34.625212Z"
    }
   },
   "outputs": [],
   "source": [
    "us_standard = MolecularAtmosphere(\n",
    "    thermoprops={\n",
    "        \"identifier\": \"afgl_1986-us_standard\",\n",
    "        \"z\": np.linspace(0.0, 120.0, 121) * ureg.km,\n",
    "    },\n",
    ")"
   ]
  },
  {
   "cell_type": "markdown",
   "metadata": {},
   "source": [
    "Use another standard profile by setting identifier to another value, e.g.\n",
    "`\"afgl_1986-midlatitude_summer\"`:"
   ]
  },
  {
   "cell_type": "code",
   "execution_count": 9,
   "metadata": {
    "execution": {
     "iopub.execute_input": "2024-05-28T09:39:34.627247Z",
     "iopub.status.busy": "2024-05-28T09:39:34.627094Z",
     "iopub.status.idle": "2024-05-28T09:39:34.648440Z",
     "shell.execute_reply": "2024-05-28T09:39:34.648109Z"
    }
   },
   "outputs": [],
   "source": [
    "midlatitude_summer = MolecularAtmosphere(\n",
    "    thermoprops={\n",
    "        \"identifier\": \"afgl_1986-midlatitude_summer\",\n",
    "        \"z\": np.linspace(0.0, 120.0, 121) * ureg.km,\n",
    "    },\n",
    ")"
   ]
  },
  {
   "cell_type": "markdown",
   "metadata": {},
   "source": [
    "List all available identifiers with `joseki.identifiers()`."
   ]
  },
  {
   "cell_type": "markdown",
   "metadata": {
    "editable": true,
    "slideshow": {
     "slide_type": ""
    },
    "tags": []
   },
   "source": [
    "### Setting the altitude grid\n",
    "\n",
    "A common profile customization involves changing the altitude grid that the \n",
    "thermophysical profile is discretized on.\n",
    "You can create a high resolution version of the profile by decreasing the\n",
    "altitude step for example:"
   ]
  },
  {
   "cell_type": "code",
   "execution_count": 10,
   "metadata": {
    "editable": true,
    "execution": {
     "iopub.execute_input": "2024-05-28T09:39:34.650089Z",
     "iopub.status.busy": "2024-05-28T09:39:34.649866Z",
     "iopub.status.idle": "2024-05-28T09:39:34.674541Z",
     "shell.execute_reply": "2024-05-28T09:39:34.674205Z"
    },
    "slideshow": {
     "slide_type": ""
    },
    "tags": []
   },
   "outputs": [],
   "source": [
    "us_standard = MolecularAtmosphere(\n",
    "    thermoprops={\n",
    "        \"identifier\": \"afgl_1986-us_standard\",\n",
    "        \"z\": np.linspace(0.0, 120.0, 12001) * ureg.km,  # 10 meter step\n",
    "    },\n",
    ")"
   ]
  },
  {
   "cell_type": "markdown",
   "metadata": {},
   "source": [
    "Alternatively, you can modify the altitude grid so as to truncate the profile \n",
    "from the top:"
   ]
  },
  {
   "cell_type": "code",
   "execution_count": 11,
   "metadata": {
    "editable": true,
    "execution": {
     "iopub.execute_input": "2024-05-28T09:39:34.676054Z",
     "iopub.status.busy": "2024-05-28T09:39:34.675929Z",
     "iopub.status.idle": "2024-05-28T09:39:34.697757Z",
     "shell.execute_reply": "2024-05-28T09:39:34.697410Z"
    },
    "slideshow": {
     "slide_type": ""
    },
    "tags": []
   },
   "outputs": [],
   "source": [
    "us_standard = MolecularAtmosphere(\n",
    "    thermoprops={\n",
    "        \"identifier\": \"afgl_1986-us_standard\",\n",
    "        \"z\": np.linspace(0.0, 50.0, 51) * ureg.km,  # atmosphere now extends up to 50 km\n",
    "    },\n",
    ")"
   ]
  },
  {
   "cell_type": "markdown",
   "metadata": {
    "editable": true,
    "slideshow": {
     "slide_type": ""
    },
    "tags": []
   },
   "source": [
    "### Rescaling\n",
    "\n",
    "Another typical profile modification is to rescale the total \n",
    "amount of specific air constituents, e.g. carbon dioxide.\n",
    "The carbon dioxide mole fraction in the AFGL 1986 standard profiles is almost\n",
    "constant with altitude and equal to 334 parts per million (ppm), i.e. 0.000334.\n",
    "Update the atmospheric carbon dioxide content, to e.g. 400 ppm, as illustrated\n",
    "below:"
   ]
  },
  {
   "cell_type": "code",
   "execution_count": 12,
   "metadata": {
    "execution": {
     "iopub.execute_input": "2024-05-28T09:39:34.699573Z",
     "iopub.status.busy": "2024-05-28T09:39:34.699421Z",
     "iopub.status.idle": "2024-05-28T09:39:34.726537Z",
     "shell.execute_reply": "2024-05-28T09:39:34.726201Z"
    }
   },
   "outputs": [],
   "source": [
    "# First, create the original standard profile:\n",
    "thermoprops = joseki.make(\n",
    "    identifier=\"afgl_1986-us_standard\",\n",
    "    z=np.linspace(0.0, 120.0, 121) * ureg.km,\n",
    ")\n",
    "\n",
    "# Then, rescale it:\n",
    "rescaled = thermoprops.joseki.rescale(\n",
    "    factors={\n",
    "        \"CO2\": 400 / 334,\n",
    "    }\n",
    ")\n",
    "\n",
    "# Finally instanciate the MolecularAtmosphere class with the rescaled\n",
    "# thermophysical profile\n",
    "us_standard = MolecularAtmosphere(\n",
    "    thermoprops=rescaled,\n",
    ")"
   ]
  },
  {
   "cell_type": "markdown",
   "metadata": {},
   "source": [
    "### Additional settings"
   ]
  },
  {
   "cell_type": "markdown",
   "metadata": {},
   "source": [
    "Refer to the [joseki documentation](https://nollety.github.io/joseki) \n",
    "for further details."
   ]
  },
  {
   "cell_type": "markdown",
   "metadata": {
    "editable": true,
    "jp-MarkdownHeadingCollapsed": true,
    "slideshow": {
     "slide_type": ""
    },
    "tags": []
   },
   "source": [
    "## Setting the absorption data "
   ]
  },
  {
   "cell_type": "raw",
   "metadata": {
    "editable": true,
    "raw_mimetype": "text/restructuredtext",
    "slideshow": {
     "slide_type": ""
    },
    "tags": []
   },
   "source": [
    "The ``absorption_data`` parameter accepts multiple input types.\n",
    "Refer to the :class:`.MolecularAtmosphere` API to explore your options.\n",
    "After the :class:`.MolecularAtmosphere` object is built, the attribute\n",
    "``absorption_data`` contains a mapping of absorption dataset and their\n",
    "wavelength range.\n",
    "Special care must be taken that absorption datasets are able to accomodate the\n",
    "range of thermophysical parameters in ``thermoprops``.\n",
    "If you are planning to use absorption datasets shipped with Eradiate, a\n",
    "convenient way to set absorption_data is to use a tuple that contains a\n",
    "dataset codename and the desired working wavelength range.\n",
    "\n",
    "For example, in CKD mode, if you wish to work within the [635, 685] nm:"
   ]
  },
  {
   "cell_type": "code",
   "execution_count": 13,
   "metadata": {
    "editable": true,
    "execution": {
     "iopub.execute_input": "2024-05-28T09:39:34.728291Z",
     "iopub.status.busy": "2024-05-28T09:39:34.728145Z",
     "iopub.status.idle": "2024-05-28T09:39:34.743231Z",
     "shell.execute_reply": "2024-05-28T09:39:34.742912Z"
    },
    "slideshow": {
     "slide_type": ""
    },
    "tags": []
   },
   "outputs": [],
   "source": [
    "eradiate.set_mode(\"ckd\")\n",
    "\n",
    "us_standard = MolecularAtmosphere(\n",
    "    absorption_data=(\"monotropa\", [635.0, 685.0] * ureg.nm)\n",
    ")"
   ]
  },
  {
   "cell_type": "markdown",
   "metadata": {
    "editable": true,
    "slideshow": {
     "slide_type": ""
    },
    "tags": []
   },
   "source": [
    "## Disabling absorption or scattering\n",
    "\n",
    "The absorption or scattering coefficient can be forced to 0 using the \n",
    "`has_absorption` and `has_scattering` switches. The following atmosphere \n",
    "definition has no absorption, only scattering:"
   ]
  },
  {
   "cell_type": "code",
   "execution_count": 14,
   "metadata": {
    "editable": true,
    "execution": {
     "iopub.execute_input": "2024-05-28T09:39:34.744882Z",
     "iopub.status.busy": "2024-05-28T09:39:34.744642Z",
     "iopub.status.idle": "2024-05-28T09:39:34.759293Z",
     "shell.execute_reply": "2024-05-28T09:39:34.758977Z"
    },
    "slideshow": {
     "slide_type": ""
    },
    "tags": []
   },
   "outputs": [],
   "source": [
    "scattering_only_atmosphere = MolecularAtmosphere(\n",
    "    has_absorption=False,\n",
    "    has_scattering=True,\n",
    ")"
   ]
  },
  {
   "cell_type": "raw",
   "metadata": {
    "editable": true,
    "raw_mimetype": "text/restructuredtext",
    "slideshow": {
     "slide_type": ""
    },
    "tags": []
   },
   "source": [
    "----\n",
    "\n",
    "Final words\n",
    "-----------\n",
    "\n",
    "The various customisation options we explored in this tutorial can be used in\n",
    "all the experiments with support for molecular atmospheres.\n",
    "\n",
    "Further reading\n",
    "---------------\n",
    "\n",
    "* :class:`.MolecularAtmosphere`"
   ]
  }
 ],
 "metadata": {
  "kernelspec": {
   "display_name": "Python 3 (ipykernel)",
   "language": "python",
   "name": "python3"
  },
  "language_info": {
   "codemirror_mode": {
    "name": "ipython",
    "version": 3
   },
   "file_extension": ".py",
   "mimetype": "text/x-python",
   "name": "python",
   "nbconvert_exporter": "python",
   "pygments_lexer": "ipython3",
   "version": "3.9.19"
  },
  "vscode": {
   "interpreter": {
    "hash": "c253be652fb9ece473200ce09fc5d1789866a5f6f4c186c260aa8374077b2e13"
   }
  }
 },
 "nbformat": 4,
 "nbformat_minor": 4
}
