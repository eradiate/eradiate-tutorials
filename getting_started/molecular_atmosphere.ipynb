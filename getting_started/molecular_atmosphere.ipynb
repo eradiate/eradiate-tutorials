{
 "cells": [
  {
   "cell_type": "raw",
   "metadata": {
    "raw_mimetype": "text/restructuredtext",
    "tags": []
   },
   "source": [
    "Molecular atmosphere basics\n",
    "===========================\n",
    "\n",
    ".. admonition:: Overview\n",
    "\n",
    "   In this tutorial, we introduce Eradiate's molecular atmosphere simulation features.\n",
    "\n",
    ".. admonition:: Prerequisites\n",
    "\n",
    "   * Ability to run and visualise 1D simulations (see :doc:`eradiate_quickstart`).\n",
    "\n",
    ".. admonition:: What you will learn\n",
    "\n",
    "   * How to configure a standard 1D atmospheric profile.\n",
    "   * How to rescale the atmospheric composition of standard profiles to fit more current data.\n",
    "\n",
    "----"
   ]
  },
  {
   "cell_type": "markdown",
   "metadata": {},
   "source": [
    "## Importing modules"
   ]
  },
  {
   "cell_type": "raw",
   "metadata": {
    "raw_mimetype": "text/restructuredtext",
    "tags": []
   },
   "source": [
    "We start by importing the ``eradiate``, ``numpy`` and ``matplotlib.pyplot`` modules. Additionally, we load the :doc:`Eradiate IPython extension <../howto/better_notebook_experience>` for a smoother notebook experience."
   ]
  },
  {
   "cell_type": "code",
   "execution_count": null,
   "metadata": {},
   "outputs": [],
   "source": [
    "%load_ext eradiate\n",
    "import eradiate\n",
    "import numpy as np\n",
    "import matplotlib.pyplot as plt"
   ]
  },
  {
   "cell_type": "raw",
   "metadata": {
    "raw_mimetype": "text/restructuredtext",
    "tags": []
   },
   "source": [
    "We also import the :class:`~eradiate.scenes.atmosphere.MolecularAtmosphere` class and alias the unit registry for convenience:"
   ]
  },
  {
   "cell_type": "code",
   "execution_count": null,
   "metadata": {},
   "outputs": [],
   "source": [
    "from eradiate.scenes.atmosphere import MolecularAtmosphere\n",
    "from eradiate import unit_registry as ureg"
   ]
  },
  {
   "cell_type": "markdown",
   "metadata": {},
   "source": [
    "We will perform simulations in narrow bands using Eradiate's correlated-*k* distribution mode (`ckd`). There is indeed little point performing monochromatic simulations, at least in this tutorial: running such simulations to compute the signal recorded for a given spectral band is very costly, and the CKD method brings in a significant speed-up."
   ]
  },
  {
   "cell_type": "code",
   "execution_count": null,
   "metadata": {},
   "outputs": [],
   "source": [
    "eradiate.set_mode(\"ckd\")"
   ]
  },
  {
   "cell_type": "markdown",
   "metadata": {},
   "source": [
    "## Creating a standard molecular atmosphere"
   ]
  },
  {
   "cell_type": "raw",
   "metadata": {
    "raw_mimetype": "text/restructuredtext",
    "tags": []
   },
   "source": [
    "The most obvious way to configure a molecular atmospheric profile would be to call the :class:`.MolecularAtmosphere` constructor; however, proper initialisation of standard profiles is supposed to be done using specialised class method constructors. In CKD mode,  the AFGL 1986 reference atmospheres :cite:`Anderson1986AtmosphericConstituentProfiles` are supported and created using the :meth:`.MolecularAtmosphere.afgl_1986` class method:"
   ]
  },
  {
   "cell_type": "code",
   "execution_count": null,
   "metadata": {},
   "outputs": [],
   "source": [
    "us_standard_atmosphere = MolecularAtmosphere.afgl_1986()"
   ]
  },
  {
   "cell_type": "markdown",
   "metadata": {},
   "source": [
    "We just instantiated an molecular atmosphere object with default parameters. It notably uses the \"U.S. Standard\" reference atmospheric profile, default molecular density values and discretises the atmosphere vertically in 120 1 km-thick layers:"
   ]
  },
  {
   "cell_type": "code",
   "execution_count": null,
   "metadata": {},
   "outputs": [],
   "source": [
    "us_standard_atmosphere"
   ]
  },
  {
   "cell_type": "raw",
   "metadata": {
    "raw_mimetype": "text/restructuredtext",
    "tags": []
   },
   "source": [
    "Eradiate supports the 6 AFGL reference atmospheres (see the  :meth:`.MolecularAtmosphere.afgl_1986` API documentation for the complete list). We can visualise the pressure and temperature profiles:"
   ]
  },
  {
   "cell_type": "code",
   "execution_count": null,
   "metadata": {},
   "outputs": [],
   "source": [
    "def show_profile(*atmospheres, labels=None):\n",
    "    from matplotlib.ticker import ScalarFormatter\n",
    "    \n",
    "    if labels is None:\n",
    "        label_iter = iter([None for _ in atmospheres])\n",
    "    else:\n",
    "        label_iter = iter(labels)\n",
    "\n",
    "    fig, axs = plt.subplots(1, 2, sharey=True)\n",
    "    \n",
    "    for atmosphere in atmospheres:\n",
    "        temperature = atmosphere.radprops_profile.thermoprops.t\n",
    "        pressure = atmosphere.radprops_profile.thermoprops.p\n",
    "\n",
    "        with plt.rc_context({\"lines.linestyle\": \":\", \"lines.marker\": \".\"}):\n",
    "            temperature.plot(y=\"z_layer\", ax=axs[0])\n",
    "            pressure.plot(y=\"z_layer\", ax=axs[1], label=next(label_iter))\n",
    "\n",
    "    formatter = ScalarFormatter(useMathText=True)\n",
    "    formatter.set_powerlimits((-3,2))\n",
    "    axs[1].xaxis.set_major_formatter(formatter)\n",
    "    axs[1].set_ylabel(\"\")\n",
    "    \n",
    "    if labels is not None:\n",
    "        fig.legend(\n",
    "        bbox_to_anchor=(1.0, 0.5), \n",
    "        loc=\"center left\", \n",
    "        borderaxespad=0.0,\n",
    "    )\n",
    "\n",
    "    plt.tight_layout()\n",
    "    plt.show()\n",
    "    plt.close()\n",
    "\n",
    "show_profile(us_standard_atmosphere)"
   ]
  },
  {
   "cell_type": "markdown",
   "metadata": {},
   "source": [
    "The reference atmosphere is controlled by the `model` parameter. For instance, the *Midlatitude Summer* reference atmosphere can be obtained with the `midlatitude_summer` value. Let's add it to our plot:"
   ]
  },
  {
   "cell_type": "code",
   "execution_count": null,
   "metadata": {},
   "outputs": [],
   "source": [
    "midlatitude_summer_atmosphere = MolecularAtmosphere.afgl_1986(\n",
    "    model=\"midlatitude_summer\"\n",
    ")\n",
    "show_profile(\n",
    "    us_standard_atmosphere,\n",
    "    midlatitude_summer_atmosphere,\n",
    "    labels=[\"U.S. Standard\", \"Midlatitude Summer\"],\n",
    ")"
   ]
  },
  {
   "cell_type": "markdown",
   "metadata": {},
   "source": [
    "## Changing the altitude grid\n",
    "\n",
    "The altitude grid can be specified manually using the `levels` parameter. To change the number of levels to 26 (25 layers) and have the profile extend between 0 and 100 km, we simply have to write:"
   ]
  },
  {
   "cell_type": "code",
   "execution_count": null,
   "metadata": {},
   "outputs": [],
   "source": [
    "us_standard_atmosphere_custom = MolecularAtmosphere.afgl_1986(\n",
    "    model=\"us_standard\",\n",
    "    levels=np.linspace(0, 100, 26) * ureg.km,\n",
    ")"
   ]
  },
  {
   "cell_type": "code",
   "execution_count": null,
   "metadata": {},
   "outputs": [],
   "source": [
    "show_profile(us_standard_atmosphere_custom)"
   ]
  },
  {
   "cell_type": "markdown",
   "metadata": {},
   "source": [
    "## Rescaling species concentration values\n",
    "\n",
    "Arguably, reference atmospheric profiles are not always appropriate. In particular, the chemical composition of the atmosphere significantly varies as a function of time and location. Eradiate can vary reference profiles by *rescaling* species concentrations to account for the effects of a changing atmospheric composition. This is done using the `concentrations` parameter. The following example varies the U.S. Standard atmosphere by setting:\n",
    "\n",
    "* the column mass density of water vapour to 15 kg / m²,\n",
    "* the volume mixing ratio of CO₂ at sea level to 400 ppm,\n",
    "* the column number density of O₃ to 350 Dobson units."
   ]
  },
  {
   "cell_type": "code",
   "execution_count": null,
   "metadata": {},
   "outputs": [],
   "source": [
    "us_standard_atmosphere_custom = MolecularAtmosphere.afgl_1986(\n",
    "    model=\"us_standard\",\n",
    "    concentrations={\n",
    "        \"H2O\": 15.0 * ureg.kg / ureg.m ** 2,  # column mass density\n",
    "        \"CO2\": 400e-6 * ureg.dimensionless,  # volume mixing fraction at sea level\n",
    "        \"O3\": 350.0 * ureg.dobson_units,  # column number density\n",
    "    },\n",
    ")"
   ]
  },
  {
   "cell_type": "markdown",
   "metadata": {},
   "source": [
    "## Disabling absorption or scattering\n",
    "\n",
    "The absorption or scattering coefficient can be forced to 0 using the `has_absorption` and `has_scattering` switches. The following atmosphere definition has no absorption, only Rayleigh scattering:"
   ]
  },
  {
   "cell_type": "code",
   "execution_count": null,
   "metadata": {},
   "outputs": [],
   "source": [
    "rayleigh_atmosphere = MolecularAtmosphere.afgl_1986(\n",
    "    has_absorption=False, has_scattering=True\n",
    ")"
   ]
  },
  {
   "cell_type": "raw",
   "metadata": {
    "raw_mimetype": "text/restructuredtext",
    "tags": []
   },
   "source": [
    "What about the monochromatic mode?\n",
    "----------------------------------\n",
    "\n",
    "In ``mono`` mode, the AFGL 1986 atmospheric profiles are not supported. We provide instead the simpler *U.S. Standard Atmosphere (1976)* :cite:`NASA1976USStandardAtmosphere`, which lacks many species contributing to radiative processes. This profile is accessed using the :meth:`.MolecularAtmosphere.ussa_1976` class method:"
   ]
  },
  {
   "cell_type": "code",
   "execution_count": null,
   "metadata": {},
   "outputs": [],
   "source": [
    "us76_atmosphere = ertsc.atmosphere.MolecularAtmosphere.ussa_1976()"
   ]
  },
  {
   "cell_type": "markdown",
   "metadata": {},
   "source": [
    "Profile customisation options are similar to those of the AFGL 1986 profiles."
   ]
  },
  {
   "cell_type": "raw",
   "metadata": {
    "raw_mimetype": "text/restructuredtext",
    "tags": []
   },
   "source": [
    "----\n",
    "\n",
    "Final words\n",
    "-----------\n",
    "\n",
    "The various instantiation and customisation options we explored in this tutorial can be used in all the experiments supporting 1D atmospheric profiles.\n",
    "\n",
    "Further reading\n",
    "---------------\n",
    "\n",
    "* :class:`.MolecularAtmosphere`"
   ]
  }
 ],
 "metadata": {
  "kernelspec": {
   "display_name": "Python 3 (ipykernel)",
   "language": "python",
   "name": "python3"
  },
  "language_info": {
   "codemirror_mode": {
    "name": "ipython",
    "version": 3
   },
   "file_extension": ".py",
   "mimetype": "text/x-python",
   "name": "python",
   "nbconvert_exporter": "python",
   "pygments_lexer": "ipython3",
   "version": "3.8.13"
  }
 },
 "nbformat": 4,
 "nbformat_minor": 4
}
