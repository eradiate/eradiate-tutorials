{
 "cells": [
  {
   "cell_type": "raw",
   "id": "88bba736-2c8f-4efa-934d-28549a40f442",
   "metadata": {
    "raw_mimetype": "text/restructuredtext",
    "tags": []
   },
   "source": [
    ".. _tutorial-molecular_atmosphere:"
   ]
  },
  {
   "cell_type": "markdown",
   "id": "9dfa792f-cc30-4e7b-a7a1-758f117f30f0",
   "metadata": {},
   "source": [
    "# Molecular atmosphere"
   ]
  },
  {
   "cell_type": "markdown",
   "id": "7cbb7c98-51c0-4bef-b495-73a63a9afcda",
   "metadata": {},
   "source": [
    "In this tutorial, we show how to create a molecular atmosphere scene element and how to inspect the properties of the objects we create."
   ]
  },
  {
   "cell_type": "code",
   "execution_count": null,
   "id": "3e3eb11a-4cd6-4c8e-a873-7b4f2325da89",
   "metadata": {},
   "outputs": [],
   "source": [
    "# We load the Rich notebook extension for improved object inspection\n",
    "%load_ext rich\n",
    "\n",
    "# We import the top-level Eradiate module and the MolecularAtmosphere class\n",
    "import eradiate\n",
    "from eradiate.scenes.atmosphere import MolecularAtmosphere\n",
    "\n",
    "# We'll use the correlated k-distribution mode\n",
    "eradiate.set_mode(\"ckd\")"
   ]
  },
  {
   "cell_type": "markdown",
   "id": "7cde0ca8-e50a-4b18-9045-55c15c65dd17",
   "metadata": {
    "tags": []
   },
   "source": [
    "## Getting started"
   ]
  },
  {
   "cell_type": "markdown",
   "id": "1b925f4c-546c-4b82-8dce-c983efd91a4f",
   "metadata": {},
   "source": [
    "Create molecular atmosphere objects by instanciating the [MolecularAtmosphere](../rst/reference_api/generated/autosummary/eradiate.scenes.atmosphere.MolecularAtmosphere.rst) class:"
   ]
  },
  {
   "cell_type": "code",
   "execution_count": null,
   "id": "fc03a16c-78e4-4c28-8100-817d417b274e",
   "metadata": {},
   "outputs": [],
   "source": [
    "my_atmosphere = MolecularAtmosphere()"
   ]
  },
  {
   "cell_type": "markdown",
   "id": "11cf299a-df55-424a-afd1-d85feaf75bed",
   "metadata": {},
   "source": [
    "Display the object:"
   ]
  },
  {
   "cell_type": "code",
   "execution_count": null,
   "id": "4d8ea5bb-a016-4e8a-a7b4-d13615091718",
   "metadata": {},
   "outputs": [],
   "source": [
    "my_atmosphere"
   ]
  },
  {
   "cell_type": "markdown",
   "id": "c6a434f4-345c-47eb-8e78-6dac54e78f26",
   "metadata": {},
   "source": [
    "Let us focus here on the most basic attributes, namely ``thermoprops``, ``phase``, ``has_absorption`` and ``has_scattering``.\n",
    "\n",
    "The ``thermoprops`` specify the [atmosphere thermophysical properties](../rst/user_guide/data/atmosphere_thermoprops.rst).\n",
    "By default, the *U.S. Standard Atmosphere, 1976* thermophysical properties are used.\n",
    "\n",
    "The ``phase`` attribute specifies the scattering phase function of the atmosphere.\n",
    "By default, it is set to the Rayleigh phase function.\n",
    "\n",
    "Finally the ``has_absorption`` and ``has_scattering`` attributes are like switches that enable or disable absorption or scattering, respectively, in the atmosphere.\n",
    "By default, they are both set to ``True``.\n",
    "\n",
    "This is the default molecular atmosphere.\n",
    "In the next sections, we will show how to create other types of molecular atmospheres and customise them."
   ]
  },
  {
   "cell_type": "markdown",
   "id": "7baa1c5e-b0e7-46c2-a39a-d8f13b06e75f",
   "metadata": {
    "tags": []
   },
   "source": [
    "## Use pre-defined thermophysical properties and customise them\n",
    "\n",
    "Eradiate comes with pre-defined thermophysical properties data sets.\n"
   ]
  },
  {
   "cell_type": "markdown",
   "id": "5b4ffa01-9de2-48ec-984e-983074721f84",
   "metadata": {
    "tags": []
   },
   "source": [
    "### U.S. Standard Atmosphere, 1976\n",
    "\n",
    "This is the default thermophysical properties.\n",
    "A molecular atmosphere using the *U.S. Standard Atmosphere, 1976* thermophysical properties is created using:"
   ]
  },
  {
   "cell_type": "code",
   "execution_count": null,
   "id": "a451429a-360f-45ef-86b0-ff5b6a9dcd40",
   "metadata": {},
   "outputs": [],
   "source": [
    "my_us76_atmosphere = MolecularAtmosphere.ussa_1976()"
   ]
  },
  {
   "cell_type": "markdown",
   "id": "158438ed-c521-4e29-9717-a4e925cce934",
   "metadata": {},
   "source": [
    "This creates the same molecular atmosphere as the default constructor `MolecularAtmosphere()`.\n",
    "However, it lets us customise a little bit the thermophysical properties, as illustrated below:"
   ]
  },
  {
   "cell_type": "code",
   "execution_count": null,
   "id": "6b86b415-3fa6-4502-a3e1-1d193ccc8c52",
   "metadata": {},
   "outputs": [],
   "source": [
    "import numpy as np\n",
    "from eradiate import unit_registry as ureg\n",
    "\n",
    "my_custom_us76_atmosphere = MolecularAtmosphere.ussa_1976(\n",
    "    levels=np.linspace(0, 32, 33) * ureg.km,\n",
    ")"
   ]
  },
  {
   "cell_type": "markdown",
   "id": "238e56cf-4b8d-4a6a-b5be-43c2618d64ce",
   "metadata": {},
   "source": [
    "In the cell above, we have created an atmosphere with a modified version of the *U.S. Standard Atmosphere, 1976* thermophysical properties.\n",
    "\n",
    "We have set the level altitude grid to a linearly spaced mesh from 0 to 32 km with 33 points, i.e., 32 atmospheric layers.\n",
    "\n",
    "Let us inspect our customised atmosphere:"
   ]
  },
  {
   "cell_type": "code",
   "execution_count": null,
   "id": "4b5b795e-912c-4b79-ad7e-b5bf7d0f5817",
   "metadata": {},
   "outputs": [],
   "source": [
    "my_custom_us76_atmosphere"
   ]
  },
  {
   "cell_type": "markdown",
   "id": "666e6843-ed3d-422d-af37-d78761c1e54e",
   "metadata": {},
   "source": [
    "As expected, our custom atmosphere has a height of 32 km:"
   ]
  },
  {
   "cell_type": "code",
   "execution_count": null,
   "id": "d0f73923-ad5c-431e-a417-a4d0063f752e",
   "metadata": {},
   "outputs": [],
   "source": [
    "my_custom_us76_atmosphere.height.to(\"km\")"
   ]
  },
  {
   "cell_type": "markdown",
   "id": "c09bf4be-5913-451b-8e38-5c4879ae12ae",
   "metadata": {
    "tags": []
   },
   "source": [
    "### AFGL (1986) *reference atmospheres*"
   ]
  },
  {
   "cell_type": "markdown",
   "id": "6b981290-c06f-4dda-9abf-f301a9f9fe9e",
   "metadata": {},
   "source": [
    "The *U.S. Standard Atmosphere, 1976* thermophysical properties are popular but not the most relevant for radiative transfer applications, especially in spectral regions where absorption plays an important role.\n",
    "The six *reference atmospheres* published in the 1986 report *AFGL Atmospheric Constituent Profile (0-120km)* by Anderson et al are more appropriate to radiative transfer applications.\n",
    "\n",
    "Let us create a molecular atmosphere based on the *AFGL (1986) - U.S. Standard* thermophysical properties:"
   ]
  },
  {
   "cell_type": "code",
   "execution_count": null,
   "id": "e2203c68-0b91-4b00-be09-7f982c591bc7",
   "metadata": {},
   "outputs": [],
   "source": [
    "us_standard_atmosphere = MolecularAtmosphere.afgl_1986(model=\"us_standard\")"
   ]
  },
  {
   "cell_type": "markdown",
   "id": "ed842eb4-c7fc-485f-845e-dcfbcdef1c80",
   "metadata": {},
   "source": [
    "We can choose another *reference atmosphere*, e.g. the *Midlatitude Summer reference atmosphere*, using the `model` parameter:"
   ]
  },
  {
   "cell_type": "code",
   "execution_count": null,
   "id": "8e971c37-4e76-462a-9792-dc460db9ca7f",
   "metadata": {},
   "outputs": [],
   "source": [
    "midlatitude_summer_atmosphere = MolecularAtmosphere.afgl_1986(model=\"midlatitude_summer\")"
   ]
  },
  {
   "cell_type": "markdown",
   "id": "418b0d65-395e-4995-bb34-b09b8f46e4ad",
   "metadata": {},
   "source": [
    "We can confirm that the *U.S. Standard Atmosphere, 1976* and *AFGL (1986) - U.S. Standard* thermophysical properties differ in particular with respect to molecular species present in the atmosphere:"
   ]
  },
  {
   "cell_type": "code",
   "execution_count": null,
   "id": "5398420b-d0e3-4be8-8c3d-43ca888984c5",
   "metadata": {},
   "outputs": [],
   "source": [
    "list(my_us76_atmosphere.thermoprops.species.values)"
   ]
  },
  {
   "cell_type": "code",
   "execution_count": null,
   "id": "d8246ecb-3046-4b7a-b5ad-f0157f08ebf6",
   "metadata": {},
   "outputs": [],
   "source": [
    "list(us_standard_atmosphere.thermoprops.species.values)"
   ]
  },
  {
   "cell_type": "markdown",
   "id": "693e0840-6b8d-46a2-92bb-ab6e399264f2",
   "metadata": {},
   "source": [
    "The *U.S. Standard Atmosphere, 1976* focuses on abundant molecular species whereas the *AFGL (1986) - U.S. Standard* focuses on radiatively active molecular species."
   ]
  },
  {
   "cell_type": "markdown",
   "id": "9fa3e7bd-06f4-4c06-945e-d03d6b62fe95",
   "metadata": {},
   "source": [
    "We can customise the AFGL (1986) reference atmospheres using the `levels` and `concentrations` attributes.\n",
    "The `levels` attribute works just the same way as with `MolecularAtmosphere.ussa_1976()`.\n",
    "The `concentrations` attribute accepts a dictionary that maps molecular species and their target concentration in the atmosphere.\n",
    "\n",
    "In the example below, we customise the *AFGL (1986) - U.S. Standard* thermophysical properties so that:\n",
    "\n",
    "* the altitude grid is a linear mesh from 0 to 64 km, with 32 layers (2km-thick each). \n",
    "* the column mass density of water vapor is 15 kg / m^2,\n",
    "* the volume mixing ratio of CO2 at sea level is 400 ppm,\n",
    "* the column number density of O3 is 350 Dobson units:"
   ]
  },
  {
   "cell_type": "code",
   "execution_count": null,
   "id": "743ca153-bc24-4712-850a-d4ba605d8c38",
   "metadata": {},
   "outputs": [],
   "source": [
    "custom_us_standard_atmosphere = MolecularAtmosphere.afgl_1986(\n",
    "    model=\"us_standard\",\n",
    "    levels=np.linspace(0, 64, 33) * ureg.km,\n",
    "    concentrations={\n",
    "        \"H2O\": 15.0 * ureg.kg / ureg.m ** 2,  # column mass density\n",
    "        \"CO2\": 400e-6 * ureg.dimensionless,  # volume mixing fraction at sea level\n",
    "        \"O3\": 350.0 * ureg.dobson_units,  # column number density\n",
    "    }\n",
    ")"
   ]
  },
  {
   "cell_type": "markdown",
   "id": "8b471acb-08a6-40f0-92af-114c9e1e2483",
   "metadata": {
    "tags": []
   },
   "source": [
    "## Enable or disable atmospheric scattering and/or absorption"
   ]
  },
  {
   "cell_type": "markdown",
   "id": "18c71adb-052f-4227-ae03-e5ad0fe93e62",
   "metadata": {},
   "source": [
    "In some situations, it is useful to be able to enable/disable atmospheric scattering or absorption.\n",
    "This is easily achieved using the ``has_absorption`` and ``has_scattering`` attributes:"
   ]
  },
  {
   "cell_type": "code",
   "execution_count": null,
   "id": "4cbf41d9-0ecb-41c3-81d6-ae185e27ada6",
   "metadata": {},
   "outputs": [],
   "source": [
    "non_absorbing_atmosphere = MolecularAtmosphere.afgl_1986(\n",
    "    has_absorption=False,\n",
    "    has_scattering=True,\n",
    ")  # atmosphere scatters but does not absorb light\n",
    "\n",
    "non_scattering_atmosphere = MolecularAtmosphere.afgl_1986(\n",
    "    has_absorption=True,\n",
    "    has_scattering=False,\n",
    ")  # atmosphere absorbs but does not scatter light"
   ]
  },
  {
   "cell_type": "markdown",
   "id": "5d378ebe-a1a9-4ca6-b26e-604f2edc929d",
   "metadata": {},
   "source": [
    "Disabling both at the same time does not make much sense and will raise a ``ValueError``:"
   ]
  },
  {
   "cell_type": "code",
   "execution_count": null,
   "id": "00913904-3634-4d80-aff8-73896cf8145b",
   "metadata": {},
   "outputs": [],
   "source": [
    "MolecularAtmosphere.afgl_1986(\n",
    "    has_scattering=False,\n",
    "    has_absorption=False,\n",
    ")"
   ]
  },
  {
   "cell_type": "code",
   "execution_count": null,
   "id": "b8f338c7-bbaf-4fc3-b2e1-cf7d5dc72e15",
   "metadata": {},
   "outputs": [],
   "source": []
  }
 ],
 "metadata": {
  "kernelspec": {
   "display_name": "Python 3 (ipykernel)",
   "language": "python",
   "name": "python3"
  },
  "language_info": {
   "codemirror_mode": {
    "name": "ipython",
    "version": 3
   },
   "file_extension": ".py",
   "mimetype": "text/x-python",
   "name": "python",
   "nbconvert_exporter": "python",
   "pygments_lexer": "ipython3",
   "version": "3.8.12"
  }
 },
 "nbformat": 4,
 "nbformat_minor": 5
}
